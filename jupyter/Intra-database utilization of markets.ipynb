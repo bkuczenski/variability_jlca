{
 "cells": [
  {
   "cell_type": "code",
   "execution_count": 1,
   "metadata": {
    "collapsed": true
   },
   "outputs": [],
   "source": [
    "from lcatools import enum\n",
    "from antelope_catalog import LcCatalog"
   ]
  },
  {
   "cell_type": "code",
   "execution_count": 2,
   "metadata": {
    "collapsed": false
   },
   "outputs": [
    {
     "name": "stdout",
     "output_type": "stream",
     "text": [
      "Loading JSON data from /data/GitHub/lca-tools/lcatools/qdb/data/flowable_synlist.json:\n",
      "Loading JSON data from /data/GitHub/lca-tools/lcatools/qdb/data/quantity_synlist.json:\n",
      "local.qdb: /data/GitHub/2018/bw2-uncertainty/catalog/reference-quantities.json\n",
      "Loading JSON data from /data/GitHub/2018/bw2-uncertainty/catalog/reference-quantities.json:\n",
      "local.qdb: /data/GitHub/lca-tools/lcatools/providers/data/elcd_reference_quantities.json\n",
      "24 new quantity entities added (24 total)\n",
      "5 new flow entities added (5 total)\n"
     ]
    }
   ],
   "source": [
    "cat = LcCatalog('/data/GitHub/2018/bw2-uncertainty/catalog/')"
   ]
  },
  {
   "cell_type": "code",
   "execution_count": 4,
   "metadata": {
    "collapsed": false
   },
   "outputs": [
    {
     "name": "stdout",
     "output_type": "stream",
     "text": [
      "local.ecoinvent.3.4.apos [basic, index, inventory]\n",
      "local.ecoinvent.3.4.apos.index__20180905 [background, basic, index]\n",
      "local.ecoinvent.3.4.conseq [basic, index, inventory]\n",
      "local.ecoinvent.3.4.cutoff [basic, index, inventory]\n",
      "local.ecoinvent.3.4.cutoff.index__20180905 [background, basic, index]\n",
      "local.lcia.ecoinvent.3.1.2014_08_13 [basic, index, quantity]\n",
      "local.qdb [basic, index, quantity]\n"
     ]
    }
   ],
   "source": [
    "cat.show_interfaces()"
   ]
  },
  {
   "cell_type": "code",
   "execution_count": 5,
   "metadata": {
    "collapsed": true
   },
   "outputs": [],
   "source": [
    "qe = cat.query('local.ecoinvent.3.4.cutoff')"
   ]
  },
  {
   "cell_type": "markdown",
   "metadata": {},
   "source": [
    "### Utilization of truck datasets\n",
    "Here I want to audit the way the Ecoinvent database uses truck transport internally.\n",
    "\n",
    "Approach: \n",
    " 1. Identify all truck transport processes AND markets, call it T\n",
    " 2. For each, identify consumers that are not in T\n",
    " 3. Count 'em up\n",
    " \n",
    " "
   ]
  },
  {
   "cell_type": "code",
   "execution_count": 18,
   "metadata": {
    "collapsed": false
   },
   "outputs": [],
   "source": [
    "# 1- does searching on 'transport, freight, lorry' produce all truck transport processes?\n",
    "t_f_l = [t for t in qe.processes(Classifications='4923')]"
   ]
  },
  {
   "cell_type": "code",
   "execution_count": 19,
   "metadata": {
    "collapsed": false
   },
   "outputs": [
    {
     "data": {
      "text/plain": [
       "150"
      ]
     },
     "execution_count": 19,
     "metadata": {},
     "output_type": "execute_result"
    }
   ],
   "source": [
    "len(t_f_l)"
   ]
  },
  {
   "cell_type": "code",
   "execution_count": 20,
   "metadata": {
    "collapsed": true
   },
   "outputs": [],
   "source": [
    "m_t_f_l = [m for m in t_f_l if m['Name'].startswith('market')]"
   ]
  },
  {
   "cell_type": "code",
   "execution_count": 21,
   "metadata": {
    "collapsed": false
   },
   "outputs": [
    {
     "data": {
      "text/plain": [
       "55"
      ]
     },
     "execution_count": 21,
     "metadata": {},
     "output_type": "execute_result"
    }
   ],
   "source": [
    "len(m_t_f_l)"
   ]
  },
  {
   "cell_type": "code",
   "execution_count": 22,
   "metadata": {
    "collapsed": true
   },
   "outputs": [],
   "source": [
    "u_t_f_l = [u for u in t_f_l if u not in m_t_f_l]"
   ]
  },
  {
   "cell_type": "code",
   "execution_count": 23,
   "metadata": {
    "collapsed": false
   },
   "outputs": [
    {
     "data": {
      "text/plain": [
       "95"
      ]
     },
     "execution_count": 23,
     "metadata": {},
     "output_type": "execute_result"
    }
   ],
   "source": [
    "len(u_t_f_l)"
   ]
  },
  {
   "cell_type": "code",
   "execution_count": 24,
   "metadata": {
    "collapsed": true
   },
   "outputs": [],
   "source": [
    "p = u_t_f_l[0]"
   ]
  },
  {
   "cell_type": "code",
   "execution_count": 25,
   "metadata": {
    "collapsed": false
   },
   "outputs": [
    {
     "name": "stdout",
     "output_type": "stream",
     "text": [
      "ProcessRef catalog reference (0785e6ba-797d-48a3-9bce-32c315d247b0)\n",
      "origin: local.ecoinvent.3.4.cutoff\n",
      "UUID: 0785e6ba-797d-48a3-9bce-32c315d247b0\n",
      "   Name: transport, freight, lorry 16-32 metric ton, EURO6\n",
      "Comment: This dataset represents the service of 1tkm freight transport in a lorry of the size class 16-32 metric tons gross vehicle weight (GVW) and Euro VI emissions class. The transport datasets refer to the entire transport life cycle i.e. to the construction, operation, maintenance and end of life of vehicle and road infrastructures. Fuel consumption and emissions are for average European journeys and load factors and not representative of a specific transport scenario. The average load factors are taken from the Tremove model v2.7b (2009) and EcoTransIT (2011) report. These are as follows:\n",
      "\n",
      "Lorry size class     Average load factor            GVW \n",
      "\n",
      "3.5-7.5t                             0.98t\t                            4.98t \n",
      "7.5-16t                               3.29t                           9.29t     \n",
      "16-32t                                5.79t                         15.79t\n",
      ">32t                                 15.96t                         29.96t\n",
      "\n",
      "The lorry size and load factor determines the GVW and therefore also the fuel consumption and amount of both exhaust and non-exhaust emissions. Non-exhaust emissions are those resulting from tyre, brake and road wear. \n",
      "\n",
      "Fuel consumption and exhaust emissions are taken from v3.1 of the HBEFA model, using the data for Germany and without applying model weighting. There are a higher number of size categories used in HBEFA than in ecoinvent and so the data are grouped in order to fit the lorry size classes used in ecoinvent. The selective catalytic reduction (SCR) technology is around 3 times more common than that of exhaust gas recovery (EGR) as an emissions reduction measure and so the emission factors given in the dataset are weighted to reflect this. The data for the HBEFA categories SCR* and VI* were disregarded. The exhaust emissions caused by the burning of fuel are either fuel dependent (fuel type and quantity) or Euro class dependent. The latter reflect the emission regulations to which the vehicle complies. Regulated emissions are CO, NOx, particulate matter (PM) and total hydrocarbons (HC). Data from the Emissions Inventory Guidebook (EMEP/EEA, 2013) were used for specific exhaust emissions not covered by the HBEFA model. \n",
      "\n",
      "Non-exhaust emissions are accounted for as weight dependent by-products and exist as seperate datasets.\n",
      "\n",
      "For road infrastructure the expenditures and environmental interventions due to construction of roads have been allocated based on the gross tonne kilometer performance. Expenditures due to operation of the road infrastructure, as well as land use have been allocated based on the yearly vehicle kilometer performance. The same assumption on vehicle lifetime performance has been transferred from the ecoinvent v2 datasets of 540 000 km/vehicle. The production, maintenance and disposal of the vehicle are as reported in the ecoinvent (2007) report on transport services. \n",
      "\n",
      "Main data sources:\n",
      "\n",
      "De Ceuster, G., et al. (2009) TREMOVE: Final Report. Model code v2.7b, 2009. European Commission, Brussels.\n",
      "\n",
      "Keller, M. et al. (2010) Handbook emission factors for road transport v3.1, HBEFA. INFRAS, Berne, CH. \n",
      "\n",
      "Knörr, W. et al. (2011) Ecological Transport Information Tool for Worldwide Transports (EcoTransIT): Methodology and data update. Berlin, Hannover, Heidelberg, DE.\n",
      "\n",
      "Ntziachristos, L., et al. (2013) EMEP/EEA air pollutant emissions inventory guidebook 2009: Exhaust emissions from road transport. European Environment Agency, Copenhagen, DK.\n",
      "\n",
      "Spielmann, M., et al. (2007) Transport Services. ecoinvent report No. 14., Swiss Centre for Life Cycle Inventories, Dübendorf, CH.\n",
      "==Local Fields==\n",
      "           Name: transport, freight, lorry 16-32 metric ton, EURO6\n",
      "   SpatialScope: RoW\n",
      "  TemporalScope: {'begin': '2009-01-01', 'end': '2017-12-31'}\n",
      "Classifications: ['EcoSpold01Categories: transport systems/road', 'ISIC rev.4 ecoinvent: 4923:Freight transport by road']\n",
      "        Comment: This dataset represents the service of 1tkm freight transport in a lorry of the size class 16-32 metric tons gross vehicle weight (GVW) and Euro VI emissions class. The transport datasets refer to the entire transport life cycle i.e. to the construction, operation, maintenance and end of life of vehicle and road infrastructures. Fuel consumption and emissions are for average European journeys and load factors and not representative of a specific transport scenario. The average load factors are taken from the Tremove model v2.7b (2009) and EcoTransIT (2011) report. These are as follows:\n",
      "\n",
      "Lorry size class     Average load factor            GVW \n",
      "\n",
      "3.5-7.5t                             0.98t\t                            4.98t \n",
      "7.5-16t                               3.29t                           9.29t     \n",
      "16-32t                                5.79t                         15.79t\n",
      ">32t                                 15.96t                         29.96t\n",
      "\n",
      "The lorry size and load factor determines the GVW and therefore also the fuel consumption and amount of both exhaust and non-exhaust emissions. Non-exhaust emissions are those resulting from tyre, brake and road wear. \n",
      "\n",
      "Fuel consumption and exhaust emissions are taken from v3.1 of the HBEFA model, using the data for Germany and without applying model weighting. There are a higher number of size categories used in HBEFA than in ecoinvent and so the data are grouped in order to fit the lorry size classes used in ecoinvent. The selective catalytic reduction (SCR) technology is around 3 times more common than that of exhaust gas recovery (EGR) as an emissions reduction measure and so the emission factors given in the dataset are weighted to reflect this. The data for the HBEFA categories SCR* and VI* were disregarded. The exhaust emissions caused by the burning of fuel are either fuel dependent (fuel type and quantity) or Euro class dependent. The latter reflect the emission regulations to which the vehicle complies. Regulated emissions are CO, NOx, particulate matter (PM) and total hydrocarbons (HC). Data from the Emissions Inventory Guidebook (EMEP/EEA, 2013) were used for specific exhaust emissions not covered by the HBEFA model. \n",
      "\n",
      "Non-exhaust emissions are accounted for as weight dependent by-products and exist as seperate datasets.\n",
      "\n",
      "For road infrastructure the expenditures and environmental interventions due to construction of roads have been allocated based on the gross tonne kilometer performance. Expenditures due to operation of the road infrastructure, as well as land use have been allocated based on the yearly vehicle kilometer performance. The same assumption on vehicle lifetime performance has been transferred from the ecoinvent v2 datasets of 540 000 km/vehicle. The production, maintenance and disposal of the vehicle are as reported in the ecoinvent (2007) report on transport services. \n",
      "\n",
      "Main data sources:\n",
      "\n",
      "De Ceuster, G., et al. (2009) TREMOVE: Final Report. Model code v2.7b, 2009. European Commission, Brussels.\n",
      "\n",
      "Keller, M. et al. (2010) Handbook emission factors for road transport v3.1, HBEFA. INFRAS, Berne, CH. \n",
      "\n",
      "Knörr, W. et al. (2011) Ecological Transport Information Tool for Worldwide Transports (EcoTransIT): Methodology and data update. Berlin, Hannover, Heidelberg, DE.\n",
      "\n",
      "Ntziachristos, L., et al. (2013) EMEP/EEA air pollutant emissions inventory guidebook 2009: Exhaust emissions from road transport. European Environment Agency, Copenhagen, DK.\n",
      "\n",
      "Spielmann, M., et al. (2007) Transport Services. ecoinvent report No. 14., Swiss Centre for Life Cycle Inventories, Dübendorf, CH.\n"
     ]
    }
   ],
   "source": [
    "p.show()"
   ]
  },
  {
   "cell_type": "code",
   "execution_count": 77,
   "metadata": {
    "collapsed": true
   },
   "outputs": [],
   "source": [
    "all_uses = {p: [t for t in qe.consumers(p.external_ref)] for p in u_t_f_l}"
   ]
  },
  {
   "cell_type": "code",
   "execution_count": 78,
   "metadata": {
    "collapsed": false
   },
   "outputs": [],
   "source": [
    "_non_mkt_int = {p: [t for t in k if t.termination not in t_f_l] for p, k in all_uses.items()}"
   ]
  },
  {
   "cell_type": "code",
   "execution_count": 80,
   "metadata": {
    "collapsed": false
   },
   "outputs": [],
   "source": [
    "non_mkt_uses = {i.external_ref: j for i, j in _non_mkt_int.items() if len(j) > 0}"
   ]
  },
  {
   "cell_type": "code",
   "execution_count": 82,
   "metadata": {
    "collapsed": false
   },
   "outputs": [
    {
     "data": {
      "text/plain": [
       "{'e0c10b7b-38c5-4b6f-9900-d72933c3d3c1': [ProductFlow(origin='local.ecoinvent.3.4.cutoff.index__20180905', flow=<lcatools.entity_refs.flow_ref.FlowRef object at 0x7fe1385f3128>, direction='Output', termination=<lcatools.entity_refs.process_ref.ProcessRef object at 0x7fe117aff6d8>, component_id='00053b25-15e5-498c-bc77-4850ea3475ca')]}"
      ]
     },
     "execution_count": 82,
     "metadata": {},
     "output_type": "execute_result"
    }
   ],
   "source": [
    "# exactly one truck transport process used directly, i.e. not by another truck process\n",
    "non_mkt_uses"
   ]
  },
  {
   "cell_type": "code",
   "execution_count": 83,
   "metadata": {
    "collapsed": false
   },
   "outputs": [
    {
     "name": "stdout",
     "output_type": "stream",
     "text": [
      "ProcessRef catalog reference (058cd712-6a33-423e-a9c8-f9d69389cc07)\n",
      "origin: local.ecoinvent.3.4.cutoff\n",
      "UUID: 058cd712-6a33-423e-a9c8-f9d69389cc07\n",
      "   Name: glass wool mat production, Saint-Gobain ISOVER SA\n",
      "Comment: This dataset is provided by Saint-Gobain ISOVER SA, CH-1522 Lucens and represents a cradle-to-gate inventory of the average production of all glass woll mats in 2009 per kg. The average density of an St. Gobain ISOVER SA glass wool mat is 25.02 kg/m3.\n",
      "The following packaging per m3 is not included: corrugated board, mixed fibre, single wall: 1.66E-03 kg/m3; paper, wood containing, LWC: 1.71E-04 kg/m3: packaging film, LDPE: 2.43E-02 kg/m3; EUR-flat pallet: 3.33E-03 pce/m3\n",
      "More information on the glass wool by St. Gobain ISOVER SA and their technical specifications can be found under http://www.isover.ch/\n",
      "==Local Fields==\n",
      "           Name: glass wool mat production, Saint-Gobain ISOVER SA\n",
      "   SpatialScope: CH\n",
      "  TemporalScope: {'begin': '2009-01-01', 'end': '2017-12-31'}\n",
      "Classifications: ['EcoSpold01Categories: insulation materials/production', 'ISIC rev.4 ecoinvent: 2399:Manufacture of other non-metallic mineral products n.e.c.']\n",
      "        Comment: This dataset is provided by Saint-Gobain ISOVER SA, CH-1522 Lucens and represents a cradle-to-gate inventory of the average production of all glass woll mats in 2009 per kg. The average density of an St. Gobain ISOVER SA glass wool mat is 25.02 kg/m3.\n",
      "The following packaging per m3 is not included: corrugated board, mixed fibre, single wall: 1.66E-03 kg/m3; paper, wood containing, LWC: 1.71E-04 kg/m3: packaging film, LDPE: 2.43E-02 kg/m3; EUR-flat pallet: 3.33E-03 pce/m3\n",
      "More information on the glass wool by St. Gobain ISOVER SA and their technical specifications can be found under http://www.isover.ch/\n"
     ]
    }
   ],
   "source": [
    "# here it is\n",
    "non_mkt_uses['e0c10b7b-38c5-4b6f-9900-d72933c3d3c1'][0].termination.show()"
   ]
  },
  {
   "cell_type": "code",
   "execution_count": 84,
   "metadata": {
    "collapsed": false
   },
   "outputs": [],
   "source": [
    "# now, let's check utilization of the markets themselves\n",
    "all_mkt_supplies = {m: [t for t in qe.consumers(m.external_ref)] for m in m_t_f_l}\n",
    "_non_mkt_mkt = {m: [t for t in k if t.termination not in t_f_l] for m, k in all_mkt_supplies.items()}\n",
    "intra_db_users = {i.external_ref: j for i, j in _non_mkt_mkt.items() if len(j) > 0}"
   ]
  },
  {
   "cell_type": "code",
   "execution_count": 85,
   "metadata": {
    "collapsed": false
   },
   "outputs": [
    {
     "data": {
      "text/plain": [
       "55"
      ]
     },
     "execution_count": 85,
     "metadata": {},
     "output_type": "execute_result"
    }
   ],
   "source": [
    "len(all_mkt_supplies)"
   ]
  },
  {
   "cell_type": "code",
   "execution_count": 87,
   "metadata": {
    "collapsed": false
   },
   "outputs": [
    {
     "data": {
      "text/plain": [
       "14"
      ]
     },
     "execution_count": 87,
     "metadata": {},
     "output_type": "execute_result"
    }
   ],
   "source": [
    "len(intra_db_users)"
   ]
  },
  {
   "cell_type": "code",
   "execution_count": 143,
   "metadata": {
    "collapsed": false
   },
   "outputs": [],
   "source": [
    "sorted_trucks = sorted(((len(k), qe.get(i)) for i, k in intra_db_users.items()), key=lambda x: x[0], reverse=True)"
   ]
  },
  {
   "cell_type": "code",
   "execution_count": 144,
   "metadata": {
    "collapsed": false
   },
   "outputs": [
    {
     "data": {
      "text/plain": [
       "['1902 market for transport, freight, lorry, unspecified [GLO]',\n",
       " ' 480 market for transport, freight, light commercial vehicle [GLO]',\n",
       " ' 282 market for transport, freight, lorry 7.5-16 metric ton, EURO3 [GLO]',\n",
       " '  44 market for transport, freight, lorry with reefer, cooling [GLO]',\n",
       " '  44 market for transport, freight, lorry with refrigeration machine, cooling [GLO]',\n",
       " '  27 market for transport, freight, lorry 16-32 metric ton, EURO5 [GLO]',\n",
       " '  10 market for transport, freight, lorry >32 metric ton, EURO4 [GLO]',\n",
       " '   9 market for transport, freight, lorry 16-32 metric ton, EURO3 [GLO]',\n",
       " '   8 market for transport, freight, lorry 16-32 metric ton, EURO4 [GLO]',\n",
       " '   4 market for transport, freight, lorry 16-32 metric ton, EURO6 [GLO]',\n",
       " '   2 market for transport, freight, lorry 3.5-7.5 metric ton, EURO4 [GLO]',\n",
       " '   2 market for transport, freight, lorry 3.5-7.5 metric ton, EURO5 [GLO]',\n",
       " '   2 market for transport, freight, lorry 3.5-7.5 metric ton, EURO3 [GLO]',\n",
       " '   2 market for transport, freight, lorry 3.5-7.5 metric ton, EURO6 [GLO]']"
      ]
     },
     "execution_count": 144,
     "metadata": {},
     "output_type": "execute_result"
    }
   ],
   "source": [
    "['%4d %s [%s]' % (i, k['Name'], k['SpatialScope']) for i, k in sorted_trucks]"
   ]
  },
  {
   "cell_type": "code",
   "execution_count": 163,
   "metadata": {
    "collapsed": false
   },
   "outputs": [
    {
     "name": "stdout",
     "output_type": "stream",
     "text": [
      " [00] local.ecoinvent.3.4.cutoff/8bfedc32-d1af-449f-b25f-3e651056c84b transport, freight, lorry, all sizes, EURO3 to generic market for transport, freight, lorry, unspecified [RER]\n",
      " [01] local.ecoinvent.3.4.cutoff/b6efa12c-c545-409d-b359-783d3ca18c7b transport, freight, lorry, all sizes, EURO4 to generic market for transport, freight, lorry, unspecified [RER]\n",
      " [02] local.ecoinvent.3.4.cutoff/1e30a190-f561-410b-ab9a-256c9e1cce5f transport, freight, lorry, all sizes, EURO5 to generic market for transport, freight, lorry, unspecified [RER]\n",
      " [03] local.ecoinvent.3.4.cutoff/0884a875-86d6-412a-a22d-4bda41265ea6 transport, freight, lorry, all sizes, EURO6 to generic market for transport, freight, lorry, unspecified [RER]\n",
      " [04] local.ecoinvent.3.4.cutoff/e36de8ae-75c5-4451-bcbd-03826e02d9fa transport, freight, lorry, all sizes, EURO3 to generic market for transport, freight, lorry, unspecified [RoW]\n",
      " [05] local.ecoinvent.3.4.cutoff/4afa1d38-1f91-4283-b744-dd1d71c186bc transport, freight, lorry, all sizes, EURO4 to generic market for transport, freight, lorry, unspecified [RoW]\n",
      " [06] local.ecoinvent.3.4.cutoff/c870651e-6db7-4b20-9708-2095b1fa6bb9 transport, freight, lorry, all sizes, EURO5 to generic market for transport, freight, lorry, unspecified [RoW]\n",
      " [07] local.ecoinvent.3.4.cutoff/105bbadd-5088-4058-94a8-3349195858e6 transport, freight, lorry, all sizes, EURO6 to generic market for transport, freight, lorry, unspecified [RoW]\n",
      " [00] local.ecoinvent.3.4.cutoff/af451b8a-7f67-434c-8e26-e60db3938f16 market for transport, freight, lorry 16-32 metric ton, EURO3 [GLO]\n",
      " [01] local.ecoinvent.3.4.cutoff/781d1f22-1d29-4175-b5b0-6b1539a74536 market for transport, freight, lorry 3.5-7.5 metric ton, EURO3 [GLO]\n",
      " [02] local.ecoinvent.3.4.cutoff/f5bdb936-703d-4abc-b34a-514b2f0f7473 market for transport, freight, lorry 7.5-16 metric ton, EURO3 [GLO]\n",
      " [03] local.ecoinvent.3.4.cutoff/1f2ba0c7-7bbf-4879-b03b-5359da087a19 market for transport, freight, lorry >32 metric ton, EURO3 [GLO]\n"
     ]
    }
   ],
   "source": [
    "ps = sorted_trucks[0][1]\n",
    "\n",
    "suppliers = enum(qe.get(x.termination) for x in ps.inventory(ps.reference()))\n",
    "suppliers1 = enum(qe.get(x.termination) for x in suppliers[0].inventory(suppliers[0].reference()))\n"
   ]
  },
  {
   "cell_type": "code",
   "execution_count": 138,
   "metadata": {
    "collapsed": true
   },
   "outputs": [],
   "source": [
    "from antelope_reports.tables.allocation import AllocationGrid"
   ]
  },
  {
   "cell_type": "code",
   "execution_count": 123,
   "metadata": {
    "collapsed": true
   },
   "outputs": [],
   "source": [
    "import importlib"
   ]
  },
  {
   "cell_type": "code",
   "execution_count": 131,
   "metadata": {
    "collapsed": true
   },
   "outputs": [],
   "source": [
    "import antelope_reports.tables"
   ]
  },
  {
   "cell_type": "code",
   "execution_count": 136,
   "metadata": {
    "collapsed": false
   },
   "outputs": [
    {
     "data": {
      "text/plain": [
       "<module 'antelope_reports.tables.allocation' from '/data/GitHub/lca-tools/antelope_reports/tables/allocation.py'>"
      ]
     },
     "execution_count": 136,
     "metadata": {},
     "output_type": "execute_result"
    }
   ],
   "source": [
    "importlib.reload(antelope_reports.tables.allocation)"
   ]
  },
  {
   "cell_type": "code",
   "execution_count": 154,
   "metadata": {
    "collapsed": false
   },
   "outputs": [
    {
     "name": "stdout",
     "output_type": "stream",
     "text": [
      "ProcessRef catalog reference (78d7c917-01ad-4d85-a268-70e4f47c0381)\n",
      "origin: local.ecoinvent.3.4.cutoff\n",
      "UUID: 78d7c917-01ad-4d85-a268-70e4f47c0381\n",
      "   Name: transport, freight, lorry 7.5-16 metric ton, EURO3\n",
      "Comment: This dataset represents the service of 1tkm freight transport in a lorry of the size class 7.5-16 metric tons gross vehicle weight (GVW) and Euro III emissions class. The transport datasets refer to the entire transport life cycle i.e. to the construction, operation, maintenance and end of life of vehicle and road infrastructures. Fuel consumption and emissions are for average European journeys and load factors and not representative of a specific transport scenario. The average load factors are taken from the Tremove model v2.7b (2009) and EcoTransIT (2011) report. These are as follows:\n",
      "\n",
      "Lorry size class     Average load factor            GVW \n",
      "\n",
      "3.5-7.5t                             0.98t\t                            4.98t \n",
      "7.5-16t                               3.29t                           9.29t     \n",
      "16-32t                                5.79t                         15.79t\n",
      ">32t                                 15.96t                         29.96t\n",
      "\n",
      "The lorry size and load factor determines the GVW and therefore also the fuel consumption and amount of both exhaust and non-exhaust emissions. Non-exhaust emissions are those resulting from tyre, brake and road wear. \n",
      "\n",
      "Fuel consumption and exhaust emissions are taken from v3.1 of the HBEFA model, using the data for Germany and without applying model weighting. There are a higher number of size categories used in HBEFA than in ecoinvent and so the data are grouped in order to fit the lorry size classes used in ecoinvent. The selective catalytic reduction (SCR) technology is around 3 times more common than that of exhaust gas recovery (EGR) as an emissions reduction measure and so the emission factors given in the dataset are weighted to reflect this. The data for the HBEFA categories SCR* and VI* were disregarded. The exhaust emissions caused by the burning of fuel are either fuel dependent (fuel type and quantity) or Euro class dependent. The latter reflect the emission regulations to which the vehicle complies. Regulated emissions are CO, NOx, particulate matter (PM) and total hydrocarbons (HC). Data from the Emissions Inventory Guidebook (EMEP/EEA, 2013) were used for specific exhaust emissions not covered by the HBEFA model. \n",
      "\n",
      "Non-exhaust emissions are accounted for as weight dependent by-products and exist as seperate datasets.\n",
      "\n",
      "For road infrastructure the expenditures and environmental interventions due to construction of roads have been allocated based on the gross tonne kilometer performance. Expenditures due to operation of the road infrastructure, as well as land use have been allocated based on the yearly vehicle kilometer performance. The same assumption on vehicle lifetime performance has been transferred from the ecoinvent v2 datasets of 540 000 km/vehicle. The production, maintenance and disposal of the vehicle are as reported in the ecoinvent (2007) report on transport services. \n",
      "\n",
      "Main data sources:\n",
      "\n",
      "De Ceuster, G., et al. (2009) TREMOVE: Final Report. Model code v2.7b, 2009. European Commission, Brussels.\n",
      "\n",
      "Keller, M. et al. (2010) Handbook emission factors for road transport v3.1, HBEFA. INFRAS, Berne, CH. \n",
      "\n",
      "Knörr, W. et al. (2011) Ecological Transport Information Tool for Worldwide Transports (EcoTransIT): Methodology and data update. Berlin, Hannover, Heidelberg, DE.\n",
      "\n",
      "Ntziachristos, L., et al. (2013) EMEP/EEA air pollutant emissions inventory guidebook 2009: Exhaust emissions from road transport. European Environment Agency, Copenhagen, DK.\n",
      "\n",
      "Spielmann, M., et al. (2007) Transport Services. ecoinvent report No. 14., Swiss Centre for Life Cycle Inventories, Dübendorf, CH.\n",
      "==Local Fields==\n",
      "           Name: transport, freight, lorry 7.5-16 metric ton, EURO3\n",
      "   SpatialScope: RoW\n",
      "  TemporalScope: {'begin': '2009-01-01', 'end': '2017-12-31'}\n",
      "Classifications: ['ISIC rev.4 ecoinvent: 4923:Freight transport by road', 'EcoSpold01Categories: transport systems/road']\n",
      "        Comment: This dataset represents the service of 1tkm freight transport in a lorry of the size class 7.5-16 metric tons gross vehicle weight (GVW) and Euro III emissions class. The transport datasets refer to the entire transport life cycle i.e. to the construction, operation, maintenance and end of life of vehicle and road infrastructures. Fuel consumption and emissions are for average European journeys and load factors and not representative of a specific transport scenario. The average load factors are taken from the Tremove model v2.7b (2009) and EcoTransIT (2011) report. These are as follows:\n",
      "\n",
      "Lorry size class     Average load factor            GVW \n",
      "\n",
      "3.5-7.5t                             0.98t\t                            4.98t \n",
      "7.5-16t                               3.29t                           9.29t     \n",
      "16-32t                                5.79t                         15.79t\n",
      ">32t                                 15.96t                         29.96t\n",
      "\n",
      "The lorry size and load factor determines the GVW and therefore also the fuel consumption and amount of both exhaust and non-exhaust emissions. Non-exhaust emissions are those resulting from tyre, brake and road wear. \n",
      "\n",
      "Fuel consumption and exhaust emissions are taken from v3.1 of the HBEFA model, using the data for Germany and without applying model weighting. There are a higher number of size categories used in HBEFA than in ecoinvent and so the data are grouped in order to fit the lorry size classes used in ecoinvent. The selective catalytic reduction (SCR) technology is around 3 times more common than that of exhaust gas recovery (EGR) as an emissions reduction measure and so the emission factors given in the dataset are weighted to reflect this. The data for the HBEFA categories SCR* and VI* were disregarded. The exhaust emissions caused by the burning of fuel are either fuel dependent (fuel type and quantity) or Euro class dependent. The latter reflect the emission regulations to which the vehicle complies. Regulated emissions are CO, NOx, particulate matter (PM) and total hydrocarbons (HC). Data from the Emissions Inventory Guidebook (EMEP/EEA, 2013) were used for specific exhaust emissions not covered by the HBEFA model. \n",
      "\n",
      "Non-exhaust emissions are accounted for as weight dependent by-products and exist as seperate datasets.\n",
      "\n",
      "For road infrastructure the expenditures and environmental interventions due to construction of roads have been allocated based on the gross tonne kilometer performance. Expenditures due to operation of the road infrastructure, as well as land use have been allocated based on the yearly vehicle kilometer performance. The same assumption on vehicle lifetime performance has been transferred from the ecoinvent v2 datasets of 540 000 km/vehicle. The production, maintenance and disposal of the vehicle are as reported in the ecoinvent (2007) report on transport services. \n",
      "\n",
      "Main data sources:\n",
      "\n",
      "De Ceuster, G., et al. (2009) TREMOVE: Final Report. Model code v2.7b, 2009. European Commission, Brussels.\n",
      "\n",
      "Keller, M. et al. (2010) Handbook emission factors for road transport v3.1, HBEFA. INFRAS, Berne, CH. \n",
      "\n",
      "Knörr, W. et al. (2011) Ecological Transport Information Tool for Worldwide Transports (EcoTransIT): Methodology and data update. Berlin, Hannover, Heidelberg, DE.\n",
      "\n",
      "Ntziachristos, L., et al. (2013) EMEP/EEA air pollutant emissions inventory guidebook 2009: Exhaust emissions from road transport. European Environment Agency, Copenhagen, DK.\n",
      "\n",
      "Spielmann, M., et al. (2007) Transport Services. ecoinvent report No. 14., Swiss Centre for Life Cycle Inventories, Dübendorf, CH.\n"
     ]
    }
   ],
   "source": [
    "suppliers[1].show()"
   ]
  },
  {
   "cell_type": "code",
   "execution_count": 166,
   "metadata": {
    "collapsed": false
   },
   "outputs": [
    {
     "name": "stdout",
     "output_type": "stream",
     "text": [
      " [00] local.ecoinvent.3.4.cutoff/0dfba58f-6ea2-4d5f-9bfc-8fbffa337580 transport, freight, lorry 16-32 metric ton, EURO3 [RER]\n",
      " [01] local.ecoinvent.3.4.cutoff/6b5c2624-62ac-40f8-8145-b66efb4f189f transport, freight, lorry 16-32 metric ton, EURO3 [RoW]\n",
      " [00] local.ecoinvent.3.4.cutoff/7ebc59ca-9062-4643-b467-72db5589c34a transport, freight, lorry 7.5-16 metric ton, EURO3 [RER]\n",
      " [01] local.ecoinvent.3.4.cutoff/78d7c917-01ad-4d85-a268-70e4f47c0381 transport, freight, lorry 7.5-16 metric ton, EURO3 [RoW]\n"
     ]
    }
   ],
   "source": [
    "suppliers2 = enum(qe.get(x.termination) for x in suppliers1[0].inventory(suppliers1[0].reference()))\n",
    "suppliers22 = enum(qe.get(x.termination) for x in suppliers1[2].inventory(suppliers1[2].reference()))"
   ]
  },
  {
   "cell_type": "code",
   "execution_count": 167,
   "metadata": {
    "collapsed": false
   },
   "outputs": [
    {
     "name": "stdout",
     "output_type": "stream",
     "text": [
      "Direction Ref C0         C1         C2         C3                                                               \n",
      "----------------------------------------------------------------------------------------------------------------\n",
      "Output    {*}          1          1                       transport, freight, lorry 16-32 metric ton, EURO3     \n",
      "\"\"        {*}                                1          1 transport, freight, lorry 7.5-16 metric ton, EURO3    \n",
      "Input           -0.00022   -0.00022  -0.000227  -0.000227 [GLO] market for tyre wear emissions, lorry           \n",
      "                  0.0378                0.0481            [RER] market group for diesel, low-sulfur             \n",
      "\"\"                           0.0378                0.0481 [RoW] market for diesel, low-sulfur                   \n",
      "\"\"               3.2e-07    3.2e-07   5.63e-07   5.63e-07 [GLO] market for lorry, 16 metric ton                 \n",
      "\"\"             -2.22e-05  -2.22e-05  -2.29e-05  -2.29e-05 [GLO] market for brake wear emissions, lorry          \n",
      "\"\"               0.00105               0.00109            [CH] market for road                                  \n",
      "                            0.00105               0.00109 [RoW] market for road                                 \n",
      "\"\"             -1.91e-05  -1.91e-05  -1.98e-05  -1.98e-05 [GLO] market for road wear emissions, lorry           \n",
      "\"\"               3.2e-07    3.2e-07   5.63e-07   5.63e-07 [GLO] market for maintenance, lorry 16 metric ton     \n",
      "Output          1.84e-06   1.84e-06   2.04e-06   2.04e-06 Acetaldehyde                                          \n",
      "\"\"              7.12e-07   7.12e-07    7.9e-07    7.9e-07 Acrolein                                              \n",
      "\"\"              5.18e-07   5.18e-07   9.13e-07   9.13e-07 Ammonia                                               \n",
      "\"\"              3.78e-12   3.78e-12   4.81e-12   4.81e-12 Arsenic                                               \n",
      "\"\"              5.51e-07   5.51e-07   6.12e-07   6.12e-07 Benzaldehyde                                          \n",
      "\"\"              2.82e-08   2.82e-08   3.12e-08   3.12e-08 Benzene                                               \n",
      "\"\"              6.03e-08   6.03e-08    6.7e-08    6.7e-08 Butane                                                \n",
      "\"\"              3.29e-10   3.29e-10   4.18e-10   4.18e-10 Cadmium                                               \n",
      "\"\"                 0.119      0.119      0.152      0.152 Carbon dioxide, fossil                                \n",
      "\"\"              0.000192   0.000192   0.000232   0.000232 Carbon monoxide, fossil                               \n",
      "\"\"              1.14e-09   1.14e-09   1.44e-09   1.44e-09 Chromium                                              \n",
      "\"\"              2.27e-12   2.27e-12   2.88e-12   2.88e-12 Chromium VI                                           \n",
      "\"\"              8.02e-10   8.02e-10   1.02e-09   1.02e-09 Copper                                                \n",
      "\"\"              8.32e-07   8.32e-07   1.07e-06   1.07e-06 Dinitrogen monoxide                                   \n",
      "\"\"              1.21e-08   1.21e-08   1.34e-08   1.34e-08 Ethane                                                \n",
      "\"\"              3.38e-06   3.38e-06   3.75e-06   3.75e-06 Formaldehyde                                          \n",
      "\"\"              1.21e-07   1.21e-07   1.34e-07   1.34e-07 Heptane                                               \n",
      "\"\"              1.97e-09   1.97e-09    2.5e-09    2.5e-09 Lead                                                  \n",
      "\"\"              2.01e-10   2.01e-10   2.55e-10   2.55e-10 Mercury                                               \n",
      "\"\"              9.89e-07   9.89e-07   1.07e-06   1.07e-06 Methane, fossil                                       \n",
      "\"\"              3.27e-05   3.27e-05   3.63e-05   3.63e-05 NMVOC, non-methane volatile organic compounds, unspeci\n",
      "\"\"              3.33e-10   3.33e-10   4.23e-10   4.23e-10 Nickel                                                \n",
      "\"\"              0.000946   0.000946    0.00114    0.00114 Nitrogen oxides                                       \n",
      "\"\"              2.96e-09   2.96e-09   3.76e-09   3.76e-09 PAH, polycyclic aromatic hydrocarbons                 \n",
      "\"\"               2.2e-05    2.2e-05   2.29e-05   2.29e-05 Particulates, < 2.5 um                                \n",
      "\"\"              2.41e-08   2.41e-08   2.68e-08   2.68e-08 Pentane                                               \n",
      "\"\"              4.02e-08   4.02e-08   4.46e-08   4.46e-08 Propane                                               \n",
      "\"\"              3.78e-12   3.78e-12   4.81e-12   4.81e-12 Selenium                                              \n",
      "\"\"              2.25e-07   2.25e-07    2.5e-07    2.5e-07 Styrene                                               \n",
      "\"\"              5.86e-07   5.86e-07   7.55e-07   7.55e-07 Sulfur dioxide                                        \n",
      "\"\"              4.02e-09   4.02e-09   4.46e-09   4.46e-09 Toluene                                               \n",
      "\"\"              6.58e-08   6.58e-08   8.36e-08   8.36e-08 Zinc                                                  \n",
      "\"\"              3.94e-07   3.94e-07   4.37e-07   4.37e-07 m-Xylene                                              \n",
      "\"\"              1.61e-07   1.61e-07   1.79e-07   1.79e-07 o-Xylene                                              \n",
      "Direction Ref C0         C1         C2         C3                                                               \n",
      "\n",
      "Columns:\n",
      "C0: local.ecoinvent.3.4.cutoff/0dfba58f-6ea2-4d5f-9bfc-8fbffa337580 transport, freight, lorry 16-32 metric ton, EURO3 [RER]\n",
      "C1: local.ecoinvent.3.4.cutoff/6b5c2624-62ac-40f8-8145-b66efb4f189f transport, freight, lorry 16-32 metric ton, EURO3 [RoW]\n",
      "C2: local.ecoinvent.3.4.cutoff/7ebc59ca-9062-4643-b467-72db5589c34a transport, freight, lorry 7.5-16 metric ton, EURO3 [RER]\n",
      "C3: local.ecoinvent.3.4.cutoff/78d7c917-01ad-4d85-a268-70e4f47c0381 transport, freight, lorry 7.5-16 metric ton, EURO3 [RoW]\n"
     ]
    }
   ],
   "source": [
    "AllocationGrid(cat.get_archive('local.ecoinvent.3.4.cutoff', 'inventory'), *suppliers2, *suppliers22, report_unallocated=False).text()"
   ]
  },
  {
   "cell_type": "code",
   "execution_count": 168,
   "metadata": {
    "collapsed": true
   },
   "outputs": [],
   "source": [
    "from antelope_reports.tables import FlowablesGrid"
   ]
  },
  {
   "cell_type": "code",
   "execution_count": 173,
   "metadata": {
    "collapsed": false
   },
   "outputs": [
    {
     "name": "stdout",
     "output_type": "stream",
     "text": [
      "FlowRef catalog reference (349b29d1-3e58-4c66-98b9-9d1a076efd2e)\n",
      "origin: local.ecoinvent.3.4.cutoff\n",
      "UUID: 349b29d1-3e58-4c66-98b9-9d1a076efd2e\n",
      "   Name: Carbon dioxide, fossil\n",
      "Comment: EcoSpold02 Flow\n",
      "==Local Fields==\n",
      "       Name: Carbon dioxide, fossil\n",
      "  CasNumber: 000124-38-9\n",
      "Compartment: ['air', 'unspecified']\n",
      "    Comment: EcoSpold02 Flow\n"
     ]
    }
   ],
   "source": [
    "qe.get('349b29d1-3e58-4c66-98b9-9d1a076efd2e').show()"
   ]
  },
  {
   "cell_type": "code",
   "execution_count": 171,
   "metadata": {
    "collapsed": false
   },
   "outputs": [
    {
     "name": "stdout",
     "output_type": "stream",
     "text": [
      "Flowable                 Compartment              C0                                                            \n",
      "----------------------------------------------------------------------------------------------------------------\n",
      "000050-00-0              air                        3.38e-06 [kg] formaldehyde                                  \n",
      "000071-43-2              \"\"                         2.82e-08 [kg] benzene                                       \n",
      "000074-82-8              \"\"                         9.89e-07 [kg] methane                                       \n",
      "000074-84-0              \"\"                         1.21e-08 [kg] ethane                                        \n",
      "000074-98-6              \"\"                         4.02e-08 [kg] propane                                       \n",
      "000075-07-0              \"\"                         1.84e-06 [kg] acetaldehyde                                  \n",
      "000095-47-6              \"\"                         1.61e-07 [kg] o-xylene                                      \n",
      "000100-42-5              \"\"                         2.25e-07 [kg] styrene                                       \n",
      "000100-52-7              \"\"                         5.51e-07 [kg] benzaldehyde                                  \n",
      "000106-97-8              \"\"                         6.03e-08 [kg] n-butane                                      \n",
      "000107-02-8              \"\"                         7.12e-07 [kg] acrolein                                      \n",
      "000108-38-3              \"\"                         3.94e-07 [kg] m-xylene                                      \n",
      "000108-88-3              \"\"                         4.02e-09 [kg] toluene                                       \n",
      "000109-66-0              \"\"                         2.41e-08 [kg] n-pentane                                     \n",
      "000124-38-9              \"\"                            0.119 [kg] carbon dioxide                                \n",
      "000142-82-5              \"\"                         1.21e-07 [kg] n-heptane                                     \n",
      "000630-08-0              \"\"                         0.000192 [kg] carbon monoxide                               \n",
      "007440-38-2              \"\"                         3.78e-12 [kg] 7440-38-2                                     \n",
      "007446-09-5              \"\"                         5.86e-07 [kg] sulfur dioxide                                \n",
      "007664-41-7              \"\"                         5.18e-07 [kg] ammonia                                       \n",
      "010024-97-2              \"\"                         8.32e-07 [kg] nitrous oxide                                 \n",
      "NMVOC, non-methane volat \"\"                         3.27e-05 [kg] NMVOC, non-methane volatile organic compounds,\n",
      "PAH, polycyclic aromatic \"\"                         2.96e-09 [kg] PAH, polycyclic aromatic hydrocarbons         \n",
      "brake wear emissions, lo CPC: 49129: Other parts   -2.22e-05 [kg] brake wear emissions, lorry                   \n",
      "cadmium(ii)              air                        3.29e-10 [kg] cadmium(ii)                                   \n",
      "chromium(iii)            \"\"                         1.14e-09 [kg] chromium(iii)                                 \n",
      "chromium(vi)             \"\"                         2.27e-12 [kg] chromium(vi)                                  \n",
      "copper(ii)               \"\"                         8.02e-10 [kg] copper(ii)                                    \n",
      "diesel, low-sulfur       CPC: 33360: Gas oil          0.0378 [kg] diesel, low-sulfur                            \n",
      "lead(ii)                 air                        1.97e-09 [kg] lead(ii)                                      \n",
      "lorry, 16 metric ton     CPC: 49114: Motor vehicl    3.2e-07 [unit] lorry, 16 metric ton                        \n",
      "maintenance, lorry 16 me CPC: 87141: Maintenance     3.2e-07 [unit] maintenance, lorry 16 metric ton            \n",
      "mercury(ii)              air                        2.01e-10 [kg] mercury(ii)                                   \n",
      "nickel(ii)               \"\"                         3.33e-10 [kg] nickel(ii)                                    \n",
      "nitrogen oxides          \"\"                         0.000946 [kg] nitrogen oxides                               \n",
      "pm2.5                    \"\"                          2.2e-05 [kg] pm2.5                                         \n",
      "road                     CPC: 53211: Highways (ex    0.00105 [m*year] road                                      \n",
      "road wear emissions, lor \"\"                        -1.91e-05 [kg] road wear emissions, lorry                    \n",
      "selenium(iv)             air                        3.78e-12 [kg] selenium(iv)                                  \n",
      "tyre wear emissions, lor By-product classificatio   -0.00022 [kg] tyre wear emissions, lorry                    \n",
      "zinc(ii)                 air                        6.58e-08 [kg] zinc(ii)                                      \n",
      "Flowable                 Compartment              C0                                                            \n",
      "\n",
      "Columns:\n",
      "C0: <generator object InventoryImplementation.inventory at 0x7fe115cfce08>\n"
     ]
    }
   ],
   "source": [
    "FlowablesGrid(cat.qdb, suppliers2[0].inventory(suppliers2[0].reference())).text()"
   ]
  },
  {
   "cell_type": "code",
   "execution_count": 147,
   "metadata": {
    "collapsed": false
   },
   "outputs": [
    {
     "name": "stdout",
     "output_type": "stream",
     "text": [
      "Help on class AllocationGrid in module antelope_reports.tables.allocation:\n",
      "\n",
      "class AllocationGrid(antelope_reports.tables.base.BaseTableOutput)\n",
      " |  This table can be produced dynamically\n",
      " |  \n",
      " |  Method resolution order:\n",
      " |      AllocationGrid\n",
      " |      antelope_reports.tables.base.BaseTableOutput\n",
      " |      builtins.object\n",
      " |  \n",
      " |  Methods defined here:\n",
      " |  \n",
      " |  __init__(self, archive, *prefs, report_unallocated=True)\n",
      " |      :param archive:\n",
      " |      :param prefs: one or more process refs\n",
      " |      :param report_unallocated: [True] by default, report process's unallocated values alongside the allocated ones\n",
      " |  \n",
      " |  add_column(self, arg)\n",
      " |  \n",
      " |  ----------------------------------------------------------------------\n",
      " |  Methods inherited from antelope_reports.tables.base.BaseTableOutput:\n",
      " |  \n",
      " |  text(self, width=10, hdr_width=24, max_width=112, expanded=True)\n",
      " |      Outputs the table in text format\n",
      " |      :return: nothing.\n",
      " |  \n",
      " |  ----------------------------------------------------------------------\n",
      " |  Data descriptors inherited from antelope_reports.tables.base.BaseTableOutput:\n",
      " |  \n",
      " |  __dict__\n",
      " |      dictionary for instance variables (if defined)\n",
      " |  \n",
      " |  __weakref__\n",
      " |      list of weak references to the object (if defined)\n",
      "\n"
     ]
    }
   ],
   "source": [
    "help(AllocationGrid)"
   ]
  },
  {
   "cell_type": "code",
   "execution_count": 88,
   "metadata": {
    "collapsed": false
   },
   "outputs": [],
   "source": [
    "_gen_idbu = ((i, j) for i, j in intra_db_users.items())"
   ]
  },
  {
   "cell_type": "code",
   "execution_count": 103,
   "metadata": {
    "collapsed": true
   },
   "outputs": [],
   "source": [
    "ref, users = next(_gen_idbu)"
   ]
  },
  {
   "cell_type": "code",
   "execution_count": 104,
   "metadata": {
    "collapsed": false
   },
   "outputs": [
    {
     "name": "stdout",
     "output_type": "stream",
     "text": [
      "ProcessRef catalog reference (72f7eacb-4200-4a3f-a3c7-45d9ec551f0b)\n",
      "origin: local.ecoinvent.3.4.cutoff\n",
      "UUID: 72f7eacb-4200-4a3f-a3c7-45d9ec551f0b\n",
      "   Name: market for transport, freight, lorry 16-32 metric ton, EURO4\n",
      "Comment: no comment.\n",
      "==Local Fields==\n",
      "           Name: market for transport, freight, lorry 16-32 metric ton, EURO4\n",
      "   SpatialScope: GLO\n",
      "  TemporalScope: {'begin': '2011-01-01', 'end': '2017-12-31'}\n",
      "Classifications: ['ISIC rev.4 ecoinvent: 4923:Freight transport by road', 'EcoSpold01Categories: transport systems/road']\n",
      "        Comment: no comment.\n"
     ]
    }
   ],
   "source": [
    "qe.get(ref).show()"
   ]
  },
  {
   "cell_type": "code",
   "execution_count": 105,
   "metadata": {
    "collapsed": false
   },
   "outputs": [
    {
     "data": {
      "text/plain": [
       "8"
      ]
     },
     "execution_count": 105,
     "metadata": {},
     "output_type": "execute_result"
    }
   ],
   "source": [
    "len(users)"
   ]
  },
  {
   "cell_type": "code",
   "execution_count": 107,
   "metadata": {
    "collapsed": false
   },
   "outputs": [
    {
     "data": {
      "text/plain": [
       "['local.ecoinvent.3.4.cutoff/9a7bdcef-8d6e-49f5-8794-d21c19b7c45b pipeline construction, liquid manure [CH]',\n",
       " 'local.ecoinvent.3.4.cutoff/c36f9797-f21a-4704-bf56-ad0b14029000 pipeline construction, liquid manure [RoW]',\n",
       " 'local.ecoinvent.3.4.cutoff/7e6eee3b-06b2-4110-b1f8-cc346ebb6cd5 market for tomato seedling, for planting [GLO]',\n",
       " 'local.ecoinvent.3.4.cutoff/4329378d-7e2c-4230-8a38-9def4d649bc3 market for strawberry seedling, for planting [GLO]',\n",
       " 'local.ecoinvent.3.4.cutoff/e4f7c598-3ee7-4c5f-a3dc-ad76bc280d84 market for waste polyethylene terephthalate, for recycling, unsorted [RoW]',\n",
       " 'local.ecoinvent.3.4.cutoff/0afd8d6a-a6b9-485c-96f6-9ee93660323a market for waste polyethylene, for recycling, unsorted [CH]',\n",
       " 'local.ecoinvent.3.4.cutoff/ccc53607-e044-4e13-b195-e5acba2ebc6d market for waste polyethylene terephthalate, for recycling, unsorted [CH]',\n",
       " 'local.ecoinvent.3.4.cutoff/63be82de-5170-4905-9e42-1822d50c8e3f market for waste polyethylene, for recycling, unsorted [RoW]']"
      ]
     },
     "execution_count": 107,
     "metadata": {},
     "output_type": "execute_result"
    }
   ],
   "source": [
    "[str(u.termination) for u in users]"
   ]
  },
  {
   "cell_type": "code",
   "execution_count": 27,
   "metadata": {
    "collapsed": false
   },
   "outputs": [
    {
     "data": {
      "text/plain": [
       "[]"
      ]
     },
     "execution_count": 27,
     "metadata": {},
     "output_type": "execute_result"
    }
   ],
   "source": [
    "enum(t for t in qe.consumers(p.external_ref) if t.termination not in m_t_f_l)"
   ]
  }
 ],
 "metadata": {
  "kernelspec": {
   "display_name": "lca-tools",
   "language": "python",
   "name": "lca-tools"
  },
  "language_info": {
   "codemirror_mode": {
    "name": "ipython",
    "version": 3
   },
   "file_extension": ".py",
   "mimetype": "text/x-python",
   "name": "python",
   "nbconvert_exporter": "python",
   "pygments_lexer": "ipython3",
   "version": "3.6.6"
  }
 },
 "nbformat": 4,
 "nbformat_minor": 2
}
