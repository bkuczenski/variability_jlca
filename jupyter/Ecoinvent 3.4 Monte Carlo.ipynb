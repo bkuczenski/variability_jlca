{
 "cells": [
  {
   "cell_type": "code",
   "execution_count": 1,
   "metadata": {},
   "outputs": [],
   "source": [
    "from brightway2 import Database, methods, MonteCarloLCA"
   ]
  },
  {
   "cell_type": "code",
   "execution_count": 2,
   "metadata": {},
   "outputs": [],
   "source": [
    "recipe_methods = [('ReCiPe Midpoint (H)', 'climate change', 'GWP100'),\n",
    "                  ('ReCiPe Midpoint (H)', 'terrestrial acidification', 'TAP100'),\n",
    "                  ('ReCiPe Midpoint (H)', 'photochemical oxidant formation', 'POFP'),\n",
    "                  ('ReCiPe Midpoint (H)', 'marine eutrophication', 'MEP')\n",
    "                 ]\n"
   ]
  },
  {
   "cell_type": "code",
   "execution_count": 3,
   "metadata": {},
   "outputs": [],
   "source": [
    "from matplotlib import pyplot as plt\n",
    "%matplotlib inline"
   ]
  },
  {
   "cell_type": "code",
   "execution_count": 4,
   "metadata": {},
   "outputs": [],
   "source": [
    "def monte_carlo(activity, method, steps=500):\n",
    "    _sol = MonteCarloLCA({activity: 1}, method=method)\n",
    "    _res = [next(_sol) for x in range(steps)]\n",
    "    plt.hist(_res, bins=50, histtype='step', density=1)\n",
    "    plt.title('%s, %s' % method[:2])\n",
    "    plt.xlabel(method[2])\n",
    "    return _res"
   ]
  },
  {
   "cell_type": "code",
   "execution_count": 5,
   "metadata": {},
   "outputs": [
    {
     "data": {
      "text/plain": [
       "('ReCiPe Midpoint (H)', 'terrestrial acidification')"
      ]
     },
     "execution_count": 5,
     "metadata": {},
     "output_type": "execute_result"
    }
   ],
   "source": [
    "recipe_methods[1][:2]"
   ]
  },
  {
   "cell_type": "code",
   "execution_count": 6,
   "metadata": {},
   "outputs": [],
   "source": [
    "ei = Database('ei3.4 cutoff')"
   ]
  },
  {
   "cell_type": "code",
   "execution_count": 7,
   "metadata": {},
   "outputs": [],
   "source": [
    "m_gly = next(_a for _a in ei if _a['activity'] == '037fa5e4-f711-4987-b50a-38920ca5d5a0')"
   ]
  },
  {
   "cell_type": "code",
   "execution_count": 80,
   "metadata": {},
   "outputs": [
    {
     "name": "stdout",
     "output_type": "stream",
     "text": [
      "CPU times: user 26min 36s, sys: 37min 23s, total: 1h 4min\n",
      "Wall time: 18min 45s\n"
     ]
    },
    {
     "data": {
      "image/png": "[encoded data removed]",
      "text/plain": [
       "<Figure size 432x288 with 1 Axes>"
      ]
     },
     "metadata": {},
     "output_type": "display_data"
    }
   ],
   "source": [
    "%time res = monte_carlo(m_gly, recipe_methods[0], steps=5000)"
   ]
  },
  {
   "cell_type": "code",
   "execution_count": 27,
   "metadata": {},
   "outputs": [],
   "source": [
    "from math import floor, ceil, isclose"
   ]
  },
  {
   "cell_type": "code",
   "execution_count": 12,
   "metadata": {},
   "outputs": [],
   "source": [
    "def find_5_95(_data):\n",
    "    _l = len(_data)\n",
    "    _s = sorted(_data)\n",
    "    _i5 = _s[ceil(_l * 0.05)]\n",
    "    _i95 = _s[floor(_l * 0.95)]\n",
    "    return _i5, _i95\n",
    "    "
   ]
  },
  {
   "cell_type": "code",
   "execution_count": 81,
   "metadata": {},
   "outputs": [
    {
     "data": {
      "text/plain": [
       "(3.2836175445065328, 4.242020444941756)"
      ]
     },
     "execution_count": 81,
     "metadata": {},
     "output_type": "execute_result"
    }
   ],
   "source": [
    "find_5_95(res) # 5000 iter"
   ]
  },
  {
   "cell_type": "code",
   "execution_count": 13,
   "metadata": {},
   "outputs": [
    {
     "data": {
      "text/plain": [
       "(3.2781735320469156, 4.225706533379565)"
      ]
     },
     "execution_count": 13,
     "metadata": {},
     "output_type": "execute_result"
    }
   ],
   "source": [
    "#  500 iter # find_5_95(res)"
   ]
  },
  {
   "cell_type": "code",
   "execution_count": 37,
   "metadata": {},
   "outputs": [
    {
     "data": {
      "image/png": "[encoded data removed]",
      "text/plain": [
       "<Figure size 432x288 with 1 Axes>"
      ]
     },
     "metadata": {},
     "output_type": "display_data"
    }
   ],
   "source": [
    "_, bins, _ = plt.hist(res, bins=50, histtype='step', density=1)"
   ]
  },
  {
   "cell_type": "code",
   "execution_count": 83,
   "metadata": {},
   "outputs": [],
   "source": [
    "xvals = [1.9736567895799773,\n",
    " 1.9080250484758379,\n",
    " 7.1549426834270076,\n",
    " 1.0433618035686494,\n",
    " 4.5093929469488963,\n",
    " 0.37972556565244475,\n",
    " 0.34282567874124636,\n",
    " 0.25557693565544942,\n",
    " 2.4545580238122446,\n",
    " 1.907909564890391,\n",
    " 5.4086896549761763,\n",
    " 4.6516863117034823]\n",
    "\n",
    "yvals = [0.000235253496422294,\n",
    " 0.120884112034407,\n",
    " 0.0025873822622544,\n",
    " 0.109726176278784,\n",
    " 0.0622621690420671,\n",
    " 0.0164657626128754,\n",
    " 0.000240378511370286,\n",
    " 0.00390097746261021,\n",
    " 0.00297124710519323,\n",
    " 0.245909023302167,\n",
    " 0.310293179807715,\n",
    " 0.124524338084134]"
   ]
  },
  {
   "cell_type": "code",
   "execution_count": 45,
   "metadata": {},
   "outputs": [],
   "source": [
    "\n",
    "def _txform_mix(mix, vals, mag, target='mode'):\n",
    "    \"\"\"\n",
    "    transform a mix (summing to 1) and re-normalize\n",
    "    target='mode': adjust the most-abundant element by mag\n",
    "    target='highest': adjust the highest-valued element by mag\n",
    "    target='shift': transfer the lowest-valued mix to the highest-valued. mag not used\n",
    "    \"\"\"\n",
    "    mix = mix.copy()\n",
    "    assert isclose(sum(mix), 1, rel_tol=1e-8), sum(mix)\n",
    "    if target=='mode':\n",
    "        ind = mix.index(max(mix))\n",
    "        mix[ind] += mag\n",
    "\n",
    "    elif target=='highest':\n",
    "        ind = vals.index(max(vals))\n",
    "        mix[ind] += mag\n",
    "        \n",
    "    elif target=='shift':\n",
    "        _from = vals.index(min(vals))\n",
    "        _to = vals.index(max(vals))\n",
    "        mix[_to] += mix[_from]\n",
    "        mix[_from] = 0\n",
    "        \n",
    "    _new = [k / sum(mix) for k in mix]\n",
    "    assert isclose(sum(_new), 1, rel_tol=1e-8), sum(_new)\n",
    "    return _new\n"
   ]
  },
  {
   "cell_type": "code",
   "execution_count": 56,
   "metadata": {},
   "outputs": [
    {
     "data": {
      "text/plain": [
       "[0.0002138668149293582,\n",
       " 0.10989464730400639,\n",
       " 0.09326125660204947,\n",
       " 0.0997510693443491,\n",
       " 0.05660197185642464,\n",
       " 0.014968875102614004,\n",
       " 0.00021852591942753276,\n",
       " 0.0035463431478274642,\n",
       " 0.002701133731993846,\n",
       " 0.22355365754742457,\n",
       " 0.28208470891610454,\n",
       " 0.11320394371284911]"
      ]
     },
     "execution_count": 56,
     "metadata": {},
     "output_type": "execute_result"
    }
   ],
   "source": [
    "new_mix"
   ]
  },
  {
   "cell_type": "code",
   "execution_count": 65,
   "metadata": {},
   "outputs": [],
   "source": [
    "def _add_discrete_bars_to_ax(_ax, _xv, _yv, _norm, _color=[0.7, 0, 0], **kwargs):\n",
    "    _wid = max(_yv) / _norm\n",
    "    plt.bar(_xv, [_k / _wid for _k in _yv], width=_wid, color=_color, axes=_ax, **kwargs)"
   ]
  },
  {
   "cell_type": "code",
   "execution_count": 64,
   "metadata": {},
   "outputs": [
    {
     "data": {
      "text/plain": [
       "[0.3856077641732449,\n",
       " 0.5091802348605726,\n",
       " 0.638275396746632,\n",
       " 1.057799131779348,\n",
       " 3.691154477643271,\n",
       " 3.6918878823664345,\n",
       " 4.183061622941107,\n",
       " 4.384712780810435,\n",
       " 4.67472973221467,\n",
       " 4.790741214340169,\n",
       " 5.433935900936027,\n",
       " 7.169538119825178]"
      ]
     },
     "execution_count": 64,
     "metadata": {},
     "output_type": "execute_result"
    }
   ],
   "source": [
    "sorted(xvals)"
   ]
  },
  {
   "cell_type": "code",
   "execution_count": 86,
   "metadata": {},
   "outputs": [
    {
     "data": {
      "text/plain": [
       "1.0"
      ]
     },
     "execution_count": 86,
     "metadata": {},
     "output_type": "execute_result"
    }
   ],
   "source": [
    "sum(new_mix)"
   ]
  },
  {
   "cell_type": "code",
   "execution_count": 89,
   "metadata": {},
   "outputs": [],
   "source": [
    "new_max = 0.5\n",
    "alpha = (1 - new_max) / (1 - max(yvals))\n",
    "new_d = [new_max if k == max(yvals) else alpha * k for k in yvals ]"
   ]
  },
  {
   "cell_type": "code",
   "execution_count": 91,
   "metadata": {},
   "outputs": [
    {
     "data": {
      "text/plain": [
       "[0.000235253496422294,\n",
       " 0.120884112034407,\n",
       " 0.0025873822622544,\n",
       " 0.109726176278784,\n",
       " 0.0622621690420671,\n",
       " 0.0164657626128754,\n",
       " 0.000240378511370286,\n",
       " 0.00390097746261021,\n",
       " 0.00297124710519323,\n",
       " 0.245909023302167,\n",
       " 0.310293179807715,\n",
       " 0.124524338084134]"
      ]
     },
     "execution_count": 91,
     "metadata": {},
     "output_type": "execute_result"
    }
   ],
   "source": [
    "yvals"
   ]
  },
  {
   "cell_type": "code",
   "execution_count": 92,
   "metadata": {},
   "outputs": [
    {
     "data": {
      "text/plain": [
       "[0.00017054601283825722,\n",
       " 0.08763441834655589,\n",
       " 0.001875711669440254,\n",
       " 0.0795455206954407,\n",
       " 0.0451366923011642,\n",
       " 0.011936783957192762,\n",
       " 0.00017426137043510047,\n",
       " 0.0028279968737460414,\n",
       " 0.0021539928402947136,\n",
       " 0.17827069133056378,\n",
       " 0.5,\n",
       " 0.09027338460232825]"
      ]
     },
     "execution_count": 92,
     "metadata": {},
     "output_type": "execute_result"
    }
   ],
   "source": [
    "new_d"
   ]
  },
  {
   "cell_type": "code",
   "execution_count": 103,
   "metadata": {},
   "outputs": [],
   "source": [
    "nonstart = [m for m in Database('ei3.4 cutoff') if 'market' in m['name'] and not m['name'].startswith('market')]"
   ]
  },
  {
   "cell_type": "code",
   "execution_count": 106,
   "metadata": {},
   "outputs": [],
   "source": [
    "db = Database('ei3.4 cutoff')"
   ]
  },
  {
   "cell_type": "code",
   "execution_count": 108,
   "metadata": {},
   "outputs": [],
   "source": [
    "m_t_f_l_u = next(_a for _a in db if _a['activity'] == '8331a025-1307-46b0-a0b8-bdb7398984c2')"
   ]
  },
  {
   "cell_type": "code",
   "execution_count": 111,
   "metadata": {},
   "outputs": [
    {
     "data": {
      "text/plain": [
       "{'comment': '',\n",
       " 'classifications': [('ISIC rev.4 ecoinvent',\n",
       "   '4923:Freight transport by road'),\n",
       "  ('EcoSpold01Categories', 'transport systems/road')],\n",
       " 'activity type': 'market activity',\n",
       " 'activity': '8331a025-1307-46b0-a0b8-bdb7398984c2',\n",
       " 'database': 'ei3.4 cutoff',\n",
       " 'filename': '8331a025-1307-46b0-a0b8-bdb7398984c2_090f56b8-6a83-48c1-ae26-234d04771e53.spold',\n",
       " 'location': 'GLO',\n",
       " 'name': 'market for transport, freight, light commercial vehicle',\n",
       " 'parameters': [],\n",
       " 'authors': {'data entry': {'name': '[System]',\n",
       "   'email': 'support@ecoinvent.org'},\n",
       "  'data generator': {'name': '[System]', 'email': 'support@ecoinvent.org'}},\n",
       " 'type': 'process',\n",
       " 'reference product': 'transport, freight, light commercial vehicle',\n",
       " 'flow': '090f56b8-6a83-48c1-ae26-234d04771e53',\n",
       " 'unit': 'ton kilometer',\n",
       " 'production amount': 1.0,\n",
       " 'code': 'c22804e9f7dde396d52728cdd3eb10a0'}"
      ]
     },
     "execution_count": 111,
     "metadata": {},
     "output_type": "execute_result"
    }
   ],
   "source": [
    "m_t_f_l_u.as_dict()"
   ]
  },
  {
   "cell_type": "code",
   "execution_count": 113,
   "metadata": {},
   "outputs": [
    {
     "data": {
      "text/plain": [
       "{'comment': 'This dataset changes the names of the (internally used) heat product of waste incineration and connects it with the external grid and the respective average energy markets (district heat grid).',\n",
       " 'classifications': [('ISIC rev.4 ecoinvent',\n",
       "   '3821:Treatment and disposal of non-hazardous waste')],\n",
       " 'activity type': 'ordinary transforming activity',\n",
       " 'activity': 'c90972e0-8d5c-4066-8ea9-3e47bc24e1fa',\n",
       " 'database': 'ei3.4 cutoff',\n",
       " 'filename': 'c90972e0-8d5c-4066-8ea9-3e47bc24e1fa_71e2f1db-a2c5-44d0-8337-dfff15be974d.spold',\n",
       " 'location': 'TR',\n",
       " 'name': 'heat, from municipal waste incineration to generic market for heat district or industrial, other than natural gas',\n",
       " 'parameters': [],\n",
       " 'authors': {'data entry': {'name': 'Karin Treyer',\n",
       "   'email': 'karin.treyer@psi.ch'},\n",
       "  'data generator': {'name': 'Karin Treyer', 'email': 'karin.treyer@psi.ch'}},\n",
       " 'type': 'process',\n",
       " 'reference product': 'heat, district or industrial, other than natural gas',\n",
       " 'flow': '71e2f1db-a2c5-44d0-8337-dfff15be974d',\n",
       " 'unit': 'megajoule',\n",
       " 'production amount': 1.0,\n",
       " 'code': '2bc9f4b36667f7dcc608d99ce118df0d'}"
      ]
     },
     "execution_count": 113,
     "metadata": {},
     "output_type": "execute_result"
    }
   ],
   "source": [
    "nonstart[100].as_dict()"
   ]
  },
  {
   "cell_type": "code",
   "execution_count": 96,
   "metadata": {},
   "outputs": [
    {
     "data": {
      "text/plain": [
       "Text(0,0.5,'Relative Frequency')"
      ]
     },
     "execution_count": 96,
     "metadata": {},
     "output_type": "execute_result"
    },
    {
     "data": {
      "image/png": "[encoded data removed]",
      "text/plain": [
       "<Figure size 432x288 with 1 Axes>"
      ]
     },
     "metadata": {},
     "output_type": "display_data"
    }
   ],
   "source": [
    "ax = plt.axes()\n",
    "vv, bins, _ = plt.hist(res, bins=50, axes=ax, histtype='step', density=1, linestyle=':', linewidth=2)\n",
    "new_mix = _txform_mix(yvals, xvals, 0.1, target='highest')\n",
    "_add_discrete_bars_to_ax(ax, xvals, new_d, max(vv)/alpha)\n",
    "_add_discrete_bars_to_ax(ax, xvals, yvals, max(vv), _color='none', linestyle='--', linewidth=0.8, edgecolor='black')\n",
    "ax.set_yticks([])\n",
    "ax.set_title(m_gly['name'])\n",
    "ax.set_xlabel('%s: %s [%s]' % recipe_methods[0])\n",
    "ax.set_ylabel('Relative Frequency')"
   ]
  },
  {
   "cell_type": "code",
   "execution_count": 67,
   "metadata": {},
   "outputs": [],
   "source": [
    "from brightway2 import LCA"
   ]
  },
  {
   "cell_type": "code",
   "execution_count": 69,
   "metadata": {},
   "outputs": [],
   "source": [
    "lca = LCA({m_gly: 1}, method=recipe_methods[0])"
   ]
  },
  {
   "cell_type": "code",
   "execution_count": 72,
   "metadata": {},
   "outputs": [],
   "source": [
    "lca.lci()"
   ]
  },
  {
   "cell_type": "code",
   "execution_count": 73,
   "metadata": {},
   "outputs": [],
   "source": [
    "lca.lcia()"
   ]
  },
  {
   "cell_type": "code",
   "execution_count": 74,
   "metadata": {},
   "outputs": [
    {
     "data": {
      "text/plain": [
       "3.4370894461708037"
      ]
     },
     "execution_count": 74,
     "metadata": {},
     "output_type": "execute_result"
    }
   ],
   "source": [
    "lca.score"
   ]
  },
  {
   "cell_type": "code",
   "execution_count": 51,
   "metadata": {},
   "outputs": [
    {
     "data": {
      "text/plain": [
       "[0.000235253496422294,\n",
       " 0.120884112034407,\n",
       " 0.0025873822622544,\n",
       " 0.109726176278784,\n",
       " 0.0622621690420671,\n",
       " 0.0164657626128754,\n",
       " 0.000240378511370286,\n",
       " 0.00390097746261021,\n",
       " 0.00297124710519323,\n",
       " 0.245909023302167,\n",
       " 0.310293179807715,\n",
       " 0.124524338084134]"
      ]
     },
     "execution_count": 51,
     "metadata": {},
     "output_type": "execute_result"
    }
   ],
   "source": [
    "yvals"
   ]
  },
  {
   "cell_type": "code",
   "execution_count": 50,
   "metadata": {},
   "outputs": [
    {
     "data": {
      "text/plain": [
       "[4.183061622941107,\n",
       " 3.6918878823664345,\n",
       " 7.169538119825178,\n",
       " 1.057799131779348,\n",
       " 4.67472973221467,\n",
       " 0.3856077641732449,\n",
       " 0.5091802348605726,\n",
       " 0.638275396746632,\n",
       " 4.384712780810435,\n",
       " 3.691154477643271,\n",
       " 5.433935900936027,\n",
       " 4.790741214340169]"
      ]
     },
     "execution_count": 50,
     "metadata": {},
     "output_type": "execute_result"
    }
   ],
   "source": [
    "xvals"
   ]
  },
  {
   "cell_type": "code",
   "execution_count": 76,
   "metadata": {},
   "outputs": [],
   "source": [
    "xvals_nobco2 = [1.9736567895799773,\n",
    " 1.9080250484758379,\n",
    " 7.1549426834270076,\n",
    " 1.0433618035686494,\n",
    " 4.5093929469488963,\n",
    " 0.37972556565244475,\n",
    " 0.34282567874124636,\n",
    " 0.25557693565544942,\n",
    " 2.4545580238122446,\n",
    " 1.907909564890391,\n",
    " 5.4086896549761763,\n",
    " 4.6516863117034823]"
   ]
  },
  {
   "cell_type": "code",
   "execution_count": 77,
   "metadata": {},
   "outputs": [
    {
     "data": {
      "text/plain": [
       "[2.1194473350309924,\n",
       " 1.9349263183497387,\n",
       " 1.0020399096182808,\n",
       " 1.0138373171811716,\n",
       " 1.0366649762420113,\n",
       " 1.0154906570767583,\n",
       " 1.4852453198083952,\n",
       " 2.497390443741408,\n",
       " 1.7863553186656438,\n",
       " 1.9346590349817379,\n",
       " 1.0046677194607798,\n",
       " 1.029893439350549]"
      ]
     },
     "execution_count": 77,
     "metadata": {},
     "output_type": "execute_result"
    }
   ],
   "source": [
    "[ i/j for i,j in zip(xvals, xvals_nobco2)]"
   ]
  },
  {
   "cell_type": "code",
   "execution_count": 78,
   "metadata": {},
   "outputs": [
    {
     "data": {
      "text/plain": [
       "3.386200307756137"
      ]
     },
     "execution_count": 78,
     "metadata": {},
     "output_type": "execute_result"
    }
   ],
   "source": [
    "sum(i * j for i, j in zip(xvals_nobco2, yvals))"
   ]
  },
  {
   "cell_type": "code",
   "execution_count": 79,
   "metadata": {},
   "outputs": [
    {
     "data": {
      "text/plain": [
       "3.728813250998944"
      ]
     },
     "execution_count": 79,
     "metadata": {},
     "output_type": "execute_result"
    }
   ],
   "source": [
    "sum(i * j for i, j in zip(xvals_nobco2, new_mix))"
   ]
  },
  {
   "cell_type": "code",
   "execution_count": 75,
   "metadata": {},
   "outputs": [
    {
     "data": {
      "text/plain": [
       "{'comment': '',\n",
       " 'classifications': [('ISIC rev.4 ecoinvent',\n",
       "   '2011:Manufacture of basic chemicals'),\n",
       "  ('EcoSpold01Categories', 'chemicals/organics')],\n",
       " 'activity type': 'market activity',\n",
       " 'activity': '037fa5e4-f711-4987-b50a-38920ca5d5a0',\n",
       " 'database': 'ei3.4 cutoff',\n",
       " 'filename': '037fa5e4-f711-4987-b50a-38920ca5d5a0_3d3268fa-3c9e-43e0-be88-3dfd53718719.spold',\n",
       " 'location': 'GLO',\n",
       " 'name': 'market for glycerine',\n",
       " 'parameters': [],\n",
       " 'authors': {'data entry': {'name': '[System]',\n",
       "   'email': 'support@ecoinvent.org'},\n",
       "  'data generator': {'name': '[System]', 'email': 'support@ecoinvent.org'}},\n",
       " 'type': 'process',\n",
       " 'reference product': 'glycerine',\n",
       " 'flow': '3d3268fa-3c9e-43e0-be88-3dfd53718719',\n",
       " 'unit': 'kilogram',\n",
       " 'production amount': 1.0,\n",
       " 'code': 'b59e3385667066b01fb72aed604b2b32'}"
      ]
     },
     "execution_count": 75,
     "metadata": {},
     "output_type": "execute_result"
    }
   ],
   "source": [
    "m_gly.as_dict()"
   ]
  },
  {
   "cell_type": "code",
   "execution_count": 59,
   "metadata": {},
   "outputs": [
    {
     "data": {
      "text/plain": [
       "1.5844580631973344"
      ]
     },
     "execution_count": 59,
     "metadata": {},
     "output_type": "execute_result"
    }
   ],
   "source": [
    "max(vv)"
   ]
  },
  {
   "cell_type": "code",
   "execution_count": 60,
   "metadata": {},
   "outputs": [
    {
     "data": {
      "text/plain": [
       "0.310293179807715"
      ]
     },
     "execution_count": 60,
     "metadata": {},
     "output_type": "execute_result"
    }
   ],
   "source": [
    "max(yvals)"
   ]
  },
  {
   "cell_type": "code",
   "execution_count": 44,
   "metadata": {},
   "outputs": [
    {
     "data": {
      "text/plain": [
       "array([3.05914345, 3.10206033, 3.14497721, 3.18789409, 3.23081098,\n",
       "       3.27372786, 3.31664474, 3.35956162, 3.40247851, 3.44539539,\n",
       "       3.48831227, 3.53122915, 3.57414603, 3.61706292, 3.6599798 ,\n",
       "       3.70289668, 3.74581356, 3.78873045, 3.83164733, 3.87456421,\n",
       "       3.91748109, 3.96039797, 4.00331486, 4.04623174, 4.08914862,\n",
       "       4.1320655 , 4.17498238, 4.21789927, 4.26081615, 4.30373303,\n",
       "       4.34664991, 4.3895668 , 4.43248368, 4.47540056, 4.51831744,\n",
       "       4.56123432, 4.60415121, 4.64706809, 4.68998497, 4.73290185,\n",
       "       4.77581873, 4.81873562, 4.8616525 , 4.90456938, 4.94748626,\n",
       "       4.99040315, 5.03332003, 5.07623691, 5.11915379, 5.16207067,\n",
       "       5.20498756])"
      ]
     },
     "execution_count": 44,
     "metadata": {},
     "output_type": "execute_result"
    }
   ],
   "source": [
    "bins"
   ]
  },
  {
   "cell_type": "code",
   "execution_count": 40,
   "metadata": {},
   "outputs": [
    {
     "data": {
      "text/plain": [
       "[0.04291688216902445,\n",
       " 0.04291688216902401,\n",
       " 0.04291688216902445,\n",
       " 0.04291688216902445,\n",
       " 0.04291688216902445,\n",
       " 0.04291688216902401,\n",
       " 0.04291688216902445,\n",
       " 0.04291688216902445,\n",
       " 0.04291688216902401,\n",
       " 0.04291688216902445,\n",
       " 0.04291688216902445,\n",
       " 0.04291688216902401,\n",
       " 0.04291688216902445,\n",
       " 0.04291688216902445,\n",
       " 0.04291688216902445,\n",
       " 0.04291688216902445,\n",
       " 0.04291688216902401,\n",
       " 0.04291688216902445,\n",
       " 0.04291688216902445,\n",
       " 0.04291688216902401,\n",
       " 0.04291688216902445,\n",
       " 0.04291688216902445,\n",
       " 0.04291688216902401,\n",
       " 0.04291688216902401,\n",
       " 0.042916882169024895,\n",
       " 0.04291688216902401,\n",
       " 0.042916882169024895,\n",
       " 0.04291688216902401,\n",
       " 0.04291688216902401,\n",
       " 0.042916882169024895,\n",
       " 0.04291688216902401,\n",
       " 0.042916882169024895,\n",
       " 0.04291688216902401,\n",
       " 0.04291688216902401,\n",
       " 0.04291688216902401,\n",
       " 0.042916882169024895,\n",
       " 0.04291688216902401,\n",
       " 0.042916882169024895,\n",
       " 0.04291688216902401,\n",
       " 0.04291688216902401,\n",
       " 0.042916882169024895,\n",
       " 0.04291688216902401,\n",
       " 0.042916882169024895,\n",
       " 0.04291688216902401,\n",
       " 0.04291688216902401,\n",
       " 0.04291688216902401,\n",
       " 0.042916882169024895,\n",
       " 0.04291688216902401,\n",
       " 0.042916882169024895,\n",
       " 0.04291688216902401]"
      ]
     },
     "execution_count": 40,
     "metadata": {},
     "output_type": "execute_result"
    }
   ],
   "source": [
    "[bins[i] - bins[i-1] for i in range(1, len(bins))]"
   ]
  },
  {
   "cell_type": "code",
   "execution_count": 32,
   "metadata": {},
   "outputs": [
    {
     "name": "stdout",
     "output_type": "stream",
     "text": [
      "Help on function hist in module matplotlib.pyplot:\n",
      "\n",
      "hist(x, bins=None, range=None, density=None, weights=None, cumulative=False, bottom=None, histtype='bar', align='mid', orientation='vertical', rwidth=None, log=False, color=None, label=None, stacked=False, normed=None, hold=None, data=None, **kwargs)\n",
      "    Plot a histogram.\n",
      "    \n",
      "    Compute and draw the histogram of *x*. The return value is a\n",
      "    tuple (*n*, *bins*, *patches*) or ([*n0*, *n1*, ...], *bins*,\n",
      "    [*patches0*, *patches1*,...]) if the input contains multiple\n",
      "    data.\n",
      "    \n",
      "    Multiple data can be provided via *x* as a list of datasets\n",
      "    of potentially different length ([*x0*, *x1*, ...]), or as\n",
      "    a 2-D ndarray in which each column is a dataset.  Note that\n",
      "    the ndarray form is transposed relative to the list form.\n",
      "    \n",
      "    Masked arrays are not supported at present.\n",
      "    \n",
      "    Parameters\n",
      "    ----------\n",
      "    x : (n,) array or sequence of (n,) arrays\n",
      "        Input values, this takes either a single array or a sequence of\n",
      "        arrays which are not required to be of the same length\n",
      "    \n",
      "    bins : integer or sequence or 'auto', optional\n",
      "        If an integer is given, ``bins + 1`` bin edges are calculated and\n",
      "        returned, consistent with :func:`numpy.histogram`.\n",
      "    \n",
      "        If `bins` is a sequence, gives bin edges, including left edge of\n",
      "        first bin and right edge of last bin.  In this case, `bins` is\n",
      "        returned unmodified.\n",
      "    \n",
      "        All but the last (righthand-most) bin is half-open.  In other\n",
      "        words, if `bins` is::\n",
      "    \n",
      "            [1, 2, 3, 4]\n",
      "    \n",
      "        then the first bin is ``[1, 2)`` (including 1, but excluding 2) and\n",
      "        the second ``[2, 3)``.  The last bin, however, is ``[3, 4]``, which\n",
      "        *includes* 4.\n",
      "    \n",
      "        Unequally spaced bins are supported if *bins* is a sequence.\n",
      "    \n",
      "        If Numpy 1.11 is installed, may also be ``'auto'``.\n",
      "    \n",
      "        Default is taken from the rcParam ``hist.bins``.\n",
      "    \n",
      "    range : tuple or None, optional\n",
      "        The lower and upper range of the bins. Lower and upper outliers\n",
      "        are ignored. If not provided, *range* is ``(x.min(), x.max())``.\n",
      "        Range has no effect if *bins* is a sequence.\n",
      "    \n",
      "        If *bins* is a sequence or *range* is specified, autoscaling\n",
      "        is based on the specified bin range instead of the\n",
      "        range of x.\n",
      "    \n",
      "        Default is ``None``\n",
      "    \n",
      "    density : boolean, optional\n",
      "        If ``True``, the first element of the return tuple will\n",
      "        be the counts normalized to form a probability density, i.e.,\n",
      "        the area (or integral) under the histogram will sum to 1.\n",
      "        This is achieved by dividing the count by the number of\n",
      "        observations times the bin width and not dividing by the total\n",
      "        number of observations. If *stacked* is also ``True``, the sum of\n",
      "        the histograms is normalized to 1.\n",
      "    \n",
      "        Default is ``None`` for both *normed* and *density*. If either is\n",
      "        set, then that value will be used. If neither are set, then the\n",
      "        args will be treated as ``False``.\n",
      "    \n",
      "        If both *density* and *normed* are set an error is raised.\n",
      "    \n",
      "    weights : (n, ) array_like or None, optional\n",
      "        An array of weights, of the same shape as *x*.  Each value in *x*\n",
      "        only contributes its associated weight towards the bin count\n",
      "        (instead of 1).  If *normed* or *density* is ``True``,\n",
      "        the weights are normalized, so that the integral of the density\n",
      "        over the range remains 1.\n",
      "    \n",
      "        Default is ``None``\n",
      "    \n",
      "    cumulative : boolean, optional\n",
      "        If ``True``, then a histogram is computed where each bin gives the\n",
      "        counts in that bin plus all bins for smaller values. The last bin\n",
      "        gives the total number of datapoints. If *normed* or *density*\n",
      "        is also ``True`` then the histogram is normalized such that the\n",
      "        last bin equals 1. If *cumulative* evaluates to less than 0\n",
      "        (e.g., -1), the direction of accumulation is reversed.\n",
      "        In this case, if *normed* and/or *density* is also ``True``, then\n",
      "        the histogram is normalized such that the first bin equals 1.\n",
      "    \n",
      "        Default is ``False``\n",
      "    \n",
      "    bottom : array_like, scalar, or None\n",
      "        Location of the bottom baseline of each bin.  If a scalar,\n",
      "        the base line for each bin is shifted by the same amount.\n",
      "        If an array, each bin is shifted independently and the length\n",
      "        of bottom must match the number of bins.  If None, defaults to 0.\n",
      "    \n",
      "        Default is ``None``\n",
      "    \n",
      "    histtype : {'bar', 'barstacked', 'step',  'stepfilled'}, optional\n",
      "        The type of histogram to draw.\n",
      "    \n",
      "        - 'bar' is a traditional bar-type histogram.  If multiple data\n",
      "          are given the bars are arranged side by side.\n",
      "    \n",
      "        - 'barstacked' is a bar-type histogram where multiple\n",
      "          data are stacked on top of each other.\n",
      "    \n",
      "        - 'step' generates a lineplot that is by default\n",
      "          unfilled.\n",
      "    \n",
      "        - 'stepfilled' generates a lineplot that is by default\n",
      "          filled.\n",
      "    \n",
      "        Default is 'bar'\n",
      "    \n",
      "    align : {'left', 'mid', 'right'}, optional\n",
      "        Controls how the histogram is plotted.\n",
      "    \n",
      "            - 'left': bars are centered on the left bin edges.\n",
      "    \n",
      "            - 'mid': bars are centered between the bin edges.\n",
      "    \n",
      "            - 'right': bars are centered on the right bin edges.\n",
      "    \n",
      "        Default is 'mid'\n",
      "    \n",
      "    orientation : {'horizontal', 'vertical'}, optional\n",
      "        If 'horizontal', `~matplotlib.pyplot.barh` will be used for\n",
      "        bar-type histograms and the *bottom* kwarg will be the left edges.\n",
      "    \n",
      "    rwidth : scalar or None, optional\n",
      "        The relative width of the bars as a fraction of the bin width.  If\n",
      "        ``None``, automatically compute the width.\n",
      "    \n",
      "        Ignored if *histtype* is 'step' or 'stepfilled'.\n",
      "    \n",
      "        Default is ``None``\n",
      "    \n",
      "    log : boolean, optional\n",
      "        If ``True``, the histogram axis will be set to a log scale. If\n",
      "        *log* is ``True`` and *x* is a 1D array, empty bins will be\n",
      "        filtered out and only the non-empty ``(n, bins, patches)``\n",
      "        will be returned.\n",
      "    \n",
      "        Default is ``False``\n",
      "    \n",
      "    color : color or array_like of colors or None, optional\n",
      "        Color spec or sequence of color specs, one per dataset.  Default\n",
      "        (``None``) uses the standard line color sequence.\n",
      "    \n",
      "        Default is ``None``\n",
      "    \n",
      "    label : string or None, optional\n",
      "        String, or sequence of strings to match multiple datasets.  Bar\n",
      "        charts yield multiple patches per dataset, but only the first gets\n",
      "        the label, so that the legend command will work as expected.\n",
      "    \n",
      "        default is ``None``\n",
      "    \n",
      "    stacked : boolean, optional\n",
      "        If ``True``, multiple data are stacked on top of each other If\n",
      "        ``False`` multiple data are arranged side by side if histtype is\n",
      "        'bar' or on top of each other if histtype is 'step'\n",
      "    \n",
      "        Default is ``False``\n",
      "    \n",
      "    normed : bool, optional\n",
      "        Deprecated; use the density keyword argument instead.\n",
      "    \n",
      "    Returns\n",
      "    -------\n",
      "    n : array or list of arrays\n",
      "        The values of the histogram bins. See *normed* or *density*\n",
      "        and *weights* for a description of the possible semantics.\n",
      "        If input *x* is an array, then this is an array of length\n",
      "        *nbins*. If input is a sequence arrays\n",
      "        ``[data1, data2,..]``, then this is a list of arrays with\n",
      "        the values of the histograms for each of the arrays in the\n",
      "        same order.\n",
      "    \n",
      "    bins : array\n",
      "        The edges of the bins. Length nbins + 1 (nbins left edges and right\n",
      "        edge of last bin).  Always a single array even when multiple data\n",
      "        sets are passed in.\n",
      "    \n",
      "    patches : list or list of lists\n",
      "        Silent list of individual patches used to create the histogram\n",
      "        or list of such list if multiple input datasets.\n",
      "    \n",
      "    Other Parameters\n",
      "    ----------------\n",
      "    **kwargs : `~matplotlib.patches.Patch` properties\n",
      "    \n",
      "    See also\n",
      "    --------\n",
      "    hist2d : 2D histograms\n",
      "    \n",
      "    Notes\n",
      "    -----\n",
      "    .. [Notes section required for data comment. See #10189.]\n",
      "    \n",
      "    .. note::\n",
      "        In addition to the above described arguments, this function can take a\n",
      "        **data** keyword argument. If such a **data** argument is given, the\n",
      "        following arguments are replaced by **data[<arg>]**:\n",
      "    \n",
      "        * All arguments with the following names: 'weights', 'x'.\n",
      "\n"
     ]
    }
   ],
   "source": [
    "help(plt.hist)"
   ]
  },
  {
   "cell_type": "code",
   "execution_count": 12,
   "metadata": {},
   "outputs": [
    {
     "data": {
      "text/plain": [
       "[\"Exchange: 0.975409836065573 kilogram 'rare earth concentrate production, 70% REO, from bastnäsite' (kilogram, CN, None) to 'market for rare earth concentrate, 70% REO, from bastnäsite' (kilogram, GLO, None)>\",\n",
       " \"Exchange: 0.0245901639344266 kilogram 'rare earth concentrate production, 70% REO, from bastnäsite' (kilogram, RoW, None) to 'market for rare earth concentrate, 70% REO, from bastnäsite' (kilogram, GLO, None)>\"]"
      ]
     },
     "execution_count": 12,
     "metadata": {},
     "output_type": "execute_result"
    }
   ],
   "source": [
    "[str(x) for x in act.technosphere()]"
   ]
  },
  {
   "cell_type": "code",
   "execution_count": 15,
   "metadata": {},
   "outputs": [
    {
     "data": {
      "text/plain": [
       "('ei3.4 cutoff', '1ef152c00c4ea0156d9894062730241d')"
      ]
     },
     "execution_count": 15,
     "metadata": {},
     "output_type": "execute_result"
    }
   ],
   "source": [
    "act.key"
   ]
  },
  {
   "cell_type": "code",
   "execution_count": 18,
   "metadata": {},
   "outputs": [
    {
     "data": {
      "text/plain": [
       "True"
      ]
     },
     "execution_count": 18,
     "metadata": {},
     "output_type": "execute_result"
    }
   ],
   "source": [
    "ei.get('1ef152c00c4ea0156d9894062730241d') == act"
   ]
  },
  {
   "cell_type": "code",
   "execution_count": 19,
   "metadata": {},
   "outputs": [
    {
     "data": {
      "text/plain": [
       "False"
      ]
     },
     "execution_count": 19,
     "metadata": {},
     "output_type": "execute_result"
    }
   ],
   "source": [
    "ei.get('1ef152c00c4ea0156d9894062730241d') is act"
   ]
  },
  {
   "cell_type": "code",
   "execution_count": 20,
   "metadata": {},
   "outputs": [],
   "source": [
    "from brightway2 import LCA"
   ]
  },
  {
   "cell_type": "code",
   "execution_count": 22,
   "metadata": {},
   "outputs": [],
   "source": [
    "inv = LCA({act:1})"
   ]
  },
  {
   "cell_type": "code",
   "execution_count": 24,
   "metadata": {},
   "outputs": [],
   "source": [
    "inv.lci()"
   ]
  },
  {
   "cell_type": "code",
   "execution_count": 28,
   "metadata": {},
   "outputs": [
    {
     "data": {
      "text/plain": [
       "[]"
      ]
     },
     "execution_count": 28,
     "metadata": {},
     "output_type": "execute_result"
    }
   ],
   "source": [
    "ei.search('market for transport')"
   ]
  },
  {
   "cell_type": "code",
   "execution_count": 33,
   "metadata": {},
   "outputs": [
    {
     "data": {
      "text/plain": [
       "{'comment': 'This product is generally considered to be used at the production site.  Therefore, the market does not contain any transport.',\n",
       " 'classifications': [('ISIC rev.4 ecoinvent',\n",
       "   '0729:Mining of other non-ferrous metal ores'),\n",
       "  ('EcoSpold01Categories', 'chemicals/inorganics')],\n",
       " 'activity type': 'market activity',\n",
       " 'activity': 'af42e9b3-5edc-4caf-90a8-edb252f59121',\n",
       " 'database': 'ei3.4 cutoff',\n",
       " 'filename': 'af42e9b3-5edc-4caf-90a8-edb252f59121_d85221ba-1d0f-4545-bf95-a2cbf51402dd.spold',\n",
       " 'location': 'GLO',\n",
       " 'name': 'market for rare earth concentrate, 70% REO, from bastnäsite',\n",
       " 'parameters': [],\n",
       " 'authors': {'data entry': {'name': 'Guillaume Bourgault',\n",
       "   'email': 'bourgault@ecoinvent.org'},\n",
       "  'data generator': {'name': '[System]', 'email': 'support@ecoinvent.org'}},\n",
       " 'type': 'process',\n",
       " 'reference product': 'rare earth concentrate, 70% REO, from bastnäsite',\n",
       " 'flow': 'd85221ba-1d0f-4545-bf95-a2cbf51402dd',\n",
       " 'unit': 'kilogram',\n",
       " 'production amount': 1.0,\n",
       " 'code': '1ef152c00c4ea0156d9894062730241d'}"
      ]
     },
     "execution_count": 33,
     "metadata": {},
     "output_type": "execute_result"
    }
   ],
   "source": [
    "act."
   ]
  },
  {
   "cell_type": "code",
   "execution_count": null,
   "metadata": {},
   "outputs": [],
   "source": []
  },
  {
   "cell_type": "code",
   "execution_count": 34,
   "metadata": {},
   "outputs": [
    {
     "name": "stdout",
     "output_type": "stream",
     "text": [
      "CPU times: user 450 ms, sys: 517 ms, total: 967 ms\n",
      "Wall time: 3.32 s\n"
     ]
    }
   ],
   "source": [
    "%time mtflu = next(_a for _a in ei if _a['name'] == 'market for transport, freight, lorry, unspecified')"
   ]
  },
  {
   "cell_type": "code",
   "execution_count": 1,
   "metadata": {},
   "outputs": [
    {
     "ename": "NameError",
     "evalue": "name 'mtflu' is not defined",
     "output_type": "error",
     "traceback": [
      "\u001b[0;31m---------------------------------------------------------------------------\u001b[0m",
      "\u001b[0;31mNameError\u001b[0m                                 Traceback (most recent call last)",
      "\u001b[0;32m<ipython-input-1-ace5386746d0>\u001b[0m in \u001b[0;36m<module>\u001b[0;34m()\u001b[0m\n\u001b[0;32m----> 1\u001b[0;31m \u001b[0mmtflu\u001b[0m\u001b[0;34m.\u001b[0m\u001b[0mas_dict\u001b[0m\u001b[0;34m(\u001b[0m\u001b[0;34m)\u001b[0m\u001b[0;34m\u001b[0m\u001b[0m\n\u001b[0m",
      "\u001b[0;31mNameError\u001b[0m: name 'mtflu' is not defined"
     ]
    }
   ],
   "source": [
    "mtflu.as_dict()"
   ]
  },
  {
   "cell_type": "code",
   "execution_count": null,
   "metadata": {},
   "outputs": [],
   "source": []
  }
 ],
 "metadata": {
  "kernelspec": {
   "display_name": "bw2",
   "language": "python",
   "name": "bw2"
  },
  "language_info": {
   "codemirror_mode": {
    "name": "ipython",
    "version": 3
   },
   "file_extension": ".py",
   "mimetype": "text/x-python",
   "name": "python",
   "nbconvert_exporter": "python",
   "pygments_lexer": "ipython3",
   "version": "3.6.6"
  }
 },
 "nbformat": 4,
 "nbformat_minor": 2
}
