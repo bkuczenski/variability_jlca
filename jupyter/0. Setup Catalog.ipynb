{
 "cells": [
  {
   "cell_type": "markdown",
   "metadata": {
    "deletable": true,
    "editable": true
   },
   "source": [
    "I should really be using the catalog for all this, since that is what I wrote it for."
   ]
  },
  {
   "cell_type": "code",
   "execution_count": 1,
   "metadata": {
    "collapsed": false,
    "deletable": true,
    "editable": true
   },
   "outputs": [
    {
     "name": "stdout",
     "output_type": "stream",
     "text": [
      "Loading JSON data from /data/GitHub/lca-tools/lcatools/qdb/data/flowable_synlist.json:\n",
      "Loading JSON data from /data/GitHub/lca-tools/lcatools/qdb/data/quantity_synlist.json:\n",
      "local.qdb: /data/GitHub/2018/bw2-uncertainty/catalog/reference-quantities.json\n",
      "Loading JSON data from /data/GitHub/2018/bw2-uncertainty/catalog/reference-quantities.json:\n",
      "local.qdb: /data/GitHub/lca-tools/lcatools/providers/data/elcd_reference_quantities.json\n",
      "24 new quantity entities added (24 total)\n",
      "5 new flow entities added (5 total)\n"
     ]
    }
   ],
   "source": [
    "from antelope_catalog import LcCatalog\n",
    "cat = LcCatalog('/data/GitHub/2018/bw2-uncertainty/catalog/')"
   ]
  },
  {
   "cell_type": "markdown",
   "metadata": {
    "deletable": true,
    "editable": true
   },
   "source": [
    "## Step 1: Install Ecoinvent 3.4"
   ]
  },
  {
   "cell_type": "code",
   "execution_count": 2,
   "metadata": {
    "collapsed": true,
    "deletable": true,
    "editable": true
   },
   "outputs": [],
   "source": [
    "from antelope_catalog.data_sources.ecoinvent import EcoinventConfig"
   ]
  },
  {
   "cell_type": "code",
   "execution_count": 3,
   "metadata": {
    "collapsed": true,
    "deletable": true,
    "editable": true
   },
   "outputs": [],
   "source": [
    "ec = EcoinventConfig('/data/LCI/Ecoinvent')"
   ]
  },
  {
   "cell_type": "code",
   "execution_count": 4,
   "metadata": {
    "collapsed": false,
    "deletable": true,
    "editable": true
   },
   "outputs": [],
   "source": [
    "for ref in ec.references:\n",
    "    if ref.find('3.4') > 0:\n",
    "        for res in ec.make_resources(ref):\n",
    "            cat.add_resource(res)"
   ]
  },
  {
   "cell_type": "code",
   "execution_count": 5,
   "metadata": {
    "collapsed": false,
    "deletable": true,
    "editable": true
   },
   "outputs": [
    {
     "data": {
      "text/plain": [
       "['local.ecoinvent.3.4.apos:basic',\n",
       " 'local.ecoinvent.3.4.apos:index',\n",
       " 'local.ecoinvent.3.4.apos:inventory',\n",
       " 'local.ecoinvent.3.4.conseq:basic',\n",
       " 'local.ecoinvent.3.4.conseq:index',\n",
       " 'local.ecoinvent.3.4.conseq:inventory',\n",
       " 'local.ecoinvent.3.4.cutoff:basic',\n",
       " 'local.ecoinvent.3.4.cutoff:index',\n",
       " 'local.ecoinvent.3.4.cutoff:inventory',\n",
       " 'local.ecoinvent.3.4.cutoff.index__20180905:background',\n",
       " 'local.ecoinvent.3.4.cutoff.index__20180905:basic',\n",
       " 'local.ecoinvent.3.4.cutoff.index__20180905:index',\n",
       " 'local.qdb:basic',\n",
       " 'local.qdb:index',\n",
       " 'local.qdb:quantity']"
      ]
     },
     "execution_count": 5,
     "metadata": {},
     "output_type": "execute_result"
    }
   ],
   "source": [
    "[x for x in cat.interfaces]"
   ]
  },
  {
   "cell_type": "code",
   "execution_count": 6,
   "metadata": {
    "collapsed": false,
    "deletable": true,
    "editable": true,
    "scrolled": false
   },
   "outputs": [
    {
     "name": "stdout",
     "output_type": "stream",
     "text": [
      "local.ecoinvent.3.4.cutoff.index__20180905: /data/GitHub/2018/bw2-uncertainty/catalog/archives/local.ecoinvent.3.4.cutoff.index__20180905_background.mat\n",
      "Loading JSON data from /data/GitHub/2018/bw2-uncertainty/catalog/index/ffc0f70037f9e921067e85ac7e2d4ff0ba1bc3b5.json.gz:\n",
      "local.ecoinvent.3.4.cutoff.index__20180905: /data/GitHub/2018/bw2-uncertainty/catalog/index/ffc0f70037f9e921067e85ac7e2d4ff0ba1bc3b5.json.gz\n",
      "local.ecoinvent.3.4.cutoff: /data/LCI/Ecoinvent/3.4/ecoinvent 3.4_cutoff_ecoSpold02\n",
      "19 new quantity entities added (19 total)\n",
      "13459 new process entities added (13459 total)\n",
      "4881 new flow entities added (4881 total)\n",
      "local.ecoinvent.3.4.cutoff: /data/LCI/Ecoinvent/3.4/ecoinvent 3.4_cutoff_ecoSpold02\n",
      "Squashing bad termination in linked reference exchange, c72948d5-838a-4cb8-82ab-20d600051e93\n",
      "Flow d3d23054-a030-4284-9cfb-c464e70ec865 Term cca9f6a1-facd-423d-8984-168c6c4d570b\n",
      "Squashing bad termination in linked reference exchange, 8b39afef-2119-46c4-83cb-db8fe05c0cd5\n",
      "Flow 2c9486c9-1fc4-4535-a296-cd8f3bc0e1cd Term 9bb02448-d6ad-4699-8598-a47c11549762\n",
      "Squashing bad termination in linked reference exchange, 8b39afef-2119-46c4-83cb-db8fe05c0cd5\n",
      "Flow a514c9f2-0d4d-4ce2-809b-de4c29e74709 Term 8048ece9-5159-480a-8ff9-c3a84b0a8515\n",
      "Squashing bad termination in linked reference exchange, 46d6d691-275d-4d14-99cb-074ca06a96af\n",
      "Flow 2c9486c9-1fc4-4535-a296-cd8f3bc0e1cd Term c5b88f44-b8e7-40aa-b289-2a5a1d102728\n",
      "Squashing bad termination in linked reference exchange, 46d6d691-275d-4d14-99cb-074ca06a96af\n",
      "Flow a514c9f2-0d4d-4ce2-809b-de4c29e74709 Term 8048ece9-5159-480a-8ff9-c3a84b0a8515\n",
      "Squashing bad termination in linked reference exchange, fa5864f8-e476-49da-8484-ff3854a44a75\n",
      "Flow 2c9486c9-1fc4-4535-a296-cd8f3bc0e1cd Term a88ed08d-de87-4179-896e-3af229bf4473\n",
      "Squashing bad termination in linked reference exchange, fa5864f8-e476-49da-8484-ff3854a44a75\n",
      "Flow a514c9f2-0d4d-4ce2-809b-de4c29e74709 Term 474e8897-5988-4add-948e-a77e3d6874e4\n",
      "Squashing bad termination in linked reference exchange, 1c56bd91-2ef2-4fa8-a9fb-826e4a8daca4\n",
      "Flow aa447135-9cc5-4f34-9385-ca2a0ae70d3c Term aa948b8d-c846-4661-8762-8f0a43f5730d\n",
      "Squashing bad termination in linked reference exchange, bb37432f-784e-44ab-ae34-549a07996279\n",
      "Flow aa447135-9cc5-4f34-9385-ca2a0ae70d3c Term aa948b8d-c846-4661-8762-8f0a43f5730d\n",
      "Squashing bad termination in linked reference exchange, bcdad86d-9507-456a-b95f-665253eb96d5\n",
      "Flow aa447135-9cc5-4f34-9385-ca2a0ae70d3c Term 9cf07365-795b-48e9-9568-98e426697bf7\n",
      "Squashing bad termination in linked reference exchange, 8b487a60-f65a-4fed-9082-e35dd9bd7249\n",
      "Flow aa447135-9cc5-4f34-9385-ca2a0ae70d3c Term aa948b8d-c846-4661-8762-8f0a43f5730d\n",
      "Squashing bad termination in linked reference exchange, 3dd1621e-fa55-415a-89d1-8e822b00bfe9\n",
      "Flow aa447135-9cc5-4f34-9385-ca2a0ae70d3c Term e99cb878-812a-4019-aeac-6e2cf68b8e55\n",
      "Squashing bad termination in linked reference exchange, 2a7fd8c7-b05d-4d76-8cdf-216cb642c0fe\n",
      "Flow aa447135-9cc5-4f34-9385-ca2a0ae70d3c Term 9cf07365-795b-48e9-9568-98e426697bf7\n",
      "Squashing bad termination in linked reference exchange, 13ba6b4a-4580-4a45-980e-2e72d75cf806\n",
      "Flow aa447135-9cc5-4f34-9385-ca2a0ae70d3c Term e99cb878-812a-4019-aeac-6e2cf68b8e55\n",
      "Squashing bad termination in linked reference exchange, 9666e2e0-02e1-4366-8eff-2ef15c8ba552\n",
      "Flow aa447135-9cc5-4f34-9385-ca2a0ae70d3c Term 9cf07365-795b-48e9-9568-98e426697bf7\n",
      "Squashing bad termination in linked reference exchange, 5b42a9f9-94b3-4e50-b589-6f639b800690\n",
      "Flow aa447135-9cc5-4f34-9385-ca2a0ae70d3c Term e99cb878-812a-4019-aeac-6e2cf68b8e55\n",
      "Squashing bad termination in linked reference exchange, 2d3c7b08-1fe6-4bdd-9f98-a250dc68a4c4\n",
      "Flow aa447135-9cc5-4f34-9385-ca2a0ae70d3c Term 9cf07365-795b-48e9-9568-98e426697bf7\n",
      "Squashing bad termination in linked reference exchange, d8449404-cafc-4b42-b159-e2a50b2f7433\n",
      "Flow aa447135-9cc5-4f34-9385-ca2a0ae70d3c Term aa948b8d-c846-4661-8762-8f0a43f5730d\n",
      "Squashing bad termination in linked reference exchange, dae78f78-508e-49c6-b591-a3b4ae116c37\n",
      "Flow aa447135-9cc5-4f34-9385-ca2a0ae70d3c Term e99cb878-812a-4019-aeac-6e2cf68b8e55\n",
      "Squashing bad termination in linked reference exchange, 99ef86d7-b5c0-4282-b1ca-a65bd53c80d6\n",
      "Flow c5651546-a49e-4c1d-b856-1cf358ab466a Term abe2477a-5f31-458e-a3aa-92928702c077\n",
      "Squashing bad termination in linked reference exchange, c24ce0b9-f4b2-4d12-875c-97d08b2be8da\n",
      "Flow c5651546-a49e-4c1d-b856-1cf358ab466a Term abe2477a-5f31-458e-a3aa-92928702c077\n",
      "Squashing bad termination in linked reference exchange, 768feca0-c8ee-4456-ad45-60cba3ecaee3\n",
      "Flow c5651546-a49e-4c1d-b856-1cf358ab466a Term abe2477a-5f31-458e-a3aa-92928702c077\n",
      "Squashing bad termination in linked reference exchange, 9ba6a249-6003-47b6-92e6-cc6cec625030\n",
      "Flow c5651546-a49e-4c1d-b856-1cf358ab466a Term abe2477a-5f31-458e-a3aa-92928702c077\n",
      "Squashing bad termination in linked reference exchange, ad0254ea-3da0-41a8-9219-32a4c30f0897\n",
      "Flow c5651546-a49e-4c1d-b856-1cf358ab466a Term abe2477a-5f31-458e-a3aa-92928702c077\n",
      "Squashing bad termination in linked reference exchange, 398e18e0-7b10-45e8-b8da-2f56306d2d05\n",
      "Flow c5651546-a49e-4c1d-b856-1cf358ab466a Term abe2477a-5f31-458e-a3aa-92928702c077\n",
      "Squashing bad termination in linked reference exchange, b8c1f355-e55a-4e8d-9a91-1b27e1e14ee7\n",
      "Flow c5651546-a49e-4c1d-b856-1cf358ab466a Term 84ea7989-ab42-43ce-b6bf-9ed2d9d97159\n",
      "Squashing bad termination in linked reference exchange, 1c58dc0c-60d6-4d3f-9e36-73c9789e2b12\n",
      "Flow c5651546-a49e-4c1d-b856-1cf358ab466a Term 84ea7989-ab42-43ce-b6bf-9ed2d9d97159\n",
      "Squashing bad termination in linked reference exchange, ee6edc02-2979-411f-9114-aa29b939b44f\n",
      "Flow c5651546-a49e-4c1d-b856-1cf358ab466a Term 84ea7989-ab42-43ce-b6bf-9ed2d9d97159\n",
      "Squashing bad termination in linked reference exchange, 37c50312-5594-451a-b961-430348506b76\n",
      "Flow c5651546-a49e-4c1d-b856-1cf358ab466a Term 84ea7989-ab42-43ce-b6bf-9ed2d9d97159\n",
      "Squashing bad termination in linked reference exchange, 7c630a90-fe88-4ef2-9c69-300a02e3b368\n",
      "Flow c5651546-a49e-4c1d-b856-1cf358ab466a Term 84ea7989-ab42-43ce-b6bf-9ed2d9d97159\n",
      "Squashing bad termination in linked reference exchange, c6474813-e6c7-475e-a52f-c34a6b7f932e\n",
      "Flow c5651546-a49e-4c1d-b856-1cf358ab466a Term 84ea7989-ab42-43ce-b6bf-9ed2d9d97159\n",
      "Squashing bad termination in linked reference exchange, ef0eaa4a-6707-4b7a-8994-c8dc7e0a639e\n",
      "Flow c5651546-a49e-4c1d-b856-1cf358ab466a Term 66962eb8-0962-43f0-bdbe-634d2ba63cfd\n",
      "Squashing bad termination in linked reference exchange, 0675f357-4a24-4f89-ad6f-b48c62ddd9d8\n",
      "Flow c5651546-a49e-4c1d-b856-1cf358ab466a Term 66962eb8-0962-43f0-bdbe-634d2ba63cfd\n",
      "Squashing bad termination in linked reference exchange, c7ac2381-ae10-4711-b3ee-65fc81f22751\n",
      "Flow c5651546-a49e-4c1d-b856-1cf358ab466a Term 66962eb8-0962-43f0-bdbe-634d2ba63cfd\n",
      "Squashing bad termination in linked reference exchange, 160586f0-0cfa-4f16-8b3a-9e6b9aae4e6e\n",
      "Flow c5651546-a49e-4c1d-b856-1cf358ab466a Term 66962eb8-0962-43f0-bdbe-634d2ba63cfd\n",
      "Squashing bad termination in linked reference exchange, cd595458-3668-4434-8255-a230c3f52d80\n",
      "Flow c5651546-a49e-4c1d-b856-1cf358ab466a Term 66962eb8-0962-43f0-bdbe-634d2ba63cfd\n",
      "Squashing bad termination in linked reference exchange, 3d00cf0e-59c0-4d1a-a70f-fac924109224\n",
      "Flow c5651546-a49e-4c1d-b856-1cf358ab466a Term 66962eb8-0962-43f0-bdbe-634d2ba63cfd\n",
      "Squashing bad termination in linked reference exchange, 844ee2c0-3958-400d-8880-aceb25350500\n",
      "Flow aa447135-9cc5-4f34-9385-ca2a0ae70d3c Term 9cf07365-795b-48e9-9568-98e426697bf7\n",
      "Squashing bad termination in linked reference exchange, c2b5dfdb-4377-4572-a89a-b6ecdbc28940\n",
      "Flow aa447135-9cc5-4f34-9385-ca2a0ae70d3c Term 9cf07365-795b-48e9-9568-98e426697bf7\n",
      "Squashing bad termination in linked reference exchange, 7f99d15b-e930-48a5-bb65-7300b7671265\n",
      "Flow aa447135-9cc5-4f34-9385-ca2a0ae70d3c Term aa948b8d-c846-4661-8762-8f0a43f5730d\n",
      "Squashing bad termination in linked reference exchange, 2b30aa32-da95-4441-bf93-b07e588da759\n",
      "Flow aa447135-9cc5-4f34-9385-ca2a0ae70d3c Term aa948b8d-c846-4661-8762-8f0a43f5730d\n",
      "Squashing bad termination in linked reference exchange, af502a7a-c459-4eaf-b34b-74722dafc781\n",
      "Flow aa447135-9cc5-4f34-9385-ca2a0ae70d3c Term e99cb878-812a-4019-aeac-6e2cf68b8e55\n",
      "Squashing bad termination in linked reference exchange, a041684a-b77d-448e-b82b-d74610e7ab65\n",
      "Flow aa447135-9cc5-4f34-9385-ca2a0ae70d3c Term e99cb878-812a-4019-aeac-6e2cf68b8e55\n",
      "Squashing bad termination in linked reference exchange, 13b2929b-512b-4e66-a708-38ead3772178\n",
      "Flow 361e78e0-0094-48d2-b9a2-2c70921e5c1e Term 668a460d-0af5-43c9-8b0a-27363ade6b41\n",
      "Squashing bad termination in linked reference exchange, 13b2929b-512b-4e66-a708-38ead3772178\n",
      "Flow cfbc8873-47d4-4411-a18e-578ef35ab871 Term ae4c4957-a22b-4dc3-81d8-c4fc51beb5cd\n",
      "Squashing bad termination in linked reference exchange, 13b2929b-512b-4e66-a708-38ead3772178\n",
      "Flow 3a9b33f8-d1b1-4bea-9df7-7db6846c6df6 Term c8cd2805-3fd3-4155-be30-a6c89e75716a\n",
      "Squashing bad termination in linked reference exchange, 13b2929b-512b-4e66-a708-38ead3772178\n",
      "Flow e1126956-dc57-4837-849f-57fb25c8effa Term f2fe693b-72c5-4e47-b3b2-9aa92243e186\n",
      "Squashing bad termination in linked reference exchange, 13b2929b-512b-4e66-a708-38ead3772178\n",
      "Flow df12f8f5-a3e3-4506-9d86-b33205d21a52 Term 95010049-ec26-4567-8381-86f3b3042802\n",
      "Squashing bad termination in linked reference exchange, 71663e8e-124a-49ba-9402-60406dc01321\n",
      "Flow 361e78e0-0094-48d2-b9a2-2c70921e5c1e Term 668a460d-0af5-43c9-8b0a-27363ade6b41\n",
      "Squashing bad termination in linked reference exchange, 71663e8e-124a-49ba-9402-60406dc01321\n",
      "Flow cfbc8873-47d4-4411-a18e-578ef35ab871 Term ae4c4957-a22b-4dc3-81d8-c4fc51beb5cd\n",
      "Squashing bad termination in linked reference exchange, 71663e8e-124a-49ba-9402-60406dc01321\n",
      "Flow 3a9b33f8-d1b1-4bea-9df7-7db6846c6df6 Term c8cd2805-3fd3-4155-be30-a6c89e75716a\n",
      "Squashing bad termination in linked reference exchange, 71663e8e-124a-49ba-9402-60406dc01321\n",
      "Flow e1126956-dc57-4837-849f-57fb25c8effa Term f2fe693b-72c5-4e47-b3b2-9aa92243e186\n",
      "Squashing bad termination in linked reference exchange, 71663e8e-124a-49ba-9402-60406dc01321\n",
      "Flow df12f8f5-a3e3-4506-9d86-b33205d21a52 Term 95010049-ec26-4567-8381-86f3b3042802\n",
      "Squashing bad termination in linked reference exchange, d1179952-7a12-4fe7-8b2b-e98f1522ddc3\n",
      "Flow 76ab0018-e176-43e0-b42c-12e82b937fef Term 0ffcc93b-0953-45e8-a176-9288ebff4c8a\n",
      "local.ecoinvent.3.4.cutoff.index__20180905: <source removed>\n",
      "local.ecoinvent.3.4.cutoff: /data/GitHub/2018/bw2-uncertainty/catalog/archives/local.ecoinvent.3.4.cutoff.index__20180905_background.mat\n"
     ]
    },
    {
     "data": {
      "text/plain": [
       "<generator object TarjanBackgroundImplementation.foreground_flows at 0x7f32146e7308>"
      ]
     },
     "execution_count": 6,
     "metadata": {},
     "output_type": "execute_result"
    }
   ],
   "source": [
    "# trigger data source index + background creation\n",
    "cat.query('local.ecoinvent.3.4.cutoff').foreground_flows()"
   ]
  },
  {
   "cell_type": "markdown",
   "metadata": {},
   "source": [
    "## LCIA"
   ]
  },
  {
   "cell_type": "code",
   "execution_count": null,
   "metadata": {
    "collapsed": true
   },
   "outputs": [],
   "source": [
    "cat.new_resource('local.lcia.ecoinvent.3.1.2014_08_13', '/data/LCI/LCIA implementation v3.1 2014_08_13.xlsx',\n",
    "                'EcoinventLcia', interfaces=('index', 'quantity'), static=True, \n",
    "                 ns_uuid='46802ca5-8b25-398c-af10-2376adaa4623')"
   ]
  }
 ],
 "metadata": {
  "kernelspec": {
   "display_name": "lca-tools",
   "language": "python",
   "name": "lca-tools"
  },
  "language_info": {
   "codemirror_mode": {
    "name": "ipython",
    "version": 3
   },
   "file_extension": ".py",
   "mimetype": "text/x-python",
   "name": "python",
   "nbconvert_exporter": "python",
   "pygments_lexer": "ipython3",
   "version": "3.6.6"
  }
 },
 "nbformat": 4,
 "nbformat_minor": 2
}
