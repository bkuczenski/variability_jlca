{
 "cells": [
  {
   "cell_type": "markdown",
   "metadata": {},
   "source": [
    "# Configuring Antelope Catalog to use local ecoinvent\n",
    "When you first install the `variability_jlca` repo, it will not come with any Ecoinvent data. Instead, you will have to install your local copy.  That's done using the `EcoinventConfig` class.  This class requires that the ecoinvent data be stored in a directory structure consistent with the way files are distributed by ecoinvent."
   ]
  },
  {
   "cell_type": "code",
   "execution_count": 1,
   "metadata": {},
   "outputs": [
    {
     "name": "stdout",
     "output_type": "stream",
     "text": [
      "Loading JSON data from /data/GitHub/lca-tools/lcatools/qdb/data/flowable_synlist.json:\n",
      "Loading JSON data from /data/GitHub/lca-tools/lcatools/qdb/data/quantity_synlist.json:\n",
      "local.qdb: /data/GitHub/2019/variability_jlca/catalog/reference-quantities.json\n",
      "Loading JSON data from /data/GitHub/2019/variability_jlca/catalog/reference-quantities.json:\n",
      "local.qdb: /data/GitHub/lca-tools/lcatools/qdb/data/elcd_reference_quantities.json\n",
      "25 new quantity entities added (25 total)\n",
      "6 new flow entities added (6 total)\n"
     ]
    }
   ],
   "source": [
    "import os\n",
    "from antelope_catalog import LcCatalog\n",
    "\n",
    "STUDY_PATH = '/data/GitHub/2019/variability_jlca/'\n",
    "\n",
    "cat = LcCatalog(os.path.join(STUDY_PATH,'catalog'), quell_biogenic_co2=True)"
   ]
  },
  {
   "cell_type": "markdown",
   "metadata": {},
   "source": [
    "## Step 1: Install Ecoinvent 3.4"
   ]
  },
  {
   "cell_type": "code",
   "execution_count": 2,
   "metadata": {},
   "outputs": [],
   "source": [
    "from antelope_catalog.data_sources.ecoinvent import EcoinventConfig"
   ]
  },
  {
   "cell_type": "markdown",
   "metadata": {},
   "source": [
    "In order to use `EcoinventConfig`, the only required input is the path to the ecoinvent LCI data.  This path should include subfolders named by minor version, e.g. `3.2`, `3.3`, `3.4`.  Those subfolders should include the authentic `.7z` files downloaded from the ecoinvent website, e.g. `ecoinvent 3.4_apos_ecoSpold02.7z`. \n",
    "\n",
    "With old versions, the `7z` file could be accessed directly; however, beginning with version 3.4, the Ecoinvent Centre began using an up-to-date `7zip` algorithm to which python's `pylzma` library has not yet caught up, and so these files need to be uncompressed before they can be accessed.  Using the default settings, the uncompressed files will go into a directory with the same name as the `7z` file, e.g. `ecoinvent 3.4_apos_ecospold02`.  The `EcoinventConfig` class will already expect a subfolder called `datasets` to contain the actual XML files.\n",
    "\n",
    "Ecoinvent's LCIA files should either be placed in their appropriate subdirectories, or in another directory alongside the minor versions whose name is case-insensitively equal to `lcia`."
   ]
  },
  {
   "cell_type": "code",
   "execution_count": 3,
   "metadata": {},
   "outputs": [
    {
     "name": "stdout",
     "output_type": "stream",
     "text": [
      "local.ecoinvent.3.4.apos\n",
      "local.ecoinvent.3.4.conseq\n",
      "local.ecoinvent.3.4.cutoff\n",
      "local.ecoinvent.3.2.apos\n",
      "local.ecoinvent.3.2.conseq\n",
      "local.ecoinvent.3.2.cutoff\n",
      "local.lcia.ecoinvent.3.1\n",
      "local.ecoinvent.3.3.cutoff\n"
     ]
    }
   ],
   "source": [
    "# this will create the configurator and list the resources it can find\n",
    "ec = EcoinventConfig('/data/LCI/Ecoinvent')\n",
    "for x in ec.references:\n",
    "    print(x)"
   ]
  },
  {
   "cell_type": "code",
   "execution_count": 4,
   "metadata": {},
   "outputs": [],
   "source": [
    "for ref in ec.references:\n",
    "    if ref.startswith('local.ecoinvent.3.4'):\n",
    "        for res in ec.make_resources(ref):\n",
    "            cat.add_resource(res)"
   ]
  },
  {
   "cell_type": "markdown",
   "metadata": {},
   "source": [
    "After adding the resources, the catalog will list them in its interfaces.  The resources still need to be loaded, indexed, and used to generate (static) background LCI matrices."
   ]
  },
  {
   "cell_type": "code",
   "execution_count": 5,
   "metadata": {},
   "outputs": [
    {
     "name": "stdout",
     "output_type": "stream",
     "text": [
      "local.ecoinvent.3.4.apos [basic, inventory]\n",
      "local.ecoinvent.3.4.conseq [basic, inventory]\n",
      "local.ecoinvent.3.4.cutoff [basic, inventory]\n",
      "local.qdb [basic, index, quantity]\n"
     ]
    }
   ],
   "source": [
    "cat.show_interfaces()"
   ]
  },
  {
   "cell_type": "code",
   "execution_count": 6,
   "metadata": {
    "scrolled": true
   },
   "outputs": [
    {
     "name": "stdout",
     "output_type": "stream",
     "text": [
      "local.ecoinvent.3.4.cutoff: /data/LCI/Ecoinvent/3.4/ecoinvent 3.4_cutoff_ecoSpold02\n",
      "Loading /data/LCI/Ecoinvent/3.4/ecoinvent 3.4_cutoff_ecoSpold02\n",
      "Squashing bad termination in linked reference exchange, 160586f0-0cfa-4f16-8b3a-9e6b9aae4e6e\n",
      "Flow c5651546-a49e-4c1d-b856-1cf358ab466a Term 66962eb8-0962-43f0-bdbe-634d2ba63cfd\n",
      "Squashing bad termination in linked reference exchange, a041684a-b77d-448e-b82b-d74610e7ab65\n",
      "Flow aa447135-9cc5-4f34-9385-ca2a0ae70d3c Term e99cb878-812a-4019-aeac-6e2cf68b8e55\n",
      " Loaded 100 processes (t=1.18 s)\n",
      " Loaded 200 processes (t=3.24 s)\n",
      " Loaded 300 processes (t=4.36 s)\n",
      " Loaded 400 processes (t=5.51 s)\n",
      " Loaded 500 processes (t=6.27 s)\n",
      " Loaded 600 processes (t=7.08 s)\n",
      "Squashing bad termination in linked reference exchange, 9ba6a249-6003-47b6-92e6-cc6cec625030\n",
      "Flow c5651546-a49e-4c1d-b856-1cf358ab466a Term abe2477a-5f31-458e-a3aa-92928702c077\n",
      " Loaded 700 processes (t=9.36 s)\n",
      " Loaded 800 processes (t=11.79 s)\n",
      "Squashing bad termination in linked reference exchange, 398e18e0-7b10-45e8-b8da-2f56306d2d05\n",
      "Flow c5651546-a49e-4c1d-b856-1cf358ab466a Term abe2477a-5f31-458e-a3aa-92928702c077\n",
      "Squashing bad termination in linked reference exchange, 2a7fd8c7-b05d-4d76-8cdf-216cb642c0fe\n",
      "Flow aa447135-9cc5-4f34-9385-ca2a0ae70d3c Term 9cf07365-795b-48e9-9568-98e426697bf7\n",
      " Loaded 900 processes (t=14.28 s)\n",
      "Squashing bad termination in linked reference exchange, 3dd1621e-fa55-415a-89d1-8e822b00bfe9\n",
      "Flow aa447135-9cc5-4f34-9385-ca2a0ae70d3c Term e99cb878-812a-4019-aeac-6e2cf68b8e55\n",
      " Loaded 1000 processes (t=15.73 s)\n",
      " Loaded 1100 processes (t=16.66 s)\n",
      " Loaded 1200 processes (t=18.54 s)\n",
      "Squashing bad termination in linked reference exchange, 8b487a60-f65a-4fed-9082-e35dd9bd7249\n",
      "Flow aa447135-9cc5-4f34-9385-ca2a0ae70d3c Term aa948b8d-c846-4661-8762-8f0a43f5730d\n",
      " Loaded 1300 processes (t=19.98 s)\n",
      " Loaded 1400 processes (t=21.13 s)\n",
      " Loaded 1500 processes (t=22.18 s)\n",
      "Squashing bad termination in linked reference exchange, 0675f357-4a24-4f89-ad6f-b48c62ddd9d8\n",
      "Flow c5651546-a49e-4c1d-b856-1cf358ab466a Term 66962eb8-0962-43f0-bdbe-634d2ba63cfd\n",
      " Loaded 1600 processes (t=23.26 s)\n",
      "Squashing bad termination in linked reference exchange, 9666e2e0-02e1-4366-8eff-2ef15c8ba552\n",
      "Flow aa447135-9cc5-4f34-9385-ca2a0ae70d3c Term 9cf07365-795b-48e9-9568-98e426697bf7\n",
      " Loaded 1700 processes (t=24.64 s)\n",
      " Loaded 1800 processes (t=25.84 s)\n",
      "Squashing bad termination in linked reference exchange, 2d3c7b08-1fe6-4bdd-9f98-a250dc68a4c4\n",
      "Flow aa447135-9cc5-4f34-9385-ca2a0ae70d3c Term 9cf07365-795b-48e9-9568-98e426697bf7\n",
      " Loaded 1900 processes (t=27.17 s)\n",
      " Loaded 2000 processes (t=28.15 s)\n",
      " Loaded 2100 processes (t=29.28 s)\n",
      " Loaded 2200 processes (t=30.30 s)\n",
      "Squashing bad termination in linked reference exchange, 7f99d15b-e930-48a5-bb65-7300b7671265\n",
      "Flow aa447135-9cc5-4f34-9385-ca2a0ae70d3c Term aa948b8d-c846-4661-8762-8f0a43f5730d\n",
      "Squashing bad termination in linked reference exchange, 8b39afef-2119-46c4-83cb-db8fe05c0cd5\n",
      "Flow 2c9486c9-1fc4-4535-a296-cd8f3bc0e1cd Term 9bb02448-d6ad-4699-8598-a47c11549762\n",
      "Squashing bad termination in linked reference exchange, 8b39afef-2119-46c4-83cb-db8fe05c0cd5\n",
      "Flow a514c9f2-0d4d-4ce2-809b-de4c29e74709 Term 8048ece9-5159-480a-8ff9-c3a84b0a8515\n",
      " Loaded 2300 processes (t=31.73 s)\n",
      "Squashing bad termination in linked reference exchange, 2b30aa32-da95-4441-bf93-b07e588da759\n",
      "Flow aa447135-9cc5-4f34-9385-ca2a0ae70d3c Term aa948b8d-c846-4661-8762-8f0a43f5730d\n",
      " Loaded 2400 processes (t=33.24 s)\n",
      " Loaded 2500 processes (t=34.79 s)\n",
      " Loaded 2600 processes (t=36.53 s)\n",
      "Squashing bad termination in linked reference exchange, cd595458-3668-4434-8255-a230c3f52d80\n",
      "Flow c5651546-a49e-4c1d-b856-1cf358ab466a Term 66962eb8-0962-43f0-bdbe-634d2ba63cfd\n",
      " Loaded 2700 processes (t=37.47 s)\n",
      " Loaded 2800 processes (t=38.66 s)\n",
      " Loaded 2900 processes (t=39.79 s)\n",
      "Squashing bad termination in linked reference exchange, ee6edc02-2979-411f-9114-aa29b939b44f\n",
      "Flow c5651546-a49e-4c1d-b856-1cf358ab466a Term 84ea7989-ab42-43ce-b6bf-9ed2d9d97159\n",
      " Loaded 3000 processes (t=40.86 s)\n",
      " Loaded 3100 processes (t=41.46 s)\n",
      "Squashing bad termination in linked reference exchange, 768feca0-c8ee-4456-ad45-60cba3ecaee3\n",
      "Flow c5651546-a49e-4c1d-b856-1cf358ab466a Term abe2477a-5f31-458e-a3aa-92928702c077\n",
      " Loaded 3200 processes (t=42.11 s)\n",
      " Loaded 3300 processes (t=42.73 s)\n",
      "Squashing bad termination in linked reference exchange, ad0254ea-3da0-41a8-9219-32a4c30f0897\n",
      "Flow c5651546-a49e-4c1d-b856-1cf358ab466a Term abe2477a-5f31-458e-a3aa-92928702c077\n",
      "Squashing bad termination in linked reference exchange, 37c50312-5594-451a-b961-430348506b76\n",
      "Flow c5651546-a49e-4c1d-b856-1cf358ab466a Term 84ea7989-ab42-43ce-b6bf-9ed2d9d97159\n",
      " Loaded 3400 processes (t=43.49 s)\n",
      " Loaded 3500 processes (t=44.86 s)\n",
      "Squashing bad termination in linked reference exchange, 7c630a90-fe88-4ef2-9c69-300a02e3b368\n",
      "Flow c5651546-a49e-4c1d-b856-1cf358ab466a Term 84ea7989-ab42-43ce-b6bf-9ed2d9d97159\n",
      " Loaded 3600 processes (t=45.87 s)\n",
      "Squashing bad termination in linked reference exchange, c72948d5-838a-4cb8-82ab-20d600051e93\n",
      "Flow d3d23054-a030-4284-9cfb-c464e70ec865 Term cca9f6a1-facd-423d-8984-168c6c4d570b\n",
      "Squashing bad termination in linked reference exchange, 13b2929b-512b-4e66-a708-38ead3772178\n",
      "Flow df12f8f5-a3e3-4506-9d86-b33205d21a52 Term 95010049-ec26-4567-8381-86f3b3042802\n",
      "Squashing bad termination in linked reference exchange, 13b2929b-512b-4e66-a708-38ead3772178\n",
      "Flow 3a9b33f8-d1b1-4bea-9df7-7db6846c6df6 Term c8cd2805-3fd3-4155-be30-a6c89e75716a\n",
      "Squashing bad termination in linked reference exchange, 13b2929b-512b-4e66-a708-38ead3772178\n",
      "Flow 361e78e0-0094-48d2-b9a2-2c70921e5c1e Term 668a460d-0af5-43c9-8b0a-27363ade6b41\n",
      "Squashing bad termination in linked reference exchange, 13b2929b-512b-4e66-a708-38ead3772178\n",
      "Flow e1126956-dc57-4837-849f-57fb25c8effa Term f2fe693b-72c5-4e47-b3b2-9aa92243e186\n",
      "Squashing bad termination in linked reference exchange, 13b2929b-512b-4e66-a708-38ead3772178\n",
      "Flow cfbc8873-47d4-4411-a18e-578ef35ab871 Term ae4c4957-a22b-4dc3-81d8-c4fc51beb5cd\n",
      " Loaded 3700 processes (t=46.65 s)\n",
      " Loaded 3800 processes (t=47.37 s)\n",
      "Squashing bad termination in linked reference exchange, b8c1f355-e55a-4e8d-9a91-1b27e1e14ee7\n",
      "Flow c5651546-a49e-4c1d-b856-1cf358ab466a Term 84ea7989-ab42-43ce-b6bf-9ed2d9d97159\n",
      " Loaded 3900 processes (t=48.11 s)\n",
      "Squashing bad termination in linked reference exchange, 1c56bd91-2ef2-4fa8-a9fb-826e4a8daca4\n",
      "Flow aa447135-9cc5-4f34-9385-ca2a0ae70d3c Term aa948b8d-c846-4661-8762-8f0a43f5730d\n",
      " Loaded 4000 processes (t=49.04 s)\n",
      " Loaded 4100 processes (t=50.47 s)\n",
      " Loaded 4200 processes (t=51.36 s)\n",
      "Squashing bad termination in linked reference exchange, c2b5dfdb-4377-4572-a89a-b6ecdbc28940\n",
      "Flow aa447135-9cc5-4f34-9385-ca2a0ae70d3c Term 9cf07365-795b-48e9-9568-98e426697bf7\n",
      "Squashing bad termination in linked reference exchange, 13ba6b4a-4580-4a45-980e-2e72d75cf806\n",
      "Flow aa447135-9cc5-4f34-9385-ca2a0ae70d3c Term e99cb878-812a-4019-aeac-6e2cf68b8e55\n",
      " Loaded 4300 processes (t=52.05 s)\n",
      "Squashing bad termination in linked reference exchange, ef0eaa4a-6707-4b7a-8994-c8dc7e0a639e\n",
      "Flow c5651546-a49e-4c1d-b856-1cf358ab466a Term 66962eb8-0962-43f0-bdbe-634d2ba63cfd\n",
      " Loaded 4400 processes (t=53.00 s)\n",
      "Squashing bad termination in linked reference exchange, dae78f78-508e-49c6-b591-a3b4ae116c37\n",
      "Flow aa447135-9cc5-4f34-9385-ca2a0ae70d3c Term e99cb878-812a-4019-aeac-6e2cf68b8e55\n",
      " Loaded 4500 processes (t=53.63 s)\n",
      " Loaded 4600 processes (t=54.51 s)\n",
      " Loaded 4700 processes (t=55.21 s)\n",
      "Squashing bad termination in linked reference exchange, bb37432f-784e-44ab-ae34-549a07996279\n",
      "Flow aa447135-9cc5-4f34-9385-ca2a0ae70d3c Term aa948b8d-c846-4661-8762-8f0a43f5730d\n",
      " Loaded 4800 processes (t=56.00 s)\n",
      " Loaded 4900 processes (t=56.70 s)\n",
      " Loaded 5000 processes (t=57.55 s)\n",
      " Loaded 5100 processes (t=58.44 s)\n",
      " Loaded 5200 processes (t=59.35 s)\n",
      " Loaded 5300 processes (t=60.50 s)\n",
      "Squashing bad termination in linked reference exchange, d1179952-7a12-4fe7-8b2b-e98f1522ddc3\n",
      "Flow 76ab0018-e176-43e0-b42c-12e82b937fef Term 0ffcc93b-0953-45e8-a176-9288ebff4c8a\n",
      " Loaded 5400 processes (t=61.31 s)\n",
      " Loaded 5500 processes (t=62.37 s)\n",
      " Loaded 5600 processes (t=63.15 s)\n",
      " Loaded 5700 processes (t=63.95 s)\n",
      " Loaded 5800 processes (t=64.60 s)\n",
      " Loaded 5900 processes (t=65.32 s)\n"
     ]
    },
    {
     "name": "stdout",
     "output_type": "stream",
     "text": [
      " Loaded 6000 processes (t=66.81 s)\n",
      "Squashing bad termination in linked reference exchange, d8449404-cafc-4b42-b159-e2a50b2f7433\n",
      "Flow aa447135-9cc5-4f34-9385-ca2a0ae70d3c Term aa948b8d-c846-4661-8762-8f0a43f5730d\n",
      " Loaded 6100 processes (t=67.76 s)\n",
      "Squashing bad termination in linked reference exchange, af502a7a-c459-4eaf-b34b-74722dafc781\n",
      "Flow aa447135-9cc5-4f34-9385-ca2a0ae70d3c Term e99cb878-812a-4019-aeac-6e2cf68b8e55\n",
      " Loaded 6200 processes (t=68.48 s)\n",
      " Loaded 6300 processes (t=69.64 s)\n",
      " Loaded 6400 processes (t=70.56 s)\n",
      " Loaded 6500 processes (t=71.14 s)\n",
      " Loaded 6600 processes (t=71.73 s)\n",
      " Loaded 6700 processes (t=72.35 s)\n",
      " Loaded 6800 processes (t=73.11 s)\n",
      " Loaded 6900 processes (t=73.81 s)\n",
      " Loaded 7000 processes (t=74.36 s)\n",
      "Squashing bad termination in linked reference exchange, 71663e8e-124a-49ba-9402-60406dc01321\n",
      "Flow df12f8f5-a3e3-4506-9d86-b33205d21a52 Term 95010049-ec26-4567-8381-86f3b3042802\n",
      "Squashing bad termination in linked reference exchange, 71663e8e-124a-49ba-9402-60406dc01321\n",
      "Flow 3a9b33f8-d1b1-4bea-9df7-7db6846c6df6 Term c8cd2805-3fd3-4155-be30-a6c89e75716a\n",
      "Squashing bad termination in linked reference exchange, 71663e8e-124a-49ba-9402-60406dc01321\n",
      "Flow cfbc8873-47d4-4411-a18e-578ef35ab871 Term ae4c4957-a22b-4dc3-81d8-c4fc51beb5cd\n",
      "Squashing bad termination in linked reference exchange, 71663e8e-124a-49ba-9402-60406dc01321\n",
      "Flow e1126956-dc57-4837-849f-57fb25c8effa Term f2fe693b-72c5-4e47-b3b2-9aa92243e186\n",
      "Squashing bad termination in linked reference exchange, 71663e8e-124a-49ba-9402-60406dc01321\n",
      "Flow 361e78e0-0094-48d2-b9a2-2c70921e5c1e Term 668a460d-0af5-43c9-8b0a-27363ade6b41\n",
      " Loaded 7100 processes (t=75.01 s)\n",
      " Loaded 7200 processes (t=75.75 s)\n",
      " Loaded 7300 processes (t=76.29 s)\n",
      "Squashing bad termination in linked reference exchange, c7ac2381-ae10-4711-b3ee-65fc81f22751\n",
      "Flow c5651546-a49e-4c1d-b856-1cf358ab466a Term 66962eb8-0962-43f0-bdbe-634d2ba63cfd\n",
      " Loaded 7400 processes (t=76.96 s)\n",
      " Loaded 7500 processes (t=77.82 s)\n",
      " Loaded 7600 processes (t=78.44 s)\n",
      "Squashing bad termination in linked reference exchange, c6474813-e6c7-475e-a52f-c34a6b7f932e\n",
      "Flow c5651546-a49e-4c1d-b856-1cf358ab466a Term 84ea7989-ab42-43ce-b6bf-9ed2d9d97159\n",
      " Loaded 7700 processes (t=79.16 s)\n",
      " Loaded 7800 processes (t=79.92 s)\n",
      "Squashing bad termination in linked reference exchange, 46d6d691-275d-4d14-99cb-074ca06a96af\n",
      "Flow 2c9486c9-1fc4-4535-a296-cd8f3bc0e1cd Term c5b88f44-b8e7-40aa-b289-2a5a1d102728\n",
      "Squashing bad termination in linked reference exchange, 46d6d691-275d-4d14-99cb-074ca06a96af\n",
      "Flow a514c9f2-0d4d-4ce2-809b-de4c29e74709 Term 8048ece9-5159-480a-8ff9-c3a84b0a8515\n",
      "Squashing bad termination in linked reference exchange, 3d00cf0e-59c0-4d1a-a70f-fac924109224\n",
      "Flow c5651546-a49e-4c1d-b856-1cf358ab466a Term 66962eb8-0962-43f0-bdbe-634d2ba63cfd\n",
      " Loaded 7900 processes (t=80.78 s)\n",
      " Loaded 8000 processes (t=81.86 s)\n",
      " Loaded 8100 processes (t=82.95 s)\n",
      " Loaded 8200 processes (t=83.43 s)\n",
      " Loaded 8300 processes (t=84.15 s)\n",
      " Loaded 8400 processes (t=84.75 s)\n",
      " Loaded 8500 processes (t=85.46 s)\n",
      " Loaded 8600 processes (t=86.09 s)\n",
      " Loaded 8700 processes (t=86.98 s)\n",
      "Squashing bad termination in linked reference exchange, c24ce0b9-f4b2-4d12-875c-97d08b2be8da\n",
      "Flow c5651546-a49e-4c1d-b856-1cf358ab466a Term abe2477a-5f31-458e-a3aa-92928702c077\n",
      " Loaded 8800 processes (t=87.73 s)\n",
      " Loaded 8900 processes (t=88.46 s)\n",
      " Loaded 9000 processes (t=89.07 s)\n",
      " Loaded 9100 processes (t=89.69 s)\n",
      " Loaded 9200 processes (t=90.36 s)\n",
      " Loaded 9300 processes (t=91.13 s)\n",
      "Squashing bad termination in linked reference exchange, fa5864f8-e476-49da-8484-ff3854a44a75\n",
      "Flow 2c9486c9-1fc4-4535-a296-cd8f3bc0e1cd Term a88ed08d-de87-4179-896e-3af229bf4473\n",
      "Squashing bad termination in linked reference exchange, fa5864f8-e476-49da-8484-ff3854a44a75\n",
      "Flow a514c9f2-0d4d-4ce2-809b-de4c29e74709 Term 474e8897-5988-4add-948e-a77e3d6874e4\n",
      " Loaded 9400 processes (t=91.85 s)\n",
      "Squashing bad termination in linked reference exchange, 844ee2c0-3958-400d-8880-aceb25350500\n",
      "Flow aa447135-9cc5-4f34-9385-ca2a0ae70d3c Term 9cf07365-795b-48e9-9568-98e426697bf7\n",
      " Loaded 9500 processes (t=92.65 s)\n",
      " Loaded 9600 processes (t=93.28 s)\n",
      " Loaded 9700 processes (t=93.80 s)\n",
      " Loaded 9800 processes (t=94.41 s)\n",
      " Loaded 9900 processes (t=95.04 s)\n",
      "Squashing bad termination in linked reference exchange, bcdad86d-9507-456a-b95f-665253eb96d5\n",
      "Flow aa447135-9cc5-4f34-9385-ca2a0ae70d3c Term 9cf07365-795b-48e9-9568-98e426697bf7\n",
      " Loaded 10000 processes (t=95.64 s)\n",
      " Loaded 10100 processes (t=96.49 s)\n",
      " Loaded 10200 processes (t=97.15 s)\n",
      " Loaded 10300 processes (t=97.88 s)\n",
      " Loaded 10400 processes (t=98.84 s)\n",
      " Loaded 10500 processes (t=99.46 s)\n",
      " Loaded 10600 processes (t=100.03 s)\n",
      " Loaded 10700 processes (t=100.76 s)\n",
      "Squashing bad termination in linked reference exchange, 99ef86d7-b5c0-4282-b1ca-a65bd53c80d6\n",
      "Flow c5651546-a49e-4c1d-b856-1cf358ab466a Term abe2477a-5f31-458e-a3aa-92928702c077\n",
      " Loaded 10800 processes (t=101.62 s)\n",
      " Loaded 10900 processes (t=102.28 s)\n",
      " Loaded 11000 processes (t=103.00 s)\n",
      " Loaded 11100 processes (t=103.56 s)\n",
      " Loaded 11200 processes (t=104.27 s)\n",
      " Loaded 11300 processes (t=104.92 s)\n",
      " Loaded 11400 processes (t=105.49 s)\n",
      " Loaded 11500 processes (t=106.04 s)\n",
      " Loaded 11600 processes (t=106.69 s)\n",
      " Loaded 11700 processes (t=107.53 s)\n",
      " Loaded 11800 processes (t=108.24 s)\n",
      " Loaded 11900 processes (t=108.71 s)\n",
      " Loaded 12000 processes (t=109.43 s)\n",
      " Loaded 12100 processes (t=110.01 s)\n",
      "Squashing bad termination in linked reference exchange, 1c58dc0c-60d6-4d3f-9e36-73c9789e2b12\n",
      "Flow c5651546-a49e-4c1d-b856-1cf358ab466a Term 84ea7989-ab42-43ce-b6bf-9ed2d9d97159\n",
      " Loaded 12200 processes (t=110.62 s)\n",
      " Loaded 12300 processes (t=111.27 s)\n",
      " Loaded 12400 processes (t=111.88 s)\n",
      " Loaded 12500 processes (t=112.63 s)\n",
      " Loaded 12600 processes (t=113.44 s)\n",
      " Loaded 12700 processes (t=114.16 s)\n",
      " Loaded 12800 processes (t=114.70 s)\n",
      " Loaded 12900 processes (t=115.30 s)\n",
      " Loaded 13000 processes (t=115.93 s)\n",
      " Loaded 13100 processes (t=116.68 s)\n",
      " Loaded 13200 processes (t=117.37 s)\n",
      "Squashing bad termination in linked reference exchange, 5b42a9f9-94b3-4e50-b589-6f639b800690\n",
      "Flow aa447135-9cc5-4f34-9385-ca2a0ae70d3c Term e99cb878-812a-4019-aeac-6e2cf68b8e55\n",
      " Loaded 13300 processes (t=118.25 s)\n",
      " Loaded 13400 processes (t=118.92 s)\n",
      " Loaded 13459 processes (t=119.28 s)\n",
      "19 new quantity entities added (19 total)\n",
      "13459 new process entities added (13459 total)\n",
      "4881 new flow entities added (4881 total)\n",
      "local.ecoinvent.3.4.cutoff.index.20190204: /data/GitHub/2019/variability_jlca/catalog/index/ffc0f70037f9e921067e85ac7e2d4ff0ba1bc3b5.json.gz\n",
      "local.ecoinvent.3.4.cutoff: /data/LCI/Ecoinvent/3.4/ecoinvent 3.4_cutoff_ecoSpold02\n",
      "19 new quantity entities added (19 total)\n",
      "13459 new process entities added (13459 total)\n",
      "4881 new flow entities added (4881 total)\n",
      "local.ecoinvent.3.4.cutoff.index.20190204: /data/GitHub/2019/variability_jlca/catalog/archives/local.ecoinvent.3.4.cutoff.index.20190204_background.mat\n",
      "local.ecoinvent.3.4.cutoff.index.20190204: <source removed>\n",
      "local.ecoinvent.3.4.cutoff: /data/GitHub/2019/variability_jlca/catalog/archives/local.ecoinvent.3.4.cutoff.index.20190204_background.mat\n"
     ]
    },
    {
     "data": {
      "text/plain": [
       "True"
      ]
     },
     "execution_count": 6,
     "metadata": {},
     "output_type": "execute_result"
    }
   ],
   "source": [
    "# trigger data source index + background creation\n",
    "cat.query('local.ecoinvent.3.4.cutoff').check_bg()"
   ]
  },
  {
   "cell_type": "code",
   "execution_count": 7,
   "metadata": {
    "scrolled": true
   },
   "outputs": [
    {
     "name": "stdout",
     "output_type": "stream",
     "text": [
      "local.ecoinvent.3.4.apos: /data/LCI/Ecoinvent/3.4/ecoinvent 3.4_apos_ecoSpold02\n",
      "Loading /data/LCI/Ecoinvent/3.4/ecoinvent 3.4_apos_ecoSpold02\n",
      " Loaded 100 processes (t=2.12 s)\n",
      " Loaded 200 processes (t=4.35 s)\n",
      " Loaded 300 processes (t=5.65 s)\n",
      " Loaded 400 processes (t=8.13 s)\n",
      " Loaded 500 processes (t=9.23 s)\n",
      " Loaded 600 processes (t=11.97 s)\n",
      " Loaded 700 processes (t=15.44 s)\n",
      " Loaded 800 processes (t=16.82 s)\n",
      " Loaded 900 processes (t=18.79 s)\n",
      " Loaded 1000 processes (t=21.81 s)\n",
      " Loaded 1100 processes (t=22.85 s)\n",
      " Loaded 1200 processes (t=24.09 s)\n",
      " Loaded 1300 processes (t=26.35 s)\n",
      " Loaded 1400 processes (t=28.95 s)\n",
      " Loaded 1500 processes (t=32.22 s)\n",
      " Loaded 1600 processes (t=35.12 s)\n",
      " Loaded 1700 processes (t=36.59 s)\n",
      " Loaded 1800 processes (t=38.20 s)\n",
      " Loaded 1900 processes (t=39.23 s)\n",
      " Loaded 2000 processes (t=40.89 s)\n",
      " Loaded 2100 processes (t=44.25 s)\n",
      " Loaded 2200 processes (t=46.46 s)\n",
      " Loaded 2300 processes (t=47.78 s)\n",
      " Loaded 2400 processes (t=49.58 s)\n",
      " Loaded 2500 processes (t=51.64 s)\n",
      " Loaded 2600 processes (t=52.78 s)\n",
      " Loaded 2700 processes (t=54.72 s)\n",
      " Loaded 2800 processes (t=56.43 s)\n",
      " Loaded 2900 processes (t=58.47 s)\n",
      " Loaded 3000 processes (t=60.37 s)\n",
      " Loaded 3100 processes (t=61.43 s)\n",
      " Loaded 3200 processes (t=62.55 s)\n",
      " Loaded 3300 processes (t=63.45 s)\n",
      " Loaded 3400 processes (t=64.55 s)\n",
      " Loaded 3500 processes (t=65.95 s)\n",
      " Loaded 3600 processes (t=67.46 s)\n",
      "Squashing bad termination in linked reference exchange, 749ae7b1-0f9c-4e3b-b4bf-7fdaadc606a2\n",
      "Flow df12f8f5-a3e3-4506-9d86-b33205d21a52 Term 66e578ab-0e22-4af4-99b1-2e19065c69f0\n",
      "Squashing bad termination in linked reference exchange, 749ae7b1-0f9c-4e3b-b4bf-7fdaadc606a2\n",
      "Flow 3a9b33f8-d1b1-4bea-9df7-7db6846c6df6 Term f5a53fd1-9321-475a-b643-d63e8a7af27b\n",
      "Squashing bad termination in linked reference exchange, 749ae7b1-0f9c-4e3b-b4bf-7fdaadc606a2\n",
      "Flow 361e78e0-0094-48d2-b9a2-2c70921e5c1e Term d7b62fab-8cf8-4351-a7b3-56dae0ba2df9\n",
      "Squashing bad termination in linked reference exchange, 749ae7b1-0f9c-4e3b-b4bf-7fdaadc606a2\n",
      "Flow e1126956-dc57-4837-849f-57fb25c8effa Term 8ee93fd9-b09d-47e5-adc0-b15af1ae4060\n",
      "Squashing bad termination in linked reference exchange, 749ae7b1-0f9c-4e3b-b4bf-7fdaadc606a2\n",
      "Flow cfbc8873-47d4-4411-a18e-578ef35ab871 Term f4119fa7-7f11-46ba-81de-eb8230391ddc\n",
      " Loaded 3700 processes (t=69.43 s)\n",
      " Loaded 3800 processes (t=70.58 s)\n",
      " Loaded 3900 processes (t=72.45 s)\n",
      " Loaded 4000 processes (t=73.46 s)\n",
      " Loaded 4100 processes (t=74.99 s)\n",
      " Loaded 4200 processes (t=76.22 s)\n",
      " Loaded 4300 processes (t=77.96 s)\n",
      " Loaded 4400 processes (t=78.99 s)\n",
      " Loaded 4500 processes (t=80.46 s)\n",
      "Squashing bad termination in linked reference exchange, 44442a63-9ef3-49a8-bdf8-8849dbb7f480\n",
      "Flow df12f8f5-a3e3-4506-9d86-b33205d21a52 Term 66e578ab-0e22-4af4-99b1-2e19065c69f0\n",
      "Squashing bad termination in linked reference exchange, 44442a63-9ef3-49a8-bdf8-8849dbb7f480\n",
      "Flow 3a9b33f8-d1b1-4bea-9df7-7db6846c6df6 Term f5a53fd1-9321-475a-b643-d63e8a7af27b\n",
      "Squashing bad termination in linked reference exchange, 44442a63-9ef3-49a8-bdf8-8849dbb7f480\n",
      "Flow 361e78e0-0094-48d2-b9a2-2c70921e5c1e Term d7b62fab-8cf8-4351-a7b3-56dae0ba2df9\n",
      "Squashing bad termination in linked reference exchange, 44442a63-9ef3-49a8-bdf8-8849dbb7f480\n",
      "Flow e1126956-dc57-4837-849f-57fb25c8effa Term 8ee93fd9-b09d-47e5-adc0-b15af1ae4060\n",
      "Squashing bad termination in linked reference exchange, 44442a63-9ef3-49a8-bdf8-8849dbb7f480\n",
      "Flow cfbc8873-47d4-4411-a18e-578ef35ab871 Term f4119fa7-7f11-46ba-81de-eb8230391ddc\n",
      " Loaded 4600 processes (t=81.96 s)\n",
      " Loaded 4700 processes (t=83.44 s)\n",
      " Loaded 4800 processes (t=84.54 s)\n",
      " Loaded 4900 processes (t=86.13 s)\n",
      " Loaded 5000 processes (t=87.24 s)\n",
      " Loaded 5100 processes (t=89.07 s)\n",
      " Loaded 5200 processes (t=90.98 s)\n",
      " Loaded 5300 processes (t=92.33 s)\n",
      " Loaded 5400 processes (t=93.60 s)\n",
      " Loaded 5500 processes (t=94.45 s)\n",
      " Loaded 5600 processes (t=95.71 s)\n",
      " Loaded 5700 processes (t=96.99 s)\n",
      " Loaded 5800 processes (t=97.93 s)\n",
      " Loaded 5900 processes (t=99.28 s)\n",
      " Loaded 6000 processes (t=100.31 s)\n",
      " Loaded 6100 processes (t=101.78 s)\n",
      " Loaded 6200 processes (t=103.09 s)\n",
      " Loaded 6300 processes (t=104.56 s)\n",
      " Loaded 6400 processes (t=105.85 s)\n",
      " Loaded 6500 processes (t=106.83 s)\n",
      " Loaded 6600 processes (t=107.97 s)\n",
      " Loaded 6700 processes (t=109.10 s)\n",
      " Loaded 6800 processes (t=110.17 s)\n",
      " Loaded 6900 processes (t=111.08 s)\n",
      " Loaded 7000 processes (t=112.05 s)\n",
      " Loaded 7100 processes (t=113.43 s)\n",
      " Loaded 7200 processes (t=114.40 s)\n",
      " Loaded 7300 processes (t=115.81 s)\n",
      " Loaded 7400 processes (t=117.25 s)\n",
      " Loaded 7500 processes (t=118.03 s)\n",
      " Loaded 7600 processes (t=118.95 s)\n",
      " Loaded 7700 processes (t=120.27 s)\n",
      " Loaded 7800 processes (t=121.11 s)\n",
      " Loaded 7900 processes (t=121.97 s)\n",
      " Loaded 8000 processes (t=123.34 s)\n",
      " Loaded 8100 processes (t=124.19 s)\n",
      " Loaded 8200 processes (t=125.44 s)\n",
      " Loaded 8300 processes (t=126.47 s)\n",
      " Loaded 8400 processes (t=127.63 s)\n",
      " Loaded 8500 processes (t=128.87 s)\n",
      " Loaded 8600 processes (t=129.80 s)\n",
      " Loaded 8700 processes (t=130.98 s)\n",
      " Loaded 8800 processes (t=131.80 s)\n",
      " Loaded 8900 processes (t=132.64 s)\n",
      " Loaded 9000 processes (t=133.72 s)\n",
      " Loaded 9100 processes (t=134.59 s)\n",
      " Loaded 9200 processes (t=135.61 s)\n",
      " Loaded 9300 processes (t=136.35 s)\n",
      " Loaded 9400 processes (t=137.48 s)\n",
      " Loaded 9500 processes (t=138.37 s)\n",
      " Loaded 9600 processes (t=139.13 s)\n",
      " Loaded 9700 processes (t=140.18 s)\n",
      " Loaded 9800 processes (t=140.95 s)\n",
      " Loaded 9900 processes (t=141.80 s)\n",
      " Loaded 10000 processes (t=142.92 s)\n",
      " Loaded 10100 processes (t=143.74 s)\n",
      " Loaded 10200 processes (t=144.51 s)\n",
      " Loaded 10300 processes (t=145.15 s)\n",
      " Loaded 10400 processes (t=146.01 s)\n",
      " Loaded 10500 processes (t=146.73 s)\n",
      " Loaded 10600 processes (t=147.31 s)\n",
      " Loaded 10700 processes (t=148.10 s)\n",
      " Loaded 10800 processes (t=148.82 s)\n",
      "Squashing bad termination in linked reference exchange, 42ce327e-51dc-48ee-a1fe-7b5f4dbb73fb\n",
      "Flow 76ab0018-e176-43e0-b42c-12e82b937fef Term b1de24f8-9a3c-40f5-a3b1-383660124bab\n",
      " Loaded 10900 processes (t=149.49 s)\n",
      " Loaded 11000 processes (t=150.30 s)\n",
      " Loaded 11100 processes (t=150.84 s)\n",
      " Loaded 11200 processes (t=151.73 s)\n",
      " Loaded 11300 processes (t=152.38 s)\n",
      " Loaded 11400 processes (t=153.12 s)\n",
      " Loaded 11500 processes (t=153.69 s)\n",
      " Loaded 11600 processes (t=154.18 s)\n",
      " Loaded 11700 processes (t=154.84 s)\n",
      " Loaded 11800 processes (t=155.63 s)\n",
      " Loaded 11900 processes (t=156.36 s)\n",
      " Loaded 12000 processes (t=157.03 s)\n",
      " Loaded 12100 processes (t=157.74 s)\n",
      " Loaded 12200 processes (t=158.48 s)\n",
      " Loaded 12300 processes (t=159.32 s)\n",
      " Loaded 12400 processes (t=160.07 s)\n",
      " Loaded 12500 processes (t=160.93 s)\n",
      " Loaded 12600 processes (t=161.83 s)\n",
      " Loaded 12700 processes (t=162.44 s)\n",
      " Loaded 12800 processes (t=163.55 s)\n",
      " Loaded 12900 processes (t=164.15 s)\n",
      " Loaded 13000 processes (t=164.89 s)\n",
      " Loaded 13100 processes (t=165.54 s)\n",
      " Loaded 13200 processes (t=166.22 s)\n",
      " Loaded 13290 processes (t=167.08 s)\n",
      "19 new quantity entities added (19 total)\n",
      "13290 new process entities added (13290 total)\n",
      "4851 new flow entities added (4851 total)\n",
      "local.ecoinvent.3.4.apos.index.20190204: /data/GitHub/2019/variability_jlca/catalog/index/a57075ecd68e35920696904ec830bc522fc6b2b2.json.gz\n",
      "local.ecoinvent.3.4.apos: /data/LCI/Ecoinvent/3.4/ecoinvent 3.4_apos_ecoSpold02\n",
      "19 new quantity entities added (19 total)\n",
      "13290 new process entities added (13290 total)\n",
      "4851 new flow entities added (4851 total)\n",
      "local.ecoinvent.3.4.apos.index.20190204: /data/GitHub/2019/variability_jlca/catalog/archives/local.ecoinvent.3.4.apos.index.20190204_background.mat\n",
      "local.ecoinvent.3.4.apos.index.20190204: <source removed>\n",
      "local.ecoinvent.3.4.apos: /data/GitHub/2019/variability_jlca/catalog/archives/local.ecoinvent.3.4.apos.index.20190204_background.mat\n"
     ]
    },
    {
     "data": {
      "text/plain": [
       "True"
      ]
     },
     "execution_count": 7,
     "metadata": {},
     "output_type": "execute_result"
    }
   ],
   "source": [
    "# repeat for APOS-- slower bc of my sad, memory constrained machine\n",
    "cat.query('local.ecoinvent.3.4.apos').check_bg()"
   ]
  },
  {
   "cell_type": "markdown",
   "metadata": {},
   "source": [
    "## LCIA\n",
    "For LCIA, we simply use Ecoinvent's LCIA factors for simplicity.  Assuming these are found by the "
   ]
  },
  {
   "cell_type": "code",
   "execution_count": 8,
   "metadata": {},
   "outputs": [],
   "source": [
    "ei_lcia = next(ec.make_resources('local.lcia.ecoinvent.3.1'))\n",
    "cat.add_resource(ei_lcia)"
   ]
  },
  {
   "cell_type": "code",
   "execution_count": 9,
   "metadata": {},
   "outputs": [
    {
     "name": "stdout",
     "output_type": "stream",
     "text": [
      "local.ecoinvent.3.4.apos [basic, inventory]\n",
      "local.ecoinvent.3.4.apos.index.20190204 [background, basic, index]\n",
      "local.ecoinvent.3.4.conseq [basic, inventory]\n",
      "local.ecoinvent.3.4.cutoff [basic, inventory]\n",
      "local.ecoinvent.3.4.cutoff.index.20190204 [background, basic, index]\n",
      "local.lcia.ecoinvent.3.1 [basic, index, quantity]\n",
      "local.qdb [basic, index, quantity]\n"
     ]
    }
   ],
   "source": [
    "cat.show_interfaces()"
   ]
  },
  {
   "cell_type": "code",
   "execution_count": 10,
   "metadata": {},
   "outputs": [
    {
     "data": {
      "text/plain": [
       "LcResource(local.lcia.ecoinvent.3.1, dataSource=/data/LCI/Ecoinvent/LCIA/LCIA implementation v3.1 2014_08_13.xlsx:EcoinventLcia, ['quantity', 'index', 'basic'] [50])"
      ]
     },
     "execution_count": 10,
     "metadata": {},
     "output_type": "execute_result"
    }
   ],
   "source": [
    "ei_lcia"
   ]
  },
  {
   "cell_type": "markdown",
   "metadata": {},
   "source": [
    "The Ecoinvent LCIA resource is considered \"static\" because it must be loaded all at once (the XLS file cannot be 'partially' opened). So, we load it once and cache the results in the catalog (as a JSON file- no fancy database backends as yet) to cut the load time from ~40 sec to ~2."
   ]
  },
  {
   "cell_type": "code",
   "execution_count": 11,
   "metadata": {},
   "outputs": [
    {
     "name": "stdout",
     "output_type": "stream",
     "text": [
      "local.lcia.ecoinvent.3.1: /data/LCI/Ecoinvent/LCIA/LCIA implementation v3.1 2014_08_13.xlsx\n",
      "Loading /data/LCI/Ecoinvent/LCIA/LCIA implementation v3.1 2014_08_13.xlsx\n",
      "702 new quantity entities added (702 total)\n",
      "3255 new flow entities added (3255 total)\n",
      "local.lcia.ecoinvent.3.1: /data/GitHub/2019/variability_jlca/catalog/cache/cfa3982d248fbdf0224e3ebad316063c182bbbbd.json.gz\n",
      "Created archive of EcoinventLcia with 3957 entities at /data/LCI/Ecoinvent/LCIA/LCIA implementation v3.1 2014_08_13.xlsx containing:\n",
      "0 new quantity entities added (702 total)\n",
      "0 new flow entities added (3255 total)\n"
     ]
    }
   ],
   "source": [
    "cat.create_source_cache(ei_lcia.source, static=True)  # avoid having to load the XLS every time"
   ]
  }
 ],
 "metadata": {
  "kernelspec": {
   "display_name": "lca-tools",
   "language": "python",
   "name": "lca-tools"
  },
  "language_info": {
   "codemirror_mode": {
    "name": "ipython",
    "version": 3
   },
   "file_extension": ".py",
   "mimetype": "text/x-python",
   "name": "python",
   "nbconvert_exporter": "python",
   "pygments_lexer": "ipython3",
   "version": "3.7.2"
  }
 },
 "nbformat": 4,
 "nbformat_minor": 2
}
