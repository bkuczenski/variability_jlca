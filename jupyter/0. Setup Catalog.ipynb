{
 "cells": [
  {
   "cell_type": "markdown",
   "metadata": {
    "deletable": true,
    "editable": true
   },
   "source": [
    "I should really be using the catalog for all this, since that is what I wrote it for."
   ]
  },
  {
   "cell_type": "code",
   "execution_count": 1,
   "metadata": {
    "collapsed": false,
    "deletable": true,
    "editable": true
   },
   "outputs": [
    {
     "name": "stdout",
     "output_type": "stream",
     "text": [
      "Loading JSON data from /data/GitHub/lca-tools/lcatools/qdb/data/flowable_synlist.json:\n",
      "Loading JSON data from /data/GitHub/lca-tools/lcatools/qdb/data/quantity_synlist.json:\n",
      "local.qdb: /data/LCI/cat-puke/reference-quantities.json\n",
      "Loading JSON data from /data/LCI/cat-puke/reference-quantities.json:\n",
      "local.qdb: /data/GitHub/lca-tools/lcatools/providers/data/elcd_reference_quantities.json\n",
      "24 new quantity entities added (24 total)\n",
      "5 new flow entities added (5 total)\n"
     ]
    }
   ],
   "source": [
    "from antelope_catalog import LcCatalog\n",
    "cat = LcCatalog('/data/LCI/cat-puke')"
   ]
  },
  {
   "cell_type": "markdown",
   "metadata": {
    "deletable": true,
    "editable": true
   },
   "source": [
    "## Step 1: Install Ecoinvent 3.4"
   ]
  },
  {
   "cell_type": "code",
   "execution_count": 2,
   "metadata": {
    "collapsed": true,
    "deletable": true,
    "editable": true
   },
   "outputs": [],
   "source": [
    "from antelope_catalog.data_sources.ecoinvent import EcoinventConfig"
   ]
  },
  {
   "cell_type": "code",
   "execution_count": 3,
   "metadata": {
    "collapsed": true,
    "deletable": true,
    "editable": true
   },
   "outputs": [],
   "source": [
    "ec = EcoinventConfig('/data/LCI/Ecoinvent')"
   ]
  },
  {
   "cell_type": "code",
   "execution_count": 4,
   "metadata": {
    "collapsed": false,
    "deletable": true,
    "editable": true
   },
   "outputs": [],
   "source": [
    "for ref in ec.references:\n",
    "    if ref.find('3.4') > 0:\n",
    "        for res in ec.make_resources(ref):\n",
    "            cat.add_resource(res)"
   ]
  },
  {
   "cell_type": "code",
   "execution_count": 5,
   "metadata": {
    "collapsed": false,
    "deletable": true,
    "editable": true
   },
   "outputs": [
    {
     "data": {
      "text/plain": [
       "['local.qdb:basic',\n",
       " 'local.qdb:index',\n",
       " 'local.qdb:quantity',\n",
       " 'local.ecoinvent.3.4.apos:basic',\n",
       " 'local.ecoinvent.3.4.apos:index',\n",
       " 'local.ecoinvent.3.4.apos:inventory',\n",
       " 'local.ecoinvent.3.4.conseq:basic',\n",
       " 'local.ecoinvent.3.4.conseq:index',\n",
       " 'local.ecoinvent.3.4.conseq:inventory',\n",
       " 'local.ecoinvent.3.4.cutoff:basic',\n",
       " 'local.ecoinvent.3.4.cutoff:index',\n",
       " 'local.ecoinvent.3.4.cutoff:inventory']"
      ]
     },
     "execution_count": 5,
     "metadata": {},
     "output_type": "execute_result"
    }
   ],
   "source": [
    "[x for x in cat.interfaces]"
   ]
  },
  {
   "cell_type": "code",
   "execution_count": 6,
   "metadata": {
    "collapsed": false,
    "deletable": true,
    "editable": true,
    "scrolled": false
   },
   "outputs": [
    {
     "name": "stdout",
     "output_type": "stream",
     "text": [
      "local.ecoinvent.3.4.cutoff: /data/LCI/Ecoinvent/3.4/ecoinvent 3.4_cutoff_ecoSpold02\n",
      "Loading /data/LCI/Ecoinvent/3.4/ecoinvent 3.4_cutoff_ecoSpold02\n",
      " Loaded 100 processes (t=0.87 s)\n",
      " Loaded 200 processes (t=1.33 s)\n",
      " Loaded 300 processes (t=1.85 s)\n",
      "Squashing bad termination in linked reference exchange, 0675f357-4a24-4f89-ad6f-b48c62ddd9d8\n",
      "Flow c5651546-a49e-4c1d-b856-1cf358ab466a Term 66962eb8-0962-43f0-bdbe-634d2ba63cfd\n",
      " Loaded 400 processes (t=2.63 s)\n",
      " Loaded 500 processes (t=3.20 s)\n",
      " Loaded 600 processes (t=3.88 s)\n",
      " Loaded 700 processes (t=4.68 s)\n",
      " Loaded 800 processes (t=5.60 s)\n",
      " Loaded 900 processes (t=6.22 s)\n",
      " Loaded 1000 processes (t=7.16 s)\n",
      "Squashing bad termination in linked reference exchange, 13b2929b-512b-4e66-a708-38ead3772178\n",
      "Flow cfbc8873-47d4-4411-a18e-578ef35ab871 Term ae4c4957-a22b-4dc3-81d8-c4fc51beb5cd\n",
      "Squashing bad termination in linked reference exchange, 13b2929b-512b-4e66-a708-38ead3772178\n",
      "Flow 3a9b33f8-d1b1-4bea-9df7-7db6846c6df6 Term c8cd2805-3fd3-4155-be30-a6c89e75716a\n",
      "Squashing bad termination in linked reference exchange, 13b2929b-512b-4e66-a708-38ead3772178\n",
      "Flow e1126956-dc57-4837-849f-57fb25c8effa Term f2fe693b-72c5-4e47-b3b2-9aa92243e186\n",
      "Squashing bad termination in linked reference exchange, 13b2929b-512b-4e66-a708-38ead3772178\n",
      "Flow 361e78e0-0094-48d2-b9a2-2c70921e5c1e Term 668a460d-0af5-43c9-8b0a-27363ade6b41\n",
      "Squashing bad termination in linked reference exchange, 13b2929b-512b-4e66-a708-38ead3772178\n",
      "Flow df12f8f5-a3e3-4506-9d86-b33205d21a52 Term 95010049-ec26-4567-8381-86f3b3042802\n",
      "Squashing bad termination in linked reference exchange, 13ba6b4a-4580-4a45-980e-2e72d75cf806\n",
      "Flow aa447135-9cc5-4f34-9385-ca2a0ae70d3c Term e99cb878-812a-4019-aeac-6e2cf68b8e55\n",
      " Loaded 1100 processes (t=7.71 s)\n",
      "Squashing bad termination in linked reference exchange, 160586f0-0cfa-4f16-8b3a-9e6b9aae4e6e\n",
      "Flow c5651546-a49e-4c1d-b856-1cf358ab466a Term 66962eb8-0962-43f0-bdbe-634d2ba63cfd\n",
      " Loaded 1200 processes (t=8.33 s)\n",
      " Loaded 1300 processes (t=8.92 s)\n",
      " Loaded 1400 processes (t=9.44 s)\n",
      "Squashing bad termination in linked reference exchange, 1c56bd91-2ef2-4fa8-a9fb-826e4a8daca4\n",
      "Flow aa447135-9cc5-4f34-9385-ca2a0ae70d3c Term aa948b8d-c846-4661-8762-8f0a43f5730d\n",
      "Squashing bad termination in linked reference exchange, 1c58dc0c-60d6-4d3f-9e36-73c9789e2b12\n",
      "Flow c5651546-a49e-4c1d-b856-1cf358ab466a Term 84ea7989-ab42-43ce-b6bf-9ed2d9d97159\n",
      " Loaded 1500 processes (t=9.98 s)\n",
      " Loaded 1600 processes (t=10.54 s)\n",
      " Loaded 1700 processes (t=11.11 s)\n",
      " Loaded 1800 processes (t=12.03 s)\n",
      " Loaded 1900 processes (t=12.83 s)\n",
      " Loaded 2000 processes (t=13.44 s)\n",
      " Loaded 2100 processes (t=13.99 s)\n",
      " Loaded 2200 processes (t=14.53 s)\n",
      "Squashing bad termination in linked reference exchange, 2a7fd8c7-b05d-4d76-8cdf-216cb642c0fe\n",
      "Flow aa447135-9cc5-4f34-9385-ca2a0ae70d3c Term 9cf07365-795b-48e9-9568-98e426697bf7\n",
      "Squashing bad termination in linked reference exchange, 2b30aa32-da95-4441-bf93-b07e588da759\n",
      "Flow aa447135-9cc5-4f34-9385-ca2a0ae70d3c Term aa948b8d-c846-4661-8762-8f0a43f5730d\n",
      " Loaded 2300 processes (t=15.38 s)\n",
      "Squashing bad termination in linked reference exchange, 2d3c7b08-1fe6-4bdd-9f98-a250dc68a4c4\n",
      "Flow aa447135-9cc5-4f34-9385-ca2a0ae70d3c Term 9cf07365-795b-48e9-9568-98e426697bf7\n",
      " Loaded 2400 processes (t=16.07 s)\n",
      " Loaded 2500 processes (t=16.93 s)\n",
      " Loaded 2600 processes (t=17.47 s)\n",
      " Loaded 2700 processes (t=18.30 s)\n",
      " Loaded 2800 processes (t=19.11 s)\n",
      " Loaded 2900 processes (t=19.59 s)\n",
      "Squashing bad termination in linked reference exchange, 37c50312-5594-451a-b961-430348506b76\n",
      "Flow c5651546-a49e-4c1d-b856-1cf358ab466a Term 84ea7989-ab42-43ce-b6bf-9ed2d9d97159\n",
      " Loaded 3000 processes (t=20.14 s)\n",
      "Squashing bad termination in linked reference exchange, 398e18e0-7b10-45e8-b8da-2f56306d2d05\n",
      "Flow c5651546-a49e-4c1d-b856-1cf358ab466a Term abe2477a-5f31-458e-a3aa-92928702c077\n",
      " Loaded 3100 processes (t=20.96 s)\n",
      " Loaded 3200 processes (t=21.63 s)\n",
      "Squashing bad termination in linked reference exchange, 3d00cf0e-59c0-4d1a-a70f-fac924109224\n",
      "Flow c5651546-a49e-4c1d-b856-1cf358ab466a Term 66962eb8-0962-43f0-bdbe-634d2ba63cfd\n",
      "Squashing bad termination in linked reference exchange, 3dd1621e-fa55-415a-89d1-8e822b00bfe9\n",
      "Flow aa447135-9cc5-4f34-9385-ca2a0ae70d3c Term e99cb878-812a-4019-aeac-6e2cf68b8e55\n",
      " Loaded 3300 processes (t=22.48 s)\n",
      " Loaded 3400 processes (t=23.09 s)\n",
      " Loaded 3500 processes (t=23.61 s)\n",
      " Loaded 3600 processes (t=24.23 s)\n",
      " Loaded 3700 processes (t=24.84 s)\n",
      "Squashing bad termination in linked reference exchange, 46d6d691-275d-4d14-99cb-074ca06a96af\n",
      "Flow a514c9f2-0d4d-4ce2-809b-de4c29e74709 Term 8048ece9-5159-480a-8ff9-c3a84b0a8515\n",
      "Squashing bad termination in linked reference exchange, 46d6d691-275d-4d14-99cb-074ca06a96af\n",
      "Flow 2c9486c9-1fc4-4535-a296-cd8f3bc0e1cd Term c5b88f44-b8e7-40aa-b289-2a5a1d102728\n",
      " Loaded 3800 processes (t=25.58 s)\n",
      " Loaded 3900 processes (t=26.49 s)\n",
      " Loaded 4000 processes (t=27.16 s)\n",
      " Loaded 4100 processes (t=27.75 s)\n",
      " Loaded 4200 processes (t=28.44 s)\n",
      " Loaded 4300 processes (t=29.09 s)\n",
      " Loaded 4400 processes (t=30.50 s)\n",
      " Loaded 4500 processes (t=31.16 s)\n",
      " Loaded 4600 processes (t=31.88 s)\n",
      " Loaded 4700 processes (t=32.65 s)\n",
      " Loaded 4800 processes (t=33.37 s)\n",
      "Squashing bad termination in linked reference exchange, 5b42a9f9-94b3-4e50-b589-6f639b800690\n",
      "Flow aa447135-9cc5-4f34-9385-ca2a0ae70d3c Term e99cb878-812a-4019-aeac-6e2cf68b8e55\n",
      " Loaded 4900 processes (t=33.94 s)\n",
      " Loaded 5000 processes (t=34.56 s)\n",
      " Loaded 5100 processes (t=35.21 s)\n",
      " Loaded 5200 processes (t=35.79 s)\n",
      " Loaded 5300 processes (t=36.54 s)\n",
      " Loaded 5400 processes (t=37.07 s)\n",
      " Loaded 5500 processes (t=37.66 s)\n",
      " Loaded 5600 processes (t=38.26 s)\n",
      " Loaded 5700 processes (t=39.08 s)\n",
      " Loaded 5800 processes (t=39.82 s)\n",
      " Loaded 5900 processes (t=41.16 s)\n",
      " Loaded 6000 processes (t=41.74 s)\n",
      "Squashing bad termination in linked reference exchange, 71663e8e-124a-49ba-9402-60406dc01321\n",
      "Flow cfbc8873-47d4-4411-a18e-578ef35ab871 Term ae4c4957-a22b-4dc3-81d8-c4fc51beb5cd\n",
      "Squashing bad termination in linked reference exchange, 71663e8e-124a-49ba-9402-60406dc01321\n",
      "Flow 3a9b33f8-d1b1-4bea-9df7-7db6846c6df6 Term c8cd2805-3fd3-4155-be30-a6c89e75716a\n",
      "Squashing bad termination in linked reference exchange, 71663e8e-124a-49ba-9402-60406dc01321\n",
      "Flow e1126956-dc57-4837-849f-57fb25c8effa Term f2fe693b-72c5-4e47-b3b2-9aa92243e186\n",
      "Squashing bad termination in linked reference exchange, 71663e8e-124a-49ba-9402-60406dc01321\n",
      "Flow 361e78e0-0094-48d2-b9a2-2c70921e5c1e Term 668a460d-0af5-43c9-8b0a-27363ade6b41\n",
      "Squashing bad termination in linked reference exchange, 71663e8e-124a-49ba-9402-60406dc01321\n",
      "Flow df12f8f5-a3e3-4506-9d86-b33205d21a52 Term 95010049-ec26-4567-8381-86f3b3042802\n",
      " Loaded 6100 processes (t=42.45 s)\n",
      " Loaded 6200 processes (t=43.01 s)\n",
      "Squashing bad termination in linked reference exchange, 768feca0-c8ee-4456-ad45-60cba3ecaee3\n",
      "Flow c5651546-a49e-4c1d-b856-1cf358ab466a Term abe2477a-5f31-458e-a3aa-92928702c077\n",
      " Loaded 6300 processes (t=43.99 s)\n",
      " Loaded 6400 processes (t=44.53 s)\n",
      " Loaded 6500 processes (t=45.21 s)\n",
      "Squashing bad termination in linked reference exchange, 7c630a90-fe88-4ef2-9c69-300a02e3b368\n",
      "Flow c5651546-a49e-4c1d-b856-1cf358ab466a Term 84ea7989-ab42-43ce-b6bf-9ed2d9d97159\n",
      " Loaded 6600 processes (t=46.04 s)\n",
      " Loaded 6700 processes (t=46.68 s)\n",
      "Squashing bad termination in linked reference exchange, 7f99d15b-e930-48a5-bb65-7300b7671265\n",
      "Flow aa447135-9cc5-4f34-9385-ca2a0ae70d3c Term aa948b8d-c846-4661-8762-8f0a43f5730d\n",
      " Loaded 6800 processes (t=47.24 s)\n",
      " Loaded 6900 processes (t=48.47 s)\n",
      " Loaded 7000 processes (t=49.13 s)\n",
      "Squashing bad termination in linked reference exchange, 844ee2c0-3958-400d-8880-aceb25350500\n",
      "Flow aa447135-9cc5-4f34-9385-ca2a0ae70d3c Term 9cf07365-795b-48e9-9568-98e426697bf7\n",
      " Loaded 7100 processes (t=49.71 s)\n",
      " Loaded 7200 processes (t=50.33 s)\n",
      " Loaded 7300 processes (t=51.04 s)\n",
      "Squashing bad termination in linked reference exchange, 8b39afef-2119-46c4-83cb-db8fe05c0cd5\n",
      "Flow a514c9f2-0d4d-4ce2-809b-de4c29e74709 Term 8048ece9-5159-480a-8ff9-c3a84b0a8515\n",
      "Squashing bad termination in linked reference exchange, 8b39afef-2119-46c4-83cb-db8fe05c0cd5\n",
      "Flow 2c9486c9-1fc4-4535-a296-cd8f3bc0e1cd Term 9bb02448-d6ad-4699-8598-a47c11549762\n",
      "Squashing bad termination in linked reference exchange, 8b487a60-f65a-4fed-9082-e35dd9bd7249\n",
      "Flow aa447135-9cc5-4f34-9385-ca2a0ae70d3c Term aa948b8d-c846-4661-8762-8f0a43f5730d\n",
      " Loaded 7400 processes (t=51.77 s)\n",
      " Loaded 7500 processes (t=52.59 s)\n",
      " Loaded 7600 processes (t=53.18 s)\n",
      " Loaded 7700 processes (t=53.79 s)\n",
      " Loaded 7800 processes (t=54.43 s)\n",
      " Loaded 7900 processes (t=55.17 s)\n",
      "Squashing bad termination in linked reference exchange, 9666e2e0-02e1-4366-8eff-2ef15c8ba552\n",
      "Flow aa447135-9cc5-4f34-9385-ca2a0ae70d3c Term 9cf07365-795b-48e9-9568-98e426697bf7\n",
      " Loaded 8000 processes (t=55.70 s)\n",
      " Loaded 8100 processes (t=56.65 s)\n",
      "Squashing bad termination in linked reference exchange, 99ef86d7-b5c0-4282-b1ca-a65bd53c80d6\n",
      "Flow c5651546-a49e-4c1d-b856-1cf358ab466a Term abe2477a-5f31-458e-a3aa-92928702c077\n",
      " Loaded 8200 processes (t=57.27 s)\n",
      "Squashing bad termination in linked reference exchange, 9ba6a249-6003-47b6-92e6-cc6cec625030\n",
      "Flow c5651546-a49e-4c1d-b856-1cf358ab466a Term abe2477a-5f31-458e-a3aa-92928702c077\n",
      " Loaded 8300 processes (t=57.87 s)\n",
      " Loaded 8400 processes (t=58.43 s)\n",
      "Squashing bad termination in linked reference exchange, a041684a-b77d-448e-b82b-d74610e7ab65\n",
      "Flow aa447135-9cc5-4f34-9385-ca2a0ae70d3c Term e99cb878-812a-4019-aeac-6e2cf68b8e55\n",
      " Loaded 8500 processes (t=58.94 s)\n",
      " Loaded 8600 processes (t=59.47 s)\n",
      " Loaded 8700 processes (t=60.13 s)\n",
      " Loaded 8800 processes (t=60.75 s)\n",
      " Loaded 8900 processes (t=61.26 s)\n",
      " Loaded 9000 processes (t=61.96 s)\n",
      " Loaded 9100 processes (t=62.58 s)\n",
      "Squashing bad termination in linked reference exchange, ad0254ea-3da0-41a8-9219-32a4c30f0897\n",
      "Flow c5651546-a49e-4c1d-b856-1cf358ab466a Term abe2477a-5f31-458e-a3aa-92928702c077\n",
      " Loaded 9200 processes (t=63.47 s)\n",
      "Squashing bad termination in linked reference exchange, af502a7a-c459-4eaf-b34b-74722dafc781\n",
      "Flow aa447135-9cc5-4f34-9385-ca2a0ae70d3c Term e99cb878-812a-4019-aeac-6e2cf68b8e55\n",
      " Loaded 9300 processes (t=64.19 s)\n",
      " Loaded 9400 processes (t=65.14 s)\n",
      " Loaded 9500 processes (t=65.83 s)\n",
      " Loaded 9600 processes (t=66.57 s)\n",
      " Loaded 9700 processes (t=67.12 s)\n",
      "Squashing bad termination in linked reference exchange, b8c1f355-e55a-4e8d-9a91-1b27e1e14ee7\n",
      "Flow c5651546-a49e-4c1d-b856-1cf358ab466a Term 84ea7989-ab42-43ce-b6bf-9ed2d9d97159\n",
      " Loaded 9800 processes (t=67.69 s)\n",
      " Loaded 9900 processes (t=68.28 s)\n",
      "Squashing bad termination in linked reference exchange, bb37432f-784e-44ab-ae34-549a07996279\n",
      "Flow aa447135-9cc5-4f34-9385-ca2a0ae70d3c Term aa948b8d-c846-4661-8762-8f0a43f5730d\n",
      "Squashing bad termination in linked reference exchange, bcdad86d-9507-456a-b95f-665253eb96d5\n",
      "Flow aa447135-9cc5-4f34-9385-ca2a0ae70d3c Term 9cf07365-795b-48e9-9568-98e426697bf7\n",
      " Loaded 10000 processes (t=68.84 s)\n",
      " Loaded 10100 processes (t=69.46 s)\n",
      " Loaded 10200 processes (t=70.03 s)\n",
      "Squashing bad termination in linked reference exchange, c24ce0b9-f4b2-4d12-875c-97d08b2be8da\n",
      "Flow c5651546-a49e-4c1d-b856-1cf358ab466a Term abe2477a-5f31-458e-a3aa-92928702c077\n",
      "Squashing bad termination in linked reference exchange, c2b5dfdb-4377-4572-a89a-b6ecdbc28940\n",
      "Flow aa447135-9cc5-4f34-9385-ca2a0ae70d3c Term 9cf07365-795b-48e9-9568-98e426697bf7\n",
      " Loaded 10300 processes (t=70.88 s)\n",
      " Loaded 10400 processes (t=71.48 s)\n",
      "Squashing bad termination in linked reference exchange, c6474813-e6c7-475e-a52f-c34a6b7f932e\n",
      "Flow c5651546-a49e-4c1d-b856-1cf358ab466a Term 84ea7989-ab42-43ce-b6bf-9ed2d9d97159\n",
      " Loaded 10500 processes (t=72.04 s)\n",
      "Squashing bad termination in linked reference exchange, c72948d5-838a-4cb8-82ab-20d600051e93\n",
      "Flow d3d23054-a030-4284-9cfb-c464e70ec865 Term cca9f6a1-facd-423d-8984-168c6c4d570b\n",
      "Squashing bad termination in linked reference exchange, c7ac2381-ae10-4711-b3ee-65fc81f22751\n",
      "Flow c5651546-a49e-4c1d-b856-1cf358ab466a Term 66962eb8-0962-43f0-bdbe-634d2ba63cfd\n",
      " Loaded 10600 processes (t=72.77 s)\n",
      " Loaded 10700 processes (t=73.69 s)\n",
      " Loaded 10800 processes (t=74.48 s)\n",
      "Squashing bad termination in linked reference exchange, cd595458-3668-4434-8255-a230c3f52d80\n",
      "Flow c5651546-a49e-4c1d-b856-1cf358ab466a Term 66962eb8-0962-43f0-bdbe-634d2ba63cfd\n",
      " Loaded 10900 processes (t=75.22 s)\n",
      " Loaded 11000 processes (t=75.92 s)\n",
      "Squashing bad termination in linked reference exchange, d1179952-7a12-4fe7-8b2b-e98f1522ddc3\n",
      "Flow 76ab0018-e176-43e0-b42c-12e82b937fef Term 0ffcc93b-0953-45e8-a176-9288ebff4c8a\n",
      " Loaded 11100 processes (t=76.48 s)\n",
      " Loaded 11200 processes (t=77.08 s)\n",
      " Loaded 11300 processes (t=77.69 s)\n",
      " Loaded 11400 processes (t=78.61 s)\n",
      "Squashing bad termination in linked reference exchange, d8449404-cafc-4b42-b159-e2a50b2f7433\n",
      "Flow aa447135-9cc5-4f34-9385-ca2a0ae70d3c Term aa948b8d-c846-4661-8762-8f0a43f5730d\n",
      " Loaded 11500 processes (t=79.17 s)\n",
      "Squashing bad termination in linked reference exchange, dae78f78-508e-49c6-b591-a3b4ae116c37\n",
      "Flow aa447135-9cc5-4f34-9385-ca2a0ae70d3c Term e99cb878-812a-4019-aeac-6e2cf68b8e55\n",
      " Loaded 11600 processes (t=79.69 s)\n",
      " Loaded 11700 processes (t=80.45 s)\n",
      " Loaded 11800 processes (t=81.14 s)\n",
      " Loaded 11900 processes (t=81.84 s)\n",
      " Loaded 12000 processes (t=82.35 s)\n",
      " Loaded 12100 processes (t=83.92 s)\n",
      " Loaded 12200 processes (t=84.63 s)\n",
      " Loaded 12300 processes (t=85.26 s)\n",
      " Loaded 12400 processes (t=86.19 s)\n",
      " Loaded 12500 processes (t=86.97 s)\n",
      "Squashing bad termination in linked reference exchange, ee6edc02-2979-411f-9114-aa29b939b44f\n",
      "Flow c5651546-a49e-4c1d-b856-1cf358ab466a Term 84ea7989-ab42-43ce-b6bf-9ed2d9d97159\n",
      "Squashing bad termination in linked reference exchange, ef0eaa4a-6707-4b7a-8994-c8dc7e0a639e\n",
      "Flow c5651546-a49e-4c1d-b856-1cf358ab466a Term 66962eb8-0962-43f0-bdbe-634d2ba63cfd\n",
      " Loaded 12600 processes (t=87.59 s)\n",
      " Loaded 12700 processes (t=88.21 s)\n",
      " Loaded 12800 processes (t=89.19 s)\n",
      " Loaded 12900 processes (t=90.17 s)\n",
      " Loaded 13000 processes (t=90.80 s)\n",
      " Loaded 13100 processes (t=91.53 s)\n",
      "Squashing bad termination in linked reference exchange, fa5864f8-e476-49da-8484-ff3854a44a75\n",
      "Flow a514c9f2-0d4d-4ce2-809b-de4c29e74709 Term 474e8897-5988-4add-948e-a77e3d6874e4\n",
      "Squashing bad termination in linked reference exchange, fa5864f8-e476-49da-8484-ff3854a44a75\n",
      "Flow 2c9486c9-1fc4-4535-a296-cd8f3bc0e1cd Term a88ed08d-de87-4179-896e-3af229bf4473\n",
      " Loaded 13200 processes (t=92.34 s)\n",
      " Loaded 13300 processes (t=93.12 s)\n",
      " Loaded 13400 processes (t=93.86 s)\n",
      " Loaded 13459 processes (t=94.22 s)\n",
      "19 new quantity entities added (19 total)\n",
      "4881 new flow entities added (4881 total)\n",
      "13459 new process entities added (13459 total)\n",
      "local.ecoinvent.3.4.cutoff.index__20181016: /data/LCI/cat-puke/index/ffc0f70037f9e921067e85ac7e2d4ff0ba1bc3b5.json.gz\n",
      "local.ecoinvent.3.4.cutoff.index__20181016: /data/LCI/cat-puke/archives/local.ecoinvent.3.4.cutoff.index__20181016_background.mat\n",
      "local.ecoinvent.3.4.cutoff.index__20181016: <source removed>\n",
      "local.ecoinvent.3.4.cutoff: /data/LCI/cat-puke/archives/local.ecoinvent.3.4.cutoff.index__20181016_background.mat\n"
     ]
    },
    {
     "data": {
      "text/plain": [
       "<generator object TarjanBackgroundImplementation.foreground_flows at 0x7faaf8de2f10>"
      ]
     },
     "execution_count": 6,
     "metadata": {},
     "output_type": "execute_result"
    }
   ],
   "source": [
    "# trigger data source index + background creation\n",
    "cat.query('local.ecoinvent.3.4.cutoff').foreground_flows()"
   ]
  },
  {
   "cell_type": "markdown",
   "metadata": {
    "deletable": true,
    "editable": true
   },
   "source": [
    "## LCIA"
   ]
  },
  {
   "cell_type": "code",
   "execution_count": null,
   "metadata": {
    "collapsed": true,
    "deletable": true,
    "editable": true
   },
   "outputs": [],
   "source": [
    "cat.new_resource('local.lcia.ecoinvent.3.1.2014_08_13', '/data/LCI/LCIA implementation v3.1 2014_08_13.xlsx',\n",
    "                'EcoinventLcia', interfaces=('index', 'quantity'), static=True, \n",
    "                 ns_uuid='46802ca5-8b25-398c-af10-2376adaa4623')"
   ]
  }
 ],
 "metadata": {
  "kernelspec": {
   "display_name": "lca-tools",
   "language": "python",
   "name": "lca-tools"
  },
  "language_info": {
   "codemirror_mode": {
    "name": "ipython",
    "version": 3
   },
   "file_extension": ".py",
   "mimetype": "text/x-python",
   "name": "python",
   "nbconvert_exporter": "python",
   "pygments_lexer": "ipython3",
   "version": "3.6.6"
  }
 },
 "nbformat": 4,
 "nbformat_minor": 2
}
