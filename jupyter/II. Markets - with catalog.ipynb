{
 "cells": [
  {
   "cell_type": "code",
   "execution_count": 1,
   "metadata": {
    "collapsed": false,
    "deletable": true,
    "editable": true
   },
   "outputs": [
    {
     "name": "stdout",
     "output_type": "stream",
     "text": [
      "Loading JSON data from /data/GitHub/lca-tools/lcatools/qdb/data/flowable_synlist.json:\n",
      "Loading JSON data from /data/GitHub/lca-tools/lcatools/qdb/data/quantity_synlist.json:\n",
      "local.qdb: /data/GitHub/2018/bw2-uncertainty/catalog/reference-quantities.json\n",
      "Loading JSON data from /data/GitHub/2018/bw2-uncertainty/catalog/reference-quantities.json:\n",
      "local.qdb: /data/GitHub/lca-tools/lcatools/providers/data/elcd_reference_quantities.json\n",
      "5 new flow entities added (5 total)\n",
      "24 new quantity entities added (24 total)\n"
     ]
    }
   ],
   "source": [
    "from antelope_catalog import LcCatalog\n",
    "cat = LcCatalog('/data/GitHub/2018/bw2-uncertainty/catalog/', quell_biogenic_co2=True)"
   ]
  },
  {
   "cell_type": "code",
   "execution_count": 2,
   "metadata": {
    "collapsed": false
   },
   "outputs": [
    {
     "data": {
      "text/plain": [
       "True"
      ]
     },
     "execution_count": 2,
     "metadata": {},
     "output_type": "execute_result"
    }
   ],
   "source": [
    "cat.qdb.quell_biogenic_co2"
   ]
  },
  {
   "cell_type": "code",
   "execution_count": 3,
   "metadata": {
    "collapsed": true,
    "deletable": true,
    "editable": true
   },
   "outputs": [],
   "source": [
    "from lcatools import enum"
   ]
  },
  {
   "cell_type": "code",
   "execution_count": 4,
   "metadata": {
    "collapsed": false,
    "deletable": true,
    "editable": true
   },
   "outputs": [
    {
     "name": "stdout",
     "output_type": "stream",
     "text": [
      "local.lcia.ecoinvent.3.1.2014_08_13: /data/LCI/LCIA implementation v3.1 2014_08_13.xlsx\n",
      "Loading /data/LCI/LCIA implementation v3.1 2014_08_13.xlsx\n",
      "3255 new flow entities added (3255 total)\n",
      "702 new quantity entities added (702 total)\n",
      " [00] local.lcia.ecoinvent.3.1.2014_08_13/ReCiPe Midpoint (H), climate change, GWP100 ReCiPe Midpoint (H), climate change, GWP100 [kg CO2-Eq]\n",
      " [01] local.lcia.ecoinvent.3.1.2014_08_13/ReCiPe Midpoint (H), terrestrial acidification, TAP100 ReCiPe Midpoint (H), terrestrial acidification, TAP100 [kg SO2-Eq]\n",
      " [02] local.lcia.ecoinvent.3.1.2014_08_13/ReCiPe Midpoint (H), photochemical oxidant formation, POFP ReCiPe Midpoint (H), photochemical oxidant formation, POFP [kg NMVOC]\n",
      " [03] local.lcia.ecoinvent.3.1.2014_08_13/ReCiPe Midpoint (H), particulate matter formation, PMFP ReCiPe Midpoint (H), particulate matter formation, PMFP [kg PM10-Eq]\n",
      " [04] local.lcia.ecoinvent.3.1.2014_08_13/ReCiPe Midpoint (H), fossil depletion, FDP ReCiPe Midpoint (H), fossil depletion, FDP [kg oil-Eq]\n",
      " [05] local.lcia.ecoinvent.3.1.2014_08_13/ReCiPe Midpoint (H), ozone depletion, ODPinf ReCiPe Midpoint (H), ozone depletion, ODPinf [kg CFC-11-Eq]\n",
      " [06] local.lcia.ecoinvent.3.1.2014_08_13/ReCiPe Midpoint (H), marine ecotoxicity, METPinf ReCiPe Midpoint (H), marine ecotoxicity, METPinf [kg 1,4-DCB-Eq]\n",
      " [07] local.lcia.ecoinvent.3.1.2014_08_13/ReCiPe Midpoint (H), natural land transformation, NLTP ReCiPe Midpoint (H), natural land transformation, NLTP [m2]\n",
      " [08] local.lcia.ecoinvent.3.1.2014_08_13/ReCiPe Midpoint (H), water depletion, WDP ReCiPe Midpoint (H), water depletion, WDP [m3]\n",
      " [09] local.lcia.ecoinvent.3.1.2014_08_13/ReCiPe Midpoint (H), human toxicity, HTPinf ReCiPe Midpoint (H), human toxicity, HTPinf [kg 1,4-DCB-Eq]\n",
      " [10] local.lcia.ecoinvent.3.1.2014_08_13/ReCiPe Midpoint (H), freshwater eutrophication, FEP ReCiPe Midpoint (H), freshwater eutrophication, FEP [kg P-Eq]\n",
      " [11] local.lcia.ecoinvent.3.1.2014_08_13/ReCiPe Midpoint (H), metal depletion, MDP ReCiPe Midpoint (H), metal depletion, MDP [kg Fe-Eq]\n",
      " [12] local.lcia.ecoinvent.3.1.2014_08_13/ReCiPe Midpoint (H), freshwater ecotoxicity, FETPinf ReCiPe Midpoint (H), freshwater ecotoxicity, FETPinf [kg 1,4-DCB-Eq]\n",
      " [13] local.lcia.ecoinvent.3.1.2014_08_13/ReCiPe Midpoint (H), agricultural land occupation, ALOP ReCiPe Midpoint (H), agricultural land occupation, ALOP [m2a]\n",
      " [14] local.lcia.ecoinvent.3.1.2014_08_13/ReCiPe Midpoint (H), urban land occupation, ULOP ReCiPe Midpoint (H), urban land occupation, ULOP [m2a]\n",
      " [15] local.lcia.ecoinvent.3.1.2014_08_13/ReCiPe Midpoint (H), terrestrial ecotoxicity, TETPinf ReCiPe Midpoint (H), terrestrial ecotoxicity, TETPinf [kg 1,4-DCB-Eq]\n",
      " [16] local.lcia.ecoinvent.3.1.2014_08_13/ReCiPe Midpoint (H), ionising radiation, IRP_HE ReCiPe Midpoint (H), ionising radiation, IRP_HE [kg U235-Eq]\n",
      " [17] local.lcia.ecoinvent.3.1.2014_08_13/ReCiPe Midpoint (H), marine eutrophication, MEP ReCiPe Midpoint (H), marine eutrophication, MEP [kg N-Eq]\n"
     ]
    }
   ],
   "source": [
    "recipes = enum(cat.query('local.lcia').lcia_methods(Method='recipe midpoint \\(H\\)$'))"
   ]
  },
  {
   "cell_type": "code",
   "execution_count": 5,
   "metadata": {
    "collapsed": true,
    "deletable": true,
    "editable": true
   },
   "outputs": [],
   "source": [
    "mass = next(cat.query('local.lcia').quantities(Name='^mass'))"
   ]
  },
  {
   "cell_type": "code",
   "execution_count": 6,
   "metadata": {
    "collapsed": false,
    "deletable": true,
    "editable": true
   },
   "outputs": [
    {
     "data": {
      "text/plain": [
       "12"
      ]
     },
     "execution_count": 6,
     "metadata": {},
     "output_type": "execute_result"
    }
   ],
   "source": [
    "cat.qdb._q.add_synonyms('Mass', mass.uuid)"
   ]
  },
  {
   "cell_type": "code",
   "execution_count": 7,
   "metadata": {
    "collapsed": false
   },
   "outputs": [
    {
     "name": "stdout",
     "output_type": "stream",
     "text": [
      "Loading JSON data from /data/GitHub/2018/bw2-uncertainty/catalog/index/ffc0f70037f9e921067e85ac7e2d4ff0ba1bc3b5.json.gz:\n",
      "local.ecoinvent.3.4.cutoff.index__20180905: /data/GitHub/2018/bw2-uncertainty/catalog/index/ffc0f70037f9e921067e85ac7e2d4ff0ba1bc3b5.json.gz\n",
      "local.ecoinvent.3.4.cutoff: /data/LCI/Ecoinvent/3.4/ecoinvent 3.4_cutoff_ecoSpold02\n",
      "4881 new flow entities added (4881 total)\n",
      "19 new quantity entities added (19 total)\n",
      "13459 new process entities added (13459 total)\n"
     ]
    }
   ],
   "source": [
    "m_gly = cat.query('local.ecoinvent.3.4.cutoff').get('037fa5e4-f711-4987-b50a-38920ca5d5a0')"
   ]
  },
  {
   "cell_type": "code",
   "execution_count": 132,
   "metadata": {
    "collapsed": false
   },
   "outputs": [
    {
     "name": "stdout",
     "output_type": "stream",
     "text": [
      " [00]  Input:     [0.209 [metric ton*km]] (#) transport, freight, lorry, unspecified [By-product classification: allocatable product]\n",
      " [01]  Input:     [0.599 [metric ton*km]] (#) transport, freight, sea, transoceanic ship [CPC: 65219: Other coastal and transoceanic water transport services of other freight]\n",
      " [02]  Input:     [0.309 [metric ton*km]] (#) transport, freight train [CPC: 6512: Railway transport services of freight]\n",
      " [03]  Input:     [0.0246 [metric ton*km]] (#) transport, freight, inland waterways, barge [CPC: 65229: Other inland water transport services of freight]\n",
      " [04]  Input:     [0.000235 [kg]] (#) glycerine (CAS 000056-81-5) [CPC: 34570: Glycerol]\n",
      " [05]  Input:     [0.121 [kg]] (#) glycerine (CAS 000056-81-5) [CPC: 34570: Glycerol]\n",
      " [06]  Input:     [0.00259 [kg]] (#) glycerine (CAS 000056-81-5) [CPC: 34570: Glycerol]\n",
      " [07]  Input:     [0.11 [kg]] (#) glycerine (CAS 000056-81-5) [CPC: 34570: Glycerol]\n",
      " [08]  Input:     [0.0623 [kg]] (#) glycerine (CAS 000056-81-5) [CPC: 34570: Glycerol]\n",
      " [09]  Input:     [0.0165 [kg]] (#) glycerine (CAS 000056-81-5) [CPC: 34570: Glycerol]\n",
      " [10]  Input:     [0.00024 [kg]] (#) glycerine (CAS 000056-81-5) [CPC: 34570: Glycerol]\n",
      " [11]  Input:     [0.0039 [kg]] (#) glycerine (CAS 000056-81-5) [CPC: 34570: Glycerol]\n",
      " [12]  Input:     [0.00297 [kg]] (#) glycerine (CAS 000056-81-5) [CPC: 34570: Glycerol]\n",
      " [13]  Input:     [0.246 [kg]] (#) glycerine (CAS 000056-81-5) [CPC: 34570: Glycerol]\n",
      " [14]  Input:     [0.31 [kg]] (#) glycerine (CAS 000056-81-5) [CPC: 34570: Glycerol]\n",
      " [15]  Input:     [0.125 [kg]] (#) glycerine (CAS 000056-81-5) [CPC: 34570: Glycerol]\n"
     ]
    }
   ],
   "source": [
    "inv=enum(m_gly.market.inventory(m_gly.market.reference()))"
   ]
  },
  {
   "cell_type": "code",
   "execution_count": 133,
   "metadata": {
    "collapsed": false
   },
   "outputs": [
    {
     "name": "stdout",
     "output_type": "stream",
     "text": [
      "ProcessRef catalog reference (7ed9f79a-2672-4320-8bfa-b3ed4ba3ee57)\n",
      "origin: local.ecoinvent.3.4.cutoff\n",
      "UUID: 7ed9f79a-2672-4320-8bfa-b3ed4ba3ee57\n",
      "   Name: esterification of soybean oil\n",
      "Comment: This dataset represents the production of soybean methyl ester, respectively glycerine, from crude soybean oil. Density of methyl ester = 0.88 kg/l\n",
      "[This dataset is meant to replace the following datasets:\n",
      " - esterification of soybean oil, GLO, 1996 - 2006 (c7db84b0-b930-47ef-91bd-36026a06f5e6)]\n",
      "==Local Fields==\n",
      "           Name: esterification of soybean oil\n",
      "   SpatialScope: RoW\n",
      "  TemporalScope: {'begin': '2009-01-01', 'end': '2017-12-31'}\n",
      "Classifications: ['EcoSpold01Categories: biomass/fuels', 'ISIC rev.4 ecoinvent: 19a: Liquid and gaseous fuels from biomass']\n",
      "        Comment: This dataset represents the production of soybean methyl ester, respectively glycerine, from crude soybean oil. Density of methyl ester = 0.88 kg/l\n",
      "[This dataset is meant to replace the following datasets:\n",
      " - esterification of soybean oil, GLO, 1996 - 2006 (c7db84b0-b930-47ef-91bd-36026a06f5e6)]\n"
     ]
    }
   ],
   "source": [
    "cat.query('local.ecoinvent.3.4.cutoff').get(inv[14].termination).show()"
   ]
  },
  {
   "cell_type": "code",
   "execution_count": 126,
   "metadata": {
    "collapsed": false,
    "scrolled": true
   },
   "outputs": [
    {
     "name": "stdout",
     "output_type": "stream",
     "text": [
      "completed 63 iterations\n",
      "Multiple CFs found: [22.25, 25.0]\n",
      "Flow: local.ecoinvent.3.4.cutoff/baf58fc9-573c-419c-8c16-831ac03203b9 Methane, non-fossil [kg] [[kg]]\n",
      "Quantity: ReCiPe Midpoint (H), climate change, GWP100 [kg CO2-Eq] [LCIA]\n",
      "Multiple CFs found: [25.0, 22.25]\n",
      "Flow: local.ecoinvent.3.4.cutoff/57bdb443-d4a6-423d-8024-959b8261d02e Methane, non-fossil [kg] [[kg]]\n",
      "Quantity: ReCiPe Midpoint (H), climate change, GWP100 [kg CO2-Eq] [LCIA]\n",
      "Multiple CFs found: [25.0, 22.25]\n",
      "Flow: local.ecoinvent.3.4.cutoff/da1157e2-7593-4dfd-80dd-a3449b37a4d8 Methane, non-fossil [kg] [[kg]]\n",
      "Quantity: ReCiPe Midpoint (H), climate change, GWP100 [kg CO2-Eq] [LCIA]\n"
     ]
    }
   ],
   "source": [
    "res = recipes[0].do_lcia(m_gly.market.lci(), refresh=True)"
   ]
  },
  {
   "cell_type": "code",
   "execution_count": 128,
   "metadata": {
    "collapsed": false
   },
   "outputs": [
    {
     "name": "stdout",
     "output_type": "stream",
     "text": [
      "ReCiPe Midpoint (H), climate change, GWP100 [kg CO2-Eq] [LCIA] kg CO2-Eq\n",
      "------------------------------------------------------------\n",
      "      1.33  local.ecoinvent.3.4.cutoff/78eb1859-abd9-44c6-9ce3-f3b5b33d619c Carbon dioxide, from soil or biomass stock [kg]\n",
      "     0.897  local.ecoinvent.3.4.cutoff/aa7cac3a-3625-41d4-bc54-33e2cf11ec46 Carbon dioxide, fossil [kg]\n",
      "     0.414  local.ecoinvent.3.4.cutoff/afd6d670-bbb0-4625-9730-04088a5b035e Dinitrogen monoxide [kg]\n",
      "      0.41  local.ecoinvent.3.4.cutoff/f9749677-9c9f-4678-ab55-c607dfdc2cb9 Carbon dioxide, fossil [kg]\n",
      "     0.141  local.ecoinvent.3.4.cutoff/349b29d1-3e58-4c66-98b9-9d1a076efd2e Carbon dioxide, fossil [kg]\n",
      "    0.0963  local.ecoinvent.3.4.cutoff/6dc1b46f-ee89-4495-95c4-b8a637bcd6cb Dinitrogen monoxide [kg]\n",
      "    0.0877  local.ecoinvent.3.4.cutoff/70ef743b-3ed5-4a6d-b192-fb6d62378555 Methane, fossil [kg]\n",
      "    0.0195  local.ecoinvent.3.4.cutoff/9541a975-800f-4fed-9edf-28f6e411a015 Methane, from soil or biomass stock [kg]\n",
      "    0.0186  local.ecoinvent.3.4.cutoff/5f7aad3d-566c-4d0d-ad59-e765f971aa0f Methane, fossil [kg]\n",
      "    0.0101  local.ecoinvent.3.4.cutoff/0795345f-c7ae-410c-ad25-1845784c75f5 Methane, fossil [kg]\n",
      "   0.00349  local.ecoinvent.3.4.cutoff/20185046-64bb-4c09-a8e7-e8a9e144ca98 Dinitrogen monoxide [kg]\n",
      "   0.00283  local.ecoinvent.3.4.cutoff/e4e9febc-07c1-403d-8d3a-6707bb4d96e6 Carbon dioxide, from soil or biomass stock [kg]\n",
      "   0.00272  local.ecoinvent.3.4.cutoff/35d1dff5-b535-4628-9826-4a8fce08a1f2 Sulfur hexafluoride [kg]\n",
      "   0.00213  local.ecoinvent.3.4.cutoff/57bdb443-d4a6-423d-8024-959b8261d02e Methane, non-fossil [kg]\n",
      "  0.000593  local.ecoinvent.3.4.cutoff/33681770-a0e1-4ce8-93c3-941fd607fa5f Methane, tetrafluoro-, R-14 [kg]\n",
      "  0.000467  local.ecoinvent.3.4.cutoff/5c97dd6c-aaa5-4477-aaf8-dbd0674499c4 Methane, tetrachloro-, R-10 [kg]\n",
      "  0.000165  local.ecoinvent.3.4.cutoff/1584734d-c5c8-42a5-aa51-0f6a92a9cc0d Ethane, 1,2-dichloro-1,1,2,2-tetrafluoro-, CFC-114 [kg]\n",
      "  9.62e-05  local.ecoinvent.3.4.cutoff/baf58fc9-573c-419c-8c16-831ac03203b9 Methane, non-fossil [kg]\n",
      "  8.44e-05  local.ecoinvent.3.4.cutoff/df5dd437-2e12-4af6-8f7a-9c8224857dc5 Ethane, hexafluoro-, HFC-116 [kg]\n",
      "  7.17e-05  local.ecoinvent.3.4.cutoff/acc39720-dda7-4b3a-80c7-c6394cad4191 Ethane, hexafluoro-, HFC-116 [kg]\n",
      "  7.03e-05  local.ecoinvent.3.4.cutoff/56b7d3b6-83d7-42b0-a65b-5ad23e29db47 Methane, chlorodifluoro-, HCFC-22 [kg]\n",
      "  5.18e-05  local.ecoinvent.3.4.cutoff/82957257-07f3-4536-ac8b-175cb2353c75 Methane, bromotrifluoro-, Halon 1301 [kg]\n",
      "  4.41e-05  local.ecoinvent.3.4.cutoff/8f87dcf1-0177-4d62-bea0-a5dd8647ef8c Methane, trifluoro-, HFC-23 [kg]\n",
      "  1.47e-05  local.ecoinvent.3.4.cutoff/31a3e44c-4098-461e-aba2-f79540e05087 Methane, dichlorodifluoro-, CFC-12 [kg]\n",
      "   1.2e-05  local.ecoinvent.3.4.cutoff/4cadbc9f-0472-4bb9-a942-df5b90e37878 Chloroform [kg]\n",
      "  9.92e-06  local.ecoinvent.3.4.cutoff/494eb62d-3e16-4a81-b344-6d6dfd9fd4e2 Methane, bromochlorodifluoro-, Halon 1211 [kg]\n",
      "  7.24e-06  local.ecoinvent.3.4.cutoff/16eeda8a-1ea2-408e-ab37-2648495058dd Carbon dioxide, fossil [kg]\n",
      "   6.8e-06  local.ecoinvent.3.4.cutoff/8ca6c84b-7f56-47e6-8d17-4f2dbc49a943 Methane, chlorodifluoro-, HCFC-22 [kg]\n",
      "  2.86e-06  local.ecoinvent.3.4.cutoff/e87f039d-d9ce-4242-ac18-c9284cc80f3d Ethane, 1,1,1,2-tetrafluoro-, HFC-134a [kg]\n",
      "  1.16e-06  local.ecoinvent.3.4.cutoff/393d0862-04cc-45ae-8d08-9dc2a4461b35 Ethane, 1,1-difluoro-, HFC-152a [kg]\n",
      "  1.15e-06  local.ecoinvent.3.4.cutoff/1b6a35b8-f6c8-404d-9c0e-e09b8fdb2d9e Methane, dichloro-, HCC-30 [kg]\n",
      "  7.93e-07  local.ecoinvent.3.4.cutoff/16fcd4f9-0bb8-4b84-8334-3ffb1a17aa74 Ethane, 1,1,1,2-tetrafluoro-, HFC-134a [kg]\n",
      "  6.82e-07  local.ecoinvent.3.4.cutoff/cacfd448-6c2d-4061-9363-fd506b979f25 Ethane, 1,1,2-trichloro-1,2,2-trifluoro-, CFC-113 [kg]\n",
      "  6.43e-07  local.ecoinvent.3.4.cutoff/dfe1da1e-7756-4f7e-a393-6d5e2342a962 Methane, tetrafluoro-, R-14 [kg]\n",
      "  6.12e-07  local.ecoinvent.3.4.cutoff/9b132374-dce2-4ce0-86aa-53201b30f617 Ethane, 1,1,2-trichloro-1,2,2-trifluoro-, CFC-113 [kg]\n",
      "   4.7e-07  local.ecoinvent.3.4.cutoff/626dd1d8-5355-40cb-8569-9c87c2c6ab18 Hydrocarbons, chlorinated [kg]\n",
      "  3.79e-07  local.ecoinvent.3.4.cutoff/c7c769bb-89b9-4459-afed-e3acecd39339 Sulfur hexafluoride [kg]\n",
      "   3.6e-07  local.ecoinvent.3.4.cutoff/d2025041-20ee-41bb-b2c8-47631e839ff0 Ethane, 1,1,2-trichloro-1,2,2-trifluoro-, CFC-113 [kg]\n",
      "  3.44e-07  local.ecoinvent.3.4.cutoff/81305cda-63f1-4c1a-99c6-2c2568550ec4 Dinitrogen monoxide [kg]\n",
      "   3.4e-07  local.ecoinvent.3.4.cutoff/fa0c2bee-8dd9-4f8a-8489-b1f3b43de958 Ethane, 1,1,1,2-tetrafluoro-, HFC-134a [kg]\n",
      "  2.56e-07  local.ecoinvent.3.4.cutoff/d14eb0da-95fd-46c3-90db-55ca33d78701 Hydrocarbons, chlorinated [kg]\n",
      "  2.55e-07  local.ecoinvent.3.4.cutoff/2716807d-0266-48ff-bb7a-6e6c5fbfd5c5 Methane, dichloro-, HCC-30 [kg]\n",
      "  1.95e-07  local.ecoinvent.3.4.cutoff/ed63abd0-7cc6-4825-8759-b367e560fe95 Methane, monochloro-, R-40 [kg]\n",
      "   1.1e-07  local.ecoinvent.3.4.cutoff/da1157e2-7593-4dfd-80dd-a3449b37a4d8 Methane, non-fossil [kg]\n",
      "  1.04e-07  local.ecoinvent.3.4.cutoff/b53d3744-3629-4219-be20-980865e54031 Methane [kg]\n",
      "   8.6e-08  local.ecoinvent.3.4.cutoff/fa9b9736-6de8-4bd6-ba22-1bd78c798373 Chloroform [kg]\n",
      "  8.27e-08  local.ecoinvent.3.4.cutoff/99585564-bfce-4845-9aaa-2f24b8f26a41 Ethane, 1,1,1-trichloro-, HCFC-140 [kg]\n",
      "  7.14e-08  local.ecoinvent.3.4.cutoff/d4b61c6c-a620-4a91-afc6-ca87ef97b55a Methane, dichloro-, HCC-30 [kg]\n",
      "  6.77e-08  local.ecoinvent.3.4.cutoff/60268f3d-468b-487e-acb1-24d7250cb6b3 Ethane, 2-chloro-1,1,1,2-tetrafluoro-, HCFC-124 [kg]\n",
      "   6.7e-08  local.ecoinvent.3.4.cutoff/e93ba406-3df8-4e34-be54-0d556b2bb629 Methane, dichlorodifluoro-, CFC-12 [kg]\n",
      "  6.08e-08  local.ecoinvent.3.4.cutoff/d6626dfb-3ac8-4169-9e75-54c41ef2a582 Hydrocarbons, chlorinated [kg]\n",
      "   4.9e-08  local.ecoinvent.3.4.cutoff/33a69662-583b-45b8-8cb9-94f59fca9133 Methane, trichlorofluoro-, CFC-11 [kg]\n",
      "  2.05e-08  local.ecoinvent.3.4.cutoff/473826ae-125a-4b02-8c8e-c84322491d80 Dinitrogen monoxide [kg]\n",
      "  1.07e-08  local.ecoinvent.3.4.cutoff/86d12e70-0c64-4ecf-ba52-114fa0c5d402 Methane, tetrachloro-, R-10 [kg]\n",
      "  6.28e-09  local.ecoinvent.3.4.cutoff/1c4a106a-53bc-40f5-bcae-d30ab191dbfe Ethane, 1,1-difluoro-, HFC-152a [kg]\n",
      "   5.6e-09  local.ecoinvent.3.4.cutoff/432a3326-73f8-4752-bc4d-06b7b4b1243c Methane, dichloro-, HCC-30 [kg]\n",
      "  2.87e-09  local.ecoinvent.3.4.cutoff/6b1b495b-70ee-4be6-b1c2-3031aa4d6add Methane, fossil [kg]\n",
      "  1.41e-09  local.ecoinvent.3.4.cutoff/3c8af80d-7ff8-43f4-b1a7-cef73b1b4682 Methane, dichlorofluoro-, HCFC-21 [kg]\n",
      "  1.86e-10  local.ecoinvent.3.4.cutoff/c0e8ec60-a5ae-432e-97a5-cf76b6247a00 Methane, dichlorodifluoro-, CFC-12 [kg]\n",
      "   1.2e-10  local.ecoinvent.3.4.cutoff/18ddd879-5496-4419-8ab7-e0d3864d977d Methane, bromotrifluoro-, Halon 1301 [kg]\n",
      "  2.35e-11  local.ecoinvent.3.4.cutoff/856c9aa2-c20c-49a8-9417-c71bdb5f17b0 Sulfur hexafluoride [kg]\n",
      "  4.42e-12  local.ecoinvent.3.4.cutoff/1fdc280a-34d3-4513-b110-3f526b17c443 Nitrogen fluoride [kg]\n",
      "  2.56e-12  local.ecoinvent.3.4.cutoff/ce6294f5-2ed7-46ee-a967-33e265e34455 Ethane, 1,1,1-trichloro-, HCFC-140 [kg]\n",
      "  2.94e-13  local.ecoinvent.3.4.cutoff/fbf6ab3a-74e3-4cbe-b61d-959728bdce46 Chloroform [kg]\n",
      "  1.29e-13  local.ecoinvent.3.4.cutoff/8c283de2-50d3-40c8-8bff-1e172c3398f8 Methane, bromo-, Halon 1001 [kg]\n",
      "  6.91e-19  local.ecoinvent.3.4.cutoff/18c582fe-7336-4138-8797-2db8b7a754c7 Methane, chlorodifluoro-, HCFC-22 [kg]\n",
      "  9.62e-22  local.ecoinvent.3.4.cutoff/4bf1c333-419b-4278-ac14-247c8bf563d6 Methane, bromo-, Halon 1001 [kg]\n",
      "         0  local.ecoinvent.3.4.cutoff/73ed05cc-9727-4abf-9516-4b5c0fe54a16 Carbon dioxide, non-fossil [kg]\n",
      "         0  local.ecoinvent.3.4.cutoff/cc6a1abb-b123-4ca6-8f16-38209df609be Carbon dioxide, in air [kg]\n",
      "         0  local.ecoinvent.3.4.cutoff/d6235194-e4e6-4548-bfa3-ac095131aef4 Carbon dioxide, non-fossil [kg]\n",
      "         0  local.ecoinvent.3.4.cutoff/eba59fd6-f37e-41dc-9ca3-c7ea22d602c7 Carbon dioxide, non-fossil [kg]\n",
      " -6.74e-05  local.ecoinvent.3.4.cutoff/375bc95e-6596-4aa1-9716-80ff51b9da77 Carbon dioxide, to soil or biomass stock [kg]\n",
      "==========\n",
      "      3.44 ReCiPe Midpoint (H), climate change, GWP100 [kg CO2-Eq] [LCIA]\n"
     ]
    }
   ],
   "source": [
    "res.show_components()"
   ]
  },
  {
   "cell_type": "code",
   "execution_count": 135,
   "metadata": {
    "collapsed": false
   },
   "outputs": [
    {
     "data": {
      "text/plain": [
       "[0.000235253496422294,\n",
       " 0.120884112034407,\n",
       " 0.0025873822622544,\n",
       " 0.109726176278784,\n",
       " 0.0622621690420671,\n",
       " 0.0164657626128754,\n",
       " 0.000240378511370286,\n",
       " 0.00390097746261021,\n",
       " 0.00297124710519323,\n",
       " 0.245909023302167,\n",
       " 0.310293179807715,\n",
       " 0.124524338084134]"
      ]
     },
     "execution_count": 135,
     "metadata": {},
     "output_type": "execute_result"
    }
   ],
   "source": [
    "m_gly.exchange_values"
   ]
  },
  {
   "cell_type": "code",
   "execution_count": 136,
   "metadata": {
    "collapsed": false
   },
   "outputs": [
    {
     "data": {
      "text/plain": [
       "[1.9736567895799773,\n",
       " 1.9080250484758379,\n",
       " 7.1549426834270076,\n",
       " 1.0433618035686494,\n",
       " 4.5093929469488963,\n",
       " 0.37972556565244475,\n",
       " 0.34282567874124636,\n",
       " 0.25557693565544942,\n",
       " 2.4545580238122446,\n",
       " 1.907909564890391,\n",
       " 5.4086896549761763,\n",
       " 4.6516863117034823]"
      ]
     },
     "execution_count": 136,
     "metadata": {},
     "output_type": "execute_result"
    }
   ],
   "source": [
    "m_gly.scores(recipes[0])"
   ]
  },
  {
   "cell_type": "code",
   "execution_count": 10,
   "metadata": {
    "collapsed": false,
    "deletable": true,
    "editable": true
   },
   "outputs": [],
   "source": [
    "import sys \n",
    "sys.path.append('/data/GitHub/2018/bw2-uncertainty/')"
   ]
  },
  {
   "cell_type": "code",
   "execution_count": 11,
   "metadata": {
    "collapsed": true,
    "deletable": true,
    "editable": true
   },
   "outputs": [],
   "source": [
    "from lca_variability import lca_variability"
   ]
  },
  {
   "cell_type": "code",
   "execution_count": 12,
   "metadata": {
    "collapsed": true
   },
   "outputs": [],
   "source": [
    "mg_path = '/data/GitHub/2018/bw2-uncertainty/mg_save.json'"
   ]
  },
  {
   "cell_type": "code",
   "execution_count": 13,
   "metadata": {
    "collapsed": true,
    "deletable": true,
    "editable": true
   },
   "outputs": [],
   "source": [
    "mg = lca_variability.MarketIterator(cat.query('local.ecoinvent.3.4.cutoff'), *(recipes[k] for k in (0, 1, 2, 17)))"
   ]
  },
  {
   "cell_type": "code",
   "execution_count": 14,
   "metadata": {
    "collapsed": false,
    "deletable": true,
    "editable": true
   },
   "outputs": [
    {
     "name": "stdout",
     "output_type": "stream",
     "text": [
      "local.ecoinvent.3.4.cutoff: /data/LCI/Ecoinvent/3.4/ecoinvent 3.4_cutoff_ecoSpold02\n",
      "completed 66 iterations\n",
      "completed 65 iterations\n",
      "completed 65 iterations\n"
     ]
    }
   ],
   "source": [
    "res = next(mg)"
   ]
  },
  {
   "cell_type": "code",
   "execution_count": 15,
   "metadata": {
    "collapsed": false,
    "deletable": true,
    "editable": true
   },
   "outputs": [
    {
     "data": {
      "text/plain": [
       "[1.0015495805955217,\n",
       " 1.0023223510893671,\n",
       " 1.0023286835735561,\n",
       " 1.0024689311393686]"
      ]
     },
     "execution_count": 15,
     "metadata": {},
     "output_type": "execute_result"
    }
   ],
   "source": [
    "res.ratios"
   ]
  },
  {
   "cell_type": "code",
   "execution_count": 16,
   "metadata": {
    "collapsed": false,
    "deletable": true,
    "editable": true
   },
   "outputs": [
    {
     "data": {
      "text/plain": [
       "'ReCiPe Midpoint (H), marine eutrophication, MEP'"
      ]
     },
     "execution_count": 16,
     "metadata": {},
     "output_type": "execute_result"
    }
   ],
   "source": [
    "res.max_ratio[1]['Name']"
   ]
  },
  {
   "cell_type": "code",
   "execution_count": 17,
   "metadata": {
    "collapsed": false,
    "deletable": true,
    "editable": true
   },
   "outputs": [
    {
     "data": {
      "text/plain": [
       "2"
      ]
     },
     "execution_count": 17,
     "metadata": {},
     "output_type": "execute_result"
    }
   ],
   "source": [
    "res.size"
   ]
  },
  {
   "cell_type": "code",
   "execution_count": 18,
   "metadata": {
    "collapsed": false,
    "deletable": true,
    "editable": true
   },
   "outputs": [
    {
     "name": "stdout",
     "output_type": "stream",
     "text": [
      "completed 62 iterations\n",
      "completed 60 iterations\n",
      "completed 61 iterations\n",
      "completed 58 iterations\n",
      "completed 58 iterations\n",
      "completed 68 iterations\n",
      "completed 67 iterations\n",
      "completed 67 iterations\n",
      "completed 65 iterations\n",
      "completed 65 iterations\n",
      "completed 65 iterations\n",
      "completed 63 iterations\n",
      "Updating local compartment file\n",
      "match: ['CPC: 26570: Woven fabrics of jute and other textile bast fibres (except flax, true hemp and ramie)']\n",
      "Updating local compartment file\n",
      "match: ['CPC: 26380: Yarn of vegetable textile fibres other than cotton (including flax, jute, coir and true hemp); paper yarn']\n",
      "Updating local compartment file\n",
      "match: ['CPC: 44614: Auxiliary machinery for use with machines for textile extruding, preparing, spinning, weaving, knitting or the[…]']\n",
      "completed 63 iterations\n",
      "completed 63 iterations\n",
      "completed 69 iterations\n",
      "completed 68 iterations\n",
      "completed 68 iterations\n",
      "completed 66 iterations\n",
      "completed 66 iterations\n",
      "completed 66 iterations\n",
      "completed 64 iterations\n",
      "completed 64 iterations\n",
      "exact result\n",
      "completed 0 iterations\n",
      "exact result\n",
      "completed 0 iterations\n",
      "completed 64 iterations\n",
      "completed 64 iterations\n",
      "completed 64 iterations\n",
      "completed 61 iterations\n",
      "completed 59 iterations\n",
      "completed 67 iterations\n",
      "completed 66 iterations\n",
      "completed 66 iterations\n",
      "completed 64 iterations\n",
      "completed 61 iterations\n",
      "completed 63 iterations\n",
      "completed 64 iterations\n",
      "completed 67 iterations\n",
      "completed 67 iterations\n",
      "exact result\n",
      "completed 0 iterations\n",
      "exact result\n",
      "completed 0 iterations\n",
      "exact result\n",
      "completed 0 iterations\n",
      "completed 69 iterations\n",
      "completed 68 iterations\n",
      "completed 68 iterations\n",
      "completed 69 iterations\n",
      "completed 69 iterations\n",
      "completed 66 iterations\n",
      "completed 66 iterations\n",
      "completed 66 iterations\n",
      "completed 66 iterations\n",
      "completed 66 iterations\n",
      "completed 66 iterations\n",
      "completed 66 iterations\n",
      "completed 66 iterations\n",
      "completed 66 iterations\n"
     ]
    }
   ],
   "source": [
    "res = next(a for a in mg if a.size>4)"
   ]
  },
  {
   "cell_type": "code",
   "execution_count": 19,
   "metadata": {
    "collapsed": false,
    "deletable": true,
    "editable": true
   },
   "outputs": [
    {
     "data": {
      "text/plain": [
       "[1.2514009899234149,\n",
       " 2.4528270264405965,\n",
       " 3.7569865663386453,\n",
       " 5.0754325146902151]"
      ]
     },
     "execution_count": 19,
     "metadata": {},
     "output_type": "execute_result"
    }
   ],
   "source": [
    "res.ratios"
   ]
  },
  {
   "cell_type": "code",
   "execution_count": 20,
   "metadata": {
    "collapsed": false
   },
   "outputs": [
    {
     "data": {
      "text/plain": [
       "{'index': 17,\n",
       " 'market_external_ref': '01c2f12e-8c66-4431-a076-6d88e89ea82f',\n",
       " 'scores': {'ReCiPe Midpoint (H), climate change, GWP100': {'01c2f12e-8c66-4431-a076-6d88e89ea82f': 0.45199797758338467,\n",
       "   '0876669c-c942-4c20-a57f-e9f535ea6f17': 0.43325358639235229,\n",
       "   '1afe32c5-2a98-4d5b-a08d-59b38e4016eb': 0.41015647898012553,\n",
       "   '5a8efa07-c9ee-466f-bee0-cf85c20ac2f8': 0.4708216947110983,\n",
       "   '91fb7c7d-13fd-48b9-83fd-3653c3ff4c74': 0.37623567385855461,\n",
       "   '98deed34-341b-4221-badf-0ce6009a3575': 0.39398392365569562,\n",
       "   'a208b70a-f133-4879-aa50-69bfd3709fe4': 0.4218385695141767,\n",
       "   'f493d2ed-647d-4b0b-bd25-c8b49b3f4fd9': 0.40486808944714764,\n",
       "   'f5bb0281-e1d2-4099-a381-a857d8972d4a': 0.44875058226092357},\n",
       "  'ReCiPe Midpoint (H), marine eutrophication, MEP': {'01c2f12e-8c66-4431-a076-6d88e89ea82f': 0.00078005390973329136,\n",
       "   '0876669c-c942-4c20-a57f-e9f535ea6f17': 0.00043811837895373486,\n",
       "   '1afe32c5-2a98-4d5b-a08d-59b38e4016eb': 0.00063323609804900296,\n",
       "   '5a8efa07-c9ee-466f-bee0-cf85c20ac2f8': 0.0009990751597797208,\n",
       "   '91fb7c7d-13fd-48b9-83fd-3653c3ff4c74': 0.00019684532439117664,\n",
       "   '98deed34-341b-4221-badf-0ce6009a3575': 0.00019695832300144973,\n",
       "   'a208b70a-f133-4879-aa50-69bfd3709fe4': 0.00099879319889511066,\n",
       "   'f493d2ed-647d-4b0b-bd25-c8b49b3f4fd9': 0.00043794686583174873,\n",
       "   'f5bb0281-e1d2-4099-a381-a857d8972d4a': 0.00063346216302403199},\n",
       "  'ReCiPe Midpoint (H), photochemical oxidant formation, POFP': {'01c2f12e-8c66-4431-a076-6d88e89ea82f': 0.0023619222579907501,\n",
       "   '0876669c-c942-4c20-a57f-e9f535ea6f17': 0.001439987616899348,\n",
       "   '1afe32c5-2a98-4d5b-a08d-59b38e4016eb': 0.0019471128639310658,\n",
       "   '5a8efa07-c9ee-466f-bee0-cf85c20ac2f8': 0.0029651723221980311,\n",
       "   '91fb7c7d-13fd-48b9-83fd-3653c3ff4c74': 0.00078924219446643558,\n",
       "   '98deed34-341b-4221-badf-0ce6009a3575': 0.00078976538640719639,\n",
       "   'a208b70a-f133-4879-aa50-69bfd3709fe4': 0.0029638663326873389,\n",
       "   'f493d2ed-647d-4b0b-bd25-c8b49b3f4fd9': 0.0014391933612727594,\n",
       "   'f5bb0281-e1d2-4099-a381-a857d8972d4a': 0.0019481599191781989},\n",
       "  'ReCiPe Midpoint (H), terrestrial acidification, TAP100': {'01c2f12e-8c66-4431-a076-6d88e89ea82f': 0.0017508161047687788,\n",
       "   '0876669c-c942-4c20-a57f-e9f535ea6f17': 0.001239924538905747,\n",
       "   '1afe32c5-2a98-4d5b-a08d-59b38e4016eb': 0.0015330900188153427,\n",
       "   '5a8efa07-c9ee-466f-bee0-cf85c20ac2f8': 0.0020786912196996375,\n",
       "   '91fb7c7d-13fd-48b9-83fd-3653c3ff4c74': 0.00084746751291146544,\n",
       "   '98deed34-341b-4221-badf-0ce6009a3575': 0.000848066106026417,\n",
       "   'a208b70a-f133-4879-aa50-69bfd3709fe4': 0.0020771967534439916,\n",
       "   'f493d2ed-647d-4b0b-bd25-c8b49b3f4fd9': 0.001239015626472011,\n",
       "   'f5bb0281-e1d2-4099-a381-a857d8972d4a': 0.0015342878548035292}}}"
      ]
     },
     "execution_count": 20,
     "metadata": {},
     "output_type": "execute_result"
    }
   ],
   "source": [
    "res.serialize()"
   ]
  },
  {
   "cell_type": "code",
   "execution_count": 21,
   "metadata": {
    "collapsed": false
   },
   "outputs": [],
   "source": [
    "mg.save(mg_path)"
   ]
  },
  {
   "cell_type": "code",
   "execution_count": 23,
   "metadata": {
    "collapsed": false
   },
   "outputs": [],
   "source": [
    "mq = lca_variability.MarketIterator.restore(mg_path, cat)"
   ]
  },
  {
   "cell_type": "code",
   "execution_count": 25,
   "metadata": {
    "collapsed": false
   },
   "outputs": [
    {
     "data": {
      "text/plain": [
       "True"
      ]
     },
     "execution_count": 25,
     "metadata": {},
     "output_type": "execute_result"
    }
   ],
   "source": [
    "mq.ratios == mg.ratios"
   ]
  },
  {
   "cell_type": "code",
   "execution_count": 30,
   "metadata": {
    "collapsed": false
   },
   "outputs": [
    {
     "name": "stdout",
     "output_type": "stream",
     "text": [
      "completed 64 iterations\n",
      "completed 63 iterations\n",
      "completed 64 iterations\n",
      "completed 65 iterations\n",
      "completed 65 iterations\n",
      "completed 65 iterations\n",
      "completed 69 iterations\n",
      "completed 68 iterations\n",
      "completed 68 iterations\n",
      "completed 62 iterations\n",
      "completed 61 iterations\n",
      "completed 60 iterations\n",
      "completed 58 iterations\n",
      "completed 66 iterations\n",
      "Updating local compartment file\n",
      "match: ['CPC: 89122: Services related to printing']\n",
      "Updating local compartment file\n",
      "match: ['CPC: 412: Products of iron or steel']\n",
      "Updating local compartment file\n",
      "match: ['CPC: 44831: Parts of the following appliances: electromechanical domestic appliances, shavers and hairclippers, with self-[…]']\n",
      "Updating local compartment file\n",
      "match: ['CPC: 43941: Parts of producer gas or water gas generators; parts of acetylene gas generators and similar water process gas[…]']\n",
      "Updating local compartment file\n",
      "match: ['CPC: 44815: Fans and ventilating or recycling hoods of the domestic type']\n",
      "Updating local compartment file\n",
      "match: ['CPC: 36320: Tubes, pipes and hoses, and fittings therefor, of plastics']\n",
      "completed 66 iterations\n",
      "completed 66 iterations\n",
      "completed 67 iterations\n",
      "completed 69 iterations\n",
      "completed 66 iterations\n",
      "completed 69 iterations\n",
      "completed 66 iterations\n",
      "completed 65 iterations\n",
      "completed 64 iterations\n",
      "completed 65 iterations\n",
      "completed 66 iterations\n",
      "completed 65 iterations\n",
      "completed 56 iterations\n",
      "completed 56 iterations\n",
      "completed 67 iterations\n",
      "completed 68 iterations\n",
      "completed 68 iterations\n",
      "completed 68 iterations\n",
      "completed 66 iterations\n",
      "completed 66 iterations\n",
      "completed 66 iterations\n",
      "completed 66 iterations\n",
      "completed 62 iterations\n",
      "completed 65 iterations\n",
      "completed 65 iterations\n",
      "completed 63 iterations\n",
      "completed 59 iterations\n",
      "completed 66 iterations\n",
      "completed 65 iterations\n",
      "completed 65 iterations\n",
      "completed 69 iterations\n",
      "completed 68 iterations\n",
      "completed 70 iterations\n",
      "completed 68 iterations\n",
      "completed 69 iterations\n",
      "completed 65 iterations\n",
      "completed 64 iterations\n",
      "completed 64 iterations\n",
      "exact result\n",
      "completed 2 iterations\n",
      "exact result\n",
      "completed 1 iterations\n",
      "completed 68 iterations\n",
      "completed 67 iterations\n",
      "completed 69 iterations\n",
      "completed 68 iterations\n",
      "completed 68 iterations\n",
      "completed 66 iterations\n",
      "completed 68 iterations\n",
      "completed 68 iterations\n",
      "completed 62 iterations\n",
      "completed 61 iterations\n",
      "completed 69 iterations\n",
      "completed 68 iterations\n",
      "completed 68 iterations\n",
      "completed 63 iterations\n",
      "completed 61 iterations\n",
      "completed 60 iterations\n",
      "completed 67 iterations\n",
      "completed 67 iterations\n",
      "completed 67 iterations\n",
      "completed 62 iterations\n",
      "completed 68 iterations\n",
      "completed 68 iterations\n",
      "completed 68 iterations\n",
      "completed 68 iterations\n",
      "completed 68 iterations\n",
      "completed 68 iterations\n",
      "completed 68 iterations\n",
      "completed 67 iterations\n",
      "completed 67 iterations\n",
      "completed 64 iterations\n",
      "completed 66 iterations\n",
      "completed 68 iterations\n",
      "Updating local compartment file\n",
      "match: ['CPC: 49941: Parts and accessories of motorcycles and side-cars']\n",
      "completed 68 iterations\n",
      "completed 57 iterations\n",
      "completed 55 iterations\n",
      "completed 59 iterations\n",
      "completed 63 iterations\n",
      "completed 67 iterations\n",
      "completed 69 iterations\n",
      "completed 66 iterations\n",
      "completed 65 iterations\n",
      "completed 60 iterations\n",
      "completed 65 iterations\n",
      "completed 63 iterations\n",
      "completed 63 iterations\n",
      "completed 63 iterations\n",
      "completed 69 iterations\n",
      "completed 67 iterations\n",
      "completed 60 iterations\n"
     ]
    }
   ],
   "source": [
    "while res.market.uuid != '037fa5e4-f711-4987-b50a-38920ca5d5a0':\n",
    "    res = next(mg)"
   ]
  },
  {
   "cell_type": "code",
   "execution_count": 151,
   "metadata": {
    "collapsed": false
   },
   "outputs": [
    {
     "data": {
      "text/plain": [
       "3341"
      ]
     },
     "execution_count": 151,
     "metadata": {},
     "output_type": "execute_result"
    }
   ],
   "source": [
    "len(mg)"
   ]
  },
  {
   "cell_type": "code",
   "execution_count": 154,
   "metadata": {
    "collapsed": false
   },
   "outputs": [
    {
     "data": {
      "text/plain": [
       "<lca_variability.lca_variability.MarketIterator at 0x7f8410b75828>"
      ]
     },
     "execution_count": 154,
     "metadata": {},
     "output_type": "execute_result"
    }
   ],
   "source": [
    "mg"
   ]
  },
  {
   "cell_type": "code",
   "execution_count": 159,
   "metadata": {
    "collapsed": false
   },
   "outputs": [],
   "source": [
    "ratios_2 = [k.max_ratio[0] for k in mg._results if len(k) == 2]"
   ]
  },
  {
   "cell_type": "code",
   "execution_count": 168,
   "metadata": {
    "collapsed": true
   },
   "outputs": [],
   "source": [
    "extremes = [k for k in mg._results if k.max_ratio[0] > 32]"
   ]
  },
  {
   "cell_type": "code",
   "execution_count": 198,
   "metadata": {
    "collapsed": false
   },
   "outputs": [],
   "source": [
    "mkt = extremes[4]"
   ]
  },
  {
   "cell_type": "code",
   "execution_count": 199,
   "metadata": {
    "collapsed": false
   },
   "outputs": [
    {
     "name": "stdout",
     "output_type": "stream",
     "text": [
      "ProcessRef catalog reference (10159e84-c3b7-45e2-832d-f30b70dc954e)\n",
      "origin: local.ecoinvent.3.4.cutoff\n",
      "UUID: 10159e84-c3b7-45e2-832d-f30b70dc954e\n",
      "   Name: market for energy feed, gross\n",
      "Comment: no comment.\n",
      "==Local Fields==\n",
      "           Name: market for energy feed, gross\n",
      "   SpatialScope: GLO\n",
      "  TemporalScope: {'begin': '2012-01-01', 'end': '2017-12-31'}\n",
      "Classifications: ['ISIC rev.4 ecoinvent: 108:Manufacture of prepared animal feeds']\n",
      "        Comment: no comment.\n"
     ]
    }
   ],
   "source": [
    "mkt.market.show()"
   ]
  },
  {
   "cell_type": "code",
   "execution_count": 200,
   "metadata": {
    "collapsed": false
   },
   "outputs": [
    {
     "data": {
      "text/plain": [
       "['barley grain to generic market for energy feed',\n",
       " 'buttermilk, from cow milk to generic market for protein feed',\n",
       " 'cottonseed meal to generic market for protein feed',\n",
       " \"Distiller's Dried Grains with Solubles to generic market for protein feed\",\n",
       " 'fodder yeast to generic market for protein feed',\n",
       " 'grass fibres to generic market for energy feed',\n",
       " 'maize grain to generic market for energy feed',\n",
       " 'molasses, from sugar beet, to generic market for energy feed',\n",
       " 'palm date production, conditioned and dried, organic',\n",
       " 'palm date production, conditioned and dried',\n",
       " 'palm kernel meal to generic market for protein feed',\n",
       " 'rape meal to generic market for protein feed',\n",
       " 'skimmed milk, from cow milk to generic market for protein feed',\n",
       " 'soybean meal to generic market for protein feed',\n",
       " 'sugar beet pulp to generic market for energy feed',\n",
       " 'sweet sorghum grain to generic market for energy feed']"
      ]
     },
     "execution_count": 200,
     "metadata": {},
     "output_type": "execute_result"
    }
   ],
   "source": [
    "[q.get(m)['Name'] for m in mkt.suppliers]"
   ]
  },
  {
   "cell_type": "code",
   "execution_count": 205,
   "metadata": {
    "collapsed": false
   },
   "outputs": [
    {
     "data": {
      "text/plain": [
       "[0.108546887698115,\n",
       " 0.00255411158496199,\n",
       " 0.0128065298114045,\n",
       " 0.0160695332587972,\n",
       " 6.40112616398328e-06,\n",
       " 1.06013594269045e-05,\n",
       " 0.600012826670577,\n",
       " 0.0065880992945025,\n",
       " 5.86393036151485e-08,\n",
       " 7.0382480465834e-07,\n",
       " 0.00445245843515154,\n",
       " 0.023709181207792,\n",
       " 0.0229993823049986,\n",
       " 0.129247843223921,\n",
       " 0.0174557815790475,\n",
       " 0.0555395999810313]"
      ]
     },
     "execution_count": 205,
     "metadata": {},
     "output_type": "execute_result"
    }
   ],
   "source": [
    "mkt.exchange_values"
   ]
  },
  {
   "cell_type": "code",
   "execution_count": 204,
   "metadata": {
    "collapsed": false
   },
   "outputs": [
    {
     "data": {
      "text/plain": [
       "6"
      ]
     },
     "execution_count": 204,
     "metadata": {},
     "output_type": "execute_result"
    }
   ],
   "source": [
    "mkt.exchange_values.index(max(mkt.exchange_values))"
   ]
  },
  {
   "cell_type": "code",
   "execution_count": 202,
   "metadata": {
    "collapsed": false
   },
   "outputs": [
    {
     "data": {
      "text/plain": [
       "0.034690717597866155"
      ]
     },
     "execution_count": 202,
     "metadata": {},
     "output_type": "execute_result"
    }
   ],
   "source": [
    "sum(x*y for x, y in zip(mkt.exchange_values, mkt.scores(recipes[0])))"
   ]
  },
  {
   "cell_type": "code",
   "execution_count": 206,
   "metadata": {
    "collapsed": false
   },
   "outputs": [
    {
     "data": {
      "text/plain": [
       "108.72528647159521"
      ]
     },
     "execution_count": 206,
     "metadata": {},
     "output_type": "execute_result"
    }
   ],
   "source": [
    "mkt.ratio(recipes[0])"
   ]
  },
  {
   "cell_type": "code",
   "execution_count": 203,
   "metadata": {
    "collapsed": false
   },
   "outputs": [
    {
     "data": {
      "text/plain": [
       "[0.032995578321377214,\n",
       " 0.12297709744757074,\n",
       " 0.011982915297862773,\n",
       " 0.0011310809236607425,\n",
       " 0.087769589729043557,\n",
       " 0.093722376493011322,\n",
       " 0.031648060620818666,\n",
       " 0.0036284016696135294,\n",
       " 0.067360649558563052,\n",
       " 0.054859646292486283,\n",
       " 0.017437334392721451,\n",
       " 0.014869489869555441,\n",
       " 0.039154122712525281,\n",
       " 0.071136727415811826,\n",
       " 0.030482016277978537,\n",
       " 0.0099319025141804632]"
      ]
     },
     "execution_count": 203,
     "metadata": {},
     "output_type": "execute_result"
    }
   ],
   "source": [
    "mkt.scores(recipes[0])"
   ]
  },
  {
   "cell_type": "code",
   "execution_count": null,
   "metadata": {
    "collapsed": true
   },
   "outputs": [],
   "source": []
  },
  {
   "cell_type": "code",
   "execution_count": 171,
   "metadata": {
    "collapsed": false
   },
   "outputs": [
    {
     "data": {
      "text/plain": [
       "[-2.1161532747936844, -0.064471256770200824]"
      ]
     },
     "execution_count": 171,
     "metadata": {},
     "output_type": "execute_result"
    }
   ],
   "source": [
    "mkt.scores(recipes[0])"
   ]
  },
  {
   "cell_type": "code",
   "execution_count": 162,
   "metadata": {
    "collapsed": false
   },
   "outputs": [
    {
     "data": {
      "text/plain": [
       "(array([ 824.,  706.,  113.,   35.,   26.,   15.,   21.]),\n",
       " array([  1.00000000e+00,   1.10000000e+00,   2.00000000e+00,\n",
       "          4.00000000e+00,   8.00000000e+00,   1.60000000e+01,\n",
       "          3.20000000e+01,   1.00000000e+06]),\n",
       " <a list of 7 Patch objects>)"
      ]
     },
     "execution_count": 162,
     "metadata": {},
     "output_type": "execute_result"
    },
    {
     "data": {
      "image/png": "[encoded data removed]",
      "text/plain": [
       "<matplotlib.figure.Figure at 0x7f8406e717f0>"
      ]
     },
     "metadata": {},
     "output_type": "display_data"
    }
   ],
   "source": [
    "plt.hist(ratios_2, bins=[1, 1.1, 2, 4, 8, 16, 32, 1e6])"
   ]
  },
  {
   "cell_type": "code",
   "execution_count": 32,
   "metadata": {
    "collapsed": false
   },
   "outputs": [
    {
     "data": {
      "text/plain": [
       "[1.0024689311393686,\n",
       " 8.9146864206138421,\n",
       " 1.0,\n",
       " 1.0000846692278722,\n",
       " 1.0001933818594173,\n",
       " 1.0002009381050205,\n",
       " 1.0000000000000002,\n",
       " 1.0313085998654772,\n",
       " 1.0,\n",
       " 1.0006341615054348,\n",
       " 1.0,\n",
       " 1.1028908367810542,\n",
       " 5.0078461934478185,\n",
       " 1.7444822479516351,\n",
       " 1.0,\n",
       " 1.0,\n",
       " 1.0,\n",
       " 5.0754325146902151,\n",
       " 1.994798500130021,\n",
       " 1.0595350295112163,\n",
       " 1.0,\n",
       " 1.0,\n",
       " 1.588005198658804,\n",
       " 1.0721700813386232,\n",
       " 5.340145308246365,\n",
       " 1.3814286190647871,\n",
       " 1.0,\n",
       " 1.0,\n",
       " 5.1397633677381371,\n",
       " 1.0203790117387133,\n",
       " 1.3458787714260558,\n",
       " 1.0,\n",
       " 2.4627124077020364,\n",
       " 1.0,\n",
       " 1.0428136403617809,\n",
       " 1.0282173608522847,\n",
       " 1.0,\n",
       " 1.0,\n",
       " 1.0096145837828734,\n",
       " 1.0122981035738996,\n",
       " 1.0,\n",
       " 1.4817485396656629,\n",
       " 5.756067402893021,\n",
       " 1.0389774165774581,\n",
       " 1.700980590188764,\n",
       " 1.0000292275673994,\n",
       " 1.0,\n",
       " 1.0,\n",
       " 32.823204956845032,\n",
       " 228.89904267823513]"
      ]
     },
     "execution_count": 32,
     "metadata": {},
     "output_type": "execute_result"
    }
   ],
   "source": [
    "mg.ratios"
   ]
  },
  {
   "cell_type": "code",
   "execution_count": 42,
   "metadata": {
    "collapsed": true
   },
   "outputs": [],
   "source": [
    "mg.save(mg_path)"
   ]
  },
  {
   "cell_type": "code",
   "execution_count": 33,
   "metadata": {
    "collapsed": true
   },
   "outputs": [],
   "source": [
    "m_gly = res"
   ]
  },
  {
   "cell_type": "code",
   "execution_count": 43,
   "metadata": {
    "collapsed": false
   },
   "outputs": [
    {
     "data": {
      "text/plain": [
       "[0.000235253496422294,\n",
       " 0.120884112034407,\n",
       " 0.0025873822622544,\n",
       " 0.109726176278784,\n",
       " 0.0622621690420671,\n",
       " 0.0164657626128754,\n",
       " 0.000240378511370286,\n",
       " 0.00390097746261021,\n",
       " 0.00297124710519323,\n",
       " 0.245909023302167,\n",
       " 0.310293179807715,\n",
       " 0.124524338084134]"
      ]
     },
     "execution_count": 43,
     "metadata": {},
     "output_type": "execute_result"
    }
   ],
   "source": [
    "m_gly.exchange_values"
   ]
  },
  {
   "cell_type": "code",
   "execution_count": 44,
   "metadata": {
    "collapsed": false
   },
   "outputs": [
    {
     "data": {
      "text/plain": [
       "[1.9736567895799773,\n",
       " 1.9080250484758379,\n",
       " 7.1549426834270076,\n",
       " 1.0433618035686494,\n",
       " 4.5093929469488963,\n",
       " 0.37972556565244475,\n",
       " 0.34282567874124636,\n",
       " 0.25557693565544942,\n",
       " 2.4545580238122446,\n",
       " 1.907909564890391,\n",
       " 5.4086896549761763,\n",
       " 4.6516863117034823]"
      ]
     },
     "execution_count": 44,
     "metadata": {},
     "output_type": "execute_result"
    }
   ],
   "source": [
    "m_gly.scores(recipes[0])"
   ]
  },
  {
   "cell_type": "code",
   "execution_count": 53,
   "metadata": {
    "collapsed": false
   },
   "outputs": [
    {
     "name": "stdout",
     "output_type": "stream",
     "text": [
      "completed 68 iterations\n",
      "completed 68 iterations\n",
      "completed 68 iterations\n",
      "completed 66 iterations\n",
      "completed 66 iterations\n",
      "completed 66 iterations\n",
      "completed 63 iterations\n",
      "completed 63 iterations\n",
      "completed 68 iterations\n",
      "completed 68 iterations\n",
      "completed 66 iterations\n",
      "completed 67 iterations\n",
      "completed 66 iterations\n",
      "completed 59 iterations\n",
      "completed 58 iterations\n",
      "completed 59 iterations\n",
      "completed 63 iterations\n",
      "completed 62 iterations\n",
      "completed 62 iterations\n",
      "completed 61 iterations\n",
      "completed 59 iterations\n",
      "completed 68 iterations\n",
      "completed 67 iterations\n",
      "completed 67 iterations\n",
      "completed 68 iterations\n",
      "completed 67 iterations\n",
      "completed 67 iterations\n",
      "completed 70 iterations\n",
      "completed 69 iterations\n",
      "completed 69 iterations\n",
      "completed 68 iterations\n",
      "completed 68 iterations\n",
      "completed 63 iterations\n",
      "completed 63 iterations\n",
      "completed 63 iterations\n",
      "completed 55 iterations\n",
      "completed 63 iterations\n",
      "completed 66 iterations\n",
      "completed 65 iterations\n",
      "completed 67 iterations\n",
      "completed 67 iterations\n",
      "completed 67 iterations\n",
      "completed 66 iterations\n",
      "completed 66 iterations\n",
      "completed 61 iterations\n",
      "completed 68 iterations\n",
      "completed 61 iterations\n",
      "completed 60 iterations\n",
      "completed 72 iterations\n",
      "completed 71 iterations\n",
      "completed 71 iterations\n",
      "completed 62 iterations\n",
      "completed 62 iterations\n",
      "completed 62 iterations\n",
      "completed 68 iterations\n",
      "completed 67 iterations\n",
      "completed 67 iterations\n",
      "completed 67 iterations\n",
      "completed 67 iterations\n",
      "completed 67 iterations\n",
      "completed 65 iterations\n",
      "completed 65 iterations\n",
      "completed 65 iterations\n",
      "completed 65 iterations\n",
      "completed 67 iterations\n",
      "completed 66 iterations\n",
      "completed 69 iterations\n",
      "completed 68 iterations\n",
      "completed 68 iterations\n",
      "completed 67 iterations\n",
      "completed 67 iterations\n",
      "completed 67 iterations\n",
      "completed 65 iterations\n",
      "completed 67 iterations\n",
      "completed 66 iterations\n",
      "completed 66 iterations\n",
      "completed 66 iterations\n",
      "completed 65 iterations\n",
      "completed 65 iterations\n",
      "completed 69 iterations\n",
      "completed 69 iterations\n",
      "completed 69 iterations\n",
      "completed 59 iterations\n",
      "completed 56 iterations\n",
      "completed 65 iterations\n",
      "completed 67 iterations\n",
      "completed 67 iterations\n",
      "completed 67 iterations\n",
      "completed 62 iterations\n",
      "Updating local compartment file\n",
      "match: ['CPC: 89310: Iron and steel casting services']\n",
      "completed 63 iterations\n",
      "completed 62 iterations\n",
      "completed 67 iterations\n",
      "completed 67 iterations\n",
      "completed 67 iterations\n",
      "completed 67 iterations\n",
      "completed 66 iterations\n",
      "completed 66 iterations\n",
      "completed 66 iterations\n",
      "completed 63 iterations\n",
      "completed 61 iterations\n",
      "completed 62 iterations\n",
      "completed 67 iterations\n",
      "completed 66 iterations\n",
      "completed 66 iterations\n",
      "completed 64 iterations\n",
      "completed 63 iterations\n",
      "completed 62 iterations\n",
      "completed 63 iterations\n",
      "completed 61 iterations\n",
      "completed 68 iterations\n",
      "completed 67 iterations\n",
      "completed 65 iterations\n",
      "completed 65 iterations\n",
      "completed 65 iterations\n",
      "completed 64 iterations\n",
      "completed 64 iterations\n",
      "completed 64 iterations\n",
      "completed 61 iterations\n",
      "completed 57 iterations\n",
      "completed 58 iterations\n",
      "completed 60 iterations\n",
      "completed 61 iterations\n",
      "completed 63 iterations\n",
      "completed 63 iterations\n",
      "completed 64 iterations\n",
      "completed 69 iterations\n",
      "completed 68 iterations\n",
      "completed 68 iterations\n",
      "completed 68 iterations\n",
      "completed 67 iterations\n",
      "completed 67 iterations\n",
      "completed 65 iterations\n",
      "completed 64 iterations\n",
      "completed 64 iterations\n",
      "completed 67 iterations\n",
      "completed 68 iterations\n",
      "completed 67 iterations\n",
      "completed 67 iterations\n",
      "completed 67 iterations\n",
      "completed 67 iterations\n",
      "completed 64 iterations\n",
      "completed 63 iterations\n",
      "completed 67 iterations\n",
      "completed 67 iterations\n",
      "completed 67 iterations\n",
      "completed 70 iterations\n",
      "completed 69 iterations\n",
      "completed 69 iterations\n",
      "completed 66 iterations\n",
      "completed 65 iterations\n",
      "completed 65 iterations\n",
      "completed 69 iterations\n",
      "completed 68 iterations\n",
      "completed 68 iterations\n",
      "completed 65 iterations\n",
      "completed 65 iterations\n",
      "completed 65 iterations\n",
      "completed 66 iterations\n",
      "completed 66 iterations\n",
      "completed 66 iterations\n",
      "completed 59 iterations\n",
      "completed 58 iterations\n",
      "completed 59 iterations\n",
      "completed 61 iterations\n",
      "completed 60 iterations\n",
      "completed 71 iterations\n",
      "completed 70 iterations\n",
      "completed 70 iterations\n",
      "completed 65 iterations\n",
      "completed 66 iterations\n",
      "completed 65 iterations\n",
      "completed 65 iterations\n",
      "completed 68 iterations\n",
      "completed 68 iterations\n",
      "completed 68 iterations\n",
      "completed 68 iterations\n",
      "completed 68 iterations\n",
      "completed 68 iterations\n",
      "completed 68 iterations\n",
      "completed 68 iterations\n",
      "completed 68 iterations\n",
      "completed 66 iterations\n",
      "completed 66 iterations\n",
      "completed 67 iterations\n",
      "completed 66 iterations\n",
      "completed 65 iterations\n",
      "completed 65 iterations\n",
      "completed 65 iterations\n",
      "completed 63 iterations\n",
      "completed 60 iterations\n",
      "completed 66 iterations\n",
      "completed 65 iterations\n",
      "completed 67 iterations\n",
      "completed 67 iterations\n",
      "exact result\n",
      "completed 1 iterations\n",
      "exact result\n",
      "completed 0 iterations\n",
      "exact result\n",
      "completed 0 iterations\n",
      "completed 66 iterations\n",
      "completed 66 iterations\n",
      "completed 57 iterations\n",
      "completed 56 iterations\n",
      "completed 64 iterations\n",
      "completed 64 iterations\n",
      "completed 71 iterations\n",
      "completed 70 iterations\n",
      "completed 70 iterations\n",
      "completed 66 iterations\n",
      "completed 64 iterations\n",
      "completed 65 iterations\n",
      "completed 60 iterations\n",
      "completed 59 iterations\n",
      "completed 64 iterations\n",
      "completed 59 iterations\n",
      "completed 53 iterations\n",
      "exact result\n",
      "completed 0 iterations\n",
      "completed 67 iterations\n",
      "completed 67 iterations\n",
      "completed 67 iterations\n",
      "completed 63 iterations\n",
      "completed 62 iterations\n",
      "completed 69 iterations\n",
      "completed 68 iterations\n",
      "completed 68 iterations\n",
      "completed 64 iterations\n",
      "completed 63 iterations\n",
      "completed 66 iterations\n",
      "completed 63 iterations\n",
      "completed 65 iterations\n",
      "completed 66 iterations\n",
      "completed 65 iterations\n",
      "completed 65 iterations\n",
      "completed 67 iterations\n",
      "completed 66 iterations\n",
      "completed 59 iterations\n",
      "completed 57 iterations\n",
      "exact result\n",
      "completed 0 iterations\n",
      "completed 59 iterations\n",
      "completed 66 iterations\n",
      "completed 66 iterations\n",
      "completed 66 iterations\n",
      "exact result\n",
      "completed 0 iterations\n",
      "exact result\n",
      "completed 0 iterations\n",
      "exact result\n",
      "completed 0 iterations\n",
      "exact result\n",
      "completed 0 iterations\n",
      "completed 68 iterations\n",
      "completed 67 iterations\n",
      "completed 67 iterations\n",
      "completed 64 iterations\n",
      "completed 64 iterations\n",
      "completed 64 iterations\n",
      "completed 67 iterations\n",
      "completed 67 iterations\n",
      "completed 68 iterations\n",
      "completed 68 iterations\n",
      "completed 68 iterations\n",
      "completed 68 iterations\n",
      "completed 68 iterations\n",
      "completed 68 iterations\n",
      "completed 69 iterations\n",
      "completed 68 iterations\n",
      "completed 68 iterations\n",
      "completed 67 iterations\n",
      "completed 66 iterations\n",
      "completed 66 iterations\n",
      "completed 59 iterations\n",
      "exact result\n",
      "completed 0 iterations\n",
      "completed 69 iterations\n",
      "completed 68 iterations\n",
      "completed 63 iterations\n",
      "completed 62 iterations\n",
      "completed 67 iterations\n",
      "completed 66 iterations\n",
      "completed 66 iterations\n",
      "completed 66 iterations\n",
      "completed 65 iterations\n",
      "completed 64 iterations\n",
      "completed 66 iterations\n",
      "completed 66 iterations\n",
      "completed 67 iterations\n",
      "completed 67 iterations\n",
      "completed 67 iterations\n",
      "completed 68 iterations\n",
      "completed 68 iterations\n",
      "completed 67 iterations\n",
      "completed 71 iterations\n",
      "completed 70 iterations\n",
      "completed 63 iterations\n",
      "completed 63 iterations\n",
      "completed 63 iterations\n",
      "completed 65 iterations\n",
      "completed 65 iterations\n",
      "completed 65 iterations\n",
      "completed 65 iterations\n",
      "completed 65 iterations\n",
      "completed 67 iterations\n",
      "completed 67 iterations\n",
      "completed 67 iterations\n",
      "completed 61 iterations\n",
      "completed 60 iterations\n",
      "completed 60 iterations\n",
      "completed 60 iterations\n",
      "completed 60 iterations\n",
      "completed 60 iterations\n",
      "completed 60 iterations\n",
      "completed 60 iterations\n",
      "completed 60 iterations\n",
      "completed 60 iterations\n",
      "completed 60 iterations\n",
      "completed 60 iterations\n",
      "completed 60 iterations\n",
      "completed 60 iterations\n",
      "completed 60 iterations\n",
      "completed 60 iterations\n",
      "completed 60 iterations\n",
      "completed 60 iterations\n",
      "completed 60 iterations\n",
      "completed 60 iterations\n",
      "completed 60 iterations\n",
      "completed 60 iterations\n",
      "completed 60 iterations\n",
      "completed 60 iterations\n",
      "completed 60 iterations\n",
      "completed 60 iterations\n",
      "completed 60 iterations\n",
      "completed 51 iterations\n",
      "completed 67 iterations\n",
      "completed 67 iterations\n",
      "completed 67 iterations\n",
      "completed 67 iterations\n",
      "completed 67 iterations\n",
      "completed 67 iterations\n",
      "completed 64 iterations\n",
      "completed 65 iterations\n",
      "completed 65 iterations\n",
      "completed 64 iterations\n",
      "completed 64 iterations\n",
      "completed 65 iterations\n",
      "completed 64 iterations\n",
      "completed 64 iterations\n",
      "completed 64 iterations\n",
      "completed 63 iterations\n",
      "completed 63 iterations\n",
      "completed 63 iterations\n",
      "completed 65 iterations\n",
      "completed 64 iterations\n",
      "completed 64 iterations\n",
      "completed 65 iterations\n",
      "completed 65 iterations\n",
      "completed 60 iterations\n",
      "completed 60 iterations\n",
      "completed 59 iterations\n",
      "completed 63 iterations\n",
      "completed 63 iterations\n",
      "completed 63 iterations\n",
      "completed 68 iterations\n",
      "completed 68 iterations\n",
      "completed 68 iterations\n",
      "completed 64 iterations\n",
      "completed 64 iterations\n",
      "completed 64 iterations\n",
      "completed 63 iterations\n",
      "completed 61 iterations\n",
      "completed 62 iterations\n",
      "completed 65 iterations\n",
      "completed 64 iterations\n",
      "completed 64 iterations\n",
      "completed 69 iterations\n",
      "completed 68 iterations\n",
      "completed 70 iterations\n",
      "completed 69 iterations\n",
      "completed 69 iterations\n",
      "completed 69 iterations\n",
      "completed 68 iterations\n",
      "completed 64 iterations\n",
      "completed 64 iterations\n",
      "completed 62 iterations\n",
      "completed 69 iterations\n",
      "completed 69 iterations\n",
      "exact result\n",
      "completed 0 iterations\n",
      "completed 69 iterations\n",
      "exact result\n",
      "completed 0 iterations\n",
      "completed 71 iterations\n",
      "completed 70 iterations\n",
      "completed 70 iterations\n",
      "completed 72 iterations\n",
      "completed 71 iterations\n",
      "completed 71 iterations\n",
      "completed 67 iterations\n",
      "completed 66 iterations\n",
      "completed 65 iterations\n",
      "completed 65 iterations\n",
      "completed 65 iterations\n",
      "completed 69 iterations\n",
      "completed 68 iterations\n",
      "completed 68 iterations\n",
      "exact result\n",
      "completed 1 iterations\n",
      "exact result\n",
      "completed 0 iterations\n",
      "completed 60 iterations\n",
      "completed 59 iterations\n",
      "completed 59 iterations\n",
      "completed 66 iterations\n",
      "completed 67 iterations\n",
      "completed 67 iterations\n",
      "completed 58 iterations\n",
      "completed 57 iterations\n",
      "completed 61 iterations\n",
      "completed 69 iterations\n",
      "completed 68 iterations\n",
      "completed 68 iterations\n",
      "completed 67 iterations\n",
      "completed 67 iterations\n",
      "completed 60 iterations\n",
      "completed 58 iterations\n",
      "completed 59 iterations\n",
      "completed 67 iterations\n",
      "completed 66 iterations\n",
      "completed 66 iterations\n",
      "completed 66 iterations\n",
      "completed 67 iterations\n",
      "completed 66 iterations\n",
      "completed 63 iterations\n",
      "completed 66 iterations\n",
      "completed 67 iterations\n",
      "completed 67 iterations\n",
      "completed 67 iterations\n",
      "completed 55 iterations\n",
      "completed 63 iterations\n",
      "completed 67 iterations\n",
      "completed 66 iterations\n",
      "completed 65 iterations\n",
      "completed 65 iterations\n",
      "completed 65 iterations\n",
      "completed 64 iterations\n",
      "exact result\n",
      "completed 0 iterations\n",
      "completed 64 iterations\n",
      "completed 59 iterations\n",
      "completed 58 iterations\n",
      "completed 59 iterations\n",
      "completed 65 iterations\n",
      "completed 64 iterations\n",
      "completed 68 iterations\n",
      "completed 67 iterations\n",
      "completed 67 iterations\n",
      "completed 62 iterations\n",
      "completed 62 iterations\n",
      "completed 66 iterations\n",
      "completed 66 iterations\n",
      "completed 66 iterations\n",
      "completed 65 iterations\n",
      "completed 67 iterations\n",
      "completed 68 iterations\n",
      "completed 65 iterations\n",
      "completed 64 iterations\n",
      "completed 64 iterations\n",
      "completed 64 iterations\n",
      "completed 64 iterations\n",
      "completed 66 iterations\n",
      "completed 66 iterations\n",
      "completed 66 iterations\n",
      "completed 62 iterations\n",
      "completed 62 iterations\n",
      "completed 59 iterations\n",
      "completed 70 iterations\n",
      "completed 69 iterations\n",
      "completed 62 iterations\n",
      "completed 62 iterations\n",
      "completed 62 iterations\n",
      "completed 64 iterations\n",
      "completed 63 iterations\n",
      "completed 63 iterations\n",
      "completed 63 iterations\n",
      "completed 62 iterations\n",
      "completed 62 iterations\n",
      "completed 63 iterations\n",
      "completed 67 iterations\n",
      "completed 67 iterations\n",
      "completed 67 iterations\n",
      "completed 68 iterations\n",
      "completed 68 iterations\n",
      "completed 61 iterations\n",
      "completed 61 iterations\n",
      "completed 64 iterations\n",
      "completed 66 iterations\n",
      "Updating local compartment file\n",
      "match: ['CPC: 01345: Peaches and nectarines']\n",
      "completed 67 iterations\n",
      "completed 68 iterations\n",
      "completed 68 iterations\n",
      "completed 68 iterations\n",
      "completed 67 iterations\n",
      "completed 68 iterations\n",
      "completed 67 iterations\n",
      "completed 62 iterations\n",
      "completed 62 iterations\n",
      "completed 62 iterations\n",
      "completed 63 iterations\n",
      "completed 62 iterations\n",
      "completed 62 iterations\n",
      "completed 65 iterations\n",
      "completed 60 iterations\n",
      "completed 65 iterations\n",
      "completed 61 iterations\n",
      "completed 61 iterations\n",
      "completed 60 iterations\n",
      "completed 65 iterations\n",
      "completed 65 iterations\n",
      "completed 66 iterations\n",
      "completed 65 iterations\n",
      "completed 65 iterations\n",
      "completed 64 iterations\n",
      "completed 64 iterations\n",
      "completed 65 iterations\n",
      "completed 65 iterations\n",
      "completed 65 iterations\n",
      "completed 67 iterations\n",
      "completed 69 iterations\n",
      "completed 66 iterations\n",
      "completed 67 iterations\n",
      "completed 66 iterations\n",
      "completed 66 iterations\n",
      "completed 65 iterations\n",
      "Updating local compartment file\n",
      "match: ['CPC: 01322: Lemons and limes']\n",
      "completed 67 iterations\n",
      "completed 67 iterations\n",
      "completed 67 iterations\n",
      "completed 67 iterations\n",
      "completed 64 iterations\n",
      "completed 62 iterations\n",
      "completed 67 iterations\n",
      "completed 67 iterations\n",
      "completed 67 iterations\n",
      "completed 62 iterations\n",
      "completed 64 iterations\n",
      "completed 67 iterations\n",
      "completed 67 iterations\n",
      "completed 68 iterations\n",
      "completed 68 iterations\n",
      "completed 59 iterations\n",
      "completed 58 iterations\n",
      "completed 65 iterations\n",
      "completed 64 iterations\n",
      "completed 67 iterations\n",
      "completed 67 iterations\n",
      "completed 71 iterations\n",
      "completed 70 iterations\n",
      "completed 66 iterations\n",
      "completed 65 iterations\n",
      "completed 59 iterations\n",
      "completed 59 iterations\n",
      "exact result\n",
      "completed 0 iterations\n",
      "exact result\n",
      "completed 0 iterations\n",
      "completed 64 iterations\n",
      "completed 63 iterations\n",
      "completed 63 iterations\n",
      "completed 63 iterations\n",
      "completed 60 iterations\n",
      "exact result\n",
      "completed 0 iterations\n",
      "completed 67 iterations\n",
      "completed 67 iterations\n",
      "completed 67 iterations\n",
      "completed 67 iterations\n",
      "completed 67 iterations\n",
      "completed 67 iterations\n",
      "completed 68 iterations\n",
      "completed 67 iterations\n",
      "completed 67 iterations\n",
      "completed 63 iterations\n",
      "completed 62 iterations\n",
      "completed 61 iterations\n",
      "completed 64 iterations\n",
      "completed 63 iterations\n",
      "completed 64 iterations\n",
      "completed 63 iterations\n",
      "completed 63 iterations\n",
      "completed 63 iterations\n",
      "completed 62 iterations\n",
      "completed 65 iterations\n",
      "completed 65 iterations\n",
      "completed 62 iterations\n",
      "completed 66 iterations\n",
      "completed 66 iterations\n",
      "completed 65 iterations\n",
      "completed 64 iterations\n",
      "completed 64 iterations\n",
      "completed 63 iterations\n",
      "completed 63 iterations\n",
      "completed 63 iterations\n",
      "completed 67 iterations\n",
      "completed 67 iterations\n",
      "completed 61 iterations\n",
      "completed 62 iterations\n",
      "completed 62 iterations\n",
      "completed 62 iterations\n",
      "completed 65 iterations\n",
      "completed 65 iterations\n",
      "completed 67 iterations\n",
      "completed 67 iterations\n",
      "completed 67 iterations\n",
      "completed 65 iterations\n",
      "completed 66 iterations\n",
      "completed 66 iterations\n",
      "completed 67 iterations\n",
      "completed 66 iterations\n",
      "completed 67 iterations\n",
      "completed 71 iterations\n",
      "completed 70 iterations\n",
      "completed 70 iterations\n",
      "completed 66 iterations\n",
      "completed 65 iterations\n",
      "completed 65 iterations\n",
      "completed 65 iterations\n",
      "completed 65 iterations\n",
      "completed 66 iterations\n",
      "completed 66 iterations\n",
      "completed 66 iterations\n",
      "completed 66 iterations\n",
      "completed 68 iterations\n",
      "completed 68 iterations\n",
      "completed 68 iterations\n",
      "completed 56 iterations\n",
      "completed 54 iterations\n",
      "completed 55 iterations\n",
      "completed 55 iterations\n",
      "completed 69 iterations\n",
      "completed 68 iterations\n",
      "completed 68 iterations\n",
      "completed 68 iterations\n",
      "completed 64 iterations\n",
      "completed 65 iterations\n",
      "completed 65 iterations\n",
      "completed 68 iterations\n",
      "completed 67 iterations\n",
      "completed 68 iterations\n",
      "completed 68 iterations\n",
      "completed 68 iterations\n",
      "completed 67 iterations\n",
      "completed 66 iterations\n",
      "completed 68 iterations\n",
      "completed 66 iterations\n",
      "completed 69 iterations\n",
      "completed 68 iterations\n",
      "completed 65 iterations\n",
      "completed 65 iterations\n",
      "completed 67 iterations\n",
      "completed 68 iterations\n",
      "completed 67 iterations\n",
      "completed 68 iterations\n",
      "completed 66 iterations\n",
      "completed 66 iterations\n",
      "completed 64 iterations\n",
      "completed 65 iterations\n",
      "completed 67 iterations\n",
      "completed 68 iterations\n",
      "completed 68 iterations\n",
      "completed 69 iterations\n",
      "completed 66 iterations\n",
      "completed 68 iterations\n",
      "completed 66 iterations\n",
      "completed 68 iterations\n",
      "completed 66 iterations\n",
      "completed 64 iterations\n",
      "completed 67 iterations\n",
      "completed 71 iterations\n",
      "completed 66 iterations\n",
      "completed 67 iterations\n",
      "completed 66 iterations\n",
      "completed 66 iterations\n",
      "completed 66 iterations\n",
      "completed 69 iterations\n",
      "completed 68 iterations\n",
      "completed 68 iterations\n",
      "completed 70 iterations\n",
      "completed 69 iterations\n",
      "completed 61 iterations\n",
      "completed 61 iterations\n",
      "completed 61 iterations\n",
      "completed 62 iterations\n",
      "completed 62 iterations\n",
      "completed 62 iterations\n",
      "completed 64 iterations\n",
      "completed 64 iterations\n",
      "completed 64 iterations\n",
      "completed 65 iterations\n",
      "completed 65 iterations\n",
      "completed 65 iterations\n",
      "completed 65 iterations\n",
      "completed 65 iterations\n",
      "completed 65 iterations\n",
      "completed 63 iterations\n",
      "completed 62 iterations\n",
      "completed 63 iterations\n",
      "completed 62 iterations\n",
      "completed 61 iterations\n",
      "completed 61 iterations\n",
      "completed 61 iterations\n",
      "completed 61 iterations\n",
      "completed 67 iterations\n",
      "completed 64 iterations\n",
      "completed 65 iterations\n",
      "completed 65 iterations\n",
      "completed 66 iterations\n",
      "completed 68 iterations\n",
      "completed 61 iterations\n",
      "completed 61 iterations\n",
      "completed 67 iterations\n",
      "completed 64 iterations\n",
      "completed 65 iterations\n",
      "completed 66 iterations\n",
      "completed 68 iterations\n",
      "completed 64 iterations\n",
      "completed 63 iterations\n",
      "completed 63 iterations\n",
      "completed 64 iterations\n",
      "completed 64 iterations\n",
      "completed 63 iterations\n",
      "completed 63 iterations\n",
      "completed 62 iterations\n",
      "completed 64 iterations\n",
      "completed 63 iterations\n",
      "completed 63 iterations\n",
      "completed 63 iterations\n",
      "completed 64 iterations\n",
      "completed 64 iterations\n",
      "completed 64 iterations\n",
      "exact result\n",
      "completed 0 iterations\n",
      "exact result\n",
      "completed 0 iterations\n",
      "completed 69 iterations\n",
      "completed 68 iterations\n",
      "completed 68 iterations\n",
      "completed 67 iterations\n",
      "completed 66 iterations\n",
      "completed 65 iterations\n",
      "completed 64 iterations\n",
      "completed 66 iterations\n",
      "completed 68 iterations\n",
      "completed 67 iterations\n",
      "completed 65 iterations\n",
      "completed 68 iterations\n",
      "completed 67 iterations\n",
      "completed 65 iterations\n",
      "completed 65 iterations\n",
      "completed 65 iterations\n",
      "completed 65 iterations\n",
      "completed 64 iterations\n",
      "completed 62 iterations\n",
      "completed 63 iterations\n",
      "completed 63 iterations\n",
      "completed 62 iterations\n",
      "completed 68 iterations\n",
      "completed 67 iterations\n",
      "completed 67 iterations\n",
      "completed 63 iterations\n",
      "Updating local compartment file\n",
      "match: ['CPC: 375: Articles of concrete, cement and plaster']\n",
      "completed 63 iterations\n",
      "completed 62 iterations\n",
      "completed 66 iterations\n",
      "completed 65 iterations\n",
      "completed 59 iterations\n",
      "completed 58 iterations\n",
      "completed 58 iterations\n",
      "completed 66 iterations\n",
      "completed 65 iterations\n",
      "completed 63 iterations\n",
      "completed 62 iterations\n",
      "completed 69 iterations\n",
      "completed 68 iterations\n",
      "completed 62 iterations\n",
      "completed 61 iterations\n",
      "completed 67 iterations\n",
      "completed 67 iterations\n",
      "completed 67 iterations\n",
      "completed 62 iterations\n",
      "completed 62 iterations\n",
      "completed 61 iterations\n",
      "completed 61 iterations\n",
      "completed 59 iterations\n",
      "completed 59 iterations\n",
      "completed 63 iterations\n",
      "completed 63 iterations\n",
      "completed 63 iterations\n",
      "completed 64 iterations\n",
      "completed 64 iterations\n",
      "completed 64 iterations\n",
      "completed 64 iterations\n",
      "completed 64 iterations\n",
      "completed 64 iterations\n",
      "completed 68 iterations\n",
      "completed 67 iterations\n",
      "completed 67 iterations\n",
      "completed 63 iterations\n",
      "completed 63 iterations\n",
      "completed 63 iterations\n",
      "completed 63 iterations\n",
      "completed 60 iterations\n",
      "completed 62 iterations\n",
      "completed 63 iterations\n",
      "completed 62 iterations\n",
      "completed 62 iterations\n",
      "completed 62 iterations\n",
      "completed 65 iterations\n",
      "completed 64 iterations\n",
      "completed 64 iterations\n",
      "completed 68 iterations\n",
      "completed 67 iterations\n",
      "completed 67 iterations\n",
      "completed 65 iterations\n",
      "completed 64 iterations\n",
      "completed 65 iterations\n",
      "completed 64 iterations\n",
      "completed 64 iterations\n",
      "exact result\n",
      "completed 0 iterations\n",
      "exact result\n",
      "completed 0 iterations\n",
      "completed 66 iterations\n",
      "completed 65 iterations\n",
      "completed 65 iterations\n",
      "completed 66 iterations\n",
      "completed 66 iterations\n",
      "completed 61 iterations\n",
      "completed 63 iterations\n",
      "completed 58 iterations\n",
      "completed 60 iterations\n",
      "exact result\n",
      "completed 1 iterations\n",
      "exact result\n",
      "completed 0 iterations\n",
      "completed 67 iterations\n",
      "completed 67 iterations\n",
      "completed 67 iterations\n",
      "completed 64 iterations\n",
      "completed 64 iterations\n",
      "completed 64 iterations\n",
      "completed 64 iterations\n",
      "completed 64 iterations\n",
      "completed 64 iterations\n",
      "completed 64 iterations\n",
      "exact result\n",
      "completed 0 iterations\n",
      "completed 64 iterations\n",
      "completed 64 iterations\n",
      "exact result\n",
      "completed 0 iterations\n",
      "completed 64 iterations\n",
      "completed 69 iterations\n",
      "completed 67 iterations\n",
      "completed 69 iterations\n",
      "completed 69 iterations\n",
      "completed 69 iterations\n",
      "completed 69 iterations\n",
      "completed 66 iterations\n",
      "completed 66 iterations\n",
      "completed 66 iterations\n",
      "completed 68 iterations\n",
      "completed 67 iterations\n",
      "completed 68 iterations\n",
      "completed 68 iterations\n",
      "completed 67 iterations\n",
      "completed 67 iterations\n",
      "completed 66 iterations\n",
      "completed 66 iterations\n",
      "completed 71 iterations\n",
      "completed 70 iterations\n",
      "completed 70 iterations\n",
      "completed 65 iterations\n",
      "exact result\n",
      "completed 0 iterations\n",
      "exact result\n",
      "completed 0 iterations\n",
      "exact result\n",
      "completed 0 iterations\n",
      "exact result\n",
      "completed 0 iterations\n",
      "completed 67 iterations\n",
      "completed 67 iterations\n",
      "completed 67 iterations\n",
      "completed 61 iterations\n",
      "completed 61 iterations\n",
      "completed 66 iterations\n",
      "completed 65 iterations\n",
      "completed 66 iterations\n",
      "completed 68 iterations\n",
      "completed 67 iterations\n",
      "completed 67 iterations\n",
      "completed 67 iterations\n",
      "completed 66 iterations\n",
      "completed 65 iterations\n",
      "completed 69 iterations\n",
      "completed 68 iterations\n",
      "completed 68 iterations\n",
      "completed 66 iterations\n",
      "completed 64 iterations\n",
      "completed 66 iterations\n",
      "completed 66 iterations\n",
      "completed 66 iterations\n",
      "completed 65 iterations\n",
      "completed 63 iterations\n",
      "completed 65 iterations\n",
      "completed 65 iterations\n",
      "completed 69 iterations\n",
      "completed 68 iterations\n",
      "completed 68 iterations\n",
      "completed 65 iterations\n",
      "completed 66 iterations\n",
      "completed 58 iterations\n",
      "completed 55 iterations\n",
      "completed 62 iterations\n",
      "completed 61 iterations\n",
      "completed 61 iterations\n",
      "completed 67 iterations\n",
      "completed 66 iterations\n",
      "completed 66 iterations\n",
      "completed 59 iterations\n",
      "completed 63 iterations\n",
      "completed 56 iterations\n",
      "completed 63 iterations\n",
      "completed 63 iterations\n",
      "completed 62 iterations\n",
      "completed 68 iterations\n",
      "completed 68 iterations\n",
      "completed 67 iterations\n",
      "completed 66 iterations\n",
      "completed 60 iterations\n",
      "completed 60 iterations\n",
      "completed 62 iterations\n",
      "completed 60 iterations\n",
      "completed 62 iterations\n",
      "completed 67 iterations\n",
      "completed 68 iterations\n",
      "completed 69 iterations\n",
      "completed 68 iterations\n",
      "completed 68 iterations\n",
      "completed 63 iterations\n",
      "completed 63 iterations\n",
      "completed 63 iterations\n",
      "completed 65 iterations\n",
      "completed 63 iterations\n",
      "completed 65 iterations\n",
      "completed 65 iterations\n",
      "completed 64 iterations\n",
      "completed 63 iterations\n",
      "completed 63 iterations\n",
      "completed 68 iterations\n",
      "completed 67 iterations\n",
      "completed 67 iterations\n",
      "completed 66 iterations\n",
      "completed 66 iterations\n",
      "completed 63 iterations\n",
      "completed 62 iterations\n",
      "completed 64 iterations\n",
      "completed 64 iterations\n",
      "completed 64 iterations\n",
      "exact result\n",
      "completed 0 iterations\n",
      "exact result\n",
      "completed 0 iterations\n",
      "completed 66 iterations\n",
      "Updating local compartment file\n",
      "match: ['CPC: 01317: Papayas']\n",
      "completed 68 iterations\n",
      "completed 65 iterations\n",
      "completed 64 iterations\n",
      "completed 64 iterations\n",
      "completed 66 iterations\n",
      "completed 66 iterations\n",
      "completed 61 iterations\n",
      "completed 64 iterations\n",
      "completed 64 iterations\n",
      "completed 67 iterations\n",
      "Updating local compartment file\n",
      "match: ['CPC: 01431: Cottonseed, seed for planting']\n",
      "completed 67 iterations\n",
      "completed 68 iterations\n",
      "completed 66 iterations\n",
      "completed 64 iterations\n",
      "completed 67 iterations\n",
      "completed 64 iterations\n",
      "completed 61 iterations\n",
      "completed 64 iterations\n",
      "completed 64 iterations\n",
      "completed 64 iterations\n",
      "completed 64 iterations\n",
      "completed 59 iterations\n",
      "exact result\n",
      "completed 0 iterations\n",
      "completed 68 iterations\n",
      "completed 67 iterations\n",
      "completed 1 iterations\n",
      "completed 67 iterations\n",
      "completed 67 iterations\n",
      "completed 65 iterations\n",
      "completed 64 iterations\n",
      "completed 64 iterations\n",
      "completed 65 iterations\n",
      "completed 64 iterations\n",
      "completed 64 iterations\n",
      "completed 68 iterations\n",
      "completed 68 iterations\n",
      "completed 66 iterations\n",
      "completed 66 iterations\n",
      "completed 66 iterations\n",
      "completed 66 iterations\n",
      "completed 65 iterations\n",
      "completed 65 iterations\n",
      "completed 69 iterations\n",
      "completed 68 iterations\n",
      "completed 68 iterations\n",
      "completed 66 iterations\n",
      "completed 68 iterations\n",
      "completed 68 iterations\n",
      "completed 68 iterations\n",
      "completed 68 iterations\n",
      "completed 68 iterations\n",
      "completed 67 iterations\n",
      "completed 67 iterations\n",
      "completed 67 iterations\n",
      "completed 63 iterations\n",
      "completed 62 iterations\n",
      "completed 67 iterations\n",
      "completed 67 iterations\n",
      "completed 67 iterations\n",
      "completed 74 iterations\n",
      "completed 73 iterations\n",
      "completed 73 iterations\n",
      "completed 67 iterations\n",
      "completed 66 iterations\n",
      "completed 67 iterations\n",
      "completed 65 iterations\n",
      "completed 64 iterations\n",
      "completed 66 iterations\n",
      "completed 65 iterations\n",
      "completed 68 iterations\n",
      "Updating local compartment file\n",
      "match: ['CPC: 36920: Self-adhesive plates, sheets, film, foil, tape, strip and other flat shapes, of plastics']\n",
      "completed 68 iterations\n",
      "completed 68 iterations\n",
      "completed 66 iterations\n",
      "completed 66 iterations\n",
      "completed 66 iterations\n",
      "completed 63 iterations\n",
      "completed 67 iterations\n",
      "completed 67 iterations\n",
      "completed 67 iterations\n",
      "completed 62 iterations\n",
      "completed 62 iterations\n",
      "completed 65 iterations\n",
      "completed 65 iterations\n",
      "completed 69 iterations\n",
      "completed 68 iterations\n",
      "completed 61 iterations\n",
      "completed 60 iterations\n",
      "completed 68 iterations\n",
      "completed 60 iterations\n",
      "completed 65 iterations\n",
      "completed 64 iterations\n",
      "completed 63 iterations\n",
      "completed 63 iterations\n",
      "completed 63 iterations\n",
      "completed 65 iterations\n",
      "completed 65 iterations\n",
      "completed 65 iterations\n",
      "completed 65 iterations\n",
      "completed 65 iterations\n",
      "completed 67 iterations\n",
      "completed 66 iterations\n",
      "completed 66 iterations\n",
      "completed 67 iterations\n",
      "completed 67 iterations\n",
      "completed 67 iterations\n",
      "completed 69 iterations\n",
      "completed 68 iterations\n",
      "completed 68 iterations\n",
      "completed 67 iterations\n",
      "completed 65 iterations\n",
      "completed 66 iterations\n",
      "completed 63 iterations\n",
      "completed 62 iterations\n",
      "completed 64 iterations\n",
      "completed 63 iterations\n",
      "completed 62 iterations\n",
      "exact result\n",
      "completed 0 iterations\n",
      "exact result\n",
      "completed 0 iterations\n",
      "exact result\n",
      "completed 0 iterations\n",
      "completed 66 iterations\n",
      "completed 66 iterations\n",
      "completed 66 iterations\n",
      "completed 69 iterations\n",
      "completed 69 iterations\n",
      "completed 69 iterations\n",
      "completed 66 iterations\n",
      "completed 63 iterations\n",
      "completed 65 iterations\n",
      "completed 67 iterations\n",
      "completed 67 iterations\n",
      "completed 65 iterations\n",
      "completed 64 iterations\n",
      "completed 64 iterations\n",
      "completed 69 iterations\n",
      "completed 68 iterations\n",
      "completed 68 iterations\n",
      "completed 68 iterations\n",
      "completed 67 iterations\n",
      "completed 68 iterations\n",
      "completed 64 iterations\n",
      "completed 63 iterations\n",
      "completed 63 iterations\n",
      "completed 69 iterations\n",
      "completed 68 iterations\n",
      "completed 64 iterations\n",
      "completed 64 iterations\n",
      "completed 64 iterations\n",
      "completed 57 iterations\n",
      "completed 57 iterations\n",
      "completed 63 iterations\n",
      "completed 63 iterations\n",
      "completed 63 iterations\n"
     ]
    },
    {
     "ename": "StopIteration",
     "evalue": "",
     "output_type": "error",
     "traceback": [
      "\u001b[0;31m---------------------------------------------------------------------------\u001b[0m",
      "\u001b[0;31mStopIteration\u001b[0m                             Traceback (most recent call last)",
      "\u001b[0;32m<ipython-input-53-9704ff562a9f>\u001b[0m in \u001b[0;36m<module>\u001b[0;34m()\u001b[0m\n\u001b[1;32m      1\u001b[0m \u001b[0;32mwhile\u001b[0m \u001b[0mlen\u001b[0m\u001b[0;34m(\u001b[0m\u001b[0mmg\u001b[0m\u001b[0;34m)\u001b[0m \u001b[0;34m<\u001b[0m \u001b[0;36m4000\u001b[0m\u001b[0;34m:\u001b[0m\u001b[0;34m\u001b[0m\u001b[0m\n\u001b[0;32m----> 2\u001b[0;31m     \u001b[0mnext\u001b[0m\u001b[0;34m(\u001b[0m\u001b[0mmg\u001b[0m\u001b[0;34m)\u001b[0m\u001b[0;34m\u001b[0m\u001b[0m\n\u001b[0m",
      "\u001b[0;32m/data/GitHub/2018/bw2-uncertainty/lca_variability/lca_variability.py\u001b[0m in \u001b[0;36m__next__\u001b[0;34m(self)\u001b[0m\n\u001b[1;32m    169\u001b[0m \u001b[0;34m\u001b[0m\u001b[0m\n\u001b[1;32m    170\u001b[0m     \u001b[0;32mdef\u001b[0m \u001b[0m__next__\u001b[0m\u001b[0;34m(\u001b[0m\u001b[0mself\u001b[0m\u001b[0;34m)\u001b[0m\u001b[0;34m:\u001b[0m\u001b[0;34m\u001b[0m\u001b[0m\n\u001b[0;32m--> 171\u001b[0;31m         \u001b[0mres\u001b[0m \u001b[0;34m=\u001b[0m \u001b[0mself\u001b[0m\u001b[0;34m.\u001b[0m\u001b[0m_res_gen\u001b[0m\u001b[0;34m(\u001b[0m\u001b[0;34m)\u001b[0m\u001b[0;34m\u001b[0m\u001b[0m\n\u001b[0m\u001b[1;32m    172\u001b[0m         \u001b[0mself\u001b[0m\u001b[0;34m.\u001b[0m\u001b[0m_res_populate\u001b[0m\u001b[0;34m(\u001b[0m\u001b[0mres\u001b[0m\u001b[0;34m)\u001b[0m\u001b[0;34m\u001b[0m\u001b[0m\n\u001b[1;32m    173\u001b[0m         \u001b[0;32mreturn\u001b[0m \u001b[0mres\u001b[0m\u001b[0;34m\u001b[0m\u001b[0m\n",
      "\u001b[0;32m/data/GitHub/2018/bw2-uncertainty/lca_variability/lca_variability.py\u001b[0m in \u001b[0;36m_res_gen\u001b[0;34m(self)\u001b[0m\n\u001b[1;32m    157\u001b[0m \u001b[0;34m\u001b[0m\u001b[0m\n\u001b[1;32m    158\u001b[0m     \u001b[0;32mdef\u001b[0m \u001b[0m_res_gen\u001b[0m\u001b[0;34m(\u001b[0m\u001b[0mself\u001b[0m\u001b[0;34m)\u001b[0m\u001b[0;34m:\u001b[0m\u001b[0;34m\u001b[0m\u001b[0m\n\u001b[0;32m--> 159\u001b[0;31m         \u001b[0mmkt\u001b[0m \u001b[0;34m=\u001b[0m \u001b[0mnext\u001b[0m\u001b[0;34m(\u001b[0m\u001b[0mself\u001b[0m\u001b[0;34m.\u001b[0m\u001b[0m_mkt_iterator\u001b[0m\u001b[0;34m)\u001b[0m\u001b[0;34m\u001b[0m\u001b[0m\n\u001b[0m\u001b[1;32m    160\u001b[0m         \u001b[0mres\u001b[0m \u001b[0;34m=\u001b[0m \u001b[0mMarketImpactRangeResult\u001b[0m\u001b[0;34m(\u001b[0m\u001b[0mmkt\u001b[0m\u001b[0;34m,\u001b[0m \u001b[0mlen\u001b[0m\u001b[0;34m(\u001b[0m\u001b[0mself\u001b[0m\u001b[0;34m.\u001b[0m\u001b[0m_results\u001b[0m\u001b[0;34m)\u001b[0m\u001b[0;34m,\u001b[0m \u001b[0;34m*\u001b[0m\u001b[0mself\u001b[0m\u001b[0;34m.\u001b[0m\u001b[0m_quantities\u001b[0m\u001b[0;34m)\u001b[0m\u001b[0;34m\u001b[0m\u001b[0m\n\u001b[1;32m    161\u001b[0m         \u001b[0mself\u001b[0m\u001b[0;34m.\u001b[0m\u001b[0m_res_add\u001b[0m\u001b[0;34m(\u001b[0m\u001b[0mres\u001b[0m\u001b[0;34m)\u001b[0m\u001b[0;34m\u001b[0m\u001b[0m\n",
      "\u001b[0;31mStopIteration\u001b[0m: "
     ]
    }
   ],
   "source": [
    "while len(mg) < 4000:\n",
    "    next(mg)"
   ]
  },
  {
   "cell_type": "code",
   "execution_count": 54,
   "metadata": {
    "collapsed": true
   },
   "outputs": [],
   "source": [
    "mg.save(mg_path)"
   ]
  },
  {
   "cell_type": "code",
   "execution_count": 56,
   "metadata": {
    "collapsed": false
   },
   "outputs": [],
   "source": [
    "from matplotlib import pyplot as plt\n",
    "%matplotlib inline"
   ]
  },
  {
   "cell_type": "code",
   "execution_count": 60,
   "metadata": {
    "collapsed": false
   },
   "outputs": [],
   "source": [
    "z = [res for res in mg._results if not res.scored]"
   ]
  },
  {
   "cell_type": "code",
   "execution_count": 67,
   "metadata": {
    "collapsed": true
   },
   "outputs": [],
   "source": [
    "z[0].add_scores(mg._query)"
   ]
  },
  {
   "cell_type": "code",
   "execution_count": 72,
   "metadata": {
    "collapsed": false
   },
   "outputs": [
    {
     "data": {
      "text/plain": [
       "[True, True, True, True]"
      ]
     },
     "execution_count": 72,
     "metadata": {},
     "output_type": "execute_result"
    }
   ],
   "source": [
    "[(qty.external_ref, z[0]._suppliers[1].termination) in z[0]._scores for qty in z[0].quantities]"
   ]
  },
  {
   "cell_type": "code",
   "execution_count": 69,
   "metadata": {
    "collapsed": false
   },
   "outputs": [
    {
     "data": {
      "text/plain": [
       "{('ReCiPe Midpoint (H), climate change, GWP100',\n",
       "  '02254055-bc29-4d66-ad6c-749e52da95bc'): 0.29650247604974439,\n",
       " ('ReCiPe Midpoint (H), climate change, GWP100',\n",
       "  '1034822d-dca5-4742-82dd-a00864336d7b'): 0.26472234167501263,\n",
       " ('ReCiPe Midpoint (H), marine eutrophication, MEP',\n",
       "  '02254055-bc29-4d66-ad6c-749e52da95bc'): 0.00024749437122928571,\n",
       " ('ReCiPe Midpoint (H), marine eutrophication, MEP',\n",
       "  '1034822d-dca5-4742-82dd-a00864336d7b'): 0.00018000919964858612,\n",
       " ('ReCiPe Midpoint (H), photochemical oxidant formation, POFP',\n",
       "  '02254055-bc29-4d66-ad6c-749e52da95bc'): 0.00051592863691869186,\n",
       " ('ReCiPe Midpoint (H), photochemical oxidant formation, POFP',\n",
       "  '1034822d-dca5-4742-82dd-a00864336d7b'): 0.00032489102513923407,\n",
       " ('ReCiPe Midpoint (H), terrestrial acidification, TAP100',\n",
       "  '02254055-bc29-4d66-ad6c-749e52da95bc'): 0.00057757389612874527,\n",
       " ('ReCiPe Midpoint (H), terrestrial acidification, TAP100',\n",
       "  '1034822d-dca5-4742-82dd-a00864336d7b'): 0.00038825486469872743}"
      ]
     },
     "execution_count": 69,
     "metadata": {},
     "output_type": "execute_result"
    }
   ],
   "source": [
    "z[0]._scores"
   ]
  },
  {
   "cell_type": "code",
   "execution_count": 66,
   "metadata": {
    "collapsed": false
   },
   "outputs": [
    {
     "data": {
      "text/plain": [
       "[22,\n",
       " 59,\n",
       " 61,\n",
       " 65,\n",
       " 187,\n",
       " 214,\n",
       " 243,\n",
       " 292,\n",
       " 330,\n",
       " 335,\n",
       " 359,\n",
       " 535,\n",
       " 569,\n",
       " 647,\n",
       " 657,\n",
       " 669,\n",
       " 671,\n",
       " 685,\n",
       " 691,\n",
       " 717,\n",
       " 737,\n",
       " 772,\n",
       " 872,\n",
       " 879,\n",
       " 889,\n",
       " 914,\n",
       " 966,\n",
       " 971,\n",
       " 1027,\n",
       " 1077,\n",
       " 1176,\n",
       " 1184,\n",
       " 1213,\n",
       " 1427,\n",
       " 1449,\n",
       " 1457,\n",
       " 1478,\n",
       " 1518,\n",
       " 1530,\n",
       " 1557,\n",
       " 1611,\n",
       " 1621,\n",
       " 1630,\n",
       " 1665,\n",
       " 1680,\n",
       " 1681,\n",
       " 1689,\n",
       " 1696,\n",
       " 1761,\n",
       " 1807,\n",
       " 1831,\n",
       " 1841,\n",
       " 1919,\n",
       " 1942,\n",
       " 1944,\n",
       " 1954,\n",
       " 1967,\n",
       " 1968,\n",
       " 2011,\n",
       " 2040,\n",
       " 2053,\n",
       " 2093,\n",
       " 2126,\n",
       " 2186,\n",
       " 2237,\n",
       " 2242,\n",
       " 2250,\n",
       " 2254,\n",
       " 2314,\n",
       " 2422,\n",
       " 2498,\n",
       " 2502,\n",
       " 2550,\n",
       " 2570,\n",
       " 2608,\n",
       " 2690,\n",
       " 2705,\n",
       " 2737,\n",
       " 2803,\n",
       " 2809,\n",
       " 2840,\n",
       " 2879,\n",
       " 2901,\n",
       " 2918,\n",
       " 2930,\n",
       " 3028,\n",
       " 3106,\n",
       " 3154,\n",
       " 3158,\n",
       " 3169,\n",
       " 3172,\n",
       " 3280,\n",
       " 3289,\n",
       " 3304]"
      ]
     },
     "execution_count": 66,
     "metadata": {},
     "output_type": "execute_result"
    }
   ],
   "source": [
    "[f.index for f in z]\n"
   ]
  },
  {
   "cell_type": "code",
   "execution_count": 64,
   "metadata": {
    "collapsed": false
   },
   "outputs": [
    {
     "data": {
      "text/plain": [
       "['02254055-bc29-4d66-ad6c-749e52da95bc',\n",
       " '1034822d-dca5-4742-82dd-a00864336d7b']"
      ]
     },
     "execution_count": 64,
     "metadata": {},
     "output_type": "execute_result"
    }
   ],
   "source": [
    "[k for k in z[0].suppliers]"
   ]
  },
  {
   "cell_type": "code",
   "execution_count": 62,
   "metadata": {
    "collapsed": false
   },
   "outputs": [
    {
     "data": {
      "text/plain": [
       "{('ReCiPe Midpoint (H), climate change, GWP100',\n",
       "  '02254055-bc29-4d66-ad6c-749e52da95bc'): 0.29650247604974439,\n",
       " ('ReCiPe Midpoint (H), climate change, GWP100',\n",
       "  '1034822d-dca5-4742-82dd-a00864336d7b'): 0.26472234167501263,\n",
       " ('ReCiPe Midpoint (H), marine eutrophication, MEP',\n",
       "  '02254055-bc29-4d66-ad6c-749e52da95bc'): 0.00024749437122928571,\n",
       " ('ReCiPe Midpoint (H), marine eutrophication, MEP',\n",
       "  '1034822d-dca5-4742-82dd-a00864336d7b'): 0.00018000919964858612,\n",
       " ('ReCiPe Midpoint (H), photochemical oxidant formation, POFP',\n",
       "  '02254055-bc29-4d66-ad6c-749e52da95bc'): 0.00051592863691869186,\n",
       " ('ReCiPe Midpoint (H), photochemical oxidant formation, POFP',\n",
       "  '1034822d-dca5-4742-82dd-a00864336d7b'): 0.00032489102513923407,\n",
       " ('ReCiPe Midpoint (H), terrestrial acidification, TAP100',\n",
       "  '02254055-bc29-4d66-ad6c-749e52da95bc'): 0.00057757389612874527,\n",
       " ('ReCiPe Midpoint (H), terrestrial acidification, TAP100',\n",
       "  '1034822d-dca5-4742-82dd-a00864336d7b'): 0.00038825486469872743}"
      ]
     },
     "execution_count": 62,
     "metadata": {},
     "output_type": "execute_result"
    }
   ],
   "source": [
    "z[0]._scores"
   ]
  },
  {
   "cell_type": "code",
   "execution_count": 73,
   "metadata": {
    "collapsed": true
   },
   "outputs": [],
   "source": [
    "zz = z[0]"
   ]
  },
  {
   "cell_type": "code",
   "execution_count": 78,
   "metadata": {
    "collapsed": false
   },
   "outputs": [
    {
     "ename": "KeyError",
     "evalue": "('ReCiPe Midpoint (H), climate change, GWP100', '2dd650f3-4225-4356-b201-03602b5ec928')",
     "output_type": "error",
     "traceback": [
      "\u001b[0;31m---------------------------------------------------------------------------\u001b[0m",
      "\u001b[0;31mKeyError\u001b[0m                                  Traceback (most recent call last)",
      "\u001b[0;32m<ipython-input-78-52e3a755cd80>\u001b[0m in \u001b[0;36m<module>\u001b[0;34m()\u001b[0m\n\u001b[1;32m      2\u001b[0m \u001b[0;32mwhile\u001b[0m \u001b[0;36m1\u001b[0m\u001b[0;34m:\u001b[0m\u001b[0;34m\u001b[0m\u001b[0m\n\u001b[1;32m      3\u001b[0m     \u001b[0mzz\u001b[0m \u001b[0;34m=\u001b[0m \u001b[0mnext\u001b[0m\u001b[0;34m(\u001b[0m\u001b[0m_zg\u001b[0m\u001b[0;34m)\u001b[0m\u001b[0;34m\u001b[0m\u001b[0m\n\u001b[0;32m----> 4\u001b[0;31m     \u001b[0mzz\u001b[0m\u001b[0;34m.\u001b[0m\u001b[0mratio\u001b[0m\u001b[0;34m(\u001b[0m\u001b[0mrecipes\u001b[0m\u001b[0;34m[\u001b[0m\u001b[0;36m0\u001b[0m\u001b[0;34m]\u001b[0m\u001b[0;34m)\u001b[0m\u001b[0;34m\u001b[0m\u001b[0m\n\u001b[0m",
      "\u001b[0;32m/data/GitHub/2018/bw2-uncertainty/lca_variability/lca_variability.py\u001b[0m in \u001b[0;36mratio\u001b[0;34m(self, quantity)\u001b[0m\n\u001b[1;32m     85\u001b[0m \u001b[0;34m\u001b[0m\u001b[0m\n\u001b[1;32m     86\u001b[0m     \u001b[0;32mdef\u001b[0m \u001b[0mratio\u001b[0m\u001b[0;34m(\u001b[0m\u001b[0mself\u001b[0m\u001b[0;34m,\u001b[0m \u001b[0mquantity\u001b[0m\u001b[0;34m)\u001b[0m\u001b[0;34m:\u001b[0m\u001b[0;34m\u001b[0m\u001b[0m\n\u001b[0;32m---> 87\u001b[0;31m         \u001b[0mscores\u001b[0m \u001b[0;34m=\u001b[0m \u001b[0;34m[\u001b[0m\u001b[0ms\u001b[0m \u001b[0;32mfor\u001b[0m \u001b[0ms\u001b[0m \u001b[0;32min\u001b[0m \u001b[0mfilter\u001b[0m\u001b[0;34m(\u001b[0m\u001b[0;32mlambda\u001b[0m \u001b[0mx\u001b[0m\u001b[0;34m:\u001b[0m \u001b[0mx\u001b[0m \u001b[0;34m!=\u001b[0m \u001b[0;36m0\u001b[0m\u001b[0;34m,\u001b[0m \u001b[0mself\u001b[0m\u001b[0;34m.\u001b[0m\u001b[0m_res_by_quantity\u001b[0m\u001b[0;34m(\u001b[0m\u001b[0mquantity\u001b[0m\u001b[0;34m)\u001b[0m\u001b[0;34m)\u001b[0m\u001b[0;34m]\u001b[0m\u001b[0;34m\u001b[0m\u001b[0m\n\u001b[0m\u001b[1;32m     88\u001b[0m         \u001b[0;32mif\u001b[0m \u001b[0mlen\u001b[0m\u001b[0;34m(\u001b[0m\u001b[0mscores\u001b[0m\u001b[0;34m)\u001b[0m \u001b[0;34m==\u001b[0m \u001b[0;36m0\u001b[0m\u001b[0;34m:\u001b[0m\u001b[0;34m\u001b[0m\u001b[0m\n\u001b[1;32m     89\u001b[0m             \u001b[0;32mreturn\u001b[0m \u001b[0;36m0.0\u001b[0m\u001b[0;34m\u001b[0m\u001b[0m\n",
      "\u001b[0;32m/data/GitHub/2018/bw2-uncertainty/lca_variability/lca_variability.py\u001b[0m in \u001b[0;36m<listcomp>\u001b[0;34m(.0)\u001b[0m\n\u001b[1;32m     85\u001b[0m \u001b[0;34m\u001b[0m\u001b[0m\n\u001b[1;32m     86\u001b[0m     \u001b[0;32mdef\u001b[0m \u001b[0mratio\u001b[0m\u001b[0;34m(\u001b[0m\u001b[0mself\u001b[0m\u001b[0;34m,\u001b[0m \u001b[0mquantity\u001b[0m\u001b[0;34m)\u001b[0m\u001b[0;34m:\u001b[0m\u001b[0;34m\u001b[0m\u001b[0m\n\u001b[0;32m---> 87\u001b[0;31m         \u001b[0mscores\u001b[0m \u001b[0;34m=\u001b[0m \u001b[0;34m[\u001b[0m\u001b[0ms\u001b[0m \u001b[0;32mfor\u001b[0m \u001b[0ms\u001b[0m \u001b[0;32min\u001b[0m \u001b[0mfilter\u001b[0m\u001b[0;34m(\u001b[0m\u001b[0;32mlambda\u001b[0m \u001b[0mx\u001b[0m\u001b[0;34m:\u001b[0m \u001b[0mx\u001b[0m \u001b[0;34m!=\u001b[0m \u001b[0;36m0\u001b[0m\u001b[0;34m,\u001b[0m \u001b[0mself\u001b[0m\u001b[0;34m.\u001b[0m\u001b[0m_res_by_quantity\u001b[0m\u001b[0;34m(\u001b[0m\u001b[0mquantity\u001b[0m\u001b[0;34m)\u001b[0m\u001b[0;34m)\u001b[0m\u001b[0;34m]\u001b[0m\u001b[0;34m\u001b[0m\u001b[0m\n\u001b[0m\u001b[1;32m     88\u001b[0m         \u001b[0;32mif\u001b[0m \u001b[0mlen\u001b[0m\u001b[0;34m(\u001b[0m\u001b[0mscores\u001b[0m\u001b[0;34m)\u001b[0m \u001b[0;34m==\u001b[0m \u001b[0;36m0\u001b[0m\u001b[0;34m:\u001b[0m\u001b[0;34m\u001b[0m\u001b[0m\n\u001b[1;32m     89\u001b[0m             \u001b[0;32mreturn\u001b[0m \u001b[0;36m0.0\u001b[0m\u001b[0;34m\u001b[0m\u001b[0m\n",
      "\u001b[0;32m/data/GitHub/2018/bw2-uncertainty/lca_variability/lca_variability.py\u001b[0m in \u001b[0;36m_res_by_quantity\u001b[0;34m(self, quantity)\u001b[0m\n\u001b[1;32m     56\u001b[0m     \u001b[0;32mdef\u001b[0m \u001b[0m_res_by_quantity\u001b[0m\u001b[0;34m(\u001b[0m\u001b[0mself\u001b[0m\u001b[0;34m,\u001b[0m \u001b[0mquantity\u001b[0m\u001b[0;34m)\u001b[0m\u001b[0;34m:\u001b[0m\u001b[0;34m\u001b[0m\u001b[0m\n\u001b[1;32m     57\u001b[0m         \u001b[0;32mfor\u001b[0m \u001b[0mx\u001b[0m \u001b[0;32min\u001b[0m \u001b[0mself\u001b[0m\u001b[0;34m.\u001b[0m\u001b[0m_suppliers\u001b[0m\u001b[0;34m:\u001b[0m\u001b[0;34m\u001b[0m\u001b[0m\n\u001b[0;32m---> 58\u001b[0;31m             \u001b[0;32myield\u001b[0m \u001b[0mself\u001b[0m\u001b[0;34m.\u001b[0m\u001b[0m_scores\u001b[0m\u001b[0;34m[\u001b[0m\u001b[0mquantity\u001b[0m\u001b[0;34m.\u001b[0m\u001b[0mexternal_ref\u001b[0m\u001b[0;34m,\u001b[0m \u001b[0mx\u001b[0m\u001b[0;34m.\u001b[0m\u001b[0mtermination\u001b[0m\u001b[0;34m]\u001b[0m\u001b[0;34m\u001b[0m\u001b[0m\n\u001b[0m\u001b[1;32m     59\u001b[0m \u001b[0;34m\u001b[0m\u001b[0m\n\u001b[1;32m     60\u001b[0m     \u001b[0;34m@\u001b[0m\u001b[0mproperty\u001b[0m\u001b[0;34m\u001b[0m\u001b[0m\n",
      "\u001b[0;31mKeyError\u001b[0m: ('ReCiPe Midpoint (H), climate change, GWP100', '2dd650f3-4225-4356-b201-03602b5ec928')"
     ]
    }
   ],
   "source": [
    "_zg = (mg[k] for k in range(len(mg)))\n",
    "while 1:\n",
    "    zz = next(_zg)\n",
    "    zz.ratio(recipes[0])"
   ]
  },
  {
   "cell_type": "code",
   "execution_count": 82,
   "metadata": {
    "collapsed": false
   },
   "outputs": [
    {
     "name": "stdout",
     "output_type": "stream",
     "text": [
      "completed 64 iterations\n",
      "completed 68 iterations\n"
     ]
    }
   ],
   "source": [
    "for k in range(len(mg)):\n",
    "    if not mg[k].scored:\n",
    "        mg[k].add_scores(mg._query)"
   ]
  },
  {
   "cell_type": "code",
   "execution_count": 81,
   "metadata": {
    "collapsed": false
   },
   "outputs": [
    {
     "data": {
      "text/plain": [
       "False"
      ]
     },
     "execution_count": 81,
     "metadata": {},
     "output_type": "execute_result"
    }
   ],
   "source": [
    "zz.scored"
   ]
  },
  {
   "cell_type": "code",
   "execution_count": 76,
   "metadata": {
    "collapsed": false
   },
   "outputs": [
    {
     "data": {
      "text/plain": [
       "1.1200508206963007"
      ]
     },
     "execution_count": 76,
     "metadata": {},
     "output_type": "execute_result"
    }
   ],
   "source": [
    "zz.ratio(recipes[0])"
   ]
  },
  {
   "cell_type": "code",
   "execution_count": 75,
   "metadata": {
    "collapsed": false
   },
   "outputs": [
    {
     "data": {
      "text/plain": [
       "['Output: {*} [1 [kg]]     hard coal [CPC: 11010: Hard coal]',\n",
       " ' Input:     [ ---  [kWh]] (#) electricity, medium voltage [CPC: 17100: Electrical energy]',\n",
       " ' Input:     [ ---  [metric ton*km]] (#) transport, freight train [CPC: 6512: Railway transport services of freight]',\n",
       " ' Input:     [ ---  [kg]] (o) hard coal [CPC: 11010: Hard coal]',\n",
       " ' Input:     [ ---  [kg]] (#) hard coal [CPC: 11010: Hard coal]',\n",
       " 'Output:     [ ---  [kg]]     Tin, ion (CAS 022537-50-4) [ground-]',\n",
       " 'Output:     [ ---  [kg]]     BOD5, Biological Oxygen Demand [ground-]',\n",
       " 'Output:     [ ---  [kg]]     Iron, ion (CAS 015438-31-0) [ground-]',\n",
       " 'Output:     [ ---  [kg]]     Dissolved solids [ground-]',\n",
       " 'Output:     [ ---  [kg]]     Arsenic, ion (CAS 017428-41-0) [ground-]',\n",
       " ' Input:     [ ---  [m2]]     Transformation, from unspecified [land]',\n",
       " ' Input:     [ ---  [m2]]     Transformation, to industrial area [land]',\n",
       " ' Input:     [ ---  [m2*year]]     Occupation, industrial area [land]',\n",
       " 'Output:     [ ---  [kg]]     Particulates, > 10 um [non-urban air or from high stacks]',\n",
       " 'Output:     [ ---  [kg]]     Solids, inorganic [ground-]',\n",
       " 'Output:     [ ---  [kg]]     Lead (CAS 007439-92-1) [ground-]',\n",
       " 'Output:     [ ---  [kg]]     COD, Chemical Oxygen Demand [ground-]',\n",
       " 'Output:     [ ---  [kg]]     DOC, Dissolved Organic Carbon [ground-]',\n",
       " 'Output:     [ ---  [kg]]     Selenium (CAS 007782-49-2) [ground-]',\n",
       " 'Output:     [ ---  [kg]]     Nickel, ion (CAS 014701-22-5) [ground-]',\n",
       " 'Output:     [ ---  [kg]]     TOC, Total Organic Carbon [ground-]',\n",
       " 'Output:     [ ---  [kg]]     Manganese (CAS 007439-96-5) [ground-]',\n",
       " 'Output:     [ ---  [kg]]     Sulfate (CAS 014808-79-8) [ground-]',\n",
       " 'Output:     [ ---  [kg]]     Chloride (CAS 016887-00-6) [ground-]',\n",
       " 'Output:     [ ---  [kg]]     Copper, ion (CAS 017493-86-6) [ground-]',\n",
       " 'Output:     [ ---  [kg]]     Chromium, ion (CAS 016065-83-1) [ground-]',\n",
       " 'Output:     [ ---  [kg]]     Cadmium, ion (CAS 022537-48-0) [ground-]']"
      ]
     },
     "execution_count": 75,
     "metadata": {},
     "output_type": "execute_result"
    }
   ],
   "source": [
    "[str(x) for x in zz.market.inventory()]"
   ]
  },
  {
   "cell_type": "code",
   "execution_count": 74,
   "metadata": {
    "collapsed": false
   },
   "outputs": [
    {
     "data": {
      "text/plain": [
       "{'_flowref': '0d3eda5a-4601-4573-9549-0701c459ab88',\n",
       " '_index': 22,\n",
       " '_market': <lcatools.entity_refs.process_ref.ProcessRef at 0x7f840fc7b7b8>,\n",
       " '_quantities': (<lcatools.entity_refs.quantity_ref.QuantityRef at 0x7f8426640cf8>,\n",
       "  <lcatools.entity_refs.quantity_ref.QuantityRef at 0x7f84265d5ac8>,\n",
       "  <lcatools.entity_refs.quantity_ref.QuantityRef at 0x7f84265d94e0>,\n",
       "  <lcatools.entity_refs.quantity_ref.QuantityRef at 0x7f84265e7358>),\n",
       " '_scores': {('ReCiPe Midpoint (H), climate change, GWP100',\n",
       "   '02254055-bc29-4d66-ad6c-749e52da95bc'): 0.29650247604974439,\n",
       "  ('ReCiPe Midpoint (H), climate change, GWP100',\n",
       "   '1034822d-dca5-4742-82dd-a00864336d7b'): 0.26472234167501263,\n",
       "  ('ReCiPe Midpoint (H), marine eutrophication, MEP',\n",
       "   '02254055-bc29-4d66-ad6c-749e52da95bc'): 0.00024749437122928571,\n",
       "  ('ReCiPe Midpoint (H), marine eutrophication, MEP',\n",
       "   '1034822d-dca5-4742-82dd-a00864336d7b'): 0.00018000919964858612,\n",
       "  ('ReCiPe Midpoint (H), photochemical oxidant formation, POFP',\n",
       "   '02254055-bc29-4d66-ad6c-749e52da95bc'): 0.00051592863691869186,\n",
       "  ('ReCiPe Midpoint (H), photochemical oxidant formation, POFP',\n",
       "   '1034822d-dca5-4742-82dd-a00864336d7b'): 0.00032489102513923407,\n",
       "  ('ReCiPe Midpoint (H), terrestrial acidification, TAP100',\n",
       "   '02254055-bc29-4d66-ad6c-749e52da95bc'): 0.00057757389612874527,\n",
       "  ('ReCiPe Midpoint (H), terrestrial acidification, TAP100',\n",
       "   '1034822d-dca5-4742-82dd-a00864336d7b'): 0.00038825486469872743},\n",
       " '_suppliers': (<lcatools.exchanges.ExchangeValue at 0x7f840febacf8>,\n",
       "  <lcatools.exchanges.ExchangeValue at 0x7f8410a030b8>)}"
      ]
     },
     "execution_count": 74,
     "metadata": {},
     "output_type": "execute_result"
    }
   ],
   "source": [
    "zz.__dict__"
   ]
  },
  {
   "cell_type": "code",
   "execution_count": 90,
   "metadata": {
    "collapsed": false
   },
   "outputs": [
    {
     "data": {
      "text/plain": [
       "(array([  1.16000000e+02,   2.76400000e+03,   2.19000000e+02,\n",
       "          1.06000000e+02,   8.90000000e+01,   1.60000000e+01,\n",
       "          2.20000000e+01,   1.00000000e+00,   8.00000000e+00]),\n",
       " array([    0,     1,     2,     5,    10,    50,   100,   500,  1000, 25000]),\n",
       " <a list of 9 Patch objects>)"
      ]
     },
     "execution_count": 90,
     "metadata": {},
     "output_type": "execute_result"
    },
    {
     "data": {
      "image/png": "[encoded data removed]",
      "text/plain": [
       "<matplotlib.figure.Figure at 0x7f840805b828>"
      ]
     },
     "metadata": {},
     "output_type": "display_data"
    }
   ],
   "source": [
    "\n",
    "plt.hist(mg.ratios_for_quantity(recipes[17]), log=True, bins=[0, 1, 2, 5, 10, 50, 100, 500, 1000, 25000])"
   ]
  },
  {
   "cell_type": "code",
   "execution_count": 92,
   "metadata": {
    "collapsed": false
   },
   "outputs": [
    {
     "data": {
      "text/plain": [
       "3341"
      ]
     },
     "execution_count": 92,
     "metadata": {},
     "output_type": "execute_result"
    }
   ],
   "source": [
    "len(mg)"
   ]
  },
  {
   "cell_type": "code",
   "execution_count": 109,
   "metadata": {
    "collapsed": false
   },
   "outputs": [
    {
     "data": {
      "image/png": "[encoded data removed]",
      "text/plain": [
       "<matplotlib.figure.Figure at 0x7f8407881240>"
      ]
     },
     "metadata": {},
     "output_type": "display_data"
    }
   ],
   "source": [
    "vals, bins, _ = plt.hist([mg[k].size for k in range(len(mg))], bins=(1, 2, 3, 4, 8, 16, 1000))"
   ]
  },
  {
   "cell_type": "code",
   "execution_count": 106,
   "metadata": {
    "collapsed": false
   },
   "outputs": [
    {
     "data": {
      "text/plain": [
       "array([ 1072.,  1975.,   211.,    56.,    27.])"
      ]
     },
     "execution_count": 106,
     "metadata": {},
     "output_type": "execute_result"
    }
   ],
   "source": [
    "vals"
   ]
  },
  {
   "cell_type": "code",
   "execution_count": 107,
   "metadata": {
    "collapsed": false
   },
   "outputs": [
    {
     "data": {
      "text/plain": [
       "array([   1,    2,    4,    8,   16, 1000])"
      ]
     },
     "execution_count": 107,
     "metadata": {},
     "output_type": "execute_result"
    }
   ],
   "source": [
    "bins"
   ]
  },
  {
   "cell_type": "code",
   "execution_count": 108,
   "metadata": {
    "collapsed": false
   },
   "outputs": [
    {
     "data": {
      "text/plain": [
       "['1-2', '2-4', '4-8', '8-16', '16-1000']"
      ]
     },
     "execution_count": 108,
     "metadata": {},
     "output_type": "execute_result"
    }
   ],
   "source": []
  },
  {
   "cell_type": "code",
   "execution_count": 120,
   "metadata": {
    "collapsed": false
   },
   "outputs": [
    {
     "data": {
      "text/plain": [
       "array([   1,    2,    3,    4,    8,   16, 1000])"
      ]
     },
     "execution_count": 120,
     "metadata": {},
     "output_type": "execute_result"
    }
   ],
   "source": [
    "bins"
   ]
  },
  {
   "cell_type": "code",
   "execution_count": 119,
   "metadata": {
    "collapsed": false
   },
   "outputs": [
    {
     "data": {
      "text/plain": [
       "[<matplotlib.text.Text at 0x7f840718c6a0>,\n",
       " <matplotlib.text.Text at 0x7f8407294b70>,\n",
       " <matplotlib.text.Text at 0x7f8407166b00>,\n",
       " <matplotlib.text.Text at 0x7f840716f4e0>,\n",
       " <matplotlib.text.Text at 0x7f840716feb8>,\n",
       " <matplotlib.text.Text at 0x7f84071738d0>]"
      ]
     },
     "execution_count": 119,
     "metadata": {},
     "output_type": "execute_result"
    },
    {
     "data": {
      "image/png": "[encoded data removed]",
      "text/plain": [
       "<matplotlib.figure.Figure at 0x7f8407243e80>"
      ]
     },
     "metadata": {},
     "output_type": "display_data"
    }
   ],
   "source": [
    "\n",
    "ax = plt.axes()\n",
    "plt.bar(range(len(vals)), vals, axes=ax)\n",
    "ax.set_xticks(range(len(vals)))\n",
    "ax.set_xticklabels(bins[:-1])"
   ]
  },
  {
   "cell_type": "code",
   "execution_count": 41,
   "metadata": {
    "collapsed": false
   },
   "outputs": [
    {
     "data": {
      "text/plain": [
       "23.288168414796846"
      ]
     },
     "execution_count": 41,
     "metadata": {},
     "output_type": "execute_result"
    }
   ],
   "source": [
    "m_gly.ratio(recipes[2])"
   ]
  },
  {
   "cell_type": "code",
   "execution_count": 30,
   "metadata": {
    "collapsed": false,
    "deletable": true,
    "editable": true
   },
   "outputs": [
    {
     "data": {
      "text/plain": [
       "[0.044470927796098098,\n",
       " 0.036857973467069489,\n",
       " 0.015323414858947856,\n",
       " 0.0014396813673304564,\n",
       " 0.0037757955677162991,\n",
       " 0.00035519573640994181,\n",
       " 0.00029287404698509685,\n",
       " 0.00019428184266638096,\n",
       " 0.013081794434715077,\n",
       " 0.036878982583998153,\n",
       " 0.013055297155598508,\n",
       " 0.004005639532987275]"
      ]
     },
     "execution_count": 30,
     "metadata": {},
     "output_type": "execute_result"
    }
   ],
   "source": [
    "[x for x in res._res_by_quantity(res.max_ratio[1])]"
   ]
  },
  {
   "cell_type": "code",
   "execution_count": 31,
   "metadata": {
    "collapsed": false,
    "deletable": true,
    "editable": true
   },
   "outputs": [
    {
     "data": {
      "text/plain": [
       "[4.1830616229411071,\n",
       " 3.6918878823664345,\n",
       " 7.1695381198251784,\n",
       " 1.057799131779348,\n",
       " 4.6747297322146704,\n",
       " 0.38560776417324488,\n",
       " 0.50918023486057262,\n",
       " 0.63827539674663203,\n",
       " 4.3847127808104354,\n",
       " 3.6911544776432712,\n",
       " 5.4339359009360271,\n",
       " 4.7907412143401693]"
      ]
     },
     "execution_count": 31,
     "metadata": {},
     "output_type": "execute_result"
    }
   ],
   "source": [
    "[x for x in res._res_by_quantity(recipes[0])]"
   ]
  },
  {
   "cell_type": "code",
   "execution_count": 32,
   "metadata": {
    "collapsed": false,
    "deletable": true,
    "editable": true
   },
   "outputs": [
    {
     "data": {
      "text/plain": [
       "[0.000235253496422294,\n",
       " 0.120884112034407,\n",
       " 0.0025873822622544,\n",
       " 0.109726176278784,\n",
       " 0.0622621690420671,\n",
       " 0.0164657626128754,\n",
       " 0.000240378511370286,\n",
       " 0.00390097746261021,\n",
       " 0.00297124710519323,\n",
       " 0.245909023302167,\n",
       " 0.310293179807715,\n",
       " 0.124524338084134]"
      ]
     },
     "execution_count": 32,
     "metadata": {},
     "output_type": "execute_result"
    }
   ],
   "source": [
    "res.exchange_values"
   ]
  },
  {
   "cell_type": "code",
   "execution_count": 34,
   "metadata": {
    "collapsed": false,
    "deletable": true,
    "editable": true
   },
   "outputs": [
    {
     "name": "stdout",
     "output_type": "stream",
     "text": [
      "completed 63 iterations\n"
     ]
    },
    {
     "data": {
      "text/plain": [
       "4.1368692496949286"
      ]
     },
     "execution_count": 34,
     "metadata": {},
     "output_type": "execute_result"
    }
   ],
   "source": [
    "recipes[0].do_lcia(res.market.lci()).total()"
   ]
  },
  {
   "cell_type": "code",
   "execution_count": 35,
   "metadata": {
    "collapsed": false,
    "deletable": true,
    "editable": true
   },
   "outputs": [
    {
     "data": {
      "text/plain": [
       "4.0853070765007597"
      ]
     },
     "execution_count": 35,
     "metadata": {},
     "output_type": "execute_result"
    }
   ],
   "source": [
    "evs = res.exchange_values\n",
    "sum(evs[i] * v for i, v in enumerate(res._res_by_quantity(recipes[0])))"
   ]
  },
  {
   "cell_type": "code",
   "execution_count": 37,
   "metadata": {
    "collapsed": false,
    "deletable": true,
    "editable": true
   },
   "outputs": [
    {
     "data": {
      "text/plain": [
       "[' Input:     [0.209 [metric ton*km]] (#) transport, freight, lorry, unspecified [By-product classification: allocatable product]',\n",
       " ' Input:     [0.599 [metric ton*km]] (#) transport, freight, sea, transoceanic ship [CPC: 65219: Other coastal and transoceanic water transport services of other freight]',\n",
       " ' Input:     [0.309 [metric ton*km]] (#) transport, freight train [CPC: 6512: Railway transport services of freight]',\n",
       " ' Input:     [0.0246 [metric ton*km]] (#) transport, freight, inland waterways, barge [CPC: 65229: Other inland water transport services of freight]',\n",
       " ' Input:     [0.000235 [kg]] (#) glycerine (CAS 000056-81-5) [CPC: 34570: Glycerol]',\n",
       " ' Input:     [0.121 [kg]] (#) glycerine (CAS 000056-81-5) [CPC: 34570: Glycerol]',\n",
       " ' Input:     [0.00259 [kg]] (#) glycerine (CAS 000056-81-5) [CPC: 34570: Glycerol]',\n",
       " ' Input:     [0.11 [kg]] (#) glycerine (CAS 000056-81-5) [CPC: 34570: Glycerol]',\n",
       " ' Input:     [0.0623 [kg]] (#) glycerine (CAS 000056-81-5) [CPC: 34570: Glycerol]',\n",
       " ' Input:     [0.0165 [kg]] (#) glycerine (CAS 000056-81-5) [CPC: 34570: Glycerol]',\n",
       " ' Input:     [0.00024 [kg]] (#) glycerine (CAS 000056-81-5) [CPC: 34570: Glycerol]',\n",
       " ' Input:     [0.0039 [kg]] (#) glycerine (CAS 000056-81-5) [CPC: 34570: Glycerol]',\n",
       " ' Input:     [0.00297 [kg]] (#) glycerine (CAS 000056-81-5) [CPC: 34570: Glycerol]',\n",
       " ' Input:     [0.246 [kg]] (#) glycerine (CAS 000056-81-5) [CPC: 34570: Glycerol]',\n",
       " ' Input:     [0.31 [kg]] (#) glycerine (CAS 000056-81-5) [CPC: 34570: Glycerol]',\n",
       " ' Input:     [0.125 [kg]] (#) glycerine (CAS 000056-81-5) [CPC: 34570: Glycerol]']"
      ]
     },
     "execution_count": 37,
     "metadata": {},
     "output_type": "execute_result"
    }
   ],
   "source": [
    "[str(x) for x in res.market.inventory(res._flowref)]"
   ]
  },
  {
   "cell_type": "code",
   "execution_count": 38,
   "metadata": {
    "collapsed": true,
    "deletable": true,
    "editable": true
   },
   "outputs": [],
   "source": [
    "xval = [x for x in res._res_by_quantity(recipes[0])]\n",
    "yval = res.exchange_values"
   ]
  },
  {
   "cell_type": "code",
   "execution_count": 39,
   "metadata": {
    "collapsed": true,
    "deletable": true,
    "editable": true
   },
   "outputs": [],
   "source": [
    "from matplotlib import pyplot as plt\n",
    "%matplotlib inline"
   ]
  },
  {
   "cell_type": "code",
   "execution_count": 45,
   "metadata": {
    "collapsed": false,
    "deletable": true,
    "editable": true
   },
   "outputs": [
    {
     "data": {
      "text/plain": [
       "<Container object of 12 artists>"
      ]
     },
     "execution_count": 45,
     "metadata": {},
     "output_type": "execute_result"
    },
    {
     "data": {
      "image/png": "[encoded data removed]",
      "text/plain": [
       "<matplotlib.figure.Figure at 0x7f27f0bb6320>"
      ]
     },
     "metadata": {},
     "output_type": "display_data"
    }
   ],
   "source": [
    "width = 0.1\n",
    "scl = 1 / width\n",
    "plt.bar(xval, [k * scl for k in yval], width=width, color=[0.7, 0, 0])"
   ]
  },
  {
   "cell_type": "code",
   "execution_count": 28,
   "metadata": {
    "collapsed": false,
    "deletable": true,
    "editable": true
   },
   "outputs": [
    {
     "name": "stdout",
     "output_type": "stream",
     "text": [
      "ProcessRef catalog reference (037fa5e4-f711-4987-b50a-38920ca5d5a0)\n",
      "origin: local.ecoinvent.3.4.cutoff\n",
      "UUID: 037fa5e4-f711-4987-b50a-38920ca5d5a0\n",
      "   Name: market for glycerine\n",
      "Comment: no comment.\n",
      "==Local Fields==\n",
      "           Name: market for glycerine\n",
      "   SpatialScope: GLO\n",
      "  TemporalScope: {'begin': '2011-01-01', 'end': '2017-12-31'}\n",
      "Classifications: ['ISIC rev.4 ecoinvent: 2011:Manufacture of basic chemicals', 'EcoSpold01Categories: chemicals/organics']\n",
      "        Comment: no comment.\n"
     ]
    }
   ],
   "source": [
    "res.market.show()"
   ]
  },
  {
   "cell_type": "code",
   "execution_count": null,
   "metadata": {
    "collapsed": true,
    "deletable": true,
    "editable": true
   },
   "outputs": [],
   "source": []
  },
  {
   "cell_type": "code",
   "execution_count": 29,
   "metadata": {
    "collapsed": false,
    "deletable": true,
    "editable": true
   },
   "outputs": [
    {
     "data": {
      "text/plain": [
       "'3d3268fa-3c9e-43e0-be88-3dfd53718719'"
      ]
     },
     "execution_count": 29,
     "metadata": {},
     "output_type": "execute_result"
    }
   ],
   "source": [
    "res._flowref"
   ]
  },
  {
   "cell_type": "code",
   "execution_count": 18,
   "metadata": {
    "collapsed": false,
    "deletable": true,
    "editable": true
   },
   "outputs": [],
   "source": [
    "_rg = (k for k in mg._results)"
   ]
  },
  {
   "cell_type": "code",
   "execution_count": 42,
   "metadata": {
    "collapsed": true,
    "deletable": true,
    "editable": true
   },
   "outputs": [],
   "source": [
    "mkt = mg[14].market"
   ]
  },
  {
   "cell_type": "code",
   "execution_count": 45,
   "metadata": {
    "collapsed": false,
    "deletable": true,
    "editable": true
   },
   "outputs": [],
   "source": [
    "invs = [x for x in mkt.inventory(mkt.reference())]"
   ]
  },
  {
   "cell_type": "code",
   "execution_count": 46,
   "metadata": {
    "collapsed": false,
    "deletable": true,
    "editable": true
   },
   "outputs": [
    {
     "name": "stdout",
     "output_type": "stream",
     "text": [
      "ProcessRef catalog reference (d0c11643-6c16-4cec-a083-89ba4bfa2db6)\n",
      "origin: local.ecoinvent.3.4.cutoff\n",
      "UUID: d0c11643-6c16-4cec-a083-89ba4bfa2db6\n",
      "   Name: land already in use, annual cropland to perennial crop\n",
      "Comment: This dataset represents the interventions associated with the provision of 1 kg NPP (Net Primary Productivity of a given land, in kg C / m2 and year) by land that is already in use as arable land. NPP and VEG (above-ground biomass, below-ground biomass and dead organic matter) values are parameterized.\n",
      "NPP values are reported by Haberl et al. (2007)\n",
      "VEG values have the following sources:\n",
      "- Forests: Global Forest Resources Assessment 2010: http://www.fao.org/forestry/fra/fra2010/en/\n",
      "- Grassland: IPCC 2006 Guidelines, Volume 6, Table 6.4. All values in tonne C/ha, converted to carbon based on 47% carbon content of dry matter biomass (see for example section 6.2.1.4 of IPCC 2006).\n",
      "- Crops: Cveg croplands, based on Table 11 of the European Commission decision.* All values in tonne C/ha.\n",
      "* C(2010) 3751: COMMISSION DECISION of 10 June 2010 on guidelines for the calculation of land carbon stocks for the purpose of Annex V to Directive 2009/28/EC, Official Journal of the European Union, L 151/19. Exceptions based on the Table 12 of the EC decision: Coconuts, Jatropha, Jojoba Seeds, Oil palm fruit, Sugar cane\n",
      "Distinction is made between primary and secondary forests. The respective land area of each type forest is known from FAOSTAT data. Based on empirical values, it is considered that the secondary VEG is 74% of the primary VEG. The same ratio is applied as the weighted average between primary and secondary forest is always equal to the GFRA 2010 value.\n",
      "==Local Fields==\n",
      "           Name: land already in use, annual cropland to perennial crop\n",
      "   SpatialScope: IT\n",
      "  TemporalScope: {'begin': '2010-01-01', 'end': '2017-12-31'}\n",
      "Classifications: ['ISIC rev.4 ecoinvent: 68:Real estate activities']\n",
      "        Comment: This dataset represents the interventions associated with the provision of 1 kg NPP (Net Primary Productivity of a given land, in kg C / m2 and year) by land that is already in use as arable land. NPP and VEG (above-ground biomass, below-ground biomass and dead organic matter) values are parameterized.\n",
      "NPP values are reported by Haberl et al. (2007)\n",
      "VEG values have the following sources:\n",
      "- Forests: Global Forest Resources Assessment 2010: http://www.fao.org/forestry/fra/fra2010/en/\n",
      "- Grassland: IPCC 2006 Guidelines, Volume 6, Table 6.4. All values in tonne C/ha, converted to carbon based on 47% carbon content of dry matter biomass (see for example section 6.2.1.4 of IPCC 2006).\n",
      "- Crops: Cveg croplands, based on Table 11 of the European Commission decision.* All values in tonne C/ha.\n",
      "* C(2010) 3751: COMMISSION DECISION of 10 June 2010 on guidelines for the calculation of land carbon stocks for the purpose of Annex V to Directive 2009/28/EC, Official Journal of the European Union, L 151/19. Exceptions based on the Table 12 of the EC decision: Coconuts, Jatropha, Jojoba Seeds, Oil palm fruit, Sugar cane\n",
      "Distinction is made between primary and secondary forests. The respective land area of each type forest is known from FAOSTAT data. Based on empirical values, it is considered that the secondary VEG is 74% of the primary VEG. The same ratio is applied as the weighted average between primary and secondary forest is always equal to the GFRA 2010 value.\n"
     ]
    }
   ],
   "source": [
    "cat.query('local.ecoinvent.3.4.cutoff').get(invs[0].termination).show()"
   ]
  },
  {
   "cell_type": "code",
   "execution_count": 36,
   "metadata": {
    "collapsed": false,
    "deletable": true,
    "editable": true
   },
   "outputs": [
    {
     "data": {
      "text/plain": [
       "{('ReCiPe Midpoint (H), climate change, GWP100',\n",
       "  'a33ea50e-741b-4b90-9c1b-2e9bf9376aea'): 0,\n",
       " ('ReCiPe Midpoint (H), climate change, GWP100',\n",
       "  'd0c11643-6c16-4cec-a083-89ba4bfa2db6'): -28.747731397459201,\n",
       " ('ReCiPe Midpoint (H), marine eutrophication, MEP',\n",
       "  'a33ea50e-741b-4b90-9c1b-2e9bf9376aea'): 0,\n",
       " ('ReCiPe Midpoint (H), marine eutrophication, MEP',\n",
       "  'd0c11643-6c16-4cec-a083-89ba4bfa2db6'): 0,\n",
       " ('ReCiPe Midpoint (H), photochemical oxidant formation, POFP',\n",
       "  'a33ea50e-741b-4b90-9c1b-2e9bf9376aea'): 0,\n",
       " ('ReCiPe Midpoint (H), photochemical oxidant formation, POFP',\n",
       "  'd0c11643-6c16-4cec-a083-89ba4bfa2db6'): 0,\n",
       " ('ReCiPe Midpoint (H), terrestrial acidification, TAP100',\n",
       "  'a33ea50e-741b-4b90-9c1b-2e9bf9376aea'): 0,\n",
       " ('ReCiPe Midpoint (H), terrestrial acidification, TAP100',\n",
       "  'd0c11643-6c16-4cec-a083-89ba4bfa2db6'): 0}"
      ]
     },
     "execution_count": 36,
     "metadata": {},
     "output_type": "execute_result"
    }
   ],
   "source": [
    "next(_rg)._scores"
   ]
  },
  {
   "cell_type": "code",
   "execution_count": 15,
   "metadata": {
    "collapsed": false,
    "deletable": true,
    "editable": true
   },
   "outputs": [
    {
     "ename": "ValueError",
     "evalue": "max() arg is an empty sequence",
     "output_type": "error",
     "traceback": [
      "\u001b[0;31m---------------------------------------------------------------------------\u001b[0m",
      "\u001b[0;31mValueError\u001b[0m                                Traceback (most recent call last)",
      "\u001b[0;32m<ipython-input-15-f5d466beea21>\u001b[0m in \u001b[0;36m<module>\u001b[0;34m()\u001b[0m\n\u001b[0;32m----> 1\u001b[0;31m \u001b[0mmg\u001b[0m\u001b[0;34m.\u001b[0m\u001b[0mratios\u001b[0m\u001b[0;34m\u001b[0m\u001b[0m\n\u001b[0m",
      "\u001b[0;32m/data/GitHub/2018/bw2-uncertainty/lca_variability/lca_variability.py\u001b[0m in \u001b[0;36mratios\u001b[0;34m(self)\u001b[0m\n\u001b[1;32m    114\u001b[0m     \u001b[0;34m@\u001b[0m\u001b[0mproperty\u001b[0m\u001b[0;34m\u001b[0m\u001b[0m\n\u001b[1;32m    115\u001b[0m     \u001b[0;32mdef\u001b[0m \u001b[0mratios\u001b[0m\u001b[0;34m(\u001b[0m\u001b[0mself\u001b[0m\u001b[0;34m)\u001b[0m\u001b[0;34m:\u001b[0m\u001b[0;34m\u001b[0m\u001b[0m\n\u001b[0;32m--> 116\u001b[0;31m         \u001b[0;32mreturn\u001b[0m \u001b[0;34m[\u001b[0m\u001b[0mres\u001b[0m\u001b[0;34m.\u001b[0m\u001b[0mmax_ratio\u001b[0m\u001b[0;34m[\u001b[0m\u001b[0;36m0\u001b[0m\u001b[0;34m]\u001b[0m \u001b[0;32mfor\u001b[0m \u001b[0mres\u001b[0m \u001b[0;32min\u001b[0m \u001b[0mself\u001b[0m\u001b[0;34m.\u001b[0m\u001b[0m_results\u001b[0m\u001b[0;34m]\u001b[0m\u001b[0;34m\u001b[0m\u001b[0m\n\u001b[0m\u001b[1;32m    117\u001b[0m \u001b[0;34m\u001b[0m\u001b[0m\n\u001b[1;32m    118\u001b[0m     \u001b[0;32mdef\u001b[0m \u001b[0mratios_for_quantity\u001b[0m\u001b[0;34m(\u001b[0m\u001b[0mself\u001b[0m\u001b[0;34m,\u001b[0m \u001b[0mquantity\u001b[0m\u001b[0;34m)\u001b[0m\u001b[0;34m:\u001b[0m\u001b[0;34m\u001b[0m\u001b[0m\n",
      "\u001b[0;32m/data/GitHub/2018/bw2-uncertainty/lca_variability/lca_variability.py\u001b[0m in \u001b[0;36m<listcomp>\u001b[0;34m(.0)\u001b[0m\n\u001b[1;32m    114\u001b[0m     \u001b[0;34m@\u001b[0m\u001b[0mproperty\u001b[0m\u001b[0;34m\u001b[0m\u001b[0m\n\u001b[1;32m    115\u001b[0m     \u001b[0;32mdef\u001b[0m \u001b[0mratios\u001b[0m\u001b[0;34m(\u001b[0m\u001b[0mself\u001b[0m\u001b[0;34m)\u001b[0m\u001b[0;34m:\u001b[0m\u001b[0;34m\u001b[0m\u001b[0m\n\u001b[0;32m--> 116\u001b[0;31m         \u001b[0;32mreturn\u001b[0m \u001b[0;34m[\u001b[0m\u001b[0mres\u001b[0m\u001b[0;34m.\u001b[0m\u001b[0mmax_ratio\u001b[0m\u001b[0;34m[\u001b[0m\u001b[0;36m0\u001b[0m\u001b[0;34m]\u001b[0m \u001b[0;32mfor\u001b[0m \u001b[0mres\u001b[0m \u001b[0;32min\u001b[0m \u001b[0mself\u001b[0m\u001b[0;34m.\u001b[0m\u001b[0m_results\u001b[0m\u001b[0;34m]\u001b[0m\u001b[0;34m\u001b[0m\u001b[0m\n\u001b[0m\u001b[1;32m    117\u001b[0m \u001b[0;34m\u001b[0m\u001b[0m\n\u001b[1;32m    118\u001b[0m     \u001b[0;32mdef\u001b[0m \u001b[0mratios_for_quantity\u001b[0m\u001b[0;34m(\u001b[0m\u001b[0mself\u001b[0m\u001b[0;34m,\u001b[0m \u001b[0mquantity\u001b[0m\u001b[0;34m)\u001b[0m\u001b[0;34m:\u001b[0m\u001b[0;34m\u001b[0m\u001b[0m\n",
      "\u001b[0;32m/data/GitHub/2018/bw2-uncertainty/lca_variability/lca_variability.py\u001b[0m in \u001b[0;36mmax_ratio\u001b[0;34m(self)\u001b[0m\n\u001b[1;32m     67\u001b[0m         \u001b[0;34m:\u001b[0m\u001b[0;32mreturn\u001b[0m\u001b[0;34m:\u001b[0m \u001b[0ma\u001b[0m \u001b[0;36m2\u001b[0m\u001b[0;34m-\u001b[0m\u001b[0mtuple\u001b[0m\u001b[0;34m:\u001b[0m \u001b[0mmax\u001b[0m \u001b[0mratio\u001b[0m\u001b[0;34m,\u001b[0m \u001b[0mquantity\u001b[0m \u001b[0mthat\u001b[0m \u001b[0mdelivers\u001b[0m \u001b[0mmax\u001b[0m \u001b[0mratio\u001b[0m\u001b[0;34m\u001b[0m\u001b[0m\n\u001b[1;32m     68\u001b[0m         \"\"\"\n\u001b[0;32m---> 69\u001b[0;31m         \u001b[0mrs\u001b[0m \u001b[0;34m=\u001b[0m \u001b[0;34m[\u001b[0m\u001b[0mself\u001b[0m\u001b[0;34m.\u001b[0m\u001b[0mratio\u001b[0m\u001b[0;34m(\u001b[0m\u001b[0mq\u001b[0m\u001b[0;34m)\u001b[0m \u001b[0;32mfor\u001b[0m \u001b[0mq\u001b[0m \u001b[0;32min\u001b[0m \u001b[0mself\u001b[0m\u001b[0;34m.\u001b[0m\u001b[0mquantities\u001b[0m\u001b[0;34m]\u001b[0m\u001b[0;34m\u001b[0m\u001b[0m\n\u001b[0m\u001b[1;32m     70\u001b[0m         \u001b[0mmx\u001b[0m \u001b[0;34m=\u001b[0m \u001b[0mmax\u001b[0m\u001b[0;34m(\u001b[0m\u001b[0mrs\u001b[0m\u001b[0;34m)\u001b[0m\u001b[0;34m\u001b[0m\u001b[0m\n\u001b[1;32m     71\u001b[0m         \u001b[0;32mreturn\u001b[0m \u001b[0mmx\u001b[0m\u001b[0;34m,\u001b[0m \u001b[0mself\u001b[0m\u001b[0;34m.\u001b[0m\u001b[0m_quantities\u001b[0m\u001b[0;34m[\u001b[0m\u001b[0mrs\u001b[0m\u001b[0;34m.\u001b[0m\u001b[0mindex\u001b[0m\u001b[0;34m(\u001b[0m\u001b[0mmx\u001b[0m\u001b[0;34m)\u001b[0m\u001b[0;34m]\u001b[0m\u001b[0;34m\u001b[0m\u001b[0m\n",
      "\u001b[0;32m/data/GitHub/2018/bw2-uncertainty/lca_variability/lca_variability.py\u001b[0m in \u001b[0;36m<listcomp>\u001b[0;34m(.0)\u001b[0m\n\u001b[1;32m     67\u001b[0m         \u001b[0;34m:\u001b[0m\u001b[0;32mreturn\u001b[0m\u001b[0;34m:\u001b[0m \u001b[0ma\u001b[0m \u001b[0;36m2\u001b[0m\u001b[0;34m-\u001b[0m\u001b[0mtuple\u001b[0m\u001b[0;34m:\u001b[0m \u001b[0mmax\u001b[0m \u001b[0mratio\u001b[0m\u001b[0;34m,\u001b[0m \u001b[0mquantity\u001b[0m \u001b[0mthat\u001b[0m \u001b[0mdelivers\u001b[0m \u001b[0mmax\u001b[0m \u001b[0mratio\u001b[0m\u001b[0;34m\u001b[0m\u001b[0m\n\u001b[1;32m     68\u001b[0m         \"\"\"\n\u001b[0;32m---> 69\u001b[0;31m         \u001b[0mrs\u001b[0m \u001b[0;34m=\u001b[0m \u001b[0;34m[\u001b[0m\u001b[0mself\u001b[0m\u001b[0;34m.\u001b[0m\u001b[0mratio\u001b[0m\u001b[0;34m(\u001b[0m\u001b[0mq\u001b[0m\u001b[0;34m)\u001b[0m \u001b[0;32mfor\u001b[0m \u001b[0mq\u001b[0m \u001b[0;32min\u001b[0m \u001b[0mself\u001b[0m\u001b[0;34m.\u001b[0m\u001b[0mquantities\u001b[0m\u001b[0;34m]\u001b[0m\u001b[0;34m\u001b[0m\u001b[0m\n\u001b[0m\u001b[1;32m     70\u001b[0m         \u001b[0mmx\u001b[0m \u001b[0;34m=\u001b[0m \u001b[0mmax\u001b[0m\u001b[0;34m(\u001b[0m\u001b[0mrs\u001b[0m\u001b[0;34m)\u001b[0m\u001b[0;34m\u001b[0m\u001b[0m\n\u001b[1;32m     71\u001b[0m         \u001b[0;32mreturn\u001b[0m \u001b[0mmx\u001b[0m\u001b[0;34m,\u001b[0m \u001b[0mself\u001b[0m\u001b[0;34m.\u001b[0m\u001b[0m_quantities\u001b[0m\u001b[0;34m[\u001b[0m\u001b[0mrs\u001b[0m\u001b[0;34m.\u001b[0m\u001b[0mindex\u001b[0m\u001b[0;34m(\u001b[0m\u001b[0mmx\u001b[0m\u001b[0;34m)\u001b[0m\u001b[0;34m]\u001b[0m\u001b[0;34m\u001b[0m\u001b[0m\n",
      "\u001b[0;32m/data/GitHub/2018/bw2-uncertainty/lca_variability/lca_variability.py\u001b[0m in \u001b[0;36mratio\u001b[0;34m(self, quantity)\u001b[0m\n\u001b[1;32m     56\u001b[0m     \u001b[0;32mdef\u001b[0m \u001b[0mratio\u001b[0m\u001b[0;34m(\u001b[0m\u001b[0mself\u001b[0m\u001b[0;34m,\u001b[0m \u001b[0mquantity\u001b[0m\u001b[0;34m)\u001b[0m\u001b[0;34m:\u001b[0m\u001b[0;34m\u001b[0m\u001b[0m\n\u001b[1;32m     57\u001b[0m         \u001b[0mscores\u001b[0m \u001b[0;34m=\u001b[0m \u001b[0;34m[\u001b[0m\u001b[0ms\u001b[0m \u001b[0;32mfor\u001b[0m \u001b[0ms\u001b[0m \u001b[0;32min\u001b[0m \u001b[0mfilter\u001b[0m\u001b[0;34m(\u001b[0m\u001b[0;32mlambda\u001b[0m \u001b[0mx\u001b[0m\u001b[0;34m:\u001b[0m \u001b[0mx\u001b[0m \u001b[0;34m!=\u001b[0m \u001b[0;36m0\u001b[0m\u001b[0;34m,\u001b[0m \u001b[0mself\u001b[0m\u001b[0;34m.\u001b[0m\u001b[0m_res_by_quantity\u001b[0m\u001b[0;34m(\u001b[0m\u001b[0mquantity\u001b[0m\u001b[0;34m)\u001b[0m\u001b[0;34m)\u001b[0m\u001b[0;34m]\u001b[0m\u001b[0;34m\u001b[0m\u001b[0m\n\u001b[0;32m---> 58\u001b[0;31m         \u001b[0;32mreturn\u001b[0m \u001b[0mmax\u001b[0m\u001b[0;34m(\u001b[0m\u001b[0mabs\u001b[0m\u001b[0;34m(\u001b[0m\u001b[0mx\u001b[0m\u001b[0;34m)\u001b[0m \u001b[0;32mfor\u001b[0m \u001b[0mx\u001b[0m \u001b[0;32min\u001b[0m \u001b[0mscores\u001b[0m\u001b[0;34m)\u001b[0m \u001b[0;34m/\u001b[0m \u001b[0mmin\u001b[0m\u001b[0;34m(\u001b[0m\u001b[0mabs\u001b[0m\u001b[0;34m(\u001b[0m\u001b[0mx\u001b[0m\u001b[0;34m)\u001b[0m \u001b[0;32mfor\u001b[0m \u001b[0mx\u001b[0m \u001b[0;32min\u001b[0m \u001b[0mscores\u001b[0m\u001b[0;34m)\u001b[0m\u001b[0;34m\u001b[0m\u001b[0m\n\u001b[0m\u001b[1;32m     59\u001b[0m \u001b[0;34m\u001b[0m\u001b[0m\n\u001b[1;32m     60\u001b[0m     \u001b[0;34m@\u001b[0m\u001b[0mproperty\u001b[0m\u001b[0;34m\u001b[0m\u001b[0m\n",
      "\u001b[0;31mValueError\u001b[0m: max() arg is an empty sequence"
     ]
    }
   ],
   "source": [
    "mg.ratios"
   ]
  },
  {
   "cell_type": "code",
   "execution_count": 27,
   "metadata": {
    "collapsed": false,
    "deletable": true,
    "editable": true
   },
   "outputs": [
    {
     "data": {
      "text/plain": [
       "8"
      ]
     },
     "execution_count": 27,
     "metadata": {},
     "output_type": "execute_result"
    }
   ],
   "source": [
    "res.unique(recipes[17])"
   ]
  },
  {
   "cell_type": "code",
   "execution_count": 12,
   "metadata": {
    "collapsed": false,
    "deletable": true,
    "editable": true
   },
   "outputs": [
    {
     "ename": "ValueError",
     "evalue": "max() arg is an empty sequence",
     "output_type": "error",
     "traceback": [
      "\u001b[0;31m---------------------------------------------------------------------------\u001b[0m",
      "\u001b[0;31mValueError\u001b[0m                                Traceback (most recent call last)",
      "\u001b[0;32m<ipython-input-12-985f2117ac57>\u001b[0m in \u001b[0;36m<module>\u001b[0;34m()\u001b[0m\n\u001b[0;32m----> 1\u001b[0;31m \u001b[0;34m[\u001b[0m\u001b[0mres\u001b[0m\u001b[0;34m.\u001b[0m\u001b[0mratio\u001b[0m\u001b[0;34m(\u001b[0m\u001b[0mk\u001b[0m\u001b[0;34m)\u001b[0m \u001b[0;32mfor\u001b[0m \u001b[0mk\u001b[0m \u001b[0;32min\u001b[0m \u001b[0mres\u001b[0m\u001b[0;34m.\u001b[0m\u001b[0mquantities\u001b[0m\u001b[0;34m]\u001b[0m\u001b[0;34m\u001b[0m\u001b[0m\n\u001b[0m",
      "\u001b[0;32m<ipython-input-12-985f2117ac57>\u001b[0m in \u001b[0;36m<listcomp>\u001b[0;34m(.0)\u001b[0m\n\u001b[0;32m----> 1\u001b[0;31m \u001b[0;34m[\u001b[0m\u001b[0mres\u001b[0m\u001b[0;34m.\u001b[0m\u001b[0mratio\u001b[0m\u001b[0;34m(\u001b[0m\u001b[0mk\u001b[0m\u001b[0;34m)\u001b[0m \u001b[0;32mfor\u001b[0m \u001b[0mk\u001b[0m \u001b[0;32min\u001b[0m \u001b[0mres\u001b[0m\u001b[0;34m.\u001b[0m\u001b[0mquantities\u001b[0m\u001b[0;34m]\u001b[0m\u001b[0;34m\u001b[0m\u001b[0m\n\u001b[0m",
      "\u001b[0;32m/data/GitHub/2018/bw2-uncertainty/lca_variability/lca_variability.py\u001b[0m in \u001b[0;36mratio\u001b[0;34m(self, quantity)\u001b[0m\n\u001b[1;32m     56\u001b[0m     \u001b[0;32mdef\u001b[0m \u001b[0mratio\u001b[0m\u001b[0;34m(\u001b[0m\u001b[0mself\u001b[0m\u001b[0;34m,\u001b[0m \u001b[0mquantity\u001b[0m\u001b[0;34m)\u001b[0m\u001b[0;34m:\u001b[0m\u001b[0;34m\u001b[0m\u001b[0m\n\u001b[1;32m     57\u001b[0m         \u001b[0mscores\u001b[0m \u001b[0;34m=\u001b[0m \u001b[0;34m[\u001b[0m\u001b[0ms\u001b[0m \u001b[0;32mfor\u001b[0m \u001b[0ms\u001b[0m \u001b[0;32min\u001b[0m \u001b[0mself\u001b[0m\u001b[0;34m.\u001b[0m\u001b[0m_res_by_quantity\u001b[0m\u001b[0;34m(\u001b[0m\u001b[0mquantity\u001b[0m\u001b[0;34m)\u001b[0m\u001b[0;34m]\u001b[0m\u001b[0;34m\u001b[0m\u001b[0m\n\u001b[0;32m---> 58\u001b[0;31m         \u001b[0;32mreturn\u001b[0m \u001b[0mmax\u001b[0m\u001b[0;34m(\u001b[0m\u001b[0mabs\u001b[0m\u001b[0;34m(\u001b[0m\u001b[0mx\u001b[0m\u001b[0;34m)\u001b[0m \u001b[0;32mfor\u001b[0m \u001b[0mx\u001b[0m \u001b[0;32min\u001b[0m \u001b[0mscores\u001b[0m\u001b[0;34m)\u001b[0m \u001b[0;34m/\u001b[0m \u001b[0mmin\u001b[0m\u001b[0;34m(\u001b[0m\u001b[0mabs\u001b[0m\u001b[0;34m(\u001b[0m\u001b[0mx\u001b[0m\u001b[0;34m)\u001b[0m \u001b[0;32mfor\u001b[0m \u001b[0mx\u001b[0m \u001b[0;32min\u001b[0m \u001b[0mscores\u001b[0m\u001b[0;34m)\u001b[0m\u001b[0;34m\u001b[0m\u001b[0m\n\u001b[0m\u001b[1;32m     59\u001b[0m \u001b[0;34m\u001b[0m\u001b[0m\n\u001b[1;32m     60\u001b[0m     \u001b[0;34m@\u001b[0m\u001b[0mproperty\u001b[0m\u001b[0;34m\u001b[0m\u001b[0m\n",
      "\u001b[0;31mValueError\u001b[0m: max() arg is an empty sequence"
     ]
    }
   ],
   "source": [
    "[res.ratio(k) for k in res.quantities]"
   ]
  },
  {
   "cell_type": "code",
   "execution_count": 2,
   "metadata": {
    "collapsed": false,
    "deletable": true,
    "editable": true
   },
   "outputs": [
    {
     "name": "stdout",
     "output_type": "stream",
     "text": [
      "Loading JSON data from /data/GitHub/2018/bw2-uncertainty/catalog/index/ffc0f70037f9e921067e85ac7e2d4ff0ba1bc3b5.json.gz:\n",
      "local.ecoinvent.3.4.cutoff.index__20180905: /data/GitHub/2018/bw2-uncertainty/catalog/index/ffc0f70037f9e921067e85ac7e2d4ff0ba1bc3b5.json.gz\n",
      "local.ecoinvent.3.4.cutoff: /data/LCI/Ecoinvent/3.4/ecoinvent 3.4_cutoff_ecoSpold02\n",
      "13459 new process entities added (13459 total)\n",
      "19 new quantity entities added (19 total)\n",
      "4881 new flow entities added (4881 total)\n"
     ]
    }
   ],
   "source": [
    "brick = next(cat.query('local.ecoinvent.3.4.cutoff').processes(Name=('brick', 'sand', 'lime'), SpatialScope='DE'))"
   ]
  },
  {
   "cell_type": "code",
   "execution_count": 3,
   "metadata": {
    "collapsed": false,
    "deletable": true,
    "editable": true
   },
   "outputs": [
    {
     "name": "stdout",
     "output_type": "stream",
     "text": [
      "ProcessRef catalog reference (5e2a6f63-1c69-4e74-b41d-13bc15431144)\n",
      "origin: local.ecoinvent.3.4.cutoff\n",
      "UUID: 5e2a6f63-1c69-4e74-b41d-13bc15431144\n",
      "   Name: sand-lime brick production\n",
      "Comment: This dataset represents the production of 1 kg of sand-lime brick. It is assumed a company that has a yearly production of 120.000 tons and a lifespan of 50 years. The air emissions should all stem from combustion processes, and additional air emissions are not measured.\n",
      "==Local Fields==\n",
      "           Name: sand-lime brick production\n",
      "   SpatialScope: DE\n",
      "  TemporalScope: {'begin': '1993-01-01', 'end': '2017-12-31'}\n",
      "Classifications: ['EcoSpold01Categories: construction materials/bricks', 'ISIC rev.4 ecoinvent: 2395:Manufacture of articles of concrete, cement and plaster']\n",
      "        Comment: This dataset represents the production of 1 kg of sand-lime brick. It is assumed a company that has a yearly production of 120.000 tons and a lifespan of 50 years. The air emissions should all stem from combustion processes, and additional air emissions are not measured.\n"
     ]
    }
   ],
   "source": [
    "brick.show()"
   ]
  },
  {
   "cell_type": "code",
   "execution_count": 11,
   "metadata": {
    "collapsed": true,
    "deletable": true,
    "editable": true
   },
   "outputs": [],
   "source": [
    "q = recipes[17]"
   ]
  },
  {
   "cell_type": "code",
   "execution_count": 12,
   "metadata": {
    "collapsed": false,
    "deletable": true,
    "editable": true
   },
   "outputs": [
    {
     "name": "stdout",
     "output_type": "stream",
     "text": [
      "completed 63 iterations\n"
     ]
    }
   ],
   "source": [
    "res = q.do_lcia(brick.lci())"
   ]
  },
  {
   "cell_type": "code",
   "execution_count": 14,
   "metadata": {
    "collapsed": false,
    "deletable": true,
    "editable": true
   },
   "outputs": [
    {
     "name": "stdout",
     "output_type": "stream",
     "text": [
      "ReCiPe Midpoint (H), marine eutrophication, MEP [kg N-Eq] [LCIA] kg N-Eq\n",
      "------------------------------------------------------------\n",
      "  3.63e-05  local.ecoinvent.3.4.cutoff/77357947-ccc5-438e-9996-95e65e1e1bce Nitrogen oxides [kg]\n",
      "  3.03e-05  local.ecoinvent.3.4.cutoff/c1b91234-6f24-417b-8309-46111d09c457 Nitrogen oxides [kg]\n",
      "  1.59e-05  local.ecoinvent.3.4.cutoff/d068f3e2-b033-417b-a359-ca4f25da9731 Nitrogen oxides [kg]\n",
      "  4.93e-06  local.ecoinvent.3.4.cutoff/b61057a3-a0bc-4158-882e-b819c4797419 Nitrate [kg]\n",
      "  1.07e-06  local.ecoinvent.3.4.cutoff/7ce56135-2ca5-4fba-ad52-d62a34bfeb35 Nitrate [kg]\n",
      "   6.8e-07  local.ecoinvent.3.4.cutoff/15cfc784-a719-4230-ad2e-f4104d56c427 Nitrogen, organic bound [kg]\n",
      "  6.78e-07  local.ecoinvent.3.4.cutoff/13331e67-6006-48c4-bdb4-340c12010036 Ammonium, ion [kg]\n",
      "  6.72e-07  local.ecoinvent.3.4.cutoff/0f440cc0-0f74-446d-99d6-8ff0e97a2444 Ammonia [kg]\n",
      "  3.65e-07  local.ecoinvent.3.4.cutoff/87883a4e-1e3e-4c9d-90c0-f1bea36f8014 Ammonia [kg]\n",
      "  3.24e-07  local.ecoinvent.3.4.cutoff/130cedc6-f6ed-4f1b-bd1e-881177f79e74 Ammonium, ion [kg]\n",
      "   2.8e-07  local.ecoinvent.3.4.cutoff/b9291c72-4b1d-4275-8068-4c707dc3ce33 Nitrate [kg]\n",
      "  2.61e-07  local.ecoinvent.3.4.cutoff/ae70ca6c-807a-482b-9ddc-e449b4893fe3 Nitrogen [kg]\n",
      "  1.62e-07  local.ecoinvent.3.4.cutoff/d43f7827-b47b-4652-8366-f370995fd206 Nitrogen, organic bound [kg]\n",
      "  7.84e-08  local.ecoinvent.3.4.cutoff/9990b51b-7023-4700-bca0-1a32ef921f74 Ammonia [kg]\n",
      "  4.41e-08  local.ecoinvent.3.4.cutoff/77c7dcf8-1d10-4725-9f8f-bcdccaed0836 Nitrogen, organic bound [kg]\n",
      "  1.98e-08  local.ecoinvent.3.4.cutoff/bc069d24-fbbd-4c05-8b6e-4089dc8249ae Ammonium, ion [kg]\n",
      "  1.31e-08  local.ecoinvent.3.4.cutoff/43c700bb-0b3b-4fb1-8bd1-3d1da82b6844 Nitrate [kg]\n",
      "   1.1e-08  local.ecoinvent.3.4.cutoff/fb005c47-7b90-41f3-a5ca-f0eb11db354a Ammonium, ion [kg]\n",
      "  7.58e-09  local.ecoinvent.3.4.cutoff/736f52e8-9703-4076-8909-7ae80a7f8005 Ammonium, ion [kg]\n",
      "   1.5e-09  local.ecoinvent.3.4.cutoff/dcfe0815-6fa3-4e1d-a55e-155b29904f1d Nitrogen [kg]\n",
      "  9.44e-10  local.ecoinvent.3.4.cutoff/4841a0fe-c250-4a39-94a1-1bc31426c0f1 Nitrogen oxides [kg]\n",
      "  6.44e-10  local.ecoinvent.3.4.cutoff/b646bb3e-65e2-4f85-8376-9408e94e4b59 Nitrogen, organic bound [kg]\n",
      "  2.33e-10  local.ecoinvent.3.4.cutoff/996829cc-2d40-418a-beda-7c50399952f9 Nitrogen [kg]\n",
      "  1.65e-10  local.ecoinvent.3.4.cutoff/5e7cf95c-9cc3-4479-89af-55377b3db99c Nitrate [kg]\n",
      "   1.2e-10  local.ecoinvent.3.4.cutoff/2b50f643-216a-412b-a0e5-5946867aa2ed Ammonia [kg]\n",
      "  7.64e-11  local.ecoinvent.3.4.cutoff/9115356e-a534-4329-9ec6-d9208720241b Nitrogen oxides [kg]\n",
      "  1.38e-11  local.ecoinvent.3.4.cutoff/205617ae-ebc5-4245-8df6-8710d5d40615 Nitrate [kg]\n",
      "  4.73e-12  local.ecoinvent.3.4.cutoff/cbd70647-6237-462a-9d01-d197a8b08506 Nitrate [kg]\n",
      "  1.37e-12  local.ecoinvent.3.4.cutoff/5189de76-6bbb-44ba-8c42-5714f1b4371f Nitrate [kg]\n",
      "  1.42e-13  local.ecoinvent.3.4.cutoff/15ca802b-f541-44aa-bd33-35560a053193 Nitrate [kg]\n",
      "  1.46e-14  local.ecoinvent.3.4.cutoff/a703733d-fabc-487b-826a-06c11ac4c0c6 Nitrogen, organic bound [kg]\n",
      "==========\n",
      "  9.22e-05 ReCiPe Midpoint (H), marine eutrophication, MEP [kg N-Eq] [LCIA]\n"
     ]
    }
   ],
   "source": [
    "res.show_components()"
   ]
  },
  {
   "cell_type": "code",
   "execution_count": 23,
   "metadata": {
    "collapsed": false,
    "deletable": true,
    "editable": true
   },
   "outputs": [
    {
     "name": "stdout",
     "output_type": "stream",
     "text": [
      " [00] local.lcia.ecoinvent.3.1.2014_08_13\n",
      " [01] local.lcia.ecoinvent.3.1.2014_08_13.index__20180906\n"
     ]
    },
    {
     "data": {
      "text/plain": [
       "['local.lcia.ecoinvent.3.1.2014_08_13',\n",
       " 'local.lcia.ecoinvent.3.1.2014_08_13.index__20180906']"
      ]
     },
     "execution_count": 23,
     "metadata": {},
     "output_type": "execute_result"
    }
   ],
   "source": [
    "enum(res._archive.catalog_names)"
   ]
  },
  {
   "cell_type": "code",
   "execution_count": 24,
   "metadata": {
    "collapsed": false,
    "deletable": true,
    "editable": true
   },
   "outputs": [
    {
     "ename": "TypeError",
     "evalue": "Object of type 'LcUnit' is not JSON serializable",
     "output_type": "error",
     "traceback": [
      "\u001b[0;31m---------------------------------------------------------------------------\u001b[0m",
      "\u001b[0;31mTypeError\u001b[0m                                 Traceback (most recent call last)",
      "\u001b[0;32m<ipython-input-24-434f9c222151>\u001b[0m in \u001b[0;36m<module>\u001b[0;34m()\u001b[0m\n\u001b[1;32m      1\u001b[0m res._archive.write_to_file('/data/GitHub/2018/bw2-uncertainty/catalog/index/55f083125ba933efd855bc1644b2be829d032796.json.gz',\n\u001b[0;32m----> 2\u001b[0;31m                           gzip=True, characterizations=False, values=False)\n\u001b[0m",
      "\u001b[0;32m/data/GitHub/lca-tools/lcatools/archives/entity_store.py\u001b[0m in \u001b[0;36mwrite_to_file\u001b[0;34m(self, filename, gzip, complete, ref_suffix, **kwargs)\u001b[0m\n\u001b[1;32m    599\u001b[0m             \u001b[0;32mif\u001b[0m \u001b[0msix\u001b[0m\u001b[0;34m.\u001b[0m\u001b[0mPY3\u001b[0m\u001b[0;34m:\u001b[0m  \u001b[0;31m# python3\u001b[0m\u001b[0;34m\u001b[0m\u001b[0m\n\u001b[1;32m    600\u001b[0m                 \u001b[0;32mwith\u001b[0m \u001b[0mgz\u001b[0m\u001b[0;34m.\u001b[0m\u001b[0mopen\u001b[0m\u001b[0;34m(\u001b[0m\u001b[0mfilename\u001b[0m\u001b[0;34m,\u001b[0m \u001b[0;34m'wt'\u001b[0m\u001b[0;34m)\u001b[0m \u001b[0;32mas\u001b[0m \u001b[0mfp\u001b[0m\u001b[0;34m:\u001b[0m\u001b[0;34m\u001b[0m\u001b[0m\n\u001b[0;32m--> 601\u001b[0;31m                     \u001b[0mjson\u001b[0m\u001b[0;34m.\u001b[0m\u001b[0mdump\u001b[0m\u001b[0;34m(\u001b[0m\u001b[0ms\u001b[0m\u001b[0;34m,\u001b[0m \u001b[0mfp\u001b[0m\u001b[0;34m,\u001b[0m \u001b[0mindent\u001b[0m\u001b[0;34m=\u001b[0m\u001b[0;36m2\u001b[0m\u001b[0;34m,\u001b[0m \u001b[0msort_keys\u001b[0m\u001b[0;34m=\u001b[0m\u001b[0;32mTrue\u001b[0m\u001b[0;34m)\u001b[0m\u001b[0;34m\u001b[0m\u001b[0m\n\u001b[0m\u001b[1;32m    602\u001b[0m             \u001b[0;32melse\u001b[0m\u001b[0;34m:\u001b[0m  \u001b[0;31m# python2\u001b[0m\u001b[0;34m\u001b[0m\u001b[0m\n\u001b[1;32m    603\u001b[0m                 \u001b[0;32mwith\u001b[0m \u001b[0mgz\u001b[0m\u001b[0;34m.\u001b[0m\u001b[0mopen\u001b[0m\u001b[0;34m(\u001b[0m\u001b[0mfilename\u001b[0m\u001b[0;34m,\u001b[0m \u001b[0;34m'w'\u001b[0m\u001b[0;34m)\u001b[0m \u001b[0;32mas\u001b[0m \u001b[0mfp\u001b[0m\u001b[0;34m:\u001b[0m\u001b[0;34m\u001b[0m\u001b[0m\n",
      "\u001b[0;32m/usr/lib64/python3.6/json/__init__.py\u001b[0m in \u001b[0;36mdump\u001b[0;34m(obj, fp, skipkeys, ensure_ascii, check_circular, allow_nan, cls, indent, separators, default, sort_keys, **kw)\u001b[0m\n\u001b[1;32m    177\u001b[0m     \u001b[0;31m# could accelerate with writelines in some versions of Python, at\u001b[0m\u001b[0;34m\u001b[0m\u001b[0;34m\u001b[0m\u001b[0m\n\u001b[1;32m    178\u001b[0m     \u001b[0;31m# a debuggability cost\u001b[0m\u001b[0;34m\u001b[0m\u001b[0;34m\u001b[0m\u001b[0m\n\u001b[0;32m--> 179\u001b[0;31m     \u001b[0;32mfor\u001b[0m \u001b[0mchunk\u001b[0m \u001b[0;32min\u001b[0m \u001b[0miterable\u001b[0m\u001b[0;34m:\u001b[0m\u001b[0;34m\u001b[0m\u001b[0m\n\u001b[0m\u001b[1;32m    180\u001b[0m         \u001b[0mfp\u001b[0m\u001b[0;34m.\u001b[0m\u001b[0mwrite\u001b[0m\u001b[0;34m(\u001b[0m\u001b[0mchunk\u001b[0m\u001b[0;34m)\u001b[0m\u001b[0;34m\u001b[0m\u001b[0m\n\u001b[1;32m    181\u001b[0m \u001b[0;34m\u001b[0m\u001b[0m\n",
      "\u001b[0;32m/usr/lib64/python3.6/json/encoder.py\u001b[0m in \u001b[0;36m_iterencode\u001b[0;34m(o, _current_indent_level)\u001b[0m\n\u001b[1;32m    428\u001b[0m             \u001b[0;32myield\u001b[0m \u001b[0;32mfrom\u001b[0m \u001b[0m_iterencode_list\u001b[0m\u001b[0;34m(\u001b[0m\u001b[0mo\u001b[0m\u001b[0;34m,\u001b[0m \u001b[0m_current_indent_level\u001b[0m\u001b[0;34m)\u001b[0m\u001b[0;34m\u001b[0m\u001b[0m\n\u001b[1;32m    429\u001b[0m         \u001b[0;32melif\u001b[0m \u001b[0misinstance\u001b[0m\u001b[0;34m(\u001b[0m\u001b[0mo\u001b[0m\u001b[0;34m,\u001b[0m \u001b[0mdict\u001b[0m\u001b[0;34m)\u001b[0m\u001b[0;34m:\u001b[0m\u001b[0;34m\u001b[0m\u001b[0m\n\u001b[0;32m--> 430\u001b[0;31m             \u001b[0;32myield\u001b[0m \u001b[0;32mfrom\u001b[0m \u001b[0m_iterencode_dict\u001b[0m\u001b[0;34m(\u001b[0m\u001b[0mo\u001b[0m\u001b[0;34m,\u001b[0m \u001b[0m_current_indent_level\u001b[0m\u001b[0;34m)\u001b[0m\u001b[0;34m\u001b[0m\u001b[0m\n\u001b[0m\u001b[1;32m    431\u001b[0m         \u001b[0;32melse\u001b[0m\u001b[0;34m:\u001b[0m\u001b[0;34m\u001b[0m\u001b[0m\n\u001b[1;32m    432\u001b[0m             \u001b[0;32mif\u001b[0m \u001b[0mmarkers\u001b[0m \u001b[0;32mis\u001b[0m \u001b[0;32mnot\u001b[0m \u001b[0;32mNone\u001b[0m\u001b[0;34m:\u001b[0m\u001b[0;34m\u001b[0m\u001b[0m\n",
      "\u001b[0;32m/usr/lib64/python3.6/json/encoder.py\u001b[0m in \u001b[0;36m_iterencode_dict\u001b[0;34m(dct, _current_indent_level)\u001b[0m\n\u001b[1;32m    402\u001b[0m                 \u001b[0;32melse\u001b[0m\u001b[0;34m:\u001b[0m\u001b[0;34m\u001b[0m\u001b[0m\n\u001b[1;32m    403\u001b[0m                     \u001b[0mchunks\u001b[0m \u001b[0;34m=\u001b[0m \u001b[0m_iterencode\u001b[0m\u001b[0;34m(\u001b[0m\u001b[0mvalue\u001b[0m\u001b[0;34m,\u001b[0m \u001b[0m_current_indent_level\u001b[0m\u001b[0;34m)\u001b[0m\u001b[0;34m\u001b[0m\u001b[0m\n\u001b[0;32m--> 404\u001b[0;31m                 \u001b[0;32myield\u001b[0m \u001b[0;32mfrom\u001b[0m \u001b[0mchunks\u001b[0m\u001b[0;34m\u001b[0m\u001b[0m\n\u001b[0m\u001b[1;32m    405\u001b[0m         \u001b[0;32mif\u001b[0m \u001b[0mnewline_indent\u001b[0m \u001b[0;32mis\u001b[0m \u001b[0;32mnot\u001b[0m \u001b[0;32mNone\u001b[0m\u001b[0;34m:\u001b[0m\u001b[0;34m\u001b[0m\u001b[0m\n\u001b[1;32m    406\u001b[0m             \u001b[0m_current_indent_level\u001b[0m \u001b[0;34m-=\u001b[0m \u001b[0;36m1\u001b[0m\u001b[0;34m\u001b[0m\u001b[0m\n",
      "\u001b[0;32m/usr/lib64/python3.6/json/encoder.py\u001b[0m in \u001b[0;36m_iterencode_list\u001b[0;34m(lst, _current_indent_level)\u001b[0m\n\u001b[1;32m    323\u001b[0m                 \u001b[0;32melse\u001b[0m\u001b[0;34m:\u001b[0m\u001b[0;34m\u001b[0m\u001b[0m\n\u001b[1;32m    324\u001b[0m                     \u001b[0mchunks\u001b[0m \u001b[0;34m=\u001b[0m \u001b[0m_iterencode\u001b[0m\u001b[0;34m(\u001b[0m\u001b[0mvalue\u001b[0m\u001b[0;34m,\u001b[0m \u001b[0m_current_indent_level\u001b[0m\u001b[0;34m)\u001b[0m\u001b[0;34m\u001b[0m\u001b[0m\n\u001b[0;32m--> 325\u001b[0;31m                 \u001b[0;32myield\u001b[0m \u001b[0;32mfrom\u001b[0m \u001b[0mchunks\u001b[0m\u001b[0;34m\u001b[0m\u001b[0m\n\u001b[0m\u001b[1;32m    326\u001b[0m         \u001b[0;32mif\u001b[0m \u001b[0mnewline_indent\u001b[0m \u001b[0;32mis\u001b[0m \u001b[0;32mnot\u001b[0m \u001b[0;32mNone\u001b[0m\u001b[0;34m:\u001b[0m\u001b[0;34m\u001b[0m\u001b[0m\n\u001b[1;32m    327\u001b[0m             \u001b[0m_current_indent_level\u001b[0m \u001b[0;34m-=\u001b[0m \u001b[0;36m1\u001b[0m\u001b[0;34m\u001b[0m\u001b[0m\n",
      "\u001b[0;32m/usr/lib64/python3.6/json/encoder.py\u001b[0m in \u001b[0;36m_iterencode_dict\u001b[0;34m(dct, _current_indent_level)\u001b[0m\n\u001b[1;32m    402\u001b[0m                 \u001b[0;32melse\u001b[0m\u001b[0;34m:\u001b[0m\u001b[0;34m\u001b[0m\u001b[0m\n\u001b[1;32m    403\u001b[0m                     \u001b[0mchunks\u001b[0m \u001b[0;34m=\u001b[0m \u001b[0m_iterencode\u001b[0m\u001b[0;34m(\u001b[0m\u001b[0mvalue\u001b[0m\u001b[0;34m,\u001b[0m \u001b[0m_current_indent_level\u001b[0m\u001b[0;34m)\u001b[0m\u001b[0;34m\u001b[0m\u001b[0m\n\u001b[0;32m--> 404\u001b[0;31m                 \u001b[0;32myield\u001b[0m \u001b[0;32mfrom\u001b[0m \u001b[0mchunks\u001b[0m\u001b[0;34m\u001b[0m\u001b[0m\n\u001b[0m\u001b[1;32m    405\u001b[0m         \u001b[0;32mif\u001b[0m \u001b[0mnewline_indent\u001b[0m \u001b[0;32mis\u001b[0m \u001b[0;32mnot\u001b[0m \u001b[0;32mNone\u001b[0m\u001b[0;34m:\u001b[0m\u001b[0;34m\u001b[0m\u001b[0m\n\u001b[1;32m    406\u001b[0m             \u001b[0m_current_indent_level\u001b[0m \u001b[0;34m-=\u001b[0m \u001b[0;36m1\u001b[0m\u001b[0;34m\u001b[0m\u001b[0m\n",
      "\u001b[0;32m/usr/lib64/python3.6/json/encoder.py\u001b[0m in \u001b[0;36m_iterencode\u001b[0;34m(o, _current_indent_level)\u001b[0m\n\u001b[1;32m    435\u001b[0m                     \u001b[0;32mraise\u001b[0m \u001b[0mValueError\u001b[0m\u001b[0;34m(\u001b[0m\u001b[0;34m\"Circular reference detected\"\u001b[0m\u001b[0;34m)\u001b[0m\u001b[0;34m\u001b[0m\u001b[0m\n\u001b[1;32m    436\u001b[0m                 \u001b[0mmarkers\u001b[0m\u001b[0;34m[\u001b[0m\u001b[0mmarkerid\u001b[0m\u001b[0;34m]\u001b[0m \u001b[0;34m=\u001b[0m \u001b[0mo\u001b[0m\u001b[0;34m\u001b[0m\u001b[0m\n\u001b[0;32m--> 437\u001b[0;31m             \u001b[0mo\u001b[0m \u001b[0;34m=\u001b[0m \u001b[0m_default\u001b[0m\u001b[0;34m(\u001b[0m\u001b[0mo\u001b[0m\u001b[0;34m)\u001b[0m\u001b[0;34m\u001b[0m\u001b[0m\n\u001b[0m\u001b[1;32m    438\u001b[0m             \u001b[0;32myield\u001b[0m \u001b[0;32mfrom\u001b[0m \u001b[0m_iterencode\u001b[0m\u001b[0;34m(\u001b[0m\u001b[0mo\u001b[0m\u001b[0;34m,\u001b[0m \u001b[0m_current_indent_level\u001b[0m\u001b[0;34m)\u001b[0m\u001b[0;34m\u001b[0m\u001b[0m\n\u001b[1;32m    439\u001b[0m             \u001b[0;32mif\u001b[0m \u001b[0mmarkers\u001b[0m \u001b[0;32mis\u001b[0m \u001b[0;32mnot\u001b[0m \u001b[0;32mNone\u001b[0m\u001b[0;34m:\u001b[0m\u001b[0;34m\u001b[0m\u001b[0m\n",
      "\u001b[0;32m/usr/lib64/python3.6/json/encoder.py\u001b[0m in \u001b[0;36mdefault\u001b[0;34m(self, o)\u001b[0m\n\u001b[1;32m    178\u001b[0m         \"\"\"\n\u001b[1;32m    179\u001b[0m         raise TypeError(\"Object of type '%s' is not JSON serializable\" %\n\u001b[0;32m--> 180\u001b[0;31m                         o.__class__.__name__)\n\u001b[0m\u001b[1;32m    181\u001b[0m \u001b[0;34m\u001b[0m\u001b[0m\n\u001b[1;32m    182\u001b[0m     \u001b[0;32mdef\u001b[0m \u001b[0mencode\u001b[0m\u001b[0;34m(\u001b[0m\u001b[0mself\u001b[0m\u001b[0;34m,\u001b[0m \u001b[0mo\u001b[0m\u001b[0;34m)\u001b[0m\u001b[0;34m:\u001b[0m\u001b[0;34m\u001b[0m\u001b[0m\n",
      "\u001b[0;31mTypeError\u001b[0m: Object of type 'LcUnit' is not JSON serializable"
     ]
    }
   ],
   "source": [
    "res._archive.write_to_file('/data/GitHub/2018/bw2-uncertainty/catalog/index/55f083125ba933efd855bc1644b2be829d032796.json.gz',\n",
    "                          gzip=True, characterizations=False, values=False)"
   ]
  },
  {
   "cell_type": "code",
   "execution_count": 19,
   "metadata": {
    "collapsed": false,
    "deletable": true,
    "editable": true
   },
   "outputs": [
    {
     "name": "stdout",
     "output_type": "stream",
     "text": [
      "local.lcia.ecoinvent.3.1.2014_08_13.index__20180906: /data/GitHub/2018/bw2-uncertainty/catalog/index/55f083125ba933efd855bc1644b2be829d032796.json.gz\n"
     ]
    },
    {
     "ename": "TypeError",
     "evalue": "serialize() got an unexpected keyword argument 'exchanges'",
     "output_type": "error",
     "traceback": [
      "\u001b[0;31m---------------------------------------------------------------------------\u001b[0m",
      "\u001b[0;31mTypeError\u001b[0m                                 Traceback (most recent call last)",
      "\u001b[0;32m<ipython-input-19-c0e3d735e26c>\u001b[0m in \u001b[0;36m<module>\u001b[0;34m()\u001b[0m\n\u001b[0;32m----> 1\u001b[0;31m \u001b[0mcat\u001b[0m\u001b[0;34m.\u001b[0m\u001b[0mindex_resource\u001b[0m\u001b[0;34m(\u001b[0m\u001b[0;34m'local.lcia.ecoinvent.3.1.2014_08_13'\u001b[0m\u001b[0;34m)\u001b[0m\u001b[0;34m\u001b[0m\u001b[0m\n\u001b[0m",
      "\u001b[0;32m/data/GitHub/lca-tools/antelope_catalog/catalog/catalog.py\u001b[0m in \u001b[0;36mindex_resource\u001b[0;34m(self, origin, interface, source, priority, force)\u001b[0m\n\u001b[1;32m    363\u001b[0m         \"\"\"\n\u001b[1;32m    364\u001b[0m         \u001b[0msource\u001b[0m \u001b[0;34m=\u001b[0m \u001b[0mself\u001b[0m\u001b[0;34m.\u001b[0m\u001b[0m_find_single_source\u001b[0m\u001b[0;34m(\u001b[0m\u001b[0morigin\u001b[0m\u001b[0;34m,\u001b[0m \u001b[0minterface\u001b[0m\u001b[0;34m,\u001b[0m \u001b[0msource\u001b[0m\u001b[0;34m=\u001b[0m\u001b[0msource\u001b[0m\u001b[0;34m)\u001b[0m\u001b[0;34m\u001b[0m\u001b[0m\n\u001b[0;32m--> 365\u001b[0;31m         \u001b[0;32mreturn\u001b[0m \u001b[0mself\u001b[0m\u001b[0;34m.\u001b[0m\u001b[0m_index_source\u001b[0m\u001b[0;34m(\u001b[0m\u001b[0msource\u001b[0m\u001b[0;34m,\u001b[0m \u001b[0mpriority\u001b[0m\u001b[0;34m,\u001b[0m \u001b[0mforce\u001b[0m\u001b[0;34m=\u001b[0m\u001b[0mforce\u001b[0m\u001b[0;34m)\u001b[0m\u001b[0;34m\u001b[0m\u001b[0m\n\u001b[0m\u001b[1;32m    366\u001b[0m \u001b[0;34m\u001b[0m\u001b[0m\n\u001b[1;32m    367\u001b[0m     \u001b[0;32mdef\u001b[0m \u001b[0mcreate_source_cache\u001b[0m\u001b[0;34m(\u001b[0m\u001b[0mself\u001b[0m\u001b[0;34m,\u001b[0m \u001b[0msource\u001b[0m\u001b[0;34m,\u001b[0m \u001b[0mstatic\u001b[0m\u001b[0;34m=\u001b[0m\u001b[0;32mFalse\u001b[0m\u001b[0;34m)\u001b[0m\u001b[0;34m:\u001b[0m\u001b[0;34m\u001b[0m\u001b[0m\n",
      "\u001b[0;32m/data/GitHub/lca-tools/antelope_catalog/catalog/catalog.py\u001b[0m in \u001b[0;36m_index_source\u001b[0;34m(self, source, priority, force)\u001b[0m\n\u001b[1;32m    341\u001b[0m                 \u001b[0;32mreturn\u001b[0m \u001b[0mex_res\u001b[0m\u001b[0;34m.\u001b[0m\u001b[0mreference\u001b[0m\u001b[0;34m\u001b[0m\u001b[0m\n\u001b[1;32m    342\u001b[0m             \u001b[0mprint\u001b[0m\u001b[0;34m(\u001b[0m\u001b[0;34m'Re-indexing %s'\u001b[0m \u001b[0;34m%\u001b[0m \u001b[0msource\u001b[0m\u001b[0;34m)\u001b[0m\u001b[0;34m\u001b[0m\u001b[0m\n\u001b[0;32m--> 343\u001b[0;31m         \u001b[0mnew_ref\u001b[0m \u001b[0;34m=\u001b[0m \u001b[0mres\u001b[0m\u001b[0;34m.\u001b[0m\u001b[0mmake_index\u001b[0m\u001b[0;34m(\u001b[0m\u001b[0minx_file\u001b[0m\u001b[0;34m)\u001b[0m\u001b[0;34m\u001b[0m\u001b[0m\n\u001b[0m\u001b[1;32m    344\u001b[0m         self._resolver.new_resource(new_ref, inx_file, 'json', priority=priority, store=stored, interfaces='index',\n\u001b[1;32m    345\u001b[0m                                     _internal=True, static=True, preload_archive=res.archive)\n",
      "\u001b[0;32m/data/GitHub/lca-tools/antelope_catalog/lc_resource.py\u001b[0m in \u001b[0;36mmake_index\u001b[0;34m(self, index_file)\u001b[0m\n\u001b[1;32m    101\u001b[0m         \u001b[0;31m# note: archive ref is updated by writing index\u001b[0m\u001b[0;34m\u001b[0m\u001b[0;34m\u001b[0m\u001b[0m\n\u001b[1;32m    102\u001b[0m         self._archive.write_to_file(index_file, gzip=True, ref_suffix=suffix,\n\u001b[0;32m--> 103\u001b[0;31m                                     exchanges=False, characterizations=False, values=False)\n\u001b[0m\u001b[1;32m    104\u001b[0m         \u001b[0;32mreturn\u001b[0m \u001b[0mself\u001b[0m\u001b[0;34m.\u001b[0m\u001b[0m_archive\u001b[0m\u001b[0;34m.\u001b[0m\u001b[0mref\u001b[0m\u001b[0;34m\u001b[0m\u001b[0m\n\u001b[1;32m    105\u001b[0m \u001b[0;34m\u001b[0m\u001b[0m\n",
      "\u001b[0;32m/data/GitHub/lca-tools/lcatools/archives/entity_store.py\u001b[0m in \u001b[0;36mwrite_to_file\u001b[0;34m(self, filename, gzip, complete, ref_suffix, **kwargs)\u001b[0m\n\u001b[1;32m    593\u001b[0m             \u001b[0ms\u001b[0m \u001b[0;34m=\u001b[0m \u001b[0mself\u001b[0m\u001b[0;34m.\u001b[0m\u001b[0m_serialize_all\u001b[0m\u001b[0;34m(\u001b[0m\u001b[0;34m**\u001b[0m\u001b[0mkwargs\u001b[0m\u001b[0;34m)\u001b[0m\u001b[0;34m\u001b[0m\u001b[0m\n\u001b[1;32m    594\u001b[0m         \u001b[0;32melse\u001b[0m\u001b[0;34m:\u001b[0m\u001b[0;34m\u001b[0m\u001b[0m\n\u001b[0;32m--> 595\u001b[0;31m             \u001b[0ms\u001b[0m \u001b[0;34m=\u001b[0m \u001b[0mself\u001b[0m\u001b[0;34m.\u001b[0m\u001b[0mserialize\u001b[0m\u001b[0;34m(\u001b[0m\u001b[0;34m**\u001b[0m\u001b[0mkwargs\u001b[0m\u001b[0;34m)\u001b[0m\u001b[0;34m\u001b[0m\u001b[0m\n\u001b[0m\u001b[1;32m    596\u001b[0m         \u001b[0;32mif\u001b[0m \u001b[0mgzip\u001b[0m \u001b[0;32mis\u001b[0m \u001b[0;32mTrue\u001b[0m\u001b[0;34m:\u001b[0m\u001b[0;34m\u001b[0m\u001b[0m\n\u001b[1;32m    597\u001b[0m             \u001b[0;32mif\u001b[0m \u001b[0;32mnot\u001b[0m \u001b[0mbool\u001b[0m\u001b[0;34m(\u001b[0m\u001b[0mre\u001b[0m\u001b[0;34m.\u001b[0m\u001b[0msearch\u001b[0m\u001b[0;34m(\u001b[0m\u001b[0;34m'\\.gz$'\u001b[0m\u001b[0;34m,\u001b[0m \u001b[0mfilename\u001b[0m\u001b[0;34m)\u001b[0m\u001b[0;34m)\u001b[0m\u001b[0;34m:\u001b[0m\u001b[0;34m\u001b[0m\u001b[0m\n",
      "\u001b[0;31mTypeError\u001b[0m: serialize() got an unexpected keyword argument 'exchanges'"
     ]
    }
   ],
   "source": [
    "cat.index_resource('local.lcia.ecoinvent.3.1.2014_08_13')"
   ]
  },
  {
   "cell_type": "code",
   "execution_count": 139,
   "metadata": {
    "collapsed": false
   },
   "outputs": [
    {
     "data": {
      "text/plain": [
       "['local.ecoinvent.3.4.apos',\n",
       " 'local.ecoinvent.3.4.apos.index__20180905',\n",
       " 'local.ecoinvent.3.4.conseq',\n",
       " 'local.ecoinvent.3.4.cutoff',\n",
       " 'local.ecoinvent.3.4.cutoff.index__20180905',\n",
       " 'local.lcia.ecoinvent.3.1.2014_08_13',\n",
       " 'local.qdb']"
      ]
     },
     "execution_count": 139,
     "metadata": {},
     "output_type": "execute_result"
    }
   ],
   "source": [
    "[k for k in cat.references]"
   ]
  },
  {
   "cell_type": "code",
   "execution_count": 143,
   "metadata": {
    "collapsed": false
   },
   "outputs": [
    {
     "data": {
      "text/plain": [
       "['esterification of soybean oil',\n",
       " 'esterification of soybean oil',\n",
       " 'esterification of soybean oil',\n",
       " 'fatty acid production, from soybean oil',\n",
       " 'fatty acid production, from soybean oil',\n",
       " 'market for soybean',\n",
       " 'market for soybean beverage',\n",
       " 'market for soybean meal',\n",
       " 'market for soybean oil, crude',\n",
       " 'market for soybean oil, refined',\n",
       " 'market for soybean seed, for sowing',\n",
       " 'market for soybean seed, organic, for sowing',\n",
       " 'market for soybean, Swiss integrated production',\n",
       " 'market for soybean, feed',\n",
       " 'market for soybean, organic',\n",
       " 'soybean beverage production',\n",
       " 'soybean beverage production',\n",
       " 'soybean meal and crude oil production',\n",
       " 'soybean meal and crude oil production',\n",
       " 'soybean meal and crude oil production',\n",
       " 'soybean meal and crude oil production',\n",
       " 'soybean meal and crude oil production, mechanical extraction',\n",
       " 'soybean meal and crude oil production, mechanical extraction',\n",
       " 'soybean meal to generic market for protein feed',\n",
       " 'soybean oil refinery operation',\n",
       " 'soybean oil refinery operation',\n",
       " 'soybean oil, refined, to generic market for vegetable oil, refined',\n",
       " 'soybean production',\n",
       " 'soybean production',\n",
       " 'soybean production',\n",
       " 'soybean production',\n",
       " 'soybean production',\n",
       " 'soybean production',\n",
       " 'soybean production, Swiss integrated production, intensive',\n",
       " 'soybean production, Swiss integrated production, intensive',\n",
       " 'soybean production, organic',\n",
       " 'soybean production, organic',\n",
       " 'soybean seed production, for sowing',\n",
       " 'soybean seed production, for sowing',\n",
       " 'soybean seed production, organic, for sowing',\n",
       " 'soybean seed production, organic, for sowing',\n",
       " 'soybean, feed production',\n",
       " 'soybean, feed production']"
      ]
     },
     "execution_count": 143,
     "metadata": {},
     "output_type": "execute_result"
    }
   ],
   "source": [
    "sorted(k['Name'] for k in cat.query('local.ecoinvent.3.4.cutoff').processes(Name=('soybean')))"
   ]
  },
  {
   "cell_type": "code",
   "execution_count": 144,
   "metadata": {
    "collapsed": true
   },
   "outputs": [],
   "source": [
    "q = cat.query('local.ecoinvent.3.4.cutoff')"
   ]
  },
  {
   "cell_type": "code",
   "execution_count": 145,
   "metadata": {
    "collapsed": true
   },
   "outputs": [],
   "source": [
    "mkt = next(q.processes(Name='soybean, feed production'))"
   ]
  },
  {
   "cell_type": "code",
   "execution_count": 150,
   "metadata": {
    "collapsed": false
   },
   "outputs": [
    {
     "data": {
      "text/plain": [
       "[' Input:     [8.5e-06 [m3]] (#) building, multi-storey [CPC: 531: Buildings]',\n",
       " ' Input:     [1 [kg]] (#) soybean [CPC: 01412: Soya beans, other]',\n",
       " ' Input:     [0.033 [MJ]] (#) heat, district or industrial, natural gas [CPC: 17300: Steam and hot water]',\n",
       " ' Input:     [0.062 [MJ]] (#) heat, district or industrial, natural gas [CPC: 17300: Steam and hot water]',\n",
       " ' Input:     [0.000248 [kWh]] (#) electricity, low voltage [CPC: 17100: Electrical energy]',\n",
       " ' Input:     [4.76e-05 [kWh]] (#) electricity, low voltage [CPC: 17100: Electrical energy]',\n",
       " ' Input:     [0.00105 [kWh]] (#) electricity, low voltage [CPC: 17100: Electrical energy]',\n",
       " ' Input:     [0.000465 [kWh]] (#) electricity, low voltage [CPC: 17100: Electrical energy]',\n",
       " ' Input:     [0.000749 [kWh]] (#) electricity, low voltage [CPC: 17100: Electrical energy]',\n",
       " ' Input:     [0.012 [kWh]] (#) electricity, low voltage [CPC: 17100: Electrical energy]',\n",
       " ' Input:     [0.00438 [kWh]] (#) electricity, low voltage [CPC: 17100: Electrical energy]',\n",
       " ' Input:     [0.00145 [kWh]] (#) electricity, low voltage [CPC: 17100: Electrical energy]',\n",
       " ' Input:     [0.00464 [kWh]] (#) electricity, low voltage [CPC: 17100: Electrical energy]',\n",
       " ' Input:     [2.03e-06 [kWh]] (#) electricity, low voltage [CPC: 17100: Electrical energy]',\n",
       " ' Input:     [0.0224 [kg]] (#) tap water (CAS 7732-18-5) [By-product classification: allocatable product]',\n",
       " ' Input:     [0.0336 [kg]] (#) tap water (CAS 7732-18-5) [By-product classification: allocatable product]',\n",
       " ' Input:     [-3.71e-06 [m3]] (#) wastewater, average [CPC: 39920: Sewage sludge]',\n",
       " ' Input:     [-3.43e-05 [m3]] (#) wastewater, average [CPC: 39920: Sewage sludge]',\n",
       " ' Input:     [5e-05 [m2*year]]     Occupation, industrial area [land]',\n",
       " 'Output:     [1.8e-05 [m3]]     Water (CAS 007732-18-5) [unspecified]',\n",
       " ' Input:     [2e-06 [m2*year]]     Occupation, construction site [land]',\n",
       " ' Input:     [1e-06 [m2]]     Transformation, from unspecified [land]',\n",
       " ' Input:     [1e-06 [m2]]     Transformation, to industrial area [land]']"
      ]
     },
     "execution_count": 150,
     "metadata": {},
     "output_type": "execute_result"
    }
   ],
   "source": [
    "[str(k) for k in mkt.inventory(mkt.reference())]"
   ]
  }
 ],
 "metadata": {
  "kernelspec": {
   "display_name": "lca-tools",
   "language": "python",
   "name": "lca-tools"
  },
  "language_info": {
   "codemirror_mode": {
    "name": "ipython",
    "version": 3
   },
   "file_extension": ".py",
   "mimetype": "text/x-python",
   "name": "python",
   "nbconvert_exporter": "python",
   "pygments_lexer": "ipython3",
   "version": "3.6.6"
  }
 },
 "nbformat": 4,
 "nbformat_minor": 2
}
