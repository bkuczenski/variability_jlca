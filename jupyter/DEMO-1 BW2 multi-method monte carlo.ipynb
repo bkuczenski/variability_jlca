{
 "cells": [
  {
   "cell_type": "markdown",
   "metadata": {},
   "source": [
    "## BW2 Multi-method Monte Carlo\n",
    "Adapts the built-in Monte Carlo approach to compute arbitrarily many LCIA methods with each inventory iteration. This did not seem possible with stock brightway, but it was easy enough to do.\n",
    "\n",
    "Also, stores the results in a persistent, UUID-based filename so that MCA results continue to accumulate."
   ]
  },
  {
   "cell_type": "code",
   "execution_count": 1,
   "metadata": {},
   "outputs": [],
   "source": [
    "STUDY_PATH = '/data/GitHub/2018/variability_jlca/'\n",
    "import sys\n",
    "sys.path.append(STUDY_PATH)"
   ]
  },
  {
   "cell_type": "code",
   "execution_count": 2,
   "metadata": {},
   "outputs": [],
   "source": [
    "from lca_variability import initialize_activity, Bw2McaMarketWeight, Bw2McaSimple"
   ]
  },
  {
   "cell_type": "code",
   "execution_count": 3,
   "metadata": {},
   "outputs": [],
   "source": [
    "recipe_methods = [('ReCiPe Midpoint (H)', 'climate change', 'GWP100'),\n",
    "                  ('ReCiPe Midpoint (H)', 'terrestrial acidification', 'TAP100'),\n",
    "                  ('ReCiPe Midpoint (H)', 'photochemical oxidant formation', 'POFP'),\n",
    "                  ('ReCiPe Midpoint (H)', 'marine eutrophication', 'MEP')\n",
    "                 ]"
   ]
  },
  {
   "cell_type": "code",
   "execution_count": 8,
   "metadata": {},
   "outputs": [],
   "source": [
    "a = initialize_activity('ei3.4 apos', '4d024c87-fcab-4980-9347-c3bee224671f', steps=0)  # APOS market for glycerine"
   ]
  },
  {
   "cell_type": "code",
   "execution_count": 9,
   "metadata": {},
   "outputs": [
    {
     "name": "stdout",
     "output_type": "stream",
     "text": [
      "Up to date with 0 samples, 4 methods\n"
     ]
    }
   ],
   "source": [
    "a.add_methods(*recipe_methods)"
   ]
  },
  {
   "cell_type": "code",
   "execution_count": 10,
   "metadata": {},
   "outputs": [
    {
     "name": "stdout",
     "output_type": "stream",
     "text": [
      "Up to date with 10 samples, 4 methods\n",
      "Added 40 results from 10 MCA samples (17.973 sec)\n",
      "Written to /data/GitHub/2018/variability_jlca/jupyter/BW2_MCA_4d024c87-fcab-4980-9347-c3bee224671f.json.gz\n"
     ]
    }
   ],
   "source": [
    "a.steps = 10"
   ]
  },
  {
   "cell_type": "code",
   "execution_count": 11,
   "metadata": {},
   "outputs": [
    {
     "data": {
      "text/plain": [
       "defaultdict(list,\n",
       "            {'ReCiPe Midpoint (H)__climate change__GWP100': [3.750915538073502,\n",
       "              3.9720460180494817,\n",
       "              3.8161210696041383,\n",
       "              4.295028428872345,\n",
       "              3.37751774989359,\n",
       "              3.3986106758597385,\n",
       "              3.959049780018135,\n",
       "              3.1493704715024613,\n",
       "              3.945619558153843,\n",
       "              3.852569754462622],\n",
       "             'ReCiPe Midpoint (H)__terrestrial acidification__TAP100': [0.01814784728116764,\n",
       "              0.02671976872586121,\n",
       "              0.018893772364167023,\n",
       "              0.019990716479295526,\n",
       "              0.018081862322036447,\n",
       "              0.021218097965141756,\n",
       "              0.021750822852113598,\n",
       "              0.018031959226592984,\n",
       "              0.01894982354680469,\n",
       "              0.020115066015623715],\n",
       "             'ReCiPe Midpoint (H)__photochemical oxidant formation__POFP': [0.010079421496114894,\n",
       "              0.01159172602932336,\n",
       "              0.010472897656527718,\n",
       "              0.011673371138634456,\n",
       "              0.009563346644673554,\n",
       "              0.010624351397841634,\n",
       "              0.011340276155959735,\n",
       "              0.00869841376520098,\n",
       "              0.010611779227535796,\n",
       "              0.01103292468642814],\n",
       "             'ReCiPe Midpoint (H)__marine eutrophication__MEP': [0.018601402007747292,\n",
       "              0.031168499821504655,\n",
       "              0.022993319586524598,\n",
       "              0.02089871727678906,\n",
       "              0.019235881879131573,\n",
       "              0.02317522512800094,\n",
       "              0.02382940804184035,\n",
       "              0.024904849558357905,\n",
       "              0.023803339182142908,\n",
       "              0.02258054214550253]})"
      ]
     },
     "execution_count": 11,
     "metadata": {},
     "output_type": "execute_result"
    }
   ],
   "source": [
    "a._res"
   ]
  },
  {
   "cell_type": "code",
   "execution_count": 13,
   "metadata": {},
   "outputs": [
    {
     "name": "stdout",
     "output_type": "stream",
     "text": [
      "Up to date with 20 samples, 4 methods\n",
      "Added 40 results from 10 MCA samples (8.941 sec)\n",
      "Written to /data/GitHub/2018/variability_jlca/jupyter/BW2_MCA_4d024c87-fcab-4980-9347-c3bee224671f.json.gz\n"
     ]
    }
   ],
   "source": [
    "a.steps=20"
   ]
  },
  {
   "cell_type": "code",
   "execution_count": 14,
   "metadata": {},
   "outputs": [
    {
     "data": {
      "text/plain": [
       "'market for glycerine' (kilogram, GLO, None)"
      ]
     },
     "execution_count": 14,
     "metadata": {},
     "output_type": "execute_result"
    }
   ],
   "source": [
    "a.activity"
   ]
  },
  {
   "cell_type": "code",
   "execution_count": 15,
   "metadata": {},
   "outputs": [],
   "source": [
    "from matplotlib import pyplot as plt\n",
    "%matplotlib inline"
   ]
  },
  {
   "cell_type": "code",
   "execution_count": 16,
   "metadata": {},
   "outputs": [
    {
     "data": {
      "text/plain": [
       "<matplotlib.collections.PathCollection at 0x7fc9e24c0d30>"
      ]
     },
     "execution_count": 16,
     "metadata": {},
     "output_type": "execute_result"
    },
    {
     "data": {
      "image/png": "[encoded data removed]",
      "text/plain": [
       "<Figure size 432x288 with 1 Axes>"
      ]
     },
     "metadata": {
      "needs_background": "light"
     },
     "output_type": "display_data"
    }
   ],
   "source": [
    "plt.scatter(range(a.steps), a.scores(recipe_methods[2]))"
   ]
  },
  {
   "cell_type": "code",
   "execution_count": 17,
   "metadata": {},
   "outputs": [],
   "source": [
    "from lca_variability.bw2_mkt_weight import MarketMonteCarloIterator"
   ]
  },
  {
   "cell_type": "code",
   "execution_count": 18,
   "metadata": {},
   "outputs": [],
   "source": [
    "mmci = MarketMonteCarloIterator(a.activity)"
   ]
  },
  {
   "cell_type": "code",
   "execution_count": 19,
   "metadata": {},
   "outputs": [
    {
     "data": {
      "text/plain": [
       "['esterification of rape oil' (kilogram, CH, None),\n",
       " 'esterification of rape oil' (kilogram, Europe without Switzerland, None),\n",
       " 'esterification of soybean oil' (kilogram, BR, None),\n",
       " 'esterification of soybean oil' (kilogram, US, None),\n",
       " 'glycerine production, from epichlorohydrin' (kilogram, RER, None),\n",
       " 'stearic acid production' (kilogram, GLO, None),\n",
       " 'esterification of palm oil' (kilogram, RoW, None),\n",
       " 'esterification of rape oil' (kilogram, RoW, None),\n",
       " 'esterification of soybean oil' (kilogram, RoW, None),\n",
       " 'glycerine production, from epichlorohydrin' (kilogram, RoW, None)]"
      ]
     },
     "execution_count": 19,
     "metadata": {},
     "output_type": "execute_result"
    }
   ],
   "source": [
    "mmci.suppliers"
   ]
  },
  {
   "cell_type": "code",
   "execution_count": 20,
   "metadata": {},
   "outputs": [
    {
     "data": {
      "text/plain": [
       "[0.000236231816466662,\n",
       " 0.121386818058536,\n",
       " 0.00259814209353471,\n",
       " 0.110182481155344,\n",
       " 0.0625210911363444,\n",
       " 0.0165342367731109,\n",
       " 0.00298360326841286,\n",
       " 0.246931655187543,\n",
       " 0.311583558238018,\n",
       " 0.125042182272689]"
      ]
     },
     "execution_count": 20,
     "metadata": {},
     "output_type": "execute_result"
    }
   ],
   "source": [
    "mmci.market_shares"
   ]
  },
  {
   "cell_type": "code",
   "execution_count": 21,
   "metadata": {},
   "outputs": [],
   "source": [
    "ixs = [next(mmci._chooser) for i in range(5000)]"
   ]
  },
  {
   "cell_type": "code",
   "execution_count": 36,
   "metadata": {},
   "outputs": [
    {
     "data": {
      "text/plain": [
       "<BarContainer object of 10 artists>"
      ]
     },
     "execution_count": 36,
     "metadata": {},
     "output_type": "execute_result"
    },
    {
     "data": {
      "image/png": "[encoded data removed]",
      "text/plain": [
       "<Figure size 432x288 with 1 Axes>"
      ]
     },
     "metadata": {
      "needs_background": "light"
     },
     "output_type": "display_data"
    }
   ],
   "source": [
    "plt.hist(ixs, bins=range(len(mmci.market_shares) + 1), density=True)\n",
    "xs = [0.5 + x for x in range(len(mmci.market_shares))]\n",
    "plt.bar(xs, mmci.market_shares, \n",
    "        color='none', edgecolor=(0.7, 0, 0), linewidth=2, linestyle=':')"
   ]
  },
  {
   "cell_type": "code",
   "execution_count": 39,
   "metadata": {},
   "outputs": [
    {
     "name": "stdout",
     "output_type": "stream",
     "text": [
      "Completed 100 MCA samples (64.527 sec)\n",
      "Completed 200 MCA samples (98.313 sec)\n",
      "Up to date with 250 samples, 4 methods\n",
      "Added 1000 results from 250 MCA samples (115.374 sec)\n",
      "Written to /data/GitHub/2018/variability_jlca/jupyter/BW2_MktWt_4d024c87-fcab-4980-9347-c3bee224671f.json.gz\n"
     ]
    }
   ],
   "source": [
    "b = Bw2McaMarketWeight(a.activity, *recipe_methods, steps=250)"
   ]
  },
  {
   "cell_type": "code",
   "execution_count": 40,
   "metadata": {},
   "outputs": [
    {
     "data": {
      "image/png": "[encoded data removed]",
      "text/plain": [
       "<Figure size 432x288 with 1 Axes>"
      ]
     },
     "metadata": {
      "needs_background": "light"
     },
     "output_type": "display_data"
    }
   ],
   "source": [
    "_ = plt.hist(b.scores(recipe_methods[2]), bins=60, density=True, histtype='step', linestyle=':', linewidth=2)"
   ]
  }
 ],
 "metadata": {
  "kernelspec": {
   "display_name": "lca-tools",
   "language": "python",
   "name": "lca-tools"
  },
  "language_info": {
   "codemirror_mode": {
    "name": "ipython",
    "version": 3
   },
   "file_extension": ".py",
   "mimetype": "text/x-python",
   "name": "python",
   "nbconvert_exporter": "python",
   "pygments_lexer": "ipython3",
   "version": "3.7.2"
  }
 },
 "nbformat": 4,
 "nbformat_minor": 2
}
