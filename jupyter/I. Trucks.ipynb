{
 "cells": [
  {
   "cell_type": "markdown",
   "metadata": {
    "deletable": true,
    "editable": true
   },
   "source": [
    "The `lca-tools` suite is in the midst of a major refactor to, among other things, completely rework the Qdb, and to reduce the importance of the catalog for simple, single-archive queries (but is there such a thing? LCIA is always separate).  Obviously the refactor is going to be influenced by how hard / annoying it was to do this study."
   ]
  },
  {
   "cell_type": "markdown",
   "metadata": {
    "deletable": true,
    "editable": true
   },
   "source": [
    "### Part 0: LCIA setup"
   ]
  },
  {
   "cell_type": "code",
   "execution_count": 2,
   "metadata": {
    "collapsed": true,
    "deletable": true,
    "editable": true
   },
   "outputs": [],
   "source": [
    "from antelope_catalog.providers import EcoinventLcia\n",
    "from lcatools import enum"
   ]
  },
  {
   "cell_type": "code",
   "execution_count": 3,
   "metadata": {
    "collapsed": false,
    "deletable": true,
    "editable": true
   },
   "outputs": [
    {
     "name": "stdout",
     "output_type": "stream",
     "text": [
      "local.ecoinvent.3.1.lcia: /data/LCI/LCIA implementation v3.1 2014_08_13.xlsx\n",
      "Loading /data/LCI/LCIA implementation v3.1 2014_08_13.xlsx\n",
      "702 new quantity entities added (702 total)\n",
      "3255 new flow entities added (3255 total)\n",
      "CPU times: user 24.3 s, sys: 251 ms, total: 24.5 s\n",
      "Wall time: 24.8 s\n"
     ]
    }
   ],
   "source": [
    "L = EcoinventLcia('/data/LCI/LCIA implementation v3.1 2014_08_13.xlsx', ns_uuid='46802ca5-8b25-398c-af10-2376adaa4623')\n",
    "%time L.load_all()"
   ]
  },
  {
   "cell_type": "code",
   "execution_count": 6,
   "metadata": {
    "collapsed": false,
    "deletable": true,
    "editable": true
   },
   "outputs": [
    {
     "name": "stdout",
     "output_type": "stream",
     "text": [
      " [00] ReCiPe Midpoint (H), climate change, GWP100 [kg CO2-Eq] [LCIA]\n",
      " [01] ReCiPe Midpoint (H), terrestrial acidification, TAP100 [kg SO2-Eq] [LCIA]\n",
      " [02] ReCiPe Midpoint (H), photochemical oxidant formation, POFP [kg NMVOC] [LCIA]\n",
      " [03] ReCiPe Midpoint (H), particulate matter formation, PMFP [kg PM10-Eq] [LCIA]\n",
      " [04] ReCiPe Midpoint (H), fossil depletion, FDP [kg oil-Eq] [LCIA]\n",
      " [05] ReCiPe Midpoint (H), ozone depletion, ODPinf [kg CFC-11-Eq] [LCIA]\n",
      " [06] ReCiPe Midpoint (H), marine ecotoxicity, METPinf [kg 1,4-DCB-Eq] [LCIA]\n",
      " [07] ReCiPe Midpoint (H), natural land transformation, NLTP [m2] [LCIA]\n",
      " [08] ReCiPe Midpoint (H), water depletion, WDP [m3] [LCIA]\n",
      " [09] ReCiPe Midpoint (H), human toxicity, HTPinf [kg 1,4-DCB-Eq] [LCIA]\n",
      " [10] ReCiPe Midpoint (H), freshwater eutrophication, FEP [kg P-Eq] [LCIA]\n",
      " [11] ReCiPe Midpoint (H), metal depletion, MDP [kg Fe-Eq] [LCIA]\n",
      " [12] ReCiPe Midpoint (H), freshwater ecotoxicity, FETPinf [kg 1,4-DCB-Eq] [LCIA]\n",
      " [13] ReCiPe Midpoint (H), agricultural land occupation, ALOP [m2a] [LCIA]\n",
      " [14] ReCiPe Midpoint (H), urban land occupation, ULOP [m2a] [LCIA]\n",
      " [15] ReCiPe Midpoint (H), terrestrial ecotoxicity, TETPinf [kg 1,4-DCB-Eq] [LCIA]\n",
      " [16] ReCiPe Midpoint (H), ionising radiation, IRP_HE [kg U235-Eq] [LCIA]\n",
      " [17] ReCiPe Midpoint (H), marine eutrophication, MEP [kg N-Eq] [LCIA]\n"
     ]
    }
   ],
   "source": [
    "recipes = enum(L.make_interface('index').lcia_methods(Method='recipe midpoint \\(H\\)$'))"
   ]
  },
  {
   "cell_type": "code",
   "execution_count": 7,
   "metadata": {
    "collapsed": true,
    "deletable": true,
    "editable": true
   },
   "outputs": [],
   "source": [
    "from lcatools.qdb import Qdb"
   ]
  },
  {
   "cell_type": "code",
   "execution_count": 10,
   "metadata": {
    "collapsed": false,
    "deletable": true,
    "editable": true
   },
   "outputs": [
    {
     "name": "stdout",
     "output_type": "stream",
     "text": [
      "Loading JSON data from /data/GitHub/lca-tools/lcatools/qdb/data/flowable_synlist.json:\n",
      "Loading JSON data from /data/GitHub/lca-tools/lcatools/qdb/data/quantity_synlist.json:\n",
      "local.qdb: /data/GitHub/lca-tools/lcatools/qdb/data/elcd_reference_quantities.json\n",
      "Loading JSON data from /data/GitHub/lca-tools/lcatools/qdb/data/elcd_reference_quantities.json:\n",
      "local.qdb: /data/GitHub/lca-tools/lcatools/providers/data/elcd_reference_quantities.json\n",
      "24 new quantity entities added (24 total)\n",
      "5 new flow entities added (5 total)\n"
     ]
    }
   ],
   "source": [
    "qdb = Qdb()"
   ]
  },
  {
   "cell_type": "code",
   "execution_count": 8,
   "metadata": {
    "collapsed": false,
    "deletable": true,
    "editable": true
   },
   "outputs": [],
   "source": [
    "mass = next(L.make_interface('index').quantities(Name='^mass'))"
   ]
  },
  {
   "cell_type": "code",
   "execution_count": 12,
   "metadata": {
    "collapsed": false,
    "deletable": true,
    "editable": true
   },
   "outputs": [
    {
     "data": {
      "text/plain": [
       "12"
      ]
     },
     "execution_count": 12,
     "metadata": {},
     "output_type": "execute_result"
    }
   ],
   "source": [
    "qdb._q.add_synonyms('Mass', mass.uuid)"
   ]
  },
  {
   "cell_type": "code",
   "execution_count": 13,
   "metadata": {
    "collapsed": false,
    "deletable": true,
    "editable": true
   },
   "outputs": [
    {
     "name": "stdout",
     "output_type": "stream",
     "text": [
      "Quantity Entity (ref 96225d73-5ff0-4c97-9254-03b0b2750619)\n",
      "origin: local.ecoinvent.3.1.lcia\n",
      "reference: [[kg]]\n",
      "   Name: Mass\n",
      "Comment: \n"
     ]
    }
   ],
   "source": [
    "mass.show()"
   ]
  },
  {
   "cell_type": "code",
   "execution_count": 17,
   "metadata": {
    "collapsed": false
   },
   "outputs": [],
   "source": [
    "mass.reference_entity = mass.reference_entity.unitstring"
   ]
  },
  {
   "cell_type": "code",
   "execution_count": 18,
   "metadata": {
    "collapsed": true,
    "deletable": true,
    "editable": true
   },
   "outputs": [],
   "source": [
    "Lqi = L.make_interface('quantity')"
   ]
  },
  {
   "cell_type": "code",
   "execution_count": 19,
   "metadata": {
    "collapsed": false,
    "deletable": true,
    "editable": true
   },
   "outputs": [],
   "source": [
    "for q in recipes:\n",
    "    for cf in Lqi.factors(q):\n",
    "        qdb.add_cf(cf)"
   ]
  },
  {
   "cell_type": "markdown",
   "metadata": {
    "deletable": true,
    "editable": true
   },
   "source": [
    "## Part I. How many Trucks?\n",
    "The first part of the critique is inspired by the question, \"how many trucks are there in Ecoinvent, really?\" and asks whether the uncertainty distributions developed through Monte Carlo analysis encompass even that [limited] variability.\n",
    "\n",
    "The approach here is simple: compare the observed variability in Ecoinvent across truck types (all EURO-type) against the Monte Carlo uncertainty in the truck, unspecified category.\n",
    "\n",
    "Further audit the use of the truck, unspecified category to evaluate the significance of the finding to endogenous ecoinvent."
   ]
  },
  {
   "cell_type": "code",
   "execution_count": 21,
   "metadata": {
    "collapsed": false,
    "deletable": true,
    "editable": true
   },
   "outputs": [],
   "source": [
    "from antelope_background.background import tarjan_background"
   ]
  },
  {
   "cell_type": "code",
   "execution_count": 22,
   "metadata": {
    "collapsed": true,
    "deletable": true,
    "editable": true
   },
   "outputs": [],
   "source": [
    "from lcatools import archive_from_json, enum"
   ]
  },
  {
   "cell_type": "code",
   "execution_count": 23,
   "metadata": {
    "collapsed": false,
    "deletable": true,
    "editable": true
   },
   "outputs": [
    {
     "name": "stdout",
     "output_type": "stream",
     "text": [
      "Loading JSON data from /data/LCI/Ecoinvent/3.4/cutoff_index.json.gz:\n",
      "local.ecoinvent.3.4.cutoff.index__20180904: /data/LCI/Ecoinvent/3.4/cutoff_index.json.gz\n",
      "local.ecoinvent.3.4.cutoff: /data/LCI/Ecoinvent/3.4/ecoinvent 3.4_cutoff_ecoSpold02\n",
      "19 new quantity entities added (19 total)\n",
      "13459 new process entities added (13459 total)\n",
      "4881 new flow entities added (4881 total)\n"
     ]
    }
   ],
   "source": [
    "e34c_i = archive_from_json('/data/LCI/Ecoinvent/3.4/cutoff_index.json.gz')"
   ]
  },
  {
   "cell_type": "code",
   "execution_count": 24,
   "metadata": {
    "collapsed": false,
    "deletable": true,
    "editable": true
   },
   "outputs": [
    {
     "name": "stdout",
     "output_type": "stream",
     "text": [
      "Loading JSON data from /data/LCI/Ecoinvent/3.4/cutoff_bg_tarjan.mat.index.json.gz:\n"
     ]
    }
   ],
   "source": [
    "bg = tarjan_background(e34c_i, source='/data/LCI/Ecoinvent/3.4/cutoff_bg_tarjan.mat')"
   ]
  },
  {
   "cell_type": "code",
   "execution_count": 25,
   "metadata": {
    "collapsed": false,
    "deletable": true,
    "editable": true,
    "scrolled": true
   },
   "outputs": [
    {
     "name": "stdout",
     "output_type": "stream",
     "text": [
      " [00] market for transport, freight, lorry with refrigeration machine, freezing [GLO]\n",
      " [01] market for transport, freight, lorry with refrigeration machine, 3.5-7.5 ton, EURO3, R134a refrigerant, freezing [GLO]\n",
      " [02] market for transport, freight, lorry with refrigeration machine, 3.5-7.5 ton, EURO6, carbon dioxide, liquid refri(...)_5 [GLO]\n",
      " [03] market for transport, freight, lorry >32 metric ton, EURO3 [GLO]\n",
      " [04] market for transport, freight, lorry with refrigeration machine, 7.5-16 ton, EURO3, R134a refrigerant, freezing [GLO]\n",
      " [05] market for transport, freight, lorry 7.5-16 metric ton, EURO5 [GLO]\n",
      " [06] market for transport, freight, lorry with refrigeration machine, 3.5-7.5 ton, EURO5, R134a refrigerant, freezing [GLO]\n",
      " [07] market for transport, freight, lorry with refrigeration machine, 7.5-16 ton, EURO3, carbon dioxide, liquid refrig(...)_4 [GLO]\n",
      " [08] market for transport, freight, lorry 3.5-7.5 metric ton, EURO4 [GLO]\n",
      " [09] market for transport, freight, lorry with refrigeration machine, 7.5-16 ton, EURO5, carbon dioxide, liquid refrig(...)_8 [GLO]\n",
      " [10] market for transport, freight, lorry with refrigeration machine, 7.5-16 ton, EURO4, R134a refrigerant, freezing [GLO]\n",
      " [11] market for transport, freight, lorry 3.5-7.5 metric ton, EURO5 [GLO]\n",
      " [12] market for transport, freight, lorry with refrigeration machine, 7.5-16 ton, EURO6, R134a refrigerant, cooling [GLO]\n",
      " [13] market for transport, freight, lorry 28 metric ton, vegetable oil methyl ester 100% [GLO]\n",
      " [14] market for transport, freight, lorry with refrigeration machine, 7.5-16 ton, EURO5, R134a refrigerant, freezing [GLO]\n",
      " [15] market for transport, freight, lorry, unspecified [GLO]\n",
      " [16] market for transport, freight, lorry with refrigeration machine, 7.5-16 ton, EURO3, carbon dioxide, liquid refri(...)_14 [GLO]\n",
      " [17] market for transport, freight, lorry with refrigeration machine, 3.5-7.5 ton, EURO4, carbon dioxide, liquid refri(...)_2 [GLO]\n",
      " [18] market for transport, freight, lorry 16-32 metric ton, EURO4 [GLO]\n",
      " [19] market for transport, freight, lorry 3.5-7.5 metric ton, EURO3 [GLO]\n",
      " [20] market for transport, freight, lorry with refrigeration machine, 7.5-16 ton, EURO5, R134a refrigerant, cooling [GLO]\n",
      " [21] market for transport, freight, lorry with refrigeration machine, 7.5-16 ton, EURO4, carbon dioxide, liquid refrig(...)_6 [GLO]\n",
      " [22] market for transport, freight, lorry 3.5-7.5 metric ton, EURO6 [GLO]\n",
      " [23] market for transport, freight, lorry with refrigeration machine, 7.5-16 ton, EURO5, carbon dioxide, liquid refri(...)_16 [GLO]\n",
      " [24] market for transport, freight, lorry with refrigeration machine, 3.5-7.5 ton, EURO6, carbon dioxide, liquid refr(...)_13 [GLO]\n",
      " [25] market for transport, freight, lorry with refrigeration machine, 3.5-7.5 ton, EURO3, carbon dioxide, liquid refr(...)_11 [GLO]\n",
      " [26] market for transport, freight, lorry with refrigeration machine, 7.5-16 ton, EURO4, carbon dioxide, liquid refri(...)_12 [GLO]\n",
      " [27] market for transport, freight, lorry with refrigeration machine, 3.5-7.5 ton, EURO4, R134a refrigerant, cooling [GLO]\n",
      " [28] market for transport, freight, lorry with refrigeration machine, 3.5-7.5 ton, EURO6, R134a refrigerant, freezing [GLO]\n",
      " [29] market for transport, freight, lorry >32 metric ton, EURO4 [GLO]\n",
      " [30] market for transport, freight, lorry with refrigeration machine, 3.5-7.5 ton, EURO4, carbon dioxide, liquid refr(...)_10 [GLO]\n",
      " [31] market for transport, freight, lorry 7.5-16 metric ton, EURO4 [GLO]\n",
      " [32] market for transport, freight, lorry with refrigeration machine, 3.5-7.5 ton, EURO5, R134a refrigerant, cooling [GLO]\n",
      " [33] market for transport, freight, lorry with reefer, freezing [GLO]\n",
      " [34] market for transport, freight, lorry 16-32 metric ton, EURO3 [GLO]\n",
      " [35] market for transport, freight, lorry with refrigeration machine, 7.5-16 ton, EURO6, carbon dioxide, liquid refri(...)_15 [GLO]\n",
      " [36] market for transport, freight, lorry with reefer, cooling [GLO]\n",
      " [37] market for transport, freight, lorry with refrigeration machine, 3.5-7.5 ton, EURO3, carbon dioxide, liquid refri(...)_1 [GLO]\n",
      " [38] market for transport, freight, lorry with refrigeration machine, 3.5-7.5 ton, EURO4, R134a refrigerant, freezing [GLO]\n",
      " [39] market for transport, freight, lorry 16-32 metric ton, EURO6 [GLO]\n",
      " [40] market for transport, freight, lorry with refrigeration machine, 3.5-7.5 ton, EURO6, R134a refrigerant, cooling [GLO]\n",
      " [41] market for transport, freight, lorry 7.5-16 metric ton, EURO6 [GLO]\n",
      " [42] market for transport, freight, lorry with refrigeration machine, 7.5-16 ton, EURO6, R134a refrigerant, freezing [GLO]\n",
      " [43] market for transport, freight, lorry with refrigeration machine, 3.5-7.5 ton, EURO5, carbon dioxide, liquid refri(...)_3 [GLO]\n",
      " [44] market for transport, freight, lorry with refrigeration machine, 3.5-7.5 ton, EURO3, R134a refrigerant, cooling [GLO]\n",
      " [45] market for transport, freight, lorry with refrigeration machine, cooling [GLO]\n",
      " [46] market for transport, freight, lorry >32 metric ton, EURO5 [GLO]\n",
      " [47] market for transport, freight, lorry with refrigeration machine, 7.5-16 ton, EURO6, carbon dioxide, liquid refrig(...)_9 [GLO]\n",
      " [48] market for transport, freight, lorry >32 metric ton, EURO6 [GLO]\n",
      " [49] market for transport, freight, lorry with refrigeration machine, 7.5-16 ton, EURO3, R134a refrigerant, cooling [GLO]\n",
      " [50] market for transport, freight, lorry with refrigeration machine, 7.5-16 ton, EURO4, R134a refrigerant, cooling [GLO]\n",
      " [51] market for transport, freight, lorry 7.5-16 metric ton, EURO3 [GLO]\n",
      " [52] market for transport, freight, lorry with refrigeration machine, 3.5-7.5 ton, EURO5, carbon dioxide, liquid refri(...)_7 [GLO]\n",
      " [53] market for transport, freight, lorry 16-32 metric ton, EURO5 [GLO]\n"
     ]
    }
   ],
   "source": [
    "lorries = enum(e34c_i.make_interface('index').processes(Name=('^market for transport', 'freight', 'lorry')))"
   ]
  },
  {
   "cell_type": "code",
   "execution_count": 36,
   "metadata": {
    "collapsed": true,
    "deletable": true,
    "editable": true
   },
   "outputs": [],
   "source": [
    "_qg = (_q for _q in recipes)"
   ]
  },
  {
   "cell_type": "code",
   "execution_count": 39,
   "metadata": {
    "collapsed": false,
    "deletable": true,
    "editable": true
   },
   "outputs": [],
   "source": [
    "q = next(_qg)"
   ]
  },
  {
   "cell_type": "code",
   "execution_count": 60,
   "metadata": {
    "collapsed": true,
    "deletable": true,
    "editable": true
   },
   "outputs": [],
   "source": [
    "import numpy as np"
   ]
  },
  {
   "cell_type": "code",
   "execution_count": 64,
   "metadata": {
    "collapsed": true,
    "deletable": true,
    "editable": true
   },
   "outputs": [],
   "source": [
    "def sample_lcias(_uprs, _qtys):\n",
    "    _vals = np.zeros(shape=(len(_uprs), len(_qtys)))\n",
    "    for i, _upr in enumerate(_uprs):\n",
    "        inv = [x for x in bg.lci(_upr.external_ref, _upr.reference().flow.external_ref)]\n",
    "        for j, _q in enumerate(_qtys):\n",
    "            res = qdb.do_lcia(_q, inv)\n",
    "            _vals[i, j] = res.total()\n",
    "    return _vals"
   ]
  },
  {
   "cell_type": "code",
   "execution_count": 101,
   "metadata": {
    "collapsed": false,
    "deletable": true,
    "editable": true,
    "scrolled": true
   },
   "outputs": [
    {
     "name": "stdout",
     "output_type": "stream",
     "text": [
      "completed 66 iterations\n",
      "completed 66 iterations\n",
      "completed 68 iterations\n",
      "completed 65 iterations\n",
      "completed 66 iterations\n",
      "completed 66 iterations\n",
      "completed 66 iterations\n",
      "completed 67 iterations\n",
      "completed 67 iterations\n",
      "completed 67 iterations\n",
      "completed 66 iterations\n",
      "completed 67 iterations\n",
      "completed 67 iterations\n",
      "completed 67 iterations\n",
      "completed 66 iterations\n",
      "completed 66 iterations\n",
      "completed 66 iterations\n",
      "completed 68 iterations\n",
      "completed 66 iterations\n",
      "completed 67 iterations\n",
      "completed 67 iterations\n",
      "completed 67 iterations\n",
      "completed 67 iterations\n",
      "completed 66 iterations\n",
      "completed 66 iterations\n",
      "completed 66 iterations\n",
      "completed 66 iterations\n",
      "completed 68 iterations\n",
      "completed 66 iterations\n",
      "completed 65 iterations\n",
      "completed 66 iterations\n",
      "completed 66 iterations\n",
      "completed 68 iterations\n",
      "completed 65 iterations\n",
      "completed 66 iterations\n",
      "completed 66 iterations\n",
      "completed 64 iterations\n",
      "completed 68 iterations\n",
      "completed 66 iterations\n",
      "completed 66 iterations\n",
      "completed 68 iterations\n",
      "completed 66 iterations\n",
      "completed 66 iterations\n",
      "completed 68 iterations\n",
      "completed 68 iterations\n",
      "completed 68 iterations\n",
      "completed 65 iterations\n",
      "completed 67 iterations\n",
      "completed 65 iterations\n",
      "completed 67 iterations\n",
      "completed 67 iterations\n",
      "completed 66 iterations\n",
      "completed 66 iterations\n",
      "completed 66 iterations\n"
     ]
    }
   ],
   "source": [
    "ress = sample_lcias(lorries, recipes)"
   ]
  },
  {
   "cell_type": "code",
   "execution_count": 26,
   "metadata": {
    "collapsed": true,
    "deletable": true,
    "editable": true
   },
   "outputs": [],
   "source": [
    "from matplotlib import pyplot as plt\n",
    "%matplotlib inline"
   ]
  },
  {
   "cell_type": "code",
   "execution_count": 27,
   "metadata": {
    "collapsed": true,
    "deletable": true,
    "editable": true
   },
   "outputs": [],
   "source": [
    "def do_hist(_qty, _res):\n",
    "    plt.hist(_res, bins=20)\n",
    "    plt.title(_qty['Name'])\n",
    "    plt.xlabel(_qty['Indicator'])\n",
    "    print('Range ratio: %g' % (max(_res) / min(_res)))"
   ]
  },
  {
   "cell_type": "code",
   "execution_count": 102,
   "metadata": {
    "collapsed": false,
    "deletable": true,
    "editable": true
   },
   "outputs": [
    {
     "name": "stdout",
     "output_type": "stream",
     "text": [
      "Range ratio: 7.74044\n"
     ]
    },
    {
     "data": {
      "image/png": "[encoded data removed]",
      "text/plain": [
       "<matplotlib.figure.Figure at 0x7f88b09ba9e8>"
      ]
     },
     "metadata": {},
     "output_type": "display_data"
    }
   ],
   "source": [
    "do_hist(recipes[0], ress[:,0])"
   ]
  },
  {
   "cell_type": "code",
   "execution_count": 103,
   "metadata": {
    "collapsed": false,
    "deletable": true,
    "editable": true
   },
   "outputs": [
    {
     "name": "stdout",
     "output_type": "stream",
     "text": [
      "Range ratio: 5.60764\n"
     ]
    },
    {
     "data": {
      "image/png": "[encoded data removed]",
      "text/plain": [
       "<matplotlib.figure.Figure at 0x7f88b09ba2b0>"
      ]
     },
     "metadata": {},
     "output_type": "display_data"
    }
   ],
   "source": [
    "do_hist(recipes[9], ress[:,9])"
   ]
  },
  {
   "cell_type": "code",
   "execution_count": 104,
   "metadata": {
    "collapsed": false,
    "deletable": true,
    "editable": true
   },
   "outputs": [
    {
     "name": "stdout",
     "output_type": "stream",
     "text": [
      "Range ratio: 14.0092\n"
     ]
    },
    {
     "data": {
      "image/png": "[encoded data removed]",
      "text/plain": [
       "<matplotlib.figure.Figure at 0x7f88b09a0a20>"
      ]
     },
     "metadata": {},
     "output_type": "display_data"
    }
   ],
   "source": [
    "do_hist(recipes[1], ress[:,1])"
   ]
  },
  {
   "cell_type": "code",
   "execution_count": 105,
   "metadata": {
    "collapsed": false,
    "deletable": true,
    "editable": true
   },
   "outputs": [
    {
     "name": "stdout",
     "output_type": "stream",
     "text": [
      "Range ratio: 16.6262\n"
     ]
    },
    {
     "data": {
      "image/png": "[encoded data removed]",
      "text/plain": [
       "<matplotlib.figure.Figure at 0x7f88b097f438>"
      ]
     },
     "metadata": {},
     "output_type": "display_data"
    }
   ],
   "source": [
    "do_hist(recipes[2], ress[:,2])"
   ]
  },
  {
   "cell_type": "code",
   "execution_count": 106,
   "metadata": {
    "collapsed": false,
    "deletable": true,
    "editable": true
   },
   "outputs": [
    {
     "name": "stdout",
     "output_type": "stream",
     "text": [
      "Range ratio: 9.29744\n"
     ]
    },
    {
     "data": {
      "image/png": "[encoded data removed]",
      "text/plain": [
       "<matplotlib.figure.Figure at 0x7f88afe15630>"
      ]
     },
     "metadata": {},
     "output_type": "display_data"
    }
   ],
   "source": [
    "do_hist(recipes[3], ress[:,3])"
   ]
  },
  {
   "cell_type": "code",
   "execution_count": 107,
   "metadata": {
    "collapsed": false,
    "deletable": true,
    "editable": true
   },
   "outputs": [
    {
     "name": "stdout",
     "output_type": "stream",
     "text": [
      "Range ratio: 7.34615\n"
     ]
    },
    {
     "data": {
      "image/png": "[encoded data removed]",
      "text/plain": [
       "<matplotlib.figure.Figure at 0x7f88b06e2b00>"
      ]
     },
     "metadata": {},
     "output_type": "display_data"
    }
   ],
   "source": [
    "do_hist(recipes[4], ress[:,4])"
   ]
  },
  {
   "cell_type": "code",
   "execution_count": 108,
   "metadata": {
    "collapsed": false,
    "deletable": true,
    "editable": true
   },
   "outputs": [
    {
     "name": "stdout",
     "output_type": "stream",
     "text": [
      "Range ratio: 8.42121\n"
     ]
    },
    {
     "data": {
      "image/png": "[encoded data removed]",
      "text/plain": [
       "<matplotlib.figure.Figure at 0x7f88d46a62b0>"
      ]
     },
     "metadata": {},
     "output_type": "display_data"
    }
   ],
   "source": [
    "do_hist(recipes[5], ress[:,5])"
   ]
  },
  {
   "cell_type": "code",
   "execution_count": 109,
   "metadata": {
    "collapsed": false,
    "deletable": true,
    "editable": true
   },
   "outputs": [
    {
     "name": "stdout",
     "output_type": "stream",
     "text": [
      "Range ratio: 18.5893\n"
     ]
    },
    {
     "data": {
      "image/png": "[encoded data removed]",
      "text/plain": [
       "<matplotlib.figure.Figure at 0x7f88b2824358>"
      ]
     },
     "metadata": {},
     "output_type": "display_data"
    }
   ],
   "source": [
    "do_hist(recipes[6], ress[:,6])"
   ]
  },
  {
   "cell_type": "code",
   "execution_count": 182,
   "metadata": {
    "collapsed": false,
    "deletable": true,
    "editable": true
   },
   "outputs": [
    {
     "name": "stdout",
     "output_type": "stream",
     "text": [
      "Range ratio: 38.8237\n"
     ]
    },
    {
     "data": {
      "image/png": "[encoded data removed]",
      "text/plain": [
       "<matplotlib.figure.Figure at 0x7f88b1e237b8>"
      ]
     },
     "metadata": {},
     "output_type": "display_data"
    }
   ],
   "source": [
    "do_hist(recipes[17], ress[:,17])"
   ]
  },
  {
   "cell_type": "markdown",
   "metadata": {
    "deletable": true,
    "editable": true
   },
   "source": [
    "## Part Ia - importance of various truck processes\n",
    "Here we want to measure the number of times each process is referred to by others in the database.  This requires inspecting the constituents of the flat background and is not currently well supported in code."
   ]
  },
  {
   "cell_type": "markdown",
   "metadata": {
    "deletable": true,
    "editable": true
   },
   "source": [
    "How do we go about this?  We want to count the number of nonzero entries in a given row of the Ad and A matrices."
   ]
  },
  {
   "cell_type": "code",
   "execution_count": 28,
   "metadata": {
    "collapsed": false,
    "deletable": true,
    "editable": true
   },
   "outputs": [],
   "source": [
    "truck = lorries[1]"
   ]
  },
  {
   "cell_type": "code",
   "execution_count": 29,
   "metadata": {
    "collapsed": true,
    "deletable": true,
    "editable": true
   },
   "outputs": [],
   "source": [
    "def count_deps(_process):\n",
    "    _pr = _process.external_ref\n",
    "    _fr = _process.reference().flow.external_ref\n",
    "    _inx = bg._flat.index_of(_pr, _fr)\n",
    "    if bg.is_in_background(_pr, _fr):\n",
    "        _fgdep = bg._flat._ad[_inx, :].nnz\n",
    "        return _fgdep + bg._flat._A[_inx, :].nnz\n",
    "    else:\n",
    "        return bg._flat._af[_inx,:].nnz\n"
   ]
  },
  {
   "cell_type": "code",
   "execution_count": 149,
   "metadata": {
    "collapsed": false,
    "deletable": true,
    "editable": true
   },
   "outputs": [
    {
     "name": "stdout",
     "output_type": "stream",
     "text": [
      "Process Entity (ref 1651e66e-46d4-48db-92fb-b1d4445e2d2f)\n",
      "origin: local.ecoinvent.3.4.cutoff\n",
      "reference: market for transport, freight, lorry with refrigeration machine, 3.5-7.5 ton, EURO6, carbon dioxide, liquid refri(...)_5 [GLO] has Output:     transport, freight, lorry with refrigeration machine, 3.5-7.5 ton, EURO6, carbon dioxide, liquid refrigerant, cooling [CPC: 65111: Road transport services of freight by refrigerator vehicles] [metric ton*km]\n",
      "            Name: market for transport, freight, lorry with refrigeration machine, 3.5-7.5 ton, EURO6, carbon dioxide, liquid refri(...)_5\n",
      "         Comment: no comment.\n",
      " Classifications: ['EcoSpold01Categories: transport systems/road', 'ISIC rev.4 ecoinvent: 4923:Freight transport by road']\n",
      "   TemporalScope: {'begin': '2010-01-01', 'end': '2017-12-31'}\n",
      "    SpatialScope: GLO\n",
      "ParentActivityId: c0f37020-5e27-4721-82bb-675757663e97\n"
     ]
    }
   ],
   "source": [
    "lorries[2].show()"
   ]
  },
  {
   "cell_type": "code",
   "execution_count": 152,
   "metadata": {
    "collapsed": false,
    "deletable": true,
    "editable": true
   },
   "outputs": [],
   "source": [
    "_pr = lorries[2].external_ref"
   ]
  },
  {
   "cell_type": "code",
   "execution_count": 153,
   "metadata": {
    "collapsed": false,
    "deletable": true,
    "editable": true
   },
   "outputs": [],
   "source": [
    "_fr = lorries[2].reference().flow.external_ref"
   ]
  },
  {
   "cell_type": "code",
   "execution_count": 155,
   "metadata": {
    "collapsed": false,
    "deletable": true,
    "editable": true
   },
   "outputs": [
    {
     "data": {
      "text/plain": [
       "True"
      ]
     },
     "execution_count": 155,
     "metadata": {},
     "output_type": "execute_result"
    }
   ],
   "source": [
    "bg._flat.is_in_background(_pr, _fr)"
   ]
  },
  {
   "cell_type": "code",
   "execution_count": null,
   "metadata": {
    "collapsed": true,
    "deletable": true,
    "editable": true
   },
   "outputs": [],
   "source": []
  },
  {
   "cell_type": "code",
   "execution_count": 30,
   "metadata": {
    "collapsed": false,
    "deletable": true,
    "editable": true
   },
   "outputs": [
    {
     "data": {
      "text/plain": [
       "54"
      ]
     },
     "execution_count": 30,
     "metadata": {},
     "output_type": "execute_result"
    }
   ],
   "source": [
    "len(lorries)"
   ]
  },
  {
   "cell_type": "code",
   "execution_count": 187,
   "metadata": {
    "collapsed": false,
    "deletable": true,
    "editable": true
   },
   "outputs": [
    {
     "data": {
      "text/plain": [
       "3966"
      ]
     },
     "execution_count": 187,
     "metadata": {},
     "output_type": "execute_result"
    }
   ],
   "source": [
    "len([k for k in e34c_i.make_interface('index').processes(Name='^market')])"
   ]
  },
  {
   "cell_type": "code",
   "execution_count": 186,
   "metadata": {
    "collapsed": false,
    "deletable": true,
    "editable": true
   },
   "outputs": [
    {
     "name": "stdout",
     "output_type": "stream",
     "text": [
      " [00] market for transport, freight, lorry with refrigeration machine, freezing [GLO]\n",
      " [01] market for transport, tractor and trailer, agricultural [GLO]\n",
      " [02] transport, freight, lorry, all sizes, EURO6 to generic market for transport, freight, lorry, unspecified [RER]\n",
      " [03] market for transport, regular bus [GLO]\n",
      " [04] market for transport, pipeline, offshore, long distance, natural gas [GLO]\n",
      " [05] market for transport, freight, lorry with refrigeration machine, 3.5-7.5 ton, EURO3, R134a refrigerant, freezing [GLO]\n",
      " [06] transport, freight, lorry, all sizes, EURO6 to generic market for transport, freight, lorry, unspecified [RoW]\n",
      " [07] market for transport, passenger car, large size, petrol, EURO 3 [GLO]\n",
      " [08] market for transport, freight, sea, transoceanic ship with reefer, freezing [GLO]\n",
      " [09] market for transport, freight, inland waterways, barge [GLO]\n",
      " [10] market for transport, freight, sea, transoceanic ship with reefer, cooling [GLO]\n",
      " [11] market for transport, freight, lorry with refrigeration machine, 3.5-7.5 ton, EURO6, carbon dioxide, liquid refri(...)_5 [GLO]\n",
      " [12] market for transport, passenger car, medium size, liquefied petroleum gas, EURO 5 [GLO]\n",
      " [13] market for transport, freight, aircraft with reefer, cooling [GLO]\n",
      " [14] transport, freight, lorry, all sizes, EURO5 to generic market for transport, freight, lorry, unspecified [RER]\n",
      " [15] market for transport, freight, lorry >32 metric ton, EURO3 [GLO]\n",
      " [16] market for transport, passenger coach [GLO]\n",
      " [17] market for transport, freight, train with reefer, freezing [GLO]\n",
      " [18] market for transport, passenger car, large size, diesel, EURO 5 [GLO]\n",
      " [19] market for transport, passenger car [RER]\n",
      " [20] market for transport, freight, lorry with refrigeration machine, 7.5-16 ton, EURO3, R134a refrigerant, freezing [GLO]\n",
      " [21] market for transport, freight, lorry 7.5-16 metric ton, EURO5 [GLO]\n",
      " [22] market for transport, freight, lorry with refrigeration machine, 3.5-7.5 ton, EURO5, R134a refrigerant, freezing [GLO]\n",
      " [23] market for transport, passenger car, small size, petrol, EURO 4 [GLO]\n",
      " [24] market for transport, passenger car, small size, natural gas, EURO 5 [GLO]\n",
      " [25] market for transport, freight, lorry with refrigeration machine, 7.5-16 ton, EURO3, carbon dioxide, liquid refrig(...)_4 [GLO]\n",
      " [26] market for transport, freight, inland waterways, barge tanker [GLO]\n",
      " [27] market for transport, passenger car, small size, petrol, EURO 5 [GLO]\n",
      " [28] market for transport, passenger car, small size, diesel, EURO 4 [GLO]\n",
      " [29] market for transport, passenger car, medium size, petrol, EURO 3 [GLO]\n",
      " [30] market for transport, freight, lorry 3.5-7.5 metric ton, EURO4 [GLO]\n",
      " [31] market for transport, freight, lorry with refrigeration machine, 7.5-16 ton, EURO5, carbon dioxide, liquid refrig(...)_8 [GLO]\n",
      " [32] market for transport, passenger car, large size, petol, EURO 4 [GLO]\n",
      " [33] market for transport, freight, lorry with refrigeration machine, 7.5-16 ton, EURO4, R134a refrigerant, freezing [GLO]\n",
      " [34] transport, freight, lorry, all sizes, EURO4 to generic market for transport, freight, lorry, unspecified [RoW]\n",
      " [35] market for transport, freight, sea, transoceanic ship [GLO]\n",
      " [36] market for transport, freight, lorry 3.5-7.5 metric ton, EURO5 [GLO]\n",
      " [37] market for transport, pipeline, offshore, petroleum [GLO]\n",
      " [38] market for transport, passenger car, medium size, natural gas, EURO 4 [GLO]\n",
      " [39] market for transport, passenger car, small size, diesel, EURO 5 [GLO]\n",
      " [40] market for transport, trolleybus [GLO]\n",
      " [41] market for transport, freight, lorry with refrigeration machine, 7.5-16 ton, EURO6, R134a refrigerant, cooling [GLO]\n",
      " [42] market for transport, passenger car, small size, petrol, EURO 3 [GLO]\n",
      " [43] market for transport, passenger car, large size, petrol, EURO 5 [GLO]\n",
      " [44] market for transport, passenger car, medium size, natural gas, EURO 5 [GLO]\n",
      " [45] market for transport, freight, lorry 28 metric ton, vegetable oil methyl ester 100% [GLO]\n",
      " [46] market for transport, freight, lorry with refrigeration machine, 7.5-16 ton, EURO5, R134a refrigerant, freezing [GLO]\n",
      " [47] market for transport, freight, lorry, unspecified [GLO]\n",
      " [48] market for transport, freight, lorry with refrigeration machine, 7.5-16 ton, EURO3, carbon dioxide, liquid refri(...)_14 [GLO]\n",
      " [49] market for transport, passenger car, medium size, diesel, EURO 4 [GLO]\n",
      " [50] market for transport, passenger train [GLO]\n",
      " [51] market for transport, freight, lorry with refrigeration machine, 3.5-7.5 ton, EURO4, carbon dioxide, liquid refri(...)_2 [GLO]\n",
      " [52] market for transport, freight, lorry 16-32 metric ton, EURO4 [GLO]\n",
      " [53] market for transport, passenger car, EURO 4 [RER]\n",
      " [54] market for transport, freight train [Europe without Switzerland]\n",
      " [55] market for transport, passenger car, large size, natural gas, EURO 4 [GLO]\n",
      " [56] market for transport, passenger car, small size, natural gas, EURO 4 [GLO]\n",
      " [57] market for transport, freight, lorry 3.5-7.5 metric ton, EURO3 [GLO]\n",
      " [58] market for transport, freight, lorry with refrigeration machine, 7.5-16 ton, EURO5, R134a refrigerant, cooling [GLO]\n",
      " [59] market for transport, freight, lorry with refrigeration machine, 7.5-16 ton, EURO4, carbon dioxide, liquid refrig(...)_6 [GLO]\n",
      " [60] market for transport, passenger, electric bicycle, label-certified electricity [GLO]\n",
      " [61] market for transport, freight, lorry 3.5-7.5 metric ton, EURO6 [GLO]\n",
      " [62] market for transport, passenger car with internal combustion engine [RoW]\n",
      " [63] market for transport, freight, lorry with refrigeration machine, 7.5-16 ton, EURO5, carbon dioxide, liquid refri(...)_16 [GLO]\n",
      " [64] market for transport, freight, light commercial vehicle [GLO]\n",
      " [65] market for transport, passenger car, medium size, diesel, EURO 3 [GLO]\n",
      " [66] market for transport, freight, lorry with refrigeration machine, 3.5-7.5 ton, EURO6, carbon dioxide, liquid refr(...)_13 [GLO]\n",
      " [67] market for transport, freight, lorry with refrigeration machine, 3.5-7.5 ton, EURO3, carbon dioxide, liquid refr(...)_11 [GLO]\n",
      " [68] market for transport, passenger car, EURO 5 [RoW]\n",
      " [69] market for transport, passenger car, large size, natural gas, EURO 3 [GLO]\n",
      " [70] market for transport, passenger, electric scooter [GLO]\n",
      " [71] market for transport, passenger car, EURO 4 [RoW]\n",
      " [72] transport, freight, lorry, all sizes, EURO3 to generic market for transport, freight, lorry, unspecified [RER]\n",
      " [73] market for transport, freight, inland waterways, barge with reefer, freezing [GLO]\n",
      " [74] market for transport, freight, lorry with refrigeration machine, 7.5-16 ton, EURO4, carbon dioxide, liquid refri(...)_12 [GLO]\n",
      " [75] market for transport, passenger car, medium size, diesel, EURO 5 [GLO]\n",
      " [76] market for transport, passenger car, small size, natural gas, EURO 3 [GLO]\n",
      " [77] market for transport, freight, lorry with refrigeration machine, 3.5-7.5 ton, EURO4, R134a refrigerant, cooling [GLO]\n",
      " [78] market for transport, freight, lorry with refrigeration machine, 3.5-7.5 ton, EURO6, R134a refrigerant, freezing [GLO]\n",
      " [79] market for transport, freight, lorry >32 metric ton, EURO4 [GLO]\n",
      " [80] market for transport, passenger, motor scooter [GLO]\n",
      " [81] market for transport, passenger car, large size, diesel, EURO 3 [GLO]\n",
      " [82] market for transport, freight, lorry with refrigeration machine, 3.5-7.5 ton, EURO4, carbon dioxide, liquid refr(...)_10 [GLO]\n",
      " [83] market for transport, freight, lorry 7.5-16 metric ton, EURO4 [GLO]\n",
      " [84] market for transport, passenger, bicycle [GLO]\n",
      " [85] market for transport, freight, lorry with refrigeration machine, 3.5-7.5 ton, EURO5, R134a refrigerant, cooling [GLO]\n",
      " [86] market for transport, freight, aircraft [GLO]\n",
      " [87] market for transport, passenger car with internal combustion engine [RER]\n",
      " [88] market for transport, passenger car, EURO 3 [RoW]\n",
      " [89] market for transport, tram [GLO]\n",
      " [90] market for transport, freight, lorry with reefer, freezing [GLO]\n",
      " [91] market for transport, passenger, aircraft [GLO]\n",
      " [92] market for transport, freight, lorry 16-32 metric ton, EURO3 [GLO]\n",
      " [93] market for transport, freight train [CH]\n",
      " [94] market for transport, passenger car, medium size, natural gas, EURO 3 [GLO]\n",
      " [95] market for transport, freight, lorry with refrigeration machine, 7.5-16 ton, EURO6, carbon dioxide, liquid refri(...)_15 [GLO]\n",
      " [96] market for transport, pipeline, long distance, natural gas [GLO]\n",
      " [97] market for transport, freight, sea, liquefied natural gas [GLO]\n",
      " [98] market for transport, passenger car, small size, diesel, EURO 3 [GLO]\n",
      " [99] transport, freight, lorry, all sizes, EURO4 to generic market for transport, freight, lorry, unspecified [RER]\n",
      " [100] market for transport, passenger car, electric [GLO]\n",
      " [101] market for transport, freight, lorry with reefer, cooling [GLO]\n",
      " [102] market for transport, freight, sea, transoceanic tanker [GLO]\n",
      " [103] market for transport, passenger car, medium size, petrol, EURO 5 [GLO]\n",
      " [104] market for transport, freight, lorry with refrigeration machine, 3.5-7.5 ton, EURO3, carbon dioxide, liquid refri(...)_1 [GLO]\n",
      " [105] market for transport, passenger car, EURO 3 [RER]\n",
      " [106] market for transport, freight train [CN]\n",
      " [107] market for transport, passenger, electric bicycle [GLO]\n",
      " [108] market for transport, freight, lorry with refrigeration machine, 3.5-7.5 ton, EURO4, R134a refrigerant, freezing [GLO]\n",
      " [109] market for transport, freight, aircraft with reefer, freezing [GLO]\n",
      " [110] market for transport, freight, lorry 16-32 metric ton, EURO6 [GLO]\n",
      " [111] market for transport, helicopter [GLO]\n",
      " [112] transport, freight, lorry, all sizes, EURO5 to generic market for transport, freight, lorry, unspecified [RoW]\n",
      " [113] market for transport, freight, lorry with refrigeration machine, 3.5-7.5 ton, EURO6, R134a refrigerant, cooling [GLO]\n",
      " [114] market for transport, helicopter, LTO cycle [GLO]\n",
      " [115] market for transport, passenger car [RoW]\n",
      " [116] market for transport, freight, lorry 7.5-16 metric ton, EURO6 [GLO]\n",
      " [117] market for transport, freight, train with reefer, cooling [GLO]\n",
      " [118] market for transport, freight, lorry with refrigeration machine, 7.5-16 ton, EURO6, R134a refrigerant, freezing [GLO]\n",
      " [119] market for transport, freight, lorry with refrigeration machine, 3.5-7.5 ton, EURO5, carbon dioxide, liquid refri(...)_3 [GLO]\n",
      " [120] market for transport, freight, lorry with refrigeration machine, 3.5-7.5 ton, EURO3, R134a refrigerant, cooling [GLO]\n",
      " [121] market for transport, passenger car, EURO 5 [RER]\n",
      " [122] transport, freight, lorry, all sizes, EURO3 to generic market for transport, freight, lorry, unspecified [RoW]\n",
      " [123] market for transport, freight train [RoW]\n",
      " [124] market for transport, passenger car, medium size, petrol, EURO 4 [GLO]\n",
      " [125] market for transport, freight train [US]\n",
      " [126] market for transport, passenger car, large size, diesel, EURO 4 [GLO]\n",
      " [127] market for transport, freight, lorry with refrigeration machine, cooling [GLO]\n",
      " [128] market for transport, freight, lorry >32 metric ton, EURO5 [GLO]\n",
      " [129] market for transport, freight, lorry with refrigeration machine, 7.5-16 ton, EURO6, carbon dioxide, liquid refrig(...)_9 [GLO]\n",
      " [130] market for transport, pipeline, onshore, petroleum [GLO]\n",
      " [131] market for transport, passenger car, large size, natural gas, EURO 5 [GLO]\n",
      " [132] market for transport, freight, lorry >32 metric ton, EURO6 [GLO]\n",
      " [133] market for transport, pipeline, onshore, long distance, natural gas [GLO]\n",
      " [134] market for transport, freight, inland waterways, barge with reefer, cooling [GLO]\n",
      " [135] market for transport, freight, lorry with refrigeration machine, 7.5-16 ton, EURO3, R134a refrigerant, cooling [GLO]\n",
      " [136] market for transport, freight, lorry with refrigeration machine, 7.5-16 ton, EURO4, R134a refrigerant, cooling [GLO]\n",
      " [137] market for transport, freight, lorry 7.5-16 metric ton, EURO3 [GLO]\n",
      " [138] market for transport, freight, lorry with refrigeration machine, 3.5-7.5 ton, EURO5, carbon dioxide, liquid refri(...)_7 [GLO]\n",
      " [139] market for transport, freight, lorry 16-32 metric ton, EURO5 [GLO]\n"
     ]
    }
   ],
   "source": [
    "_ = enum(e34c_i.make_interface('index').processes(Name='market for transport'))"
   ]
  },
  {
   "cell_type": "code",
   "execution_count": 31,
   "metadata": {
    "collapsed": false,
    "deletable": true,
    "editable": true
   },
   "outputs": [
    {
     "name": "stdout",
     "output_type": "stream",
     "text": [
      "Process Entity (ref 5ce19503-5c6e-4b09-a208-6490a73b6a98)\n",
      "origin: local.ecoinvent.3.4.cutoff\n",
      "reference: market for transport, freight, lorry, unspecified [GLO] has Output:     transport, freight, lorry, unspecified [By-product classification: allocatable product] [metric ton*km]\n",
      "            Name: market for transport, freight, lorry, unspecified\n",
      "         Comment: no comment.\n",
      "    SpatialScope: GLO\n",
      "   TemporalScope: {'begin': '2012-01-01', 'end': '2017-12-31'}\n",
      " Classifications: ['EcoSpold01Categories: transport systems/road', 'ISIC rev.4 ecoinvent: 4923:Freight transport by road']\n",
      "ParentActivityId: b3d67b4c-a9cf-4337-8577-ff57f544d404\n"
     ]
    }
   ],
   "source": [
    "lorries[15].show()"
   ]
  },
  {
   "cell_type": "code",
   "execution_count": 32,
   "metadata": {
    "collapsed": false,
    "deletable": true,
    "editable": true
   },
   "outputs": [
    {
     "data": {
      "text/plain": [
       "1902"
      ]
     },
     "execution_count": 32,
     "metadata": {},
     "output_type": "execute_result"
    }
   ],
   "source": [
    "count_deps(lorries[15])"
   ]
  },
  {
   "cell_type": "code",
   "execution_count": 33,
   "metadata": {
    "collapsed": false
   },
   "outputs": [
    {
     "data": {
      "text/plain": [
       "475"
      ]
     },
     "execution_count": 33,
     "metadata": {},
     "output_type": "execute_result"
    }
   ],
   "source": [
    "bg._flat.index_of(lorries[15].external_ref, lorries[15].reference().flow.external_ref)"
   ]
  },
  {
   "cell_type": "code",
   "execution_count": 39,
   "metadata": {
    "collapsed": false
   },
   "outputs": [],
   "source": [
    "_ixg = (_ix for _ix in bg._flat._ad[475,:].nonzero()[1])"
   ]
  },
  {
   "cell_type": "code",
   "execution_count": 43,
   "metadata": {
    "collapsed": false
   },
   "outputs": [
    {
     "data": {
      "text/plain": [
       "8"
      ]
     },
     "execution_count": 43,
     "metadata": {},
     "output_type": "execute_result"
    }
   ],
   "source": [
    "next(_ixg)"
   ]
  },
  {
   "cell_type": "code",
   "execution_count": 48,
   "metadata": {
    "collapsed": true
   },
   "outputs": [],
   "source": [
    "_qg = (q for q in L.entities_by_type('quantity') if not isinstance(q.unit, str))"
   ]
  },
  {
   "cell_type": "code",
   "execution_count": 52,
   "metadata": {
    "collapsed": false
   },
   "outputs": [],
   "source": []
  },
  {
   "cell_type": "code",
   "execution_count": 53,
   "metadata": {
    "collapsed": false
   },
   "outputs": [
    {
     "name": "stdout",
     "output_type": "stream",
     "text": [
      "Quantity Entity (ref ecological scarcity 2013, total, Mineral resources)\n",
      "origin: local.ecoinvent.3.1.lcia\n",
      "reference: [UBP]\n",
      "     Name: ecological scarcity 2013, total, Mineral resources\n",
      "  Comment: Ecoinvent LCIA implementation\n",
      "Indicator: Mineral resources\n",
      "   Method: ecological scarcity 2013\n",
      " Category: total\n"
     ]
    }
   ],
   "source": [
    "qw.show()"
   ]
  },
  {
   "cell_type": "code",
   "execution_count": 47,
   "metadata": {
    "collapsed": false
   },
   "outputs": [
    {
     "data": {
      "text/plain": [
       "'d76e4ec3-a885-4978-aadc-d3d87d6cd08e'"
      ]
     },
     "execution_count": 47,
     "metadata": {},
     "output_type": "execute_result"
    }
   ],
   "source": [
    "bg._flat.fg[8].flow_ref"
   ]
  },
  {
   "cell_type": "code",
   "execution_count": 177,
   "metadata": {
    "collapsed": false,
    "deletable": true,
    "editable": true
   },
   "outputs": [
    {
     "data": {
      "text/plain": [
       "2418"
      ]
     },
     "execution_count": 177,
     "metadata": {},
     "output_type": "execute_result"
    }
   ],
   "source": [
    "sum([count_deps(p) for p in lorries])"
   ]
  },
  {
   "cell_type": "code",
   "execution_count": 173,
   "metadata": {
    "collapsed": false,
    "deletable": true,
    "editable": true
   },
   "outputs": [
    {
     "name": "stdout",
     "output_type": "stream",
     "text": [
      "Reference: cfbce515-3f54-4411-ad9d-3d26b7faa15a\n",
      " 0  Input:     [0.129 [metric ton*km]] (#) transport, freight, lorry, unspecified [By-product classification: allocatable product]\n",
      " 1  Input:     [0.113 [metric ton*km]] (#) transport, freight, lorry, unspecified [By-product classification: allocatable product]\n",
      " 2  Input:     [0.04 [metric ton*km]] (#) transport, freight, lorry, unspecified [By-product classification: allocatable product]\n",
      " 3  Input:     [0.00705 [metric ton*km]] (#) transport, freight, lorry, unspecified [By-product classification: allocatable product]\n",
      " 4  Input:     [0.318 [metric ton*km]] (#) transport, freight, lorry, unspecified [By-product classification: allocatable product]\n",
      " 5  Input:     [0.277 [metric ton*km]] (#) transport, freight, lorry, unspecified [By-product classification: allocatable product]\n",
      " 6  Input:     [0.0984 [metric ton*km]] (#) transport, freight, lorry, unspecified [By-product classification: allocatable product]\n",
      " 7  Input:     [0.0173 [metric ton*km]] (#) transport, freight, lorry, unspecified [By-product classification: allocatable product]\n"
     ]
    }
   ],
   "source": [
    "invs = e34c_inv.get(lorries[15].external_ref).show_inventory(lorries[15].reference().flow.external_ref)"
   ]
  },
  {
   "cell_type": "code",
   "execution_count": 176,
   "metadata": {
    "collapsed": false,
    "deletable": true,
    "editable": true
   },
   "outputs": [
    {
     "name": "stdout",
     "output_type": "stream",
     "text": [
      "transport, freight, lorry, all sizes, EURO3 to generic market for transport, freight, lorry, unspecified [RER]\n",
      "transport, freight, lorry, all sizes, EURO4 to generic market for transport, freight, lorry, unspecified [RER]\n",
      "transport, freight, lorry, all sizes, EURO5 to generic market for transport, freight, lorry, unspecified [RER]\n",
      "transport, freight, lorry, all sizes, EURO6 to generic market for transport, freight, lorry, unspecified [RER]\n",
      "transport, freight, lorry, all sizes, EURO3 to generic market for transport, freight, lorry, unspecified [RoW]\n",
      "transport, freight, lorry, all sizes, EURO4 to generic market for transport, freight, lorry, unspecified [RoW]\n",
      "transport, freight, lorry, all sizes, EURO5 to generic market for transport, freight, lorry, unspecified [RoW]\n",
      "transport, freight, lorry, all sizes, EURO6 to generic market for transport, freight, lorry, unspecified [RoW]\n"
     ]
    }
   ],
   "source": [
    "for i in invs:\n",
    "    print(e34c_i[i.termination])"
   ]
  },
  {
   "cell_type": "code",
   "execution_count": 162,
   "metadata": {
    "collapsed": false,
    "deletable": true,
    "editable": true
   },
   "outputs": [
    {
     "data": {
      "text/plain": [
       "1"
      ]
     },
     "execution_count": 162,
     "metadata": {},
     "output_type": "execute_result"
    }
   ],
   "source": [
    "count_deps(lorries[4])"
   ]
  },
  {
   "cell_type": "code",
   "execution_count": 119,
   "metadata": {
    "collapsed": false,
    "deletable": true,
    "editable": true
   },
   "outputs": [
    {
     "data": {
      "text/plain": [
       "'e06932cf-8d90-4eaf-acf5-091aa3ec885e'"
      ]
     },
     "execution_count": 119,
     "metadata": {},
     "output_type": "execute_result"
    }
   ],
   "source": [
    "truck.reference().flow.external_ref"
   ]
  },
  {
   "cell_type": "code",
   "execution_count": 142,
   "metadata": {
    "collapsed": false,
    "deletable": true,
    "editable": true
   },
   "outputs": [
    {
     "data": {
      "text/plain": [
       "False"
      ]
     },
     "execution_count": 142,
     "metadata": {},
     "output_type": "execute_result"
    }
   ],
   "source": [
    "bg.is_in_background(truck.external_ref, truck.reference().flow.external_ref)"
   ]
  },
  {
   "cell_type": "code",
   "execution_count": 120,
   "metadata": {
    "collapsed": false,
    "deletable": true,
    "editable": true
   },
   "outputs": [],
   "source": [
    "row = bg._flat.index_of(truck.external_ref, truck.reference().flow.external_ref)"
   ]
  },
  {
   "cell_type": "code",
   "execution_count": 121,
   "metadata": {
    "collapsed": false,
    "deletable": true,
    "editable": true
   },
   "outputs": [
    {
     "data": {
      "text/plain": [
       "<1x4514 sparse matrix of type '<class 'numpy.float64'>'\n",
       "\twith 0 stored elements in Compressed Sparse Row format>"
      ]
     },
     "execution_count": 121,
     "metadata": {},
     "output_type": "execute_result"
    }
   ],
   "source": [
    "bg._flat._ad[row,:]"
   ]
  },
  {
   "cell_type": "code",
   "execution_count": 123,
   "metadata": {
    "collapsed": false,
    "deletable": true,
    "editable": true
   },
   "outputs": [
    {
     "data": {
      "text/plain": [
       "<1x10375 sparse matrix of type '<class 'numpy.float64'>'\n",
       "\twith 1 stored elements in Compressed Sparse Row format>"
      ]
     },
     "execution_count": 123,
     "metadata": {},
     "output_type": "execute_result"
    }
   ],
   "source": [
    "bg._flat._A[row,:]"
   ]
  },
  {
   "cell_type": "code",
   "execution_count": 143,
   "metadata": {
    "collapsed": false,
    "deletable": true,
    "editable": true
   },
   "outputs": [
    {
     "data": {
      "text/plain": [
       "1"
      ]
     },
     "execution_count": 143,
     "metadata": {},
     "output_type": "execute_result"
    }
   ],
   "source": [
    "bg._flat._A[row,:].nnz"
   ]
  },
  {
   "cell_type": "code",
   "execution_count": 126,
   "metadata": {
    "collapsed": true,
    "deletable": true,
    "editable": true
   },
   "outputs": [],
   "source": [
    "from antelope_catalog.providers import EcospoldV2Archive"
   ]
  },
  {
   "cell_type": "code",
   "execution_count": 138,
   "metadata": {
    "collapsed": false,
    "deletable": true,
    "editable": true
   },
   "outputs": [
    {
     "data": {
      "text/plain": [
       "'/data/LCI/Ecoinvent/3.4/ecoinvent 3.4_cutoff_ecoSpold02'"
      ]
     },
     "execution_count": 138,
     "metadata": {},
     "output_type": "execute_result"
    }
   ],
   "source": [
    "next(e34c_i.get_sources('local.ecoinvent.3.4.cutoff'))"
   ]
  },
  {
   "cell_type": "code",
   "execution_count": 139,
   "metadata": {
    "collapsed": false,
    "deletable": true,
    "editable": true
   },
   "outputs": [
    {
     "name": "stdout",
     "output_type": "stream",
     "text": [
      "local.data.LCI.Ecoinvent.3.4.ecoinvent 3.4_cutoff_ecoSpold02: /data/LCI/Ecoinvent/3.4/ecoinvent 3.4_cutoff_ecoSpold02\n"
     ]
    }
   ],
   "source": [
    "e34c_inv = EcospoldV2Archive(next(e34c_i.get_sources('local.ecoinvent.3.4.cutoff')), prefix='datasets')"
   ]
  },
  {
   "cell_type": "code",
   "execution_count": 141,
   "metadata": {
    "collapsed": false,
    "deletable": true,
    "editable": true
   },
   "outputs": [
    {
     "name": "stdout",
     "output_type": "stream",
     "text": [
      "market for wastewater treatment facility, capacity 5E9l/year [RoW]\n",
      " 0 Output: {*} [1 [unit]]     wastewater treatment facility, capacity 5E9l/year [By-product classification: allocatable product]\n",
      " 1  Input:     [ ---  [unit]] (#) wastewater treatment facility, capacity 5E9l/year [By-product classification: allocatable product]\n",
      " 2  Input:     [ ---  [unit]] (#) wastewater treatment facility, capacity 5E9l/year [By-product classification: allocatable product]\n"
     ]
    },
    {
     "data": {
      "text/plain": [
       "[<lcatools.exchanges.ExchangeValue at 0x7f88d5ccb860>,\n",
       " <lcatools.exchanges.ExchangeValue at 0x7f88b1ce0470>,\n",
       " <lcatools.exchanges.ExchangeValue at 0x7f88b1ce0eb8>]"
      ]
     },
     "execution_count": 141,
     "metadata": {},
     "output_type": "execute_result"
    }
   ],
   "source": [
    "e34c_inv.get(bg._flat._bg[4453].term_ref).show_inventory()"
   ]
  },
  {
   "cell_type": "code",
   "execution_count": null,
   "metadata": {
    "collapsed": true,
    "deletable": true,
    "editable": true
   },
   "outputs": [],
   "source": []
  },
  {
   "cell_type": "code",
   "execution_count": 88,
   "metadata": {
    "collapsed": false,
    "deletable": true,
    "editable": true
   },
   "outputs": [
    {
     "data": {
      "text/plain": [
       "<bound method spmatrix.nonzero of <1x10375 sparse matrix of type '<class 'numpy.float64'>'\n",
       "\twith 1 stored elements in Compressed Sparse Row format>>"
      ]
     },
     "execution_count": 88,
     "metadata": {},
     "output_type": "execute_result"
    }
   ],
   "source": [
    "_.nonzero"
   ]
  },
  {
   "cell_type": "code",
   "execution_count": 191,
   "metadata": {
    "collapsed": false,
    "deletable": true,
    "editable": true
   },
   "outputs": [],
   "source": [
    "ma = e34c_i['0a30d1a5-f5ab-4384-9ab0-06a66e56e47b']"
   ]
  },
  {
   "cell_type": "code",
   "execution_count": 192,
   "metadata": {
    "collapsed": false,
    "deletable": true,
    "editable": true
   },
   "outputs": [
    {
     "name": "stdout",
     "output_type": "stream",
     "text": [
      "Quantity Entity (ref ReCiPe Midpoint (H), climate change, GWP100)\n",
      "origin: local.ecoinvent.3.1.lcia\n",
      "reference: [kg CO2-Eq]\n",
      "     Name: ReCiPe Midpoint (H), climate change, GWP100\n",
      "  Comment: Ecoinvent LCIA implementation\n",
      " Category: climate change\n",
      "Indicator: GWP100\n",
      "   Method: ReCiPe Midpoint (H)\n"
     ]
    }
   ],
   "source": [
    "recipes[0].show()"
   ]
  },
  {
   "cell_type": "code",
   "execution_count": 193,
   "metadata": {
    "collapsed": false,
    "deletable": true,
    "editable": true
   },
   "outputs": [
    {
     "name": "stdout",
     "output_type": "stream",
     "text": [
      "completed 66 iterations\n"
     ]
    }
   ],
   "source": [
    "res = qdb.do_lcia(recipes[0], bg.lci(ma.external_ref, ma.reference().flow.external_ref))"
   ]
  },
  {
   "cell_type": "code",
   "execution_count": 194,
   "metadata": {
    "collapsed": false,
    "deletable": true,
    "editable": true
   },
   "outputs": [
    {
     "name": "stdout",
     "output_type": "stream",
     "text": [
      "ReCiPe Midpoint (H), climate change, GWP100 [kg CO2-Eq] [LCIA] kg CO2-Eq\n",
      "------------------------------------------------------------\n",
      "      2.53 ReCiPe Midpoint (H), climate change, GWP100 [kg CO2-Eq] [LCIA]\n"
     ]
    }
   ],
   "source": [
    "res.show()"
   ]
  }
 ],
 "metadata": {
  "kernelspec": {
   "display_name": "lca-tools",
   "language": "python",
   "name": "lca-tools"
  },
  "language_info": {
   "codemirror_mode": {
    "name": "ipython",
    "version": 3
   },
   "file_extension": ".py",
   "mimetype": "text/x-python",
   "name": "python",
   "nbconvert_exporter": "python",
   "pygments_lexer": "ipython3",
   "version": "3.6.6"
  }
 },
 "nbformat": 4,
 "nbformat_minor": 2
}
