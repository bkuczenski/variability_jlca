{
 "cells": [
  {
   "cell_type": "markdown",
   "metadata": {},
   "source": [
    "## Part 3 - Markets and Ecoinvent\n",
    "In this section I want to make the following points:\n",
    " - The use of Market processes dominates the construction of ecoinvent\n",
    " - Most markets are shallow (few suppliers, even fewer meaningfully distinct suppliers)\n",
    " - even apparently broad markets can have narrow observational / documentary basis\n",
    " \n",
    " "
   ]
  },
  {
   "cell_type": "code",
   "execution_count": 1,
   "metadata": {},
   "outputs": [],
   "source": [
    "STUDY_PATH = '/data/GitHub/2018/variability_jlca/'\n",
    "CATALOG = STUDY_PATH + 'catalog'"
   ]
  },
  {
   "cell_type": "code",
   "execution_count": 2,
   "metadata": {},
   "outputs": [],
   "source": [
    "from antelope_catalog import LcCatalog\n",
    "from lcatools import enum"
   ]
  },
  {
   "cell_type": "code",
   "execution_count": 3,
   "metadata": {},
   "outputs": [
    {
     "name": "stdout",
     "output_type": "stream",
     "text": [
      "Loading JSON data from /data/GitHub/lca-tools/lcatools/qdb/data/flowable_synlist.json:\n",
      "Loading JSON data from /data/GitHub/lca-tools/lcatools/qdb/data/quantity_synlist.json:\n",
      "local.qdb: /data/GitHub/2018/variability_jlca/catalog/reference-quantities.json\n",
      "Loading JSON data from /data/GitHub/2018/variability_jlca/catalog/reference-quantities.json:\n",
      "local.qdb: /data/GitHub/lca-tools/lcatools/qdb/data/elcd_reference_quantities.json\n",
      "25 new quantity entities added (25 total)\n",
      "6 new flow entities added (6 total)\n"
     ]
    }
   ],
   "source": [
    "cat = LcCatalog(CATALOG, quell_biogenic_CO2=True)"
   ]
  },
  {
   "cell_type": "markdown",
   "metadata": {},
   "source": [
    "Specific questions we want to answer in a table:\n",
    "\n",
    "\n",
    "------------- APOS ----- CUTOFF\n",
    "- Total number of activities \n",
    "\n",
    "- Number of markets \n",
    "\n",
    "- Total number of exchanges \n",
    "- Number of exchanges provided by markets \n",
    "- Number of exchanges provided by nonmarkets \n",
    "\n",
    "- Number of nonmarket activities consumed by nonmarkets \n",
    "\n"
   ]
  },
  {
   "cell_type": "code",
   "execution_count": 4,
   "metadata": {},
   "outputs": [],
   "source": [
    "origins = ('local.ecoinvent.3.4.apos', 'local.ecoinvent.3.4.cutoff')"
   ]
  },
  {
   "cell_type": "code",
   "execution_count": 5,
   "metadata": {},
   "outputs": [
    {
     "name": "stdout",
     "output_type": "stream",
     "text": [
      "local.ecoinvent.3.4.apos [basic, inventory]\n",
      "local.ecoinvent.3.4.apos.index.20190118 [background, basic, index]\n",
      "local.ecoinvent.3.4.conseq [basic, inventory]\n",
      "local.ecoinvent.3.4.cutoff [basic, inventory]\n",
      "local.ecoinvent.3.4.cutoff.index.20190118 [background, basic, index]\n",
      "local.lcia.ecoinvent.3.1 [basic, index, quantity]\n",
      "local.qdb [basic, index, quantity]\n"
     ]
    }
   ],
   "source": [
    "cat.show_interfaces()"
   ]
  },
  {
   "cell_type": "code",
   "execution_count": 6,
   "metadata": {},
   "outputs": [],
   "source": [
    "qc = cat.query(origins[1])"
   ]
  },
  {
   "cell_type": "code",
   "execution_count": 7,
   "metadata": {},
   "outputs": [
    {
     "name": "stdout",
     "output_type": "stream",
     "text": [
      "Loading JSON data from /data/GitHub/2018/variability_jlca/catalog/index/ffc0f70037f9e921067e85ac7e2d4ff0ba1bc3b5.json.gz:\n",
      "local.ecoinvent.3.4.cutoff.index.20190118: /data/GitHub/2018/variability_jlca/catalog/index/ffc0f70037f9e921067e85ac7e2d4ff0ba1bc3b5.json.gz\n",
      "local.ecoinvent.3.4.cutoff: /data/LCI/Ecoinvent/3.4/ecoinvent 3.4_cutoff_ecoSpold02\n",
      "13459 new process entities added (13459 total)\n",
      "19 new quantity entities added (19 total)\n",
      "4881 new flow entities added (4881 total)\n"
     ]
    },
    {
     "data": {
      "text/plain": [
       "3966"
      ]
     },
     "execution_count": 7,
     "metadata": {},
     "output_type": "execute_result"
    }
   ],
   "source": [
    "# total number of markets - cutoff\n",
    "len([x for x in qc.processes(Name='^market')])"
   ]
  },
  {
   "cell_type": "code",
   "execution_count": 8,
   "metadata": {},
   "outputs": [
    {
     "name": "stdout",
     "output_type": "stream",
     "text": [
      "Loading JSON data from /data/GitHub/2018/variability_jlca/catalog/index/a57075ecd68e35920696904ec830bc522fc6b2b2.json.gz:\n",
      "local.ecoinvent.3.4.apos.index.20190118: /data/GitHub/2018/variability_jlca/catalog/index/a57075ecd68e35920696904ec830bc522fc6b2b2.json.gz\n",
      "local.ecoinvent.3.4.apos: /data/LCI/Ecoinvent/3.4/ecoinvent 3.4_apos_ecoSpold02\n",
      "13290 new process entities added (13290 total)\n",
      "19 new quantity entities added (19 total)\n",
      "4851 new flow entities added (4851 total)\n"
     ]
    },
    {
     "data": {
      "text/plain": [
       "3916"
      ]
     },
     "execution_count": 8,
     "metadata": {},
     "output_type": "execute_result"
    }
   ],
   "source": [
    "# total number of markets - apos\n",
    "len([x for x in cat.query(origins[0]).processes(Name='^market')])"
   ]
  },
  {
   "cell_type": "code",
   "execution_count": 9,
   "metadata": {},
   "outputs": [],
   "source": [
    "def _consumers_row(query, rf):\n",
    "    count = len([x for x in query.consumers(rf.process.external_ref, rf.flow.external_ref)])\n",
    "    return rf.process._name, rf.flow.external_ref, count\n",
    "\n",
    "\n",
    "def do_row_count(origin):\n",
    "    rowcount = []\n",
    "    _q = cat.query(origin)\n",
    "    for f in _q.foreground_flows():\n",
    "        rowcount.append(_consumers_row(_q, f))\n",
    "\n",
    "    for b in _q.background_flows():\n",
    "        rowcount.append(_consumers_row(_q, b))\n",
    "    \n",
    "    print(origin)\n",
    "    print('Total activities: %d' % len(rowcount))\n",
    "    tot_exc = sum([k[2] for k in rowcount])\n",
    "    print('\\nTotal off-diagonal exchanges: %d' % tot_exc)\n",
    "    bymkt = sum([k[2] for k in rowcount if k[0].startswith('market')])\n",
    "    print('Exchanges satisfied by market: %d' % bymkt)\n",
    "    print('Exchanges satisfied by supplier: %d' % (tot_exc - bymkt))\n",
    "    print('Supplier fraction: %.5f' % ((tot_exc - bymkt) / tot_exc))\n",
    "    return rowcount\n",
    "\n"
   ]
  },
  {
   "cell_type": "code",
   "execution_count": 10,
   "metadata": {},
   "outputs": [
    {
     "name": "stdout",
     "output_type": "stream",
     "text": [
      "local.ecoinvent.3.4.cutoff.index.20190118: /data/GitHub/2018/variability_jlca/catalog/archives/local.ecoinvent.3.4.cutoff.index.20190118_background.mat\n",
      "Loading JSON data from /data/GitHub/2018/variability_jlca/catalog/archives/local.ecoinvent.3.4.cutoff.index.20190118_background.mat.index.json.gz:\n",
      "local.ecoinvent.3.4.cutoff\n",
      "Total activities: 14889\n",
      "\n",
      "Total off-diagonal exchanges: 140342\n",
      "Exchanges satisfied by market: 124375\n",
      "Exchanges satisfied by supplier: 15967\n",
      "Supplier fraction: 0.11377\n"
     ]
    }
   ],
   "source": [
    "rc_cutoff = do_row_count(origins[1])"
   ]
  },
  {
   "cell_type": "code",
   "execution_count": 11,
   "metadata": {},
   "outputs": [
    {
     "name": "stdout",
     "output_type": "stream",
     "text": [
      "local.ecoinvent.3.4.apos.index.20190118: /data/GitHub/2018/variability_jlca/catalog/archives/local.ecoinvent.3.4.apos.index.20190118_background.mat\n",
      "Loading JSON data from /data/GitHub/2018/variability_jlca/catalog/archives/local.ecoinvent.3.4.apos.index.20190118_background.mat.index.json.gz:\n",
      "local.ecoinvent.3.4.apos\n",
      "Total activities: 14927\n",
      "\n",
      "Total off-diagonal exchanges: 358524\n",
      "Exchanges satisfied by market: 321811\n",
      "Exchanges satisfied by supplier: 36713\n",
      "Supplier fraction: 0.10240\n"
     ]
    }
   ],
   "source": [
    "rc_apos = do_row_count(origins[0])"
   ]
  },
  {
   "cell_type": "markdown",
   "metadata": {},
   "source": [
    "- number of nonmarket activities consumed by nonmarkets"
   ]
  },
  {
   "cell_type": "code",
   "execution_count": 67,
   "metadata": {},
   "outputs": [],
   "source": [
    "def nontrivial_producer(origin):\n",
    "    query = cat.query(origin)\n",
    "    count = list((0, 0, 0))\n",
    "    for p in query.processes():\n",
    "        if p['Name'].startswith('market'):\n",
    "            continue\n",
    "        for rx in p.references():\n",
    "            cons = [t for t in p.consumers(rx.flow)]\n",
    "            nmcons = [t for t in cons if not t.process['Name'].startswith('market')]\n",
    "            if len(cons) > 1:\n",
    "                count[0] += 1\n",
    "                # print(rx)\n",
    "                # print('%d consumers' % len(cons))\n",
    "            if len(nmcons) > 0:\n",
    "                count[1] += 1\n",
    "                # print('%d nonmarket consumers' % len(nmcons))\n",
    "            if len(cons) == len(nmcons):\n",
    "                count[2] += 1\n",
    "            yield len(cons), len(nmcons), rx\n",
    "    print('%d multiconsumers;; %d nonmarket consumers;; %d un-marketed' % (count[0], count[1], count[2]))\n",
    "\n",
    "def do_nm_count(origin):\n",
    "    _nmc_ = [rx for rx in nontrivial_producer(origin)]\n",
    "    _supp = sum([k[0] for k in _nmc_])\n",
    "    _dir = sum([k[1] for k in _nmc_])\n",
    "    _uma = sum([k[2] for k in _nmc_])\n",
    "    print('Non-markets: %d' % len(_nmc_))\n",
    "    print('Supplier consumption: %d' % _supp)\n",
    "    print('Direct consumption: %d' % _dir)\n",
    "    print('Activities not included in a market: %d' % _uma)\n",
    "    return _nmc_\n",
    "    "
   ]
  },
  {
   "cell_type": "code",
   "execution_count": 60,
   "metadata": {},
   "outputs": [],
   "source": [
    "unmarketed = (k[2] for k in nm_cutoff if k[0] == k[1] != 0)"
   ]
  },
  {
   "cell_type": "code",
   "execution_count": 73,
   "metadata": {},
   "outputs": [],
   "source": [
    "um = next(unmarketed)"
   ]
  },
  {
   "cell_type": "code",
   "execution_count": 74,
   "metadata": {},
   "outputs": [
    {
     "data": {
      "text/plain": [
       "'[local.ecoinvent.3.4.cutoff] inert material landfill construction [CH]'"
      ]
     },
     "execution_count": 74,
     "metadata": {},
     "output_type": "execute_result"
    }
   ],
   "source": [
    "str(um.process)"
   ]
  },
  {
   "cell_type": "code",
   "execution_count": 75,
   "metadata": {},
   "outputs": [
    {
     "data": {
      "text/plain": [
       "['[local.ecoinvent.3.4.cutoff] treatment of waste paperboard, inert material landfill [CH]',\n",
       " '[local.ecoinvent.3.4.cutoff] treatment of waste emulsion paint, inert material landfill [CH]',\n",
       " '[local.ecoinvent.3.4.cutoff] treatment of waste plastic plaster, inert material landfill [CH]',\n",
       " '[local.ecoinvent.3.4.cutoff] treatment of inert waste, inert material landfill [CH]',\n",
       " '[local.ecoinvent.3.4.cutoff] treatment of waste polyurethane, inert material landfill [CH]',\n",
       " '[local.ecoinvent.3.4.cutoff] treatment of waste gypsum, inert material landfill [CH]',\n",
       " '[local.ecoinvent.3.4.cutoff] treatment of scrap steel, inert material landfill [CH]',\n",
       " '[local.ecoinvent.3.4.cutoff] treatment of waste zeolite, inert material landfill [CH]',\n",
       " '[local.ecoinvent.3.4.cutoff] treatment of waste paint, inert material landfill [CH]',\n",
       " '[local.ecoinvent.3.4.cutoff] treatment of waste mineral wool, inert material landfill [CH]',\n",
       " '[local.ecoinvent.3.4.cutoff] treatment of waste glass, inert material landfill [CH]',\n",
       " '[local.ecoinvent.3.4.cutoff] treatment of decommissioned pipeline, natural gas, inert material landfill [CH]',\n",
       " '[local.ecoinvent.3.4.cutoff] treatment of limestone residue, inert material landfill [CH]',\n",
       " '[local.ecoinvent.3.4.cutoff] treatment of waste concrete, inert material landfill [CH]',\n",
       " '[local.ecoinvent.3.4.cutoff] treatment of slag from metallurgical grade silicon production, inert material landfill [CH]']"
      ]
     },
     "execution_count": 75,
     "metadata": {},
     "output_type": "execute_result"
    }
   ],
   "source": [
    "[str(x.process) for x in um.process.consumers()]"
   ]
  },
  {
   "cell_type": "code",
   "execution_count": 13,
   "metadata": {},
   "outputs": [
    {
     "name": "stdout",
     "output_type": "stream",
     "text": [
      "1804 multiconsumers;; 1838 nonmarket consumers\n",
      "Non-markets: 10923\n",
      "Supplier consumption: 15967\n",
      "Direct consumption: 5692\n"
     ]
    }
   ],
   "source": [
    "nm_cutoff = do_nm_count(origins[1])"
   ]
  },
  {
   "cell_type": "code",
   "execution_count": 14,
   "metadata": {},
   "outputs": [
    {
     "name": "stdout",
     "output_type": "stream",
     "text": [
      "1939 multiconsumers;; 1966 nonmarket consumers\n",
      "Non-markets: 11011\n",
      "Supplier consumption: 36713\n",
      "Direct consumption: 26314\n"
     ]
    }
   ],
   "source": [
    "nmc_apos = do_nm_count(origins[0])"
   ]
  },
  {
   "cell_type": "markdown",
   "metadata": {},
   "source": [
    "-------------- APOS ----- CUTOFF\n",
    "- Number of markets \n",
    "- Number of singleton markets\n",
    "- Number of shallow markets (dynamic range < 1%)\n",
    "- Number of robust markets (N>2, dynamic range > 5%)\n",
    "\n",
    "- Number of transport, freight, lorry\n",
    "- number of market for transport, freight, lorry\n",
    "- consumption of lorry processes hist / lolly\n",
    "\n",
    "\n"
   ]
  },
  {
   "cell_type": "code",
   "execution_count": 45,
   "metadata": {},
   "outputs": [],
   "source": [
    "# let's try counting the market consumers directly\n",
    "def count_market_inputs(origin):\n",
    "    counts = []\n",
    "    _q = cat.query(origin)\n",
    "    for p in _q.processes(Name='^market'):\n",
    "        ref = p.reference()\n",
    "        dep = [k for k in p.inventory(ref) if k.termination is not None]\n",
    "        supp = [k for k in dep if not _q.get(k.termination)['Name'].startswith('market')]\n",
    "        slf = [k for k in dep if k.flow == ref.flow]\n",
    "        \n",
    "        counts.append((len(dep), len(supp), len(slf), p))\n",
    "    print(origin)\n",
    "    print('Markets: %d' % len(counts))\n",
    "    print('Total Market inputs: %d' % sum([k[0] for k in counts]))\n",
    "    print('Total Direct Supply exchanges: %d' % sum([k[1] for k in counts]))\n",
    "    print('Total Same-ref exchanges: %d (includes market-to-market)' % sum([k[2] for k in counts]))\n",
    "    return counts"
   ]
  },
  {
   "cell_type": "code",
   "execution_count": 46,
   "metadata": {},
   "outputs": [
    {
     "name": "stdout",
     "output_type": "stream",
     "text": [
      "local.ecoinvent.3.4.apos\n",
      "Markets: 3916\n",
      "Total Market inputs: 19338\n",
      "Total Direct Supply exchanges: 10399\n",
      "Total Same-ref exchanges: 11735 (includes market-to-market)\n"
     ]
    }
   ],
   "source": [
    "ms_apos = count_market_inputs(origins[0])"
   ]
  },
  {
   "cell_type": "code",
   "execution_count": 47,
   "metadata": {},
   "outputs": [
    {
     "name": "stdout",
     "output_type": "stream",
     "text": [
      "local.ecoinvent.3.4.cutoff: /data/LCI/Ecoinvent/3.4/ecoinvent 3.4_cutoff_ecoSpold02\n",
      "local.ecoinvent.3.4.cutoff\n",
      "Markets: 3966\n",
      "Total Market inputs: 19388\n",
      "Total Direct Supply exchanges: 10275\n",
      "Total Same-ref exchanges: 11611 (includes market-to-market)\n"
     ]
    }
   ],
   "source": [
    "ms_cutoff = count_market_inputs(origins[1])"
   ]
  },
  {
   "cell_type": "code",
   "execution_count": 18,
   "metadata": {},
   "outputs": [],
   "source": [
    "from matplotlib import pyplot as plt\n",
    "%matplotlib inline"
   ]
  },
  {
   "cell_type": "code",
   "execution_count": 19,
   "metadata": {},
   "outputs": [],
   "source": [
    "from collections import Counter"
   ]
  },
  {
   "cell_type": "code",
   "execution_count": 34,
   "metadata": {},
   "outputs": [
    {
     "data": {
      "text/plain": [
       "['market for steel removed by turning, primarily dressing, conventional [GLO]',\n",
       " 'market for fava bean, feed, Swiss integrated production [GLO]',\n",
       " 'market for land use change, annual crop [ES]',\n",
       " 'market for land use change, annual crop [HU]',\n",
       " 'market for transport, freight, lorry with refrigeration machine, 7.5-16 ton, EURO6, carbon dioxide, liquid refri(...)_15 [GLO]',\n",
       " 'market for electrostatic paint [GLO]',\n",
       " 'market for contouring, bronze [GLO]',\n",
       " 'market for operation, internet access equipment [GLO]',\n",
       " 'market for milking parlour [GLO]',\n",
       " 'market for transport, freight, lorry with refrigeration machine, freezing [GLO]',\n",
       " 'market for furnace, logs, hardwood storage area, 100kW [GLO]',\n",
       " 'market for sawnwood, hardwood, raw, dried (u=10%) [RoW]',\n",
       " 'market for indium rich leaching residues, from zinc production stockpiling [GLO]',\n",
       " 'market for blower and heat exchange unit, Storkair G 90 [GLO]',\n",
       " 'market for maintenance, train, passenger, long distance [GLO]',\n",
       " 'market for acetanilide [GLO]',\n",
       " 'market for electric scooter, without battery [GLO]',\n",
       " 'market for polishing powder [GLO]',\n",
       " 'market for maintenance, intermodal shipping container, 40-foot, high-cube [GLO]',\n",
       " 'market for chlorotoluron [GLO]',\n",
       " 'market for maize grain, feed, Swiss integrated production [GLO]',\n",
       " 'market for ethylene bromide [GLO]',\n",
       " 'market for door, outer, wood-glass [GLO]',\n",
       " 'market for steel removed by milling, dressing [GLO]',\n",
       " 'market for lightweight concrete block, expanded clay [CH]',\n",
       " 'market for road maintenance [GLO]',\n",
       " 'market for orthophthalic acid based unsaturated polyester resin [GLO]',\n",
       " 'market for isopropylamine [GLO]',\n",
       " 'market for energy wood harvester [GLO]',\n",
       " 'market for impact extrusion of aluminium, cold, tempering [GLO]',\n",
       " 'market for inductor, low value multilayer chip [GLO]',\n",
       " 'market for chicken for slaughtering, live weight [GLO]',\n",
       " 'market for grass seed, organic, for sowing [GLO]',\n",
       " 'market for aluminium removed by turning, average, computer numerical controlled [GLO]',\n",
       " 'market for paper, newsprint [RER]',\n",
       " 'market for window frame, poly vinyl chloride, U=1.6 W/m2K [GLO]',\n",
       " 'market for land tenure, arable land, measured as carbon net primary productivity, annual crop [FR]',\n",
       " 'market for transport, freight, sea, transoceanic ship with reefer, freezing [GLO]',\n",
       " 'market for ethylene, pipeline system [GLO]',\n",
       " 'market for stirling heat and power co-generation unit, 3kW electrical, wood pellet, future [GLO]',\n",
       " 'market for soybean beverage [GLO]',\n",
       " 'market for machine operation, diesel, >= 18.64 kW and < 74.57 kW, low load factor [GLO]',\n",
       " 'market for laser machining, metal, with CO2-laser, 6000W power [GLO]',\n",
       " 'market for metaldehyde [GLO]',\n",
       " 'market for wood cladding, softwood [GLO]',\n",
       " 'market for bundle, energy wood, measured as dry mass [GLO]',\n",
       " 'market for blower and heat exchange unit, Twl-700 [GLO]',\n",
       " 'market for stearic acid [GLO]',\n",
       " 'market for cyanogen chloride [GLO]',\n",
       " 'market for gypsum fibreboard [GLO]',\n",
       " 'market for 2-methyl-1-butanol [GLO]',\n",
       " 'market for land tenure, arable land, measured as carbon net primary productivity, annual crop [RU]',\n",
       " 'market for lightweight concrete block, expanded perlite [RoW]',\n",
       " 'market for tetrafluoroethylene film, on glass [GLO]',\n",
       " 'market for deep well closure [GLO]',\n",
       " 'market for transport, trolleybus [GLO]',\n",
       " 'market for land tenure, arable land, measured as carbon net primary productivity, annual crop [FI]',\n",
       " 'market for transport, freight, lorry with refrigeration machine, 7.5-16 ton, EURO4, carbon dioxide, liquid refri(...)_12 [GLO]',\n",
       " 'market for activated carbon, granular [GLO]',\n",
       " 'market for impact extrusion of steel, hot, tempering [GLO]',\n",
       " 'market for milking [GLO]',\n",
       " 'market for sodium hydrogen sulfate [GLO]',\n",
       " 'market for rye grain, feed, organic [GLO]',\n",
       " 'market for floor heating from air-water heat pump [CH]',\n",
       " 'market for brass removed by drilling, computer numerical controlled [GLO]',\n",
       " 'market for polystyrene foam slab for perimeter insulation [GLO]',\n",
       " 'market for lorry, 28 metric ton [GLO]',\n",
       " 'market for grass silage, Swiss integrated production [GLO]',\n",
       " 'market for operation, computer, desktop, home use [GLO]',\n",
       " 'market for transport, freight, inland waterways, barge with reefer, freezing [GLO]',\n",
       " 'market for hard chromium coat, electroplating, steel substrate, 0.14 mm thickness [GLO]',\n",
       " 'market for fatty alcohol sulfate [RER]',\n",
       " 'market for transport, pipeline, offshore, petroleum [GLO]',\n",
       " 'market for polyethylene terephthalate, granulate, bottle grade [GLO]',\n",
       " 'market for copper, cathode [GLO]',\n",
       " 'market for aluminium alloy, AlLi [GLO]',\n",
       " 'market for aluminium, primary, cast alloy slab from continuous casting [GLO]',\n",
       " 'market for anthranilic acid [GLO]',\n",
       " 'market for residual hardwood, wet [GLO]',\n",
       " 'market for natural stone plate, grounded [GLO]',\n",
       " 'market for o-nitrophenol [GLO]',\n",
       " 'market for dimethyl carbonate [GLO]',\n",
       " 'market for trichloropropane [GLO]',\n",
       " 'market for sodium tetrafluoroborate [GLO]',\n",
       " 'market for nuclear fuel element, for pressure water reactor, UO2 4.2% centrifuge & MOX [GLO]',\n",
       " 'market for selective coat, stainless steel sheet, black chrome [GLO]',\n",
       " 'market for 2-cyclopentone [GLO]',\n",
       " 'market for cover plaster, mineral [GLO]',\n",
       " 'market for anode slime, silver and tellurium containing stockpiling [GLO]',\n",
       " 'market for intermodal shipping container, 45-foot, high-cube [GLO]',\n",
       " 'market for window frame, aluminium, U=1.6 W/m2K [GLO]',\n",
       " 'market for heat and power co-generation unit, organic Rankine cycle, 1400kW thermal, common components, heat+electricity [GLO]',\n",
       " 'market for heat distribution equipment, hydronic radiant floor heating, 150m2 [GLO]',\n",
       " 'market for heat, central or small-scale, natural gas and heat pump, Jakobsberg [GLO]',\n",
       " 'market for aluminium chloride [GLO]',\n",
       " 'market for battery, NaCl [GLO]',\n",
       " 'market for o-cresol [GLO]',\n",
       " 'market for deep drawing, steel, 38000 kN press, automode [GLO]',\n",
       " 'market for furnace, wood chips, hardwood storage area, 1000kW [GLO]',\n",
       " 'market for trichloroborane [GLO]',\n",
       " 'market for chromium steel removed by milling, average [GLO]',\n",
       " 'market for lead concentrate stockpiling [GLO]',\n",
       " 'market for cocamide diethanolamine [GLO]',\n",
       " 'market for roundwood, meranti from sustainable forest management, under bark [GLO]',\n",
       " 'market for ryegrass-Egyptian&Persian clover-mixture silage [GLO]',\n",
       " 'market for steel removed by drilling, conventional [GLO]',\n",
       " 'market for impact extrusion of steel, warm, initial warming [GLO]',\n",
       " 'market for methane, 96% by volume, from biogas, from medium pressure network, at service station [GLO]',\n",
       " 'market for manganese sulfate [GLO]',\n",
       " 'market for phacelia silage [GLO]',\n",
       " 'market for blower and heat exchange unit, KWL 250 [GLO]',\n",
       " 'market for printed paper, offset [GLO]',\n",
       " 'market for fibreboard, soft, latex bonded [GLO]',\n",
       " 'market for iodine [GLO]',\n",
       " 'market for petrol, 5% ethanol by volume from biomass [GLO]',\n",
       " 'market for steel removed by turning, primarily dressing, computer numerical controlled [GLO]',\n",
       " 'market for furnace, logs, hardwood storage area, 30kW [GLO]',\n",
       " 'market for land tenure, arable land, measured as carbon net primary productivity, annual crop [TH]',\n",
       " 'market for wood preservative, water-based, indoor use, occasionally wet [GLO]',\n",
       " 'market for cadmium sludge from zinc electrolysis stockpiling [GLO]',\n",
       " 'market for polyester-complexed starch biopolymer [GLO]',\n",
       " 'market for wind turbine network connection, 750kW, onshore [GLO]',\n",
       " 'market for geothermal power plant, undefined type [GLO]',\n",
       " 'market for green manure, Swiss integrated production, until April [RoW]',\n",
       " 'market for packaging glass, white [GLO]',\n",
       " 'market for storage building, chemicals, solid [GLO]',\n",
       " 'market for ethylene glycol dimethyl ether [GLO]',\n",
       " 'market for linseed seed, at farm [GLO]',\n",
       " 'market for laser machining, metal, with YAG-laser, 200W power [GLO]',\n",
       " 'market for dimethyl malonate [GLO]',\n",
       " 'market for linseed seed, for sowing [GLO]',\n",
       " 'market for wood preservation, hot/cold dipping, creosote, outdoor use, ground contact [GLO]',\n",
       " 'market for steel removed by turning, average, computer numerical controlled [GLO]',\n",
       " 'market for transport, freight, aircraft with reefer, freezing [GLO]',\n",
       " 'market for hay, Swiss integrated production, intensive [GLO]',\n",
       " 'market for napropamide [GLO]',\n",
       " 'market for methylpyrrolidone [GLO]',\n",
       " 'market for transport, passenger, electric bicycle [GLO]',\n",
       " 'market for compressed air, 600 kPa gauge [GLO]',\n",
       " 'market for wood preservative, water-based, outdoor use, no ground contact [GLO]',\n",
       " 'market for dipropyl amine [GLO]',\n",
       " 'market for cast iron removed by milling, large parts [GLO]',\n",
       " 'market for train, passenger, high speed [GLO]',\n",
       " 'market for tea, dried [GLO]',\n",
       " 'market for methyl iodide [GLO]',\n",
       " 'market for venting of nitrogen, liquid [GLO]',\n",
       " 'market for container, for collection of post-consumer waste plastic for recycling [RoW]',\n",
       " 'market for inverter, 0.5kW [GLO]',\n",
       " 'market for fibreboard, soft, without adhesives [GLO]',\n",
       " 'market for polystyrene foam slab with graphite, 6% recycled [GLO]',\n",
       " 'market for machine operation, diesel, < 18.64 kW, steady-state [GLO]',\n",
       " 'market for imidazole [GLO]',\n",
       " 'market for container, for collection of post-consumer waste plastic for recycling [CH]',\n",
       " 'market for liquid packaging board [GLO]',\n",
       " 'market for transport, freight, lorry with refrigeration machine, 3.5-7.5 ton, EURO4, carbon dioxide, liquid refr(...)_10 [GLO]',\n",
       " 'market for chromium steel removed by turning, primarily roughing, conventional [GLO]',\n",
       " 'market for bitumen adhesive compound, cold [GLO]',\n",
       " 'market for light clay brick [GLO]',\n",
       " 'market for concrete roof tile [GLO]',\n",
       " 'market for polyethylene terephthalate, granulate, bottle grade, recycled [RoW]',\n",
       " 'market for furnace, wood chips, average storage area, 300kW [GLO]',\n",
       " 'market for methane, 96% by volume, from biogas, from low pressure network, at service station [GLO]',\n",
       " 'market for swine for slaughtering, live weight [GLO]',\n",
       " 'market for solvent for chromatography analysis [GLO]',\n",
       " 'market for textile, knit cotton [GLO]',\n",
       " 'market for heat, future [GLO]',\n",
       " 'market for lime, hydraulic [GLO]',\n",
       " 'market for furnace, pellet, 15kW [GLO]',\n",
       " 'market for wood preservation, spray tunnel/deluging, organic solvent-based, outdoor use, no ground contact [GLO]',\n",
       " 'market for gypsum plasterboard [GLO]',\n",
       " 'market for concrete, 35MPa [GLO]',\n",
       " 'market for grass, organic [GLO]',\n",
       " 'market for sodium oxide [GLO]',\n",
       " 'market for impact extrusion of steel, hot, 2 strokes [GLO]',\n",
       " 'market for trifluoroacetic acid [GLO]',\n",
       " 'market for urea formaldehyde foam slab, hard [GLO]',\n",
       " 'market for blower and heat exchange unit, KWLC 1200 [GLO]',\n",
       " 'market for aluminium removed by milling, dressing [GLO]',\n",
       " 'market for sodium perchlorate [GLO]',\n",
       " 'market for non-ionic surfactant [GLO]',\n",
       " 'market for fodder beet, Swiss integrated production [GLO]',\n",
       " 'market for titanium zinc plate, without pre-weathering [GLO]',\n",
       " 'market for cast iron removed by milling, small parts [GLO]',\n",
       " 'market for operation, computer, desktop, with cathode ray tube display, off mode [GLO]',\n",
       " 'market for polystyrene foam slab, 10% recycled [GLO]',\n",
       " 'market for selective coat, copper sheet, sputter deposition [GLO]',\n",
       " 'market for container, for collection of post-consumer waste plastic for recycling [Europe without Switzerland]',\n",
       " 'market for sawnwood, lath, hardwood, dried (u=20%), planed [GLO]',\n",
       " 'market for aluminium removed by drilling, computer numerical controlled [GLO]',\n",
       " 'market for orbencarb [GLO]',\n",
       " 'market for alkyl sulphate (C12-14) [GLO]',\n",
       " 'market for cast iron removed by turning, average, conventional [GLO]',\n",
       " 'market for hay, organic, intensive [GLO]',\n",
       " 'market for operation, computer, laptop, 23% active work [GLO]',\n",
       " 'market for machine operation, diesel, >= 74.57 kW, steady-state [GLO]',\n",
       " 'market for fibreboard, soft [GLO]',\n",
       " 'market for dimethylacetamide [GLO]',\n",
       " 'market for deep drawing, steel, 10000 kN press, automode [GLO]',\n",
       " 'market for impact extrusion of steel, warm, 1 strokes [GLO]',\n",
       " 'market for ethylene glycol diethyl ether [GLO]',\n",
       " 'market for stone groundwood pulp [GLO]',\n",
       " 'market for machine operation, diesel, >= 18.64 kW and < 74.57 kW, underground mining [GLO]',\n",
       " 'market for particle board, cement bonded [GLO]',\n",
       " 'market for tert-butyl amine [GLO]',\n",
       " 'market for dried roughage store, air dried, solar [GLO]',\n",
       " 'market for chromium steel removed by milling, small parts [GLO]',\n",
       " 'market for pipeline, liquid manure [GLO]',\n",
       " 'market for blower and heat exchange unit, Avent E 97 [GLO]',\n",
       " 'market for hydroxylamine [GLO]',\n",
       " 'market for cobwork [GLO]',\n",
       " 'market for roundwood, meranti from sustainable forest management, MY, debarked [GLO]',\n",
       " 'market for natural gas, from medium pressure network (0.1-1 bar), at service station [GLO]',\n",
       " 'market for de-icer [GLO]',\n",
       " 'market for soil pH raising agent, as CaCO3 [GLO]',\n",
       " 'market for printing ink, rotogravure, without solvent, in 55% toluene solution state [GLO]',\n",
       " 'market for layered sodium silicate, SKS-6, powder [GLO]',\n",
       " 'market for machine operation, diesel, >= 74.57 kW, high load factor [GLO]',\n",
       " 'market for maize silage, Swiss integrated production [GLO]',\n",
       " 'market for furnace, wood chips, average storage area, 50kW [GLO]',\n",
       " 'market for concrete, 50MPa [GLO]',\n",
       " 'market for peanut seed, for sowing [GLO]',\n",
       " 'market for laser machining, metal, with YAG-laser, 120W power [GLO]',\n",
       " 'market for transport, freight, lorry with refrigeration machine, 3.5-7.5 ton, EURO5, R134a refrigerant, freezing [GLO]',\n",
       " 'market for miscanthus rhizome, for planting [GLO]',\n",
       " 'market for methyl methacrylate [GLO]',\n",
       " 'market for deep drawing, steel, 650 kN press, automode [GLO]',\n",
       " 'market for impact extrusion of aluminium, 2 strokes [GLO]',\n",
       " 'market for 2-pyridinol [GLO]',\n",
       " 'market for foam glass [GLO]',\n",
       " 'market for impact extrusion of aluminium, 3 strokes [GLO]',\n",
       " 'market for packaging glass, brown [GLO]',\n",
       " 'market for polyaluminium chloride [GLO]',\n",
       " 'market for sawnwood, hardwood, raw, dried (u=10%) [RER]',\n",
       " 'market for ventilation of dwellings, central, 1 x 720 m3/h [GLO]',\n",
       " 'market for amine oxide [GLO]',\n",
       " 'market for succinic acid [GLO]',\n",
       " 'market for pea seed, organic, for sowing [GLO]',\n",
       " 'market for land use change, perennial crop [EC]',\n",
       " 'market for urea formaldehyde foam, in situ foaming [GLO]',\n",
       " 'market for operation, computer, desktop, with liquid crystal display, off mode [GLO]',\n",
       " 'market for iron(III) chloride, without water, in 14% iron solution state [GLO]',\n",
       " 'market for protein pea, organic [GLO]',\n",
       " 'market for lightweight concrete block, expanded clay [RoW]',\n",
       " 'market for land tenure, arable land, measured as carbon net primary productivity, annual crop [ES]',\n",
       " 'market for brass removed by turning, primarily dressing, computer numerical controlled [GLO]',\n",
       " 'market for floor heating from borehole heat pump [Europe without Switzerland]',\n",
       " 'market for 3-methyl-1-butanol [GLO]',\n",
       " 'market for sodium chloroacetate [GLO]',\n",
       " 'market for land tenure, arable land, measured as carbon net primary productivity, perennial crop [CR]',\n",
       " 'market for intral [GLO]',\n",
       " 'market for bitumen seal, V60 [GLO]',\n",
       " 'market for land tenure, arable land, measured as carbon net primary productivity, annual crop [MX]',\n",
       " 'market for methane sulfonic acid [GLO]',\n",
       " 'market for wood preservation, dipping/immersion method, water-based, indoor use, occasionally wet [GLO]',\n",
       " 'market for transport, freight, lorry with refrigeration machine, 3.5-7.5 ton, EURO5, carbon dioxide, liquid refri(...)_7 [GLO]',\n",
       " 'market for polyethylene terephthalate, granulate, bottle grade, recycled [CH]',\n",
       " 'market for natural stone plate, polished [GLO]',\n",
       " 'market for lightweight concrete block, polystyrene [RoW]',\n",
       " 'market for maintenance, solid oxide fuel cell, 125kW electrical, future [GLO]',\n",
       " 'market for aluminium removed by turning, primarily roughing, computer numerical controlled [GLO]',\n",
       " 'market for concrete, 20MPa [GLO]',\n",
       " 'market for 3-methyl-1-butyl acetate [GLO]',\n",
       " 'market for 4-methyl-2-pentanone [GLO]',\n",
       " 'market for impact extrusion of steel, hot, 1 strokes [GLO]',\n",
       " 'market for trisodium phosphate [GLO]',\n",
       " 'market for sodium ethoxide [GLO]',\n",
       " 'market for floor heating from borehole heat pump [RoW]',\n",
       " 'market for prosulfocarb [GLO]',\n",
       " 'market for cork, raw [GLO]',\n",
       " 'market for neutralising agent, sodium hydroxide-equivalent [GLO]',\n",
       " 'market for land tenure, arable land, measured as carbon net primary productivity, annual crop [IT]',\n",
       " 'market for machine operation, diesel, < 18.64 kW, low load factor [GLO]',\n",
       " 'market for morpholine [GLO]',\n",
       " 'market for diazine-compound [GLO]',\n",
       " 'market for potato seed, organic, for setting [GLO]',\n",
       " 'market for nylon 6, glass-filled [GLO]',\n",
       " 'market for esterquat [GLO]',\n",
       " 'market for transport, passenger, electric bicycle, label-certified electricity [GLO]',\n",
       " 'market for impact extrusion of steel, warm, 3 strokes [GLO]',\n",
       " 'market for wood preservation, spray tunnel/deluging, organic solvent-based, indoor use, occasionally wet [GLO]',\n",
       " 'market for autoclaved aerated concrete block [GLO]',\n",
       " 'market for operation, liquid manure storage and processing facility [GLO]',\n",
       " 'market for acetyl chloride [GLO]',\n",
       " 'market for operation, computer, laptop, off mode [GLO]',\n",
       " 'market for grass silage, organic [GLO]',\n",
       " 'market for heat, central or small-scale, Jakobsberg [CH]',\n",
       " 'market for chromium steel removed by milling, dressing [GLO]',\n",
       " 'market for land use change, annual crop [TH]',\n",
       " 'market for cladding, crossbar-pole, aluminium [GLO]',\n",
       " 'market for wood preservative, water-based, indoor use, dry [GLO]',\n",
       " 'market for drying of grass [GLO]',\n",
       " 'market for fosetyl-Al [GLO]',\n",
       " 'market for cast iron removed by drilling, computer numerical controlled [GLO]',\n",
       " 'market for dimethylamine borane [GLO]',\n",
       " 'market for acrolein [GLO]',\n",
       " 'market for rock crushing [GLO]',\n",
       " 'market for compressed air, 800 kPa gauge [GLO]',\n",
       " 'market for operation, internet access equipment, label-certified electricity [GLO]',\n",
       " 'market for sawnwood, paraná pine from sustainable forest management, kiln dried [GLO]',\n",
       " 'market for decommissioned tram track [GLO]',\n",
       " 'market for absorption chiller, 100kW [GLO]',\n",
       " 'market for maintenance, train, passenger, high-speed [GLO]',\n",
       " 'market for p-nitrophenol [GLO]',\n",
       " 'market for land use change, paddy rice [CN]',\n",
       " 'market for barley grain, feed, organic [GLO]',\n",
       " 'market for wood preservation, dipping/immersion method, water-based, outdoor use, no ground contact [GLO]',\n",
       " 'market for transport, freight, lorry with refrigeration machine, 3.5-7.5 ton, EURO4, R134a refrigerant, freezing [GLO]',\n",
       " 'market for operation, reefer, freezing [GLO]',\n",
       " 'market for maintenance, polymer electrolyte membrane fuel cell, 2kW electrical [GLO]',\n",
       " 'market for cast iron removed by drilling, conventional [GLO]',\n",
       " 'market for laser machining, metal, with YAG-laser, 50W power [GLO]',\n",
       " 'market for heat pump, diffusion absorption, 4kW, future [GLO]',\n",
       " 'market for maintenance, bus [GLO]',\n",
       " 'market for chromium steel removed by turning, primarily dressing, conventional [GLO]',\n",
       " 'market for aluminium removed by drilling, conventional [GLO]',\n",
       " 'market for machine operation, diesel, < 18.64 kW, high load factor [GLO]',\n",
       " 'market for wood wool [GLO]',\n",
       " 'market for land use change, annual crop [IT]',\n",
       " 'market for extrusion, co-extrusion [GLO]',\n",
       " 'market for methane, 96% by volume, from biogas, from high pressure network, at service station [GLO]',\n",
       " 'market for maintenance, solid oxide fuel cell, with micro gas turbine, 180kW electrical, future [GLO]',\n",
       " 'market for cattle for slaughtering, live weight [GLO]',\n",
       " 'market for electric powertrain, for electric scooter [GLO]',\n",
       " 'market for blower and heat exchange unit, GE 250 RH [GLO]',\n",
       " 'market for steel removed by drilling, computer numerical controlled [GLO]',\n",
       " 'market for furnace, logs, average storage area, 30kW [GLO]',\n",
       " 'market for protein pea, feed, Swiss integrated production [GLO]',\n",
       " 'market for train, passenger, long-distance [GLO]',\n",
       " 'market for impact extrusion of steel, cold, 5 strokes [GLO]',\n",
       " 'market for land use change, annual crop [RU]',\n",
       " 'market for sunflower silage [GLO]',\n",
       " 'market for air filter, decentralized unit, 250 m3/h [GLO]',\n",
       " 'market for impact extrusion of steel, cold, 3 strokes [GLO]',\n",
       " 'market for impact extrusion of steel, cold, initial surface treatment [GLO]',\n",
       " 'market for 4-tert-butylbenzaldehyde [GLO]',\n",
       " 'market for maintenance, stirling heat and power co-generation unit, 3kW electrical, wood pellet, future [GLO]',\n",
       " 'market for window frame, wood-metal, U=1.6 W/m2K [GLO]',\n",
       " 'market for impact extrusion of steel, hot, initial warming [GLO]',\n",
       " 'market for folpet [GLO]',\n",
       " 'market for gold-silver, ingot [GLO]',\n",
       " 'market for furnace, logs, softwood storage area, 30kW [GLO]',\n",
       " 'market for cathode-ray tube, cathode ray tube display [GLO]',\n",
       " 'market for wood preservation facility, dipping/immersion tank [GLO]',\n",
       " 'market for sheep fleece in the grease [GLO]',\n",
       " 'market for metamitron [GLO]',\n",
       " 'market for lime mortar [GLO]',\n",
       " 'market for machine operation, diesel, < 18.64 kW, underground mining [GLO]',\n",
       " 'market for polydimethylsiloxane [GLO]',\n",
       " 'market for land tenure, arable land, measured as carbon net primary productivity, perennial crop [RoW]',\n",
       " 'market for operation, computer, laptop, videoconference, label-certified electricity [GLO]',\n",
       " 'market for transport, freight, lorry with refrigeration machine, 7.5-16 ton, EURO3, R134a refrigerant, freezing [GLO]',\n",
       " 'market for land use change, annual crop [UA]',\n",
       " 'market for land use change, perennial crop [RoW]',\n",
       " 'market for intermodal shipping container, 40-foot, high-cube [GLO]',\n",
       " 'market for impact extrusion of aluminium, 4 strokes [GLO]',\n",
       " 'market for sodium perborate, monohydrate, powder [GLO]',\n",
       " 'market for sulfur stockpiling [GLO]',\n",
       " 'market for casting, bronze [GLO]',\n",
       " 'market for operation, computer, laptop, videoconference [GLO]',\n",
       " 'market for router, internet [GLO]',\n",
       " 'market for brass removed by turning, average, computer numerical controlled [GLO]',\n",
       " 'market for bitumen seal, polymer EP4 flame retardant [GLO]',\n",
       " 'market for ascorbic acid [GLO]',\n",
       " 'market for maintenance, lorry 40 metric ton [GLO]',\n",
       " 'market for cork slab [GLO]',\n",
       " 'market for benzyl alcohol [GLO]',\n",
       " 'market for bus [GLO]',\n",
       " 'market for lightweight concrete block, expanded perlite [CH]',\n",
       " 'market for transport, freight, lorry 28 metric ton, vegetable oil methyl ester 100% [GLO]',\n",
       " 'market for transport, freight, lorry with refrigeration machine, 3.5-7.5 ton, EURO6, carbon dioxide, liquid refr(...)_13 [GLO]',\n",
       " 'market for micro gas turbine, 100kW electrical [GLO]',\n",
       " 'market for printed wiring board, mounted mainboard, laptop computer, Pb free [GLO]',\n",
       " 'market for sand-lime brick [GLO]',\n",
       " 'market for internet access equipment [GLO]',\n",
       " 'market for paper, woodcontaining, supercalendred [RER]',\n",
       " 'market for sodium formate [GLO]',\n",
       " 'market for ethoxylated alcohol (AE>20) [GLO]',\n",
       " 'market for selective coat, copper sheet, black majic [GLO]',\n",
       " 'market for triphenyl phosphate [GLO]',\n",
       " 'market for cheese, from cow milk, fresh, unripened [GLO]',\n",
       " 'market for anhydrite floor [GLO]',\n",
       " 'market for machine operation, diesel, >= 74.57, underground mining [GLO]',\n",
       " 'market for dung slab [GLO]',\n",
       " 'market for hay, Swiss integrated production, extensive [GLO]',\n",
       " 'market for impact extrusion of steel, hot, 5 strokes [GLO]',\n",
       " 'market for glycine [GLO]',\n",
       " 'market for heat and power co-generation unit, organic Rankine cycle, 1400kW thermal, building [GLO]',\n",
       " 'market for wood preservative, organic, indoor use, dry [GLO]',\n",
       " 'market for operation, dried roughage store, air dried, solar [GLO]',\n",
       " 'market for wind turbine, 750kW, onshore [GLO]',\n",
       " 'market for cyanoacetic acid [GLO]',\n",
       " 'market for sawnwood, lath, softwood, dried (u=20%), planed [GLO]',\n",
       " 'market for cast iron removed by turning, primarily dressing, conventional [GLO]',\n",
       " 'market for 2,4-dinitrotoluene [GLO]',\n",
       " 'market for mine infrastructure, steatite [GLO]',\n",
       " 'market for railway track, for high-speed train [GLO]',\n",
       " 'market for shale brick [GLO]',\n",
       " 'market for wood preservation facility, hot/cold dipping tank [GLO]',\n",
       " 'market for ventilation of dwellings, decentralized, 6 x 120 m3/h [GLO]',\n",
       " 'market for chloroacetyl chloride [GLO]',\n",
       " 'market for maintenance, bicycle [GLO]',\n",
       " 'market for ryegrass-red&Egyptian clover-mixture silage [GLO]',\n",
       " 'market for precious metal for jewellery [GLO]',\n",
       " 'market for laminated timber element, transversally prestressed, for outdoor use [GLO]',\n",
       " 'market for operation, computer, laptop, video mode, label-certified electricity [GLO]',\n",
       " 'market for venting of argon, crude, liquid [GLO]',\n",
       " 'market for fava bean, organic [GLO]',\n",
       " 'market for green manure, organic, until January [CH]',\n",
       " 'market for cast iron removed by turning, primarily dressing, computer numerical controlled [GLO]',\n",
       " 'market for deep drawing, steel, 38000 kN press, single stroke [GLO]',\n",
       " 'market for land tenure, arable land, measured as carbon net primary productivity, annual crop [DE]',\n",
       " 'market for medium density fibreboard [GLO]',\n",
       " 'market for compressed air, 1000 kPa gauge [GLO]',\n",
       " 'market for machine operation, diesel, >= 18.64 kW and < 74.57 kW, generators [GLO]',\n",
       " 'market for fodder beet seed, for sowing [GLO]',\n",
       " 'market for ethane [GLO]',\n",
       " 'market for lightweight concrete block, expanded vermiculite [RoW]',\n",
       " 'market for internet access, work, 0.2 Mbit/s [GLO]',\n",
       " 'market for potato seed, organic, at farm [GLO]',\n",
       " 'market for propylene, pipeline system [GLO]',\n",
       " 'market for operation, computer, desktop, with liquid crystal display, standby mode [GLO]',\n",
       " 'market for impact extrusion of steel, cold, 2 strokes [GLO]',\n",
       " 'market for sulfamic acid [GLO]',\n",
       " 'market for transport, freight, lorry with refrigeration machine, 3.5-7.5 ton, EURO3, carbon dioxide, liquid refr(...)_11 [GLO]',\n",
       " 'market for fuel cell, polymer electrolyte membrane, 2kW electrical, future [GLO]',\n",
       " 'market for inert gas for discharge lamps [GLO]',\n",
       " 'market for maize silage, organic [GLO]',\n",
       " 'market for deep well, for geothermal power, onshore, 6000m [GLO]',\n",
       " 'market for door, outer, wood-aluminium [GLO]',\n",
       " 'market for sodium hydrosulfide [GLO]',\n",
       " 'market for isoproturon [GLO]',\n",
       " 'market for cast iron removed by turning, primarily roughing, conventional [GLO]',\n",
       " 'market for furnace, wood chips, average storage area, 1000kW [GLO]',\n",
       " 'market for concrete, 30-32MPa [GLO]',\n",
       " 'market for butyl acetate [GLO]',\n",
       " 'market for steel removed by milling, large parts [GLO]',\n",
       " 'market for barium hydroxide [GLO]',\n",
       " 'market for deep drawing, steel, 3500 kN press, single stroke [GLO]',\n",
       " 'market for wood preservation, dipping/immersion method, water-based, indoor use, dry [GLO]',\n",
       " 'market for chloropropionic acid [GLO]',\n",
       " 'market for wheat grain, feed, organic [GLO]',\n",
       " 'market for azodicarbonamide [GLO]',\n",
       " 'market for computer, laptop [GLO]',\n",
       " 'market for aluminium removed by milling, small parts [GLO]',\n",
       " 'market for aluminium around steel bi-metal stranded cable, 3x3.67mm external diameter wire [GLO]',\n",
       " 'market for electronic component, active, unspecified [GLO]',\n",
       " 'market for tofu [GLO]',\n",
       " 'market for palm date, conditioned and dried, organic [GLO]',\n",
       " 'market for ethylamine [GLO]',\n",
       " 'market for operation, computer, desktop, with liquid crystal display, active mode [GLO]',\n",
       " 'market for maleic unsaturated polyester resin [GLO]',\n",
       " 'market for naphthalene sulfonic acid [GLO]',\n",
       " 'market for nuclear fuel element, for pressure water reactor, UO2 3.9% & MOX [GLO]',\n",
       " 'market for textile, jute [GLO]',\n",
       " 'market for land tenure, arable land, measured as carbon net primary productivity, perennial crop [PE]',\n",
       " 'market for glider, for electric scooter [GLO]',\n",
       " 'market for natural gas service station [GLO]',\n",
       " 'market for land tenure, arable land, measured as carbon net primary productivity, annual crop [UA]',\n",
       " 'market for impact extrusion of steel, warm, 2 strokes [GLO]',\n",
       " 'market for heat and power cogeneration unit, organic Rankine cycle, 1MWe, 6.4 MWth [GLO]',\n",
       " 'market for wooden board factory, cement bonded boards [GLO]',\n",
       " 'market for aluminium removed by milling, average [GLO]',\n",
       " 'market for lightweight concrete block, polystyrene [CH]',\n",
       " 'market for 2,6-di-tert-butylphenol [GLO]',\n",
       " 'market for steatite [GLO]',\n",
       " 'market for transport, freight, lorry with refrigeration machine, 7.5-16 ton, EURO5, carbon dioxide, liquid refri(...)_16 [GLO]',\n",
       " 'market for impact extrusion of steel, hot, deformation stroke [GLO]',\n",
       " 'market for petrol, 15% ETBE additive by volume, with ethanol from biomass [GLO]',\n",
       " 'market for decabromodiphenyl ether [GLO]',\n",
       " 'market for polylactide, granulate [GLO]',\n",
       " 'market for operation, computer, laptop, 68% active work with internet access 0.2 Mbit/s, label-certified electricity [GLO]',\n",
       " 'market for fava bean seed, organic, for sowing [GLO]',\n",
       " 'market for base plaster [GLO]',\n",
       " 'market for wood preservation, oscillating pressure method, organic salt, Cr-free, outdoor use, ground contact [GLO]',\n",
       " 'market for chromium steel removed by drilling, conventional [GLO]',\n",
       " 'market for paper, woodcontaining, supercalendred [RoW]',\n",
       " 'market for cyclohexanone [GLO]',\n",
       " 'market for impact extrusion of aluminium, cold, initial surface treatment [GLO]',\n",
       " 'market for operation, computer, laptop, 68% active work with internet access 0.2 Mbit/s [GLO]',\n",
       " 'market for impact extrusion of steel, cold, 1 strokes [GLO]',\n",
       " 'market for lactic acid [GLO]',\n",
       " 'market for coating, with melamine impregnated paper [GLO]',\n",
       " 'market for lorry, 40 metric ton [GLO]',\n",
       " 'market for operation, dried roughage store, non ventilated [GLO]',\n",
       " 'market for heat, central or small-scale, natural gas, Jakobsberg [GLO]',\n",
       " 'market for shale [GLO]',\n",
       " 'market for rye grain, feed, Swiss integrated production [GLO]',\n",
       " 'market for tram track [GLO]',\n",
       " 'market for textile, kenaf [GLO]',\n",
       " 'market for cement cast plaster floor [GLO]',\n",
       " 'market for transport, passenger train [GLO]',\n",
       " 'market for hydraulic fracturing fluid [GLO]',\n",
       " 'market for furnace, wood chips, hardwood storage area, 50kW [GLO]',\n",
       " 'market for packaging glass, green [GLO]',\n",
       " 'market for maintenance, train, passenger, regional [GLO]',\n",
       " 'market for thermal plaster, outdoor [GLO]',\n",
       " 'market for furnace, pellet, 50kW [GLO]',\n",
       " 'market for propyl amine [GLO]',\n",
       " 'market for tris(2,4-ditert-butylphenyl) phosphite [GLO]',\n",
       " 'market for phthalimide [GLO]',\n",
       " 'market for beet seed, Swiss integrated production, for sowing [GLO]',\n",
       " 'market for foam glass, electricity, label-certified [GLO]',\n",
       " 'market for cooling energy [GLO]',\n",
       " 'market for maintenance, tram [GLO]',\n",
       " 'market for container, for collection of post-consumer waste plastic for recycling [US]',\n",
       " 'market for carton board box production, with gravure printing [GLO]',\n",
       " 'market for methanol, from biomass [RoW]',\n",
       " 'market for natural gas, from high pressure network (1-5 bar), at service station [GLO]',\n",
       " 'market for maintenance, lorry 28 metric ton [GLO]',\n",
       " 'market for aminopyridine [GLO]',\n",
       " 'market for dioxane [GLO]',\n",
       " 'market for triethyl amine [GLO]',\n",
       " 'market for land tenure, arable land, measured as carbon net primary productivity, perennial crop [EC]',\n",
       " 'market for operation, intermodal shipping container [GLO]',\n",
       " 'market for cast iron removed by milling, average [GLO]',\n",
       " 'market for intermodal shipping container, 20-foot [GLO]',\n",
       " 'market for steel removed by turning, average, conventional [GLO]',\n",
       " 'market for used vegetable cooking oil, purified [GLO]',\n",
       " 'market for aluminium alloy, metal matrix composite [GLO]',\n",
       " 'market for fuel cell, solid oxide, 125kW electrical, future [GLO]',\n",
       " 'market for deep drawing, steel, 3500 kN press, automode [GLO]',\n",
       " 'market for pyrazole [GLO]',\n",
       " 'market for wood preservation, spray tunnel/deluging, water-based, indoor use, occasionally wet [GLO]',\n",
       " 'market for steel removed by turning, primarily roughing, computer numerical controlled [GLO]',\n",
       " 'market for beverage carton converting [GLO]',\n",
       " 'market for chloronitrobenzene [GLO]',\n",
       " 'market for tin dioxide [GLO]',\n",
       " 'market for cover plaster, organic [GLO]',\n",
       " 'market for bitumen seal, VA4 [GLO]',\n",
       " 'market for aluminium removed by turning, average, conventional [GLO]',\n",
       " 'market for impact extrusion of aluminium, 1 stroke [GLO]',\n",
       " 'market for maintenance, intermodal shipping container, 45-foot, high-cube [GLO]',\n",
       " 'market for recultivation, shale quarry [GLO]',\n",
       " 'market for glyoxal [GLO]',\n",
       " 'market for bisphenol A epoxy based vinyl ester resin [GLO]',\n",
       " 'market for carton board box production, with offset printing [GLO]',\n",
       " 'market for graphic paper, 100% recycled [GLO]',\n",
       " 'market for nickel sulfate [GLO]',\n",
       " 'market for phenyl acetic acid [GLO]',\n",
       " 'market for wood preservation facility, flow coating equipment [GLO]',\n",
       " 'market for sodium cumenesulphonate [GLO]',\n",
       " 'market for wood preservation, spray tunnel/deluging, organic solvent-based, indoor use, dry [GLO]',\n",
       " 'market for aluminium removed by turning, primarily dressing, computer numerical controlled [GLO]',\n",
       " 'market for alfalfa-grass mixture, Swiss integrated production [GLO]',\n",
       " 'market for brass removed by drilling, conventional [GLO]',\n",
       " 'market for degreasing, metal part in alkaline bath [GLO]',\n",
       " 'market for ryegrass silage [GLO]',\n",
       " 'market for dried roughage store, non ventilated [GLO]',\n",
       " 'market for inert filler [GLO]',\n",
       " 'market for land use change, annual crop [RoW]',\n",
       " 'market for power sawing, with catalytic converter [GLO]',\n",
       " 'market for hydropower plant, reservoir [GLO]',\n",
       " 'market for transport, regular bus [GLO]',\n",
       " 'market for water storage [GLO]',\n",
       " 'market for fuel cell, solid oxide, with micro gas turbine, 180kW electrical, future [GLO]',\n",
       " 'market for alpha-naphthol [GLO]',\n",
       " 'market for impact extrusion of steel, warm, deformation stroke [GLO]',\n",
       " 'market for lithium hydroxide [GLO]',\n",
       " 'market for land use change, perennial crop [PE]',\n",
       " 'market for butter, from cow milk [GLO]',\n",
       " 'market for straw, stand-alone production [GLO]',\n",
       " 'market for acetoacetic acid [GLO]',\n",
       " 'market for sheep for slaughtering, live weight [GLO]',\n",
       " 'market for motor scooter, 50 cubic cm engine [GLO]',\n",
       " 'market for door, inner, wood [GLO]',\n",
       " 'market for bitumen seal, Alu80 [GLO]',\n",
       " 'market for methylcyclohexane [GLO]',\n",
       " 'market for transport, freight, lorry with refrigeration machine, 3.5-7.5 ton, EURO6, R134a refrigerant, freezing [GLO]',\n",
       " 'market for maintenance, motor scooter [GLO]',\n",
       " 'market for wood preservation, dipping/immersion method, organic solvent-based, indoor use, occasionally wet [GLO]',\n",
       " 'market for sweet corn [GLO]',\n",
       " 'market for transport, freight, lorry with refrigeration machine, 7.5-16 ton, EURO6, R134a refrigerant, freezing [GLO]',\n",
       " 'market for phenyl isocyanate [GLO]',\n",
       " 'market for brass removed by turning, primarily dressing, conventional [GLO]',\n",
       " 'market for wood preservation, dipping/immersion method, organic solvent-based, indoor use, dry [GLO]',\n",
       " 'market for captan [GLO]',\n",
       " 'market for butyldiglycol acetate [GLO]',\n",
       " 'market for red meat, live weight [GLO]',\n",
       " 'market for para-phenylene diamine [GLO]',\n",
       " 'market for green manure, organic, until January [RoW]',\n",
       " 'market for power saw, with catalytic converter [GLO]',\n",
       " 'market for impact extrusion of steel, hot, 3 strokes [GLO]',\n",
       " 'market for laser machining, metal, with YAG-laser, 60W power [GLO]',\n",
       " 'market for laser machining, metal, with CO2-laser, 2700W power [GLO]',\n",
       " 'market for laser machining, metal, with CO2-laser, 5000W power [GLO]',\n",
       " 'market for impact extrusion of steel, cold, deformation stroke [GLO]',\n",
       " 'market for cast iron removed by milling, dressing [GLO]',\n",
       " 'market for miscanthus, chopped [GLO]',\n",
       " 'market for sulfate pulp, unbleached, from eucalyptus ssp. from sustainable forest management, TH [GLO]',\n",
       " 'market for wind turbine, 2.3MW, onshore [GLO]',\n",
       " 'market for potato, organic [GLO]',\n",
       " 'market for wood preservative, organic, outdoor use, no ground contact [GLO]',\n",
       " 'market for transport, freight, lorry with refrigeration machine, 3.5-7.5 ton, EURO3, R134a refrigerant, freezing [GLO]',\n",
       " 'market for light mortar [GLO]',\n",
       " 'market for furnace, logs, average storage area, 6kW [GLO]',\n",
       " 'market for chemi-thermomechanical pulp [GLO]',\n",
       " 'market for operation, computer, laptop, video mode [GLO]',\n",
       " 'market for methylene diphenyldiisocyanate [GLO]',\n",
       " 'market for ortho-phenylene diamine [GLO]',\n",
       " 'market for sunflower seed [GLO]',\n",
       " 'market for floor heating from borehole heat pump [CH]',\n",
       " 'market for aluminium removed by turning, primarily dressing, conventional [GLO]',\n",
       " 'market for chlorosulfonic acid [GLO]',\n",
       " 'market for operation, computer, laptop, 68% active work [GLO]',\n",
       " 'market for wood preservative, organic, indoor use, occasionally wet [GLO]',\n",
       " 'market for sodium aluminate, powder [GLO]',\n",
       " 'market for propionic acid [GLO]',\n",
       " 'market for antimony [GLO]',\n",
       " 'market for transport, freight, train with reefer, freezing [GLO]',\n",
       " 'market for enriched uranium, 4.2% [GLO]',\n",
       " 'market for heat, central or small-scale, Jakobsberg [RoW]',\n",
       " 'market for energy saving [GLO]',\n",
       " 'market for land use change, annual crop [MX]',\n",
       " 'market for internet access, videoconference, 0.7 Mbit/s [GLO]',\n",
       " 'market for chromium steel removed by milling, large parts [GLO]',\n",
       " 'market for impact extrusion of aluminium, deformation stroke [GLO]',\n",
       " 'market for impact extrusion of steel, warm, 5 strokes [GLO]',\n",
       " 'market for sawnwood, azobe from sustainable forest management, planed, air dried [GLO]',\n",
       " 'market for maintenance, electric scooter, without battery [GLO]',\n",
       " 'market for aclonifen [GLO]',\n",
       " 'market for octabenzone [GLO]',\n",
       " 'market for isopropyl acetate [GLO]',\n",
       " 'market for natural gas, from low pressure network (<0.1 bar), at service station [GLO]',\n",
       " 'market for metal working, average for copper product manufacturing [GLO]',\n",
       " 'market for land use change, annual crop [DE]',\n",
       " 'market for operation, housing system, pig, label-certified, per pig place [GLO]',\n",
       " 'market for dimethyl sulfide [GLO]',\n",
       " 'market for palm date, conditioned and dried [GLO]',\n",
       " 'market for transport, passenger coach [GLO]',\n",
       " 'market for dust collector, electrostatic precipitator, for domestic use [GLO]',\n",
       " 'market for concrete, 25MPa [GLO]',\n",
       " 'market for process-specific burdens, import of copper to Switzerland [GLO]',\n",
       " 'market for wood preservation, dipping/immersion method, organic solvent-based, outdoor use, no ground contact [GLO]',\n",
       " 'market for transport, passenger, bicycle [GLO]',\n",
       " 'market for mecoprop [GLO]',\n",
       " 'market for impact extrusion of aluminium, 5 strokes [GLO]',\n",
       " 'market for alkylbenzene, linear [GLO]',\n",
       " 'market for cast iron removed by turning, average, computer numerical controlled [GLO]',\n",
       " 'market for epoxy resin [GLO]',\n",
       " 'market for chromium steel removed by drilling, computer numerical controlled [GLO]',\n",
       " 'market for horn meal [GLO]',\n",
       " 'market for acetone cyanohydrin [GLO]',\n",
       " 'market for isohexane [GLO]',\n",
       " 'market for laser machining, metal, with YAG-laser, 30W power [GLO]',\n",
       " 'market for printed paper [GLO]',\n",
       " 'market for machine operation, diesel, < 18.64 kW, generators [GLO]',\n",
       " 'market for land use change, paddy rice [RoW]',\n",
       " 'market for machine operation, diesel, >= 74.57 kW, generators [GLO]',\n",
       " 'market for impact extrusion of steel, hot, 4 strokes [GLO]',\n",
       " 'market for transport, freight, lorry with refrigeration machine, 7.5-16 ton, EURO3, carbon dioxide, liquid refri(...)_14 [GLO]',\n",
       " 'market for laser machining, metal, with YAG-laser, 500W power [GLO]',\n",
       " 'market for land use change, annual crop [FR]',\n",
       " 'market for window frame, wood, U=1.5 W/m2K [GLO]',\n",
       " 'market for dimethylaminopropylamine [GLO]',\n",
       " 'market for thermoforming of plastic sheets [GLO]',\n",
       " 'market for operation, computer, laptop, standby/sleep mode [GLO]',\n",
       " 'market for laser machining, metal, with YAG-laser, 40W power [GLO]',\n",
       " 'market for potassium perchlorate [GLO]',\n",
       " 'market for brass removed by turning, average, conventional [GLO]',\n",
       " 'market for machine operation, diesel, >= 18.64 kW and < 74.57 kW, high load factor [GLO]',\n",
       " 'market for transport, passenger, electric scooter [GLO]',\n",
       " 'market for operation, computer, desktop, with cathode ray tube display, active mode [GLO]',\n",
       " 'market for land use change, annual crop [FI]',\n",
       " 'market for tram [GLO]',\n",
       " 'market for furnace, wood chips, softwood storage area, 50kW [GLO]',\n",
       " 'market for steel removed by turning, primarily roughing, conventional [GLO]',\n",
       " 'market for brass removed by turning, primarily roughing, computer numerical controlled [GLO]',\n",
       " 'market for aluminium removed by milling, large parts [GLO]',\n",
       " 'market for clay plaster [GLO]',\n",
       " 'market for electronic component, passive, unspecified [GLO]',\n",
       " 'market for maintenance, intermodal shipping container, 40-foot [GLO]',\n",
       " 'market for steel removed by milling, small parts [GLO]',\n",
       " 'market for cement tile [GLO]',\n",
       " 'market for piperidine [GLO]',\n",
       " 'market for trichloroacetic acid [GLO]',\n",
       " 'market for dicyclopentadiene based unsaturated polyester resin [GLO]',\n",
       " 'market for brass removed by turning, primarily roughing, conventional [GLO]',\n",
       " 'market for land tenure, arable land, measured as carbon net primary productivity, annual crop [HU]',\n",
       " 'market for operation, computer, laptop, 68% active work, label-certified electricity [GLO]',\n",
       " 'market for sawnwood, lath, softwood, dried (u=10%), planed [GLO]',\n",
       " 'market for p-nitrotoluene [GLO]',\n",
       " 'market for laser machining, metal, with CO2-laser, 4000W power [GLO]',\n",
       " 'market for uranium, enriched 3.9%, in fuel element for light water reactor [GLO]',\n",
       " 'market for stibnite ore, 70% stibnite [GLO]',\n",
       " 'market for impact extrusion of steel, cold, 4 strokes [GLO]',\n",
       " 'market for three layered laminated board [GLO]',\n",
       " 'market for sunflower seed, for sowing [GLO]',\n",
       " 'market for 2,5-dimethylhexane-2,5-dihydroperoxide [GLO]',\n",
       " 'market for maize grain, feed, organic [GLO]',\n",
       " 'market for display, cathode ray tube, 17 inches [GLO]',\n",
       " 'market for wood chips and particles, willow [GLO]',\n",
       " 'market for chassis, internet access equipment [GLO]',\n",
       " 'market for linseed [GLO]',\n",
       " 'market for manual dismantling of electric scooter [GLO]',\n",
       " 'market for sodium fluoride [GLO]',\n",
       " 'market for joist, engineered wood [GLO]',\n",
       " 'market for floor heating from air-water heat pump [Europe without Switzerland]',\n",
       " 'market for wood wool boards, cement bonded [GLO]',\n",
       " 'market for furnace, logs, softwood storage area, 100kW [GLO]',\n",
       " 'market for transport, passenger, motor scooter [GLO]',\n",
       " 'market for chromium steel removed by turning, primarily roughing, computer numerical controlled [GLO]',\n",
       " 'market for solar collector glass tube, with silver mirror [GLO]',\n",
       " 'market for transport, freight, lorry with refrigeration machine, 7.5-16 ton, EURO4, R134a refrigerant, freezing [GLO]',\n",
       " 'market for anaerobic digestion plant, agricultural [GLO]',\n",
       " 'market for wood preservation, spray tunnel/deluging, water-based, outdoor use, no ground contact [GLO]',\n",
       " 'market for lightweight concrete block, expanded vermiculite [CH]',\n",
       " 'market for natural stone plate, cut [GLO]',\n",
       " 'market for paper, newsprint [RoW]',\n",
       " 'market for peanut [GLO]',\n",
       " 'market for bicycle [GLO]',\n",
       " 'market for auxiliary heating unit, electric, 5kW [GLO]',\n",
       " 'market for deep drawing, steel, 650 kN press, single stroke [GLO]',\n",
       " 'market for oat grain, feed [GLO]',\n",
       " 'market for o-aminophenol [GLO]',\n",
       " 'market for maintenance, intermodal shipping container, 20-foot [GLO]',\n",
       " 'market for door, inner, glass-wood [GLO]',\n",
       " 'market for particleboard, uncoated [GLO]',\n",
       " 'market for extrusion of plastic sheets and thermoforming, inline [GLO]',\n",
       " 'market for adhesive mortar [GLO]',\n",
       " 'market for harvesting/bundling, energy wood harvester [GLO]',\n",
       " 'market for laser machining, metal, with YAG-laser, 330W power [GLO]',\n",
       " 'market for machine operation, diesel, >= 18.64 kW and < 74.57 kW, steady-state [GLO]',\n",
       " 'market for operation, computer, desktop, with cathode ray tube display, standby mode [GLO]',\n",
       " 'market for paper, melamine impregnated [GLO]',\n",
       " 'market for aluminium removed by turning, primarily roughing, conventional [GLO]',\n",
       " 'market for 2,4-dichlorotoluene [GLO]',\n",
       " 'market for calcium carbonate, precipitated [GLO]',\n",
       " 'market for sunflower seed, Swiss integrated production [GLO]',\n",
       " 'market for jatropha seed [GLO]',\n",
       " 'market for isophthalic acid based unsaturated polyester resin [GLO]',\n",
       " 'market for impact extrusion of steel, cold, tempering [GLO]',\n",
       " 'market for petrol, 4% ETBE additive by volume, with ethanol from biomass [GLO]',\n",
       " 'market for heat and power co-generation unit, organic Rankine cycle, 1400kW thermal, components for electricity only [GLO]',\n",
       " 'market for fatty alcohol sulfate [RoW]',\n",
       " 'market for electrode, negative, LiC6 [GLO]',\n",
       " 'market for p-chlorophenol [GLO]',\n",
       " 'market for green manure, organic, until February [CH]',\n",
       " 'market for transport, freight, lorry with reefer, freezing [GLO]',\n",
       " 'market for enamelling [GLO]',\n",
       " 'market for barley grain, feed, Swiss integrated production [GLO]',\n",
       " 'market for biogas, from grass [GLO]',\n",
       " 'market for geothermal power plant, Hot-Dry-Rock [GLO]',\n",
       " 'market for land use change, perennial crop [CR]',\n",
       " 'market for forging, steel [GLO]',\n",
       " 'market for liquid packaging board container [GLO]',\n",
       " 'market for frit, for ceramic tile [GLO]',\n",
       " 'market for laser machining, metal, with CO2-laser, 2000W power [GLO]',\n",
       " 'market for wood preservation, spray tunnel/deluging, water-based, indoor use, dry [GLO]',\n",
       " 'market for titanium primary, triple-melt [GLO]',\n",
       " 'market for helium, crude stockpiling [GLO]',\n",
       " 'market for borehole heat exchanger, 150m [GLO]',\n",
       " 'market for cotton seed, for sowing [GLO]',\n",
       " 'market for chromium steel removed by turning, primarily dressing, computer numerical controlled [GLO]',\n",
       " 'market for uranium, enriched 3.0%, in fuel element for light water reactor [GLO]',\n",
       " 'market for chromium steel removed by turning, average, computer numerical controlled [GLO]',\n",
       " 'market for impact extrusion of steel, warm, 4 strokes [GLO]',\n",
       " 'market for aluminium sulfate, without water, in 4.33% aluminium solution state [GLO]',\n",
       " 'market for transport, freight, lorry with refrigeration machine, 7.5-16 ton, EURO5, R134a refrigerant, freezing [GLO]',\n",
       " 'market for steel removed by milling, average [GLO]',\n",
       " 'market for intermodal shipping container, 40-foot [GLO]',\n",
       " 'market for transport, passenger car, medium size, liquefied petroleum gas, EURO 5 [GLO]',\n",
       " 'market for green manure, organic, until February [RoW]',\n",
       " 'market for isobutyl acetate [GLO]',\n",
       " 'market for deep drawing, steel, 10000 kN press, single stroke [GLO]',\n",
       " 'market for furnace, logs, softwood storage area, 6kW [GLO]',\n",
       " 'market for laser machining, metal, with CO2-laser, 3200W power [GLO]',\n",
       " 'market for operation, computer, laptop, active mode [GLO]',\n",
       " 'market for methyl formate [GLO]',\n",
       " 'market for floor heating from air-water heat pump [RoW]',\n",
       " 'market for thermo-mechanical pulp [GLO]',\n",
       " 'market for benzaldehyde-2-sulfonic acid [GLO]',\n",
       " 'market for aluminium around steel bi-metal wire, 3.67mm external diameter [GLO]',\n",
       " 'market for land tenure, arable land, measured as carbon net primary productivity, annual crop [RoW]',\n",
       " 'market for operation, computer, desktop, office use [GLO]',\n",
       " 'market for compressed air, 1200 kPa gauge [GLO]',\n",
       " 'market for transport, tram [GLO]',\n",
       " 'market for 4-tert-butyltoluene [GLO]',\n",
       " 'market for alpha-picoline [GLO]',\n",
       " 'market for salicylic acid [GLO]',\n",
       " 'market for peanut seed, at farm [GLO]',\n",
       " 'market for casting, aluminium, lost-wax [GLO]',\n",
       " 'market for housing system, pig, label-certified, per pig place [GLO]',\n",
       " 'market for brick production facility [GLO]',\n",
       " 'market for train, passenger, regional [GLO]',\n",
       " 'market for yogurt, from cow milk [GLO]',\n",
       " 'market for heat and power co-generation unit, organic Rankine cycle, 3MW electrical [GLO]',\n",
       " 'market for casting, steel, lost-wax [GLO]',\n",
       " 'market for lightweight concrete block, pumice [GLO]',\n",
       " 'market for cast iron removed by turning, primarily roughing, computer numerical controlled [GLO]']"
      ]
     },
     "execution_count": 34,
     "metadata": {},
     "output_type": "execute_result"
    }
   ],
   "source": [
    "[k[3]._name for k in ms_apos if k[2] == 0]"
   ]
  },
  {
   "cell_type": "code",
   "execution_count": 76,
   "metadata": {},
   "outputs": [],
   "source": [
    "mkt_depth_apos = sorted(z for z in Counter(k[2] for k in ms_apos).items())"
   ]
  },
  {
   "cell_type": "code",
   "execution_count": 77,
   "metadata": {},
   "outputs": [
    {
     "data": {
      "text/plain": [
       "[(1, 1076),\n",
       " (2, 2020),\n",
       " (3, 269),\n",
       " (4, 165),\n",
       " (5, 92),\n",
       " (6, 54),\n",
       " (7, 34),\n",
       " (8, 40),\n",
       " (9, 16),\n",
       " (10, 14),\n",
       " (11, 10),\n",
       " (12, 13),\n",
       " (13, 7),\n",
       " (14, 8),\n",
       " (15, 6),\n",
       " (16, 12),\n",
       " (17, 5),\n",
       " (18, 6),\n",
       " (19, 7),\n",
       " (20, 6),\n",
       " (21, 1),\n",
       " (22, 4),\n",
       " (23, 7),\n",
       " (24, 2),\n",
       " (25, 6),\n",
       " (26, 2),\n",
       " (27, 1),\n",
       " (29, 3),\n",
       " (30, 5),\n",
       " (32, 1),\n",
       " (36, 1),\n",
       " (37, 1),\n",
       " (38, 1),\n",
       " (39, 3),\n",
       " (40, 3),\n",
       " (42, 2),\n",
       " (44, 1),\n",
       " (45, 1),\n",
       " (51, 1),\n",
       " (53, 1),\n",
       " (55, 2),\n",
       " (56, 2),\n",
       " (57, 1),\n",
       " (99, 1),\n",
       " (128, 1),\n",
       " (161, 1),\n",
       " (221, 1)]"
      ]
     },
     "execution_count": 77,
     "metadata": {},
     "output_type": "execute_result"
    }
   ],
   "source": [
    "mkt_depth_apos"
   ]
  },
  {
   "cell_type": "code",
   "execution_count": 78,
   "metadata": {},
   "outputs": [
    {
     "data": {
      "text/plain": [
       "<StemContainer object of 3 artists>"
      ]
     },
     "execution_count": 78,
     "metadata": {},
     "output_type": "execute_result"
    },
    {
     "data": {
      "image/png": "[encoded data removed]",
      "text/plain": [
       "<Figure size 432x288 with 1 Axes>"
      ]
     },
     "metadata": {
      "needs_background": "light"
     },
     "output_type": "display_data"
    }
   ],
   "source": [
    "plt.stem(*zip(*mkt_depth_apos))"
   ]
  },
  {
   "cell_type": "code",
   "execution_count": 80,
   "metadata": {},
   "outputs": [
    {
     "data": {
      "text/plain": [
       "[(1, 1096),\n",
       " (2, 2055),\n",
       " (3, 265),\n",
       " (4, 168),\n",
       " (5, 90),\n",
       " (6, 58),\n",
       " (7, 31),\n",
       " (8, 39),\n",
       " (9, 16),\n",
       " (10, 13),\n",
       " (11, 10),\n",
       " (12, 14),\n",
       " (13, 7),\n",
       " (14, 8),\n",
       " (15, 7),\n",
       " (16, 11),\n",
       " (17, 5),\n",
       " (18, 8),\n",
       " (19, 7),\n",
       " (20, 6),\n",
       " (21, 1),\n",
       " (22, 4),\n",
       " (23, 6),\n",
       " (24, 2),\n",
       " (25, 6),\n",
       " (26, 2),\n",
       " (27, 1),\n",
       " (29, 4),\n",
       " (30, 4),\n",
       " (32, 1),\n",
       " (36, 1),\n",
       " (37, 1),\n",
       " (38, 1),\n",
       " (39, 3),\n",
       " (40, 3),\n",
       " (42, 2),\n",
       " (44, 1),\n",
       " (45, 1),\n",
       " (51, 1),\n",
       " (53, 1),\n",
       " (55, 2),\n",
       " (56, 1),\n",
       " (128, 1),\n",
       " (161, 1),\n",
       " (221, 1)]"
      ]
     },
     "execution_count": 80,
     "metadata": {},
     "output_type": "execute_result"
    }
   ],
   "source": [
    "mkt_depth_c"
   ]
  },
  {
   "cell_type": "code",
   "execution_count": 79,
   "metadata": {},
   "outputs": [
    {
     "data": {
      "text/plain": [
       "<StemContainer object of 3 artists>"
      ]
     },
     "execution_count": 79,
     "metadata": {},
     "output_type": "execute_result"
    },
    {
     "data": {
      "image/png": "[encoded data removed]",
      "text/plain": [
       "<Figure size 432x288 with 1 Axes>"
      ]
     },
     "metadata": {
      "needs_background": "light"
     },
     "output_type": "display_data"
    }
   ],
   "source": [
    "mkt_depth_c = sorted(z for z in Counter(k[2] for k in ms_cutoff).items())\n",
    "plt.stem(*zip(*mkt_depth_c))"
   ]
  },
  {
   "cell_type": "markdown",
   "metadata": {},
   "source": [
    "## Truck Transport: A narrow market model\n",
    "Lorry Transport is something that's involved in every market process, which means it's involved in every \"outward-facing\" activity modeled by ecoinvent.  At first glance there appears to be a strong diversity of truck transport processes, but their breadth of empirical basis is extremely narrow and their usage within the database is highly limited.\n",
    "\n",
    "We demonstrate this by looking at the usage of all truck transport / market for truck transport processes in the database, and finding out which ones actually get used to model freight transport.  To do this accurately, we ignore consumers whose products are the same as the consumption reference flows-- these are generally market processes that are creating averaged freight transport models.  Then we show which processes are used and how widely."
   ]
  },
  {
   "cell_type": "code",
   "execution_count": 24,
   "metadata": {},
   "outputs": [],
   "source": [
    "import pandas as pd\n",
    "import numpy as np"
   ]
  },
  {
   "cell_type": "code",
   "execution_count": 25,
   "metadata": {},
   "outputs": [],
   "source": [
    "def _t_f_l_gen(origin, thresh):\n",
    "    _all_other = _ct_other = 0\n",
    "    for p in cat.query(origin).processes(Name=('transport', 'freight', 'lorry')):\n",
    "        rf = p.reference().flow\n",
    "        cons = [x for x in p.consumers() if x.flow != rf]\n",
    "        if len(cons) > thresh:\n",
    "            yield len(cons), p._name\n",
    "        else:\n",
    "            _ct_other += 1\n",
    "            _all_other += len(cons)\n",
    "    yield _all_other, 'All other truck models (%d)' % _ct_other\n",
    "    \n",
    "def t_f_l_usage(origin, thresh=10):\n",
    "    return pd.Series(*zip(*_t_f_l_gen(origin, thresh=thresh)), name=origin.split('.')[-1])"
   ]
  },
  {
   "cell_type": "code",
   "execution_count": 27,
   "metadata": {},
   "outputs": [
    {
     "data": {
      "text/html": [
       "<style  type=\"text/css\" >\n",
       "</style>  \n",
       "<table id=\"T_55542ce6_1edf_11e9_9d3b_c8ff285b31bb\" > \n",
       "<thead>    <tr> \n",
       "        <th class=\"blank level0\" ></th> \n",
       "        <th class=\"col_heading level0 col0\" >apos</th> \n",
       "        <th class=\"col_heading level0 col1\" >cutoff</th> \n",
       "    </tr></thead> \n",
       "<tbody>    <tr> \n",
       "        <th id=\"T_55542ce6_1edf_11e9_9d3b_c8ff285b31bblevel0_row0\" class=\"row_heading level0 row0\" >market for transport, freight, lorry, unspecified [GLO]</th> \n",
       "        <td id=\"T_55542ce6_1edf_11e9_9d3b_c8ff285b31bbrow0_col0\" class=\"data row0 col0\" >1989</td> \n",
       "        <td id=\"T_55542ce6_1edf_11e9_9d3b_c8ff285b31bbrow0_col1\" class=\"data row0 col1\" >1840</td> \n",
       "    </tr>    <tr> \n",
       "        <th id=\"T_55542ce6_1edf_11e9_9d3b_c8ff285b31bblevel0_row1\" class=\"row_heading level0 row1\" >market for transport, freight, lorry 7.5-16 metric ton, EURO3 [GLO]</th> \n",
       "        <td id=\"T_55542ce6_1edf_11e9_9d3b_c8ff285b31bbrow1_col0\" class=\"data row1 col0\" >284</td> \n",
       "        <td id=\"T_55542ce6_1edf_11e9_9d3b_c8ff285b31bbrow1_col1\" class=\"data row1 col1\" >284</td> \n",
       "    </tr>    <tr> \n",
       "        <th id=\"T_55542ce6_1edf_11e9_9d3b_c8ff285b31bblevel0_row2\" class=\"row_heading level0 row2\" >market for transport, freight, lorry with reefer, cooling [GLO]</th> \n",
       "        <td id=\"T_55542ce6_1edf_11e9_9d3b_c8ff285b31bbrow2_col0\" class=\"data row2 col0\" >158</td> \n",
       "        <td id=\"T_55542ce6_1edf_11e9_9d3b_c8ff285b31bbrow2_col1\" class=\"data row2 col1\" >44</td> \n",
       "    </tr>    <tr> \n",
       "        <th id=\"T_55542ce6_1edf_11e9_9d3b_c8ff285b31bblevel0_row3\" class=\"row_heading level0 row3\" >market for transport, freight, lorry with refrigeration machine, cooling [GLO]</th> \n",
       "        <td id=\"T_55542ce6_1edf_11e9_9d3b_c8ff285b31bbrow3_col0\" class=\"data row3 col0\" >158</td> \n",
       "        <td id=\"T_55542ce6_1edf_11e9_9d3b_c8ff285b31bbrow3_col1\" class=\"data row3 col1\" >44</td> \n",
       "    </tr>    <tr> \n",
       "        <th id=\"T_55542ce6_1edf_11e9_9d3b_c8ff285b31bblevel0_row4\" class=\"row_heading level0 row4\" >All other truck models (137)</th> \n",
       "        <td id=\"T_55542ce6_1edf_11e9_9d3b_c8ff285b31bbrow4_col0\" class=\"data row4 col0\" >62</td> \n",
       "        <td id=\"T_55542ce6_1edf_11e9_9d3b_c8ff285b31bbrow4_col1\" class=\"data row4 col1\" >67</td> \n",
       "    </tr>    <tr> \n",
       "        <th id=\"T_55542ce6_1edf_11e9_9d3b_c8ff285b31bblevel0_row5\" class=\"row_heading level0 row5\" >market for transport, freight, lorry 16-32 metric ton, EURO4 [GLO]</th> \n",
       "        <td id=\"T_55542ce6_1edf_11e9_9d3b_c8ff285b31bbrow5_col0\" class=\"data row5 col0\" >34</td> \n",
       "        <td id=\"T_55542ce6_1edf_11e9_9d3b_c8ff285b31bbrow5_col1\" class=\"data row5 col1\" >12</td> \n",
       "    </tr>    <tr> \n",
       "        <th id=\"T_55542ce6_1edf_11e9_9d3b_c8ff285b31bblevel0_row6\" class=\"row_heading level0 row6\" >market for transport, freight, lorry >32 metric ton, EURO4 [GLO]</th> \n",
       "        <td id=\"T_55542ce6_1edf_11e9_9d3b_c8ff285b31bbrow6_col0\" class=\"data row6 col0\" >28</td> \n",
       "        <td id=\"T_55542ce6_1edf_11e9_9d3b_c8ff285b31bbrow6_col1\" class=\"data row6 col1\" >14</td> \n",
       "    </tr>    <tr> \n",
       "        <th id=\"T_55542ce6_1edf_11e9_9d3b_c8ff285b31bblevel0_row7\" class=\"row_heading level0 row7\" >transport, freight, lorry 16-32 metric ton, EURO5 [RER]</th> \n",
       "        <td id=\"T_55542ce6_1edf_11e9_9d3b_c8ff285b31bbrow7_col0\" class=\"data row7 col0\" >27</td> \n",
       "        <td id=\"T_55542ce6_1edf_11e9_9d3b_c8ff285b31bbrow7_col1\" class=\"data row7 col1\" >0</td> \n",
       "    </tr>    <tr> \n",
       "        <th id=\"T_55542ce6_1edf_11e9_9d3b_c8ff285b31bblevel0_row8\" class=\"row_heading level0 row8\" >market for transport, freight, lorry 16-32 metric ton, EURO5 [GLO]</th> \n",
       "        <td id=\"T_55542ce6_1edf_11e9_9d3b_c8ff285b31bbrow8_col0\" class=\"data row8 col0\" >27</td> \n",
       "        <td id=\"T_55542ce6_1edf_11e9_9d3b_c8ff285b31bbrow8_col1\" class=\"data row8 col1\" >31</td> \n",
       "    </tr>    <tr> \n",
       "        <th id=\"T_55542ce6_1edf_11e9_9d3b_c8ff285b31bblevel0_row9\" class=\"row_heading level0 row9\" >market for transport, freight, lorry 16-32 metric ton, EURO3 [GLO]</th> \n",
       "        <td id=\"T_55542ce6_1edf_11e9_9d3b_c8ff285b31bbrow9_col0\" class=\"data row9 col0\" >21</td> \n",
       "        <td id=\"T_55542ce6_1edf_11e9_9d3b_c8ff285b31bbrow9_col1\" class=\"data row9 col1\" >13</td> \n",
       "    </tr>    <tr> \n",
       "        <th id=\"T_55542ce6_1edf_11e9_9d3b_c8ff285b31bblevel0_row10\" class=\"row_heading level0 row10\" >market for transport, freight, lorry 16-32 metric ton, EURO6 [GLO]</th> \n",
       "        <td id=\"T_55542ce6_1edf_11e9_9d3b_c8ff285b31bbrow10_col0\" class=\"data row10 col0\" >0</td> \n",
       "        <td id=\"T_55542ce6_1edf_11e9_9d3b_c8ff285b31bbrow10_col1\" class=\"data row10 col1\" >8</td> \n",
       "    </tr></tbody> \n",
       "</table> "
      ],
      "text/plain": [
       "<pandas.io.formats.style.Styler at 0x7fd86e4c0a20>"
      ]
     },
     "execution_count": 27,
     "metadata": {},
     "output_type": "execute_result"
    }
   ],
   "source": [
    "thresh = 4\n",
    "\n",
    "l_apos = t_f_l_usage(origins[0], thresh=thresh)\n",
    "l_cutoff = t_f_l_usage(origins[1], thresh=thresh)\n",
    "lorry = pd.DataFrame(index=list(set(l_apos.index.values).union(set(l_cutoff.index.values))))\n",
    "lorry['apos'] = l_apos\n",
    "lorry['cutoff'] = l_cutoff\n",
    "\n",
    "for k in lorry.columns:\n",
    "    lorry.loc[lorry[k].isnull(), k] = 0\n",
    "lorry.sort_values('apos', ascending=False).style.format({'apos': '{:.0f}', 'cutoff': '{:.0f}'})"
   ]
  },
  {
   "cell_type": "code",
   "execution_count": 28,
   "metadata": {},
   "outputs": [
    {
     "data": {
      "text/plain": [
       "apos      2788.0\n",
       "cutoff    2357.0\n",
       "dtype: float64"
      ]
     },
     "execution_count": 28,
     "metadata": {},
     "output_type": "execute_result"
    }
   ],
   "source": [
    "lorry.sum()"
   ]
  },
  {
   "cell_type": "code",
   "execution_count": 29,
   "metadata": {},
   "outputs": [
    {
     "data": {
      "text/plain": [
       "0.8152797704447633"
      ]
     },
     "execution_count": 29,
     "metadata": {},
     "output_type": "execute_result"
    }
   ],
   "source": [
    "(1989 + 284) / 2788"
   ]
  },
  {
   "cell_type": "code",
   "execution_count": 81,
   "metadata": {},
   "outputs": [
    {
     "data": {
      "text/plain": [
       "0.9011455239711498"
      ]
     },
     "execution_count": 81,
     "metadata": {},
     "output_type": "execute_result"
    }
   ],
   "source": [
    "(1840 + 284) / 2357"
   ]
  },
  {
   "cell_type": "code",
   "execution_count": 83,
   "metadata": {},
   "outputs": [],
   "source": [
    "m_t_f_l_u = next(cat.query('local.ecoinvent.3.4.apos').processes(Name='market for transport, freight, lorry, unspecified'))"
   ]
  },
  {
   "cell_type": "code",
   "execution_count": 88,
   "metadata": {},
   "outputs": [],
   "source": [
    "_t_gen = (cat.query(m_t_f_l_u.origin).get(x.termination) for x in m_t_f_l_u.inventory() if x.termination is not None)"
   ]
  },
  {
   "cell_type": "code",
   "execution_count": 90,
   "metadata": {},
   "outputs": [],
   "source": [
    "def _term_generator(_p_ref):\n",
    "    for x in _p_ref.inventory():\n",
    "        if x.termination is not None:\n",
    "            yield cat.query(_p_ref.origin).get(x.termination)"
   ]
  },
  {
   "cell_type": "code",
   "execution_count": 91,
   "metadata": {},
   "outputs": [],
   "source": [
    "_t_gen = _term_generator(m_t_f_l_u)"
   ]
  },
  {
   "cell_type": "code",
   "execution_count": 92,
   "metadata": {},
   "outputs": [],
   "source": [
    "n = next(_t_gen)"
   ]
  },
  {
   "cell_type": "code",
   "execution_count": 101,
   "metadata": {},
   "outputs": [
    {
     "name": "stdout",
     "output_type": "stream",
     "text": [
      "ProcessRef catalog reference (4f0da131-d826-45c4-b13b-04e4cab7e59a)\n",
      "origin: local.ecoinvent.3.4.apos\n",
      "UUID: 4f0da131-d826-45c4-b13b-04e4cab7e59a\n",
      "   Name: market for transport, freight, lorry >32 metric ton, EURO6\n",
      "Comment: no comment.\n",
      "==Local Fields==\n",
      "   SpatialScope: GLO\n",
      "  TemporalScope: {'begin': '2009-01-01', 'end': '2017-12-31'}\n",
      "Classifications: ['EcoSpold01Categories: transport systems/road', 'ISIC rev.4 ecoinvent: 4923:Freight transport by road']\n"
     ]
    }
   ],
   "source": [
    "n.show()"
   ]
  },
  {
   "cell_type": "code",
   "execution_count": 93,
   "metadata": {},
   "outputs": [
    {
     "name": "stdout",
     "output_type": "stream",
     "text": [
      " [00] Output: {*} [1 [metric ton*km]]     transport, freight, lorry >32 metric ton, EURO6 [CPC: 6511: Road transport services of freight]\n",
      " [01]  Input:     [ ---  [metric ton*km]] (#) transport, freight, lorry >32 metric ton, EURO6 [CPC: 6511: Road transport services of freight]\n",
      " [02]  Input:     [ ---  [metric ton*km]] (#) transport, freight, lorry >32 metric ton, EURO6 [CPC: 6511: Road transport services of freight]\n"
     ]
    },
    {
     "data": {
      "text/plain": [
       "[<lcatools.exchanges.ExchangeValue at 0x7fd86d0619e8>,\n",
       " <lcatools.exchanges.ExchangeValue at 0x7fd86d061a58>,\n",
       " <lcatools.exchanges.ExchangeValue at 0x7fd86d061e80>]"
      ]
     },
     "execution_count": 93,
     "metadata": {},
     "output_type": "execute_result"
    }
   ],
   "source": [
    "enum(n.inventory())"
   ]
  },
  {
   "cell_type": "code",
   "execution_count": 94,
   "metadata": {},
   "outputs": [],
   "source": [
    "_tt_gen = _term_generator(n)"
   ]
  },
  {
   "cell_type": "code",
   "execution_count": 95,
   "metadata": {},
   "outputs": [],
   "source": [
    "nn = next(_tt_gen)"
   ]
  },
  {
   "cell_type": "code",
   "execution_count": null,
   "metadata": {},
   "outputs": [],
   "source": []
  },
  {
   "cell_type": "code",
   "execution_count": 99,
   "metadata": {
    "scrolled": false
   },
   "outputs": [
    {
     "name": "stdout",
     "output_type": "stream",
     "text": [
      "ProcessRef catalog reference (6c71a30c-1e63-4a50-a4f0-679ce999f7b8)\n",
      "origin: local.ecoinvent.3.4.apos\n",
      "UUID: 6c71a30c-1e63-4a50-a4f0-679ce999f7b8\n",
      "   Name: transport, freight, lorry >32 metric ton, EURO6\n",
      "Comment: This dataset represents the service of 1tkm freight transport in a lorry of the size class >32 metric tons gross vehicle weight (GVW) and Euro VI emissions class. The transport datasets refer to the entire transport life cycle i.e. to the construction, operation, maintenance and end of life of vehicle and road infrastructures. Fuel consumption and emissions are for average European journeys and load factors and not representative of a specific transport scenario. The average load factors are taken from the Tremove model v2.7b (2009) and EcoTransIT (2011) report. These are as follows:\n",
      "\n",
      "Lorry size class     Average load factor            GVW \n",
      "\n",
      "3.5-7.5t                             0.98t\t                            4.98t \n",
      "7.5-16t                               3.29t                           9.29t     \n",
      "16-32t                                5.79t                         15.79t\n",
      ">32t                                 15.96t                         29.96t\n",
      "\n",
      "The lorry size and load factor determines the GVW and therefore also the fuel consumption and amount of both exhaust and non-exhaust emissions. Non-exhaust emissions are those resulting from tyre, brake and road wear. \n",
      "\n",
      "Fuel consumption and exhaust emissions are taken from v3.1 of the HBEFA model, using the data for Germany and without applying model weighting. There are a higher number of size categories used in HBEFA than in ecoinvent and so the data are grouped in order to fit the lorry size classes used in ecoinvent. The selective catalytic reduction (SCR) technology is around 3 times more common than that of exhaust gas recovery (EGR) as an emissions reduction measure and so the emission factors given in the dataset are weighted to reflect this. The data for the HBEFA categories SCR* and VI* were disregarded. The exhaust emissions caused by the burning of fuel are either fuel dependent (fuel type and quantity) or Euro class dependent. The latter reflect the emission regulations to which the vehicle complies. Regulated emissions are CO, NOx, particulate matter (PM) and total hydrocarbons (HC). Data from the Emissions Inventory Guidebook (EMEP/EEA, 2013) were used for specific exhaust emissions not covered by the HBEFA model. \n",
      "\n",
      "Non-exhaust emissions are accounted for as weight dependent by-products and exist as seperate datasets.\n",
      "\n",
      "For road infrastructure the expenditures and environmental interventions due to construction of roads have been allocated based on the gross tonne kilometer performance. Expenditures due to operation of the road infrastructure, as well as land use have been allocated based on the yearly vehicle kilometer performance. The same assumption on vehicle lifetime performance has been transferred from the ecoinvent v2 datasets of 540 000 km/vehicle. The production, maintenance and disposal of the vehicle are as reported in the ecoinvent (2007) report on transport services. \n",
      "\n",
      "Main data sources:\n",
      "\n",
      "De Ceuster, G., et al. (2009) TREMOVE: Final Report. Model code v2.7b, 2009. European Commission, Brussels.\n",
      "\n",
      "Keller, M. et al. (2010) Handbook emission factors for road transport v3.1, HBEFA. INFRAS, Berne, CH. \n",
      "\n",
      "Knörr, W. et al. (2011) Ecological Transport Information Tool for Worldwide Transports (EcoTransIT): Methodology and data update. Berlin, Hannover, Heidelberg, DE.\n",
      "\n",
      "Ntziachristos, L., et al. (2013) EMEP/EEA air pollutant emissions inventory guidebook 2009: Exhaust emissions from road transport. European Environment Agency, Copenhagen, DK.\n",
      "\n",
      "Spielmann, M., et al. (2007) Transport Services. ecoinvent report No. 14., Swiss Centre for Life Cycle Inventories, Dübendorf, CH.\n",
      "==Local Fields==\n",
      "   SpatialScope: RER\n",
      "  TemporalScope: {'begin': '2009-01-01', 'end': '2017-12-31'}\n",
      "Classifications: ['ISIC rev.4 ecoinvent: 4923:Freight transport by road', 'EcoSpold01Categories: transport systems/road']\n",
      " [00]  Input:     [9.65e-08 [unit]] (#) lorry, 16 metric ton [CPC: 49114: Motor vehicles n.e.c. for the transport of goods]\n",
      " [01]  Input:     [9.65e-08 [unit]] (#) maintenance, lorry 16 metric ton [CPC: 87141: Maintenance and repair services of motor vehicles]\n",
      " [02]  Input:     [0.00109 [m*year]] (#) road [CPC: 53211: Highways (except elevated highways), streets and roads]\n",
      " [03]  Input:     [-0.000168 [kg]] (#) tyre wear emissions, lorry [CPC: 39260: Used pneumatic tyres of rubber]\n",
      " [04]  Input:     [-1.46e-05 [kg]] (#) road wear emissions, lorry [CPC: 53211: Highways (except elevated highways), streets and roads]\n",
      " [05]  Input:     [0.0192 [kg]] (#) diesel, low-sulfur [By-product classification: allocatable product]\n",
      " [06]  Input:     [-1.69e-05 [kg]] (#) brake wear emissions, lorry [CPC: 49129: Other parts and accessories n.e.c. of motor vehicles (including brakes, gear boxes, axles, road wheels, suspen[…]]\n",
      " [07] Output:     [1.15e-12 [kg]]     Chromium VI (CAS 018540-29-9) [unspecified]\n",
      " [08] Output:     [1.64e-09 [kg]]     Propane (CAS 000074-98-6) [unspecified]\n",
      " [09] Output:     [1.92e-12 [kg]]     Selenium (CAS 007782-49-2) [unspecified]\n",
      " [10] Output:     [1.92e-12 [kg]]     Arsenic (CAS 007440-38-2) [unspecified]\n",
      " [11] Output:     [3.13e-06 [kg]]     Dinitrogen monoxide (CAS 010024-97-2) [unspecified]\n",
      " [12] Output:     [2.25e-08 [kg]]     Benzaldehyde (CAS 000100-52-7) [unspecified]\n",
      " [13] Output:     [1.02e-10 [kg]]     Mercury (CAS 007439-97-6) [unspecified]\n",
      " [14] Output:     [9.19e-09 [kg]]     Styrene (CAS 000100-42-5) [unspecified]\n",
      " [15] Output:     [1e-09 [kg]]     Lead (CAS 007439-92-1) [unspecified]\n",
      " [16] Output:     [2.46e-09 [kg]]     Butane (CAS 000106-97-8) [unspecified]\n",
      " [17] Output:     [1.33e-06 [kg]]     NMVOC, non-methane volatile organic compounds, unspecified origin [unspecified]\n",
      " [18] Output:     [9.85e-10 [kg]]     Pentane (CAS 000109-66-0) [unspecified]\n",
      " [19] Output:     [4.07e-10 [kg]]     Copper (CAS 007440-50-8) [unspecified]\n",
      " [20] Output:     [1.69e-10 [kg]]     Nickel (CAS 007440-02-0) [unspecified]\n",
      " [21] Output:     [3.13e-07 [kg]]     Sulfur dioxide (CAS 007446-09-5) [unspecified]\n",
      " [22] Output:     [1.88e-07 [kg]]     Ammonia (CAS 007664-41-7) [unspecified]\n",
      " [23] Output:     [4.92e-09 [kg]]     Heptane (CAS 000142-82-5) [unspecified]\n",
      " [24] Output:     [5.76e-10 [kg]]     Chromium (CAS 007440-47-3) [unspecified]\n",
      " [25] Output:     [2.91e-08 [kg]]     Acrolein (CAS 000107-02-8) [unspecified]\n",
      " [26] Output:     [1.5e-09 [kg]]     PAH, polycyclic aromatic hydrocarbons (CAS 130498-29-2) [unspecified]\n",
      " [27] Output:     [4.92e-10 [kg]]     Ethane (CAS 000074-84-0) [unspecified]\n",
      " [28] Output:     [0.0575 [kg]]     Carbon dioxide, fossil (CAS 000124-38-9) [unspecified]\n",
      " [29] Output:     [6.57e-09 [kg]]     o-Xylene (CAS 000095-47-6) [unspecified]\n",
      " [30] Output:     [1.38e-07 [kg]]     Formaldehyde (CAS 000050-00-0) [unspecified]\n",
      " [31] Output:     [1.61e-08 [kg]]     m-Xylene (CAS 000108-38-3) [unspecified]\n",
      " [32] Output:     [5.24e-05 [kg]]     Carbon monoxide, fossil (CAS 000630-08-0) [unspecified]\n",
      " [33] Output:     [7.5e-08 [kg]]     Acetaldehyde (CAS 000075-07-0) [unspecified]\n",
      " [34] Output:     [3.34e-08 [kg]]     Zinc (CAS 007440-66-6) [unspecified]\n",
      " [35] Output:     [2.63e-05 [kg]]     Nitrogen oxides (CAS 011104-93-1) [unspecified]\n",
      " [36] Output:     [2.37e-07 [kg]]     Particulates, < 2.5 um [unspecified]\n",
      " [37] Output:     [1.64e-10 [kg]]     Toluene (CAS 000108-88-3) [unspecified]\n",
      " [38] Output:     [1.67e-10 [kg]]     Cadmium (CAS 007440-43-9) [unspecified]\n",
      " [39] Output:     [1.15e-09 [kg]]     Benzene (CAS 000071-43-2) [unspecified]\n",
      " [40] Output:     [4.04e-08 [kg]]     Methane, fossil (CAS 000074-82-8) [unspecified]\n"
     ]
    }
   ],
   "source": [
    "nn.show()\n",
    "_ = enum(nn.inventory(nn.reference()))"
   ]
  },
  {
   "cell_type": "code",
   "execution_count": 100,
   "metadata": {
    "scrolled": false
   },
   "outputs": [
    {
     "name": "stdout",
     "output_type": "stream",
     "text": [
      "ProcessRef catalog reference (205c0fb4-e23a-41df-b376-0550c22def35)\n",
      "origin: local.ecoinvent.3.4.apos\n",
      "UUID: 205c0fb4-e23a-41df-b376-0550c22def35\n",
      "   Name: transport, freight, lorry >32 metric ton, EURO6\n",
      "Comment: This dataset represents the service of 1tkm freight transport in a lorry of the size class >32 metric tons gross vehicle weight (GVW) and Euro VI emissions class. The transport datasets refer to the entire transport life cycle i.e. to the construction, operation, maintenance and end of life of vehicle and road infrastructures. Fuel consumption and emissions are for average European journeys and load factors and not representative of a specific transport scenario. The average load factors are taken from the Tremove model v2.7b (2009) and EcoTransIT (2011) report. These are as follows:\n",
      "\n",
      "Lorry size class     Average load factor            GVW \n",
      "\n",
      "3.5-7.5t                             0.98t\t                            4.98t \n",
      "7.5-16t                               3.29t                           9.29t     \n",
      "16-32t                                5.79t                         15.79t\n",
      ">32t                                 15.96t                         29.96t\n",
      "\n",
      "The lorry size and load factor determines the GVW and therefore also the fuel consumption and amount of both exhaust and non-exhaust emissions. Non-exhaust emissions are those resulting from tyre, brake and road wear. \n",
      "\n",
      "Fuel consumption and exhaust emissions are taken from v3.1 of the HBEFA model, using the data for Germany and without applying model weighting. There are a higher number of size categories used in HBEFA than in ecoinvent and so the data are grouped in order to fit the lorry size classes used in ecoinvent. The selective catalytic reduction (SCR) technology is around 3 times more common than that of exhaust gas recovery (EGR) as an emissions reduction measure and so the emission factors given in the dataset are weighted to reflect this. The data for the HBEFA categories SCR* and VI* were disregarded. The exhaust emissions caused by the burning of fuel are either fuel dependent (fuel type and quantity) or Euro class dependent. The latter reflect the emission regulations to which the vehicle complies. Regulated emissions are CO, NOx, particulate matter (PM) and total hydrocarbons (HC). Data from the Emissions Inventory Guidebook (EMEP/EEA, 2013) were used for specific exhaust emissions not covered by the HBEFA model. \n",
      "\n",
      "Non-exhaust emissions are accounted for as weight dependent by-products and exist as seperate datasets.\n",
      "\n",
      "For road infrastructure the expenditures and environmental interventions due to construction of roads have been allocated based on the gross tonne kilometer performance. Expenditures due to operation of the road infrastructure, as well as land use have been allocated based on the yearly vehicle kilometer performance. The same assumption on vehicle lifetime performance has been transferred from the ecoinvent v2 datasets of 540 000 km/vehicle. The production, maintenance and disposal of the vehicle are as reported in the ecoinvent (2007) report on transport services. \n",
      "\n",
      "Main data sources:\n",
      "\n",
      "De Ceuster, G., et al. (2009) TREMOVE: Final Report. Model code v2.7b, 2009. European Commission, Brussels.\n",
      "\n",
      "Keller, M. et al. (2010) Handbook emission factors for road transport v3.1, HBEFA. INFRAS, Berne, CH. \n",
      "\n",
      "Knörr, W. et al. (2011) Ecological Transport Information Tool for Worldwide Transports (EcoTransIT): Methodology and data update. Berlin, Hannover, Heidelberg, DE.\n",
      "\n",
      "Ntziachristos, L., et al. (2013) EMEP/EEA air pollutant emissions inventory guidebook 2009: Exhaust emissions from road transport. European Environment Agency, Copenhagen, DK.\n",
      "\n",
      "Spielmann, M., et al. (2007) Transport Services. ecoinvent report No. 14., Swiss Centre for Life Cycle Inventories, Dübendorf, CH.\n",
      "==Local Fields==\n",
      "   SpatialScope: RoW\n",
      "  TemporalScope: {'begin': '2009-01-01', 'end': '2017-12-31'}\n",
      "Classifications: ['EcoSpold01Categories: transport systems/road', 'ISIC rev.4 ecoinvent: 4923:Freight transport by road']\n",
      " [00]  Input:     [9.65e-08 [unit]] (#) lorry, 16 metric ton [CPC: 49114: Motor vehicles n.e.c. for the transport of goods]\n",
      " [01]  Input:     [-1.46e-05 [kg]] (#) road wear emissions, lorry [CPC: 53211: Highways (except elevated highways), streets and roads]\n",
      " [02]  Input:     [0.0192 [kg]] (#) diesel, low-sulfur [By-product classification: allocatable product]\n",
      " [03]  Input:     [-1.69e-05 [kg]] (#) brake wear emissions, lorry [CPC: 49129: Other parts and accessories n.e.c. of motor vehicles (including brakes, gear boxes, axles, road wheels, suspen[…]]\n",
      " [04]  Input:     [9.65e-08 [unit]] (#) maintenance, lorry 16 metric ton [CPC: 87141: Maintenance and repair services of motor vehicles]\n",
      " [05]  Input:     [0.00109 [m*year]] (#) road [CPC: 53211: Highways (except elevated highways), streets and roads]\n",
      " [06]  Input:     [-0.000168 [kg]] (#) tyre wear emissions, lorry [CPC: 39260: Used pneumatic tyres of rubber]\n",
      " [07] Output:     [1.69e-10 [kg]]     Nickel (CAS 007440-02-0) [unspecified]\n",
      " [08] Output:     [0.0575 [kg]]     Carbon dioxide, fossil (CAS 000124-38-9) [unspecified]\n",
      " [09] Output:     [1.38e-07 [kg]]     Formaldehyde (CAS 000050-00-0) [unspecified]\n",
      " [10] Output:     [1.88e-07 [kg]]     Ammonia (CAS 007664-41-7) [unspecified]\n",
      " [11] Output:     [4.04e-08 [kg]]     Methane, fossil (CAS 000074-82-8) [unspecified]\n",
      " [12] Output:     [2.63e-05 [kg]]     Nitrogen oxides (CAS 011104-93-1) [unspecified]\n",
      " [13] Output:     [5.76e-10 [kg]]     Chromium (CAS 007440-47-3) [unspecified]\n",
      " [14] Output:     [1.92e-12 [kg]]     Arsenic (CAS 007440-38-2) [unspecified]\n",
      " [15] Output:     [3.34e-08 [kg]]     Zinc (CAS 007440-66-6) [unspecified]\n",
      " [16] Output:     [2.25e-08 [kg]]     Benzaldehyde (CAS 000100-52-7) [unspecified]\n",
      " [17] Output:     [1e-09 [kg]]     Lead (CAS 007439-92-1) [unspecified]\n",
      " [18] Output:     [9.19e-09 [kg]]     Styrene (CAS 000100-42-5) [unspecified]\n",
      " [19] Output:     [1.64e-10 [kg]]     Toluene (CAS 000108-88-3) [unspecified]\n",
      " [20] Output:     [2.46e-09 [kg]]     Butane (CAS 000106-97-8) [unspecified]\n",
      " [21] Output:     [1.67e-10 [kg]]     Cadmium (CAS 007440-43-9) [unspecified]\n",
      " [22] Output:     [9.85e-10 [kg]]     Pentane (CAS 000109-66-0) [unspecified]\n",
      " [23] Output:     [3.13e-06 [kg]]     Dinitrogen monoxide (CAS 010024-97-2) [unspecified]\n",
      " [24] Output:     [1.92e-12 [kg]]     Selenium (CAS 007782-49-2) [unspecified]\n",
      " [25] Output:     [1.33e-06 [kg]]     NMVOC, non-methane volatile organic compounds, unspecified origin [unspecified]\n",
      " [26] Output:     [4.92e-09 [kg]]     Heptane (CAS 000142-82-5) [unspecified]\n",
      " [27] Output:     [2.91e-08 [kg]]     Acrolein (CAS 000107-02-8) [unspecified]\n",
      " [28] Output:     [4.07e-10 [kg]]     Copper (CAS 007440-50-8) [unspecified]\n",
      " [29] Output:     [4.92e-10 [kg]]     Ethane (CAS 000074-84-0) [unspecified]\n",
      " [30] Output:     [1.02e-10 [kg]]     Mercury (CAS 007439-97-6) [unspecified]\n",
      " [31] Output:     [6.57e-09 [kg]]     o-Xylene (CAS 000095-47-6) [unspecified]\n",
      " [32] Output:     [5.24e-05 [kg]]     Carbon monoxide, fossil (CAS 000630-08-0) [unspecified]\n",
      " [33] Output:     [1.61e-08 [kg]]     m-Xylene (CAS 000108-38-3) [unspecified]\n",
      " [34] Output:     [1.5e-09 [kg]]     PAH, polycyclic aromatic hydrocarbons (CAS 130498-29-2) [unspecified]\n",
      " [35] Output:     [1.64e-09 [kg]]     Propane (CAS 000074-98-6) [unspecified]\n",
      " [36] Output:     [3.13e-07 [kg]]     Sulfur dioxide (CAS 007446-09-5) [unspecified]\n",
      " [37] Output:     [2.37e-07 [kg]]     Particulates, < 2.5 um [unspecified]\n",
      " [38] Output:     [1.15e-09 [kg]]     Benzene (CAS 000071-43-2) [unspecified]\n",
      " [39] Output:     [1.15e-12 [kg]]     Chromium VI (CAS 018540-29-9) [unspecified]\n",
      " [40] Output:     [7.5e-08 [kg]]     Acetaldehyde (CAS 000075-07-0) [unspecified]\n"
     ]
    }
   ],
   "source": [
    "n0 = next(_tt_gen)\n",
    "n0.show()\n",
    "_ = enum(n0.inventory(n0.reference()))"
   ]
  },
  {
   "cell_type": "code",
   "execution_count": null,
   "metadata": {},
   "outputs": [],
   "source": [
    "# 0.0192 kg diesel per 1 tkm = 1.92 kg diesel per 100 tkm = about 2.5 L diesel per 100 tkm"
   ]
  },
  {
   "cell_type": "code",
   "execution_count": 85,
   "metadata": {},
   "outputs": [
    {
     "name": "stdout",
     "output_type": "stream",
     "text": [
      " [00] Output: {*} [1 [metric ton*km]]     transport, freight, lorry, unspecified [CPC: 6511: Road transport services of freight]\n",
      " [01]  Input:     [ ---  [metric ton*km]] (#) transport, freight, lorry >32 metric ton, EURO6 [CPC: 6511: Road transport services of freight]\n",
      " [02]  Input:     [ ---  [metric ton*km]] (#) transport, freight, lorry 16-32 metric ton, EURO6 [By-product classification: allocatable product]\n",
      " [03]  Input:     [ ---  [metric ton*km]] (#) transport, freight, lorry 3.5-7.5 metric ton, EURO6 [CPC: 6511: Road transport services of freight]\n",
      " [04]  Input:     [ ---  [metric ton*km]] (#) transport, freight, lorry 7.5-16 metric ton, EURO6 [CPC: 6511: Road transport services of freight]\n"
     ]
    },
    {
     "data": {
      "text/plain": [
       "[<lcatools.exchanges.ExchangeValue at 0x7fd8686f0d68>,\n",
       " <lcatools.exchanges.ExchangeValue at 0x7fd8686f0630>,\n",
       " <lcatools.exchanges.ExchangeValue at 0x7fd8686f0588>,\n",
       " <lcatools.exchanges.ExchangeValue at 0x7fd8686f05c0>,\n",
       " <lcatools.exchanges.ExchangeValue at 0x7fd8686f0a20>]"
      ]
     },
     "execution_count": 85,
     "metadata": {},
     "output_type": "execute_result"
    }
   ],
   "source": [
    "enum(m_t_f_l_u.inventory())"
   ]
  }
 ],
 "metadata": {
  "kernelspec": {
   "display_name": "lca-tools",
   "language": "python",
   "name": "lca-tools"
  },
  "language_info": {
   "codemirror_mode": {
    "name": "ipython",
    "version": 3
   },
   "file_extension": ".py",
   "mimetype": "text/x-python",
   "name": "python",
   "nbconvert_exporter": "python",
   "pygments_lexer": "ipython3",
   "version": "3.7.2"
  }
 },
 "nbformat": 4,
 "nbformat_minor": 2
}
