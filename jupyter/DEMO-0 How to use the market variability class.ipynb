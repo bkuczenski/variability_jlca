{
 "cells": [
  {
   "cell_type": "code",
   "execution_count": 1,
   "metadata": {},
   "outputs": [],
   "source": [
    "STUDY_PATH = '/data/GitHub/2018/variability_jlca/'"
   ]
  },
  {
   "cell_type": "code",
   "execution_count": 2,
   "metadata": {},
   "outputs": [],
   "source": [
    "import sys\n",
    "sys.path.append(STUDY_PATH)"
   ]
  },
  {
   "cell_type": "code",
   "execution_count": 3,
   "metadata": {},
   "outputs": [],
   "source": [
    "from lca_variability import lca_variability\n",
    "import os\n",
    "mv_path = os.path.join(STUDY_PATH, 'mkt_var_cutoff.json')"
   ]
  },
  {
   "cell_type": "code",
   "execution_count": 4,
   "metadata": {},
   "outputs": [
    {
     "name": "stdout",
     "output_type": "stream",
     "text": [
      "Loading JSON data from /data/GitHub/lca-tools/lcatools/qdb/data/flowable_synlist.json:\n",
      "Loading JSON data from /data/GitHub/lca-tools/lcatools/qdb/data/quantity_synlist.json:\n",
      "local.qdb: /data/GitHub/2018/variability_jlca/catalog/reference-quantities.json\n",
      "Loading JSON data from /data/GitHub/2018/variability_jlca/catalog/reference-quantities.json:\n",
      "local.qdb: /data/GitHub/lca-tools/lcatools/qdb/data/elcd_reference_quantities.json\n",
      "25 new quantity entities added (25 total)\n",
      "6 new flow entities added (6 total)\n"
     ]
    }
   ],
   "source": [
    "from antelope_catalog import LcCatalog\n",
    "cat = LcCatalog(os.path.join(STUDY_PATH, 'catalog'), quell_biogenic_CO2=True)"
   ]
  },
  {
   "cell_type": "code",
   "execution_count": 5,
   "metadata": {
    "scrolled": false
   },
   "outputs": [
    {
     "name": "stdout",
     "output_type": "stream",
     "text": [
      "local.lcia.ecoinvent.3.1: /data/LCI/Ecoinvent/LCIA/LCIA implementation v3.1 2014_08_13.xlsx\n",
      "Loading JSON data from /data/GitHub/2018/variability_jlca/catalog/cache/cfa3982d248fbdf0224e3ebad316063c182bbbbd.json.gz:\n",
      "local.lcia.ecoinvent.3.1: /data/GitHub/2018/variability_jlca/catalog/cache/cfa3982d248fbdf0224e3ebad316063c182bbbbd.json.gz\n",
      "703 new quantity entities added (703 total)\n",
      "3255 new flow entities added (3255 total)\n",
      "local.ecoinvent.3.4.cutoff: /data/LCI/Ecoinvent/3.4/ecoinvent 3.4_cutoff_ecoSpold02\n"
     ]
    }
   ],
   "source": [
    "mkts = lca_variability.MarketIterator.restore(mv_path, cat)"
   ]
  },
  {
   "cell_type": "code",
   "execution_count": 6,
   "metadata": {},
   "outputs": [
    {
     "data": {
      "text/plain": [
       "<lca_variability.lca_variability.MarketIterator at 0x7f4e7f53fb38>"
      ]
     },
     "execution_count": 6,
     "metadata": {},
     "output_type": "execute_result"
    }
   ],
   "source": [
    "mkts"
   ]
  },
  {
   "cell_type": "code",
   "execution_count": 7,
   "metadata": {},
   "outputs": [
    {
     "data": {
      "text/plain": [
       "3341"
      ]
     },
     "execution_count": 7,
     "metadata": {},
     "output_type": "execute_result"
    }
   ],
   "source": [
    "len(mkts)"
   ]
  },
  {
   "cell_type": "code",
   "execution_count": 8,
   "metadata": {},
   "outputs": [
    {
     "name": "stdout",
     "output_type": "stream",
     "text": [
      "local.ecoinvent.3.4.apos [basic, inventory]\n",
      "local.ecoinvent.3.4.apos.index.20190118 [background, basic, index]\n",
      "local.ecoinvent.3.4.conseq [basic, inventory]\n",
      "local.ecoinvent.3.4.cutoff [basic, inventory]\n",
      "local.ecoinvent.3.4.cutoff.index.20190118 [background, basic, index]\n",
      "local.lcia.ecoinvent.3.1 [basic, index, quantity]\n",
      "local.qdb [basic, index, quantity]\n"
     ]
    }
   ],
   "source": [
    "cat.show_interfaces()"
   ]
  },
  {
   "cell_type": "code",
   "execution_count": 9,
   "metadata": {},
   "outputs": [
    {
     "data": {
      "text/plain": [
       "{('ReCiPe Midpoint (H), climate change, GWP100',\n",
       "  '26b3fc08-16a4-4e76-8e5c-d0cb870bd6d0'): -2.8507061141313326,\n",
       " ('ReCiPe Midpoint (H), terrestrial acidification, TAP100',\n",
       "  '26b3fc08-16a4-4e76-8e5c-d0cb870bd6d0'): -0.00035185998859346213,\n",
       " ('ReCiPe Midpoint (H), photochemical oxidant formation, POFP',\n",
       "  '26b3fc08-16a4-4e76-8e5c-d0cb870bd6d0'): -0.0005138159088310136,\n",
       " ('ReCiPe Midpoint (H), marine eutrophication, MEP',\n",
       "  '26b3fc08-16a4-4e76-8e5c-d0cb870bd6d0'): -0.00020363445479063913}"
      ]
     },
     "execution_count": 9,
     "metadata": {},
     "output_type": "execute_result"
    }
   ],
   "source": [
    "mkts[2]._scores"
   ]
  },
  {
   "cell_type": "markdown",
   "metadata": {},
   "source": [
    "## Dataframe\n"
   ]
  },
  {
   "cell_type": "code",
   "execution_count": 10,
   "metadata": {},
   "outputs": [
    {
     "name": "stdout",
     "output_type": "stream",
     "text": [
      "Loading JSON data from /data/GitHub/2018/variability_jlca/catalog/index/ffc0f70037f9e921067e85ac7e2d4ff0ba1bc3b5.json.gz:\n",
      "local.ecoinvent.3.4.cutoff.index.20190118: /data/GitHub/2018/variability_jlca/catalog/index/ffc0f70037f9e921067e85ac7e2d4ff0ba1bc3b5.json.gz\n",
      "local.ecoinvent.3.4.cutoff: /data/LCI/Ecoinvent/3.4/ecoinvent 3.4_cutoff_ecoSpold02\n",
      "19 new quantity entities added (19 total)\n",
      "4881 new flow entities added (4881 total)\n",
      "13459 new process entities added (13459 total)\n"
     ]
    }
   ],
   "source": [
    "m_gly = next(cat.query('local.ecoinvent.3.4.cutoff').processes(Name='market for glycerine'))"
   ]
  },
  {
   "cell_type": "code",
   "execution_count": 10,
   "metadata": {},
   "outputs": [
    {
     "name": "stdout",
     "output_type": "stream",
     "text": [
      "ProcessRef catalog reference (037fa5e4-f711-4987-b50a-38920ca5d5a0)\n",
      "origin: local.ecoinvent.3.4.cutoff\n",
      "UUID: 037fa5e4-f711-4987-b50a-38920ca5d5a0\n",
      "   Name: market for glycerine\n",
      "Comment: no comment.\n",
      "==Local Fields==\n",
      "   SpatialScope: GLO\n",
      "  TemporalScope: {'begin': '2011-01-01', 'end': '2017-12-31'}\n",
      "Classifications: ['ISIC rev.4 ecoinvent: 2011:Manufacture of basic chemicals', 'EcoSpold01Categories: chemicals/organics']\n"
     ]
    }
   ],
   "source": [
    "m_gly.show()"
   ]
  },
  {
   "cell_type": "code",
   "execution_count": 11,
   "metadata": {},
   "outputs": [],
   "source": [
    "from antelope_reports.tables import AllocationGrid"
   ]
  },
  {
   "cell_type": "code",
   "execution_count": 12,
   "metadata": {},
   "outputs": [],
   "source": [
    "ag = AllocationGrid(m_gly._query, m_gly, report_unallocated=False)"
   ]
  },
  {
   "cell_type": "code",
   "execution_count": 13,
   "metadata": {},
   "outputs": [
    {
     "name": "stdout",
     "output_type": "stream",
     "text": [
      "Direction Ref C0         Flow                                                                                    Comment\n",
      "----------------------------------------------------------------------------------------------------------------\n",
      "Output    {*}          1 [kg] [local.ecoinvent.3.4.cutoff] glycerine [kg]                                        \n",
      "Input              0.209 [metric ton*km] market for transport, freight, lorry, unspecified [GLO]                 Transport distance based on US BTS Commodity Flow Surveys 1993, 1997, 2002, 2007, US Dep. Of Transportation, Bureau of Transportation Statistics. Of the total road transport, 6% is assumed to be by delivery van for goods with a large share of retail sale, and 3% for goods that are mainly sold via wholesale.\n",
      "\"\"               0.00024 [kg] treatment of waste cooking oil, purified, esterification [CA-QC]                   \n",
      "                0.000235 [kg] esterification of rape oil [CH]                                                    \n",
      "                  0.0165 [kg] stearic acid production [GLO]                                                      \n",
      "                  0.0039 [kg] treatment of waste cooking oil, purified, esterification [FR]                      \n",
      "                  0.0623 [kg] glycerine production, from epichlorohydrin [RER]                                   \n",
      "                 0.00259 [kg] esterification of soybean oil [BR]                                                 \n",
      "                    0.11 [kg] esterification of soybean oil [US]                                                 \n",
      "                 0.00297 [kg] esterification of palm oil [RoW]                                                   \n",
      "                   0.246 [kg] esterification of rape oil [RoW]                                                   \n",
      "                    0.31 [kg] esterification of soybean oil [RoW]                                                \n",
      "                   0.125 [kg] glycerine production, from epichlorohydrin [RoW]                                   \n",
      "                   0.121 [kg] esterification of rape oil [Europe without Switzerland]                            \n",
      "\"\"                 0.309 [metric ton*km] market group for transport, freight train [GLO]                         Transport distance based on US BTS Commodity Flow Surveys 1993, 1997, 2002, 2007, US Dep. Of Transportation, Bureau of Transportation Statistics.\n",
      "\"\"                 0.599 [metric ton*km] market for transport, freight, sea, transoceanic ship [GLO]             The total marine transport volume differentiated into major commodity groups based on data from FearnResearch (2001): Fearnley's Annual Review 2000. Oslo: Fearnley/AS, p. 1-78. The category “Other cargo” accounts for 38% of total maritime transport volume and has been distributed on commodity groups based on the proportions of transport by rail and inland waterways.\n",
      "The total marine transport volume differentiated into major commodity groups based on data from FearnResearch (2001): Fearnley's Annual Review 2000. Oslo: Fearnley/AS, p. 1-78. The category “Other cargo” accounts for 38% of total maritime transport volume and has been distributed on commodity groups based on the proportions in the marine import and export of the US in 2001-2010.\n",
      "\"\"                0.0246 [metric ton*km] market for transport, freight, inland waterways, barge [GLO]            Transport distance based on US BTS Commodity Flow Surveys 1993, 1997, 2002, 2007, US Dep. Of Transportation, Bureau of Transportation Statistics.\n",
      "Direction Ref C0         Flow                                                                                    Comment\n",
      "\n",
      "Columns:\n",
      "C0: [local.ecoinvent.3.4.cutoff] market for glycerine [GLO]\n"
     ]
    }
   ],
   "source": [
    "ag.text()"
   ]
  },
  {
   "cell_type": "code",
   "execution_count": 14,
   "metadata": {},
   "outputs": [
    {
     "data": {
      "text/plain": [
       "'037fa5e4-f711-4987-b50a-38920ca5d5a0'"
      ]
     },
     "execution_count": 14,
     "metadata": {},
     "output_type": "execute_result"
    }
   ],
   "source": [
    "m_gly.external_ref"
   ]
  },
  {
   "cell_type": "code",
   "execution_count": 15,
   "metadata": {},
   "outputs": [
    {
     "data": {
      "text/html": [
       "<div>\n",
       "<style scoped>\n",
       "    .dataframe tbody tr th:only-of-type {\n",
       "        vertical-align: middle;\n",
       "    }\n",
       "\n",
       "    .dataframe tbody tr th {\n",
       "        vertical-align: top;\n",
       "    }\n",
       "\n",
       "    .dataframe thead th {\n",
       "        text-align: right;\n",
       "    }\n",
       "</style>\n",
       "<table border=\"1\" class=\"dataframe\">\n",
       "  <thead>\n",
       "    <tr style=\"text-align: right;\">\n",
       "      <th></th>\n",
       "      <th>Direction</th>\n",
       "      <th>Ref</th>\n",
       "      <th>C0</th>\n",
       "      <th>Flow</th>\n",
       "      <th>Comment</th>\n",
       "    </tr>\n",
       "  </thead>\n",
       "  <tbody>\n",
       "    <tr>\n",
       "      <th>0</th>\n",
       "      <td>Output</td>\n",
       "      <td>{*}</td>\n",
       "      <td>1</td>\n",
       "      <td>[kg] [local.ecoinvent.3.4.cutoff] glycerine [kg]</td>\n",
       "      <td></td>\n",
       "    </tr>\n",
       "    <tr>\n",
       "      <th>1</th>\n",
       "      <td>Input</td>\n",
       "      <td></td>\n",
       "      <td>0.209</td>\n",
       "      <td>[metric ton*km] market for transport, freight,...</td>\n",
       "      <td>Transport distance based on US BTS Commodity F...</td>\n",
       "    </tr>\n",
       "    <tr>\n",
       "      <th>2</th>\n",
       "      <td>Input</td>\n",
       "      <td></td>\n",
       "      <td>0.00024</td>\n",
       "      <td>[kg] treatment of waste cooking oil, purified,...</td>\n",
       "      <td></td>\n",
       "    </tr>\n",
       "    <tr>\n",
       "      <th>3</th>\n",
       "      <td></td>\n",
       "      <td></td>\n",
       "      <td>0.000235</td>\n",
       "      <td>[kg] esterification of rape oil [CH]</td>\n",
       "      <td></td>\n",
       "    </tr>\n",
       "    <tr>\n",
       "      <th>4</th>\n",
       "      <td></td>\n",
       "      <td></td>\n",
       "      <td>0.0165</td>\n",
       "      <td>[kg] stearic acid production [GLO]</td>\n",
       "      <td></td>\n",
       "    </tr>\n",
       "    <tr>\n",
       "      <th>5</th>\n",
       "      <td></td>\n",
       "      <td></td>\n",
       "      <td>0.0039</td>\n",
       "      <td>[kg] treatment of waste cooking oil, purified,...</td>\n",
       "      <td></td>\n",
       "    </tr>\n",
       "    <tr>\n",
       "      <th>6</th>\n",
       "      <td></td>\n",
       "      <td></td>\n",
       "      <td>0.0623</td>\n",
       "      <td>[kg] glycerine production, from epichlorohydri...</td>\n",
       "      <td></td>\n",
       "    </tr>\n",
       "    <tr>\n",
       "      <th>7</th>\n",
       "      <td></td>\n",
       "      <td></td>\n",
       "      <td>0.00259</td>\n",
       "      <td>[kg] esterification of soybean oil [BR]</td>\n",
       "      <td></td>\n",
       "    </tr>\n",
       "    <tr>\n",
       "      <th>8</th>\n",
       "      <td></td>\n",
       "      <td></td>\n",
       "      <td>0.11</td>\n",
       "      <td>[kg] esterification of soybean oil [US]</td>\n",
       "      <td></td>\n",
       "    </tr>\n",
       "    <tr>\n",
       "      <th>9</th>\n",
       "      <td></td>\n",
       "      <td></td>\n",
       "      <td>0.00297</td>\n",
       "      <td>[kg] esterification of palm oil [RoW]</td>\n",
       "      <td></td>\n",
       "    </tr>\n",
       "    <tr>\n",
       "      <th>10</th>\n",
       "      <td></td>\n",
       "      <td></td>\n",
       "      <td>0.246</td>\n",
       "      <td>[kg] esterification of rape oil [RoW]</td>\n",
       "      <td></td>\n",
       "    </tr>\n",
       "    <tr>\n",
       "      <th>11</th>\n",
       "      <td></td>\n",
       "      <td></td>\n",
       "      <td>0.31</td>\n",
       "      <td>[kg] esterification of soybean oil [RoW]</td>\n",
       "      <td></td>\n",
       "    </tr>\n",
       "    <tr>\n",
       "      <th>12</th>\n",
       "      <td></td>\n",
       "      <td></td>\n",
       "      <td>0.125</td>\n",
       "      <td>[kg] glycerine production, from epichlorohydri...</td>\n",
       "      <td></td>\n",
       "    </tr>\n",
       "    <tr>\n",
       "      <th>13</th>\n",
       "      <td></td>\n",
       "      <td></td>\n",
       "      <td>0.121</td>\n",
       "      <td>[kg] esterification of rape oil [Europe withou...</td>\n",
       "      <td></td>\n",
       "    </tr>\n",
       "    <tr>\n",
       "      <th>14</th>\n",
       "      <td>Input</td>\n",
       "      <td></td>\n",
       "      <td>0.309</td>\n",
       "      <td>[metric ton*km] market group for transport, fr...</td>\n",
       "      <td>Transport distance based on US BTS Commodity F...</td>\n",
       "    </tr>\n",
       "    <tr>\n",
       "      <th>15</th>\n",
       "      <td>Input</td>\n",
       "      <td></td>\n",
       "      <td>0.599</td>\n",
       "      <td>[metric ton*km] market for transport, freight,...</td>\n",
       "      <td>The total marine transport volume differentiat...</td>\n",
       "    </tr>\n",
       "    <tr>\n",
       "      <th>16</th>\n",
       "      <td>Input</td>\n",
       "      <td></td>\n",
       "      <td>0.0246</td>\n",
       "      <td>[metric ton*km] market for transport, freight,...</td>\n",
       "      <td>Transport distance based on US BTS Commodity F...</td>\n",
       "    </tr>\n",
       "  </tbody>\n",
       "</table>\n",
       "</div>"
      ],
      "text/plain": [
       "   Direction  Ref        C0  \\\n",
       "0     Output  {*}         1   \n",
       "1      Input          0.209   \n",
       "2      Input        0.00024   \n",
       "3                  0.000235   \n",
       "4                    0.0165   \n",
       "5                    0.0039   \n",
       "6                    0.0623   \n",
       "7                   0.00259   \n",
       "8                      0.11   \n",
       "9                   0.00297   \n",
       "10                    0.246   \n",
       "11                     0.31   \n",
       "12                    0.125   \n",
       "13                    0.121   \n",
       "14     Input          0.309   \n",
       "15     Input          0.599   \n",
       "16     Input         0.0246   \n",
       "\n",
       "                                                 Flow  \\\n",
       "0    [kg] [local.ecoinvent.3.4.cutoff] glycerine [kg]   \n",
       "1   [metric ton*km] market for transport, freight,...   \n",
       "2   [kg] treatment of waste cooking oil, purified,...   \n",
       "3                [kg] esterification of rape oil [CH]   \n",
       "4                  [kg] stearic acid production [GLO]   \n",
       "5   [kg] treatment of waste cooking oil, purified,...   \n",
       "6   [kg] glycerine production, from epichlorohydri...   \n",
       "7             [kg] esterification of soybean oil [BR]   \n",
       "8             [kg] esterification of soybean oil [US]   \n",
       "9               [kg] esterification of palm oil [RoW]   \n",
       "10              [kg] esterification of rape oil [RoW]   \n",
       "11           [kg] esterification of soybean oil [RoW]   \n",
       "12  [kg] glycerine production, from epichlorohydri...   \n",
       "13  [kg] esterification of rape oil [Europe withou...   \n",
       "14  [metric ton*km] market group for transport, fr...   \n",
       "15  [metric ton*km] market for transport, freight,...   \n",
       "16  [metric ton*km] market for transport, freight,...   \n",
       "\n",
       "                                              Comment  \n",
       "0                                                      \n",
       "1   Transport distance based on US BTS Commodity F...  \n",
       "2                                                      \n",
       "3                                                      \n",
       "4                                                      \n",
       "5                                                      \n",
       "6                                                      \n",
       "7                                                      \n",
       "8                                                      \n",
       "9                                                      \n",
       "10                                                     \n",
       "11                                                     \n",
       "12                                                     \n",
       "13                                                     \n",
       "14  Transport distance based on US BTS Commodity F...  \n",
       "15  The total marine transport volume differentiat...  \n",
       "16  Transport distance based on US BTS Commodity F...  "
      ]
     },
     "execution_count": 15,
     "metadata": {},
     "output_type": "execute_result"
    }
   ],
   "source": [
    "ag.dataframe()"
   ]
  },
  {
   "cell_type": "markdown",
   "metadata": {},
   "source": [
    "###  Dataframe comparing APOS and CUTOFF markets"
   ]
  },
  {
   "cell_type": "code",
   "execution_count": 19,
   "metadata": {},
   "outputs": [],
   "source": [
    "qs = mkts.quantities\n",
    "qa = cat.query('local.ecoinvent.3.4.apos')\n",
    "mkts_a = lca_variability.MarketIterator(qa, *qs, lu_factorization=True)"
   ]
  },
  {
   "cell_type": "code",
   "execution_count": 20,
   "metadata": {},
   "outputs": [
    {
     "name": "stderr",
     "output_type": "stream",
     "text": [
      "/data/virtualenvs/lca-tools/lib/python3.7/site-packages/scipy/sparse/linalg/dsolve/linsolve.py:422: SparseEfficiencyWarning: splu requires CSC matrix format\n",
      "  warn('splu requires CSC matrix format', SparseEfficiencyWarning)\n"
     ]
    }
   ],
   "source": [
    "M_GLY = '4d024c87-fcab-4980-9347-c3bee224671f'\n",
    "a_gly = mkts_a.get_result(M_GLY)"
   ]
  },
  {
   "cell_type": "code",
   "execution_count": 21,
   "metadata": {},
   "outputs": [],
   "source": [
    "qc = mkts._query"
   ]
  },
  {
   "cell_type": "code",
   "execution_count": 22,
   "metadata": {},
   "outputs": [],
   "source": [
    "c_gly = mkts.get_result(next(qc.processes(Name=a_gly.market['Name'])).external_ref)"
   ]
  },
  {
   "cell_type": "code",
   "execution_count": 23,
   "metadata": {},
   "outputs": [],
   "source": [
    "names = set([qa.get(x)._name for x in a_gly.suppliers] + [qc.get(x)._name for x in c_gly.suppliers])"
   ]
  },
  {
   "cell_type": "code",
   "execution_count": 24,
   "metadata": {},
   "outputs": [],
   "source": [
    "import pandas as pd"
   ]
  },
  {
   "cell_type": "code",
   "execution_count": 25,
   "metadata": {},
   "outputs": [],
   "source": [
    "d = pd.DataFrame(index=names)"
   ]
  },
  {
   "cell_type": "code",
   "execution_count": 26,
   "metadata": {},
   "outputs": [],
   "source": [
    "s_a = pd.Series(index=(qa.get(x)._name for x in a_gly.suppliers), data=a_gly.scores(qs[0]))"
   ]
  },
  {
   "cell_type": "code",
   "execution_count": 27,
   "metadata": {},
   "outputs": [
    {
     "data": {
      "text/plain": [
       "esterification of rape oil [CH]                            2.026333\n",
       "esterification of rape oil [Europe without Switzerland]    1.968351\n",
       "esterification of soybean oil [BR]                         7.175912\n",
       "esterification of soybean oil [US]                         1.052534\n",
       "glycerine production, from epichlorohydrin [RER]           3.961217\n",
       "stearic acid production [GLO]                              1.041367\n",
       "esterification of palm oil [RoW]                           2.455071\n",
       "esterification of rape oil [RoW]                           1.968133\n",
       "esterification of soybean oil [RoW]                        5.426908\n",
       "glycerine production, from epichlorohydrin [RoW]           4.089486\n",
       "dtype: float64"
      ]
     },
     "execution_count": 27,
     "metadata": {},
     "output_type": "execute_result"
    }
   ],
   "source": [
    "s_a"
   ]
  },
  {
   "cell_type": "code",
   "execution_count": 28,
   "metadata": {},
   "outputs": [],
   "source": [
    "d['apos'] = s_a"
   ]
  },
  {
   "cell_type": "code",
   "execution_count": 29,
   "metadata": {},
   "outputs": [],
   "source": [
    "s_c = pd.Series(index=(qc.get(x)._name for x in c_gly.suppliers), data=c_gly.scores(qs[0]))"
   ]
  },
  {
   "cell_type": "code",
   "execution_count": 30,
   "metadata": {},
   "outputs": [],
   "source": [
    "d['cutoff'] = s_c"
   ]
  },
  {
   "cell_type": "code",
   "execution_count": 31,
   "metadata": {},
   "outputs": [],
   "source": [
    "d['apos_share'] = pd.Series(index=(qa.get(x)._name for x in a_gly.suppliers), data=a_gly.exchange_values)"
   ]
  },
  {
   "cell_type": "code",
   "execution_count": 32,
   "metadata": {},
   "outputs": [],
   "source": [
    "d['cutoff_share'] = pd.Series(index=(qc.get(x)._name for x in c_gly.suppliers), data=c_gly.exchange_values)"
   ]
  },
  {
   "cell_type": "code",
   "execution_count": 33,
   "metadata": {},
   "outputs": [],
   "source": [
    "d.columns = ('apos', 'cutoff', 'apos_share', 'cutoff_share')"
   ]
  },
  {
   "cell_type": "code",
   "execution_count": 34,
   "metadata": {},
   "outputs": [
    {
     "data": {
      "text/html": [
       "<div>\n",
       "<style scoped>\n",
       "    .dataframe tbody tr th:only-of-type {\n",
       "        vertical-align: middle;\n",
       "    }\n",
       "\n",
       "    .dataframe tbody tr th {\n",
       "        vertical-align: top;\n",
       "    }\n",
       "\n",
       "    .dataframe thead th {\n",
       "        text-align: right;\n",
       "    }\n",
       "</style>\n",
       "<table border=\"1\" class=\"dataframe\">\n",
       "  <thead>\n",
       "    <tr style=\"text-align: right;\">\n",
       "      <th></th>\n",
       "      <th>apos</th>\n",
       "      <th>apos_share</th>\n",
       "      <th>cutoff</th>\n",
       "      <th>cutoff_share</th>\n",
       "    </tr>\n",
       "  </thead>\n",
       "  <tbody>\n",
       "    <tr>\n",
       "      <th>treatment of waste cooking oil, purified, esterification [FR]</th>\n",
       "      <td>NaN</td>\n",
       "      <td>NaN</td>\n",
       "      <td>0.255577</td>\n",
       "      <td>0.003901</td>\n",
       "    </tr>\n",
       "    <tr>\n",
       "      <th>treatment of waste cooking oil, purified, esterification [CA-QC]</th>\n",
       "      <td>NaN</td>\n",
       "      <td>NaN</td>\n",
       "      <td>0.342826</td>\n",
       "      <td>0.000240</td>\n",
       "    </tr>\n",
       "    <tr>\n",
       "      <th>stearic acid production [GLO]</th>\n",
       "      <td>1.041367</td>\n",
       "      <td>0.016534</td>\n",
       "      <td>0.379726</td>\n",
       "      <td>0.016466</td>\n",
       "    </tr>\n",
       "    <tr>\n",
       "      <th>esterification of soybean oil [US]</th>\n",
       "      <td>1.052534</td>\n",
       "      <td>0.110182</td>\n",
       "      <td>1.043362</td>\n",
       "      <td>0.109726</td>\n",
       "    </tr>\n",
       "    <tr>\n",
       "      <th>esterification of rape oil [RoW]</th>\n",
       "      <td>1.968133</td>\n",
       "      <td>0.246932</td>\n",
       "      <td>1.907910</td>\n",
       "      <td>0.245909</td>\n",
       "    </tr>\n",
       "    <tr>\n",
       "      <th>esterification of rape oil [Europe without Switzerland]</th>\n",
       "      <td>1.968351</td>\n",
       "      <td>0.121387</td>\n",
       "      <td>1.908025</td>\n",
       "      <td>0.120884</td>\n",
       "    </tr>\n",
       "    <tr>\n",
       "      <th>esterification of rape oil [CH]</th>\n",
       "      <td>2.026333</td>\n",
       "      <td>0.000236</td>\n",
       "      <td>1.973657</td>\n",
       "      <td>0.000235</td>\n",
       "    </tr>\n",
       "    <tr>\n",
       "      <th>esterification of palm oil [RoW]</th>\n",
       "      <td>2.455071</td>\n",
       "      <td>0.002984</td>\n",
       "      <td>2.454558</td>\n",
       "      <td>0.002971</td>\n",
       "    </tr>\n",
       "    <tr>\n",
       "      <th>glycerine production, from epichlorohydrin [RER]</th>\n",
       "      <td>3.961217</td>\n",
       "      <td>0.062521</td>\n",
       "      <td>4.509393</td>\n",
       "      <td>0.062262</td>\n",
       "    </tr>\n",
       "    <tr>\n",
       "      <th>glycerine production, from epichlorohydrin [RoW]</th>\n",
       "      <td>4.089486</td>\n",
       "      <td>0.125042</td>\n",
       "      <td>4.651686</td>\n",
       "      <td>0.124524</td>\n",
       "    </tr>\n",
       "    <tr>\n",
       "      <th>esterification of soybean oil [RoW]</th>\n",
       "      <td>5.426908</td>\n",
       "      <td>0.311584</td>\n",
       "      <td>5.408690</td>\n",
       "      <td>0.310293</td>\n",
       "    </tr>\n",
       "    <tr>\n",
       "      <th>esterification of soybean oil [BR]</th>\n",
       "      <td>7.175912</td>\n",
       "      <td>0.002598</td>\n",
       "      <td>7.154943</td>\n",
       "      <td>0.002587</td>\n",
       "    </tr>\n",
       "  </tbody>\n",
       "</table>\n",
       "</div>"
      ],
      "text/plain": [
       "                                                        apos  apos_share  \\\n",
       "treatment of waste cooking oil, purified, ester...       NaN         NaN   \n",
       "treatment of waste cooking oil, purified, ester...       NaN         NaN   \n",
       "stearic acid production [GLO]                       1.041367    0.016534   \n",
       "esterification of soybean oil [US]                  1.052534    0.110182   \n",
       "esterification of rape oil [RoW]                    1.968133    0.246932   \n",
       "esterification of rape oil [Europe without Swit...  1.968351    0.121387   \n",
       "esterification of rape oil [CH]                     2.026333    0.000236   \n",
       "esterification of palm oil [RoW]                    2.455071    0.002984   \n",
       "glycerine production, from epichlorohydrin [RER]    3.961217    0.062521   \n",
       "glycerine production, from epichlorohydrin [RoW]    4.089486    0.125042   \n",
       "esterification of soybean oil [RoW]                 5.426908    0.311584   \n",
       "esterification of soybean oil [BR]                  7.175912    0.002598   \n",
       "\n",
       "                                                      cutoff  cutoff_share  \n",
       "treatment of waste cooking oil, purified, ester...  0.255577      0.003901  \n",
       "treatment of waste cooking oil, purified, ester...  0.342826      0.000240  \n",
       "stearic acid production [GLO]                       0.379726      0.016466  \n",
       "esterification of soybean oil [US]                  1.043362      0.109726  \n",
       "esterification of rape oil [RoW]                    1.907910      0.245909  \n",
       "esterification of rape oil [Europe without Swit...  1.908025      0.120884  \n",
       "esterification of rape oil [CH]                     1.973657      0.000235  \n",
       "esterification of palm oil [RoW]                    2.454558      0.002971  \n",
       "glycerine production, from epichlorohydrin [RER]    4.509393      0.062262  \n",
       "glycerine production, from epichlorohydrin [RoW]    4.651686      0.124524  \n",
       "esterification of soybean oil [RoW]                 5.408690      0.310293  \n",
       "esterification of soybean oil [BR]                  7.154943      0.002587  "
      ]
     },
     "execution_count": 34,
     "metadata": {},
     "output_type": "execute_result"
    }
   ],
   "source": [
    "d[['apos', 'apos_share', 'cutoff', 'cutoff_share']].sort_values('cutoff')"
   ]
  },
  {
   "cell_type": "markdown",
   "metadata": {},
   "source": [
    "## Finish populating the APOS Market Variability class\n"
   ]
  },
  {
   "cell_type": "code",
   "execution_count": 38,
   "metadata": {},
   "outputs": [
    {
     "data": {
      "text/plain": [
       "<lcatools.entity_refs.process_ref.ProcessRef at 0x7f4e74af99e8>"
      ]
     },
     "execution_count": 38,
     "metadata": {},
     "output_type": "execute_result"
    }
   ],
   "source": [
    "a_gly.market"
   ]
  },
  {
   "cell_type": "code",
   "execution_count": 39,
   "metadata": {},
   "outputs": [
    {
     "name": "stdout",
     "output_type": "stream",
     "text": [
      "39.9 [TAP100] market for nickel, 99.5% [GLO]\n",
      "8.89 [MEP] market for ethoxylated alcohol (AE7) [GLO]\n",
      "5.09 [MEP] market for transport, freight, lorry with refrigeration machine, freezing [GLO]\n",
      "44.3 [TAP100] market for natural gas, high pressure [NL]\n",
      "72.5 [MEP] market for indium rich leaching residues, from zinc production stockpiling [GLO]\n",
      "15.7 [TAP100] market for natural gas, high pressure [AT]\n",
      "14.1 [TAP100] market for polishing powder [GLO]\n",
      "11.3 [MEP] market for ammonia, liquid [RoW]\n",
      "6.36 [GWP100] market for olive [GLO]\n",
      "8.19 [TAP100] market for onion [GLO]\n",
      "4.4e+03 [MEP] market for coal tar [GLO]\n",
      "5.04 [TAP100] market for road maintenance [GLO]\n",
      "826 [GWP100] market for used refrigerant R134a [GLO]\n",
      "5.22 [MEP] market for sawnwood, lath, softwood, raw, dried (u=20%) [GLO]\n",
      "70.2 [TAP100] market for shavings, softwood, loose, measured as dry mass [GLO]\n",
      "22.8 [GWP100] market for gypsum, mineral [GLO]\n",
      "9 [MEP] market for used bicycle [GLO]\n",
      "21.6 [MEP] market for soybean oil, crude [GLO]\n",
      "75.2 [GWP100] market for waste paper, unsorted [CH]\n",
      "7.33 [GWP100] market for wastewater treatment facility, capacity 1.1E10l/year [GLO]\n",
      "23.5 [POFP] market for polystyrene foam slab [GLO]\n",
      "20.7 [GWP100] market for laser machining, metal, with CO2-laser, 6000W power [GLO]\n",
      "15.3 [TAP100] market for natural gas, high pressure [CH]\n",
      "6.1 [TAP100] market for mercury [GLO]\n",
      "5.24 [MEP] market for potassium sulfate, as K2O [GLO]\n",
      "6.17 [TAP100] market for drying of maize straw and whole-plant [GLO]\n",
      "26.8 [GWP100] market for waste plastic, mixture [RoW]\n",
      "15.1 [TAP100] market for activated carbon, granular [GLO]\n",
      "5.22 [MEP] market for sawnwood, softwood, raw [GLO]\n",
      "49.5 [GWP100] market for vanilla seedling, for planting [GLO]\n",
      "16.4 [POFP] market for coke [GLO]\n",
      "8.02 [MEP] market for used tram [GLO]\n",
      "50.5 [TAP100] market for sulfuric acid [GLO]\n",
      "7.29 [GWP100] market for grass silage, Swiss integrated production [GLO]\n",
      "5.64 [MEP] market for fatty alcohol sulfate [RER]\n",
      "12.5 [POFP] market for polyethylene terephthalate, granulate, bottle grade [GLO]\n",
      "6.02 [GWP100] market for residual hardwood, wet [GLO]\n",
      "9.55 [TAP100] market for trichloropropane [GLO]\n",
      "36.9 [TAP100] market for grass, Swiss integrated production [CH]\n",
      "38.4 [POFP] market for land tenure, arable land, measured as carbon net primary productivity, annual crop [AR]\n",
      "2.51e+04 [TAP100] market for anode slime, silver and tellurium containing stockpiling [GLO]\n",
      "9.83 [POFP] market for lime, hydrated, loose weight [RoW]\n",
      "34.2 [TAP100] market for straw [GLO]\n",
      "6.06 [MEP] market for copper concentrate, sulfide ore [GLO]\n",
      "9.22 [POFP] market for polyethylene terephthalate, granulate, amorphous [GLO]\n",
      "40 [GWP100] market for pear [GLO]\n",
      "9.56 [POFP] market for energy use and operation emissions, electric bicycle [GLO]\n",
      "5.36 [GWP100] market for land tenure, arable land, measured as carbon net primary productivity, perennial crop [ID]\n",
      "6.25 [MEP] market for aluminium, primary, ingot [RoW]\n",
      "4.74e+03 [MEP] market for lead concentrate stockpiling [GLO]\n",
      "15.9 [TAP100] market for ryegrass-Egyptian&Persian clover-mixture silage [GLO]\n",
      "10.6 [GWP100] market for lead [GLO]\n",
      "12 [GWP100] market for formic acid [RER]\n",
      "688 [GWP100] market for waste paint [Europe without Switzerland]\n",
      "26.3 [TAP100] market for natural gas, high pressure [DE]\n",
      "5.53 [POFP] market for waste glass sheet [CH]\n",
      "5.74 [POFP] market for tree seedling [GLO]\n",
      "35.8 [POFP] market for land tenure, arable land, measured as carbon net primary productivity, annual crop [TH]\n",
      "8.37 [MEP] market for cadmium sludge from zinc electrolysis stockpiling [GLO]\n",
      "5.09 [MEP] market for transport, freight, lorry with refrigeration machine, cooling [GLO]\n",
      "15 [MEP] market for silicon carbide [GLO]\n",
      "7.24 [TAP100] market for carrot [GLO]\n",
      "5.8 [GWP100] market for laser machining, metal, with YAG-laser, 200W power [GLO]\n",
      "2.13e+03 [GWP100] market for refinery sludge [RoW]\n",
      "75.2 [TAP100] market for potassium chloride, as K2O [GLO]\n",
      "19.2 [GWP100] market for apple [GLO]\n",
      "8.78 [GWP100] market for uranium, enriched 3.8%, per separative work unit [GLO]\n",
      "7.73 [TAP100] market for silica sand [GLO]\n",
      "74.8 [MEP] market for phosphate fertiliser, as P2O5 [GLO]\n",
      "37.9 [TAP100] market for bark chips, wet, measured as dry mass [GLO]\n",
      "6.36 [POFP] market for banana [GLO]\n",
      "5.08 [TAP100] market for fibreboard, soft, without adhesives [GLO]\n",
      "168 [GWP100] market for waste paint on wall [GLO]\n",
      "63.8 [TAP100] market for krypton, gaseous [GLO]\n",
      "18.3 [TAP100] market for coffee, green bean [GLO]\n",
      "9.06 [TAP100] market for calcium chloride [GLO]\n",
      "26.1 [GWP100] market for waste polyethylene terephtalate [RoW]\n",
      "6.14 [TAP100] market for natural gas, high pressure [ES]\n",
      "21.1 [TAP100] market for natural gas, high pressure [FR]\n",
      "6.47 [MEP] market for barley grain [GLO]\n",
      "32.3 [MEP] market for solvent for chromatography analysis [GLO]\n",
      "6.07 [MEP] market for wastewater treatment facility, capacity 1.6E8l/year [GLO]\n",
      "11.5 [TAP100] market for pitch [CH]\n",
      "12.5 [TAP100] market for sugar beet [RoW]\n",
      "5.88 [MEP] market for waste polyethylene, for recycling, sorted [RoW]\n",
      "22.8 [GWP100] market for land tenure, arable land, measured as carbon net primary productivity, perennial crop [KE]\n",
      "36 [TAP100] market for grass, organic [GLO]\n",
      "7.74 [POFP] market for tap water [CH]\n",
      "6.38 [MEP] market for lithium carbonate [GLO]\n",
      "73.5 [GWP100] market for heat, district or industrial, other than natural gas [RoW]\n",
      "109 [TAP100] market for platinum [GLO]\n",
      "6.3 [MEP] market for sawnwood, beam, softwood, raw, dried (u=20%) [GLO]\n",
      "26.3 [GWP100] market for waste polyethylene terephtalate [Europe without Switzerland]\n",
      "20.1 [GWP100] market for butane [GLO]\n",
      "40 [TAP100] market for plaster mixing [GLO]\n",
      "13 [POFP] market for ethanol, without water, in 99.7% solution state, from fermentation [GLO]\n",
      "42.1 [MEP] market for tap water [CA-QC]\n",
      "6.8 [GWP100] market for orange, fresh grade [GLO]\n",
      "5.6 [TAP100] market for fibreboard, soft [GLO]\n",
      "627 [TAP100] market for waste gypsum [Europe without Switzerland]\n",
      "33.5 [POFP] market for waste wood, untreated [RoW]\n",
      "50.5 [POFP] market for wood chips, dry, measured as dry mass [RoW]\n",
      "593 [MEP] market for heat, for reuse in municipal waste incineration only [RoW]\n",
      "7.33 [GWP100] market for propane [GLO]\n",
      "5.44 [GWP100] market for ammonium nitrate, as N [GLO]\n",
      "40.1 [GWP100] market for heat, district or industrial, other than natural gas [CA-QC]\n",
      "27.2 [GWP100] market for waste polyethylene [Europe without Switzerland]\n",
      "29 [GWP100] market for drying of feed grain [GLO]\n",
      "5.69 [MEP] market for spent nuclear fuel [GLO]\n",
      "5.87 [MEP] market for soil pH raising agent, as CaCO3 [GLO]\n",
      "21.6 [MEP] market for soybean meal [GLO]\n",
      "8.16 [TAP100] market for heat, central or small-scale, natural gas [RoW]\n",
      "8.28 [MEP] market for used lorry, 28 metric ton [GLO]\n",
      "9.48 [MEP] market for used bus [GLO]\n",
      "11.8 [MEP] market for uranium, in yellowcake [GLO]\n",
      "27.9 [POFP] market for natural gas, high pressure [RoW]\n",
      "20.8 [GWP100] market for wood ash mixture, pure [RoW]\n",
      "12.7 [MEP] market for sludge from pulp and paper production [Europe without Switzerland]\n",
      "30.1 [MEP] market for glycerine [GLO]\n",
      "11.7 [GWP100] market for solvent, organic [GLO]\n",
      "7.13 [GWP100] market for glass cullet, for Saint-Gobain ISOVER SA [GLO]\n",
      "10.4 [MEP] market for cable yarding [GLO]\n",
      "52.3 [GWP100] market for nitrogen fertiliser, as N [GLO]\n",
      "17.5 [MEP] market for municipal solid waste [RoW]\n",
      "55.1 [GWP100] market for blast furnace slag [GLO]\n",
      "504 [GWP100] market for waste emulsion paint [Europe without Switzerland]\n",
      "26.9 [GWP100] market for waste plastic, mixture [Europe without Switzerland]\n",
      "18.6 [POFP] market for polyethylene, high density, granulate [GLO]\n",
      "14.9 [POFP] market for palm fruit bunch [GLO]\n",
      "7.49 [GWP100] market for polystyrene, extruded [GLO]\n",
      "5.82 [POFP] market for benzene [GLO]\n",
      "25.9 [MEP] market for tap water [RoW]\n",
      "5.07 [MEP] market for neutralising agent, sodium hydroxide-equivalent [GLO]\n",
      "6.63 [MEP] market for tomato, fresh grade [GLO]\n",
      "13.8 [TAP100] market for natural gas, high pressure [CA-AB]\n",
      "32.4 [TAP100] market for operation, liquid manure storage and processing facility [GLO]\n",
      "70.2 [TAP100] market for shavings, hardwood, loose, measured as dry mass [GLO]\n",
      "8.84 [TAP100] market for natural gas, high pressure [US]\n",
      "5.71 [TAP100] market for drying of grass [GLO]\n",
      "1.73e+03 [GWP100] market for refinery sludge [Europe without Switzerland]\n"
     ]
    },
    {
     "name": "stdout",
     "output_type": "stream",
     "text": [
      "11.8 [POFP] market for compressed air, 800 kPa gauge [GLO]\n",
      "46.5 [POFP] market for carbon monoxide [RoW]\n",
      "32.8 [GWP100] market for waste polyvinylchloride [Europe without Switzerland]\n",
      "7.91 [MEP] market for tallow, unrefined [GLO]\n",
      "5.63 [TAP100] market for maintenance, bus [GLO]\n",
      "7.18 [MEP] market for manganese [GLO]\n",
      "19.1 [MEP] market for hydrochloric acid, without water, in 30% solution state [RoW]\n",
      "180 [GWP100] market for lime [GLO]\n",
      "10.4 [TAP100] market for extrusion, co-extrusion [GLO]\n",
      "27.4 [GWP100] market for waste polystyrene [RoW]\n",
      "5.24 [GWP100] market for water works, capacity 1.1E10l/year [CA-QC]\n",
      "6.44 [TAP100] market for heat, district or industrial, natural gas [Europe without Switzerland]\n",
      "20.4 [TAP100] market for natural gas, high pressure [DK]\n",
      "97.5 [GWP100] market for cleft timber, measured as dry mass [RoW]\n",
      "11.4 [GWP100] market for land tenure, arable land, measured as carbon net primary productivity, perennial crop [RoW]\n",
      "31.3 [GWP100] market for waste graphical paper [CH]\n",
      "5.78 [TAP100] market for wheat grain [GLO]\n",
      "294 [POFP] market for sulfur stockpiling [GLO]\n",
      "6.11 [TAP100] market for natural gas, high pressure [CZ]\n",
      "12.5 [GWP100] market for strawberry [GLO]\n",
      "20.7 [TAP100] market for stretch blow moulding [GLO]\n",
      "141 [TAP100] market for copper [GLO]\n",
      "5.2e+03 [POFP] market for iron scrap, unsorted [GLO]\n",
      "8.08 [POFP] market for refrigerant R134a [GLO]\n",
      "11.4 [MEP] market for rape seed [GLO]\n",
      "68.5 [TAP100] market for oxygen, liquid [RoW]\n",
      "6.68 [GWP100] market for blow moulding [GLO]\n",
      "6.18 [TAP100] market for drying of bread grain, seed and legumes [GLO]\n",
      "7.84 [MEP] market for polar fleece production, energy use only [GLO]\n",
      "8.3 [MEP] market for used lorry, 40 metric ton [GLO]\n",
      "2.46e+04 [GWP100] market for low level radioactive waste [GLO]\n",
      "8.22 [MEP] market for used lorry, 16 metric ton [GLO]\n",
      "63.8 [TAP100] market for xenon, gaseous [GLO]\n",
      "8.83 [GWP100] market for uranium, enriched 3.9%, per separative work unit [GLO]\n",
      "19.6 [POFP] market for waste wood, untreated [CH]\n",
      "14.5 [TAP100] market for precious metal for jewellery [GLO]\n",
      "5.16 [GWP100] market for residual softwood, wet [GLO]\n",
      "6.19 [TAP100] market for lignite ash [GLO]\n",
      "6.42 [GWP100] market for ethane [GLO]\n",
      "173 [POFP] market for land tenure, arable land, measured as carbon net primary productivity, annual crop [AU]\n",
      "885 [GWP100] market for aluminium scrap, new [RoW]\n",
      "65.4 [POFP] market for inert gas for discharge lamps [GLO]\n",
      "14.1 [MEP] market for peach [GLO]\n",
      "9.8 [MEP] market for used train, passenger, long-distance [GLO]\n",
      "8.15 [TAP100] market for sodium sulfate, anhydrite [RER]\n",
      "5.34 [GWP100] market for operation, computer, desktop, with liquid crystal display, active mode [GLO]\n",
      "9.54 [TAP100] market for biowaste [RoW]\n",
      "13.7 [GWP100] market for silver [GLO]\n",
      "593 [MEP] market for heat, for reuse in municipal waste incineration only [CH]\n",
      "1.38e+03 [MEP] market for ammonium chloride [GLO]\n",
      "6.23 [POFP] market for transport, freight train [Europe without Switzerland]\n",
      "22.2 [MEP] market for ethanol, without water, in 95% solution state, from fermentation [GLO]\n",
      "767 [TAP100] market for waste gypsum [CH]\n",
      "33.3 [POFP] market for land tenure, arable land, measured as carbon net primary productivity, annual crop [UA]\n",
      "627 [TAP100] market for waste gypsum [RoW]\n",
      "162 [TAP100] market for petroleum [GLO]\n",
      "6.31 [GWP100] market for cadmium [GLO]\n",
      "27.4 [GWP100] market for waste polystyrene [Europe without Switzerland]\n",
      "5.34 [GWP100] market for aluminium oxide [GLO]\n",
      "8.02 [TAP100] market for ammonium sulfate, as N [GLO]\n",
      "26.2 [GWP100] market for waste graphical paper [Europe without Switzerland]\n",
      "9.11 [TAP100] market for oat grain [GLO]\n",
      "16.6 [MEP] market for mint [GLO]\n",
      "37.7 [POFP] market for magnesium [GLO]\n",
      "6.36 [GWP100] market for ilmenite, 54% titanium dioxide [GLO]\n",
      "26.2 [POFP] market for packaging, for fertilisers or pesticides [GLO]\n",
      "8.57 [MEP] market for used train, passenger, regional [GLO]\n",
      "5.22 [MEP] market for slab and siding, softwood, wet, measured as dry mass [GLO]\n",
      "14.1 [GWP100] market for waste polyethylene, for recycling, sorted [CH]\n",
      "12.5 [MEP] market for transport, passenger train [GLO]\n",
      "41.3 [POFP] market for land tenure, arable land, measured as carbon net primary productivity, annual crop [PE]\n",
      "109 [TAP100] market for rhodium [GLO]\n",
      "49.8 [MEP] market for hydrogen, liquid [RoW]\n",
      "5.05 [POFP] market for silicon, solar grade [GLO]\n",
      "19.7 [MEP] market for protein feed, 100% crude [GLO]\n",
      "65.4 [POFP] market for land tenure, arable land, measured as carbon net primary productivity, annual crop [BR]\n",
      "16.7 [GWP100] market for aluminium, cast alloy [GLO]\n",
      "6.83 [TAP100] market for maintenance, tram [GLO]\n",
      "68.5 [TAP100] market for nitrogen, liquid [RoW]\n",
      "6.72 [POFP] market for wood chips, wet, measured as dry mass [CH]\n",
      "40.2 [GWP100] market for silicon tetrachloride [GLO]\n",
      "6.23 [GWP100] market for land tenure, arable land, measured as carbon net primary productivity, perennial crop [EC]\n",
      "257 [GWP100] market for waste paperboard [Europe without Switzerland]\n",
      "30.5 [MEP] market for copper, from solvent-extraction electro-winning [GLO]\n",
      "13 [TAP100] market for transport, freight train [CN]\n",
      "26.8 [GWP100] market for waste polypropylene [RoW]\n",
      "753 [GWP100] market for waste paint [RoW]\n",
      "5.16 [GWP100] market for metal part of electronics scrap, in blister-copper [GLO]\n",
      "21.2 [MEP] market for sodium sulfate, anhydrite [RoW]\n",
      "12.9 [GWP100] market for scrap steel [Europe without Switzerland]\n",
      "8.53 [MEP] market for transport, freight train [CH]\n",
      "28.7 [POFP] market for heat, central or small-scale, other than natural gas [Europe without Switzerland]\n",
      "280 [GWP100] market for waste paint on metal [RoW]\n",
      "34.8 [GWP100] market for lettuce [GLO]\n",
      "11.3 [GWP100] market for mandarin [GLO]\n",
      "6.72 [GWP100] market for soap [GLO]\n",
      "109 [TAP100] market for palladium [GLO]\n",
      "6.85 [MEP] market for laminating service, foil, with acrylic binder [GLO]\n",
      "3.89e+03 [MEP] market for waste polyurethane [CH]\n",
      "5.19 [GWP100] market for extrusion, plastic pipes [GLO]\n",
      "15.8 [GWP100] market for land tenure, arable land, measured as carbon net primary productivity, perennial crop [CI]\n",
      "6.25 [MEP] market for aluminium, primary, ingot [IAI Area, EU27 & EFTA]\n",
      "11.3 [GWP100] market for hard coal ash [GLO]\n",
      "5.82 [TAP100] market for wastewater from grass refinery [GLO]\n",
      "5.53 [TAP100] market for deep well, drilled, for geothermal power [GLO]\n",
      "10.3 [GWP100] market for methylcyclohexane [GLO]\n",
      "10.6 [MEP] market for fodder loading, by self-loading trailer [GLO]\n",
      "10.2 [POFP] market for quicklime, milled, loose [RoW]\n",
      "10.8 [MEP] market for transmission network, electricity, high voltage [GLO]\n",
      "108 [GWP100] market for cleft timber, measured as dry mass [Europe without Switzerland]\n",
      "9.34 [GWP100] market for selective coat, copper sheet, physical vapour deposition [GLO]\n",
      "17.8 [MEP] market for municipal solid waste [CH]\n",
      "45.5 [MEP] market for para-phenylene diamine [GLO]\n",
      "68.5 [TAP100] market for argon, crude, liquid [GLO]\n",
      "310 [POFP] market for residual wood, dry [GLO]\n",
      "43.7 [GWP100] market for heat, district or industrial, other than natural gas [CH]\n",
      "258 [GWP100] market for waste paperboard [RoW]\n",
      "19.7 [MEP] market for fatty alcohol [GLO]\n",
      "6.95 [TAP100] market for maize grain [GLO]\n",
      "17.3 [GWP100] market for laser machining, metal, with CO2-laser, 2700W power [GLO]\n",
      "20.2 [GWP100] market for laser machining, metal, with CO2-laser, 5000W power [GLO]\n",
      "12 [GWP100] market for miscanthus, chopped [GLO]\n",
      "103 [POFP] market for heat, central or small-scale, other than natural gas [CH]\n",
      "10.7 [POFP] market for stimulation, deep well [GLO]\n",
      "12.8 [TAP100] market for natural gas, high pressure [IT]\n",
      "57.3 [GWP100] market for heat, district or industrial, other than natural gas [Europe without Switzerland]\n",
      "8.08 [POFP] market for cocoa bean [GLO]\n",
      "354 [TAP100] market for biogas [GLO]\n",
      "555 [POFP] market for waste paper, sorted [GLO]\n",
      "8.7 [TAP100] market for natural gas, high pressure [GR]\n",
      "5.32 [GWP100] market for waste glass [CH]\n",
      "45.4 [MEP] market for ortho-phenylene diamine [GLO]\n",
      "18.6 [GWP100] market for wood ash mixture, pure [CH]\n",
      "9.09 [TAP100] market for sunflower seed [GLO]\n",
      "5.55 [TAP100] market for chlorine, gaseous [RER]\n",
      "31.6 [TAP100] market for chlorine, liquid [GLO]\n",
      "30.1 [MEP] market for vegetable oil methyl ester [GLO]\n",
      "3.5e+03 [MEP] market for waste polyurethane [Europe without Switzerland]\n"
     ]
    },
    {
     "name": "stdout",
     "output_type": "stream",
     "text": [
      "5.92 [GWP100] market for operation, dried roughage store, cold-air dried, conventional [GLO]\n",
      "136 [TAP100] market for vanilla [GLO]\n",
      "24.8 [MEP] market for soybean [GLO]\n",
      "11.1 [MEP] market for ammonia, liquid [RER]\n",
      "27.2 [GWP100] market for waste polyethylene [RoW]\n",
      "32.8 [GWP100] market for waste polyvinylchloride [RoW]\n",
      "23.4 [GWP100] market for wood ash mixture, pure [Europe without Switzerland]\n",
      "5.62 [TAP100] market for heat, district or industrial, natural gas [RoW]\n",
      "9.27 [TAP100] market for methane, 96% by volume [GLO]\n",
      "39.2 [GWP100] market for natural gas, high pressure [GB]\n",
      "8.38 [TAP100] market for potato [GLO]\n",
      "9.65 [TAP100] market for sulfur [GLO]\n",
      "15.3 [GWP100] market for aluminium, wrought alloy [GLO]\n",
      "5.35 [GWP100] market for hydrogen fluoride [GLO]\n",
      "102 [TAP100] market for bark [GLO]\n",
      "5.52 [POFP] market for acetone, liquid [GLO]\n",
      "41 [GWP100] market for magnetite [GLO]\n",
      "11.8 [GWP100] market for scrap steel [CH]\n",
      "6.54 [TAP100] market for protein pea [GLO]\n",
      "5.08 [TAP100] market for energy and auxilliary inputs, metal working factory [GLO]\n",
      "7.61 [GWP100] market for laser machining, metal, with YAG-laser, 500W power [GLO]\n",
      "10.3 [GWP100] market for sodium chlorate, powder [GLO]\n",
      "7.15 [TAP100] market for thermoforming of plastic sheets [GLO]\n",
      "9.9 [POFP] market for gold [GLO]\n",
      "6.47 [MEP] market for saw dust, wet, measured as dry mass [GLO]\n",
      "9.01 [GWP100] market for uranium, enriched 4.2%, per separative work unit [GLO]\n",
      "3.5e+03 [MEP] market for waste polyurethane [RoW]\n",
      "12.7 [MEP] market for hydrochloric acid, without water, in 30% solution state [RER]\n",
      "11.7 [MEP] market for ethoxylated alcohol (AE3) [GLO]\n",
      "16.8 [POFP] market for raw sewage sludge [GLO]\n",
      "8.3 [GWP100] market for operation, computer, desktop, with cathode ray tube display, active mode [GLO]\n",
      "7.69 [POFP] market for coal gas [GLO]\n",
      "5.22 [MEP] market for sawnwood, board, softwood, raw, dried (u=20%) [GLO]\n",
      "5.05 [TAP100] market for planning, cogen unit mini CHP plant [GLO]\n",
      "5.22 [TAP100] market for wastewater from liquid crystal production [GLO]\n",
      "19.6 [GWP100] market for laser machining, metal, with CO2-laser, 4000W power [GLO]\n",
      "14.2 [TAP100] market for waste paint [CH]\n",
      "5.24 [TAP100] market for extrusion, plastic film [GLO]\n",
      "17.9 [TAP100] market for steam, in chemical industry [GLO]\n",
      "5.74 [TAP100] market for linseed [GLO]\n",
      "15.5 [GWP100] market for land tenure, arable land, measured as carbon net primary productivity, perennial crop [GH]\n",
      "5.4 [GWP100] market for land tenure, arable land, measured as carbon net primary productivity, perennial crop [HN]\n",
      "9.73 [MEP] market for maize starch [GLO]\n",
      "5.37 [MEP] market for used light commercial vehicle [GLO]\n",
      "8.92 [GWP100] market for uranium, enriched 4.0%, per separative work unit [GLO]\n",
      "744 [TAP100] market for water, decarbonised, at user [GLO]\n",
      "30.2 [GWP100] market for chlorine, gaseous [RoW]\n",
      "13 [GWP100] market for paper, newsprint [RoW]\n",
      "7.92 [TAP100] market for peanut [GLO]\n",
      "16.2 [TAP100] market for light fuel oil [CH]\n",
      "11 [TAP100] market for extrusion of plastic sheets and thermoforming, inline [GLO]\n",
      "5.38 [POFP] market for sugarcane [RoW]\n",
      "7.61 [GWP100] market for laser machining, metal, with YAG-laser, 330W power [GLO]\n",
      "49.6 [MEP] market for potassium fertiliser, as K2O [GLO]\n",
      "28 [GWP100] market for waste graphical paper [RoW]\n",
      "5.31 [GWP100] market for tissue paper [GLO]\n",
      "9.14 [GWP100] market for formic acid [RoW]\n",
      "276 [GWP100] market for waste paper, unsorted [RoW]\n",
      "5.14 [MEP] market for fatty alcohol sulfate [RoW]\n",
      "9.89 [TAP100] market for biowaste [CH]\n",
      "5.08 [GWP100] market for land tenure, arable land, measured as carbon net primary productivity, perennial crop [MY]\n",
      "8.4 [GWP100] market for enamelling [GLO]\n",
      "13.5 [POFP] market for sludge from pulp and paper production [RoW]\n",
      "569 [GWP100] market for waste emulsion paint [RoW]\n",
      "15.4 [GWP100] market for laser machining, metal, with CO2-laser, 2000W power [GLO]\n",
      "5.63 [POFP] market for helium, crude stockpiling [GLO]\n",
      "5.05 [GWP100] market for water works, capacity 1.1E10l/year [Europe without Switzerland]\n",
      "18.3 [TAP100] market for natural gas, high pressure [BE]\n",
      "5.29 [MEP] market for pentane [GLO]\n",
      "11.5 [TAP100] market for sulfur dioxide, liquid [RoW]\n",
      "14.6 [MEP] market for energy feed, gross [GLO]\n",
      "17.8 [GWP100] market for laser machining, metal, with CO2-laser, 3200W power [GLO]\n",
      "45.9 [MEP] market for hydrogen, liquid [RER]\n",
      "31.1 [POFP] market for land tenure, arable land, measured as carbon net primary productivity, annual crop [RoW]\n",
      "12 [GWP100] market for zinc [GLO]\n",
      "26 [TAP100] market for iron scrap, sorted, pressed [GLO]\n",
      "8.17 [GWP100] market for uranium, enriched 3.0%, per separative work unit [GLO]\n",
      "6.97 [GWP100] market for scrap tin sheet [GLO]\n",
      "7.74 [TAP100] market for steel, low-alloyed [GLO]\n",
      "8.96 [TAP100] market for waste emulsion paint [CH]\n",
      "95.7 [POFP] market for heat, central or small-scale, other than natural gas [RoW]\n",
      "5.57 [GWP100] market for lemon [GLO]\n"
     ]
    }
   ],
   "source": [
    "for k in mkts_a:\n",
    "    if k.max_ratio[0] > 5:\n",
    "        print('%.3g [%s] %s' % (k.max_ratio[0], k.max_ratio[1]['Indicator'], k.market._name))"
   ]
  },
  {
   "cell_type": "code",
   "execution_count": 40,
   "metadata": {},
   "outputs": [
    {
     "name": "stdout",
     "output_type": "stream",
     "text": [
      "20190122-18:17:48\n"
     ]
    }
   ],
   "source": [
    "mkts_a.savetetime\n",
    "print(datetime.datetime.now().strftime('%Y%m%d-%H:%M:%S'))\n",
    "mv_path_a = os.path.join(STUDY_PATH, 'mkt_var_apos.json')\n",
    "mkts_a.save(mv_path_a)"
   ]
  },
  {
   "cell_type": "code",
   "execution_count": 41,
   "metadata": {},
   "outputs": [
    {
     "data": {
      "text/plain": [
       "3291"
      ]
     },
     "execution_count": 41,
     "metadata": {},
     "output_type": "execute_result"
    }
   ],
   "source": [
    "len(mkts_a)"
   ]
  },
  {
   "cell_type": "code",
   "execution_count": 88,
   "metadata": {},
   "outputs": [
    {
     "name": "stdout",
     "output_type": "stream",
     "text": [
      "1247\n",
      "1072\n"
     ]
    }
   ],
   "source": [
    "print(len([k for k in mkts._results if k.max_ratio[0] <= 1.0]))\n",
    "print(len([k for k in mkts._results if len(k) <= 1]))"
   ]
  },
  {
   "cell_type": "code",
   "execution_count": 89,
   "metadata": {},
   "outputs": [
    {
     "name": "stdout",
     "output_type": "stream",
     "text": [
      "1148\n",
      "1052\n"
     ]
    }
   ],
   "source": [
    "print(len([k for k in mkts_a._results if k.max_ratio[0] <= 1.0]))\n",
    "print(len([k for k in mkts_a._results if len(k) <= 1]))"
   ]
  },
  {
   "cell_type": "code",
   "execution_count": 90,
   "metadata": {},
   "outputs": [],
   "source": [
    "from math import log10"
   ]
  },
  {
   "cell_type": "code",
   "execution_count": 92,
   "metadata": {},
   "outputs": [],
   "source": [
    "from matplotlib import pyplot as plt\n",
    "%matplotlib inline"
   ]
  },
  {
   "cell_type": "code",
   "execution_count": 98,
   "metadata": {},
   "outputs": [],
   "source": [
    "from collections import Counter"
   ]
  },
  {
   "cell_type": "code",
   "execution_count": 103,
   "metadata": {},
   "outputs": [
    {
     "data": {
      "text/plain": [
       "(array([1371.,   75.,   38.,   15.,   36.,   38.]),\n",
       " array([  1,   2,   3,   4,   5,  10, 100]),\n",
       " <a list of 6 Patch objects>)"
      ]
     },
     "execution_count": 103,
     "metadata": {},
     "output_type": "execute_result"
    },
    {
     "data": {
      "image/png": "[encoded data removed]",
      "text/plain": [
       "<Figure size 432x288 with 1 Axes>"
      ]
     },
     "metadata": {
      "needs_background": "light"
     },
     "output_type": "display_data"
    }
   ],
   "source": [
    "plt.hist([k.max_ratio[0] for k in mkts._results if len(k) == 2 and 100 > k.max_ratio[0] > 1], bins=[1, 2, 3, 4, 5, 10, 100])"
   ]
  },
  {
   "cell_type": "code",
   "execution_count": 111,
   "metadata": {},
   "outputs": [
    {
     "data": {
      "text/plain": [
       "3.5218251811136247"
      ]
     },
     "execution_count": 111,
     "metadata": {},
     "output_type": "execute_result"
    }
   ],
   "source": [
    "20 * log10(1.5)"
   ]
  },
  {
   "cell_type": "code",
   "execution_count": 116,
   "metadata": {},
   "outputs": [
    {
     "data": {
      "text/plain": [
       "21"
      ]
     },
     "execution_count": 116,
     "metadata": {},
     "output_type": "execute_result"
    }
   ],
   "source": [
    "len([k for k in mkts._results if k.max_ratio[0] < 1.05 and len(k) > 2])"
   ]
  },
  {
   "cell_type": "code",
   "execution_count": 128,
   "metadata": {},
   "outputs": [
    {
     "name": "stdout",
     "output_type": "stream",
     "text": [
      "   0: 0\n",
      "   1: 1072\n",
      "   2: 1745\n",
      "   3: 230\n",
      " -10: 252\n",
      "-100: 40\n",
      ">100: 2\n"
     ]
    }
   ],
   "source": [
    "print('   %d: %d' % (0, len([k for k in mkts._results if len(k) == 0])))\n",
    "print('   %d: %d' % (1, len([k for k in mkts._results if len(k) == 1])))\n",
    "print('   %d: %d' % (2, len([k for k in mkts._results if len(k) == 2])))\n",
    "print('   %d: %d' % (3, len([k for k in mkts._results if len(k) == 3])))\n",
    "print(' -%d: %d' % (10, len([k for k in mkts._results if 3 < len(k) <= 10])))\n",
    "print('-%d: %d' % (100, len([k for k in mkts._results if 10 < len(k) <= 100])))\n",
    "print('>%d: %d' % (100, len([k for k in mkts._results if len(k) > 100])))"
   ]
  },
  {
   "cell_type": "code",
   "execution_count": 129,
   "metadata": {},
   "outputs": [
    {
     "name": "stdout",
     "output_type": "stream",
     "text": [
      "   0: 0\n",
      "   1: 1052\n",
      "   2: 1710\n",
      "   3: 234\n",
      " -10: 252\n",
      "-100: 41\n",
      ">100: 2\n"
     ]
    }
   ],
   "source": [
    "print('   %d: %d' % (0, len([k for k in mkts_a._results if len(k) == 0])))\n",
    "print('   %d: %d' % (1, len([k for k in mkts_a._results if len(k) == 1])))\n",
    "print('   %d: %d' % (2, len([k for k in mkts_a._results if len(k) == 2])))\n",
    "print('   %d: %d' % (3, len([k for k in mkts_a._results if len(k) == 3])))\n",
    "print(' -%d: %d' % (10, len([k for k in mkts_a._results if 3 < len(k) <= 10])))\n",
    "print('-%d: %d' % (100, len([k for k in mkts_a._results if 10 < len(k) <= 100])))\n",
    "print('>%d: %d' % (100, len([k for k in mkts_a._results if len(k) > 100])))"
   ]
  },
  {
   "cell_type": "code",
   "execution_count": 85,
   "metadata": {
    "scrolled": false
   },
   "outputs": [
    {
     "name": "stdout",
     "output_type": "stream",
     "text": [
      "82\n",
      "1165\n",
      "503\n",
      "775\n",
      "816\n",
      "3341\n"
     ]
    }
   ],
   "source": [
    "print(len([k for k in mkts._results if k.max_ratio[0] == 0]))\n",
    "print(len([k for k in mkts._results if k.max_ratio[0] == 1.0]))\n",
    "print(len([k for k in mkts._results if 1.05 >= k.max_ratio[0] > 1.0]))\n",
    "print(len([k for k in mkts._results if 1.5 >= k.max_ratio[0] > 1.05]))\n",
    "print(len([k for k in mkts._results if k.max_ratio[0] > 1.5]))\n",
    "print(len(mkts))"
   ]
  },
  {
   "cell_type": "code",
   "execution_count": 87,
   "metadata": {},
   "outputs": [
    {
     "name": "stdout",
     "output_type": "stream",
     "text": [
      "32\n",
      "1116\n",
      "574\n",
      "740\n",
      "829\n",
      "3291\n"
     ]
    }
   ],
   "source": [
    "print(len([k for k in mkts_a._results if k.max_ratio[0] == 0]))\n",
    "print(len([k for k in mkts_a._results if k.max_ratio[0] == 1.0]))\n",
    "print(len([k for k in mkts_a._results if 1.05 >= k.max_ratio[0] > 1.0]))\n",
    "print(len([k for k in mkts_a._results if 1.5 >= k.max_ratio[0] > 1.05]))\n",
    "print(len([k for k in mkts_a._results if k.max_ratio[0] > 1.5]))\n",
    "print(len(mkts_a))"
   ]
  },
  {
   "cell_type": "markdown",
   "metadata": {},
   "source": [
    "## Find Interesting Markets\n",
    "Look for case studies that show (1) a market split across suppliers and (2) a spread in impact scores among those suppliers"
   ]
  },
  {
   "cell_type": "code",
   "execution_count": 31,
   "metadata": {},
   "outputs": [
    {
     "data": {
      "text/plain": [
       "[<lcatools.entity_refs.quantity_ref.QuantityRef at 0x7f345d643e10>,\n",
       " <lcatools.entity_refs.quantity_ref.QuantityRef at 0x7f3475afbc18>,\n",
       " <lcatools.entity_refs.quantity_ref.QuantityRef at 0x7f3456ec4400>,\n",
       " <lcatools.entity_refs.quantity_ref.QuantityRef at 0x7f3456ec43c8>]"
      ]
     },
     "execution_count": 31,
     "metadata": {},
     "output_type": "execute_result"
    }
   ],
   "source": [
    "qs"
   ]
  },
  {
   "cell_type": "code",
   "execution_count": 32,
   "metadata": {},
   "outputs": [
    {
     "data": {
      "text/plain": [
       "'ReCiPe Midpoint (H), climate change, GWP100'"
      ]
     },
     "execution_count": 32,
     "metadata": {},
     "output_type": "execute_result"
    }
   ],
   "source": [
    "qs[0].external_ref"
   ]
  },
  {
   "cell_type": "code",
   "execution_count": 33,
   "metadata": {},
   "outputs": [
    {
     "data": {
      "text/plain": [
       "3341"
      ]
     },
     "execution_count": 33,
     "metadata": {},
     "output_type": "execute_result"
    }
   ],
   "source": [
    "len(mkts)"
   ]
  },
  {
   "cell_type": "code",
   "execution_count": 36,
   "metadata": {},
   "outputs": [],
   "source": [
    "split_mkts = [m for m in mkts._results if max(m.exchange_values) < 0.6 and m.max_ratio[0] > 3]"
   ]
  },
  {
   "cell_type": "code",
   "execution_count": 37,
   "metadata": {},
   "outputs": [
    {
     "data": {
      "text/plain": [
       "180"
      ]
     },
     "execution_count": 37,
     "metadata": {},
     "output_type": "execute_result"
    }
   ],
   "source": [
    "len(split_mkts)"
   ]
  },
  {
   "cell_type": "code",
   "execution_count": 41,
   "metadata": {},
   "outputs": [],
   "source": [
    "_sm_gen = (k for k in split_mkts)"
   ]
  },
  {
   "cell_type": "code",
   "execution_count": 38,
   "metadata": {},
   "outputs": [],
   "source": [
    "from matplotlib import pyplot as plt\n",
    "%matplotlib inline"
   ]
  },
  {
   "cell_type": "code",
   "execution_count": 39,
   "metadata": {},
   "outputs": [],
   "source": [
    "def _add_stem_plot_to_ax(_ax, _xv, _yv, _scale, _color=[0, 0.62, 0.08], label=None, **kwargs):\n",
    "    (mkrs, stems, baseline) = plt.stem(_xv, [_i * _scale for _i in _yv], label=label)\n",
    "    plt.setp(baseline, visible=False)\n",
    "    plt.setp(stems, color=_color, **{k: v for k, v in kwargs.items() if k in _stem_props})\n",
    "    _mkr_set = {k: v for k, v in kwargs.items() if k in _marker_props}\n",
    "    if len(_mkr_set) > 0:\n",
    "        plt.setp(mkrs, **_mkr_set)"
   ]
  },
  {
   "cell_type": "code",
   "execution_count": 47,
   "metadata": {},
   "outputs": [
    {
     "data": {
      "text/plain": [
       "1.2808428212702667"
      ]
     },
     "execution_count": 47,
     "metadata": {},
     "output_type": "execute_result"
    }
   ],
   "source": [
    "m.ratio(qs[0])"
   ]
  },
  {
   "cell_type": "code",
   "execution_count": 51,
   "metadata": {},
   "outputs": [
    {
     "name": "stdout",
     "output_type": "stream",
     "text": [
      "market for tomato, fresh grade [GLO]\n",
      "046967ce-ee30-4320-9ab5-f6fde6733595\n"
     ]
    },
    {
     "data": {
      "image/png": "[encoded data removed]",
      "text/plain": [
       "<Figure size 576x432 with 4 Axes>"
      ]
     },
     "metadata": {
      "needs_background": "light"
     },
     "output_type": "display_data"
    }
   ],
   "source": [
    "m = next(_sm_gen)\n",
    "fig = plt.figure(figsize=(8, 6))\n",
    "print('%s\\n%s' % (m.market._name, m.market.external_ref))\n",
    "for i in range(4):\n",
    "    ax = fig.add_subplot(2, 2, i+1)\n",
    "    _add_stem_plot_to_ax(ax, m.scores(qs[i]), m.exchange_values, 1)\n",
    "    ax.set_title('%s - max ratio %.4g' % (qs[i]['Indicator'], m.ratio(qs[i])))"
   ]
  },
  {
   "cell_type": "code",
   "execution_count": 52,
   "metadata": {},
   "outputs": [],
   "source": [
    "big_ratio_mkts = [m for m in mkts._results if m.max_ratio[0] > 5]"
   ]
  },
  {
   "cell_type": "code",
   "execution_count": 53,
   "metadata": {},
   "outputs": [
    {
     "data": {
      "text/plain": [
       "347"
      ]
     },
     "execution_count": 53,
     "metadata": {},
     "output_type": "execute_result"
    }
   ],
   "source": [
    "len(big_ratio_mkts)"
   ]
  },
  {
   "cell_type": "code",
   "execution_count": 54,
   "metadata": {},
   "outputs": [],
   "source": [
    "big_robust = [m for m in big_ratio_mkts if len(m) > 5]"
   ]
  },
  {
   "cell_type": "code",
   "execution_count": 55,
   "metadata": {},
   "outputs": [
    {
     "data": {
      "text/plain": [
       "102"
      ]
     },
     "execution_count": 55,
     "metadata": {},
     "output_type": "execute_result"
    }
   ],
   "source": [
    "len(big_robust)"
   ]
  },
  {
   "cell_type": "code",
   "execution_count": 63,
   "metadata": {},
   "outputs": [],
   "source": [
    "from collections import Counter"
   ]
  },
  {
   "cell_type": "code",
   "execution_count": 70,
   "metadata": {},
   "outputs": [
    {
     "data": {
      "text/plain": [
       "<StemContainer object of 3 artists>"
      ]
     },
     "execution_count": 70,
     "metadata": {},
     "output_type": "execute_result"
    },
    {
     "data": {
      "image/png": "[encoded data removed]",
      "text/plain": [
       "<Figure size 432x288 with 1 Axes>"
      ]
     },
     "metadata": {
      "needs_background": "light"
     },
     "output_type": "display_data"
    }
   ],
   "source": [
    "dat = sorted(k for k in Counter(len(k) for k in big_robust).items())\n",
    "plt.stem(*zip(*dat))"
   ]
  },
  {
   "cell_type": "code",
   "execution_count": 71,
   "metadata": {},
   "outputs": [
    {
     "data": {
      "text/plain": [
       "<matplotlib.collections.PathCollection at 0x7f3447e1de80>"
      ]
     },
     "execution_count": 71,
     "metadata": {},
     "output_type": "execute_result"
    },
    {
     "data": {
      "image/png": "[encoded data removed]",
      "text/plain": [
       "<Figure size 432x288 with 1 Axes>"
      ]
     },
     "metadata": {
      "needs_background": "light"
     },
     "output_type": "display_data"
    }
   ],
   "source": [
    "x1 = [len(k) for k in big_robust]\n",
    "x2 = [k.max_ratio[0] for k in big_robust]\n",
    "\n",
    "plt.scatter(x1, x2)"
   ]
  },
  {
   "cell_type": "code",
   "execution_count": 72,
   "metadata": {},
   "outputs": [],
   "source": [
    "choice = (k for k in big_mkts if k.max_ratio[0] > 10 and len(k) > 10 and max(k.exchange_values) < 0.4)"
   ]
  },
  {
   "cell_type": "code",
   "execution_count": 158,
   "metadata": {},
   "outputs": [
    {
     "name": "stdout",
     "output_type": "stream",
     "text": [
      "ProcessRef catalog reference (45590532-cfd4-46a9-abb5-209e0d998f83)\n",
      "origin: local.ecoinvent.3.4.cutoff\n",
      "UUID: 45590532-cfd4-46a9-abb5-209e0d998f83\n",
      "   Name: market for heat, district or industrial, other than natural gas\n",
      "Comment: The shares of heat supplying activities from the different technologies have been estimated based on IEA statistics (http://www.iea.org/stats/electricitydata.asp?COUNTRY_CODE=25) for the year 2009. They amount to about 52% heat from coal and peat, 16% heat from oil, 18% heat from biofuels (modelled with biogas and wood), 11% heat from waste and 2% heat from other sources. The shares of the individual supplying activities do not necessarily correspond to reality and will have to be refined in future. \n",
      "==Local Fields==\n",
      "   SpatialScope: Europe without Switzerland\n",
      "  TemporalScope: {'begin': '2011-01-01', 'end': '2017-12-31'}\n",
      "Classifications: ['EcoSpold01Categories: oil/cogeneration', 'ISIC rev.4 ecoinvent: 3530a: Steam and air conditioning supply based on liquid fuels ']\n"
     ]
    }
   ],
   "source": [
    "next(choice).market.show()"
   ]
  },
  {
   "cell_type": "markdown",
   "metadata": {},
   "source": [
    "## just for fun, some LCIA"
   ]
  },
  {
   "cell_type": "code",
   "execution_count": 73,
   "metadata": {},
   "outputs": [
    {
     "name": "stdout",
     "output_type": "stream",
     "text": [
      "local.ecoinvent.3.4.cutoff.index.20190118: /data/GitHub/2018/variability_jlca/catalog/archives/local.ecoinvent.3.4.cutoff.index.20190118_background.mat\n",
      "Loading JSON data from /data/GitHub/2018/variability_jlca/catalog/archives/local.ecoinvent.3.4.cutoff.index.20190118_background.mat.index.json.gz:\n",
      "completed 63 iterations\n",
      "Loading JSON data from /data/GitHub/2018/variability_jlca/catalog/index/ffc0f70037f9e921067e85ac7e2d4ff0ba1bc3b5.json.gz:\n",
      "local.ecoinvent.3.4.cutoff.index.20190118: /data/GitHub/2018/variability_jlca/catalog/index/ffc0f70037f9e921067e85ac7e2d4ff0ba1bc3b5.json.gz\n",
      "local.ecoinvent.3.4.cutoff: /data/LCI/Ecoinvent/3.4/ecoinvent 3.4_cutoff_ecoSpold02\n",
      "19 new quantity entities added (19 total)\n",
      "13459 new process entities added (13459 total)\n",
      "4881 new flow entities added (4881 total)\n",
      "Multiple CFs found: [25.0, 22.25]\n",
      "Flow: [local.ecoinvent.3.4.cutoff] Methane, non-fossil [kg] [[kg]]\n",
      "Quantity: ReCiPe Midpoint (H), climate change, GWP100 [kg CO2-Eq] [LCIA]\n",
      "Multiple CFs found: [25.0, 22.25]\n",
      "Flow: [local.ecoinvent.3.4.cutoff] Methane, non-fossil [kg] [[kg]]\n",
      "Quantity: ReCiPe Midpoint (H), climate change, GWP100 [kg CO2-Eq] [LCIA]\n",
      "Multiple CFs found: [25.0, 22.25]\n",
      "Flow: [local.ecoinvent.3.4.cutoff] Methane, non-fossil [kg] [[kg]]\n",
      "Quantity: ReCiPe Midpoint (H), climate change, GWP100 [kg CO2-Eq] [LCIA]\n"
     ]
    }
   ],
   "source": [
    "res = qs[0].do_lcia(m_gly.lci())"
   ]
  },
  {
   "cell_type": "code",
   "execution_count": 74,
   "metadata": {},
   "outputs": [
    {
     "name": "stdout",
     "output_type": "stream",
     "text": [
      "ReCiPe Midpoint (H), climate change, GWP100 [kg CO2-Eq] [LCIA] kg CO2-Eq\n",
      "------------------------------------------------------------\n",
      "      1.33  [local.ecoinvent.3.4.cutoff] Carbon dioxide, from soil or biomass stock [kg]\n",
      "     0.897  [local.ecoinvent.3.4.cutoff] Carbon dioxide, fossil [kg]\n",
      "     0.414  [local.ecoinvent.3.4.cutoff] Dinitrogen monoxide [kg]\n",
      "      0.41  [local.ecoinvent.3.4.cutoff] Carbon dioxide, fossil [kg]\n",
      "     0.141  [local.ecoinvent.3.4.cutoff] Carbon dioxide, fossil [kg]\n",
      "    0.0963  [local.ecoinvent.3.4.cutoff] Dinitrogen monoxide [kg]\n",
      "    0.0877  [local.ecoinvent.3.4.cutoff] Methane, fossil [kg]\n",
      "    0.0195  [local.ecoinvent.3.4.cutoff] Methane, from soil or biomass stock [kg]\n",
      "    0.0186  [local.ecoinvent.3.4.cutoff] Methane, fossil [kg]\n",
      "    0.0101  [local.ecoinvent.3.4.cutoff] Methane, fossil [kg]\n",
      "   0.00349  [local.ecoinvent.3.4.cutoff] Dinitrogen monoxide [kg]\n",
      "   0.00283  [local.ecoinvent.3.4.cutoff] Carbon dioxide, from soil or biomass stock [kg]\n",
      "   0.00272  [local.ecoinvent.3.4.cutoff] Sulfur hexafluoride [kg]\n",
      "   0.00213  [local.ecoinvent.3.4.cutoff] Methane, non-fossil [kg]\n",
      "  0.000593  [local.ecoinvent.3.4.cutoff] Methane, tetrafluoro-, R-14 [kg]\n",
      "  0.000467  [local.ecoinvent.3.4.cutoff] Methane, tetrachloro-, R-10 [kg]\n",
      "  0.000165  [local.ecoinvent.3.4.cutoff] Ethane, 1,2-dichloro-1,1,2,2-tetrafluoro-, CFC-114 [kg]\n",
      "  0.000108  [local.ecoinvent.3.4.cutoff] Methane, non-fossil [kg]\n",
      "  8.44e-05  [local.ecoinvent.3.4.cutoff] Ethane, hexafluoro-, HFC-116 [kg]\n",
      "  7.17e-05  [local.ecoinvent.3.4.cutoff] Ethane, hexafluoro-, HFC-116 [kg]\n",
      "  7.03e-05  [local.ecoinvent.3.4.cutoff] Methane, chlorodifluoro-, HCFC-22 [kg]\n",
      "  5.18e-05  [local.ecoinvent.3.4.cutoff] Methane, bromotrifluoro-, Halon 1301 [kg]\n",
      "  4.41e-05  [local.ecoinvent.3.4.cutoff] Methane, trifluoro-, HFC-23 [kg]\n",
      "  1.47e-05  [local.ecoinvent.3.4.cutoff] Methane, dichlorodifluoro-, CFC-12 [kg]\n",
      "   1.2e-05  [local.ecoinvent.3.4.cutoff] Chloroform [kg]\n",
      "  9.92e-06  [local.ecoinvent.3.4.cutoff] Methane, bromochlorodifluoro-, Halon 1211 [kg]\n",
      "  7.24e-06  [local.ecoinvent.3.4.cutoff] Carbon dioxide, fossil [kg]\n",
      "   6.8e-06  [local.ecoinvent.3.4.cutoff] Methane, chlorodifluoro-, HCFC-22 [kg]\n",
      "  2.86e-06  [local.ecoinvent.3.4.cutoff] Ethane, 1,1,1,2-tetrafluoro-, HFC-134a [kg]\n",
      "  1.16e-06  [local.ecoinvent.3.4.cutoff] Ethane, 1,1-difluoro-, HFC-152a [kg]\n",
      "  1.15e-06  [local.ecoinvent.3.4.cutoff] Methane, dichloro-, HCC-30 [kg]\n",
      "  7.93e-07  [local.ecoinvent.3.4.cutoff] Ethane, 1,1,1,2-tetrafluoro-, HFC-134a [kg]\n",
      "  6.82e-07  [local.ecoinvent.3.4.cutoff] Ethane, 1,1,2-trichloro-1,2,2-trifluoro-, CFC-113 [kg]\n",
      "  6.43e-07  [local.ecoinvent.3.4.cutoff] Methane, tetrafluoro-, R-14 [kg]\n",
      "  6.12e-07  [local.ecoinvent.3.4.cutoff] Ethane, 1,1,2-trichloro-1,2,2-trifluoro-, CFC-113 [kg]\n",
      "   4.7e-07  [local.ecoinvent.3.4.cutoff] Hydrocarbons, chlorinated [kg]\n",
      "  3.79e-07  [local.ecoinvent.3.4.cutoff] Sulfur hexafluoride [kg]\n",
      "   3.6e-07  [local.ecoinvent.3.4.cutoff] Ethane, 1,1,2-trichloro-1,2,2-trifluoro-, CFC-113 [kg]\n",
      "  3.44e-07  [local.ecoinvent.3.4.cutoff] Dinitrogen monoxide [kg]\n",
      "   3.4e-07  [local.ecoinvent.3.4.cutoff] Ethane, 1,1,1,2-tetrafluoro-, HFC-134a [kg]\n",
      "  2.56e-07  [local.ecoinvent.3.4.cutoff] Hydrocarbons, chlorinated [kg]\n",
      "  2.55e-07  [local.ecoinvent.3.4.cutoff] Methane, dichloro-, HCC-30 [kg]\n",
      "  1.95e-07  [local.ecoinvent.3.4.cutoff] Methane, monochloro-, R-40 [kg]\n",
      "   1.1e-07  [local.ecoinvent.3.4.cutoff] Methane, non-fossil [kg]\n",
      "  1.04e-07  [local.ecoinvent.3.4.cutoff] Methane [kg]\n",
      "   8.6e-08  [local.ecoinvent.3.4.cutoff] Chloroform [kg]\n",
      "  8.27e-08  [local.ecoinvent.3.4.cutoff] Ethane, 1,1,1-trichloro-, HCFC-140 [kg]\n",
      "  7.14e-08  [local.ecoinvent.3.4.cutoff] Methane, dichloro-, HCC-30 [kg]\n",
      "  6.77e-08  [local.ecoinvent.3.4.cutoff] Ethane, 2-chloro-1,1,1,2-tetrafluoro-, HCFC-124 [kg]\n",
      "   6.7e-08  [local.ecoinvent.3.4.cutoff] Methane, dichlorodifluoro-, CFC-12 [kg]\n",
      "  6.08e-08  [local.ecoinvent.3.4.cutoff] Hydrocarbons, chlorinated [kg]\n",
      "   4.9e-08  [local.ecoinvent.3.4.cutoff] Methane, trichlorofluoro-, CFC-11 [kg]\n",
      "  2.05e-08  [local.ecoinvent.3.4.cutoff] Dinitrogen monoxide [kg]\n",
      "  1.07e-08  [local.ecoinvent.3.4.cutoff] Methane, tetrachloro-, R-10 [kg]\n",
      "  6.28e-09  [local.ecoinvent.3.4.cutoff] Ethane, 1,1-difluoro-, HFC-152a [kg]\n",
      "   5.6e-09  [local.ecoinvent.3.4.cutoff] Methane, dichloro-, HCC-30 [kg]\n",
      "  2.87e-09  [local.ecoinvent.3.4.cutoff] Methane, fossil [kg]\n",
      "  1.41e-09  [local.ecoinvent.3.4.cutoff] Methane, dichlorofluoro-, HCFC-21 [kg]\n",
      "  1.86e-10  [local.ecoinvent.3.4.cutoff] Methane, dichlorodifluoro-, CFC-12 [kg]\n",
      "   1.2e-10  [local.ecoinvent.3.4.cutoff] Methane, bromotrifluoro-, Halon 1301 [kg]\n",
      "  2.35e-11  [local.ecoinvent.3.4.cutoff] Sulfur hexafluoride [kg]\n",
      "  4.42e-12  [local.ecoinvent.3.4.cutoff] Nitrogen fluoride [kg]\n",
      "  2.56e-12  [local.ecoinvent.3.4.cutoff] Ethane, 1,1,1-trichloro-, HCFC-140 [kg]\n",
      "  2.94e-13  [local.ecoinvent.3.4.cutoff] Chloroform [kg]\n",
      "  1.29e-13  [local.ecoinvent.3.4.cutoff] Methane, bromo-, Halon 1001 [kg]\n",
      "  6.91e-19  [local.ecoinvent.3.4.cutoff] Methane, chlorodifluoro-, HCFC-22 [kg]\n",
      "  9.62e-22  [local.ecoinvent.3.4.cutoff] Methane, bromo-, Halon 1001 [kg]\n",
      "         0  [local.ecoinvent.3.4.cutoff] Carbon dioxide, non-fossil [kg]\n",
      "         0  [local.ecoinvent.3.4.cutoff] Carbon dioxide, non-fossil [kg]\n",
      "         0  [local.ecoinvent.3.4.cutoff] Carbon dioxide, non-fossil [kg]\n",
      "         0  [local.ecoinvent.3.4.cutoff] Carbon dioxide, in air [kg]\n",
      " -6.74e-05  [local.ecoinvent.3.4.cutoff] Carbon dioxide, to soil or biomass stock [kg]\n",
      "==========\n",
      "      3.44 ReCiPe Midpoint (H), climate change, GWP100 [kg CO2-Eq] [LCIA]\n"
     ]
    }
   ],
   "source": [
    "res.show_components()"
   ]
  },
  {
   "cell_type": "code",
   "execution_count": 76,
   "metadata": {},
   "outputs": [
    {
     "name": "stdout",
     "output_type": "stream",
     "text": [
      "ReCiPe Midpoint (H), climate change, GWP100 [kg CO2-Eq] [LCIA] kg CO2-Eq\n",
      "------------------------------------------------------------\n",
      "      1.45 =          1 x       1.45 Carbon dioxide, fossil [kg]\n",
      "      1.33 =          1 x       1.33 Carbon dioxide, from soil or biomass stock [kg]\n",
      "     0.514 =          1 x      0.514 Dinitrogen monoxide [kg]\n",
      "     0.116 =          1 x      0.116 Methane, fossil [kg]\n",
      "    0.0195 =          1 x     0.0195 Methane, from soil or biomass stock [kg]\n",
      "   0.00272 =          1 x    0.00272 Sulfur hexafluoride [kg]\n",
      "   0.00224 =          1 x    0.00224 Methane, non-fossil [kg]\n",
      "  0.000594 =          1 x   0.000594 Methane, tetrafluoro-, R-14 [kg]\n",
      "  0.000467 =          1 x   0.000467 Methane, tetrachloro-, R-10 [kg]\n",
      "  0.000165 =          1 x   0.000165 Ethane, 1,2-dichloro-1,1,2,2-tetrafluoro-, CFC-114 [kg]\n",
      "  0.000156 =          1 x   0.000156 Ethane, hexafluoro-, HFC-116 [kg]\n",
      "  7.71e-05 =          1 x   7.71e-05 Methane, chlorodifluoro-, HCFC-22 [kg]\n",
      "  5.18e-05 =          1 x   5.18e-05 Methane, bromotrifluoro-, Halon 1301 [kg]\n",
      "  4.41e-05 =          1 x   4.41e-05 Methane, trifluoro-, HFC-23 [kg]\n",
      "  1.48e-05 =          1 x   1.48e-05 Methane, dichlorodifluoro-, CFC-12 [kg]\n",
      "  1.21e-05 =          1 x   1.21e-05 Chloroform [kg]\n",
      "  9.92e-06 =          1 x   9.92e-06 Methane, bromochlorodifluoro-, Halon 1211 [kg]\n",
      "  3.99e-06 =          1 x   3.99e-06 Ethane, 1,1,1,2-tetrafluoro-, HFC-134a [kg]\n",
      "  1.65e-06 =          1 x   1.65e-06 Ethane, 1,1,2-trichloro-1,2,2-trifluoro-, CFC-113 [kg]\n",
      "  1.48e-06 =          1 x   1.48e-06 Methane, dichloro-, HCC-30 [kg]\n",
      "  1.17e-06 =          1 x   1.17e-06 Ethane, 1,1-difluoro-, HFC-152a [kg]\n",
      "  7.87e-07 =          1 x   7.87e-07 Hydrocarbons, chlorinated [kg]\n",
      "  1.95e-07 =          1 x   1.95e-07 Methane, monochloro-, R-40 [kg]\n",
      "  1.04e-07 =          1 x   1.04e-07 Methane [kg]\n",
      "  8.27e-08 =          1 x   8.27e-08 Ethane, 1,1,1-trichloro-, HCFC-140 [kg]\n",
      "  6.77e-08 =          1 x   6.77e-08 Ethane, 2-chloro-1,1,1,2-tetrafluoro-, HCFC-124 [kg]\n",
      "   4.9e-08 =          1 x    4.9e-08 Methane, trichlorofluoro-, CFC-11 [kg]\n",
      "  1.41e-09 =          1 x   1.41e-09 Methane, dichlorofluoro-, HCFC-21 [kg]\n",
      "  4.42e-12 =          1 x   4.42e-12 Nitrogen fluoride [kg]\n",
      "  1.29e-13 =          1 x   1.29e-13 Methane, bromo-, Halon 1001 [kg]\n",
      "         0 =          1 x          0 Carbon dioxide, non-fossil [kg]\n",
      "         0 =          1 x          0 Carbon dioxide, in air [kg]\n",
      " -6.74e-05 =          1 x  -6.74e-05 Carbon dioxide, to soil or biomass stock [kg]\n",
      "==========\n",
      "      3.44 ReCiPe Midpoint (H), climate change, GWP100 [kg CO2-Eq] [LCIA]\n"
     ]
    }
   ],
   "source": [
    "res.show_agg(key=lambda x: x._name)"
   ]
  },
  {
   "cell_type": "code",
   "execution_count": 77,
   "metadata": {},
   "outputs": [
    {
     "name": "stdout",
     "output_type": "stream",
     "text": [
      "completed 63 iterations\n",
      "ReCiPe Midpoint (H), terrestrial acidification, TAP100 [kg SO2-Eq] [LCIA] kg SO2-Eq\n",
      "------------------------------------------------------------\n",
      "    0.0108 =          1 x     0.0108 Ammonia [kg]\n",
      "   0.00445 =          1 x    0.00445 Sulfur dioxide [kg]\n",
      "   0.00309 =          1 x    0.00309 Nitrogen oxides [kg]\n",
      "         0 =          1 x          0 Carbon dioxide, non-fossil [kg]\n",
      "         0 =          1 x          0 Carbon dioxide, in air [kg]\n",
      "==========\n",
      "    0.0183 ReCiPe Midpoint (H), terrestrial acidification, TAP100 [kg SO2-Eq] [LCIA]\n"
     ]
    }
   ],
   "source": [
    "qs[1].do_lcia(m_gly.lci()).show_agg(key=lambda x: x._name)"
   ]
  },
  {
   "cell_type": "code",
   "execution_count": 78,
   "metadata": {},
   "outputs": [
    {
     "name": "stdout",
     "output_type": "stream",
     "text": [
      "completed 63 iterations\n"
     ]
    },
    {
     "data": {
      "text/plain": [
       "1860"
      ]
     },
     "execution_count": 78,
     "metadata": {},
     "output_type": "execute_result"
    }
   ],
   "source": [
    "lci = [x for x in m_gly.lci()]\n",
    "len(lci)"
   ]
  },
  {
   "cell_type": "code",
   "execution_count": 79,
   "metadata": {},
   "outputs": [
    {
     "data": {
      "text/plain": [
       "['Output:     [1.16e-06 [kg]]     [local.ecoinvent.3.4.cutoff] Aluminium [kg]',\n",
       " 'Output:     [1.58e-06 [kg]]     [local.ecoinvent.3.4.cutoff] Antimony [kg]',\n",
       " 'Output:     [2.06e-06 [kg]]     [local.ecoinvent.3.4.cutoff] Cadmium, ion [kg]',\n",
       " 'Output:     [0.0112 [kg]]     [local.ecoinvent.3.4.cutoff] Calcium, ion [kg]',\n",
       " 'Output:     [1.03e-06 [kg]]     [local.ecoinvent.3.4.cutoff] Beryllium [kg]',\n",
       " 'Output:     [8.8e-06 [kg]]     [local.ecoinvent.3.4.cutoff] Vanadium, ion [kg]',\n",
       " 'Output:     [1.08e-08 [kg]]     [local.ecoinvent.3.4.cutoff] Vanadium, ion [kg]',\n",
       " 'Output:     [1.67e-05 [kg]]     [local.ecoinvent.3.4.cutoff] Silicon [kg]',\n",
       " 'Output:     [6.83e-06 [kg]]     [local.ecoinvent.3.4.cutoff] Zinc, ion [kg]',\n",
       " 'Output:     [5.03e-08 [kg]]     [local.ecoinvent.3.4.cutoff] Tungsten [kg]',\n",
       " 'Output:     [0.000139 [kg]]     [local.ecoinvent.3.4.cutoff] Calcium, ion [kg]',\n",
       " 'Output:     [0.00577 [kg]]     [local.ecoinvent.3.4.cutoff] Magnesium [kg]',\n",
       " 'Output:     [4.67e-05 [kg]]     [local.ecoinvent.3.4.cutoff] Nickel, ion [kg]',\n",
       " 'Output:     [1.4e-08 [kg]]     [local.ecoinvent.3.4.cutoff] Cadmium, ion [kg]',\n",
       " 'Output:     [0.0707 [kg]]     [local.ecoinvent.3.4.cutoff] Nitrate [kg]',\n",
       " 'Output:     [3.05e-08 [kg]]     [local.ecoinvent.3.4.cutoff] Barium [kg]',\n",
       " 'Output:     [0.0117 [kg]]     [local.ecoinvent.3.4.cutoff] Sodium, ion [kg]',\n",
       " 'Output:     [0.000134 [kg]]     [local.ecoinvent.3.4.cutoff] Zinc, ion [kg]',\n",
       " 'Output:     [1.1e-08 [kg]]     [local.ecoinvent.3.4.cutoff] Scandium [kg]',\n",
       " 'Output:     [1.48e-05 [kg]]     [local.ecoinvent.3.4.cutoff] Cobalt [kg]',\n",
       " 'Output:     [0.00362 [kg]]     [local.ecoinvent.3.4.cutoff] Potassium, ion [kg]',\n",
       " 'Output:     [2.54e-06 [kg]]     [local.ecoinvent.3.4.cutoff] Selenium [kg]',\n",
       " 'Output:     [1.59e-05 [kg]]     [local.ecoinvent.3.4.cutoff] Barium [kg]',\n",
       " 'Output:     [8.18e-05 [kg]]     [local.ecoinvent.3.4.cutoff] Titanium, ion [kg]',\n",
       " 'Output:     [4.11e-06 [kg]]     [local.ecoinvent.3.4.cutoff] Arsenic, ion [kg]',\n",
       " 'Output:     [0.000337 [kg]]     [local.ecoinvent.3.4.cutoff] Phosphate [kg]',\n",
       " 'Output:     [0.000485 [kg]]     [local.ecoinvent.3.4.cutoff] Manganese [kg]',\n",
       " 'Output:     [1.86e-06 [kg]]     [local.ecoinvent.3.4.cutoff] Tin, ion [kg]',\n",
       " 'Output:     [2.13e-05 [kg]]     [local.ecoinvent.3.4.cutoff] Potassium, ion [kg]',\n",
       " 'Output:     [0.0159 [kg]]     [local.ecoinvent.3.4.cutoff] Chloride [kg]',\n",
       " 'Output:     [0.0114 [kg]]     [local.ecoinvent.3.4.cutoff] Silicon [kg]',\n",
       " 'Output:     [1.06e-07 [kg]]     [local.ecoinvent.3.4.cutoff] Silver, ion [kg]',\n",
       " 'Output:     [4.87e-05 [kg]]     [local.ecoinvent.3.4.cutoff] Sodium, ion [kg]',\n",
       " 'Output:     [0.000161 [kg]]     [local.ecoinvent.3.4.cutoff] Strontium [kg]',\n",
       " 'Output:     [2.74e-09 [kg]]     [local.ecoinvent.3.4.cutoff] Tin, ion [kg]',\n",
       " 'Output:     [3.24e-08 [kg]]     [local.ecoinvent.3.4.cutoff] Selenium [kg]',\n",
       " 'Output:     [8.77e-07 [kg]]     [local.ecoinvent.3.4.cutoff] Copper, ion [kg]',\n",
       " 'Output:     [7.29e-09 [kg]]     [local.ecoinvent.3.4.cutoff] Mercury [kg]',\n",
       " 'Output:     [1.94e-06 [kg]]     [local.ecoinvent.3.4.cutoff] Scandium [kg]',\n",
       " 'Output:     [0.000188 [kg]]     [local.ecoinvent.3.4.cutoff] Fluoride [kg]',\n",
       " 'Output:     [2.61e-06 [kg]]     [local.ecoinvent.3.4.cutoff] Tungsten [kg]',\n",
       " 'Output:     [0.00297 [kg]]     [local.ecoinvent.3.4.cutoff] Chloride [kg]',\n",
       " 'Output:     [1.36e-06 [kg]]     [local.ecoinvent.3.4.cutoff] Fluoride [kg]',\n",
       " 'Output:     [6.37e-06 [kg]]     [local.ecoinvent.3.4.cutoff] Chromium VI [kg]',\n",
       " 'Output:     [1.91e-07 [kg]]     [local.ecoinvent.3.4.cutoff] Arsenic, ion [kg]',\n",
       " 'Output:     [3.25e-06 [kg]]     [local.ecoinvent.3.4.cutoff] Molybdenum [kg]',\n",
       " 'Output:     [2.69e-07 [kg]]     [local.ecoinvent.3.4.cutoff] Molybdenum [kg]',\n",
       " 'Output:     [2.28e-06 [kg]]     [local.ecoinvent.3.4.cutoff] Strontium [kg]',\n",
       " 'Output:     [0.000165 [kg]]     [local.ecoinvent.3.4.cutoff] Iron, ion [kg]',\n",
       " 'Output:     [1.16e-09 [kg]]     [local.ecoinvent.3.4.cutoff] Silver, ion [kg]']"
      ]
     },
     "execution_count": 79,
     "metadata": {},
     "output_type": "execute_result"
    }
   ],
   "source": [
    "[str(x) for x in lci[:50]]"
   ]
  },
  {
   "cell_type": "code",
   "execution_count": 80,
   "metadata": {},
   "outputs": [],
   "source": [
    "from lcatools import enum"
   ]
  },
  {
   "cell_type": "code",
   "execution_count": 81,
   "metadata": {},
   "outputs": [
    {
     "name": "stdout",
     "output_type": "stream",
     "text": [
      " [00] [local.lcia.ecoinvent.3.1.2014_08_13] IPCC 2007 no LT, climate change, GWP 100a [kg CO2-Eq]\n",
      " [01] [local.lcia.ecoinvent.3.1.2014_08_13] IPCC 2007, climate change, GWP 100a [kg CO2-Eq]\n"
     ]
    }
   ],
   "source": [
    "ipccs = enum(cat.query('local.lcia').quantities(Method='IPCC.2007', Indicator='100'))"
   ]
  },
  {
   "cell_type": "code",
   "execution_count": 82,
   "metadata": {},
   "outputs": [],
   "source": [
    "_ = enum(ipccs[0].factors())"
   ]
  },
  {
   "cell_type": "code",
   "execution_count": 83,
   "metadata": {},
   "outputs": [
    {
     "name": "stdout",
     "output_type": "stream",
     "text": [
      " [00]   1.57 [GLO] [kg CO2-Eq / kg] Carbon monoxide, from soil or biomass stock (IPCC 2007, climate change, GWP 100a)\n",
      " [01] 2.28e+04 [GLO] [kg CO2-Eq / kg] Sulfur hexafluoride (IPCC 2007, climate change, GWP 100a)\n",
      " [02]    210 [GLO] [kg CO2-Eq / kg] Methane, dichlorofluoro-, HCFC-21 (IPCC 2007, climate change, GWP 100a)\n",
      " [03] 6.13e+03 [GLO] [kg CO2-Eq / kg] Ethane, 1,1,2-trichloro-1,2,2-trifluoro-, CFC-113 (IPCC 2007, climate change, GWP 100a)\n",
      " [04] 7.37e+03 [GLO] [kg CO2-Eq / kg] Ethane, chloropentafluoro-, CFC-115 (IPCC 2007, climate change, GWP 100a)\n",
      " [05] 7.14e+03 [GLO] [kg CO2-Eq / kg] Methane, bromotrifluoro-, Halon 1301 (IPCC 2007, climate change, GWP 100a)\n",
      " [06] 1.72e+04 [GLO] [kg CO2-Eq / kg] Nitrogen fluoride (IPCC 2007, climate change, GWP 100a)\n",
      " [07]     13 [GLO] [kg CO2-Eq / kg] Methane, monochloro-, R-40 (IPCC 2007, climate change, GWP 100a)\n",
      " [08]    8.7 [GLO] [kg CO2-Eq / kg] Methane, dichloro-, HCC-30 (IPCC 2007, climate change, GWP 100a)\n",
      " [09]    298 [GLO] [kg CO2-Eq / kg] Dinitrogen monoxide (IPCC 2007, climate change, GWP 100a)\n",
      " [10]    8.7 [GLO] [kg CO2-Eq / kg] Methane, dichloro-, HCC-30 (IPCC 2007, climate change, GWP 100a)\n",
      " [11] 1.4e+04 [GLO] [kg CO2-Eq / kg] Methane, chlorotrifluoro-, CFC-13 (IPCC 2007, climate change, GWP 100a)\n",
      " [12]   1.57 [GLO] [kg CO2-Eq / kg] Carbon monoxide, from soil or biomass stock (IPCC 2007, climate change, GWP 100a)\n",
      " [13] 2.31e+03 [GLO] [kg CO2-Eq / kg] Ethane, 1-chloro-1,1-difluoro-, HCFC-142b (IPCC 2007, climate change, GWP 100a)\n",
      " [14] 7.37e+03 [GLO] [kg CO2-Eq / kg] Ethane, chloropentafluoro-, CFC-115 (IPCC 2007, climate change, GWP 100a)\n",
      " [15] 1.09e+04 [GLO] [kg CO2-Eq / kg] Methane, dichlorodifluoro-, CFC-12 (IPCC 2007, climate change, GWP 100a)\n",
      " [16]     77 [GLO] [kg CO2-Eq / kg] Ethane, 2,2-dichloro-1,1,1-trifluoro-, HCFC-123 (IPCC 2007, climate change, GWP 100a)\n",
      " [17]     25 [GLO] [kg CO2-Eq / kg] Methane, from soil or biomass stock (IPCC 2007, climate change, GWP 100a)\n",
      " [18]   1.57 [GLO] [kg CO2-Eq / kg] Carbon monoxide, from soil or biomass stock (IPCC 2007, climate change, GWP 100a)\n",
      " [19]    8.7 [GLO] [kg CO2-Eq / kg] Methane, dichloro-, HCC-30 (IPCC 2007, climate change, GWP 100a)\n",
      " [20]    675 [GLO] [kg CO2-Eq / kg] Methane, difluoro-, HFC-32 (IPCC 2007, climate change, GWP 100a)\n",
      " [21]    124 [GLO] [kg CO2-Eq / kg] Ethane, 1,1-difluoro-, HFC-152a (IPCC 2007, climate change, GWP 100a)\n",
      " [22] 1.22e+04 [GLO] [kg CO2-Eq / kg] Ethane, hexafluoro-, HFC-116 (IPCC 2007, climate change, GWP 100a)\n",
      " [23] 1.89e+03 [GLO] [kg CO2-Eq / kg] Methane, bromochlorodifluoro-, Halon 1211 (IPCC 2007, climate change, GWP 100a)\n",
      " [24] 4.75e+03 [GLO] [kg CO2-Eq / kg] Methane, trichlorofluoro-, CFC-11 (IPCC 2007, climate change, GWP 100a)\n",
      " [25]   1.57 [GLO] [kg CO2-Eq / kg] Carbon monoxide, fossil (IPCC 2007, climate change, GWP 100a)\n",
      " [26]     30 [GLO] [kg CO2-Eq / kg] Chloroform (IPCC 2007, climate change, GWP 100a)\n",
      " [27] 2.28e+04 [GLO] [kg CO2-Eq / kg] Sulfur hexafluoride (IPCC 2007, climate change, GWP 100a)\n",
      " [28] 1.22e+04 [GLO] [kg CO2-Eq / kg] Ethane, hexafluoro-, HFC-116 (IPCC 2007, climate change, GWP 100a)\n",
      " [29]    298 [GLO] [kg CO2-Eq / kg] Dinitrogen monoxide (IPCC 2007, climate change, GWP 100a)\n",
      " [30]    124 [GLO] [kg CO2-Eq / kg] Ethane, 1,1-difluoro-, HFC-152a (IPCC 2007, climate change, GWP 100a)\n",
      " [31]      1 [GLO] [kg CO2-Eq / kg] Carbon dioxide, from soil or biomass stock (IPCC 2007, climate change, GWP 100a)\n",
      " [32]      1 [GLO] [kg CO2-Eq / kg] Carbon dioxide, from soil or biomass stock (IPCC 2007, climate change, GWP 100a)\n",
      " [33]      1 [GLO] [kg CO2-Eq / kg] Carbon dioxide, fossil (IPCC 2007, climate change, GWP 100a)\n",
      " [34]   1.57 [GLO] [kg CO2-Eq / kg] Carbon monoxide, fossil (IPCC 2007, climate change, GWP 100a)\n",
      " [35]     25 [GLO] [kg CO2-Eq / kg] Methane, from soil or biomass stock (IPCC 2007, climate change, GWP 100a)\n",
      " [36]     25 [GLO] [kg CO2-Eq / kg] Methane, fossil (IPCC 2007, climate change, GWP 100a)\n",
      " [37]     25 [GLO] [kg CO2-Eq / kg] Methane, fossil (IPCC 2007, climate change, GWP 100a)\n",
      " [38]  1e+04 [GLO] [kg CO2-Eq / kg] Ethane, 1,2-dichloro-1,1,2,2-tetrafluoro-, CFC-114 (IPCC 2007, climate change, GWP 100a)\n",
      " [39]     25 [GLO] [kg CO2-Eq / kg] Methane, from soil or biomass stock (IPCC 2007, climate change, GWP 100a)\n",
      " [40]      5 [GLO] [kg CO2-Eq / kg] Methane, bromo-, Halon 1001 (IPCC 2007, climate change, GWP 100a)\n",
      " [41] 1.43e+03 [GLO] [kg CO2-Eq / kg] Ethane, 1,1,1,2-tetrafluoro-, HFC-134a (IPCC 2007, climate change, GWP 100a)\n",
      " [42]     77 [GLO] [kg CO2-Eq / kg] Ethane, 2,2-dichloro-1,1,1-trifluoro-, HCFC-123 (IPCC 2007, climate change, GWP 100a)\n",
      " [43]     13 [GLO] [kg CO2-Eq / kg] Methane, monochloro-, R-40 (IPCC 2007, climate change, GWP 100a)\n",
      " [44] 7.37e+03 [GLO] [kg CO2-Eq / kg] Ethane, chloropentafluoro-, CFC-115 (IPCC 2007, climate change, GWP 100a)\n",
      " [45] 1.81e+03 [GLO] [kg CO2-Eq / kg] Methane, chlorodifluoro-, HCFC-22 (IPCC 2007, climate change, GWP 100a)\n",
      " [46] 3.5e+03 [GLO] [kg CO2-Eq / kg] Ethane, pentafluoro-, HFC-125 (IPCC 2007, climate change, GWP 100a)\n",
      " [47] 4.75e+03 [GLO] [kg CO2-Eq / kg] Methane, trichlorofluoro-, CFC-11 (IPCC 2007, climate change, GWP 100a)\n",
      " [48]    8.7 [GLO] [kg CO2-Eq / kg] Methane, dichloro-, HCC-30 (IPCC 2007, climate change, GWP 100a)\n",
      " [49]     30 [GLO] [kg CO2-Eq / kg] Chloroform (IPCC 2007, climate change, GWP 100a)\n",
      " [50] 1.4e+03 [GLO] [kg CO2-Eq / kg] Methane, tetrachloro-, R-10 (IPCC 2007, climate change, GWP 100a)\n",
      " [51]      1 [GLO] [kg CO2-Eq / kg] Carbon dioxide, from soil or biomass stock (IPCC 2007, climate change, GWP 100a)\n",
      " [52] 7.14e+03 [GLO] [kg CO2-Eq / kg] Methane, bromotrifluoro-, Halon 1301 (IPCC 2007, climate change, GWP 100a)\n",
      " [53]  1e+04 [GLO] [kg CO2-Eq / kg] Ethane, 1,2-dichloro-1,1,2,2-tetrafluoro-, CFC-114 (IPCC 2007, climate change, GWP 100a)\n",
      " [54] 1.48e+04 [GLO] [kg CO2-Eq / kg] Methane, trifluoro-, HFC-23 (IPCC 2007, climate change, GWP 100a)\n",
      " [55]    124 [GLO] [kg CO2-Eq / kg] Ethane, 1,1-difluoro-, HFC-152a (IPCC 2007, climate change, GWP 100a)\n",
      " [56]     25 [GLO] [kg CO2-Eq / kg] Methane, fossil (IPCC 2007, climate change, GWP 100a)\n",
      " [57]     25 [GLO] [kg CO2-Eq / kg] Methane, non-fossil (IPCC 2007, climate change, GWP 100a)\n",
      " [58]    298 [GLO] [kg CO2-Eq / kg] Dinitrogen monoxide (IPCC 2007, climate change, GWP 100a)\n",
      " [59]    725 [GLO] [kg CO2-Eq / kg] Ethane, 1,1-dichloro-1-fluoro-, HCFC-141b (IPCC 2007, climate change, GWP 100a)\n",
      " [60] 4.47e+03 [GLO] [kg CO2-Eq / kg] Ethane, 1,1,1-trifluoro-, HFC-143a (IPCC 2007, climate change, GWP 100a)\n",
      " [61] 1.72e+04 [GLO] [kg CO2-Eq / kg] Nitrogen fluoride (IPCC 2007, climate change, GWP 100a)\n",
      " [62]     25 [GLO] [kg CO2-Eq / kg] Methane, fossil (IPCC 2007, climate change, GWP 100a)\n",
      " [63] 4.47e+03 [GLO] [kg CO2-Eq / kg] Ethane, 1,1,1-trifluoro-, HFC-143a (IPCC 2007, climate change, GWP 100a)\n",
      " [64] 4.47e+03 [GLO] [kg CO2-Eq / kg] Ethane, 1,1,1-trifluoro-, HFC-143a (IPCC 2007, climate change, GWP 100a)\n",
      " [65] 2.31e+03 [GLO] [kg CO2-Eq / kg] Ethane, 1-chloro-1,1-difluoro-, HCFC-142b (IPCC 2007, climate change, GWP 100a)\n",
      " [66] 7.37e+03 [GLO] [kg CO2-Eq / kg] Ethane, chloropentafluoro-, CFC-115 (IPCC 2007, climate change, GWP 100a)\n",
      " [67] 7.14e+03 [GLO] [kg CO2-Eq / kg] Methane, bromotrifluoro-, Halon 1301 (IPCC 2007, climate change, GWP 100a)\n",
      " [68]     25 [GLO] [kg CO2-Eq / kg] Methane, fossil (IPCC 2007, climate change, GWP 100a)\n",
      " [69]  1e+04 [GLO] [kg CO2-Eq / kg] Ethane, 1,2-dichloro-1,1,2,2-tetrafluoro-, CFC-114 (IPCC 2007, climate change, GWP 100a)\n",
      " [70] 4.75e+03 [GLO] [kg CO2-Eq / kg] Methane, trichlorofluoro-, CFC-11 (IPCC 2007, climate change, GWP 100a)\n",
      " [71] 1.89e+03 [GLO] [kg CO2-Eq / kg] Methane, bromochlorodifluoro-, Halon 1211 (IPCC 2007, climate change, GWP 100a)\n",
      " [72]    609 [GLO] [kg CO2-Eq / kg] Ethane, 2-chloro-1,1,1,2-tetrafluoro-, HCFC-124 (IPCC 2007, climate change, GWP 100a)\n",
      " [73] 1.43e+03 [GLO] [kg CO2-Eq / kg] Ethane, 1,1,1,2-tetrafluoro-, HFC-134a (IPCC 2007, climate change, GWP 100a)\n",
      " [74] 6.13e+03 [GLO] [kg CO2-Eq / kg] Ethane, 1,1,2-trichloro-1,2,2-trifluoro-, CFC-113 (IPCC 2007, climate change, GWP 100a)\n",
      " [75] 7.37e+03 [GLO] [kg CO2-Eq / kg] Ethane, chloropentafluoro-, CFC-115 (IPCC 2007, climate change, GWP 100a)\n",
      " [76] 1.48e+04 [GLO] [kg CO2-Eq / kg] Methane, trifluoro-, HFC-23 (IPCC 2007, climate change, GWP 100a)\n",
      " [77] 2.28e+04 [GLO] [kg CO2-Eq / kg] Sulfur hexafluoride (IPCC 2007, climate change, GWP 100a)\n",
      " [78] 1.4e+03 [GLO] [kg CO2-Eq / kg] Methane, tetrachloro-, R-10 (IPCC 2007, climate change, GWP 100a)\n",
      " [79]    210 [GLO] [kg CO2-Eq / kg] Methane, dichlorofluoro-, HCFC-21 (IPCC 2007, climate change, GWP 100a)\n",
      " [80]    725 [GLO] [kg CO2-Eq / kg] Ethane, 1,1-dichloro-1-fluoro-, HCFC-141b (IPCC 2007, climate change, GWP 100a)\n",
      " [81]      5 [GLO] [kg CO2-Eq / kg] Methane, bromo-, Halon 1001 (IPCC 2007, climate change, GWP 100a)\n",
      " [82] 1.22e+04 [GLO] [kg CO2-Eq / kg] Ethane, hexafluoro-, HFC-116 (IPCC 2007, climate change, GWP 100a)\n",
      " [83]    675 [GLO] [kg CO2-Eq / kg] Methane, difluoro-, HFC-32 (IPCC 2007, climate change, GWP 100a)\n",
      " [84]    675 [GLO] [kg CO2-Eq / kg] Methane, difluoro-, HFC-32 (IPCC 2007, climate change, GWP 100a)\n",
      " [85]      1 [GLO] [kg CO2-Eq / kg] Carbon dioxide, fossil (IPCC 2007, climate change, GWP 100a)\n",
      " [86] 3.5e+03 [GLO] [kg CO2-Eq / kg] Ethane, pentafluoro-, HFC-125 (IPCC 2007, climate change, GWP 100a)\n",
      " [87]    210 [GLO] [kg CO2-Eq / kg] Methane, dichlorofluoro-, HCFC-21 (IPCC 2007, climate change, GWP 100a)\n",
      " [88]    725 [GLO] [kg CO2-Eq / kg] Ethane, 1,1-dichloro-1-fluoro-, HCFC-141b (IPCC 2007, climate change, GWP 100a)\n",
      " [89] 1.4e+03 [GLO] [kg CO2-Eq / kg] Methane, tetrachloro-, R-10 (IPCC 2007, climate change, GWP 100a)\n",
      " [90]    124 [GLO] [kg CO2-Eq / kg] Ethane, 1,1-difluoro-, HFC-152a (IPCC 2007, climate change, GWP 100a)\n",
      " [91] 7.14e+03 [GLO] [kg CO2-Eq / kg] Methane, bromotrifluoro-, Halon 1301 (IPCC 2007, climate change, GWP 100a)\n",
      " [92]    298 [GLO] [kg CO2-Eq / kg] Dinitrogen monoxide (IPCC 2007, climate change, GWP 100a)\n",
      " [93]     25 [GLO] [kg CO2-Eq / kg] Methane, non-fossil (IPCC 2007, climate change, GWP 100a)\n",
      " [94]      1 [GLO] [kg CO2-Eq / kg] Carbon dioxide, from soil or biomass stock (IPCC 2007, climate change, GWP 100a)\n",
      " [95] 1.43e+03 [GLO] [kg CO2-Eq / kg] Ethane, 1,1,1,2-tetrafluoro-, HFC-134a (IPCC 2007, climate change, GWP 100a)\n",
      " [96]     -1 [GLO] [kg CO2-Eq / kg] Carbon dioxide, to soil or biomass stock (IPCC 2007, climate change, GWP 100a)\n",
      " [97]      1 [GLO] [kg CO2-Eq / kg] Carbon dioxide, from soil or biomass stock (IPCC 2007, climate change, GWP 100a)\n",
      " [98] 1.89e+03 [GLO] [kg CO2-Eq / kg] Methane, bromochlorodifluoro-, Halon 1211 (IPCC 2007, climate change, GWP 100a)\n",
      " [99] 1.4e+03 [GLO] [kg CO2-Eq / kg] Methane, tetrachloro-, R-10 (IPCC 2007, climate change, GWP 100a)\n",
      " [100] 1.4e+03 [GLO] [kg CO2-Eq / kg] Methane, tetrachloro-, R-10 (IPCC 2007, climate change, GWP 100a)\n",
      " [101] 1.81e+03 [GLO] [kg CO2-Eq / kg] Methane, chlorodifluoro-, HCFC-22 (IPCC 2007, climate change, GWP 100a)\n",
      " [102] 1.48e+04 [GLO] [kg CO2-Eq / kg] Methane, trifluoro-, HFC-23 (IPCC 2007, climate change, GWP 100a)\n",
      " [103] 1.81e+03 [GLO] [kg CO2-Eq / kg] Methane, chlorodifluoro-, HCFC-22 (IPCC 2007, climate change, GWP 100a)\n",
      " [104] 2.31e+03 [GLO] [kg CO2-Eq / kg] Ethane, 1-chloro-1,1-difluoro-, HCFC-142b (IPCC 2007, climate change, GWP 100a)\n",
      " [105]      5 [GLO] [kg CO2-Eq / kg] Methane, bromo-, Halon 1001 (IPCC 2007, climate change, GWP 100a)\n",
      " [106] 1.48e+04 [GLO] [kg CO2-Eq / kg] Methane, trifluoro-, HFC-23 (IPCC 2007, climate change, GWP 100a)\n",
      " [107]   1.57 [GLO] [kg CO2-Eq / kg] Carbon monoxide, fossil (IPCC 2007, climate change, GWP 100a)\n",
      " [108] 3.5e+03 [GLO] [kg CO2-Eq / kg] Ethane, pentafluoro-, HFC-125 (IPCC 2007, climate change, GWP 100a)\n",
      " [109] 6.13e+03 [GLO] [kg CO2-Eq / kg] Ethane, 1,1,2-trichloro-1,2,2-trifluoro-, CFC-113 (IPCC 2007, climate change, GWP 100a)\n",
      " [110] 4.75e+03 [GLO] [kg CO2-Eq / kg] Methane, trichlorofluoro-, CFC-11 (IPCC 2007, climate change, GWP 100a)\n",
      " [111]   1.57 [GLO] [kg CO2-Eq / kg] Carbon monoxide, fossil (IPCC 2007, climate change, GWP 100a)\n",
      " [112]   1.57 [GLO] [kg CO2-Eq / kg] Carbon monoxide, from soil or biomass stock (IPCC 2007, climate change, GWP 100a)\n",
      " [113] 1.81e+03 [GLO] [kg CO2-Eq / kg] Methane, chlorodifluoro-, HCFC-22 (IPCC 2007, climate change, GWP 100a)\n",
      " [114]     25 [GLO] [kg CO2-Eq / kg] Methane, non-fossil (IPCC 2007, climate change, GWP 100a)\n",
      " [115] 1.09e+04 [GLO] [kg CO2-Eq / kg] Methane, dichlorodifluoro-, CFC-12 (IPCC 2007, climate change, GWP 100a)\n",
      " [116] 2.28e+04 [GLO] [kg CO2-Eq / kg] Sulfur hexafluoride (IPCC 2007, climate change, GWP 100a)\n",
      " [117]     25 [GLO] [kg CO2-Eq / kg] Methane, from soil or biomass stock (IPCC 2007, climate change, GWP 100a)\n",
      " [118] 2.31e+03 [GLO] [kg CO2-Eq / kg] Ethane, 1-chloro-1,1-difluoro-, HCFC-142b (IPCC 2007, climate change, GWP 100a)\n",
      " [119]    609 [GLO] [kg CO2-Eq / kg] Ethane, 2-chloro-1,1,1,2-tetrafluoro-, HCFC-124 (IPCC 2007, climate change, GWP 100a)\n",
      " [120]      1 [GLO] [kg CO2-Eq / kg] Carbon dioxide, fossil (IPCC 2007, climate change, GWP 100a)\n",
      " [121]    124 [GLO] [kg CO2-Eq / kg] Ethane, 1,1-difluoro-, HFC-152a (IPCC 2007, climate change, GWP 100a)\n",
      " [122]      1 [GLO] [kg CO2-Eq / kg] Carbon dioxide, fossil (IPCC 2007, climate change, GWP 100a)\n",
      " [123]     13 [GLO] [kg CO2-Eq / kg] Methane, monochloro-, R-40 (IPCC 2007, climate change, GWP 100a)\n",
      " [124] 1.4e+04 [GLO] [kg CO2-Eq / kg] Methane, chlorotrifluoro-, CFC-13 (IPCC 2007, climate change, GWP 100a)\n",
      " [125] 1.72e+04 [GLO] [kg CO2-Eq / kg] Nitrogen fluoride (IPCC 2007, climate change, GWP 100a)\n",
      " [126] 1.72e+04 [GLO] [kg CO2-Eq / kg] Nitrogen fluoride (IPCC 2007, climate change, GWP 100a)\n",
      " [127]    609 [GLO] [kg CO2-Eq / kg] Ethane, 2-chloro-1,1,1,2-tetrafluoro-, HCFC-124 (IPCC 2007, climate change, GWP 100a)\n",
      " [128]    609 [GLO] [kg CO2-Eq / kg] Ethane, 2-chloro-1,1,1,2-tetrafluoro-, HCFC-124 (IPCC 2007, climate change, GWP 100a)\n",
      " [129] 1.89e+03 [GLO] [kg CO2-Eq / kg] Methane, bromochlorodifluoro-, Halon 1211 (IPCC 2007, climate change, GWP 100a)\n",
      " [130]     30 [GLO] [kg CO2-Eq / kg] Chloroform (IPCC 2007, climate change, GWP 100a)\n",
      " [131] 1.09e+04 [GLO] [kg CO2-Eq / kg] Methane, dichlorodifluoro-, CFC-12 (IPCC 2007, climate change, GWP 100a)\n",
      " [132]   1.57 [GLO] [kg CO2-Eq / kg] Carbon monoxide, from soil or biomass stock (IPCC 2007, climate change, GWP 100a)\n",
      " [133]     25 [GLO] [kg CO2-Eq / kg] Methane, from soil or biomass stock (IPCC 2007, climate change, GWP 100a)\n",
      " [134] 7.39e+03 [GLO] [kg CO2-Eq / kg] Methane, tetrafluoro-, R-14 (IPCC 2007, climate change, GWP 100a)\n",
      " [135]      1 [GLO] [kg CO2-Eq / kg] Carbon dioxide, fossil (IPCC 2007, climate change, GWP 100a)\n",
      " [136] 1.22e+04 [GLO] [kg CO2-Eq / kg] Ethane, hexafluoro-, HFC-116 (IPCC 2007, climate change, GWP 100a)\n",
      " [137] 1.48e+04 [GLO] [kg CO2-Eq / kg] Methane, trifluoro-, HFC-23 (IPCC 2007, climate change, GWP 100a)\n",
      " [138] 3.5e+03 [GLO] [kg CO2-Eq / kg] Ethane, pentafluoro-, HFC-125 (IPCC 2007, climate change, GWP 100a)\n",
      " [139]     25 [GLO] [kg CO2-Eq / kg] Methane, non-fossil (IPCC 2007, climate change, GWP 100a)\n",
      " [140]      1 [GLO] [kg CO2-Eq / kg] Carbon dioxide, from soil or biomass stock (IPCC 2007, climate change, GWP 100a)\n",
      " [141]    609 [GLO] [kg CO2-Eq / kg] Ethane, 2-chloro-1,1,1,2-tetrafluoro-, HCFC-124 (IPCC 2007, climate change, GWP 100a)\n",
      " [142]    725 [GLO] [kg CO2-Eq / kg] Ethane, 1,1-dichloro-1-fluoro-, HCFC-141b (IPCC 2007, climate change, GWP 100a)\n",
      " [143]    8.7 [GLO] [kg CO2-Eq / kg] Methane, dichloro-, HCC-30 (IPCC 2007, climate change, GWP 100a)\n",
      " [144]     25 [GLO] [kg CO2-Eq / kg] Methane, non-fossil (IPCC 2007, climate change, GWP 100a)\n",
      " [145] 4.47e+03 [GLO] [kg CO2-Eq / kg] Ethane, 1,1,1-trifluoro-, HFC-143a (IPCC 2007, climate change, GWP 100a)\n",
      " [146] 4.75e+03 [GLO] [kg CO2-Eq / kg] Methane, trichlorofluoro-, CFC-11 (IPCC 2007, climate change, GWP 100a)\n",
      " [147]     77 [GLO] [kg CO2-Eq / kg] Ethane, 2,2-dichloro-1,1,1-trifluoro-, HCFC-123 (IPCC 2007, climate change, GWP 100a)\n",
      " [148] 1.43e+03 [GLO] [kg CO2-Eq / kg] Ethane, 1,1,1,2-tetrafluoro-, HFC-134a (IPCC 2007, climate change, GWP 100a)\n",
      " [149] 1.89e+03 [GLO] [kg CO2-Eq / kg] Methane, bromochlorodifluoro-, Halon 1211 (IPCC 2007, climate change, GWP 100a)\n",
      " [150] 7.39e+03 [GLO] [kg CO2-Eq / kg] Methane, tetrafluoro-, R-14 (IPCC 2007, climate change, GWP 100a)\n",
      " [151] 1.72e+04 [GLO] [kg CO2-Eq / kg] Nitrogen fluoride (IPCC 2007, climate change, GWP 100a)\n",
      " [152]   1.57 [GLO] [kg CO2-Eq / kg] Carbon monoxide, from soil or biomass stock (IPCC 2007, climate change, GWP 100a)\n",
      " [153]     25 [GLO] [kg CO2-Eq / kg] Methane, from soil or biomass stock (IPCC 2007, climate change, GWP 100a)\n",
      " [154] 1.09e+04 [GLO] [kg CO2-Eq / kg] Methane, dichlorodifluoro-, CFC-12 (IPCC 2007, climate change, GWP 100a)\n",
      " [155]    675 [GLO] [kg CO2-Eq / kg] Methane, difluoro-, HFC-32 (IPCC 2007, climate change, GWP 100a)\n",
      " [156]    675 [GLO] [kg CO2-Eq / kg] Methane, difluoro-, HFC-32 (IPCC 2007, climate change, GWP 100a)\n",
      " [157]  1e+04 [GLO] [kg CO2-Eq / kg] Ethane, 1,2-dichloro-1,1,2,2-tetrafluoro-, CFC-114 (IPCC 2007, climate change, GWP 100a)\n",
      " [158]     30 [GLO] [kg CO2-Eq / kg] Chloroform (IPCC 2007, climate change, GWP 100a)\n",
      " [159] 1.81e+03 [GLO] [kg CO2-Eq / kg] Methane, chlorodifluoro-, HCFC-22 (IPCC 2007, climate change, GWP 100a)\n",
      " [160] 1.4e+04 [GLO] [kg CO2-Eq / kg] Methane, chlorotrifluoro-, CFC-13 (IPCC 2007, climate change, GWP 100a)\n",
      " [161] 3.5e+03 [GLO] [kg CO2-Eq / kg] Ethane, pentafluoro-, HFC-125 (IPCC 2007, climate change, GWP 100a)\n",
      " [162]     13 [GLO] [kg CO2-Eq / kg] Methane, monochloro-, R-40 (IPCC 2007, climate change, GWP 100a)\n",
      " [163]     30 [GLO] [kg CO2-Eq / kg] Chloroform (IPCC 2007, climate change, GWP 100a)\n",
      " [164] 1.09e+04 [GLO] [kg CO2-Eq / kg] Methane, dichlorodifluoro-, CFC-12 (IPCC 2007, climate change, GWP 100a)\n",
      " [165]      5 [GLO] [kg CO2-Eq / kg] Methane, bromo-, Halon 1001 (IPCC 2007, climate change, GWP 100a)\n",
      " [166]    210 [GLO] [kg CO2-Eq / kg] Methane, dichlorofluoro-, HCFC-21 (IPCC 2007, climate change, GWP 100a)\n",
      " [167] 7.39e+03 [GLO] [kg CO2-Eq / kg] Methane, tetrafluoro-, R-14 (IPCC 2007, climate change, GWP 100a)\n",
      " [168]     13 [GLO] [kg CO2-Eq / kg] Methane, monochloro-, R-40 (IPCC 2007, climate change, GWP 100a)\n",
      " [169] 1.44e+04 [GLO] [kg CO2-Eq / kg] Methane, chlorotrifluoro-, CFC-13 (IPCC 2007, climate change, GWP 100a)\n",
      " [170] 2.31e+03 [GLO] [kg CO2-Eq / kg] Ethane, 1-chloro-1,1-difluoro-, HCFC-142b (IPCC 2007, climate change, GWP 100a)\n",
      " [171] 7.14e+03 [GLO] [kg CO2-Eq / kg] Methane, bromotrifluoro-, Halon 1301 (IPCC 2007, climate change, GWP 100a)\n",
      " [172] 1.4e+04 [GLO] [kg CO2-Eq / kg] Methane, chlorotrifluoro-, CFC-13 (IPCC 2007, climate change, GWP 100a)\n",
      " [173] 2.28e+04 [GLO] [kg CO2-Eq / kg] Sulfur hexafluoride (IPCC 2007, climate change, GWP 100a)\n",
      " [174]    210 [GLO] [kg CO2-Eq / kg] Methane, dichlorofluoro-, HCFC-21 (IPCC 2007, climate change, GWP 100a)\n",
      " [175] 4.47e+03 [GLO] [kg CO2-Eq / kg] Ethane, 1,1,1-trifluoro-, HFC-143a (IPCC 2007, climate change, GWP 100a)\n",
      " [176]     77 [GLO] [kg CO2-Eq / kg] Ethane, 2,2-dichloro-1,1,1-trifluoro-, HCFC-123 (IPCC 2007, climate change, GWP 100a)\n",
      " [177]    725 [GLO] [kg CO2-Eq / kg] Ethane, 1,1-dichloro-1-fluoro-, HCFC-141b (IPCC 2007, climate change, GWP 100a)\n",
      " [178] 1.22e+04 [GLO] [kg CO2-Eq / kg] Ethane, hexafluoro-, HFC-116 (IPCC 2007, climate change, GWP 100a)\n",
      " [179] 7.39e+03 [GLO] [kg CO2-Eq / kg] Methane, tetrafluoro-, R-14 (IPCC 2007, climate change, GWP 100a)\n",
      " [180]    298 [GLO] [kg CO2-Eq / kg] Dinitrogen monoxide (IPCC 2007, climate change, GWP 100a)\n",
      " [181]     77 [GLO] [kg CO2-Eq / kg] Ethane, 2,2-dichloro-1,1,1-trifluoro-, HCFC-123 (IPCC 2007, climate change, GWP 100a)\n",
      " [182] 1.43e+03 [GLO] [kg CO2-Eq / kg] Ethane, 1,1,1,2-tetrafluoro-, HFC-134a (IPCC 2007, climate change, GWP 100a)\n",
      " [183]  1e+04 [GLO] [kg CO2-Eq / kg] Ethane, 1,2-dichloro-1,1,2,2-tetrafluoro-, CFC-114 (IPCC 2007, climate change, GWP 100a)\n",
      " [184] 6.13e+03 [GLO] [kg CO2-Eq / kg] Ethane, 1,1,2-trichloro-1,2,2-trifluoro-, CFC-113 (IPCC 2007, climate change, GWP 100a)\n",
      " [185]      5 [GLO] [kg CO2-Eq / kg] Methane, bromo-, Halon 1001 (IPCC 2007, climate change, GWP 100a)\n",
      " [186]   1.57 [GLO] [kg CO2-Eq / kg] Carbon monoxide, fossil (IPCC 2007, climate change, GWP 100a)\n",
      " [187] 6.13e+03 [GLO] [kg CO2-Eq / kg] Ethane, 1,1,2-trichloro-1,2,2-trifluoro-, CFC-113 (IPCC 2007, climate change, GWP 100a)\n",
      " [188] 7.39e+03 [GLO] [kg CO2-Eq / kg] Methane, tetrafluoro-, R-14 (IPCC 2007, climate change, GWP 100a)\n"
     ]
    }
   ],
   "source": [
    "_ = enum(ipccs[1].factors())"
   ]
  },
  {
   "cell_type": "code",
   "execution_count": 84,
   "metadata": {},
   "outputs": [
    {
     "name": "stdout",
     "output_type": "stream",
     "text": [
      "IPCC 2007, climate change, GWP 100a [kg CO2-Eq] [LCIA] kg CO2-Eq\n",
      "------------------------------------------------------------\n",
      "      1.33  [local.ecoinvent.3.4.cutoff] Carbon dioxide, from soil or biomass stock [kg]\n",
      "     0.897  [local.ecoinvent.3.4.cutoff] Carbon dioxide, fossil [kg]\n",
      "     0.414  [local.ecoinvent.3.4.cutoff] Dinitrogen monoxide [kg]\n",
      "      0.41  [local.ecoinvent.3.4.cutoff] Carbon dioxide, fossil [kg]\n",
      "     0.141  [local.ecoinvent.3.4.cutoff] Carbon dioxide, fossil [kg]\n",
      "    0.0963  [local.ecoinvent.3.4.cutoff] Dinitrogen monoxide [kg]\n",
      "    0.0877  [local.ecoinvent.3.4.cutoff] Methane, fossil [kg]\n",
      "    0.0195  [local.ecoinvent.3.4.cutoff] Methane, from soil or biomass stock [kg]\n",
      "    0.0187  [local.ecoinvent.3.4.cutoff] Carbon monoxide, from soil or biomass stock [kg]\n",
      "    0.0186  [local.ecoinvent.3.4.cutoff] Methane, fossil [kg]\n",
      "    0.0101  [local.ecoinvent.3.4.cutoff] Methane, fossil [kg]\n",
      "   0.00349  [local.ecoinvent.3.4.cutoff] Dinitrogen monoxide [kg]\n",
      "   0.00283  [local.ecoinvent.3.4.cutoff] Carbon dioxide, from soil or biomass stock [kg]\n",
      "   0.00272  [local.ecoinvent.3.4.cutoff] Sulfur hexafluoride [kg]\n",
      "   0.00213  [local.ecoinvent.3.4.cutoff] Carbon monoxide, fossil [kg]\n",
      "   0.00213  [local.ecoinvent.3.4.cutoff] Methane, non-fossil [kg]\n",
      "   0.00202  [local.ecoinvent.3.4.cutoff] Carbon monoxide, fossil [kg]\n",
      "   0.00165  [local.ecoinvent.3.4.cutoff] Carbon monoxide, fossil [kg]\n",
      "  0.000593  [local.ecoinvent.3.4.cutoff] Methane, tetrafluoro-, R-14 [kg]\n",
      "  0.000467  [local.ecoinvent.3.4.cutoff] Methane, tetrachloro-, R-10 [kg]\n",
      "  0.000165  [local.ecoinvent.3.4.cutoff] Ethane, 1,2-dichloro-1,1,2,2-tetrafluoro-, CFC-114 [kg]\n",
      "  0.000108  [local.ecoinvent.3.4.cutoff] Methane, non-fossil [kg]\n",
      "  9.55e-05  [local.ecoinvent.3.4.cutoff] Carbon monoxide, non-fossil [kg]\n",
      "  8.44e-05  [local.ecoinvent.3.4.cutoff] Ethane, hexafluoro-, HFC-116 [kg]\n",
      "  7.17e-05  [local.ecoinvent.3.4.cutoff] Ethane, hexafluoro-, HFC-116 [kg]\n",
      "  7.03e-05  [local.ecoinvent.3.4.cutoff] Methane, chlorodifluoro-, HCFC-22 [kg]\n",
      "  5.18e-05  [local.ecoinvent.3.4.cutoff] Methane, bromotrifluoro-, Halon 1301 [kg]\n",
      "  4.41e-05  [local.ecoinvent.3.4.cutoff] Methane, trifluoro-, HFC-23 [kg]\n",
      "  1.65e-05  [local.ecoinvent.3.4.cutoff] Carbon monoxide, non-fossil [kg]\n",
      "  1.47e-05  [local.ecoinvent.3.4.cutoff] Methane, dichlorodifluoro-, CFC-12 [kg]\n",
      "  1.16e-05  [local.ecoinvent.3.4.cutoff] Chloroform [kg]\n",
      "  9.92e-06  [local.ecoinvent.3.4.cutoff] Methane, bromochlorodifluoro-, Halon 1211 [kg]\n",
      "  7.24e-06  [local.ecoinvent.3.4.cutoff] Carbon dioxide, fossil [kg]\n",
      "   6.8e-06  [local.ecoinvent.3.4.cutoff] Methane, chlorodifluoro-, HCFC-22 [kg]\n",
      "  2.86e-06  [local.ecoinvent.3.4.cutoff] Ethane, 1,1,1,2-tetrafluoro-, HFC-134a [kg]\n",
      "  1.16e-06  [local.ecoinvent.3.4.cutoff] Ethane, 1,1-difluoro-, HFC-152a [kg]\n",
      "  7.93e-07  [local.ecoinvent.3.4.cutoff] Ethane, 1,1,1,2-tetrafluoro-, HFC-134a [kg]\n",
      "  6.82e-07  [local.ecoinvent.3.4.cutoff] Ethane, 1,1,2-trichloro-1,2,2-trifluoro-, CFC-113 [kg]\n",
      "  6.43e-07  [local.ecoinvent.3.4.cutoff] Methane, tetrafluoro-, R-14 [kg]\n",
      "  6.12e-07  [local.ecoinvent.3.4.cutoff] Ethane, 1,1,2-trichloro-1,2,2-trifluoro-, CFC-113 [kg]\n",
      "  3.79e-07  [local.ecoinvent.3.4.cutoff] Sulfur hexafluoride [kg]\n",
      "   3.6e-07  [local.ecoinvent.3.4.cutoff] Ethane, 1,1,2-trichloro-1,2,2-trifluoro-, CFC-113 [kg]\n",
      "  3.44e-07  [local.ecoinvent.3.4.cutoff] Dinitrogen monoxide [kg]\n",
      "   3.4e-07  [local.ecoinvent.3.4.cutoff] Ethane, 1,1,1,2-tetrafluoro-, HFC-134a [kg]\n",
      "  2.55e-07  [local.ecoinvent.3.4.cutoff] Methane, dichloro-, HCC-30 [kg]\n",
      "  1.95e-07  [local.ecoinvent.3.4.cutoff] Methane, monochloro-, R-40 [kg]\n",
      "   1.1e-07  [local.ecoinvent.3.4.cutoff] Methane, non-fossil [kg]\n",
      "  1.04e-07  [local.ecoinvent.3.4.cutoff] Methane [kg]\n",
      "  8.33e-08  [local.ecoinvent.3.4.cutoff] Chloroform [kg]\n",
      "  7.14e-08  [local.ecoinvent.3.4.cutoff] Methane, dichloro-, HCC-30 [kg]\n",
      "  6.77e-08  [local.ecoinvent.3.4.cutoff] Ethane, 2-chloro-1,1,1,2-tetrafluoro-, HCFC-124 [kg]\n",
      "  6.73e-08  [local.ecoinvent.3.4.cutoff] Carbon monoxide, non-fossil [kg]\n",
      "   6.7e-08  [local.ecoinvent.3.4.cutoff] Methane, dichlorodifluoro-, CFC-12 [kg]\n",
      "   4.9e-08  [local.ecoinvent.3.4.cutoff] Methane, trichlorofluoro-, CFC-11 [kg]\n",
      "  2.05e-08  [local.ecoinvent.3.4.cutoff] Dinitrogen monoxide [kg]\n",
      "  1.34e-08  [local.ecoinvent.3.4.cutoff] Carbon monoxide, fossil [kg]\n",
      "  1.07e-08  [local.ecoinvent.3.4.cutoff] Methane, tetrachloro-, R-10 [kg]\n",
      "  6.28e-09  [local.ecoinvent.3.4.cutoff] Ethane, 1,1-difluoro-, HFC-152a [kg]\n",
      "   5.6e-09  [local.ecoinvent.3.4.cutoff] Methane, dichloro-, HCC-30 [kg]\n",
      "  2.87e-09  [local.ecoinvent.3.4.cutoff] Methane, fossil [kg]\n",
      "  1.97e-09  [local.ecoinvent.3.4.cutoff] Methane, dichlorofluoro-, HCFC-21 [kg]\n",
      "  1.86e-10  [local.ecoinvent.3.4.cutoff] Methane, dichlorodifluoro-, CFC-12 [kg]\n",
      "   1.2e-10  [local.ecoinvent.3.4.cutoff] Methane, bromotrifluoro-, Halon 1301 [kg]\n",
      "  2.35e-11  [local.ecoinvent.3.4.cutoff] Sulfur hexafluoride [kg]\n",
      "  4.42e-12  [local.ecoinvent.3.4.cutoff] Nitrogen fluoride [kg]\n",
      "  2.85e-13  [local.ecoinvent.3.4.cutoff] Chloroform [kg]\n",
      "  1.29e-13  [local.ecoinvent.3.4.cutoff] Methane, bromo-, Halon 1001 [kg]\n",
      "  6.91e-19  [local.ecoinvent.3.4.cutoff] Methane, chlorodifluoro-, HCFC-22 [kg]\n",
      "  9.62e-22  [local.ecoinvent.3.4.cutoff] Methane, bromo-, Halon 1001 [kg]\n",
      "         0  [local.ecoinvent.3.4.cutoff] Carbon dioxide, non-fossil [kg]\n",
      "         0  [local.ecoinvent.3.4.cutoff] Carbon dioxide, non-fossil [kg]\n",
      "         0  [local.ecoinvent.3.4.cutoff] Carbon dioxide, non-fossil [kg]\n",
      "         0  [local.ecoinvent.3.4.cutoff] Carbon dioxide, in air [kg]\n",
      " -6.74e-05  [local.ecoinvent.3.4.cutoff] Carbon dioxide, to soil or biomass stock [kg]\n",
      "==========\n",
      "      3.46 IPCC 2007, climate change, GWP 100a [kg CO2-Eq] [LCIA]\n"
     ]
    }
   ],
   "source": [
    "ipccs[1].do_lcia(lci).show_components()"
   ]
  }
 ],
 "metadata": {
  "kernelspec": {
   "display_name": "lca-tools",
   "language": "python",
   "name": "lca-tools"
  },
  "language_info": {
   "codemirror_mode": {
    "name": "ipython",
    "version": 3
   },
   "file_extension": ".py",
   "mimetype": "text/x-python",
   "name": "python",
   "nbconvert_exporter": "python",
   "pygments_lexer": "ipython3",
   "version": "3.7.2"
  }
 },
 "nbformat": 4,
 "nbformat_minor": 2
}
