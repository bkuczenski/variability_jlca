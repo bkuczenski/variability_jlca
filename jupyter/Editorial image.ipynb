{
 "cells": [
  {
   "cell_type": "code",
   "execution_count": 1,
   "metadata": {},
   "outputs": [
    {
     "name": "stdout",
     "output_type": "stream",
     "text": [
      "Loading JSON data from /data/GitHub/lca-tools/lcatools/qdb/data/flowable_synlist.json:\n",
      "Loading JSON data from /data/GitHub/lca-tools/lcatools/qdb/data/quantity_synlist.json:\n",
      "local.qdb: /data/GitHub/2018/variability_jlca/catalog/reference-quantities.json\n",
      "Loading JSON data from /data/GitHub/2018/variability_jlca/catalog/reference-quantities.json:\n",
      "local.qdb: /data/GitHub/lca-tools/lcatools/qdb/data/elcd_reference_quantities.json\n",
      "6 new flow entities added (6 total)\n",
      "25 new quantity entities added (25 total)\n"
     ]
    }
   ],
   "source": [
    "import sys\n",
    "import re\n",
    "import time\n",
    "from antelope_catalog import LcCatalog\n",
    "STUDY_PATH = '/data/GitHub/2018/variability_jlca/'\n",
    "DATA_PATH = '/data/GitHub/python-work/lca-tools/Case Studies/Ecoinvent Variability'\n",
    "\n",
    "sys.path.append(STUDY_PATH)\n",
    "\n",
    "cat = LcCatalog(STUDY_PATH + 'catalog', quell_biogenic_co2=True)"
   ]
  },
  {
   "cell_type": "code",
   "execution_count": 2,
   "metadata": {},
   "outputs": [],
   "source": [
    "method = ('ReCiPe Midpoint (H)', 'climate change', 'GWP100')\n",
    "\n",
    "M_GLY = '4d024c87-fcab-4980-9347-c3bee224671f'\n",
    "\n",
    "# from spreadsheet from Liila Woods 2019-01-10\n",
    "ts_data = {\n",
    "    'processes': ['DE: Glycerine (from Epichlor.) ts',\n",
    "                  'DE: Glycerine from RME ($ alloc) ts'],\n",
    "    'linestyles': [\n",
    "        {\n",
    "            'linestyle': ':',\n",
    "            'color': [1, 0, 0]\n",
    "        },\n",
    "        {\n",
    "            'linestyle': '-.',\n",
    "            'color': [0, 0, 1]\n",
    "        }\n",
    "    ],\n",
    "    method: [8.23562061020724, 0.514477097381447]\n",
    "}"
   ]
  },
  {
   "cell_type": "code",
   "execution_count": 3,
   "metadata": {},
   "outputs": [],
   "source": [
    "from lca_variability import MarketIterator"
   ]
  },
  {
   "cell_type": "code",
   "execution_count": 4,
   "metadata": {},
   "outputs": [
    {
     "name": "stdout",
     "output_type": "stream",
     "text": [
      "local.lcia.ecoinvent.3.1: /data/LCI/Ecoinvent/LCIA/LCIA implementation v3.1 2014_08_13.xlsx\n",
      "Loading JSON data from /data/GitHub/2018/variability_jlca/catalog/cache/cfa3982d248fbdf0224e3ebad316063c182bbbbd.json.gz:\n",
      "local.lcia.ecoinvent.3.1: /data/GitHub/2018/variability_jlca/catalog/cache/cfa3982d248fbdf0224e3ebad316063c182bbbbd.json.gz\n",
      "3255 new flow entities added (3255 total)\n",
      "703 new quantity entities added (703 total)\n",
      "local.ecoinvent.3.4.apos: /data/LCI/Ecoinvent/3.4/ecoinvent 3.4_apos_ecoSpold02\n"
     ]
    }
   ],
   "source": [
    "mi_path = STUDY_PATH + 'mkt_var_apos.json'\n",
    "mi_apos = MarketIterator.restore(mi_path, cat)"
   ]
  },
  {
   "cell_type": "code",
   "execution_count": 5,
   "metadata": {},
   "outputs": [],
   "source": [
    "from lca_variability import initialize_activity, initialize_market_model"
   ]
  },
  {
   "cell_type": "code",
   "execution_count": 6,
   "metadata": {},
   "outputs": [
    {
     "name": "stdout",
     "output_type": "stream",
     "text": [
      "Loading JSON data from /data/GitHub/2018/variability_jlca/jupyter/BW2_MCA_4d024c87-fcab-4980-9347-c3bee224671f.json.gz:\n",
      "Up to date with 5000 samples, 4 methods\n",
      "Loading JSON data from /data/GitHub/2018/variability_jlca/jupyter/BW2_MktWt_4d024c87-fcab-4980-9347-c3bee224671f.json.gz:\n",
      "Up to date with 5000 samples, 4 methods\n"
     ]
    },
    {
     "name": "stderr",
     "output_type": "stream",
     "text": [
      "/data/virtualenvs/lca-tools/lib/python3.7/site-packages/scikits/umfpack/umfpack.py:721: UmfpackWarning: (almost) singular matrix! (estimated cond. number: 2.97e+13)\n",
      "  warnings.warn(msg, UmfpackWarning)\n"
     ]
    }
   ],
   "source": [
    "gly_a = initialize_activity('ei3.4 apos', M_GLY)\n",
    "gly_mkt = initialize_market_model('ei3.4 apos', M_GLY)"
   ]
  },
  {
   "cell_type": "code",
   "execution_count": 7,
   "metadata": {},
   "outputs": [
    {
     "name": "stdout",
     "output_type": "stream",
     "text": [
      "Up to date with 5000 samples, 4 methods\n"
     ]
    }
   ],
   "source": [
    "gly_mkt.steps = 5000"
   ]
  },
  {
   "cell_type": "code",
   "execution_count": 8,
   "metadata": {},
   "outputs": [],
   "source": [
    "from lca_variability.mca_charts import mc_mkt_combo, TraceLine"
   ]
  },
  {
   "cell_type": "code",
   "execution_count": 9,
   "metadata": {},
   "outputs": [],
   "source": [
    "gly_study = mi_apos.get_result(M_GLY)"
   ]
  },
  {
   "cell_type": "code",
   "execution_count": 10,
   "metadata": {},
   "outputs": [],
   "source": [
    "from matplotlib import pyplot as plt\n",
    "%matplotlib inline"
   ]
  },
  {
   "cell_type": "code",
   "execution_count": 11,
   "metadata": {},
   "outputs": [],
   "source": [
    "db_map = {'local.ecoinvent.3.4.apos': ('ei3.4 apos', mi_apos),\n",
    "          'local.ecoinvent.3.4.cutoff': ('ei3.4 cutoff', None)}\n",
    "\n",
    "def mkt_flat_compare(_study, _mc_flat, _mc_mkt, _method, **kwargs):\n",
    "    index, _q = next((i, v) for i, v in enumerate(_study.quantities) if v['Indicator'] == _method[2])\n",
    "    print('%d %s' % (index, _q))\n",
    "    fig = plt.figure(figsize=(12, 8))\n",
    "    tr=[TraceLine(_study.market_scores[index], label='Market average')]\n",
    "    \n",
    "    # ts traces\n",
    "    if _study.market.external_ref == M_GLY:\n",
    "        if _method in ts_data:\n",
    "            data = ts_data[_method]\n",
    "            styles = ts_data['linestyles']\n",
    "            for i, p in enumerate(ts_data['processes']):\n",
    "                tr.append(TraceLine(data[i], label=p, **styles[i]))\n",
    "\n",
    "    _ax = [plt.subplot(2, 1, 1)]\n",
    "    annot = {'title': _study.market,\n",
    "             'method': '%s: %s [%s]' % _method,\n",
    "             'ei': db_map[_study.market.origin][0]\n",
    "            }\n",
    "    \n",
    "    mc_mkt_combo(_ax[0], _study.scores(_q), _study.exchange_values, _mc_flat.scores(_method),\n",
    "                 annot=annot, traces=tr, **kwargs)\n",
    "    _ax[0].set_xlabel('')\n",
    "    _ax[0].legend()\n",
    "    \n",
    "    \n",
    "    _ax.append(plt.subplot(2, 1, 2))\n",
    "    annot['title'] = ''\n",
    "\n",
    "    mc_mkt_combo(_ax[1], _study.scores(_q), _study.exchange_values, _mc_mkt.scores(_method),\n",
    "                 annot=annot, traces=tr, bins=80, **kwargs)\n",
    "    \n",
    "    xmin = min([ax.get_xlim()[0] for ax in _ax])\n",
    "    xmax = max([ax.get_xlim()[1] for ax in _ax])\n",
    "    for ax in _ax:\n",
    "        ax.set_xlim([xmin, xmax])\n"
   ]
  },
  {
   "cell_type": "code",
   "execution_count": 12,
   "metadata": {},
   "outputs": [
    {
     "name": "stdout",
     "output_type": "stream",
     "text": [
      "local.ecoinvent.3.4.apos.index.20190118: /data/GitHub/2018/variability_jlca/catalog/archives/local.ecoinvent.3.4.apos.index.20190118_background.mat\n",
      "Loading JSON data from /data/GitHub/2018/variability_jlca/catalog/archives/local.ecoinvent.3.4.apos.index.20190118_background.mat.index.json.gz:\n",
      "completed 65 iterations\n",
      "Loading JSON data from /data/GitHub/2018/variability_jlca/catalog/index/a57075ecd68e35920696904ec830bc522fc6b2b2.json.gz:\n",
      "local.ecoinvent.3.4.apos.index.20190118: /data/GitHub/2018/variability_jlca/catalog/index/a57075ecd68e35920696904ec830bc522fc6b2b2.json.gz\n",
      "local.ecoinvent.3.4.apos: /data/LCI/Ecoinvent/3.4/ecoinvent 3.4_apos_ecoSpold02\n",
      "13290 new process entities added (13290 total)\n",
      "4851 new flow entities added (4851 total)\n",
      "19 new quantity entities added (19 total)\n",
      "Multiple CFs found: [22.25, 25.0]\n",
      "Flow: [local.ecoinvent.3.4.apos] Methane, non-fossil [kg] [[kg]]\n",
      "Quantity: ReCiPe Midpoint (H), climate change, GWP100 [kg CO2-Eq] [LCIA]\n",
      "Multiple CFs found: [25.0, 22.25]\n",
      "Flow: [local.ecoinvent.3.4.apos] Methane, non-fossil [kg] [[kg]]\n",
      "Quantity: ReCiPe Midpoint (H), climate change, GWP100 [kg CO2-Eq] [LCIA]\n",
      "Multiple CFs found: [22.25, 25.0]\n",
      "Flow: [local.ecoinvent.3.4.apos] Methane, non-fossil [kg] [[kg]]\n",
      "Quantity: ReCiPe Midpoint (H), climate change, GWP100 [kg CO2-Eq] [LCIA]\n"
     ]
    }
   ],
   "source": [
    "gly_study.add_scores(mi_apos._query)"
   ]
  },
  {
   "cell_type": "code",
   "execution_count": 14,
   "metadata": {},
   "outputs": [
    {
     "name": "stdout",
     "output_type": "stream",
     "text": [
      "0 [local.lcia.ecoinvent.3.1] ReCiPe Midpoint (H), climate change, GWP100 [kg CO2-Eq]\n"
     ]
    },
    {
     "data": {
      "image/png": "[encoded data removed]",
      "text/plain": [
       "<Figure size 864x576 with 2 Axes>"
      ]
     },
     "metadata": {
      "needs_background": "light"
     },
     "output_type": "display_data"
    }
   ],
   "source": [
    "mkt_flat_compare(gly_study, gly_a, gly_mkt, method, log_correct=True, show_ci=True)\n",
    "plt.savefig('glycerine_ed_img.eps', format='eps', bbox_inches='tight', transparent=True)"
   ]
  }
 ],
 "metadata": {
  "kernelspec": {
   "display_name": "lca-tools",
   "language": "python",
   "name": "lca-tools"
  },
  "language_info": {
   "codemirror_mode": {
    "name": "ipython",
    "version": 3
   },
   "file_extension": ".py",
   "mimetype": "text/x-python",
   "name": "python",
   "nbconvert_exporter": "python",
   "pygments_lexer": "ipython3",
   "version": "3.7.2"
  }
 },
 "nbformat": 4,
 "nbformat_minor": 2
}
