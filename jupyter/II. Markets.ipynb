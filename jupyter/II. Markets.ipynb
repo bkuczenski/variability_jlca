{
 "cells": [
  {
   "cell_type": "code",
   "execution_count": 1,
   "metadata": {
    "collapsed": true,
    "deletable": true,
    "editable": true
   },
   "outputs": [],
   "source": [
    "from antelope_catalog.providers import EcoinventLcia\n"
   ]
  },
  {
   "cell_type": "code",
   "execution_count": 2,
   "metadata": {
    "collapsed": false,
    "deletable": true,
    "editable": true
   },
   "outputs": [
    {
     "name": "stdout",
     "output_type": "stream",
     "text": [
      "local.ecoinvent.3.1.lcia: /data/LCI/LCIA implementation v3.1 2014_08_13.xlsx\n",
      "Loading /data/LCI/LCIA implementation v3.1 2014_08_13.xlsx\n",
      "702 new quantity entities added (702 total)\n",
      "3255 new flow entities added (3255 total)\n",
      "CPU times: user 24.7 s, sys: 254 ms, total: 25 s\n",
      "Wall time: 25.1 s\n"
     ]
    }
   ],
   "source": [
    "L = EcoinventLcia('/data/LCI/LCIA implementation v3.1 2014_08_13.xlsx', ns_uuid='46802ca5-8b25-398c-af10-2376adaa4623')\n",
    "%time L.load_all()\n",
    "Lqi = L.make_interface('quantity')"
   ]
  },
  {
   "cell_type": "code",
   "execution_count": 5,
   "metadata": {
    "collapsed": false,
    "deletable": true,
    "editable": true
   },
   "outputs": [
    {
     "name": "stdout",
     "output_type": "stream",
     "text": [
      " [00] ReCiPe Midpoint (H), climate change, GWP100 [kg CO2-Eq] [LCIA]\n",
      " [01] ReCiPe Midpoint (H), terrestrial acidification, TAP100 [kg SO2-Eq] [LCIA]\n",
      " [02] ReCiPe Midpoint (H), photochemical oxidant formation, POFP [kg NMVOC] [LCIA]\n",
      " [03] ReCiPe Midpoint (H), particulate matter formation, PMFP [kg PM10-Eq] [LCIA]\n",
      " [04] ReCiPe Midpoint (H), fossil depletion, FDP [kg oil-Eq] [LCIA]\n",
      " [05] ReCiPe Midpoint (H), ozone depletion, ODPinf [kg CFC-11-Eq] [LCIA]\n",
      " [06] ReCiPe Midpoint (H), marine ecotoxicity, METPinf [kg 1,4-DCB-Eq] [LCIA]\n",
      " [07] ReCiPe Midpoint (H), natural land transformation, NLTP [m2] [LCIA]\n",
      " [08] ReCiPe Midpoint (H), water depletion, WDP [m3] [LCIA]\n",
      " [09] ReCiPe Midpoint (H), human toxicity, HTPinf [kg 1,4-DCB-Eq] [LCIA]\n",
      " [10] ReCiPe Midpoint (H), freshwater eutrophication, FEP [kg P-Eq] [LCIA]\n",
      " [11] ReCiPe Midpoint (H), metal depletion, MDP [kg Fe-Eq] [LCIA]\n",
      " [12] ReCiPe Midpoint (H), freshwater ecotoxicity, FETPinf [kg 1,4-DCB-Eq] [LCIA]\n",
      " [13] ReCiPe Midpoint (H), agricultural land occupation, ALOP [m2a] [LCIA]\n",
      " [14] ReCiPe Midpoint (H), urban land occupation, ULOP [m2a] [LCIA]\n",
      " [15] ReCiPe Midpoint (H), terrestrial ecotoxicity, TETPinf [kg 1,4-DCB-Eq] [LCIA]\n",
      " [16] ReCiPe Midpoint (H), ionising radiation, IRP_HE [kg U235-Eq] [LCIA]\n",
      " [17] ReCiPe Midpoint (H), marine eutrophication, MEP [kg N-Eq] [LCIA]\n"
     ]
    }
   ],
   "source": [
    "recipes = [x for x in L.make_interface('index').lcia_methods(Method='recipe midpoint \\(H\\)$')]\n",
    "mass = next(L.make_interface('index').quantities(Name='^mass'))"
   ]
  },
  {
   "cell_type": "code",
   "execution_count": 6,
   "metadata": {
    "collapsed": true,
    "deletable": true,
    "editable": true
   },
   "outputs": [],
   "source": [
    "from lcatools.qdb import Qdb"
   ]
  },
  {
   "cell_type": "code",
   "execution_count": 31,
   "metadata": {
    "collapsed": false,
    "deletable": true,
    "editable": true
   },
   "outputs": [
    {
     "name": "stdout",
     "output_type": "stream",
     "text": [
      "Loading JSON data from /data/GitHub/lca-tools/lcatools/qdb/data/flowable_synlist.json:\n",
      "Loading JSON data from /data/GitHub/lca-tools/lcatools/qdb/data/quantity_synlist.json:\n",
      "local.qdb: /data/GitHub/lca-tools/lcatools/qdb/data/elcd_reference_quantities.json\n",
      "Loading JSON data from /data/GitHub/lca-tools/lcatools/qdb/data/elcd_reference_quantities.json:\n",
      "local.qdb: /data/GitHub/lca-tools/lcatools/providers/data/elcd_reference_quantities.json\n",
      "24 new quantity entities added (24 total)\n",
      "5 new flow entities added (5 total)\n"
     ]
    }
   ],
   "source": [
    "qdb = Qdb(quell_biogenic_CO2=True)\n",
    "qdb._q.add_synonyms('Mass', mass.uuid)\n",
    "for q in recipes:\n",
    "    for cf in Lqi.factors(q):\n",
    "        qdb.add_cf(cf)"
   ]
  },
  {
   "cell_type": "markdown",
   "metadata": {
    "deletable": true,
    "editable": true
   },
   "source": [
    "# Part II. Markets\n",
    "For this next part I will look for markets that conceal variability."
   ]
  },
  {
   "cell_type": "code",
   "execution_count": 12,
   "metadata": {
    "collapsed": true,
    "deletable": true,
    "editable": true
   },
   "outputs": [],
   "source": [
    "from antelope_background.background import tarjan_background\n",
    "from lcatools import archive_from_json, enum"
   ]
  },
  {
   "cell_type": "code",
   "execution_count": 16,
   "metadata": {
    "collapsed": false,
    "deletable": true,
    "editable": true
   },
   "outputs": [
    {
     "name": "stdout",
     "output_type": "stream",
     "text": [
      "Loading JSON data from /data/LCI/Ecoinvent/3.4/cutoff_index.json.gz:\n",
      "local.ecoinvent.3.4.cutoff.index__20180904: /data/LCI/Ecoinvent/3.4/cutoff_index.json.gz\n",
      "local.ecoinvent.3.4.cutoff: /data/LCI/Ecoinvent/3.4/ecoinvent 3.4_cutoff_ecoSpold02\n",
      "19 new quantity entities added (19 total)\n",
      "13459 new process entities added (13459 total)\n",
      "4881 new flow entities added (4881 total)\n",
      "CPU times: user 1.61 s, sys: 43.2 ms, total: 1.65 s\n",
      "Wall time: 1.66 s\n"
     ]
    }
   ],
   "source": [
    "%time e34c_i = archive_from_json('/data/LCI/Ecoinvent/3.4/cutoff_index.json.gz').make_interface('index')"
   ]
  },
  {
   "cell_type": "code",
   "execution_count": 20,
   "metadata": {
    "collapsed": false,
    "deletable": true,
    "editable": true
   },
   "outputs": [
    {
     "name": "stdout",
     "output_type": "stream",
     "text": [
      "Loading JSON data from /data/LCI/Ecoinvent/3.4/cutoff_bg_tarjan.mat.index.json.gz:\n",
      "CPU times: user 76.2 ms, sys: 9.25 ms, total: 85.5 ms\n",
      "Wall time: 133 ms\n"
     ]
    }
   ],
   "source": [
    "%time bg = tarjan_background(e34c_i, source='/data/LCI/Ecoinvent/3.4/cutoff_bg_tarjan.mat')"
   ]
  },
  {
   "cell_type": "code",
   "execution_count": 27,
   "metadata": {
    "collapsed": false,
    "deletable": true,
    "editable": true
   },
   "outputs": [
    {
     "name": "stdout",
     "output_type": "stream",
     "text": [
      "local.data.LCI.Ecoinvent.3.4.ecoinvent 3.4_cutoff_ecoSpold02: /data/LCI/Ecoinvent/3.4/ecoinvent 3.4_cutoff_ecoSpold02\n"
     ]
    }
   ],
   "source": [
    "from antelope_catalog.providers import EcospoldV2Archive\n",
    "e34c_inv = EcospoldV2Archive('/data/LCI/Ecoinvent/3.4/ecoinvent 3.4_cutoff_ecoSpold02', prefix='datasets')"
   ]
  },
  {
   "cell_type": "code",
   "execution_count": 109,
   "metadata": {
    "collapsed": true,
    "deletable": true,
    "editable": true
   },
   "outputs": [],
   "source": [
    "q = recipes[0]"
   ]
  },
  {
   "cell_type": "code",
   "execution_count": 116,
   "metadata": {
    "collapsed": true,
    "deletable": true,
    "editable": true
   },
   "outputs": [],
   "source": [
    "class MarketRangeAnalysis(object):\n",
    "    \"\"\"\n",
    "    Used to store the results of an analysis of the range of LCIA results within a market process.\n",
    "    \"\"\"\n",
    "    def __init__(self, market, methods):\n",
    "        "
   ]
  },
  {
   "cell_type": "code",
   "execution_count": 2,
   "metadata": {
    "collapsed": true
   },
   "outputs": [],
   "source": [
    "a = [1, 2, 3]"
   ]
  },
  {
   "cell_type": "code",
   "execution_count": 7,
   "metadata": {
    "collapsed": false
   },
   "outputs": [
    {
     "ename": "NameError",
     "evalue": "name 'xrange' is not defined",
     "output_type": "error",
     "traceback": [
      "\u001b[0;31m---------------------------------------------------------------------------\u001b[0m",
      "\u001b[0;31mNameError\u001b[0m                                 Traceback (most recent call last)",
      "\u001b[0;32m<ipython-input-7-a3d34bb69eef>\u001b[0m in \u001b[0;36m<module>\u001b[0;34m()\u001b[0m\n\u001b[0;32m----> 1\u001b[0;31m \u001b[0mxrange\u001b[0m\u001b[0;34m\u001b[0m\u001b[0m\n\u001b[0m",
      "\u001b[0;31mNameError\u001b[0m: name 'xrange' is not defined"
     ]
    }
   ],
   "source": [
    "xrange"
   ]
  },
  {
   "cell_type": "code",
   "execution_count": 108,
   "metadata": {
    "collapsed": false,
    "deletable": true,
    "editable": true
   },
   "outputs": [],
   "source": [
    "def generate_nontrivial_markets():\n",
    "    print('using %s to compute impacts' % q)\n",
    "    for _market in e34c_i.processes(Name='^market for'):\n",
    "        # currently no way to invert regex i.e. negative search\n",
    "        if _market['Name'].startswith('market for electricity'):\n",
    "            # these are obviously dealt with as proper mixes\n",
    "            continue\n",
    "        _flow_ref = _market.reference().flow.external_ref\n",
    "        # this will be so much better when I'm using catalog refs\n",
    "        _inv = [x for x in e34c_inv.get(_market.external_ref).inventory(_flow_ref) \n",
    "                if x.flow.external_ref == _flow_ref]\n",
    "        if len(_inv) < 2:\n",
    "            print('##  %2d ## %s' % (len(_inv), _market))\n",
    "            #continue\n",
    "        _vals = [t for t in filter(lambda x: x != 0, \n",
    "                                   (qdb.do_lcia(q, \n",
    "                                    bg.lci(x.termination, _flow_ref)).total() for x in _inv))]\n",
    "        print(_vals)\n",
    "        if len(set(_vals)) > 1:\n",
    "            _ratio = max(abs(x) for x in _vals) / min(abs(x) for x in _vals)\n",
    "            if 1 < _ratio < 2:\n",
    "                continue\n",
    "            _market.show()\n",
    "            print('\\nRatio: %10g | %s' % (_ratio, _vals))\n",
    "            yield _market\n",
    "        elif len(_vals) > 3:\n",
    "            print('\\n!!No Dynamic Range')\n",
    "            for x in _inv:\n",
    "                print(x.termination)\n",
    "            yield _market"
   ]
  },
  {
   "cell_type": "code",
   "execution_count": 107,
   "metadata": {
    "collapsed": false,
    "deletable": true,
    "editable": true
   },
   "outputs": [
    {
     "name": "stdout",
     "output_type": "stream",
     "text": [
      "Quantity Entity (ref ReCiPe Midpoint (H), marine eutrophication, MEP)\n",
      "origin: local.ecoinvent.3.1.lcia\n",
      "reference: [kg N-Eq]\n",
      "     Name: ReCiPe Midpoint (H), marine eutrophication, MEP\n",
      "  Comment: Ecoinvent LCIA implementation\n",
      " Category: marine eutrophication\n",
      "Indicator: MEP\n",
      "   Method: ReCiPe Midpoint (H)\n"
     ]
    }
   ],
   "source": [
    "q.show()"
   ]
  },
  {
   "cell_type": "code",
   "execution_count": 117,
   "metadata": {
    "collapsed": true,
    "deletable": true,
    "editable": true
   },
   "outputs": [],
   "source": [
    "_mg = generate_nontrivial_markets()"
   ]
  },
  {
   "cell_type": "code",
   "execution_count": 113,
   "metadata": {
    "collapsed": false,
    "deletable": true,
    "editable": true
   },
   "outputs": [],
   "source": [
    "mkg = next(m for m in e34c_i.processes(Name='^market for'))"
   ]
  },
  {
   "cell_type": "code",
   "execution_count": 114,
   "metadata": {
    "collapsed": false,
    "deletable": true,
    "editable": true
   },
   "outputs": [
    {
     "name": "stdout",
     "output_type": "stream",
     "text": [
      "Process Entity (ref 00215f8d-e206-416e-8f21-6c525bff21de)\n",
      "origin: local.ecoinvent.3.4.cutoff\n",
      "reference: market for blister-copper conversion facility [GLO] has Output:     blister-copper conversion facility [CPC: 53269: Other constructions for manufacturing] [unit]\n",
      "            Name: market for blister-copper conversion facility\n",
      "         Comment: no comment.\n",
      " Classifications: ['EcoSpold01Categories: metals/extraction', 'ISIC rev.4 ecoinvent: 4100a: Construction of factory buildings for the metal industry']\n",
      "    SpatialScope: GLO\n",
      "ParentActivityId: 4e4af77c-5a8e-4cae-980e-7c8d8ccb33b1\n",
      "   TemporalScope: {'begin': '2011-01-01', 'end': '2017-12-31'}\n"
     ]
    }
   ],
   "source": [
    "mkg.show()"
   ]
  },
  {
   "cell_type": "code",
   "execution_count": 111,
   "metadata": {
    "collapsed": false,
    "deletable": true,
    "editable": true
   },
   "outputs": [
    {
     "name": "stdout",
     "output_type": "stream",
     "text": [
      "using ReCiPe Midpoint (H), climate change, GWP100 [kg CO2-Eq] [LCIA] to compute impacts\n",
      "completed 65 iterations\n",
      "Multiple CFs found: [25.0, 22.25]\n",
      "Flow: Methane, non-fossil (CAS 000074-82-8) [urban air close to ground] [kg]\n",
      "Quantity: ReCiPe Midpoint (H), climate change, GWP100 [kg CO2-Eq] [LCIA]\n",
      "Multiple CFs found: [25.0, 22.25]\n",
      "Flow: Methane, non-fossil (CAS 000074-82-8) [non-urban air or from high stacks] [kg]\n",
      "Quantity: ReCiPe Midpoint (H), climate change, GWP100 [kg CO2-Eq] [LCIA]\n",
      "Multiple CFs found: [22.25, 25.0]\n",
      "Flow: Methane, non-fossil (CAS 000074-82-8) [unspecified] [kg]\n",
      "Quantity: ReCiPe Midpoint (H), climate change, GWP100 [kg CO2-Eq] [LCIA]\n",
      "completed 65 iterations\n",
      "[7288277.5470186248, 7277001.2588517722]\n",
      "completed 60 iterations\n",
      "completed 61 iterations\n",
      "[0.57776118919107422, 0.92762984465136278]\n",
      "##   1 ## market for waste vapour barrier, flame-retarded [RoW]\n",
      "completed 58 iterations\n",
      "[-2.8507061626302304]\n",
      "completed 67 iterations\n",
      "completed 67 iterations\n",
      "[6466.6517053064508, 6466.7232655267117]\n",
      "completed 65 iterations\n",
      "completed 65 iterations\n",
      "[-0.2187196590698833, -0.21867867717169445]\n",
      "completed 63 iterations\n",
      "completed 63 iterations\n",
      "[6.156710844320342, 6.1560438901803876]\n",
      "completed 68 iterations\n",
      "completed 68 iterations\n",
      "[438200.81361588161, 438200.81361588161]\n",
      "completed 66 iterations\n",
      "completed 66 iterations\n",
      "[48260.855923469717, 49615.612355973055]\n",
      "completed 64 iterations\n",
      "exact result\n",
      "completed 0 iterations\n",
      "exact result\n",
      "completed 0 iterations\n",
      "[-2.0279985843016815]\n",
      "completed 64 iterations\n",
      "completed 64 iterations\n",
      "[3.0494010542006693, 3.0497260027573527]\n",
      "##   1 ## market for municipal solid waste [CA-QC]\n",
      "completed 59 iterations\n",
      "[-0.55760344373774429]\n",
      "completed 66 iterations\n",
      "completed 66 iterations\n",
      "[404.23587065008581, 442.36005804618588]\n",
      "completed 61 iterations\n",
      "completed 63 iterations\n",
      "[66.265879652400656, 312.25252099584168]\n",
      "Process Entity (ref 0188568b-05b5-4aef-9bdb-571e31c66cbc)\n",
      "origin: local.ecoinvent.3.4.cutoff\n",
      "reference: market for fibreboard, soft, latex bonded [GLO] has Output:     fibreboard, soft, latex bonded [CPC: 31449: Other fibreboard] [m3]\n",
      "            Name: market for fibreboard, soft, latex bonded\n",
      "         Comment: no comment.\n",
      " Classifications: ['ISIC rev.4 ecoinvent: 1621:Manufacture of veneer sheets and wood-based panels', 'EcoSpold01Categories: wooden materials/extraction']\n",
      "    SpatialScope: GLO\n",
      "ParentActivityId: 42aa66d9-e1dd-42a1-bfdc-10cbe0a7999d\n",
      "   TemporalScope: {'begin': '2011-01-01', 'end': '2017-12-31'}\n",
      "\n",
      "Ratio:    4.71212 | [66.265879652400656, 312.25252099584168]\n"
     ]
    }
   ],
   "source": [
    "mkt = next(_mg)"
   ]
  },
  {
   "cell_type": "code",
   "execution_count": 106,
   "metadata": {
    "collapsed": false,
    "deletable": true,
    "editable": true
   },
   "outputs": [
    {
     "name": "stdout",
     "output_type": "stream",
     "text": [
      "completed 65 iterations\n",
      "completed 65 iterations\n",
      "[6385.5825032677694, 6369.8557680088434]\n",
      "completed 60 iterations\n",
      "completed 61 iterations\n",
      "[0.00050770138395959182, 0.00098689853964844805]\n",
      "##   1 ## market for waste vapour barrier, flame-retarded [RoW]\n",
      "completed 58 iterations\n",
      "[-0.0002036344547906391]\n",
      "completed 67 iterations\n",
      "completed 67 iterations\n",
      "[6.1403574100075673, 6.1408773093283333]\n",
      "completed 65 iterations\n",
      "completed 65 iterations\n",
      "[-0.00020509547612972847, -0.00020505582205357549]\n",
      "completed 63 iterations\n",
      "completed 63 iterations\n",
      "[0.0093443936444337732, 0.0093425163768968752]\n",
      "completed 68 iterations\n",
      "completed 68 iterations\n",
      "[645.65371101808398, 645.65371101808398]\n",
      "completed 66 iterations\n",
      "completed 66 iterations\n",
      "[52.627047733388387, 54.274726912974387]\n",
      "completed 64 iterations\n",
      "exact result\n",
      "completed 0 iterations\n",
      "exact result\n",
      "completed 0 iterations\n",
      "[-0.0004621905202064463]\n",
      "completed 64 iterations\n",
      "completed 64 iterations\n",
      "[0.0050691623725089329, 0.005072377040150379]\n",
      "##   1 ## market for municipal solid waste [CA-QC]\n",
      "completed 59 iterations\n",
      "[-0.0028158952651599883]\n",
      "completed 66 iterations\n",
      "completed 66 iterations\n",
      "[0.50965269258825574, 0.56209128459637847]\n",
      "completed 61 iterations\n",
      "completed 63 iterations\n",
      "[0.078851275303490884, 0.29219346137078833]\n",
      "Process Entity (ref 0188568b-05b5-4aef-9bdb-571e31c66cbc)\n",
      "origin: local.ecoinvent.3.4.cutoff\n",
      "reference: market for fibreboard, soft, latex bonded [GLO] has Output:     fibreboard, soft, latex bonded [CPC: 31449: Other fibreboard] [m3]\n",
      "            Name: market for fibreboard, soft, latex bonded\n",
      "         Comment: no comment.\n",
      " Classifications: ['ISIC rev.4 ecoinvent: 1621:Manufacture of veneer sheets and wood-based panels', 'EcoSpold01Categories: wooden materials/extraction']\n",
      "    SpatialScope: GLO\n",
      "ParentActivityId: 42aa66d9-e1dd-42a1-bfdc-10cbe0a7999d\n",
      "   TemporalScope: {'begin': '2011-01-01', 'end': '2017-12-31'}\n",
      "\n",
      "Ratio:    3.70563 | [0.078851275303490884, 0.29219346137078833]\n"
     ]
    }
   ],
   "source": [
    "mkt = next(_mg)"
   ]
  },
  {
   "cell_type": "code",
   "execution_count": null,
   "metadata": {
    "collapsed": true,
    "deletable": true,
    "editable": true
   },
   "outputs": [],
   "source": []
  },
  {
   "cell_type": "code",
   "execution_count": 115,
   "metadata": {
    "collapsed": false,
    "deletable": true,
    "editable": true
   },
   "outputs": [
    {
     "name": "stdout",
     "output_type": "stream",
     "text": [
      "completed 67 iterations\n",
      "completed 67 iterations\n",
      "[0.014061531508380463, 0.020902335777321611]\n",
      "exact result\n",
      "completed 0 iterations\n",
      "exact result\n",
      "completed 0 iterations\n",
      "[-28.747731397459201]\n",
      "completed 68 iterations\n",
      "completed 68 iterations\n",
      "[91.601532172055002, 91.601532172055002]\n",
      "##   1 ## market for barley grain, feed [GLO]\n",
      "completed 69 iterations\n",
      "[0.68111568139404732]\n",
      "completed 66 iterations\n",
      "completed 66 iterations\n",
      "completed 66 iterations\n",
      "completed 66 iterations\n",
      "completed 66 iterations\n",
      "completed 66 iterations\n",
      "completed 66 iterations\n",
      "completed 66 iterations\n",
      "[0.42183928398462095, 0.47082241000353064, 0.41015717600535395, 0.4487512799504908, 0.40486876934441995, 0.43325426679920631, 0.37623629177793583, 0.39398454191757243]\n",
      "completed 63 iterations\n",
      "completed 64 iterations\n",
      "[-1.3143215945506528, -1.5107557663518709]\n",
      "completed 65 iterations\n",
      "completed 65 iterations\n",
      "[1155956.0011082985, 1224775.6068609839]\n",
      "completed 68 iterations\n",
      "completed 68 iterations\n",
      "[53892474.389620282, 53892474.389620282]\n",
      "##   1 ## market for cement, blast furnace slag 31-50% and 31-50% other alternative constituents [CH]\n",
      "completed 61 iterations\n",
      "[0.40221948242899902]\n",
      "completed 60 iterations\n",
      "completed 58 iterations\n",
      "[0.29650277410461356, 0.26472258144399757]\n",
      "completed 66 iterations\n",
      "completed 66 iterations\n",
      "[13371.758861572427, 12471.685441345915]\n",
      "completed 69 iterations\n",
      "completed 66 iterations\n",
      "completed 69 iterations\n",
      "completed 66 iterations\n",
      "[0.45291580740493681, 1.2462280434289739, 0.45288838685047272, 1.6466560401240995]\n",
      "Process Entity (ref 022f8783-2b87-4852-8e37-0f90a02ecfc4)\n",
      "origin: local.ecoinvent.3.4.cutoff\n",
      "reference: market for potassium sulfate, as K2O [GLO] has Output:     potassium sulfate, as K2O [CPC: 34632: Potassium sulphate (sulphate of potash)] [kg]\n",
      "            Name: market for potassium sulfate, as K2O\n",
      "         Comment: no comment.\n",
      " Classifications: ['ISIC rev.4 ecoinvent: 19a: Liquid and gaseous fuels from biomass', 'EcoSpold01Categories: agricultural means of production/mineral fertiliser']\n",
      "    SpatialScope: GLO\n",
      "ParentActivityId: a32c1ae5-89b2-4434-9064-38fbf37a9fc4\n",
      "   TemporalScope: {'begin': '2011-01-01', 'end': '2017-12-31'}\n",
      "\n",
      "Ratio:     3.6359 | [0.45291580740493681, 1.2462280434289739, 0.45288838685047272, 1.6466560401240995]\n"
     ]
    },
    {
     "data": {
      "text/plain": [
       "<lcatools.entities.processes.LcProcess at 0x7f37ecded080>"
      ]
     },
     "execution_count": 115,
     "metadata": {},
     "output_type": "execute_result"
    }
   ],
   "source": [
    "next(_mg)"
   ]
  },
  {
   "cell_type": "code",
   "execution_count": 118,
   "metadata": {
    "collapsed": false,
    "deletable": true,
    "editable": true
   },
   "outputs": [
    {
     "name": "stdout",
     "output_type": "stream",
     "text": [
      "using ReCiPe Midpoint (H), climate change, GWP100 [kg CO2-Eq] [LCIA] to compute impacts\n",
      "completed 65 iterations\n",
      "completed 65 iterations\n",
      "[7288277.5470186248, 7277001.2588517722]\n",
      "completed 60 iterations\n",
      "completed 61 iterations\n",
      "[0.57776118919107422, 0.92762984465136278]\n",
      "##   1 ## market for waste vapour barrier, flame-retarded [RoW]\n",
      "completed 58 iterations\n",
      "[-2.8507061626302304]\n",
      "completed 67 iterations\n",
      "completed 67 iterations\n",
      "[6466.6517053064508, 6466.7232655267117]\n",
      "completed 65 iterations\n",
      "completed 65 iterations\n",
      "[-0.2187196590698833, -0.21867867717169445]\n",
      "completed 63 iterations\n",
      "completed 63 iterations\n",
      "[6.156710844320342, 6.1560438901803876]\n",
      "completed 68 iterations\n",
      "completed 68 iterations\n",
      "[438200.81361588161, 438200.81361588161]\n",
      "completed 66 iterations\n",
      "completed 66 iterations\n",
      "[48260.855923469717, 49615.612355973055]\n",
      "completed 64 iterations\n",
      "exact result\n",
      "completed 0 iterations\n",
      "exact result\n",
      "completed 0 iterations\n",
      "[-2.0279985843016815]\n",
      "completed 64 iterations\n",
      "completed 64 iterations\n",
      "[3.0494010542006693, 3.0497260027573527]\n",
      "##   1 ## market for municipal solid waste [CA-QC]\n",
      "completed 59 iterations\n",
      "[-0.55760344373774429]\n",
      "completed 66 iterations\n",
      "completed 66 iterations\n",
      "[404.23587065008581, 442.36005804618588]\n",
      "completed 61 iterations\n",
      "completed 63 iterations\n",
      "[66.265879652400656, 312.25252099584168]\n",
      "Process Entity (ref 0188568b-05b5-4aef-9bdb-571e31c66cbc)\n",
      "origin: local.ecoinvent.3.4.cutoff\n",
      "reference: market for fibreboard, soft, latex bonded [GLO] has Output:     fibreboard, soft, latex bonded [CPC: 31449: Other fibreboard] [m3]\n",
      "            Name: market for fibreboard, soft, latex bonded\n",
      "         Comment: no comment.\n",
      " Classifications: ['ISIC rev.4 ecoinvent: 1621:Manufacture of veneer sheets and wood-based panels', 'EcoSpold01Categories: wooden materials/extraction']\n",
      "    SpatialScope: GLO\n",
      "ParentActivityId: 42aa66d9-e1dd-42a1-bfdc-10cbe0a7999d\n",
      "   TemporalScope: {'begin': '2011-01-01', 'end': '2017-12-31'}\n",
      "\n",
      "Ratio:    4.71212 | [66.265879652400656, 312.25252099584168]\n",
      "completed 67 iterations\n",
      "completed 67 iterations\n",
      "[0.014061531508380463, 0.020902335777321611]\n",
      "exact result\n",
      "completed 0 iterations\n",
      "exact result\n",
      "completed 0 iterations\n",
      "[-28.747731397459201]\n",
      "completed 68 iterations\n",
      "completed 68 iterations\n",
      "[91.601532172055002, 91.601532172055002]\n",
      "##   1 ## market for barley grain, feed [GLO]\n",
      "completed 69 iterations\n",
      "[0.68111568139404732]\n",
      "completed 66 iterations\n",
      "completed 66 iterations\n",
      "completed 66 iterations\n",
      "completed 66 iterations\n",
      "completed 66 iterations\n",
      "completed 66 iterations\n",
      "completed 66 iterations\n",
      "completed 66 iterations\n",
      "[0.42183928398462095, 0.47082241000353064, 0.41015717600535395, 0.4487512799504908, 0.40486876934441995, 0.43325426679920631, 0.37623629177793583, 0.39398454191757243]\n",
      "completed 63 iterations\n",
      "completed 64 iterations\n",
      "[-1.3143215945506528, -1.5107557663518709]\n",
      "completed 65 iterations\n",
      "completed 65 iterations\n",
      "[1155956.0011082985, 1224775.6068609839]\n",
      "completed 68 iterations\n",
      "completed 68 iterations\n",
      "[53892474.389620282, 53892474.389620282]\n",
      "##   1 ## market for cement, blast furnace slag 31-50% and 31-50% other alternative constituents [CH]\n",
      "completed 61 iterations\n",
      "[0.40221948242899902]\n",
      "completed 60 iterations\n",
      "completed 58 iterations\n",
      "[0.29650277410461356, 0.26472258144399757]\n",
      "completed 66 iterations\n",
      "completed 66 iterations\n",
      "[13371.758861572427, 12471.685441345915]\n",
      "completed 69 iterations\n",
      "completed 66 iterations\n",
      "completed 69 iterations\n",
      "completed 66 iterations\n",
      "[0.45291580740493681, 1.2462280434289739, 0.45288838685047272, 1.6466560401240995]\n",
      "Process Entity (ref 022f8783-2b87-4852-8e37-0f90a02ecfc4)\n",
      "origin: local.ecoinvent.3.4.cutoff\n",
      "reference: market for potassium sulfate, as K2O [GLO] has Output:     potassium sulfate, as K2O [CPC: 34632: Potassium sulphate (sulphate of potash)] [kg]\n",
      "            Name: market for potassium sulfate, as K2O\n",
      "         Comment: no comment.\n",
      " Classifications: ['ISIC rev.4 ecoinvent: 19a: Liquid and gaseous fuels from biomass', 'EcoSpold01Categories: agricultural means of production/mineral fertiliser']\n",
      "    SpatialScope: GLO\n",
      "ParentActivityId: a32c1ae5-89b2-4434-9064-38fbf37a9fc4\n",
      "   TemporalScope: {'begin': '2011-01-01', 'end': '2017-12-31'}\n",
      "\n",
      "Ratio:     3.6359 | [0.45291580740493681, 1.2462280434289739, 0.45288838685047272, 1.6466560401240995]\n",
      "completed 64 iterations\n",
      "completed 65 iterations\n",
      "[40.867959341581248, 56.456148541843028]\n",
      "##   1 ## market for brass [RoW]\n",
      "completed 65 iterations\n",
      "[4.4479324867263843]\n",
      "##   1 ## market for limestone, crushed, for mill [CH]\n",
      "completed 56 iterations\n",
      "[0.0023322244526473288]\n",
      "completed 68 iterations\n",
      "completed 68 iterations\n",
      "completed 68 iterations\n",
      "completed 66 iterations\n",
      "[2.8802820672669318, 2.8802820672669318, 2.9065320672669319, 2.2692528227311546]\n",
      "completed 66 iterations\n",
      "completed 66 iterations\n",
      "[268.85425292287766, 274.33321213522925]\n",
      "completed 65 iterations\n",
      "completed 65 iterations\n",
      "[0.0071802594452398489, 0.0096637506277404261]\n",
      "##   1 ## market for used silencer steel, DN 125 [RoW]\n",
      "completed 59 iterations\n",
      "[-0.046731379685425747]\n",
      "completed 65 iterations\n",
      "completed 65 iterations\n",
      "[4.3167005067500055, 2.6672518701754084]\n",
      "##   1 ## market for keyboard [GLO]\n",
      "completed 68 iterations\n",
      "[32.949965490188227]\n",
      "completed 68 iterations\n",
      "completed 69 iterations\n",
      "[4.0678134335306231, 4.2419694158228003]\n",
      "completed 64 iterations\n",
      "completed 64 iterations\n",
      "[156.39692635435736, 152.10503924580939]\n",
      "##   1 ## market for land use change, paddy rice [IN]\n",
      "exact result\n",
      "completed 1 iterations\n",
      "[-3242.0924602094237]\n",
      "##   1 ## market for activated silica [GLO]\n",
      "completed 67 iterations\n",
      "[1.7556106518805636]\n",
      "completed 68 iterations\n",
      "completed 68 iterations\n",
      "[119108.28769854916, 119992.18496402894]\n",
      "completed 68 iterations\n",
      "completed 68 iterations\n",
      "[0.00067745722986367206, 0.0006857886361763257]\n",
      "##   1 ## market for sanitary landfill facility [GLO]\n",
      "completed 61 iterations\n",
      "[7706726.8336593807]\n",
      "completed 68 iterations\n",
      "completed 68 iterations\n",
      "[2.2226121401262944, 1.9466087371928025]\n",
      "completed 61 iterations\n",
      "completed 60 iterations\n",
      "[-29.825148897177957, -11.67439202408249]\n",
      "Process Entity (ref 030f2d1f-92fe-4217-a90a-2072eed42b2f)\n",
      "origin: local.ecoinvent.3.4.cutoff\n",
      "reference: market for used blower and heat exchange unit Storkair G 90 [GLO] has Output:     used blower and heat exchange unit Storkair G 90 [CPC: 39990: Other wastes n.e.c.] [unit]\n",
      "            Name: market for used blower and heat exchange unit Storkair G 90\n",
      "         Comment: no comment.\n",
      " Classifications: ['ISIC rev.4 ecoinvent: 3830:Materials recovery', 'EcoSpold01Categories: waste management/building demolition']\n",
      "    SpatialScope: GLO\n",
      "ParentActivityId: db958210-4fa3-4ad9-b3a6-f59db5e31b26\n",
      "   TemporalScope: {'begin': '2011-01-01', 'end': '2017-12-31'}\n",
      "\n",
      "Ratio:    2.55475 | [-29.825148897177957, -11.67439202408249]\n",
      "completed 67 iterations\n",
      "completed 67 iterations\n",
      "[36.470068151150478, 37.891569738880563]\n",
      "completed 68 iterations\n",
      "completed 68 iterations\n",
      "completed 68 iterations\n",
      "completed 68 iterations\n",
      "completed 68 iterations\n",
      "completed 68 iterations\n",
      "[0.029102998277442369, 0.017769344539561843, 0.026158817119465778, 0.025150592707143392, 0.017769344539561846, 0.023026506250551079]\n",
      "completed 67 iterations\n",
      "completed 67 iterations\n",
      "[2473.7879192853688, 2473.7978159121458]\n",
      "##   1 ## market for diesel, burned in building machine [GLO]\n",
      "completed 66 iterations\n",
      "[0.092125785355864673]\n",
      "##   1 ## market for controller, for electric scooter [GLO]\n",
      "completed 68 iterations\n",
      "[46.719251883673245]\n",
      "completed 55 iterations\n",
      "completed 59 iterations\n",
      "[-2.1161538425878694, -0.064471352943864177]\n",
      "Process Entity (ref 0352fbc5-44b5-49ee-b889-e645e2e4defc)\n",
      "origin: local.ecoinvent.3.4.cutoff\n",
      "reference: market for waste polyvinylchloride [RoW] has Output:     waste polyvinylchloride (CAS 9002-86-2) [CPC: 39270: Waste, parings and scrap of plastics] [kg]\n",
      "            Name: market for waste polyvinylchloride\n",
      "         Comment: In this market, expert judgement was used to develop product specific transport distance estimations.\n",
      " Classifications: ['EcoSpold01Categories: waste management/municipal incineration', 'ISIC rev.4 ecoinvent: 3821:Treatment and disposal of non-hazardous waste']\n",
      "    SpatialScope: RoW\n",
      "ParentActivityId: f4926d7a-510d-4243-9cc4-d591e9849479\n",
      "   TemporalScope: {'begin': '2011-01-01', 'end': '2017-12-31'}\n",
      "\n",
      "Ratio:    32.8232 | [-2.1161538425878694, -0.064471352943864177]\n",
      "completed 67 iterations\n",
      "completed 69 iterations\n",
      "completed 66 iterations\n",
      "completed 65 iterations\n",
      "completed 60 iterations\n",
      "completed 65 iterations\n",
      "completed 63 iterations\n",
      "completed 63 iterations\n",
      "completed 63 iterations\n",
      "completed 69 iterations\n",
      "completed 67 iterations\n",
      "completed 60 iterations\n",
      "[1.9736604035157548, 1.9080283069943673, 7.1549450335126474, 1.0433636727731339, 4.5094345071690487, 0.37972579758409125, 0.34282644275933594, 0.25557731176013937, 2.4545778569332071, 1.9079127906256104, 5.4086975593596893, 4.6517291711341242]\n",
      "Process Entity (ref 037fa5e4-f711-4987-b50a-38920ca5d5a0)\n",
      "origin: local.ecoinvent.3.4.cutoff\n",
      "reference: market for glycerine [GLO] has Output:     glycerine (CAS 000056-81-5) [CPC: 34570: Glycerol] [kg]\n",
      "            Name: market for glycerine\n",
      "         Comment: no comment.\n",
      " Classifications: ['ISIC rev.4 ecoinvent: 2011:Manufacture of basic chemicals', 'EcoSpold01Categories: chemicals/organics']\n",
      "    SpatialScope: GLO\n",
      "ParentActivityId: e1ecc8c7-84fe-4cdf-960c-b1d2c459f365\n",
      "   TemporalScope: {'begin': '2011-01-01', 'end': '2017-12-31'}\n",
      "\n",
      "Ratio:    27.9952 | [1.9736604035157548, 1.9080283069943673, 7.1549450335126474, 1.0433636727731339, 4.5094345071690487, 0.37972579758409125, 0.34282644275933594, 0.25557731176013937, 2.4545778569332071, 1.9079127906256104, 5.4086975593596893, 4.6517291711341242]\n",
      "completed 68 iterations\n",
      "completed 68 iterations\n",
      "[0.38717392631675657, 0.39733997401650678]\n",
      "##   1 ## market for pipeline, natural gas, long distance, high capacity, offshore [GLO]\n",
      "completed 67 iterations\n",
      "[1946928.9093748743]\n",
      "completed 60 iterations\n",
      "completed 59 iterations\n",
      "[0.029601780327730007, 0.020616207326776454]\n",
      "completed 52 iterations\n",
      "completed 57 iterations\n",
      "exact result\n",
      "completed 2 iterations\n",
      "exact result\n",
      "completed 2 iterations\n",
      "completed 57 iterations\n",
      "completed 69 iterations\n",
      "completed 64 iterations\n",
      "completed 57 iterations\n",
      "completed 52 iterations\n",
      "completed 52 iterations\n",
      "completed 52 iterations\n",
      "completed 52 iterations\n",
      "exact result\n",
      "completed 0 iterations\n",
      "exact result\n",
      "completed 0 iterations\n",
      "exact result\n",
      "completed 0 iterations\n",
      "[0.023413273742241128, 0.10803469263197833, 0.1888789296824292, 3.2220690314995393, 0.94728940037584952, 0.053979881101454463, 0.0037625274574852961, 0.087290637013659286, 0.36438521025068232, 0.36438521025068232]\n",
      "Process Entity (ref 03e36d8c-868b-4ade-9927-774c248d26c1)\n",
      "origin: local.ecoinvent.3.4.cutoff\n",
      "reference: market for potassium fertiliser, as K2O [GLO] has Output:     potassium fertiliser, as K2O [CPC: 3463: Mineral or chemical fertilizers, potassic] [kg]\n",
      "            Name: market for potassium fertiliser, as K2O\n",
      "         Comment: no comment.\n",
      " Classifications: ['EcoSpold01Categories: agricultural means of production/mineral fertiliser', 'ISIC rev.4 ecoinvent: 2012:Manufacture of fertilizers and nitrogen compounds']\n",
      "    SpatialScope: GLO\n",
      "ParentActivityId: 4646a043-e8b6-4e14-9911-94b69ea0980d\n",
      "   TemporalScope: {'begin': '2012-01-01', 'end': '2017-12-31'}\n",
      "\n",
      "Ratio:    856.358 | [0.023413273742241128, 0.10803469263197833, 0.1888789296824292, 3.2220690314995393, 0.94728940037584952, 0.053979881101454463, 0.0037625274574852961, 0.087290637013659286, 0.36438521025068232, 0.36438521025068232]\n",
      "completed 65 iterations\n",
      "completed 66 iterations\n",
      "[6834812.889480737, 8118795.2315268265]\n",
      "##   1 ## market for palm date, conditioned and dried, organic [GLO]\n",
      "completed 69 iterations\n",
      "[4.4595484033862158]\n",
      "##   1 ## market for cement, alternative constituents 21-35% [Europe without Switzerland]\n",
      "completed 62 iterations\n",
      "[0.67003392991520649]\n",
      "completed 64 iterations\n",
      "completed 64 iterations\n",
      "exact result\n",
      "completed 0 iterations\n",
      "exact result\n",
      "completed 0 iterations\n",
      "[60.363307307514454, 43.272491383097666, -11.889758643183299]\n",
      "Process Entity (ref 0459fbf0-6576-4095-8353-50d192b1aa41)\n",
      "origin: local.ecoinvent.3.4.cutoff\n",
      "reference: market for land tenure, arable land, measured as carbon net primary productivity, perennial crop [MY] has Output:     land tenure, arable land, measured as carbon net primary productivity, perennial crop [CPC: 7: Financial and related services; real estate services; and rental and leasing services] [kg]\n",
      "            Name: market for land tenure, arable land, measured as carbon net primary productivity, perennial crop\n",
      "         Comment: no comment.\n",
      " Classifications: ['ISIC rev.4 ecoinvent: 68:Real estate activities']\n",
      "    SpatialScope: MY\n",
      "ParentActivityId: 963aeff3-591b-4189-99f6-48bc0fb0b657\n",
      "   TemporalScope: {'begin': '2010-01-01', 'end': '2017-12-31'}\n",
      "\n",
      "Ratio:    5.07692 | [60.363307307514454, 43.272491383097666, -11.889758643183299]\n",
      "completed 64 iterations\n",
      "completed 64 iterations\n",
      "[4026.8933545279378, 7779.5880769424193]\n",
      "completed 66 iterations\n",
      "completed 64 iterations\n",
      "completed 67 iterations\n",
      "completed 67 iterations\n",
      "completed 65 iterations\n",
      "completed 67 iterations\n",
      "completed 67 iterations\n",
      "[0.51625147217844303, 0.91256487307042888, 0.33582275724717531, 0.18496509160813193, 1.0019276969630837, 0.34340645409362636, 0.2537590965320497]\n",
      "Process Entity (ref 046967ce-ee30-4320-9ab5-f6fde6733595)\n",
      "origin: local.ecoinvent.3.4.cutoff\n",
      "reference: market for tomato, fresh grade [GLO] has Output:     tomato, fresh grade [CPC: 01234: Tomatoes] [kg]\n",
      "            Name: market for tomato, fresh grade\n",
      "         Comment: In this market, default transport model and expert judgement was used to develop product specific transport distance estimations.\n",
      "The default transport distances are built on a generic model which assigns the transport distances based on the ISIC code. This approach is, especially in case of fruits and vegetables, rather coarse. So in a certain cases expert judgement is used to adjust the default distances.\n",
      "\n",
      "The transport distances and associated impacts presented in the markets represents the average scenario for given geography. In case of fruits and vegetables the final impact at the consumer vary a lot depending on whether the food is consumed near the producer or far. The average impact of, for example, banana is overestimated if the consumer is present in Brazil and it is heavily underestimated is the consumer is present in Europe. The markets are modelled so, that editing to model concrete scenario is possible and easy.\n",
      "\n",
      "Fruits and vegetables are traded all over the world on an increasing scale. \n",
      "It is assumed, that all tomatoes which are transported are being transported by infrastructure equipped for transport of goods in need of atmosphere control.\n",
      "\n",
      "The recomended conditions for transport of tomatoes are (Hamburg Sud, 2013, Stay cool, We care); temperature: +7 to +10°C, ventilation: 15 to 30 m3/h, humidity (relative): 65 to 90%, approximate shelf life (in ambient air): 1 to 4 weeks.\n",
      " Classifications: ['ISIC rev.4 ecoinvent: 0113:Growing of vegetables and melons, roots and tubers']\n",
      "    SpatialScope: GLO\n",
      "ParentActivityId: 9d1f4679-8635-43dd-8482-07823a649274\n",
      "   TemporalScope: {'begin': '2009-01-01', 'end': '2017-12-31'}\n",
      "\n",
      "Ratio:    5.41685 | [0.51625147217844303, 0.91256487307042888, 0.33582275724717531, 0.18496509160813193, 1.0019276969630837, 0.34340645409362636, 0.2537590965320497]\n",
      "completed 62 iterations\n",
      "completed 64 iterations\n",
      "[-0.2938090328378935, -0.37013515769317512]\n",
      "completed 63 iterations\n",
      "completed 65 iterations\n",
      "completed 61 iterations\n",
      "[0.1864381247136136, 0.065290093459437135, 0.11862788313572331]\n",
      "Process Entity (ref 0495ab1d-c896-40a7-b846-4f205e60c7f8)\n",
      "origin: local.ecoinvent.3.4.cutoff\n",
      "reference: market for natural gas, high pressure [CA-AB] has Output:     natural gas, high pressure [CPC: 12020: Natural gas, liquefied or in the gaseous state] [m3]\n",
      "            Name: market for natural gas, high pressure\n",
      "         Comment: This dataset describes the market for natural gas at high pressure in Alberta (Canada) in 2010. It contains  information on the transport to the consumer (excluding the imports, that are modelled in a separate dataset) and the losses occuring during this transportIt is an adaptation from the high pressure natural gas market in North America (RNA)  for the 2000-2005 period. \n",
      "Some flows adapted with local data (losses and main emissions)\n",
      "[This is a dataset transferred from ecoSpold v1 / ecoinvent database version 2. It may not in all aspects fulfill the requirements of the ecoinvent data quality guideline for version 3.]\n",
      " Classifications: ['EcoSpold01Categories: natural gas/fuels', 'ISIC rev.4 ecoinvent: 3520:Manufacture of gas; distribution of gaseous fuels through mains']\n",
      "    SpatialScope: CA-AB\n",
      "ParentActivityId: 222c9a99-9313-4c65-a67a-6dc809cdf410\n",
      "   TemporalScope: {'begin': '2010-01-01', 'end': '2017-12-31'}\n",
      "\n",
      "Ratio:    2.85553 | [0.1864381247136136, 0.065290093459437135, 0.11862788313572331]\n",
      "completed 65 iterations\n",
      "completed 65 iterations\n",
      "[13.508063630359578, 9.2846782923239015]\n",
      "completed 65 iterations\n",
      "completed 65 iterations\n",
      "[213411.77868342193, 271905.05132107873]\n",
      "##   1 ## market for sodium perchlorate [GLO]\n",
      "completed 65 iterations\n",
      "[6.7681734411704522]\n",
      "completed 63 iterations\n",
      "completed 62 iterations\n",
      "completed 62 iterations\n",
      "[0.74254908010056542, 0.52282018034201361, 0.71280903739938384]\n",
      "completed 68 iterations\n",
      "completed 68 iterations\n",
      "[10.887643965322487, 10.899766108512413]\n",
      "completed 61 iterations\n",
      "completed 62 iterations\n",
      "[-0.99497628091905366, -1.0089134716261765]\n",
      "completed 64 iterations\n",
      "completed 64 iterations\n",
      "[25933.627990135185, 34170.606877433289]\n",
      "completed 65 iterations\n",
      "completed 66 iterations\n",
      "[3.6876176698256975, 3.8233358767451451]\n",
      "completed 59 iterations\n",
      "completed 64 iterations\n",
      "completed 59 iterations\n",
      "[-0.014437883084283931, -0.0033073156538277752, -0.21526195215806759]\n",
      "Process Entity (ref 0522ea69-9d98-4dd2-bfb4-2190cd99b0f7)\n",
      "origin: local.ecoinvent.3.4.cutoff\n",
      "reference: market for waste reinforced plasterboard [GLO] has Output:     waste reinforced plasterboard (CAS 13397-24-5) [CPC: 39990: Other wastes n.e.c.] [kg]\n",
      "            Name: market for waste reinforced plasterboard\n",
      "         Comment: In this market, expert judgement was used to develop product specific transport distance estimations.\n",
      " Classifications: ['EcoSpold01Categories: waste management/building demolition', 'ISIC rev.4 ecoinvent: 3821:Treatment and disposal of non-hazardous waste']\n",
      "    SpatialScope: GLO\n",
      "ParentActivityId: 92c496a1-dd2c-464d-aceb-fe267d1fa0d8\n",
      "   TemporalScope: {'begin': '2011-01-01', 'end': '2017-12-31'}\n",
      "\n",
      "Ratio:    65.0866 | [-0.014437883084283931, -0.0033073156538277752, -0.21526195215806759]\n",
      "completed 67 iterations\n",
      "completed 67 iterations\n",
      "[1.9443589087281461, 2.109768474605795]\n",
      "completed 65 iterations\n",
      "completed 65 iterations\n",
      "[5.9335376985475037, 6.055728343513552]\n",
      "completed 65 iterations\n",
      "completed 65 iterations\n",
      "[3.6148935456948803, 3.8175992121580946]\n",
      "##   1 ## market for used railway track [RoW]\n",
      "completed 59 iterations\n",
      "[-0.37709858028497156]\n",
      "completed 68 iterations\n",
      "completed 64 iterations\n",
      "completed 68 iterations\n",
      "completed 64 iterations\n",
      "[0.68496906639127153, 0.91061719835590615, 0.72405191424107485, 0.96594427226235069]\n",
      "##   1 ## market for wind power plant, 800kW, fixed parts [GLO]\n",
      "completed 67 iterations\n",
      "[227315.80912325974]\n",
      "completed 65 iterations\n",
      "completed 65 iterations\n",
      "[5.0576828523690169, 5.1088068733842862]\n",
      "completed 64 iterations\n",
      "completed 65 iterations\n",
      "completed 65 iterations\n",
      "[2.5821037297926299, 24.326084901839852, 46.914318394580533]\n",
      "Process Entity (ref 05722dfa-0108-43aa-a3db-385453be8f5c)\n",
      "origin: local.ecoinvent.3.4.cutoff\n",
      "reference: market for laser machining, metal, with CO2-laser, 2700W power [GLO] has Output:     laser machining, metal, with CO2-laser, 2700W power [CPC: 88731: Metal treatment and coating services] [hour]\n",
      "            Name: market for laser machining, metal, with CO2-laser, 2700W power\n",
      "         Comment: no comment.\n",
      " Classifications: ['EcoSpold01Categories: metals/chipless shaping', 'ISIC rev.4 ecoinvent: 2592:Treatment and coating of metals; machining']\n",
      "    SpatialScope: GLO\n",
      "ParentActivityId: 09574610-e749-4e1d-aaec-ebfc4c08c4de\n",
      "   TemporalScope: {'begin': '2011-01-01', 'end': '2017-12-31'}\n",
      "\n",
      "Ratio:     18.169 | [2.5821037297926299, 24.326084901839852, 46.914318394580533]\n",
      "completed 67 iterations\n",
      "completed 67 iterations\n",
      "[0.37045853792450328, 0.35619048133263742]\n",
      "completed 68 iterations\n",
      "completed 68 iterations\n",
      "[26430970.85393858, 26663151.76915431]\n",
      "completed 67 iterations\n",
      "completed 67 iterations\n",
      "completed 67 iterations\n",
      "[0.062525941853347353, 0.068742264250171242, 0.11163143648226878]\n",
      "##   1 ## market for waste rubber, unspecified [Europe without Switzerland]\n",
      "completed 58 iterations\n",
      "[-3.158588466251814]\n",
      "##   1 ## market for carbon dioxide, liquid [RoW]\n",
      "completed 66 iterations\n",
      "[0.86758629895942052]\n",
      "##   1 ## market for pipeline, natural gas, long distance, low capacity, onshore [GLO]\n",
      "completed 66 iterations\n",
      "[1015484.8312866293]\n",
      "##   1 ## market for inert waste, for final disposal [RoW]\n",
      "completed 57 iterations\n",
      "[-0.0053017383552841817]\n",
      "completed 64 iterations\n",
      "completed 64 iterations\n",
      "[3.8735340747475977, 3.8748614491825872]\n",
      "completed 66 iterations\n",
      "completed 66 iterations\n",
      "[478.18850318240402, 483.72637832125798]\n",
      "completed 66 iterations\n",
      "completed 66 iterations\n",
      "[1.9969116796589315, 1.9969116796589315]\n",
      "completed 64 iterations\n",
      "completed 64 iterations\n",
      "[1.6161928858797385, 1.6161928858797385]\n",
      "##   1 ## market for waste sealing sheet, polyvinylchloride [RoW]\n",
      "completed 56 iterations\n",
      "[-2.0187928442785106]\n",
      "##   1 ## market for waste polyethylene terephthalate, for recycling, sorted [Europe without Switzerland]\n",
      "completed 65 iterations\n",
      "[0.28547842457663836]\n",
      "completed 67 iterations\n",
      "completed 67 iterations\n",
      "[5.3879422311137573, 5.3108727201489607]\n",
      "completed 61 iterations\n",
      "completed 63 iterations\n",
      "completed 63 iterations\n",
      "completed 63 iterations\n",
      "[21.386992350500169, 44.665969173770428, 24.253826872534262, 59.375164088077526]\n",
      "Process Entity (ref 06bd89a0-2faf-4dfb-ba1f-1ccf2299d450)\n",
      "origin: local.ecoinvent.3.4.cutoff\n",
      "reference: market for silicon, solar grade [GLO] has Output:     silicon, solar grade (CAS 7440-21-3) [CPC: 342: Basic inorganic chemicals n.e.c.] [kg]\n",
      "            Name: market for silicon, solar grade\n",
      "         Comment: no comment.\n",
      " Classifications: ['ISIC rev.4 ecoinvent: 2011:Manufacture of basic chemicals', 'EcoSpold01Categories: metals/refinement']\n",
      "    SpatialScope: GLO\n",
      "ParentActivityId: 7e33fad7-a2bc-41a8-a088-54fa592ef5e5\n",
      "   TemporalScope: {'begin': '2011-01-01', 'end': '2017-12-31'}\n",
      "\n",
      "Ratio:    2.77623 | [21.386992350500169, 44.665969173770428, 24.253826872534262, 59.375164088077526]\n",
      "##   1 ## market for titanium, primary [GLO]\n",
      "completed 66 iterations\n",
      "[31.278514538161858]\n",
      "completed 68 iterations\n",
      "completed 68 iterations\n",
      "[3251941.9672460714, 3268198.9691005829]\n",
      "##   1 ## market for potato seed, Swiss integrated production, at farm [GLO]\n",
      "completed 67 iterations\n",
      "[0.14090206636799371]\n",
      "##   1 ## market for molybdenum trioxide [GLO]\n",
      "completed 63 iterations\n",
      "[44.666254112784308]\n",
      "##   1 ## market for used refrigeration machine, carbon dioxide, liquid as refrigerant [GLO]\n",
      "completed 61 iterations\n",
      "[-43.700816496711987]\n",
      "completed 65 iterations\n",
      "completed 65 iterations\n",
      "[3.3987290492039963, 4.9486198968015929]\n",
      "completed 67 iterations\n",
      "completed 67 iterations\n",
      "completed 67 iterations\n",
      "[11.4824652961375, 11.508394788478631, 11.887622927110316]\n",
      "completed 64 iterations\n",
      "completed 65 iterations\n",
      "[0.95409706622701607, 1.3572708187182694]\n",
      "completed 67 iterations\n",
      "completed 66 iterations\n",
      "completed 68 iterations\n",
      "completed 66 iterations\n",
      "completed 67 iterations\n",
      "completed 67 iterations\n",
      "[0.8089340826350363, 0.75751138331459555, 0.8801233226631866, 1.4634655480478167, 2.5359961981174264, 0.877674100027523]\n",
      "Process Entity (ref 07fdc502-b8f8-44f4-a937-fa25b8e4d539)\n",
      "origin: local.ecoinvent.3.4.cutoff\n",
      "reference: market for sunflower seed [GLO] has Output:     sunflower seed [By-product classification: allocatable product] [kg]\n",
      "            Name: market for sunflower seed\n",
      "         Comment: no comment.\n",
      " Classifications: ['ISIC rev.4 ecoinvent: 0111:Growing of cereals (except rice), leguminous crops and oil seeds', 'EcoSpold01Categories: agricultural production/plant production']\n",
      "    SpatialScope: GLO\n",
      "ParentActivityId: f6bfacc8-e14b-4784-9e7c-74c9037abce3\n",
      "   TemporalScope: {'begin': '2011-01-01', 'end': '2017-12-31'}\n",
      "\n",
      "Ratio:     3.3478 | [0.8089340826350363, 0.75751138331459555, 0.8801233226631866, 1.4634655480478167, 2.5359961981174264, 0.877674100027523]\n",
      "##   1 ## market for rainwater mineral oil storage [RoW]\n",
      "completed 65 iterations\n",
      "[-0.40251336334761761]\n",
      "##   1 ## market for cable, three-conductor cable [GLO]\n",
      "completed 65 iterations\n",
      "[3.6980330938420694]\n",
      "completed 63 iterations\n",
      "completed 63 iterations\n",
      "[0.55824195514188002, 0.72033396998531374]\n",
      "##   1 ## market for waste sealing sheet, polyvinylchloride [CH]\n",
      "completed 55 iterations\n",
      "[-1.9879116516503927]\n",
      "completed 68 iterations\n",
      "completed 68 iterations\n",
      "[3.6032637173636655, 3.7690959101744634]\n",
      "completed 59 iterations\n",
      "completed 68 iterations\n",
      "completed 59 iterations\n",
      "[2.5119439418796579, 3.17058605107189, 2.8952825636580157]\n",
      "completed 61 iterations\n",
      "completed 60 iterations\n",
      "[-0.040514247055607369, -1.0676776652017856]\n",
      "Process Entity (ref 088a006c-286f-4b90-af0c-91125756095d)\n",
      "origin: local.ecoinvent.3.4.cutoff\n",
      "reference: market for waste graphical paper [Europe without Switzerland] has Output:     waste graphical paper [CPC: 39990: Other wastes n.e.c.] [kg]\n",
      "            Name: market for waste graphical paper\n",
      "         Comment: The waste graphical paper is treated in the same place as it is produced. That is why regional market activities are in this case adequate.\n",
      "The same transport distances as in the global market are used.\n",
      " Classifications: ['ISIC rev.4 ecoinvent: 3821:Treatment and disposal of non-hazardous waste', 'EcoSpold01Categories: waste management/municipal incineration']\n",
      "    SpatialScope: Europe without Switzerland\n",
      "ParentActivityId: 21c20bc4-e7d9-4b72-8935-f7813d292626\n",
      "   TemporalScope: {'begin': '2011-01-01', 'end': '2017-12-31'}\n",
      "\n",
      "Ratio:    26.3531 | [-0.040514247055607369, -1.0676776652017856]\n",
      "completed 66 iterations\n",
      "completed 66 iterations\n",
      "[338.50544928856567, 349.83959749714336]\n",
      "completed 67 iterations\n",
      "completed 67 iterations\n",
      "[19.584387332879597, 19.849569973826192]\n",
      "completed 67 iterations\n",
      "completed 67 iterations\n",
      "[6.2634423954677869, 6.4661480617944003]\n",
      "##   1 ## market for inert waste, for final disposal [CH]\n",
      "completed 56 iterations\n",
      "[-0.0042680613018444939]\n",
      "##   1 ## market for process-specific burdens, residual material landfill [Europe without Switzerland]\n",
      "completed 63 iterations\n",
      "[0.0031028213851660587]\n",
      "##   1 ## market for gravel, crushed [CH]\n",
      "completed 65 iterations\n",
      "[0.0038994293292988827]\n",
      "##   1 ## market for mechanical treatment facility, waste electric and electronic equipment [GLO]\n",
      "completed 69 iterations\n",
      "[4818446.183992316]\n",
      "completed 64 iterations\n",
      "completed 64 iterations\n",
      "[1.0292583089865972, 1.1266727377061883]\n",
      "completed 64 iterations\n",
      "completed 64 iterations\n",
      "[0.099760962865826322, 0.1070678075380205]\n",
      "##   1 ## market for sodium persulfate [GLO]\n",
      "completed 67 iterations\n",
      "[1.5672462539921623]\n",
      "completed 59 iterations\n",
      "completed 59 iterations\n",
      "[-0.0075967925568521466, -0.010555348034256304]\n",
      "##   1 ## market for mounting, surface mount technology, Pb-free solder [GLO]\n",
      "completed 69 iterations\n",
      "[8.7594212764870107]\n",
      "completed 69 iterations\n",
      "completed 69 iterations\n",
      "[5.0247705001350047, 5.4818917366380306]\n",
      "##   1 ## market for micro gas turbine, 100kW electrical [GLO]\n",
      "completed 67 iterations\n",
      "[18900.939821915694]\n",
      "completed 65 iterations\n",
      "completed 65 iterations\n",
      "[32.013789660869854, 35.909969605905779]\n",
      "##   1 ## market for fan, for power supply unit, desktop computer [GLO]\n",
      "completed 70 iterations\n",
      "[15.323305925522613]\n",
      "##   1 ## market for waste bulk iron, excluding reinforcement [CH]\n",
      "completed 65 iterations\n",
      "[-0.00038226640786888019]\n",
      "##   1 ## market for lead smelter slag [GLO]\n",
      "completed 59 iterations\n",
      "[-0.0081713026059944231]\n",
      "completed 66 iterations\n",
      "completed 66 iterations\n",
      "[17.899959788507537, 16.199156061043997]\n",
      "completed 66 iterations\n",
      "completed 66 iterations\n",
      "[2.289050651235879, 2.4580054635605233]\n",
      "completed 62 iterations\n",
      "completed 63 iterations\n",
      "[7188.7341109372692, 10245.934559500067]\n",
      "##   1 ## market for waste emulsion paint, separated [GLO]\n",
      "completed 61 iterations\n",
      "[-0.41971275800306129]\n",
      "completed 59 iterations\n",
      "completed 66 iterations\n",
      "completed 59 iterations\n",
      "completed 66 iterations\n",
      "[0.33176615567582224, 0.51520464354268725, 0.3823957848268052, 0.81234081239073752]\n",
      "Process Entity (ref 0a60210e-f142-47a5-8114-a9cac741e186)\n",
      "origin: local.ecoinvent.3.4.cutoff\n",
      "reference: market for calcium chloride [GLO] has Output:     calcium chloride (CAS 010043-52-4) [CPC: 34240: Phosphates of triammonium; salts and peroxysalts of inorganic acids and metals n.e.c.] [kg]\n",
      "            Name: market for calcium chloride\n",
      "         Comment: This is a constrained market. The justification for a market constraint is included in the comment field of the conditional exchange. \n",
      " Classifications: ['ISIC rev.4 ecoinvent: 2011:Manufacture of basic chemicals']\n",
      "    SpatialScope: GLO\n",
      "ParentActivityId: 2fce9f63-7096-4f37-8f4f-c2ee89e09bd1\n",
      "   TemporalScope: {'begin': '2012-01-01', 'end': '2017-12-31'}\n",
      "\n",
      "Ratio:    2.44853 | [0.33176615567582224, 0.51520464354268725, 0.3823957848268052, 0.81234081239073752]\n",
      "##   1 ## market for sodium sulfide [GLO]\n",
      "completed 68 iterations\n",
      "[3.1826311072629379]\n",
      "completed 68 iterations\n",
      "completed 68 iterations\n",
      "[4.3133025398497491, 4.4902224827875559]\n",
      "##   1 ## market for waste polyethylene, for recycling, unsorted [CH]\n",
      "exact result\n",
      "completed 0 iterations\n",
      "[]\n",
      "completed 66 iterations\n",
      "completed 66 iterations\n",
      "completed 66 iterations\n",
      "[0.016033737748725466, 0.016556489869774881, 0.020159161839637323]\n",
      "completed 66 iterations\n",
      "completed 66 iterations\n",
      "[0.91162024871155556, 0.93685913034493062]\n",
      "completed 67 iterations\n",
      "completed 67 iterations\n",
      "[4.2095036199090208, 4.304615764332131]\n",
      "##   1 ## market for wind power plant, 2MW, offshore, fixed parts [GLO]\n",
      "completed 66 iterations\n",
      "[739004.87927040912]\n",
      "completed 59 iterations\n",
      "completed 63 iterations\n",
      "completed 62 iterations\n",
      "completed 63 iterations\n",
      "[-0.0078340800416225216, -0.075427537500183578, -0.033896260077905888, -0.082604204095769129]\n",
      "Process Entity (ref 0b5cebe7-a957-4ac5-913c-10dc372bfa36)\n",
      "origin: local.ecoinvent.3.4.cutoff\n",
      "reference: market for raw sewage sludge [GLO] has Output:     raw sewage sludge [CPC: 39920: Sewage sludge] [kg]\n",
      "            Name: market for raw sewage sludge\n",
      "         Comment: This product is generally considered to be used at the production site.  Therefore, the market does not contain any transport.\n",
      " Classifications: ['ISIC rev.4 ecoinvent: 3821:Treatment and disposal of non-hazardous waste', 'EcoSpold01Categories: waste management/municipal incineration']\n",
      "    SpatialScope: GLO\n",
      "ParentActivityId: 23700c44-343a-43e1-9928-806e474e4bd3\n",
      "   TemporalScope: {'begin': '2011-01-01', 'end': '2017-12-31'}\n",
      "\n",
      "Ratio:    10.5442 | [-0.0078340800416225216, -0.075427537500183578, -0.033896260077905888, -0.082604204095769129]\n",
      "completed 69 iterations\n",
      "completed 69 iterations\n",
      "[35.52618645583761, 35.52618645583761]\n",
      "##   1 ## market for water, deionised, from tap water, at user [Europe without Switzerland]\n",
      "completed 52 iterations\n",
      "[0.00096102242947113147]\n",
      "##   1 ## market for wastewater, from residence [RoW]\n",
      "completed 65 iterations\n",
      "[-0.56887661655399058]\n",
      "##   1 ## market for recultivation, shale quarry [GLO]\n",
      "completed 64 iterations\n",
      "[0.685415834665143]\n",
      "completed 67 iterations\n",
      "completed 67 iterations\n",
      "[61.091902457047503, 63.224199063523074]\n",
      "completed 60 iterations\n",
      "completed 58 iterations\n",
      "completed 61 iterations\n",
      "[-0.012582145310894469, -0.0091329462881414129, -0.011266320814807385]\n",
      "##   1 ## market for green manure, Swiss integrated production, until April [RoW]\n",
      "completed 68 iterations\n",
      "[535.68515895759731]\n",
      "completed 66 iterations\n",
      "completed 66 iterations\n",
      "completed 66 iterations\n",
      "completed 66 iterations\n",
      "completed 66 iterations\n",
      "completed 66 iterations\n",
      "[0.099403769623024441, 0.051289795809654128, 0.070770401833238544, 0.19355927161796149, 0.099160144063668312, 0.13738144685677742]\n",
      "Process Entity (ref 0ca66a77-4293-410c-8b09-72ddb9cf335c)\n",
      "origin: local.ecoinvent.3.4.cutoff\n"
     ]
    },
    {
     "ename": "KeyboardInterrupt",
     "evalue": "",
     "output_type": "error",
     "traceback": [
      "\u001b[0;31m---------------------------------------------------------------------------\u001b[0m",
      "\u001b[0;31mKeyboardInterrupt\u001b[0m                         Traceback (most recent call last)",
      "\u001b[0;32m<ipython-input-118-cc9700383f23>\u001b[0m in \u001b[0;36m<module>\u001b[0;34m()\u001b[0m\n\u001b[0;32m----> 1\u001b[0;31m \u001b[0mnontrivial_markets\u001b[0m \u001b[0;34m=\u001b[0m \u001b[0;34m[\u001b[0m\u001b[0mk\u001b[0m \u001b[0;32mfor\u001b[0m \u001b[0mk\u001b[0m \u001b[0;32min\u001b[0m \u001b[0m_mg\u001b[0m\u001b[0;34m]\u001b[0m\u001b[0;34m\u001b[0m\u001b[0m\n\u001b[0m",
      "\u001b[0;32m<ipython-input-118-cc9700383f23>\u001b[0m in \u001b[0;36m<listcomp>\u001b[0;34m(.0)\u001b[0m\n\u001b[0;32m----> 1\u001b[0;31m \u001b[0mnontrivial_markets\u001b[0m \u001b[0;34m=\u001b[0m \u001b[0;34m[\u001b[0m\u001b[0mk\u001b[0m \u001b[0;32mfor\u001b[0m \u001b[0mk\u001b[0m \u001b[0;32min\u001b[0m \u001b[0m_mg\u001b[0m\u001b[0;34m]\u001b[0m\u001b[0;34m\u001b[0m\u001b[0m\n\u001b[0m",
      "\u001b[0;32m<ipython-input-108-bca15a04fbc9>\u001b[0m in \u001b[0;36mgenerate_nontrivial_markets\u001b[0;34m()\u001b[0m\n\u001b[1;32m     21\u001b[0m             \u001b[0;32mif\u001b[0m \u001b[0;36m1\u001b[0m \u001b[0;34m<\u001b[0m \u001b[0m_ratio\u001b[0m \u001b[0;34m<\u001b[0m \u001b[0;36m2\u001b[0m\u001b[0;34m:\u001b[0m\u001b[0;34m\u001b[0m\u001b[0m\n\u001b[1;32m     22\u001b[0m                 \u001b[0;32mcontinue\u001b[0m\u001b[0;34m\u001b[0m\u001b[0m\n\u001b[0;32m---> 23\u001b[0;31m             \u001b[0m_market\u001b[0m\u001b[0;34m.\u001b[0m\u001b[0mshow\u001b[0m\u001b[0;34m(\u001b[0m\u001b[0;34m)\u001b[0m\u001b[0;34m\u001b[0m\u001b[0m\n\u001b[0m\u001b[1;32m     24\u001b[0m             \u001b[0mprint\u001b[0m\u001b[0;34m(\u001b[0m\u001b[0;34m'\\nRatio: %10g | %s'\u001b[0m \u001b[0;34m%\u001b[0m \u001b[0;34m(\u001b[0m\u001b[0m_ratio\u001b[0m\u001b[0;34m,\u001b[0m \u001b[0m_vals\u001b[0m\u001b[0;34m)\u001b[0m\u001b[0;34m)\u001b[0m\u001b[0;34m\u001b[0m\u001b[0m\n\u001b[1;32m     25\u001b[0m             \u001b[0;32myield\u001b[0m \u001b[0m_market\u001b[0m\u001b[0;34m\u001b[0m\u001b[0m\n",
      "\u001b[0;32m/data/GitHub/lca-tools/lcatools/entities/entities.py\u001b[0m in \u001b[0;36mshow\u001b[0;34m(self)\u001b[0m\n\u001b[1;32m    307\u001b[0m         \u001b[0;32mif\u001b[0m \u001b[0mself\u001b[0m\u001b[0;34m.\u001b[0m\u001b[0mentity_type\u001b[0m \u001b[0;34m==\u001b[0m \u001b[0;34m'process'\u001b[0m\u001b[0;34m:\u001b[0m\u001b[0;34m\u001b[0m\u001b[0m\n\u001b[1;32m    308\u001b[0m             \u001b[0;32mfor\u001b[0m \u001b[0mi\u001b[0m \u001b[0;32min\u001b[0m \u001b[0mself\u001b[0m\u001b[0;34m.\u001b[0m\u001b[0mreference_entity\u001b[0m\u001b[0;34m:\u001b[0m\u001b[0;34m\u001b[0m\u001b[0m\n\u001b[0;32m--> 309\u001b[0;31m                 \u001b[0mprint\u001b[0m\u001b[0;34m(\u001b[0m\u001b[0;34m'reference: %s'\u001b[0m \u001b[0;34m%\u001b[0m \u001b[0mi\u001b[0m\u001b[0;34m)\u001b[0m\u001b[0;34m\u001b[0m\u001b[0m\n\u001b[0m\u001b[1;32m    310\u001b[0m         \u001b[0;32melse\u001b[0m\u001b[0;34m:\u001b[0m\u001b[0;34m\u001b[0m\u001b[0m\n\u001b[1;32m    311\u001b[0m             \u001b[0mprint\u001b[0m\u001b[0;34m(\u001b[0m\u001b[0;34m'reference: %s'\u001b[0m \u001b[0;34m%\u001b[0m \u001b[0mself\u001b[0m\u001b[0;34m.\u001b[0m\u001b[0mreference_entity\u001b[0m\u001b[0;34m)\u001b[0m\u001b[0;34m\u001b[0m\u001b[0m\n",
      "\u001b[0;32m/data/GitHub/lca-tools/lcatools/exchanges.py\u001b[0m in \u001b[0;36m__str__\u001b[0;34m(self)\u001b[0m\n\u001b[1;32m    200\u001b[0m \u001b[0;34m\u001b[0m\u001b[0m\n\u001b[1;32m    201\u001b[0m     \u001b[0;32mdef\u001b[0m \u001b[0m__str__\u001b[0m\u001b[0;34m(\u001b[0m\u001b[0mself\u001b[0m\u001b[0;34m)\u001b[0m\u001b[0;34m:\u001b[0m\u001b[0;34m\u001b[0m\u001b[0m\n\u001b[0;32m--> 202\u001b[0;31m         \u001b[0;32mreturn\u001b[0m \u001b[0;34m'%s has %s: %s %s'\u001b[0m \u001b[0;34m%\u001b[0m \u001b[0;34m(\u001b[0m\u001b[0mself\u001b[0m\u001b[0;34m.\u001b[0m\u001b[0mprocess\u001b[0m\u001b[0;34m,\u001b[0m \u001b[0mself\u001b[0m\u001b[0;34m.\u001b[0m\u001b[0mdirection\u001b[0m\u001b[0;34m,\u001b[0m \u001b[0mself\u001b[0m\u001b[0;34m.\u001b[0m\u001b[0m_tflow\u001b[0m\u001b[0;34m,\u001b[0m \u001b[0mself\u001b[0m\u001b[0;34m.\u001b[0m\u001b[0munit\u001b[0m\u001b[0;34m)\u001b[0m\u001b[0;34m\u001b[0m\u001b[0m\n\u001b[0m\u001b[1;32m    203\u001b[0m \u001b[0;34m\u001b[0m\u001b[0m\n\u001b[1;32m    204\u001b[0m     \u001b[0;32mdef\u001b[0m \u001b[0mf_view\u001b[0m\u001b[0;34m(\u001b[0m\u001b[0mself\u001b[0m\u001b[0;34m)\u001b[0m\u001b[0;34m:\u001b[0m\u001b[0;34m\u001b[0m\u001b[0m\n",
      "\u001b[0;32m/data/GitHub/lca-tools/lcatools/exchanges.py\u001b[0m in \u001b[0;36m_tflow\u001b[0;34m(self)\u001b[0m\n\u001b[1;32m    197\u001b[0m             \u001b[0;34m'node'\u001b[0m\u001b[0;34m:\u001b[0m \u001b[0;34m'(#) '\u001b[0m\u001b[0;34m\u001b[0m\u001b[0m\n\u001b[1;32m    198\u001b[0m         }[self.terminates_to]\n\u001b[0;32m--> 199\u001b[0;31m         \u001b[0;32mreturn\u001b[0m \u001b[0mtmark\u001b[0m \u001b[0;34m+\u001b[0m \u001b[0mstr\u001b[0m\u001b[0;34m(\u001b[0m\u001b[0mself\u001b[0m\u001b[0;34m.\u001b[0m\u001b[0mflow\u001b[0m\u001b[0;34m)\u001b[0m\u001b[0;34m\u001b[0m\u001b[0m\n\u001b[0m\u001b[1;32m    200\u001b[0m \u001b[0;34m\u001b[0m\u001b[0m\n\u001b[1;32m    201\u001b[0m     \u001b[0;32mdef\u001b[0m \u001b[0m__str__\u001b[0m\u001b[0;34m(\u001b[0m\u001b[0mself\u001b[0m\u001b[0;34m)\u001b[0m\u001b[0;34m:\u001b[0m\u001b[0;34m\u001b[0m\u001b[0m\n",
      "\u001b[0;32m/data/GitHub/lca-tools/lcatools/entities/flows.py\u001b[0m in \u001b[0;36m__str__\u001b[0;34m(self)\u001b[0m\n\u001b[1;32m    141\u001b[0m         \u001b[0;32mif\u001b[0m \u001b[0mlen\u001b[0m\u001b[0;34m(\u001b[0m\u001b[0mcas\u001b[0m\u001b[0;34m)\u001b[0m \u001b[0;34m>\u001b[0m \u001b[0;36m0\u001b[0m\u001b[0;34m:\u001b[0m\u001b[0;34m\u001b[0m\u001b[0m\n\u001b[1;32m    142\u001b[0m             \u001b[0mcas\u001b[0m \u001b[0;34m=\u001b[0m \u001b[0;34m' (CAS '\u001b[0m \u001b[0;34m+\u001b[0m \u001b[0mcas\u001b[0m \u001b[0;34m+\u001b[0m \u001b[0;34m')'\u001b[0m\u001b[0;34m\u001b[0m\u001b[0m\n\u001b[0;32m--> 143\u001b[0;31m         \u001b[0mcomp\u001b[0m \u001b[0;34m=\u001b[0m \u001b[0mself\u001b[0m\u001b[0;34m.\u001b[0m\u001b[0m_d\u001b[0m\u001b[0;34m[\u001b[0m\u001b[0;34m'Compartment'\u001b[0m\u001b[0;34m]\u001b[0m\u001b[0;34m[\u001b[0m\u001b[0;34m-\u001b[0m\u001b[0;36m1\u001b[0m\u001b[0;34m]\u001b[0m  \u001b[0;31m# '', '.join((i for i in self._d['Compartment'] if i is not None))\u001b[0m\u001b[0;34m\u001b[0m\u001b[0m\n\u001b[0m\u001b[1;32m    144\u001b[0m         \u001b[0;32mreturn\u001b[0m \u001b[0;34m'%s%s [%s]'\u001b[0m \u001b[0;34m%\u001b[0m \u001b[0;34m(\u001b[0m\u001b[0mself\u001b[0m\u001b[0;34m.\u001b[0m\u001b[0m_d\u001b[0m\u001b[0;34m[\u001b[0m\u001b[0;34m'Name'\u001b[0m\u001b[0;34m]\u001b[0m\u001b[0;34m,\u001b[0m \u001b[0mcas\u001b[0m\u001b[0;34m,\u001b[0m \u001b[0mcomp\u001b[0m\u001b[0;34m)\u001b[0m\u001b[0;34m\u001b[0m\u001b[0m\n\u001b[1;32m    145\u001b[0m \u001b[0;34m\u001b[0m\u001b[0m\n",
      "\u001b[0;31mKeyboardInterrupt\u001b[0m: "
     ]
    }
   ],
   "source": [
    "nontrivial_markets = [k for k in _mg]"
   ]
  },
  {
   "cell_type": "code",
   "execution_count": 86,
   "metadata": {
    "collapsed": false,
    "deletable": true,
    "editable": true
   },
   "outputs": [
    {
     "name": "stdout",
     "output_type": "stream",
     "text": [
      "market for electricity, low voltage [IN-Southern grid]\n",
      " 0 Output: {*} [ ---  [kWh]]     electricity, low voltage [CPC: 17100: Electrical energy]\n"
     ]
    },
    {
     "data": {
      "text/plain": [
       "[<lcatools.exchanges.ExchangeValue at 0x7f37eb314390>]"
      ]
     },
     "execution_count": 86,
     "metadata": {},
     "output_type": "execute_result"
    }
   ],
   "source": [
    "mkt.show_inventory()"
   ]
  },
  {
   "cell_type": "code",
   "execution_count": 89,
   "metadata": {
    "collapsed": false,
    "deletable": true,
    "editable": true
   },
   "outputs": [
    {
     "data": {
      "text/plain": [
       "'local.ecoinvent.3.4.cutoff.index__20180904'"
      ]
     },
     "execution_count": 89,
     "metadata": {},
     "output_type": "execute_result"
    }
   ],
   "source": [
    "e34c_i._archive.ref"
   ]
  },
  {
   "cell_type": "code",
   "execution_count": 58,
   "metadata": {
    "collapsed": false,
    "deletable": true,
    "editable": true
   },
   "outputs": [
    {
     "name": "stdout",
     "output_type": "stream",
     "text": [
      "Process Entity (ref 002d82f9-53b5-4f43-bce7-1960db0d5517)\n",
      "origin: local.ecoinvent.3.4.cutoff\n",
      "reference: market for coal tar [GLO] has Output:     coal tar [CPC: 34530: Roasted iron pyrites] [kg]\n",
      "            Name: market for coal tar\n",
      "         Comment: In this market, expert judgement was used to develop product specific transport distance estimations.\n",
      " Classifications: ['EcoSpold01Categories: oil/heating systems', 'ISIC rev.4 ecoinvent: 3530a: Steam and air conditioning supply based on liquid fuels ']\n",
      "    SpatialScope: GLO\n",
      "ParentActivityId: ad388f76-59fb-4278-97f3-9d8a2b65ce4c\n",
      "   TemporalScope: {'begin': '2012-01-01', 'end': '2017-12-31'}\n"
     ]
    }
   ],
   "source": [
    "mkt.show()"
   ]
  },
  {
   "cell_type": "code",
   "execution_count": 91,
   "metadata": {
    "collapsed": false,
    "deletable": true,
    "editable": true
   },
   "outputs": [
    {
     "data": {
      "text/plain": [
       "'d69294d7-8d64-4915-a896-9996a014c410'"
      ]
     },
     "execution_count": 91,
     "metadata": {},
     "output_type": "execute_result"
    }
   ],
   "source": [
    "_flow_ref = mkt.reference().flow.external_ref\n",
    "_flow_ref"
   ]
  },
  {
   "cell_type": "code",
   "execution_count": 92,
   "metadata": {
    "collapsed": false,
    "deletable": true,
    "editable": true
   },
   "outputs": [
    {
     "name": "stdout",
     "output_type": "stream",
     "text": [
      " [00]  Input:     [9.09e-09 [kg]] (#) sulfur hexafluoride, liquid (CAS 002551-62-4) [CPC: 342: Basic inorganic chemicals n.e.c.]\n",
      " [01]  Input:     [8.74e-08 [km]] (#) distribution network, electricity, low voltage [CPC: 532: Civil engineering works]\n",
      " [02]  Input:     [0.0312 [kWh]] (#) electricity, low voltage [CPC: 17100: Electrical energy]\n",
      " [03]  Input:     [0.969 [kWh]] (#) electricity, low voltage [CPC: 17100: Electrical energy]\n",
      " [04]  Input:     [0.0493 [kWh]] (o) electricity, low voltage [CPC: 17100: Electrical energy]\n",
      " [05] Output:     [9.09e-09 [kg]]     Sulfur hexafluoride (CAS 002551-62-4) [unspecified]\n"
     ]
    }
   ],
   "source": [
    "inv = enum(x for x in e34c_inv.get(mkt.external_ref).inventory(_flow_ref))"
   ]
  },
  {
   "cell_type": "code",
   "execution_count": 65,
   "metadata": {
    "collapsed": false,
    "deletable": true,
    "editable": true
   },
   "outputs": [
    {
     "data": {
      "text/plain": [
       "[False, False, True, True]"
      ]
     },
     "execution_count": 65,
     "metadata": {},
     "output_type": "execute_result"
    }
   ],
   "source": [
    "[z.flow.external_ref == _flow_ref for z in inv]"
   ]
  }
 ],
 "metadata": {
  "kernelspec": {
   "display_name": "lca-tools",
   "language": "python",
   "name": "lca-tools"
  },
  "language_info": {
   "codemirror_mode": {
    "name": "ipython",
    "version": 3
   },
   "file_extension": ".py",
   "mimetype": "text/x-python",
   "name": "python",
   "nbconvert_exporter": "python",
   "pygments_lexer": "ipython3",
   "version": "3.6.6"
  }
 },
 "nbformat": 4,
 "nbformat_minor": 2
}
